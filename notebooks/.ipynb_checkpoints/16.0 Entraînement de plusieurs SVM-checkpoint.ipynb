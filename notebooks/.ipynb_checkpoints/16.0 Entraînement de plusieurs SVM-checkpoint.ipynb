{
 "cells": [
  {
   "cell_type": "markdown",
   "metadata": {},
   "source": [
    "## Entraînement de plusieurs SVM\n",
    "\n",
    "L'entraînement de SVM sur des jeux de taille importante (1 million d'exemples) est impossible en un temps raisonnable à cause de la complexité de l'algorithme (voir notebook 15.0).\n",
    "\n",
    "Nous allons donc entraîner ici plusieurs SVM sur des jeux de tailles croissantes (10000, 20000, ...), afin d'estimer le temps d'entraînement nécessaire en fonction de la taille du jeu (suivant théoriquement une fonction cubique)"
   ]
  }
 ],
 "metadata": {
  "kernelspec": {
   "display_name": "Python 3",
   "language": "python",
   "name": "python3"
  },
  "language_info": {
   "codemirror_mode": {
    "name": "ipython",
    "version": 3
   },
   "file_extension": ".py",
   "mimetype": "text/x-python",
   "name": "python",
   "nbconvert_exporter": "python",
   "pygments_lexer": "ipython3",
   "version": "3.6.4"
  }
 },
 "nbformat": 4,
 "nbformat_minor": 2
}
