{
 "cells": [
  {
   "cell_type": "markdown",
   "metadata": {},
   "source": [
    "## Entraînement d'un premier SVM (DIST_REL_CC_SVM_01)\n",
    "\n",
    "Nous allons entraîner un modèle SVM (Support Vector Machine), afin de comparer les performances des réseaux de neurones à d'autres modèles d'apprentissage artificiel.\n",
    "\n",
    "Les données d'entrée que nous allons donner au modèle sont identiques aux données que l'on donne aux modèles DIST_REL_CC_02, à la différence que nous allons donner l'inverse des distances plutôt que les distances.\n",
    "En effet, l'influence des atomes sur la géométrie aux alentours des liaisons décroît avec la distance, et si les réseaux de neurones sont capables d'approximer la fonction inverse, les SVM ne le sont pas.\n",
    "\n",
    "Nous allons donc préparer un nouveau jeu de données, et entraîner un modèle SVM avec des paramètres naïfs, afin d'une part d'avoir une idée des performances des SVM, mais surtout d'avoir une idée du temps d'entraînement nécessaire, pour prévoir la taille des recherches par quadrillages des meilleurs paramères que nous allons effectuer par la suite.\n",
    "\n",
    "### JSON"
   ]
  },
  {
   "cell_type": "code",
   "execution_count": null,
   "metadata": {},
   "outputs": [],
   "source": []
  }
 ],
 "metadata": {
  "kernelspec": {
   "display_name": "Python 3",
   "language": "python",
   "name": "python3"
  },
  "language_info": {
   "codemirror_mode": {
    "name": "ipython",
    "version": 3
   },
   "file_extension": ".py",
   "mimetype": "text/x-python",
   "name": "python",
   "nbconvert_exporter": "python",
   "pygments_lexer": "ipython3",
   "version": "3.6.4"
  }
 },
 "nbformat": 4,
 "nbformat_minor": 2
}
