{
 "cells": [
  {
   "cell_type": "markdown",
   "metadata": {},
   "source": [
    "## Préparation des données et entraînement du modèle DIST_REL_C_02\n",
    "\n",
    "Nous allons ici entraîner un nouveau modèle dont l'objectif est de prédire des distances entre des atomes de carbone à partir des mêmes données que le modèle DIST_REL_C_01, à la différence que l'on va réduire la visibilité des atomes de la liaison. Précisément, pour chaque liaison carbone-carbone dont on souhaite prédire la distance, nous n'allons pas donner au modèle les informations sur l'ensemble des autres atomes de la molécule, mais seulement sur les atomes à moins de 2Å d'au moins un des atomes de la liaison. Cela devrait normalement aider le modèle à ne tenir compte que des informations ayant le plus d'influence sur la longueur de la liaison, et devrait particulièrement l'aider dans les cas de géométries singulières dans lesquelles la molécule est repliée sur elle même.\n",
    "\n",
    "Nous allons pour cela utiliser l'outil quchem_ia "
   ]
  }
 ],
 "metadata": {
  "kernelspec": {
   "display_name": "Python 3",
   "language": "python",
   "name": "python3"
  },
  "language_info": {
   "codemirror_mode": {
    "name": "ipython",
    "version": 3
   },
   "file_extension": ".py",
   "mimetype": "text/x-python",
   "name": "python",
   "nbconvert_exporter": "python",
   "pygments_lexer": "ipython3",
   "version": "3.6.4"
  }
 },
 "nbformat": 4,
 "nbformat_minor": 2
}
