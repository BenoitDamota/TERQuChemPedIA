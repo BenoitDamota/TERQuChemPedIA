{
 "cells": [
  {
   "cell_type": "markdown",
   "metadata": {},
   "source": [
    "### Préparation des données pour les modèles DIST_REL_CC, DIST_REL_CH et DIST_REL_OH et analyse de la distribution des longueurs de liaisons\n",
    "\n",
    "### Intention\n",
    "\n",
    "À la lumière des informations encourageantes extraites de l'analyse du modèle DIST_REL_C_01 (voir notebook 11.1), nous allons tenter de généraliser la méthode à plusieurs types de liaisons :\n",
    "\n",
    "* carbone-hydrogène (modèle DIST_REL_CH)\n",
    "* oxygène-hydrogène (modèle DIST_REL_OH)\n",
    "* carbone-carbone (modèle DIST_REL_CC)\n",
    "\n",
    "Le modèle DIST_REL_CC est donc identique au modèle DIST_REL_C_01, à la différence qu'on va l'entraîner sur plus d'exemples.\n",
    "\n",
    "\n",
    "### Méthodologie\n",
    "\n",
    "Nous allons de ce notebook générer les données d'entraînement pour chacun des modèles. Ces données auront les caractéristiques suivantes :\n",
    "\n",
    "* Extraites de molécules ne contenant pas d'atome plus lourd que le fluor\n",
    "* Extraites de molécules contenant entre 2 et 60 atomes\n",
    "* Les données sur les molécules sont des données convergées\n",
    "\n",
    "Chaque exemple du jeu de données correspondra aux informations concerant la longueur de la liaison entre deux atomes C-C, C-H ou O-H (en fonction du modèle associé au jeu de données).\n",
    "\n",
    "* Données d'entrée :\n",
    "    * Pour chaque exemple :\n",
    "        * Pour chaque atome n'intervenant pas dans la liaison :\n",
    "            * Le numéro atomique (encodé en one-hot-encoding)\n",
    "            * La masse atomique\n",
    "            * La classe positionnelle de l'atome par rapport à la liaison (voir notebook 9.1)\n",
    "            * La distance à chacun des deux atomes de la liaison\n",
    "            \n",
    "            \n",
    "\n",
    "* Données de sortie (cibles) :\n",
    "    * Pour chaque exemple :\n",
    "        * La distance entre les deux atomes de la liaison considérée\n",
    "        \n",
    "\n",
    "Une fois les jeux de données créés, nous entraîner un modèle par jeu de données, puis nous analyserons les prédictions de chacun des modèles sur des données de test que les modèles n'auront jamais vues (et que nous crééons également dans ce notebook).\n",
    "\n",
    "\n",
    "\n",
    "\n",
    "#### Chemin des fichiers"
   ]
  },
  {
   "cell_type": "code",
   "execution_count": 3,
   "metadata": {},
   "outputs": [],
   "source": [
    "# Données moléculaires d'origine\n",
    "train_riken_reduced_loc = \"../data/train_set_riken_v2_reduced.h5\"\n",
    "test_riken_reduced_loc = \"../data/test_set_riken_v2_reduced.h5\"\n",
    "minimal_reduced_loc = \"../data/minimal_set_riken_v2_reduced.h5\"\n",
    "complete_set = \"../data/riken_v2.h5\"\n",
    "\n",
    "# Jeux préparés pour le modèle DIST_REL_CC\n",
    "train_CC_prepared_input_loc = \"../data/DIST_REL_CC/train_set_prepared_input.h5\"\n",
    "train_CC_labels_loc = \"../data/DIST_REL_CC/train_set_labels.h5\"\n",
    "test_CC_prepared_input_loc = \"../data/DIST_REL_CC/test_set_prepared_input.h5\"\n",
    "test_CC_labels_loc = \"../data/DIST_REL_CC/test_set_labels.h5\"\n",
    "minimal_CC_prepared_input_loc = \"../data/DIST_REL_CC/minimal_set_prepared_input(+ids).h5\"\n",
    "minimal_CC_labels_loc = \"../data/DIST_REL_CC/minimal_set_labels(+ids).h5\"\n",
    "\n",
    "# Jeux préparés pour le modèle DIST_REL_CH\n",
    "train_CH_prepared_input_loc = \"../data/DIST_REL_CH/train_set_prepared_input.h5\"\n",
    "train_CH_labels_loc = \"../data/DIST_REL_CH/train_set_labels.h5\"\n",
    "test_CH_prepared_input_loc = \"../data/DIST_REL_CH/test_set_prepared_input.h5\"\n",
    "test_CH_labels_loc = \"../data/DIST_REL_CH/test_set_labels.h5\"\n",
    "\n",
    "# Jeux préparés pour le modèle DIST_REL_OH\n",
    "train_OH_prepared_input_loc = \"../data/DIST_REL_OH/train_set_prepared_input.h5\"\n",
    "train_OH_labels_loc = \"../data/DIST_REL_OH/train_set_labels.h5\"\n",
    "test_OH_prepared_input_loc = \"../data/DIST_REL_OH/test_set_prepared_input.h5\"\n",
    "test_OH_labels_loc = \"../data/DIST_REL_OH/test_set_labels.h5\"\n",
    "\n",
    "# Données de statistiques sur les distances entre les couples d'atomes considérés\n",
    "stats_train_CH = \"../data/stats/CH/CH_bonds_lengths_train_mol_size_2-60_elems_inf_Ne.h5\"\n",
    "stats_train_OH = \"../data/stats/OH/OH_bonds_lengths_train_mol_size_2-60_elems_inf_Ne.h5\"\n",
    "stats_train_CC = \"../data/stats/CC/CC_bonds_lengths_train_mol_size_2-60_elems_inf_Ne.h5\"\n",
    "\n",
    "stats_test_CH = \"../data/stats/CH/CH_bonds_lengths_test_mol_size_2-60_elems_inf_Ne.h5\"\n",
    "stats_test_OH = \"../data/stats/OH/OH_bonds_lengths_test_mol_size_2-60_elems_inf_Ne.h5\"\n",
    "stats_test_CC = \"../data/stats/CC/CC_bonds_lengths_test_mol_size_2-60_elems_inf_Ne.h5\"\n",
    "\n",
    "stats_total_CH = \"../data/stats/CH/CH_bonds_lengths_total_set.h5\"\n",
    "stats_total_OH = \"../data/stats/OH/OH_bonds_lengths_total_set.h5\"\n",
    "stats_total_CC = \"../data/stats/CC/CC_bonds_lengths_total_set.h5\"\n"
   ]
  },
  {
   "cell_type": "markdown",
   "metadata": {},
   "source": [
    "#### Constantes\n",
    "\n",
    "On définit ici les constantes concernant les numéros atomiques des atomes que l'on considère, et concernant les distances en deçà desquelles on considère qu'un couple d'atome partage une liaison. Ces distances sont calculées de la façon suivante : moyenne de la taille de la liaison + quatre fois l'écart-type."
   ]
  },
  {
   "cell_type": "code",
   "execution_count": 4,
   "metadata": {},
   "outputs": [],
   "source": [
    "H_ANUM = 1.\n",
    "C_ANUM = 6.\n",
    "O_ANUM = 8.\n",
    "\n",
    "DIST_MAX_CC = 1.6\n",
    "DIST_MAX_CH = 1.35\n",
    "DIST_MAX_OH = 1.25\n",
    "\n",
    "BATCH_SIZE = 20000"
   ]
  },
  {
   "cell_type": "markdown",
   "metadata": {},
   "source": [
    "#### Calcul de la distance entre deux atomes"
   ]
  },
  {
   "cell_type": "code",
   "execution_count": 5,
   "metadata": {},
   "outputs": [],
   "source": [
    "import numpy as np\n",
    "\n",
    "def calcul_distance(pt1, pt2):\n",
    "    \"\"\" Renvoie la distance entre deux points représentés par leurs coordonnées (x, y, z) dans deux tableaux\n",
    "    de forme (1, 3)\"\"\"\n",
    "    return np.sqrt(np.sum(np.square(np.diff(np.array([pt1, pt2]), axis=0))))"
   ]
  },
  {
   "cell_type": "markdown",
   "metadata": {},
   "source": [
    "#### Fonction de test si deux atomes partagent une liaison (en fonction de leurs positions et numéros atomiques)"
   ]
  },
  {
   "cell_type": "code",
   "execution_count": 6,
   "metadata": {},
   "outputs": [],
   "source": [
    "def existe_liaison(pos1, anum1, pos2, anum2):\n",
    "    \n",
    "    return ((anum1==C_ANUM and anum2==C_ANUM and calcul_distance(pos1, pos2) <= DIST_MAX_CC) or\n",
    "            (anum1==C_ANUM and anum2==H_ANUM and calcul_distance(pos1, pos2) <= DIST_MAX_CH) or\n",
    "            (anum1==O_ANUM and anum2==H_ANUM and calcul_distance(pos1, pos2) <= DIST_MAX_OH))"
   ]
  },
  {
   "cell_type": "markdown",
   "metadata": {},
   "source": [
    "#### Fonction renvoyant les distances d'un atome à deux autres atomes"
   ]
  },
  {
   "cell_type": "code",
   "execution_count": 7,
   "metadata": {},
   "outputs": [],
   "source": [
    "def calcul_distances(pt1, pt_ref1, pt_ref2):\n",
    "    return np.array([calcul_distance(pt1, pt_ref1), calcul_distance(pt1, pt_ref2)])"
   ]
  },
  {
   "cell_type": "markdown",
   "metadata": {},
   "source": [
    "#### Fonction renvoyant la classe positionnelle d'un atome en fonction de sa position et des positions des deux atomes de référence. Renvoie le résultat sous forme de one-hot-encoding"
   ]
  },
  {
   "cell_type": "code",
   "execution_count": 8,
   "metadata": {},
   "outputs": [],
   "source": [
    "def get_classe_pos(pt, pos_a1, pos_a2):\n",
    "    \n",
    "    # Initialisation du tableau de sortie\n",
    "    classes_pos = np.zeros(shape=(3,))\n",
    "    \n",
    "    # Calcul du vecteur A1_A2\n",
    "    vect = np.diff([pos_a1, pos_a2], axis=0)\n",
    "    \n",
    "    # Déclaration de la matrice contenant les coordonnées des trois points g, c et d\n",
    "    gcd_pos = np.empty(shape=(3, 3))\n",
    "    \n",
    "    # Calcul du point c\n",
    "    gcd_pos[1] = np.divide([np.sum([pos_a1, pos_a2], axis=0)], 2)\n",
    "\n",
    "    # Calcul des points g et d\n",
    "    gcd_pos[0] = gcd_pos[1] - vect\n",
    "    gcd_pos[2] = gcd_pos[1] + vect\n",
    "        \n",
    "    # Calcul de la matrice des positions répétées du point\n",
    "    pos = np.tile(pt, 3).reshape(3, 3)\n",
    "    \n",
    "    # Calcul des distances du point avec les points g, c et d\n",
    "    dists = np.sqrt(np.sum(np.square(np.diff([gcd_pos, pos], axis=0)[0]), axis=1))\n",
    "    \n",
    "    # On renvoie le résultat encodé avec la méthode du one hot encoding\n",
    "    classes_pos[np.argmin(dists)] = 1\n",
    "    return classes_pos\n",
    "    "
   ]
  },
  {
   "cell_type": "markdown",
   "metadata": {},
   "source": [
    "#### Fonction renvoyant le numéro de l'atome encodé en one-hot encoding (pour les atomes des deux premières lignes du tableau périodique)"
   ]
  },
  {
   "cell_type": "code",
   "execution_count": 9,
   "metadata": {},
   "outputs": [],
   "source": [
    "def get_anum_one_hot(z):\n",
    "    \n",
    "    if not 0 < z < 10:\n",
    "        raise RuntimeError(\"Atomic number must be between 1 and 9\")\n",
    "    \n",
    "    one_hot = np.zeros(shape=(9,))\n",
    "    one_hot[int(z)-1] = 1\n",
    "    return one_hot\n"
   ]
  },
  {
   "cell_type": "markdown",
   "metadata": {},
   "source": [
    "#### Fonction renvoyant les données préparées pour le RN pour une molécule"
   ]
  },
  {
   "cell_type": "code",
   "execution_count": 10,
   "metadata": {},
   "outputs": [],
   "source": [
    "def donnees_prep_RN_mol(coords_mol, anums_mol, amasses_mol, anum_1, anum_2, pubchem_id):\n",
    "    \"\"\" Fonction préparant les données à fournir aux modèles pour une molécule. On prend en entrée les\n",
    "        données décrivant la molécules (coordonnées, numéros atomiques et masses atomiques) ainsi que\n",
    "        les deux numéros atomiques des atomes dont on veut prédire la longueur de la liaison.\n",
    "        On itère ensuite sur tous les couples de ces deux numéros atomiques, puis pour ceux qui partagent\n",
    "        une liaison, pour chaque atome de la molécule privée des deux atomes du couple on créé une entrée\n",
    "        du modèle composée du numéro atomique de l'atome (one-hot), de la classe positionnelle de l'atome\n",
    "        (one-hot), de la masse atomique de l'atome et des distances de l'atome aux deux atomes du couple\n",
    "        considéré.\n",
    "        Pour chaque couple, la cible du modèle est la distance entre les deux atomes du couple \"\"\"\n",
    "    \n",
    "    taille_mol = len(coords_mol)\n",
    "    \n",
    "    inputs_RN = []\n",
    "    pubchem_ids = []\n",
    "    targets_RN = []\n",
    "    \n",
    "    if pubchem_id==53374730:\n",
    "        print(\"53374730 found\")\n",
    "        \n",
    "    if pubchem_id==62039612:\n",
    "        print(\"62039612 found\")\n",
    "        \n",
    "    if pubchem_id==5250958:\n",
    "        print(\"5250958 found\")\n",
    "    \n",
    "    if pubchem_id==59918640:\n",
    "        print(\"59918640 found\")\n",
    "        \n",
    "    if pubchem_id==29935400:\n",
    "        print(\"29935400 found\")\n",
    "        \n",
    "    if pubchem_id==15886996:\n",
    "        print(\"15886996 found\")\n",
    "        \n",
    "    if pubchem_id==60668230:\n",
    "        print(\"60668230 found\")\n",
    "    \n",
    "    \n",
    "    # On itère sur tous les atomes de la molécule\n",
    "    for i in range(taille_mol):\n",
    "\n",
    "        # On sélectionne le premier atome du couple\n",
    "        if anums_mol[i] == anum_1:\n",
    "\n",
    "            # On parcourt tous les atomes suivants\n",
    "            for j in range(i+1, taille_mol):\n",
    "\n",
    "                # On sélectionne le second atome du couple s'il existe une liaison avec le premier\n",
    "                if anums_mol[j] == anum_2 and existe_liaison(coords_mol[i], anum_1, coords_mol[j], anum_2):\n",
    "\n",
    "                    # On calcule la distance entre les deux atomes du couple\n",
    "                    dist_couple = calcul_distance(coords_mol[i], coords_mol[j])\n",
    "\n",
    "                    # On initialise l'entrée du RN pour le couple courant\n",
    "                    input_rn = np.empty(shape=(taille_mol-2, 15))\n",
    "\n",
    "                    input_rn_idx = 0\n",
    "\n",
    "                    # On itère sur tous les atomes de la molécule (en dehors des deux atomes du couple)\n",
    "                    for k in range(taille_mol):\n",
    "                        if k != i and k != j:\n",
    "\n",
    "                            # On enregistre le numéro et la masse atomique de l'atome\n",
    "                            input_rn[input_rn_idx][:9] = get_anum_one_hot(anums_mol[k])\n",
    "                            input_rn[input_rn_idx][9] = amasses_mol[k]\n",
    "\n",
    "                            # On enregistre les distances de l'atome aux deux atomes du couple\n",
    "                            input_rn[input_rn_idx][10:12] = calcul_distances(coords_mol[k], coords_mol[i],\n",
    "                                                                         coords_mol[j])\n",
    "\n",
    "                            # On enregistre la classe positionnelle de l'atome par rapport aux deux atomes\n",
    "                            # de carbone\n",
    "                            input_rn[input_rn_idx][12:15] = get_classe_pos(coords_mol[k], coords_mol[i], \n",
    "                                                                        coords_mol[j])    \n",
    "\n",
    "                            input_rn_idx += 1\n",
    "\n",
    "                    # On aplatit l'entrée du RN\n",
    "                    input_rn = np.array(input_rn)\n",
    "                    input_rn = input_rn.reshape(-1,)\n",
    "\n",
    "                    # On enregistre l'entrée et la cible du RN pour le couple courant\n",
    "                    inputs_RN.append(input_rn)\n",
    "\n",
    "                    # On enregistre la distance cible pour le couple d'atomes courant (en mÅ)\n",
    "                    targets_RN.append(dist_couple*1000)   \n",
    "\n",
    "                    # On enregistre l'id pubchem associé à la molécule dont on a extrait l'exemple\n",
    "                    pubchem_ids.append(pubchem_id)\n",
    "                    \n",
    "    if pubchem_ids!=[]:\n",
    "        \n",
    "        if pubchem_id not in pubchem_ids:\n",
    "            print(\"ERREUR\")\n",
    "            print(pubchem_ids)\n",
    "            print(pubchem_id)\n",
    "            \n",
    "    if 53374730 in pubchem_ids or 53374730. in pubchem_ids :\n",
    "        print(\"53374730 in output\")\n",
    "        \n",
    "    if 62039612 in pubchem_ids or 62039612. in pubchem_ids :\n",
    "        print(\"62039612 in output\")\n",
    "        \n",
    "    if 5250958 in pubchem_ids or 5250958. in pubchem_ids :\n",
    "        print(\"5250958 in output\")\n",
    "    \n",
    "    if 59918640 in pubchem_ids or 59918640. in pubchem_ids :\n",
    "        print(\"59918640 in output\")\n",
    "        \n",
    "    if 29935400 in pubchem_ids or 29935400. in pubchem_ids :\n",
    "        print(\"29935400 in output\")\n",
    "        \n",
    "    if 15886996 in pubchem_ids or 15886996. in pubchem_ids :\n",
    "        print(\"15886996 in output\")\n",
    "        \n",
    "    if 60668230 in pubchem_ids or 60668230. in pubchem_ids :\n",
    "        print(\"60668230 in output\")\n",
    "    \n",
    "            \n",
    "    return np.array(inputs_RN), np.array(targets_RN), np.array(pubchem_ids)\n",
    "            \n",
    "        \n"
   ]
  },
  {
   "cell_type": "markdown",
   "metadata": {},
   "source": [
    "#### Définition de la fonction de création du jeu de données"
   ]
  },
  {
   "cell_type": "code",
   "execution_count": 21,
   "metadata": {},
   "outputs": [],
   "source": [
    "import h5py\n",
    "import time\n",
    "\n",
    "\n",
    "def generer_donnees(original_dataset_loc, prepared_input_loc, labels_loc, anum1, anum2, nb_mol, batch_size):\n",
    "    \"\"\" Génère les entrées préparées et les labels pour le jeu de données, pour les couples d'atomes\n",
    "        possédant les numéros atomiques donnés, à partir des nb\\_mol premières molécules du jeu.\n",
    "        Enregistre en plus un fichier h5 contenant toutes les distances \"\"\"\n",
    "    \n",
    "    start_time = time.time()\n",
    "    \n",
    "    # On charge les données du jeu original en mémoire\n",
    "    original_dataset_h5 = h5py.File(original_dataset_loc, \"r\")\n",
    "    \n",
    "    # On créé les jeux de données d'entrée du RN et de labels\n",
    "    input_rn_dataset_h5 = h5py.File(prepared_input_loc, 'w')\n",
    "    labels_dataset_h5 = h5py.File(labels_loc, 'w')\n",
    "    \n",
    "    \n",
    "    try:\n",
    "        \n",
    "        varlen_floatarray = h5py.special_dtype(vlen=np.dtype(\"float32\"))\n",
    "        \n",
    "        input_dataset = input_rn_dataset_h5.create_dataset(\"inputs\", maxshape=(None,), shape=(0,),\n",
    "                                           dtype=varlen_floatarray, compression=\"gzip\", \n",
    "                                           chunks=True)\n",
    "        \n",
    "        ids_dataset = input_rn_dataset_h5.create_dataset(\"pubchem_ids\", maxshape=(None,), shape=(0,),\n",
    "                                          dtype=np.int32, compression=\"gzip\",\n",
    "                                          chunks=True)\n",
    "                                            \n",
    "\n",
    "        target_dataset = labels_dataset_h5.create_dataset(\"targets\", maxshape=(None,), shape=(0,),\n",
    "                                           dtype=np.float32, compression=\"gzip\", \n",
    "                                           chunks=True)\n",
    "        \n",
    "        x_min_batch = 0\n",
    "        x_max_batch = batch_size\n",
    "        dataset_curr_idx = 0\n",
    "        \n",
    "        nb_total_mol = len(np.array(original_dataset_h5[\"anums\"]))\n",
    "        datasets_curr_idx = 0\n",
    "        \n",
    "        while x_min_batch <= nb_total_mol:\n",
    "            \n",
    "            print(\"Nouveau batch (molécules de \"+str(x_min_batch)+\" à \"+str(min(x_max_batch, nb_total_mol))+\n",
    "                  \") --- \"+str(float(min(x_min_batch, nb_total_mol)/nb_total_mol*100))+\" %\")\n",
    "            \n",
    "            \n",
    "            # On charge en mémoire les coordonnées et les numéros atomiques des molécules du batch courant\n",
    "            input_coords = np.array(original_dataset_h5[\"riken_coords\"][:nb_mol][x_min_batch:x_max_batch])\n",
    "            input_nums = np.array(original_dataset_h5[\"anums\"][:nb_mol][x_min_batch:x_max_batch])\n",
    "            input_masses = np.array(original_dataset_h5[\"amasses\"][:nb_mol][x_min_batch:x_max_batch])\n",
    "            input_ids = np.array(original_dataset_h5[\"pubchem_id\"][:nb_mol][x_min_batch:x_max_batch])\n",
    "\n",
    "            \n",
    "            # On créé les tableaux pour le batch courant\n",
    "            inputs_batch = []\n",
    "            ids_batch = []\n",
    "            outputs_batch = []\n",
    "            \n",
    "            # On parcourt toutes les molécules du batch courant\n",
    "            for batch_idx in range(len(input_nums)):\n",
    "                \n",
    "                # On ne s'intéresse pas aux molécules contenenant des atomes plus lourds que le fluor (contrainte\n",
    "                # imposée par l'utilisation d'un one-hot encoding pour les numéros atomiques)\n",
    "                if max(input_nums[batch_idx])<10:\n",
    "                    \n",
    "                    # On calcule les entrées et sortie du RN pour la molécule courante (il peut y avoir plusieurs\n",
    "                    # entrées et plusieurs sorties s'il existe plusieurs couples de liaisons considérées\n",
    "                    # dans la molécule)\n",
    "                    curr_inputs_np, curr_outputs_np, curr_ids_np = donnees_prep_RN_mol(input_coords[batch_idx].reshape(-1, 3), \n",
    "                                                                        input_nums[batch_idx],\n",
    "                                                                        input_masses[batch_idx], anum1, anum2,\n",
    "                                                                        input_ids[batch_idx])\n",
    "                    \n",
    "                    # On ajoute les entrées et sorties aux tableaux du batch courant\n",
    "                    if len(curr_inputs_np)>0:\n",
    "                        inputs_batch.extend(curr_inputs_np)\n",
    "                        outputs_batch.extend(curr_outputs_np)\n",
    "                        ids_batch.extend(curr_ids_np)\n",
    "                        \n",
    "                        if 59918640. in curr_ids_np or 59918640 in curr_ids_np:\n",
    "                            print(\"Found for mol of id \"+str(input_ids[batch_idx]))\n",
    "                        \n",
    "                    \n",
    "            # Fin du batch\n",
    "            \n",
    "                \n",
    "            # On redimensionne les datasets\n",
    "            input_dataset.resize((input_dataset.shape[0]+len(inputs_batch),))\n",
    "            target_dataset.resize((target_dataset.shape[0]+len(inputs_batch),))\n",
    "            ids_dataset.resize((ids_dataset.shape[0]+len(inputs_batch),))\n",
    "            \n",
    "            for id in ids_batch:\n",
    "                if id==59918640 or id==59918640.:\n",
    "                    print(\"59918640 in ids_batch\")\n",
    "            \n",
    "            for id in np.array(ids_batch):\n",
    "                if id==59918640 or id==59918640.:\n",
    "                    print(\"59918640 in np ids_batch\")\n",
    "                    \n",
    "            # On écrit les données dans les datasets\n",
    "            input_dataset[datasets_curr_idx:datasets_curr_idx+len(inputs_batch)] = np.array(inputs_batch)\n",
    "            target_dataset[datasets_curr_idx:datasets_curr_idx+len(inputs_batch)] = np.array(outputs_batch)\n",
    "            ids_dataset[datasets_curr_idx:datasets_curr_idx+len(inputs_batch)] = np.array(ids_batch)\n",
    "            \n",
    "            \n",
    "            print(np.array(ids_dataset[datasets_curr_idx:datasets_curr_idx+len(inputs_batch)]))\n",
    "            print(np.array(ids_batch))\n",
    "\n",
    "            if np.array_equal(np.array(ids_dataset[datasets_curr_idx:datasets_curr_idx+len(inputs_batch)]),\n",
    "                              np.array(ids_batch)):\n",
    "                print(\"Tableaux identiques\")\n",
    "            else:\n",
    "                print(\"Tableaux différents\")\n",
    "            \n",
    "            \n",
    "            for id in np.array(ids_dataset[datasets_curr_idx:datasets_curr_idx+len(inputs_batch)]):\n",
    "                if id==59918640:\n",
    "                    print(\"59918640 written on disk\")\n",
    "            \n",
    "            datasets_curr_idx += len(inputs_batch)\n",
    "            x_min_batch += batch_size\n",
    "            x_max_batch += batch_size\n",
    "        \n",
    "            \n",
    "        input_rn_dataset_h5.flush()\n",
    "        labels_dataset_h5.flush()\n",
    "        \n",
    "        ids = np.array(input_rn_dataset_h5[\"pubchem_ids\"])\n",
    "        \n",
    "        \"\"\"  for i, identifiant in enumerate(ids): \n",
    "            if identifiant==59918640. or identifiant==59918640:\n",
    "                print(input_rn_dataset_h5[\"inputs\"][i])\"\"\"\n",
    "        \n",
    "        print(str(len(input_dataset))+\" exemples créés\")\n",
    "        print(\"--- %s seconds ---\" % (time.time() - start_time))\n",
    "            \n",
    "            \n",
    "    finally:\n",
    "        input_rn_dataset_h5.close()\n",
    "        labels_dataset_h5.close()\n",
    "        original_dataset_h5.close()\n"
   ]
  },
  {
   "cell_type": "markdown",
   "metadata": {},
   "source": [
    "### Recherche du nombre de molécules à partir desquelles on va extraire les données pour chaque couple d'atomes\n",
    "\n",
    "Les différents couples (CC, CH, OH) étant plus ou moins représentés dans les données, nous allons rechercher le nombre de molécules à partir desquelles nous allons extraire les données pour chaque classe.\n",
    "\n",
    "Nous souhaitons obtenir pour chaque classe un jeu d'entraînement contenant environ 4 millions d'exemples et un jeu de test contenant environ 800 000 exemples.\n",
    "\n",
    "Nous allons pour cela chercher le nombre d'exemples que l'on obtient lorsqu'on applique l'algorithme de création des jeux de données aux 5000 premières molécules du jeu minimal, puis déterminer le nombre de molécules à partir desquelles on va extraire les exemples pour chaque jeu (test, entraînement) et chaque couple par calculs de proportions, sachant que l'on sait qu'on obtient 2 millions d'exemples pour CC lorsqu'on extrait les données des 400 000 premières molécules.\n",
    "\n",
    "On suppose donc dans ces calculs que le jeu de données est homogène.\n",
    "\n",
    "#### Modèle DIST_REL_CC"
   ]
  },
  {
   "cell_type": "code",
   "execution_count": 14,
   "metadata": {},
   "outputs": [
    {
     "data": {
      "text/plain": [
       "'generer_donnees(minimal_reduced_loc, train_CC_prepared_input_loc, train_CC_labels_loc, C_ANUM, C_ANUM,\\n                5000, 1000)'"
      ]
     },
     "execution_count": 14,
     "metadata": {},
     "output_type": "execute_result"
    }
   ],
   "source": [
    "\"\"\"generer_donnees(minimal_reduced_loc, train_CC_prepared_input_loc, train_CC_labels_loc, C_ANUM, C_ANUM,\n",
    "                5000, 1000)\"\"\""
   ]
  },
  {
   "cell_type": "markdown",
   "metadata": {},
   "source": [
    "Jeu d'entraînement : 800 000 molécules\n",
    "\n",
    "Jeu de test : 160 000 molécules\n",
    "\n",
    "#### Modèle DIST_REL_OH"
   ]
  },
  {
   "cell_type": "code",
   "execution_count": 24,
   "metadata": {},
   "outputs": [
    {
     "name": "stdout",
     "output_type": "stream",
     "text": [
      "Molécule courante : 0 (0.0 %)\n",
      "Molécule courante : 1000 (20.0 %)\n",
      "Molécule courante : 2000 (40.0 %)\n",
      "Molécule courante : 3000 (60.0 %)\n",
      "Molécule courante : 4000 (80.0 %)\n",
      "Molécule courante : 4999 (99.98 %)\n",
      "1942 exemples créés\n",
      "--- 6.448113441467285 seconds ---\n"
     ]
    }
   ],
   "source": [
    "\"\"\"generer_donnees(minimal_reduced_loc, train_OH_prepared_input_loc, train_OH_labels_loc, O_ANUM, H_ANUM,\n",
    "                5000, 1000)\"\"\""
   ]
  },
  {
   "cell_type": "markdown",
   "metadata": {},
   "source": [
    "Jeu d'entraînement : 16 000 000 molécules (nous ne disposons pas de tant de données, nous aurons donc moins d'exemples, environ 750 000)\n",
    "\n",
    "Jeu de test : 3 200 000 molécules\n",
    "\n",
    "#### Modèle DIST_REL_CH"
   ]
  },
  {
   "cell_type": "code",
   "execution_count": 17,
   "metadata": {
    "collapsed": true
   },
   "outputs": [
    {
     "name": "stdout",
     "output_type": "stream",
     "text": [
      "Nouveau batch (molécules de 0 à 1000) --- 1.0 %\n"
     ]
    },
    {
     "ename": "KeyboardInterrupt",
     "evalue": "",
     "output_type": "error",
     "traceback": [
      "\u001b[0;31m---------------------------------------------------------------------------\u001b[0m",
      "\u001b[0;31mKeyboardInterrupt\u001b[0m                         Traceback (most recent call last)",
      "\u001b[0;32m<ipython-input-17-7a00cc68013e>\u001b[0m in \u001b[0;36m<module>\u001b[0;34m()\u001b[0m\n\u001b[1;32m      1\u001b[0m generer_donnees(minimal_reduced_loc, train_CH_prepared_input_loc, train_CH_labels_loc, C_ANUM, H_ANUM,\n\u001b[0;32m----> 2\u001b[0;31m                 5000, 1000)\n\u001b[0m",
      "\u001b[0;32m<ipython-input-16-3e7ad1a96032>\u001b[0m in \u001b[0;36mgenerer_donnees\u001b[0;34m(original_dataset_loc, prepared_input_loc, labels_loc, anum1, anum2, nb_mol, batch_size)\u001b[0m\n\u001b[1;32m     75\u001b[0m                                                                         \u001b[0minput_nums\u001b[0m\u001b[0;34m[\u001b[0m\u001b[0mbatch_idx\u001b[0m\u001b[0;34m]\u001b[0m\u001b[0;34m,\u001b[0m\u001b[0;34m\u001b[0m\u001b[0m\n\u001b[1;32m     76\u001b[0m                                                                         \u001b[0minput_masses\u001b[0m\u001b[0;34m[\u001b[0m\u001b[0mbatch_idx\u001b[0m\u001b[0;34m]\u001b[0m\u001b[0;34m,\u001b[0m \u001b[0manum1\u001b[0m\u001b[0;34m,\u001b[0m \u001b[0manum2\u001b[0m\u001b[0;34m,\u001b[0m\u001b[0;34m\u001b[0m\u001b[0m\n\u001b[0;32m---> 77\u001b[0;31m                                                                         input_ids[batch_idx])\n\u001b[0m\u001b[1;32m     78\u001b[0m \u001b[0;34m\u001b[0m\u001b[0m\n\u001b[1;32m     79\u001b[0m                     \u001b[0;31m# On ajoute les entrées et sorties aux tableaux du batch courant\u001b[0m\u001b[0;34m\u001b[0m\u001b[0;34m\u001b[0m\u001b[0m\n",
      "\u001b[0;32m<ipython-input-10-83fc1d34341c>\u001b[0m in \u001b[0;36mdonnees_prep_RN_mol\u001b[0;34m(coords_mol, anums_mol, amasses_mol, anum_1, anum_2, pubchem_id)\u001b[0m\n\u001b[1;32m     52\u001b[0m                             \u001b[0;31m# de carbone\u001b[0m\u001b[0;34m\u001b[0m\u001b[0;34m\u001b[0m\u001b[0m\n\u001b[1;32m     53\u001b[0m                             input_rn[input_rn_idx][12:15] = get_classe_pos(coords_mol[k], coords_mol[i], \n\u001b[0;32m---> 54\u001b[0;31m                                                                         coords_mol[j])    \n\u001b[0m\u001b[1;32m     55\u001b[0m \u001b[0;34m\u001b[0m\u001b[0m\n\u001b[1;32m     56\u001b[0m                             \u001b[0minput_rn_idx\u001b[0m \u001b[0;34m+=\u001b[0m \u001b[0;36m1\u001b[0m\u001b[0;34m\u001b[0m\u001b[0m\n",
      "\u001b[0;32m<ipython-input-8-b946f54844a5>\u001b[0m in \u001b[0;36mget_classe_pos\u001b[0;34m(pt, pos_a1, pos_a2)\u001b[0m\n\u001b[1;32m     18\u001b[0m \u001b[0;34m\u001b[0m\u001b[0m\n\u001b[1;32m     19\u001b[0m     \u001b[0;31m# Calcul de la matrice des positions répétées du point\u001b[0m\u001b[0;34m\u001b[0m\u001b[0;34m\u001b[0m\u001b[0m\n\u001b[0;32m---> 20\u001b[0;31m     \u001b[0mpos\u001b[0m \u001b[0;34m=\u001b[0m \u001b[0mnp\u001b[0m\u001b[0;34m.\u001b[0m\u001b[0mtile\u001b[0m\u001b[0;34m(\u001b[0m\u001b[0mpt\u001b[0m\u001b[0;34m,\u001b[0m \u001b[0;36m3\u001b[0m\u001b[0;34m)\u001b[0m\u001b[0;34m.\u001b[0m\u001b[0mreshape\u001b[0m\u001b[0;34m(\u001b[0m\u001b[0;36m3\u001b[0m\u001b[0;34m,\u001b[0m \u001b[0;36m3\u001b[0m\u001b[0;34m)\u001b[0m\u001b[0;34m\u001b[0m\u001b[0m\n\u001b[0m\u001b[1;32m     21\u001b[0m \u001b[0;34m\u001b[0m\u001b[0m\n\u001b[1;32m     22\u001b[0m     \u001b[0;31m# Calcul des distances du point avec les points g, c et d\u001b[0m\u001b[0;34m\u001b[0m\u001b[0;34m\u001b[0m\u001b[0m\n",
      "\u001b[0;32m~/anaconda3/lib/python3.6/site-packages/numpy/lib/shape_base.py\u001b[0m in \u001b[0;36mtile\u001b[0;34m(A, reps)\u001b[0m\n\u001b[1;32m    930\u001b[0m                 \u001b[0mc\u001b[0m \u001b[0;34m=\u001b[0m \u001b[0mc\u001b[0m\u001b[0;34m.\u001b[0m\u001b[0mreshape\u001b[0m\u001b[0;34m(\u001b[0m\u001b[0;34m-\u001b[0m\u001b[0;36m1\u001b[0m\u001b[0;34m,\u001b[0m \u001b[0mn\u001b[0m\u001b[0;34m)\u001b[0m\u001b[0;34m.\u001b[0m\u001b[0mrepeat\u001b[0m\u001b[0;34m(\u001b[0m\u001b[0mnrep\u001b[0m\u001b[0;34m,\u001b[0m \u001b[0;36m0\u001b[0m\u001b[0;34m)\u001b[0m\u001b[0;34m\u001b[0m\u001b[0m\n\u001b[1;32m    931\u001b[0m             \u001b[0mn\u001b[0m \u001b[0;34m//=\u001b[0m \u001b[0mdim_in\u001b[0m\u001b[0;34m\u001b[0m\u001b[0m\n\u001b[0;32m--> 932\u001b[0;31m     \u001b[0;32mreturn\u001b[0m \u001b[0mc\u001b[0m\u001b[0;34m.\u001b[0m\u001b[0mreshape\u001b[0m\u001b[0;34m(\u001b[0m\u001b[0mshape_out\u001b[0m\u001b[0;34m)\u001b[0m\u001b[0;34m\u001b[0m\u001b[0m\n\u001b[0m",
      "\u001b[0;31mKeyboardInterrupt\u001b[0m: "
     ]
    }
   ],
   "source": [
    "\"\"\"generer_donnees(minimal_reduced_loc, train_CH_prepared_input_loc, train_CH_labels_loc, C_ANUM, H_ANUM,\n",
    "                5000, 1000)\"\"\""
   ]
  },
  {
   "cell_type": "markdown",
   "metadata": {},
   "source": [
    "Jeu d'entraînement : 533 000 molécules\n",
    "\n",
    "Jeu de test : 106 000 molécules"
   ]
  },
  {
   "cell_type": "markdown",
   "metadata": {},
   "source": [
    "### Génération des données\n",
    "\n",
    "#### Modèle DIST_REL_CC"
   ]
  },
  {
   "cell_type": "code",
   "execution_count": null,
   "metadata": {},
   "outputs": [],
   "source": [
    "\"\"\"print(\"Génération jeu de test pour DIST_REL_CC\")\n",
    "generer_donnees(test_riken_reduced_loc, test_CC_prepared_input_loc, test_CC_labels_loc, C_ANUM, C_ANUM,\n",
    "                160000, BATCH_SIZE)\"\"\""
   ]
  },
  {
   "cell_type": "markdown",
   "metadata": {},
   "source": [
    "##### Sortie\n",
    "\n",
    "    1106823 exemples créés\n",
    "    --- 6337.963872671127 seconds ---\n"
   ]
  },
  {
   "cell_type": "code",
   "execution_count": null,
   "metadata": {},
   "outputs": [],
   "source": [
    "\"\"\"print(\"Génération jeu d'entraînement pour DIST_REL_CC\")\n",
    "generer_donnees(train_riken_reduced_loc, train_CC_prepared_input_loc, train_CC_labels_loc, C_ANUM, C_ANUM,\n",
    "                800000, BATCH_SIZE)\"\"\""
   ]
  },
  {
   "cell_type": "markdown",
   "metadata": {},
   "source": [
    "##### Sortie\n",
    "\n",
    "Information perdue, environ 5 millions d'exemples créés"
   ]
  },
  {
   "cell_type": "code",
   "execution_count": 22,
   "metadata": {},
   "outputs": [
    {
     "name": "stdout",
     "output_type": "stream",
     "text": [
      "Génération du jeu minimal pour DIST_REL_CC\n",
      "Nouveau batch (molécules de 0 à 20000) --- 0.0 %\n",
      "Nouveau batch (molécules de 20000 à 40000) --- 20.0 %\n"
     ]
    },
    {
     "ename": "KeyboardInterrupt",
     "evalue": "",
     "output_type": "error",
     "traceback": [
      "\u001b[0;31m---------------------------------------------------------------------------\u001b[0m",
      "\u001b[0;31mKeyboardInterrupt\u001b[0m                         Traceback (most recent call last)",
      "\u001b[0;32m<ipython-input-22-a7cc63aa73ac>\u001b[0m in \u001b[0;36m<module>\u001b[0;34m()\u001b[0m\n\u001b[1;32m      1\u001b[0m \u001b[0mprint\u001b[0m\u001b[0;34m(\u001b[0m\u001b[0;34m\"Génération du jeu minimal pour DIST_REL_CC\"\u001b[0m\u001b[0;34m)\u001b[0m\u001b[0;34m\u001b[0m\u001b[0m\n\u001b[1;32m      2\u001b[0m generer_donnees(minimal_reduced_loc, minimal_CC_prepared_input_loc, minimal_CC_labels_loc, C_ANUM, C_ANUM,\n\u001b[0;32m----> 3\u001b[0;31m                 100000, BATCH_SIZE)\n\u001b[0m",
      "\u001b[0;32m<ipython-input-21-a917a9a12228>\u001b[0m in \u001b[0;36mgenerer_donnees\u001b[0;34m(original_dataset_loc, prepared_input_loc, labels_loc, anum1, anum2, nb_mol, batch_size)\u001b[0m\n\u001b[1;32m     75\u001b[0m                                                                         \u001b[0minput_nums\u001b[0m\u001b[0;34m[\u001b[0m\u001b[0mbatch_idx\u001b[0m\u001b[0;34m]\u001b[0m\u001b[0;34m,\u001b[0m\u001b[0;34m\u001b[0m\u001b[0m\n\u001b[1;32m     76\u001b[0m                                                                         \u001b[0minput_masses\u001b[0m\u001b[0;34m[\u001b[0m\u001b[0mbatch_idx\u001b[0m\u001b[0;34m]\u001b[0m\u001b[0;34m,\u001b[0m \u001b[0manum1\u001b[0m\u001b[0;34m,\u001b[0m \u001b[0manum2\u001b[0m\u001b[0;34m,\u001b[0m\u001b[0;34m\u001b[0m\u001b[0m\n\u001b[0;32m---> 77\u001b[0;31m                                                                         input_ids[batch_idx])\n\u001b[0m\u001b[1;32m     78\u001b[0m \u001b[0;34m\u001b[0m\u001b[0m\n\u001b[1;32m     79\u001b[0m                     \u001b[0;31m# On ajoute les entrées et sorties aux tableaux du batch courant\u001b[0m\u001b[0;34m\u001b[0m\u001b[0;34m\u001b[0m\u001b[0m\n",
      "\u001b[0;32m<ipython-input-10-83fc1d34341c>\u001b[0m in \u001b[0;36mdonnees_prep_RN_mol\u001b[0;34m(coords_mol, anums_mol, amasses_mol, anum_1, anum_2, pubchem_id)\u001b[0m\n\u001b[1;32m     52\u001b[0m                             \u001b[0;31m# de carbone\u001b[0m\u001b[0;34m\u001b[0m\u001b[0;34m\u001b[0m\u001b[0m\n\u001b[1;32m     53\u001b[0m                             input_rn[input_rn_idx][12:15] = get_classe_pos(coords_mol[k], coords_mol[i], \n\u001b[0;32m---> 54\u001b[0;31m                                                                         coords_mol[j])    \n\u001b[0m\u001b[1;32m     55\u001b[0m \u001b[0;34m\u001b[0m\u001b[0m\n\u001b[1;32m     56\u001b[0m                             \u001b[0minput_rn_idx\u001b[0m \u001b[0;34m+=\u001b[0m \u001b[0;36m1\u001b[0m\u001b[0;34m\u001b[0m\u001b[0m\n",
      "\u001b[0;31mKeyboardInterrupt\u001b[0m: "
     ]
    }
   ],
   "source": [
    "\"\"\"print(\"Génération du jeu minimal pour DIST_REL_CC\")\n",
    "generer_donnees(minimal_reduced_loc, minimal_CC_prepared_input_loc, minimal_CC_labels_loc, C_ANUM, C_ANUM,\n",
    "                100000, BATCH_SIZE)\"\"\""
   ]
  },
  {
   "cell_type": "markdown",
   "metadata": {},
   "source": [
    "#### Modèle DIST_REL_OH"
   ]
  },
  {
   "cell_type": "code",
   "execution_count": null,
   "metadata": {},
   "outputs": [],
   "source": [
    "print(\"Génération jeu de test pour DIST_REL_OH\")\n",
    "generer_donnees(test_riken_reduced_loc, test_OH_prepared_input_loc, test_OH_labels_loc, O_ANUM, H_ANUM,\n",
    "                3200000, BATCH_SIZE)"
   ]
  },
  {
   "cell_type": "markdown",
   "metadata": {},
   "source": [
    "##### Sortie\n",
    "\n",
    "    143588 exemples créés\n",
    "    --- 973.4841437339783 seconds ---"
   ]
  },
  {
   "cell_type": "code",
   "execution_count": null,
   "metadata": {},
   "outputs": [],
   "source": [
    "\"\"\"print(\"Génération jeu d'entraînement pour DIST_REL_OH\")\n",
    "generer_donnees(train_riken_reduced_loc, train_OH_prepared_input_loc, train_OH_labels_loc, O_ANUM, H_ANUM,\n",
    "                16000000, BATCH_SIZE)\"\"\""
   ]
  },
  {
   "cell_type": "markdown",
   "metadata": {},
   "source": [
    "##### Sortie\n",
    "\n",
    "    1293551 exemples créés\n",
    "    --- 9165.71451497078 seconds ---\n"
   ]
  },
  {
   "cell_type": "markdown",
   "metadata": {},
   "source": [
    "#### Modèle DIST_REL_CH"
   ]
  },
  {
   "cell_type": "code",
   "execution_count": null,
   "metadata": {},
   "outputs": [],
   "source": [
    "\"\"\"print(\"Génération jeu de test pour DIST_REL_CH\")\n",
    "generer_donnees(test_riken_reduced_loc, test_CH_prepared_input_loc, test_CH_labels_loc, C_ANUM, H_ANUM,\n",
    "                106000, BATCH_SIZE)\"\"\""
   ]
  },
  {
   "cell_type": "markdown",
   "metadata": {},
   "source": [
    "##### Sortie\n",
    "\n",
    "    1158251 exemples créés\n",
    "    --- 7187.15914607048 seconds ---\n"
   ]
  },
  {
   "cell_type": "code",
   "execution_count": null,
   "metadata": {},
   "outputs": [],
   "source": [
    "\"\"\"print(\"Génération jeu d'entraînement pour DIST_REL_CH\")\n",
    "generer_donnees(train_riken_reduced_loc, train_CH_prepared_input_loc, train_CH_labels_loc, C_ANUM, H_ANUM,\n",
    "                333000, BATCH_SIZE)\"\"\""
   ]
  },
  {
   "cell_type": "markdown",
   "metadata": {},
   "source": [
    "##### Sortie\n",
    "    3636608 exemples créés\n",
    "    --- 22205.555314302444 seconds ---"
   ]
  },
  {
   "cell_type": "markdown",
   "metadata": {},
   "source": []
  },
  {
   "cell_type": "code",
   "execution_count": null,
   "metadata": {},
   "outputs": [],
   "source": []
  },
  {
   "cell_type": "code",
   "execution_count": null,
   "metadata": {},
   "outputs": [],
   "source": []
  },
  {
   "cell_type": "markdown",
   "metadata": {},
   "source": [
    "## Analyse de la distribution des distances dans les jeux de données\n",
    "\n",
    "Afin de pouvoir analyser la distribution des longueurs de liaisons dans notre jeu de données, nous allons extraire ces distances des différents jeux de données. Pour chaque type de liaison (CC, CH, OH) et pour chaque jeu de données (jeu complet, jeu d'entraînement et jeu de test), nous allons enregistrer la distance de chaque exemple du jeu considéré dans un fichier h5.\n",
    "\n",
    "#### Calcul de la distance entre deux atomes"
   ]
  },
  {
   "cell_type": "code",
   "execution_count": 19,
   "metadata": {},
   "outputs": [],
   "source": [
    "import numpy as np\n",
    "\n",
    "def calcul_distance(pt1, pt2):\n",
    "    \"\"\" Renvoie la distance entre deux points représentés par leurs coordonnées (x, y, z) dans deux tableaux\n",
    "    de forme (1, 3)\"\"\"\n",
    "    return np.sqrt(np.sum(np.square(np.diff(np.array([pt1, pt2]), axis=0))))"
   ]
  },
  {
   "cell_type": "markdown",
   "metadata": {},
   "source": [
    "#### Calcul des distances entre les couples d'atomes d'une molécule"
   ]
  },
  {
   "cell_type": "code",
   "execution_count": 20,
   "metadata": {},
   "outputs": [],
   "source": [
    "def distances_mol(coords_mol, anums_mol, anum_1, anum_2):\n",
    "    \"\"\" Renvoie un tableau contenant toutes les distances entre les couples d'éléments passés en paramètres \"\"\"\n",
    "    \n",
    "    taille_mol = len(coords_mol)\n",
    "    \n",
    "    dists = []\n",
    "    \n",
    "    # On itère sur tous les atomes de la molécule\n",
    "    for i in range(taille_mol):\n",
    "        \n",
    "        # On sélectionne le premier atome du couple\n",
    "        if anums_mol[i] == anum_1:\n",
    "            \n",
    "            # On parcourt tous les atomes suivants\n",
    "            for j in range(i+1, taille_mol):\n",
    "                \n",
    "                # On sélectionne le second atome du couple\n",
    "                if anums_mol[j] == anum_2:\n",
    "                    \n",
    "                    # On calcule la distance entre les deux atomes du couple\n",
    "                    dists.append(calcul_distance(coords_mol[i], coords_mol[j]))\n",
    "                    \n",
    "                    \n",
    "    return np.array(dists)\n",
    "            "
   ]
  },
  {
   "cell_type": "markdown",
   "metadata": {},
   "source": [
    "#### Fonction de création du jeu de données de statistiques"
   ]
  },
  {
   "cell_type": "code",
   "execution_count": 21,
   "metadata": {},
   "outputs": [],
   "source": [
    "def record_bonds_lengths(dataset_loc, output_lengths_loc, n_mols, anum_1, anum_2, batch_size,\n",
    "                         only_below_Ne=True):\n",
    "    \"\"\" Parcourt le jeu de données donné en entrée et enregistre dans un fichier h5 la longueur des liaisons\n",
    "        dans les n_mols premières molécules entre les atomes de numéros atomiques anum_1 et anum_2 qui\n",
    "        partagent une liaison.\n",
    "        Si only_below_Ne est vrai, on ne calcule les distances que dans les molécules ne contenant pas d'atome\n",
    "        plus lourd que le fluor (comme dans les jeux qui ont été utlisés pour l'entraînement des modèles) \"\"\"\n",
    "    \n",
    "    start_time = time.time()    \n",
    "    \n",
    "    # On charge les données du jeu de données en mémoire\n",
    "    original_dataset_h5 = h5py.File(dataset_loc, \"r\")    \n",
    "    \n",
    "    # On créé le jeu de données contenant les distances\n",
    "    distances_h5 = h5py.File(output_lengths_loc, 'w')\n",
    "    \n",
    "    # On calcule le nombre total de molécules\n",
    "    total_mol_nb = len(np.array(original_dataset_h5[\"anums\"]))\n",
    "    \n",
    "    try:\n",
    "        \n",
    "        # Création du dataset de sortie (de taille nulle pour le moment)\n",
    "        distances_dataset = distances_h5.create_dataset(\"distances\", maxshape=(None,), shape=(0,),\n",
    "                                           dtype=np.float32, compression=\"gzip\", \n",
    "                                           chunks=True)\n",
    "            \n",
    "        # On initialise les bornes du premier batch de traitement et l'indice des données de sortie\n",
    "        x_min_batch = 0\n",
    "        x_max_batch = batch_size\n",
    "        dataset_curr_idx = 0\n",
    "        \n",
    "        # On initialise le compteur de distances calculées\n",
    "        nb_dist_tot = 0\n",
    "                       \n",
    "        # On calcule les distances sur chacun des batchs\n",
    "        while x_min_batch < total_mol_nb:\n",
    "            \n",
    "            print(\"Nouveau batch (molécules de \"+str(x_min_batch)+\" à \"+str(min(x_max_batch, total_mol_nb))+\n",
    "                  \") --- \"+str(float(min(x_max_batch, total_mol_nb)/total_mol_nb*100))+\" %\")\n",
    "            \n",
    "            # On charge en mémoire les coordonnées et les numéros atomiques des molécules du batch courant\n",
    "            input_coords = np.array(original_dataset_h5[\"riken_coords\"][x_min_batch:x_max_batch])\n",
    "            input_nums = np.array(original_dataset_h5[\"anums\"][x_min_batch:x_max_batch])\n",
    "            \n",
    "            # On créé le tableau python des distances pour le batch courant\n",
    "            distances_batch = []\n",
    "            \n",
    "            # On parcourt toutes les molécules du batch\n",
    "            for batch_idx in range(len(input_nums)):\n",
    "                \n",
    "                # Si l'option only_below_Ne est à vrai, on ignore les données provenant des molécules contenant\n",
    "                # des atomes plus lourd que le fluor (comme dans certains jeu de données d'entraînement)\n",
    "                if len(input_nums[batch_idx])>0 and (max(input_nums[batch_idx])<10 or not only_below_Ne):\n",
    "                    \n",
    "                    # On calcule les distances de la molécule\n",
    "                    distances_batch.extend(distances_mol(input_coords[batch_idx].reshape(-1, 3), \n",
    "                                                         input_nums[batch_idx], anum_1, anum_2))\n",
    "                if len(input_nums) == 0:\n",
    "                    print(\"Pas d'atomes dans la molécule\")\n",
    "                \n",
    "            # On enregistre les données du batch\n",
    "            distances_dataset.resize((distances_dataset.shape[0]+len(distances_batch),))  # redimensionnement\n",
    "            distances_dataset[dataset_curr_idx:dataset_curr_idx+len(distances_batch)] = np.array(distances_batch)\n",
    "            \n",
    "            # On met à jour les indexs courants dans les données d'entrée et de sortie\n",
    "            dataset_curr_idx += len(distances_batch)\n",
    "            x_min_batch += batch_size\n",
    "            x_max_batch += batch_size\n",
    "                       \n",
    "            # On met à jour le nombre total de distances calculées\n",
    "            nb_dist_tot += len(distances_batch)\n",
    "                       \n",
    "            print(\"... \"+str(len(distances_batch))+\" distances calculées\")\n",
    "                \n",
    "        distances_h5.flush()\n",
    "        \n",
    "        print(str(nb_dist_tot)+\" distances calculées au total\")\n",
    "        print(\"--- %s seconds ---\" % (time.time() - start_time))\n",
    "                \n",
    "    \n",
    "    finally:\n",
    "        original_dataset_h5.close()\n",
    "        distances_h5.close()"
   ]
  },
  {
   "cell_type": "markdown",
   "metadata": {},
   "source": [
    "#### Calcul des distances CC sur le jeu minimal (test d'exécution)"
   ]
  },
  {
   "cell_type": "code",
   "execution_count": 24,
   "metadata": {},
   "outputs": [
    {
     "name": "stdout",
     "output_type": "stream",
     "text": [
      "Calcul distances jeu minimal\n",
      "Nouveau batch (molécules de 0 à 10000) --- 10.0 %\n",
      "... 427095 distances calculées\n",
      "Nouveau batch (molécules de 10000 à 20000) --- 20.0 %\n",
      "... 424644 distances calculées\n",
      "Nouveau batch (molécules de 20000 à 30000) --- 30.0 %\n",
      "... 427189 distances calculées\n",
      "Nouveau batch (molécules de 30000 à 40000) --- 40.0 %\n",
      "... 425113 distances calculées\n",
      "Nouveau batch (molécules de 40000 à 50000) --- 50.0 %\n",
      "... 429110 distances calculées\n",
      "Nouveau batch (molécules de 50000 à 60000) --- 60.0 %\n",
      "... 426090 distances calculées\n",
      "Nouveau batch (molécules de 60000 à 70000) --- 70.0 %\n",
      "... 426353 distances calculées\n",
      "Nouveau batch (molécules de 70000 à 80000) --- 80.0 %\n",
      "... 424433 distances calculées\n",
      "Nouveau batch (molécules de 80000 à 90000) --- 90.0 %\n",
      "... 417634 distances calculées\n",
      "Nouveau batch (molécules de 90000 à 100000) --- 100.0 %\n",
      "... 425982 distances calculées\n",
      "4253643 distances calculées au total\n",
      "--- 83.4628496170044 seconds ---\n"
     ]
    }
   ],
   "source": [
    "\"\"\"print(\"Calcul distances jeu minimal\")\n",
    "record_bonds_lengths(minimal_reduced_loc, \"../data/stats/CC/CC_bonds_lengths_minimal.h5\", 100000, C_ANUM,\n",
    "                     C_ANUM, 10000)\"\"\""
   ]
  },
  {
   "cell_type": "markdown",
   "metadata": {},
   "source": [
    "### Enregistrement distances CC\n",
    "\n",
    "Pour le jeu de test et d'entraînement, on ne s'intéresse qu'aux distances dans les molécules de taille comprise entre 2 et 60 et ne comportant pas d'atome plus lourd que le fluor.\n",
    "\n",
    "Dans le jeu complet, on s'intéresse à toutes les molécules, y compris celles qui n'ont pas été intégrées dans le jeu réduit (voir notebook 8.0)"
   ]
  },
  {
   "cell_type": "code",
   "execution_count": null,
   "metadata": {},
   "outputs": [],
   "source": [
    "\"\"\"print(\"Calcul distances CC sur le jeu de test...\")\n",
    "record_bonds_lengths(test_riken_reduced_loc, stats_test_CC, 160000, C_ANUM, C_ANUM, 100000)\n",
    "\n",
    "print(\"Calcul distances CC sur le jeu d'entraînement...\")\n",
    "record_bonds_lengths(train_riken_reduced_loc, stats_train_CC, 800000, C_ANUM, C_ANUM, 100000)\n",
    "\n",
    "print(\"Calcul distances CC dans le jeu complet...\")\n",
    "record_bonds_lengths(complete_set, stats_total_CC, 1000000000, C_ANUM, C_ANUM, 100000, only_below_Ne=False)\"\"\""
   ]
  },
  {
   "cell_type": "markdown",
   "metadata": {},
   "source": [
    "### Enregistrement distances CH\n",
    "\n",
    "Pour le jeu de test et d'entraînement, on ne s'intéresse qu'aux distances dans les molécules de taille comprise entre 2 et 60 et ne comportant pas d'atome plus lourd que le fluor.\n",
    "\n",
    "Dans le jeu complet, on s'intéresse à toutes les molécules, y compris celles qui n'ont pas été intégrées dans le jeu réduit (voir notebook 8.0)"
   ]
  },
  {
   "cell_type": "code",
   "execution_count": null,
   "metadata": {},
   "outputs": [],
   "source": [
    "\"\"\"print(\"Calcul distances CH sur le jeu de test...\")\n",
    "record_bonds_lengths(test_riken_reduced_loc, stats_test_CH, 106000, C_ANUM, H_ANUM, 100000)\n",
    "\n",
    "print(\"Calcul distances CH sur le jeu d'entraînement...\")\n",
    "record_bonds_lengths(train_riken_reduced_loc, stats_train_CH, 333000, C_ANUM, H_ANUM, 100000)\n",
    "\n",
    "print(\"Calcul distances CH dans le jeu complet...\")\n",
    "record_bonds_lengths(complete_set, stats_total_CH, 1000000000, C_ANUM, H_ANUM, 100000, only_below_Ne=False)\"\"\""
   ]
  },
  {
   "cell_type": "markdown",
   "metadata": {},
   "source": [
    "### Enregistrement distances OH\n",
    "\n",
    "Pour le jeu de test et d'entraînement, on ne s'intéresse qu'aux distances dans les molécules de taille comprise entre 2 et 60 et ne comportant pas d'atome plus lourd que le fluor.\n",
    "\n",
    "Dans le jeu complet, on s'intéresse à toutes les molécules, y compris celles qui n'ont pas été intégrées dans le jeu réduit (voir notebook 8.0)"
   ]
  },
  {
   "cell_type": "code",
   "execution_count": null,
   "metadata": {},
   "outputs": [],
   "source": [
    "\"\"\"print(\"Calcul distances OH sur le jeu de test...\")\n",
    "record_bonds_lengths(test_riken_reduced_loc, stats_test_OH, 3200000, O_ANUM, H_ANUM, 100000)\n",
    "\n",
    "print(\"Calcul distances OH sur le jeu d'entraînement...\")\n",
    "record_bonds_lengths(train_riken_reduced_loc, stats_train_OH, 16000000, O_ANUM, H_ANUM, 100000)\n",
    "\n",
    "print(\"Calcul distances OH dans le jeu complet...\")\n",
    "record_bonds_lengths(complete_set, stats_total_OH, 1000000000, O_ANUM, H_ANUM, 100000, only_below_Ne=False)\"\"\""
   ]
  },
  {
   "cell_type": "markdown",
   "metadata": {},
   "source": [
    "## Représentations graphiques des distributions des distances\n",
    "\n",
    "#### Fonction de plot de la distribution des distances"
   ]
  },
  {
   "cell_type": "code",
   "execution_count": 4,
   "metadata": {},
   "outputs": [],
   "source": [
    "import matplotlib.pyplot as plt\n",
    "import matplotlib as mpl\n",
    "import h5py\n",
    "import numpy as np\n",
    "\n",
    "mpl.rcParams['agg.path.chunksize'] = 10000\n",
    "\n",
    "def plot_distrib_dist(dists_file, padding,at1_name, at2_name, dataset_name, figures_loc, figure_name):\n",
    "    \"\"\" Affiche la distribution des distances selon un pas donné \"\"\"\n",
    "    \n",
    "    dists_h5 = h5py.File(dists_file, 'r')\n",
    "    dists = np.array(dists_h5[\"distances\"])\n",
    "    \n",
    "    # On calcule les bornes de notre index\n",
    "    debut_index = np.floor(min(dists))\n",
    "    fin_index = max(dists)+padding\n",
    "    \n",
    "    # On créé l'index\n",
    "    index = np.arange(debut_index, fin_index, padding)\n",
    "    \n",
    "    # On créé le compteur d'occurences\n",
    "    dists_occ = np.zeros_like(index)\n",
    "        \n",
    "    # Calcul des occurences\n",
    "    for dist in dists:\n",
    "        dists_occ[int((dist-debut_index)/padding)] += 1\n",
    "        \n",
    "    \n",
    "    plt.xlabel(\"Distances \"+at1_name+at2_name+\" (en Å, par tranches de \"+str(padding)+\" )\")\n",
    "    plt.ylabel(\"Nombre d'occurences dans les données\")\n",
    "    plt.title(\"Distribution des distances \"+at1_name+at2_name+\"\\ndans le jeu \"+dataset_name)\n",
    "    plt.plot(index, dists_occ)\n",
    "    plt.show()\n",
    "    plt.savefig(figures_loc+figure_name+\".png\", dpi=250)\n"
   ]
  },
  {
   "cell_type": "code",
   "execution_count": 5,
   "metadata": {},
   "outputs": [],
   "source": [
    "figures_loc = \"../figures/12.0-\""
   ]
  },
  {
   "cell_type": "markdown",
   "metadata": {},
   "source": [
    "## Distances CC\n",
    "\n",
    "### Jeu minimal"
   ]
  },
  {
   "cell_type": "code",
   "execution_count": 25,
   "metadata": {},
   "outputs": [
    {
     "data": {
      "image/png": "[encoded data removed]",
      "text/plain": [
       "<matplotlib.figure.Figure at 0x7f51f8b34dd8>"
      ]
     },
     "metadata": {},
     "output_type": "display_data"
    },
    {
     "data": {
      "text/plain": [
       "<matplotlib.figure.Figure at 0x7f51f87c0ef0>"
      ]
     },
     "metadata": {},
     "output_type": "display_data"
    }
   ],
   "source": [
    "\"\"\"plot_distrib_dist(\"../data/stats/CC/CC_bonds_lengths_minimal.h5\", 0.001, \"C\", \"C\", \"minimal\", figures_loc,\n",
    "                  \"distrib_CC_minimal\")\"\"\""
   ]
  },
  {
   "cell_type": "code",
   "execution_count": 6,
   "metadata": {},
   "outputs": [
    {
     "data": {
      "text/plain": [
       "False"
      ]
     },
     "execution_count": 6,
     "metadata": {},
     "output_type": "execute_result"
    }
   ],
   "source": []
  },
  {
   "cell_type": "code",
   "execution_count": null,
   "metadata": {},
   "outputs": [],
   "source": []
  }
 ],
 "metadata": {
  "kernelspec": {
   "display_name": "Python 3",
   "language": "python",
   "name": "python3"
  },
  "language_info": {
   "codemirror_mode": {
    "name": "ipython",
    "version": 3
   },
   "file_extension": ".py",
   "mimetype": "text/x-python",
   "name": "python",
   "nbconvert_exporter": "python",
   "pygments_lexer": "ipython3",
   "version": "3.6.4"
  }
 },
 "nbformat": 4,
 "nbformat_minor": 2
}
