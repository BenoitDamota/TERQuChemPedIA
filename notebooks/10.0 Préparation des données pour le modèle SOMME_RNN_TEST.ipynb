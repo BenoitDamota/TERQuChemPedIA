{
 "cells": [
  {
   "cell_type": "markdown",
   "metadata": {},
   "source": [
    "## Préparation des données pour le modèle SOMME_RNN_TEST\n",
    "\n",
    "Nous allons ici préparer des données pour un modèle assez particulier, qui ne sera pas lié à des considérations chimiques mais qui aura pour unique objectif de vérifier que notre implémentation des RNN est correcte et peut mener à des résultats.\n",
    "\n",
    "Pour cela, nous allons préparer un jeu d'entrée de format similaire à celui que nous utilisons pour DIST_REL_C_RNN_01, mais qui sera composé de nombres entiers. L'objectif du RNN que nous allons entraîner sur ces données sera de prédire la somme des nombres en entrée.\n",
    "\n",
    "#### Chemin des fichiers"
   ]
  },
  {
   "cell_type": "code",
   "execution_count": 12,
   "metadata": {},
   "outputs": [],
   "source": [
    "train_prepared_input_loc = \"../data/SOMME_RNN_TEST/train_prepared_input.h5\"\n",
    "train_labels_loc = \"../data/SOMME_RNN_TEST/train_labels.h5\"\n",
    "\n",
    "test_prepared_input_loc = \"../data/SOMME_RNN_TEST/test_prepared_input.h5\"\n",
    "test_labels_loc = \"../data/SOMME_RNN_TEST/test_labels.h5\"\n",
    "\n",
    "minimal_prepared_input_loc = \"../data/SOMME_RNN_TEST/minimal_prepared_input.h5\"\n",
    "minimal_labels_loc = \"../data/SOMME_RNN_TEST/minimal_labels.h5\""
   ]
  },
  {
   "cell_type": "markdown",
   "metadata": {},
   "source": [
    "#### Fonction de préparation des données"
   ]
  },
  {
   "cell_type": "code",
   "execution_count": 11,
   "metadata": {},
   "outputs": [],
   "source": [
    "from random import randint\n",
    "import numpy as np\n",
    "import h5py\n",
    "\n",
    "def preparation_donnees(prepared_input_loc, labels_loc, taille):\n",
    "    \n",
    "    input_rn = []\n",
    "    labels_rn = []\n",
    "    \n",
    "    for i in range(taille):\n",
    "        \n",
    "        # On génère une série de taille (n*15), n étant un nombre entre 10 et 58\n",
    "        curr_serie = np.random.randint(10, size=randint(10, 58)*15)\n",
    "        \n",
    "        # On enregistre la série et sa somme\n",
    "        input_rn.append(curr_serie)\n",
    "        labels_rn.append(np.sum(curr_serie))\n",
    "    \n",
    "    # On créé les jeux de données d'entrée du RN et de labels\n",
    "    input_rn_dataset_h5 = h5py.File(prepared_input_loc, 'w')\n",
    "    labels_dataset_h5 = h5py.File(labels_loc, 'w')  \n",
    "    \n",
    "    try:\n",
    "            \n",
    "        # On enregistre les données dans les fichiers h5\n",
    "        varlen_floatarray = h5py.special_dtype(vlen=np.dtype(\"float32\"))\n",
    "\n",
    "        input_dataset = input_rn_dataset_h5.create_dataset(\"inputs\", maxshape=(None,), shape=(taille,),\n",
    "                                           dtype=varlen_floatarray, compression=\"gzip\", \n",
    "                                           chunks=True, data=np.array(input_rn))\n",
    "\n",
    "        target_dataset = labels_dataset_h5.create_dataset(\"targets\", maxshape=(None,), shape=(taille,),\n",
    "                                           dtype=np.float32, compression=\"gzip\", \n",
    "                                           chunks=True, data=np.array(labels_rn))\n",
    "    finally:\n",
    "        input_rn_dataset_h5.close()\n",
    "        labels_dataset_h5.close()\n",
    "\n",
    "    \n"
   ]
  },
  {
   "cell_type": "markdown",
   "metadata": {},
   "source": [
    "#### On créé 3.000.000 exemples pour le jeu d'entraînement"
   ]
  },
  {
   "cell_type": "code",
   "execution_count": null,
   "metadata": {},
   "outputs": [],
   "source": [
    "preparation_donnees(train_prepared_input_loc, train_labels_loc, 3000000)"
   ]
  },
  {
   "cell_type": "markdown",
   "metadata": {},
   "source": [
    "#### On créé 500.000 exemples pour le jeu de test"
   ]
  },
  {
   "cell_type": "code",
   "execution_count": null,
   "metadata": {},
   "outputs": [],
   "source": [
    "preparation_donnees(test_prepared_input_loc, test_labels_loc, 500000)"
   ]
  },
  {
   "cell_type": "markdown",
   "metadata": {},
   "source": [
    "#### On créé 10000 exemples pour le jeu minimal"
   ]
  },
  {
   "cell_type": "code",
   "execution_count": 13,
   "metadata": {},
   "outputs": [],
   "source": [
    "preparation_donnees(minimal_prepared_input_loc, minimal_labels_loc, 10000)"
   ]
  },
  {
   "cell_type": "code",
   "execution_count": null,
   "metadata": {},
   "outputs": [],
   "source": []
  }
 ],
 "metadata": {
  "kernelspec": {
   "display_name": "Python 3",
   "language": "python",
   "name": "python3"
  },
  "language_info": {
   "codemirror_mode": {
    "name": "ipython",
    "version": 3
   },
   "file_extension": ".py",
   "mimetype": "text/x-python",
   "name": "python",
   "nbconvert_exporter": "python",
   "pygments_lexer": "ipython3",
   "version": "3.6.4"
  }
 },
 "nbformat": 4,
 "nbformat_minor": 2
}
