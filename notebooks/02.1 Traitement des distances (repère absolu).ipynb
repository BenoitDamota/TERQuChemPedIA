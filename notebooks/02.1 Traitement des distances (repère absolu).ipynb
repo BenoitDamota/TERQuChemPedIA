{
 "cells": [
  {
   "cell_type": "markdown",
   "metadata": {},
   "source": [
    "# Traitement des distances - repère absolu\n",
    "\n",
    "Dans ce notebook, on définit des fonctions permettant de faire différents traitements sur les distances des atomes des molécules par rapport à quatre points fictifs (atomes fictifs) formant un repère orthonormé. Ces points sont placés en (0, 0, 0), (1, 0, 0), (0, 1, 0) et (0, 0, 1)\n",
    "\n",
    "\n",
    "### Génération d'un tableau de coordonnées fictives"
   ]
  },
  {
   "cell_type": "code",
   "execution_count": 87,
   "metadata": {},
   "outputs": [
    {
     "data": {
      "text/plain": [
       "array([[-0.71020892, -0.82019586,  0.14520503],\n",
       "       [ 0.18313614,  0.61939908,  0.80627034],\n",
       "       [-0.83113651, -0.10509212, -0.60422013],\n",
       "       [ 0.08420021, -0.65030167, -0.35658573],\n",
       "       [ 0.22280307, -0.48873879, -0.39623437],\n",
       "       [ 0.83452218,  0.16800897,  0.00552223]])"
      ]
     },
     "execution_count": 87,
     "metadata": {},
     "output_type": "execute_result"
    }
   ],
   "source": [
    "import numpy as np\n",
    "\n",
    "atomes_nb = 6\n",
    "atomes_nb_incl_fictif = atomes_nb + 1\n",
    "\n",
    "\n",
    "# Génération d'une matrice de positions des atomes d'une molécule. Pour chaque atome, \n",
    "# une ligne contient 3 coordonnées x, y, z, chacune dans l'intervalle [-1,1[. \n",
    "def gen_pos(nb_atomes):\n",
    "    return (np.random.random_sample(atomes_nb*3) * 2 - 1).reshape(-1,3)\n",
    "\n",
    "\n",
    "positions = gen_pos(atomes_nb)\n",
    "positions"
   ]
  },
  {
   "cell_type": "markdown",
   "metadata": {},
   "source": [
    "### Calcul de la matrice compressée de distances\n",
    "\n",
    "Pour chaque atome de la molécule, la matrice compressée de distances contient la distance de l'atome avec les quatre points du repère absolu."
   ]
  },
  {
   "cell_type": "markdown",
   "metadata": {},
   "source": [
    "#### Calcul de la matrice de distances compressée (méthode vectorielle)"
   ]
  },
  {
   "cell_type": "code",
   "execution_count": 88,
   "metadata": {},
   "outputs": [],
   "source": [
    "def matrice_distances_compr(positions):\n",
    "    \"\"\" Renvoie la matrice de distances compressée des positions des atomes passées en paramètres\n",
    "    La matrice de distances compressée est définie de la façon suivante : pour chaque atome, on calcule\n",
    "    la distance avec chaque point du repère. Une ligne i de la matrice (n,4) correspond aux distances\n",
    "    de l'atome i avec chacun des quatre points du repère\"\"\"\n",
    "    \n",
    "    nb_at = len(positions)\n",
    "    \n",
    "    # On renvoie un tableau vide si la molécule est vide (car sinon vstack lève une exception)\n",
    "    if nb_at == 0:\n",
    "        return []\n",
    "    \n",
    "    repere = np.array([[0, 0, 0], [1, 0, 0], [0, 1, 0], [0, 0, 1]])\n",
    "    repere = np.vstack([repere]*nb_at)\n",
    "\n",
    "    positions = np.tile(positions, 4).reshape(4*nb_at, 3)\n",
    "    \n",
    "    return np.sqrt(np.sum(np.power(positions-repere, 2), 1)).reshape(nb_at, 4)\n"
   ]
  },
  {
   "cell_type": "markdown",
   "metadata": {},
   "source": [
    "### Ajout du bruit\n",
    "\n",
    "On définit ici une fonction prenant une matrice de coordonnées en entrée et renvoyant une matrice des coordonnées bruitées selon une loi normale de centre 0 et de variance 0,000833. Il s'agit d'une variance qui semble raisonnable par rapport aux déplacement que l'on applique aux atomes lorsqu'on optimise une molécule. En effet, cela revient à déplacer l'atome à une distance de moins de 0.05 angströms dans environ 68% des cas, et à une distance de moins de 0.1 angströms dans 95% des cas."
   ]
  },
  {
   "cell_type": "code",
   "execution_count": 89,
   "metadata": {},
   "outputs": [],
   "source": [
    "def positions_bruitees(positions):\n",
    "    \"\"\" Ajoute du bruit à un tableau de positions et renvoie un tuple (positions bruitées, bruit)\"\"\"\n",
    "    bruit = np.random.normal(loc=0.0, scale=0.028867, size=positions.shape)\n",
    "    return ((positions + bruit), bruit)\n"
   ]
  },
  {
   "cell_type": "markdown",
   "metadata": {},
   "source": [
    "#### Analyse statistique des différences de distances introduites par le bruitage pour tester sa conformité\n",
    "\n",
    "On ajoute du bruit sur chaque coordonnée à l'origine du repère sur dix millions d'exemples et on analyse la distributions de distances obtenue. On constate que l'on obtient bien des résultats conformes à nos attentes."
   ]
  },
  {
   "cell_type": "code",
   "execution_count": 1,
   "metadata": {
    "scrolled": false
   },
   "outputs": [
    {
     "ename": "NameError",
     "evalue": "name 'np' is not defined",
     "output_type": "error",
     "traceback": [
      "\u001b[0;31m---------------------------------------------------------------------------\u001b[0m",
      "\u001b[0;31mNameError\u001b[0m                                 Traceback (most recent call last)",
      "\u001b[0;32m<ipython-input-1-44291543f4ff>\u001b[0m in \u001b[0;36m<module>\u001b[0;34m()\u001b[0m\n\u001b[1;32m      1\u001b[0m \u001b[0;32mimport\u001b[0m \u001b[0mpandas\u001b[0m \u001b[0;32mas\u001b[0m \u001b[0mpd\u001b[0m\u001b[0;34m\u001b[0m\u001b[0m\n\u001b[1;32m      2\u001b[0m \u001b[0;34m\u001b[0m\u001b[0m\n\u001b[0;32m----> 3\u001b[0;31m \u001b[0morigine\u001b[0m \u001b[0;34m=\u001b[0m \u001b[0mnp\u001b[0m\u001b[0;34m.\u001b[0m\u001b[0marray\u001b[0m\u001b[0;34m(\u001b[0m\u001b[0;34m[\u001b[0m\u001b[0;36m0\u001b[0m\u001b[0;34m,\u001b[0m \u001b[0;36m0\u001b[0m\u001b[0;34m,\u001b[0m \u001b[0;36m0\u001b[0m\u001b[0;34m]\u001b[0m\u001b[0;34m)\u001b[0m\u001b[0;34m\u001b[0m\u001b[0m\n\u001b[0m\u001b[1;32m      4\u001b[0m \u001b[0morigine\u001b[0m \u001b[0;34m=\u001b[0m \u001b[0mnp\u001b[0m\u001b[0;34m.\u001b[0m\u001b[0mrepeat\u001b[0m\u001b[0;34m(\u001b[0m\u001b[0morigine\u001b[0m\u001b[0;34m,\u001b[0m \u001b[0;36m10000000\u001b[0m\u001b[0;34m)\u001b[0m\u001b[0;34m.\u001b[0m\u001b[0mreshape\u001b[0m\u001b[0;34m(\u001b[0m\u001b[0;34m-\u001b[0m\u001b[0;36m1\u001b[0m\u001b[0;34m,\u001b[0m \u001b[0;36m3\u001b[0m\u001b[0;34m)\u001b[0m\u001b[0;34m\u001b[0m\u001b[0m\n\u001b[1;32m      5\u001b[0m \u001b[0mpos_bruit\u001b[0m \u001b[0;34m=\u001b[0m \u001b[0mpositions_bruitees\u001b[0m\u001b[0;34m(\u001b[0m\u001b[0morigine\u001b[0m\u001b[0;34m)\u001b[0m\u001b[0;34m\u001b[0m\u001b[0m\n",
      "\u001b[0;31mNameError\u001b[0m: name 'np' is not defined"
     ]
    }
   ],
   "source": [
    "import pandas as pd\n",
    "\n",
    "origine = np.array([0, 0, 0])\n",
    "origine = np.repeat(origine, 10000000).reshape(-1, 3)\n",
    "pos_bruit = positions_bruitees(origine)\n",
    "\n",
    "def calc_dist_origine(point):\n",
    "    return math.sqrt(pow(point[0], 2) + pow(point[1], 2) + pow(point[2], 2))\n",
    "\n",
    "distances = []\n",
    "\n",
    "for pos in pos_bruit:\n",
    "    distances.append(calc_dist_origine(pos))\n",
    "    \n",
    "distances = pd.Series(distances)\n",
    "distances.describe(percentiles=[0.68, 0.95])"
   ]
  },
  {
   "cell_type": "markdown",
   "metadata": {},
   "source": [
    "### Reconstruction des molécules\n",
    "\n",
    "L'objectif ici est de fournir une fonction permettant de reconstruire une molécule m à partir des distances de chaque atome a(i) de m aux quatre points du repère (atomes fictifs). Les atomes fictifs sont placés aux points (0, 0, 0), (1, 0, 0), (0, 1, 0), (0, 0, 1).\n",
    "\n",
    "La méthode de reconstruction de l'atome i est la suivante : on calcule l'intersection des sphères de centres af(0), af(1), af(2) et de rayons d(a(i)af(0)), d(a(i)af(1)), d(a(i)af(2)). Cela nous donne deux points p0 et p1, dont l'un des deux est la position de l'atome i. On utilise la distance d(a(i)af(3)) pour choisir la bonne solution parmi p0 et p1."
   ]
  },
  {
   "cell_type": "markdown",
   "metadata": {},
   "source": [
    "#### Fonction de calcul de distances entre deux points (méthode vectorielle)"
   ]
  },
  {
   "cell_type": "code",
   "execution_count": null,
   "metadata": {},
   "outputs": [],
   "source": [
    "import numpy as np\n",
    "\n",
    "def calcul_distance(pt1, pt2):\n",
    "    \"\"\" Renvoie la distance entre deux points représentés par leurs coordonnées (x, y, z) dans deux tableaux\n",
    "    de forme (1, 3)\"\"\"\n",
    "    return np.sqrt(np.sum(np.square(np.diff(np.array([pt1, pt2]), axis=0))))"
   ]
  },
  {
   "cell_type": "markdown",
   "metadata": {},
   "source": [
    "#### Fonction de calcul de la position d'un point à partir de ses distances avec les points fixes du repère (atomes fictifs)"
   ]
  },
  {
   "cell_type": "code",
   "execution_count": null,
   "metadata": {},
   "outputs": [],
   "source": [
    "import math\n",
    "def calcul_position(distances_abs_at):\n",
    "    \"\"\" Calcul de la position d'un atome à partir d'un tableau (1, 4) de ses distances avec les points\n",
    "    du repère (atomes fictifs) \n",
    "    Le calcul de la position s'effectue en utilisant le cas particulier dans lequel on a fixé les centres\n",
    "    des sphères de la méthode suivante : https://en.wikipedia.org/wiki/Trilateration\n",
    "    La méthode de calcul est la suivante : on calcule l'intersection entre les trois sphères\n",
    "    de centres af(0), af(1) et af(2) de rayons d(a(i)af(0)), d(a(i)af(1)), d(a(i)af(2)), puis on utilise\n",
    "    la distance d(a(i)af(3)) pour choisir la bonne solution parmi les deux proposées par l'intersection.\n",
    "    Les atomes fictifs (centres des sphères) sont placés aux positions suivantes : \n",
    "    (0, 0, 0), (1, 0, 0), (0, 1, 0) et (0, 0, 1)\n",
    "    \"\"\"\n",
    "    \n",
    "    position = np.empty(shape=(3,))\n",
    "    \n",
    "    # Calcul de la coordonnée x\n",
    "    position[0] = (pow(distances_abs_at[0], 2) - pow(distances_abs_at[1], 2) + 1 )*0.5\n",
    "\n",
    "    # Calcul de la coordonnée y\n",
    "    position[1] = (pow(distances_abs_at[0], 2) - pow(distances_abs_at[2], 2) + 1 )*0.5\n",
    "    \n",
    "    ## Calcul de la coordonnée z qui possède une solution négative et une solution positive ## \n",
    "    \n",
    "    # On calcule d'abord z^2 et on lui assigne la valeur zéro s'il est négatif (z^2 peut être très \n",
    "    # légèrement négatif à cause du manque de précision des distances)\n",
    "    zpos = math.sqrt(max(pow(distances_abs_at[0], 2) - pow(position[0], 2) - pow(position[1], 2), 0))\n",
    "    \n",
    "    # On créé la liste contenant les deux valeurs possibles pour z\n",
    "    z_sols = [zpos, -zpos]\n",
    "    \n",
    "    # On itère sur la liste des positions de z et on enregistre la solution dont la distance avec le quatrième\n",
    "    # atome fictif est la plus proche de la distance attendue\n",
    "    diff_dist_min = float(\"inf\")\n",
    "    for z_val in z_sols:\n",
    "        curr_diff = abs(calcul_distance(np.array([position[0], position[1], z_val]), np.array([0, 0, 1]))\n",
    "                        - distances_abs_at[3])\n",
    "        if curr_diff < diff_dist_min:\n",
    "            best_z_sol = z_val\n",
    "            diff_dist_min = curr_diff\n",
    "            \n",
    "    position[2] = best_z_sol\n",
    "    return position\n",
    "    "
   ]
  },
  {
   "cell_type": "markdown",
   "metadata": {},
   "source": [
    "#### Définition de la fonction de reconstruction d'une molécule (méthode vectorielle mais non parallélisée)"
   ]
  },
  {
   "cell_type": "code",
   "execution_count": null,
   "metadata": {},
   "outputs": [],
   "source": [
    "def reconstruction_molecule(distances_abs):\n",
    "    distances_abs = distances_abs.reshape(-1, 4)\n",
    "    return np.apply_along_axis(calcul_position, 1, distances_abs)"
   ]
  },
  {
   "cell_type": "markdown",
   "metadata": {},
   "source": [
    "#### Vérification de la reconstruction d'un grand nombre de molécules\n",
    "\n",
    "On va maintenant appliquer une vérification de la reconstruction sur n molécules. Pour chaque molécule, on génère des positions aléatoirement, on calcule la matrice de distances compressée sur ces positions et on reconstruit les positions à partir de cette matrice de distances.\n",
    "On calcule la différence entre les matrices position pré et post traitement, et on vérifie qu'aucune valeur n'est en dessous du seuil donné en paramètre.\n",
    "De plus, on calcule la matrice de distances compressée sur les nouvelles positions et on la compare à la matrice de distances compressée pré-traitement par la même méthode."
   ]
  },
  {
   "cell_type": "code",
   "execution_count": 105,
   "metadata": {},
   "outputs": [],
   "source": [
    "\n",
    "def check_n_reconstructions(iterations, nb_atomes, epsilon, check_positions=True):\n",
    "    \"\"\" Teste la reconstruction de iterations molécules contenant chacune nb_atomes atomes. La reconstruction\n",
    "    de chaque molécule est validée si la différence entre les distances attendues et les distances calculées\n",
    "    après la reconstructions est inférieure à l'epsilon donné.\n",
    "    Si le paramètre check_positions est vrai, alors on reconstruit la molécule une fois de plus à chaque\n",
    "    itération et on vérifie que les deux reconstructions ont produit les mêmes positions à epsilon près\n",
    "    \"\"\"\n",
    "    \n",
    "    succes = True\n",
    "    \n",
    "    erreurs_pos = 0\n",
    "    erreurs_dist = 0\n",
    "    \n",
    "    imprecisions_glob_dist = []\n",
    "    imprecisions_glob_pos = []\n",
    "    \n",
    "    for i in range(n):\n",
    "\n",
    "        succes_courant = True\n",
    "        \n",
    "        positions = gen_pos(atomes_nb)  # On génère les positions\n",
    "\n",
    "        distances = matrice_distances_compr(positions)  # On calcule la matrice des distances\n",
    "        \n",
    "        # On reconstruit les positions à partir des distances\n",
    "        positions_post_traitement = reconstruction_molecule(distances)\n",
    "\n",
    "        # On calcule les nouvelles distances\n",
    "        nouvelles_distances = matrice_distances_compr(positions_post_traitement)\n",
    "\n",
    "        if check_positions:\n",
    "        \n",
    "            # On reconstruit les nouvelles positions afin de vérifier qu'on obtient les mêmes\n",
    "            positions_post_traitement2 = reconstruction_molecule(nouvelles_distances)\n",
    "            \n",
    "            # On enregistre l'échec de la validation si les positions de la deuxième reconstruction sont\n",
    "            # différentes des positions de la première reconstruction\n",
    "        \n",
    "            diff_pos = abs(positions_post_traitement - positions_post_traitement2)\n",
    "            succes_courant = (diff_pos < epsilon).all()\n",
    "            imprecisions_glob_pos.append(diff_pos.flatten())\n",
    "\n",
    "            if not succes_courant:\n",
    "                erreurs_pos += 1\n",
    "            \n",
    "            succes = succes and succes_courant\n",
    "            \n",
    "            succes_courant = True\n",
    "\n",
    "        # On enregistre l'échec de la validation si les distances pré/post reconstruction diffèrent\n",
    "        diff_dist = abs(distances - nouvelles_distances)\n",
    "        succes_courant = (diff_dist < epsilon).all()\n",
    "        imprecisions_glob_dist.append(diff_dist.flatten())\n",
    "\n",
    "        if not succes_courant and check_positions:\n",
    "            erreurs_dist += 1\n",
    "            \n",
    "            \n",
    "        succes = succes and succes_courant            \n",
    "            \n",
    "    \n",
    "    print(\"Vérification des distances\")\n",
    "    print(\"Nombre de molécules ayant au moins une imprécision supérieure au seuil : \"+str(erreurs_dist))\n",
    "    print(\"Imprécision max : \"+str(np.amax(imprecisions_glob_dist)))\n",
    "    print(\"Imprécision moyenne \"+str(np.mean(imprecisions_glob_dist)))\n",
    "    print(\"Imprécision médiane : \"+str(np.median(imprecisions_glob_dist)))\n",
    "\n",
    "    if check_positions:\n",
    "        print()\n",
    "        print(\"Vérification des positions\")\n",
    "        print(\"Nombre de molécules ayant au moins une imprécision supérieure au seuil : \"+str(erreurs_pos))\n",
    "        print(\"Imprécision max : \"+str(np.amax(imprecisions_glob_pos)))\n",
    "        print(\"Imprécision moyenne \"+str(np.mean(imprecisions_glob_pos)))\n",
    "    \n",
    "    return succes\n",
    "    \n"
   ]
  },
  {
   "cell_type": "code",
   "execution_count": 106,
   "metadata": {},
   "outputs": [
    {
     "name": "stdout",
     "output_type": "stream",
     "text": [
      "Vérification des distances\n",
      "Nombre de molécules ayant au moins une imprécision supérieure au seuil : 0\n",
      "Imprécision max : 1.4543732884675364e-09\n",
      "Imprécision moyenne 4.011691799934991e-16\n",
      "Imprécision médiane : 0.0\n",
      "\n",
      "Vérification des positions\n",
      "Nombre de molécules ayant au moins une imprécision supérieure au seuil : 0\n",
      "Imprécision max : 1.5411295592154317e-09\n",
      "Imprécision moyenne 2.934761583881062e-16\n",
      "True\n"
     ]
    }
   ],
   "source": [
    "n = 100000  # molécules générées\n",
    "atomes_nb = 150  # nombre d'atomes par molécule\n",
    "\n",
    "epsilon_diff = 1e-8  # tolérance epsilon\n",
    "\n",
    "print(check_n_reconstructions(n, atomes_nb, epsilon_diff))"
   ]
  },
  {
   "cell_type": "code",
   "execution_count": null,
   "metadata": {},
   "outputs": [],
   "source": []
  },
  {
   "cell_type": "code",
   "execution_count": null,
   "metadata": {},
   "outputs": [],
   "source": []
  }
 ],
 "metadata": {
  "kernelspec": {
   "display_name": "Python 3",
   "language": "python",
   "name": "python3"
  },
  "language_info": {
   "codemirror_mode": {
    "name": "ipython",
    "version": 3
   },
   "file_extension": ".py",
   "mimetype": "text/x-python",
   "name": "python",
   "nbconvert_exporter": "python",
   "pygments_lexer": "ipython3",
   "version": "3.6.4"
  }
 },
 "nbformat": 4,
 "nbformat_minor": 2
}
