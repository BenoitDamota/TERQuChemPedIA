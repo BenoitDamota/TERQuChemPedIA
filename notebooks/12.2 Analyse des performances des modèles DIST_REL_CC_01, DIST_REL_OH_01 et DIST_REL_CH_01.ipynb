{
 "cells": [
  {
   "cell_type": "markdown",
   "metadata": {},
   "source": [
    "## Analyse des performances des modèles DIST_REL_CC_01, DIST_REL_OH_01 et DIST_REL_CH_01\n",
    "\n",
    "Nous allons dans ce notebook analyser les performances des modèles DIST_REL_CC_01, DIST_REL_OH_01 et DIST_REL_CH_01, entraînés dans le notebook 12.1.\n",
    "\n",
    "Pour chaque modèle, nous allons calculer et afficher trois représentations graphiques :\n",
    "\n",
    "* La distribution des erreurs, pour représenter la capacité du modèle à prédire des valeurs correctes en général.\n",
    "* La distribution des erreurs en fonction des valeurs cibles, pour déterminer les plages de valeurs cibles que les modèles prédisent plus ou moins bien.\n",
    "* Les prédictions en fonction des valeurs cibles, pour comparer les prédictions aux valeurs cibles sur toutes les plages.\n",
    "\n",
    "De plus, nous allons calculer pour chaque modèle certaines statistiques sur la distribution des erreurs.\n",
    "\n",
    "#### Chemin des fichiers"
   ]
  },
  {
   "cell_type": "code",
   "execution_count": 2,
   "metadata": {},
   "outputs": [],
   "source": [
    "CC_model_loc = \"../models/DIST_REL_CC_01/12.1/DIST_REL_CC_01_basic.tflearn\"\n",
    "CH_model_loc = \"../models/DIST_REL_CH_01/12.1/DIST_REL_CH_01_basic.tflearn\"\n",
    "OH_model_loc = \"../models/DIST_REL_OH_01/12.1/DIST_REL_OH_01_basic.tflearn\"\n",
    "\n",
    "CC_test_set_prepared_input_loc = \"../data/DIST_REL_CC/test_set_prepared_input.h5\"\n",
    "CC_test_set_labels_loc = \"../data/DIST_REL_CC/test_set_labels.h5\"\n",
    "\n",
    "CH_test_set_prepared_input_loc = \"../data/DIST_REL_CH/test_set_prepared_input.h5\"\n",
    "CH_test_set_labels_loc = \"../data/DIST_REL_CH/test_set_labels.h5\"\n",
    "\n",
    "OH_test_set_prepared_input_loc = \"../data/DIST_REL_OH/test_set_prepared_input.h5\"\n",
    "OH_test_set_labels_loc = \"../data/DIST_REL_OH/test_set_labels.h5\""
   ]
  },
  {
   "cell_type": "markdown",
   "metadata": {},
   "source": [
    "#### Constantes"
   ]
  },
  {
   "cell_type": "code",
   "execution_count": 1,
   "metadata": {},
   "outputs": [],
   "source": [
    "C_ANUM = 6.\n",
    "O_ANUM = 8.\n",
    "H_ANUM = 1."
   ]
  },
  {
   "cell_type": "markdown",
   "metadata": {},
   "source": [
    "### Création du RN\n",
    "\n",
    "#### Fonction de coût (RMSE)"
   ]
  },
  {
   "cell_type": "code",
   "execution_count": 3,
   "metadata": {},
   "outputs": [],
   "source": [
    "def rmse(pred, targets):\n",
    "    with tf.name_scope(\"rmse_loss\"):\n",
    "        return tf.sqrt(tf.reduce_mean(tf.squared_difference(pred, targets)), name=\"rmse\")"
   ]
  },
  {
   "cell_type": "markdown",
   "metadata": {},
   "source": [
    "#### Fonction d'évaluation des performances (opposé du RMSE)"
   ]
  },
  {
   "cell_type": "code",
   "execution_count": 4,
   "metadata": {},
   "outputs": [],
   "source": [
    "def rmse_valid(pred, targets, inputs):\n",
    "    with tf.name_scope(\"rmse_validation\"):\n",
    "        return -rmse(pred, targets)"
   ]
  },
  {
   "cell_type": "markdown",
   "metadata": {},
   "source": [
    "#### Fonction de création du RN\n"
   ]
  },
  {
   "cell_type": "code",
   "execution_count": 5,
   "metadata": {},
   "outputs": [
    {
     "name": "stderr",
     "output_type": "stream",
     "text": [
      "/home/etudiant/anaconda3/lib/python3.6/site-packages/h5py/__init__.py:36: FutureWarning: Conversion of the second argument of issubdtype from `float` to `np.floating` is deprecated. In future, it will be treated as `np.float64 == np.dtype(float).type`.\n",
      "  from ._conv import register_converters as _register_converters\n"
     ]
    },
    {
     "name": "stdout",
     "output_type": "stream",
     "text": [
      "WARNING:tensorflow:From /home/etudiant/anaconda3/lib/python3.6/site-packages/tensorflow/contrib/learn/python/learn/datasets/base.py:198: retry (from tensorflow.contrib.learn.python.learn.datasets.base) is deprecated and will be removed in a future version.\n",
      "Instructions for updating:\n",
      "Use the retry module or similar alternatives.\n"
     ]
    }
   ],
   "source": [
    "from tflearn.layers.core import input_data, dropout, fully_connected\n",
    "from tflearn.layers.estimator import regression\n",
    "from tflearn.optimizers import Adam\n",
    "from tflearn.data_preprocessing import DataPreprocessing\n",
    "import math\n",
    "\n",
    "\n",
    "def creer_RN(epsilon=1e-8, learning_rate=0.001, dropout_val=0.99, stddev_init=0.001,\n",
    "             hidden_act='relu', outlayer_act='prelu', weight_decay=0.001, width=870, depth=3,\n",
    "             validation_fun=rmse_valid, cost_fun=rmse):\n",
    "\n",
    "    # On créé l'initialisateur de tenseur avec une loi normale tronquée. sigma = stddev_init, et les \n",
    "    # valeurs à plus de 2sigma sont re-tirées\n",
    "    winit = tfl.initializations.truncated_normal(stddev=stddev_init, dtype=tf.float32, seed=None)\n",
    "    \n",
    "    # On créé l'input du RN\n",
    "    network = input_data(shape=[None, 870], name='input')\n",
    "    \n",
    "    # On créé les couches cachées\n",
    "    for i in range(depth):\n",
    "        network = fully_connected(network, width, activation=hidden_act, name='fc'+str(i), weights_init=winit,\n",
    "                                  weight_decay=weight_decay)\n",
    "        # On détruit des neurones aléatoirement avec une la probabilité donnée en entrée\n",
    "        network = dropout(network, dropout_val)\n",
    "    \n",
    "    # On ajoute la couche de sortie du réseau\n",
    "    # Fonction d'activation prelu\n",
    "    # Initilisée avec la loi normale tronquée\n",
    "    network = fully_connected(network, 1, activation=outlayer_act, name='outlayer', weights_init=winit)\n",
    "    \n",
    "    adam = Adam(learning_rate=learning_rate, epsilon=epsilon)\n",
    "    \n",
    "    # Couche d'évaluation du modèle. Utilisation d'une descente stochastique Adam\n",
    "    # Learning rate = 0.05\n",
    "    # Loss = fonction définie rmse\n",
    "    network = regression(network, optimizer=adam,\n",
    "    loss=cost_fun, metric=validation_fun, name='target')\n",
    "            \n",
    "    return network"
   ]
  },
  {
   "cell_type": "code",
   "execution_count": null,
   "metadata": {},
   "outputs": [],
   "source": []
  },
  {
   "cell_type": "markdown",
   "metadata": {},
   "source": [
    "### Calcul des prédictions\n",
    "\n",
    "#### Calcul du RMSE sur des vecteurs"
   ]
  },
  {
   "cell_type": "code",
   "execution_count": 11,
   "metadata": {},
   "outputs": [],
   "source": [
    "import numpy as np\n",
    "\n",
    "def rmse_test(targets, predictions):\n",
    "    return np.sqrt(np.square(np.diff([targets, predictions], axis=0)))[0]"
   ]
  },
  {
   "cell_type": "markdown",
   "metadata": {},
   "source": [
    "#### Calcul de l'erreur sur chaque exemple du jeu de test"
   ]
  },
  {
   "cell_type": "code",
   "execution_count": 12,
   "metadata": {},
   "outputs": [],
   "source": [
    "import h5py\n",
    "from tflearn.data_utils import pad_sequences\n",
    "import tensorflow as tf\n",
    "import tflearn as tfl\n",
    "\n",
    "def calculer_pred(model_loc, test_set_prepared_input_loc, test_set_labels_loc):\n",
    "    \"\"\" Renvoie l'erreur et la prédiction pour chaque exemple du jeu de test \"\"\"\n",
    "    \n",
    "    tf.reset_default_graph()\n",
    "    \n",
    "    # Importation du modèle\n",
    "    network = creer_RN(learning_rate=0.01, dropout_val=0.98, epsilon=0.001, hidden_act=\"elu\", outlayer_act=\"linear\", width=870, depth=3)\n",
    "    model = tfl.DNN(network)\n",
    "    model.load(model_loc, weights_only=True)\n",
    "    \n",
    "    # Chargement des données\n",
    "    inputs_h5 = h5py.File(test_set_prepared_input_loc, 'r')\n",
    "    targets_h5 = h5py.File(test_set_labels_loc, 'r')\n",
    "    \n",
    "    inputs = np.array(inputs_h5[\"inputs\"])\n",
    "    inputs = pad_sequences(inputs, dtype=\"float32\", maxlen=870)\n",
    "    \n",
    "    targets = np.array(targets_h5[\"targets\"])\n",
    "    targets = targets.reshape(-1, 1)\n",
    "        \n",
    "    predictions = []\n",
    "    \n",
    "    i = 0\n",
    "    batch_size = 10000\n",
    "    \n",
    "    while i < len(inputs):\n",
    "        j = min(len(inputs), i+batch_size)\n",
    "        predictions.extend(model.predict(np.array(inputs[i:j]).reshape(-1, 870)))\n",
    "        i += batch_size\n",
    "    \n",
    "    \n",
    "    predictions = np.array(predictions).reshape(-1, 1)\n",
    "        \n",
    "    return rmse_test(targets, predictions).reshape(1, -1)[0], predictions\n",
    "    \n",
    "    "
   ]
  },
  {
   "cell_type": "markdown",
   "metadata": {},
   "source": [
    "### Définitions des fonctions de statistiques et de plot\n",
    "\n",
    "#### Affichage statistiques"
   ]
  },
  {
   "cell_type": "code",
   "execution_count": 7,
   "metadata": {},
   "outputs": [],
   "source": [
    "def print_stats_rmse(rmses):\n",
    "    print(\"Erreur moyenne : \"+str(np.mean(rmses)))\n",
    "    print(\"Erreur médiane : \"+str(np.median(rmses)))\n",
    "    print(\"Écart-type : \"+str(np.std(rmses)))\n",
    "    print(\"Erreur min : \"+str(min(rmses)))\n",
    "    print(\"Erreur max : \"+str(max(rmses)))\n",
    "    "
   ]
  },
  {
   "cell_type": "markdown",
   "metadata": {},
   "source": [
    "#### Représentation graphique de la distribution des erreurs selon leur valeur"
   ]
  },
  {
   "cell_type": "code",
   "execution_count": 8,
   "metadata": {},
   "outputs": [],
   "source": [
    "import matplotlib.pyplot as plt\n",
    "import matplotlib as mpl\n",
    "\n",
    "mpl.rcParams['agg.path.chunksize'] = 10000\n",
    "\n",
    "\n",
    "def plot_distrib_rmses_val(rmses, padding, model_name, figures_loc):\n",
    "    \"\"\" Affiche la distribution des rmses selon un pas donné \"\"\"\n",
    "    \n",
    "    # On calcule les bornes de notre index\n",
    "    debut_index = np.floor(min(rmses))\n",
    "    fin_index = max(rmses)+padding\n",
    "    \n",
    "    # On créé l'index des rmses\n",
    "    index = np.arange(debut_index, fin_index, padding)\n",
    "    \n",
    "    # On créé le compteur de rmses\n",
    "    rmse_occ = np.zeros_like(index)\n",
    "        \n",
    "    # Calcul des rmse\n",
    "    for rmse in rmses:\n",
    "        rmse_occ[int((rmse-debut_index)/padding)] += 1\n",
    "    \n",
    "    fig = plt.figure()\n",
    "    \n",
    "    \n",
    "    ## Échelle linéaire ##\n",
    "    ax1 = fig.add_subplot(121)\n",
    "    ax1.set_title(\"Modèle \"+model_name+\"\\n Distribution des erreurs\")\n",
    "    ax1.set_xlabel(\"Erreur absolue (mÅ)\")\n",
    "    ax1.set_ylabel(\"Occurrences sur le jeu de test\")\n",
    "    ax1.bar(index, rmse_occ)\n",
    "   \n",
    "\n",
    "    ## Échelle logarithmique\n",
    "    ax2 = fig.add_subplot(122)\n",
    "    ax2.set_title(\"Modèle \"+model_name+\"\\n Distribution des erreurs\")\n",
    "    ax2.set_xlabel(\"Erreur absolue (mÅ)\")\n",
    "    ax2.set_ylabel(\"Occurrences sur le jeu de test (échelle logarithmique)\")\n",
    "    ax2.set_yscale(\"log\")\n",
    "    ax2.bar(index, rmse_occ)\n",
    "    \n",
    "    plt.gcf().subplots_adjust(wspace=0.3)\n",
    "\n",
    "    \n",
    "    plt.savefig(figures_loc+model_name+\"_distrib_rmse_val.png\", dpi=250)\n",
    "    plt.show()\n"
   ]
  },
  {
   "cell_type": "markdown",
   "metadata": {},
   "source": [
    "#### Distribution des erreurs selon la distance à prédire"
   ]
  },
  {
   "cell_type": "code",
   "execution_count": 9,
   "metadata": {},
   "outputs": [],
   "source": [
    "def plot_rmse_distrib_dist(rmses, targets, anum_1, anum_2, model_name, figures_loc):\n",
    "    \n",
    "    fig = plt.figure()\n",
    "    ax = fig.add_subplot(111)\n",
    "    \n",
    "    ax.set_title(\"Modèle \"+model_name+\"\\nDistribution des erreurs selon les distances cibles\")\n",
    "    ax.set_xlabel(\"Distance cible (mÅ)\")\n",
    "    ax.set_ylabel(\"Erreur absolue (mÅ)\")\n",
    "    ax.plot(targets, rmses, \",\")\n",
    "    \n",
    "    ax.annotate('', xy=(0.07, 0.89), xytext=(0.17, 0.89), xycoords=ax.transAxes,\n",
    "            arrowprops=dict(facecolor='red', shrink=0.05)\n",
    "            )\n",
    "    \n",
    "    ax.text(0.19, 0.85, \"Longueur de liaison\\ntypique\", transform=ax.transAxes)\n",
    "    \n",
    "    \n",
    "    if anum_1==C_ANUM and anum_2==C_ANUM:\n",
    "        \n",
    "        x_axe_coord = ax.transAxes.inverted().transform(ax.transData.transform((1200,0)))[0]\n",
    "        ax.annotate('triple', xy=(x_axe_coord, 0), xytext=(x_axe_coord-0.1, 0.1), xycoords=ax.transAxes,\n",
    "                arrowprops=dict(facecolor='red', shrink=0.05), \n",
    "                )\n",
    "\n",
    "        x_axe_coord = ax.transAxes.inverted().transform(ax.transData.transform((1340,0)))[0]\n",
    "        ax.annotate('double', xy=(x_axe_coord, 0), xytext=(x_axe_coord, 0.1), xycoords=ax.transAxes,\n",
    "                arrowprops=dict(facecolor='red', shrink=0.05),\n",
    "                )\n",
    "\n",
    "        x_axe_coord = ax.transAxes.inverted().transform(ax.transData.transform((1540,0)))[0]\n",
    "        ax.annotate('simple', xy=(x_axe_coord, 0), xytext=(x_axe_coord, 0.1), xycoords=ax.transAxes,\n",
    "                arrowprops=dict(facecolor='red', shrink=0.05),\n",
    "                )\n",
    "\n",
    "        x_axe_coord = ax.transAxes.inverted().transform(ax.transData.transform((1400,0)))[0]\n",
    "        ax.annotate('aromatique', xy=(x_axe_coord, 0), xytext=(x_axe_coord, 0.1), xycoords=ax.transAxes,\n",
    "                arrowprops=dict(facecolor='red', shrink=0.05),\n",
    "                )\n",
    "\n",
    "    elif anum_1==C_ANUM and anum_2==H_ANUM:\n",
    "        \n",
    "        x_axe_coord = ax.transAxes.inverted().transform(ax.transData.transform((1090,0)))[0]\n",
    "        ax.annotate('simple', xy=(x_axe_coord, 0), xytext=(x_axe_coord, 0.1), xycoords=ax.transAxes,\n",
    "                arrowprops=dict(facecolor='red', shrink=0.05), \n",
    "                )\n",
    "        \n",
    "    elif anum_1==O_ANUM and anum_2==H_ANUM:\n",
    "        \n",
    "        x_axe_coord = ax.transAxes.inverted().transform(ax.transData.transform((980,0)))[0]\n",
    "        ax.annotate('simple', xy=(x_axe_coord, 0), xytext=(x_axe_coord, 0.1), xycoords=ax.transAxes,\n",
    "                arrowprops=dict(facecolor='red', shrink=0.05), \n",
    "                )\n",
    "        \n",
    "        \n",
    "    plt.savefig(figures_loc+model_name+\"_distrib_rmse_dist.png\", dpi=250)\n",
    "    \n",
    "    plt.show()\n",
    "    \n"
   ]
  },
  {
   "cell_type": "markdown",
   "metadata": {},
   "source": [
    "#### Visualisation des prédictions selon les distances attendues"
   ]
  },
  {
   "cell_type": "code",
   "execution_count": 10,
   "metadata": {},
   "outputs": [],
   "source": [
    "def fun_id(x):\n",
    "    return x\n",
    "\n",
    "def plot_targets_pred(targets, preds, anum_1, anum_2, model_name, figures_loc):\n",
    "        \n",
    "    fig = plt.figure()\n",
    "    ax = fig.add_subplot(111)\n",
    "        \n",
    "    ax.set_title(\"Modèle \"+model_name+\"\\n Prédictions en fonction des distances cibles\")\n",
    "    ax.set_xlabel(\"Distance cible (mÅ)\")\n",
    "    ax.set_ylabel(\"Distance prédite (mÅ)\")\n",
    "    \n",
    "    ax.plot(targets, preds, \",\")\n",
    "    \n",
    "    \"\"\"\n",
    "    ax.annotate('', xy=(0.07, 0.89), xytext=(0.17, 0.89), xycoords=ax.transAxes,\n",
    "            arrowprops=dict(facecolor='red', shrink=0.05)\n",
    "            )\n",
    "    \n",
    "    ax.text(0.19, 0.85, \"Longueur de liaison\\ntypique\", transform=ax.transAxes)\n",
    "    \"\"\"\n",
    "    if anum_1==C_ANUM and anum_2==C_ANUM:\n",
    "        \n",
    "        x_axe_coord = ax.transAxes.inverted().transform(ax.transData.transform((1200,0)))[0]\n",
    "        ax.annotate('triple', xy=(x_axe_coord, 0), xytext=(x_axe_coord+0.06, 0.1), xycoords=ax.transAxes,\n",
    "                arrowprops=dict(facecolor='red', shrink=0.05), label=\"Longeur de liaison typique\"\n",
    "                )\n",
    "\n",
    "        x_axe_coord = ax.transAxes.inverted().transform(ax.transData.transform((1340,0)))[0]\n",
    "        ax.annotate('double', xy=(x_axe_coord, 0), xytext=(x_axe_coord, 0.1), xycoords=ax.transAxes,\n",
    "                arrowprops=dict(facecolor='red', shrink=0.05),\n",
    "                )\n",
    "\n",
    "        x_axe_coord = ax.transAxes.inverted().transform(ax.transData.transform((1540,0)))[0]\n",
    "        ax.annotate('simple', xy=(x_axe_coord, 0), xytext=(x_axe_coord, 0.1), xycoords=ax.transAxes,\n",
    "                arrowprops=dict(facecolor='red', shrink=0.05),\n",
    "                )\n",
    "\n",
    "        x_axe_coord = ax.transAxes.inverted().transform(ax.transData.transform((1400,0)))[0]\n",
    "        ax.annotate('aromatique', xy=(x_axe_coord, 0), xytext=(x_axe_coord, 0.1), xycoords=ax.transAxes,\n",
    "                arrowprops=dict(facecolor='red', shrink=0.05),\n",
    "                )\n",
    "\n",
    "    elif anum_1==C_ANUM and anum_2==H_ANUM:\n",
    "        \n",
    "        x_axe_coord = ax.transAxes.inverted().transform(ax.transData.transform((1090,0)))[0]\n",
    "        ax.annotate('simple', xy=(x_axe_coord, 0), xytext=(x_axe_coord, 0.1), xycoords=ax.transAxes,\n",
    "                arrowprops=dict(facecolor='red', shrink=0.05), label=\"Longueur de liaison typique\"\n",
    "                )\n",
    "        \n",
    "    elif anum_1==O_ANUM and anum_2==H_ANUM:\n",
    "        \n",
    "        x_axe_coord = ax.transAxes.inverted().transform(ax.transData.transform((980,0)))[0]\n",
    "        ax.annotate('simple', xy=(x_axe_coord, 0), xytext=(x_axe_coord, 0.1), xycoords=ax.transAxes,\n",
    "                arrowprops=dict(facecolor='red', shrink=0.05), label=\"Longueur de liaison typique\"\n",
    "                )\n",
    "        \n",
    "        \n",
    "    # On trace la droite y=x\n",
    "    x=np.linspace(min(targets), max(targets))\n",
    "    ax.plot(x, fun_id(x), color='darkgreen', label=\"Modèle théorique parfait\")\n",
    "    \n",
    "    ax.text(0.65, 0.85, 'Modèle théorique\\nparfait',\n",
    "        transform=ax.transAxes,\n",
    "        color='darkgreen')\n",
    "    \n",
    "    ax.legend(loc='upper center', shadow=True)\n",
    "    \n",
    "    plt.savefig(figures_loc+model_name+\"_preds_fonction_cibles.png\", dpi=250)\n",
    "    \n",
    "    plt.show()\n",
    "\n"
   ]
  },
  {
   "cell_type": "markdown",
   "metadata": {},
   "source": [
    "## Analyse des modèles\n",
    "\n",
    "### Modèle DIST_REL_CC_01\n",
    "\n",
    "#### Calcul des prédictions"
   ]
  },
  {
   "cell_type": "code",
   "execution_count": null,
   "metadata": {},
   "outputs": [],
   "source": [
    "rmses, predictions = calculer_pred(CC_model_loc, CC_test_set_prepared_input_loc, CC_test_set_labels_loc)"
   ]
  },
  {
   "cell_type": "markdown",
   "metadata": {},
   "source": [
    "#### Récupération du vecteur cibles (distances)"
   ]
  },
  {
   "cell_type": "code",
   "execution_count": null,
   "metadata": {},
   "outputs": [],
   "source": [
    "def extract_targets(test_set_labels_loc):\n",
    "    targets_h5 = h5py.File(test_set_labels_loc, 'r')\n",
    "    targets = np.array(targets_h5[\"targets\"])\n",
    "    targets = targets.reshape(-1, 1)\n",
    "    return targets\n",
    "\n",
    "#targets = extract_targets(CC_test_set_labels_loc)"
   ]
  },
  {
   "cell_type": "markdown",
   "metadata": {},
   "source": [
    "#### Affichage des statistiques sur les erreurs"
   ]
  },
  {
   "cell_type": "code",
   "execution_count": null,
   "metadata": {},
   "outputs": [],
   "source": [
    "#print_stats_rmse(rmses)"
   ]
  },
  {
   "cell_type": "markdown",
   "metadata": {},
   "source": [
    "##### Sortie\n",
    "```\n",
    "Plotting DIST_REL_CC_01\n",
    "Dataset size : 1106823\n",
    "Mean error : 0.83337665\n",
    "Median error : 0.46037596\n",
    "Standard deviation : 1.20663\n",
    "Min error : 0.0\n",
    "Max error : 30.113806\n",
    "Relative error : 0.5709485%\n",
    "```\n",
    "\n"
   ]
  },
  {
   "cell_type": "markdown",
   "metadata": {},
   "source": [
    "#### Distribution des erreurs"
   ]
  },
  {
   "cell_type": "code",
   "execution_count": null,
   "metadata": {},
   "outputs": [],
   "source": [
    "#plot_distrib_rmses_val(rmses, 1, \"DIST_REL_CC_01\", \"../figures/12.2-\")"
   ]
  },
  {
   "cell_type": "markdown",
   "metadata": {},
   "source": [
    "![title](../figures/12.2-DIST_REL_CC_01_distrib_rmse_val.png)"
   ]
  },
  {
   "cell_type": "markdown",
   "metadata": {},
   "source": [
    "#### Distribution des erreurs selon les cibles"
   ]
  },
  {
   "cell_type": "code",
   "execution_count": null,
   "metadata": {},
   "outputs": [],
   "source": [
    "#plot_rmse_distrib_dist(rmses, targets, C_ANUM, C_ANUM, \"DIST_REL_CC_01\", \"../figures/12.2-\")"
   ]
  },
  {
   "cell_type": "markdown",
   "metadata": {},
   "source": [
    "![title](../figures/12.2-DIST_REL_CC_01_distrib_rmse_dist.png)"
   ]
  },
  {
   "cell_type": "markdown",
   "metadata": {},
   "source": [
    "#### Prédictions selon les distances cibles"
   ]
  },
  {
   "cell_type": "code",
   "execution_count": null,
   "metadata": {},
   "outputs": [],
   "source": [
    "#plot_targets_pred(targets, predictions, C_ANUM, C_ANUM, \"DIST_REL_CC_01\", \"../figures/12.2-\")"
   ]
  },
  {
   "cell_type": "markdown",
   "metadata": {},
   "source": [
    "![title](../figures/12.2-DIST_REL_CC_01_preds_fonction_cibles.png)"
   ]
  },
  {
   "cell_type": "markdown",
   "metadata": {},
   "source": [
    "## Modèle DIST_REL_OH_01\n",
    "\n",
    "#### Calcul des prédictions"
   ]
  },
  {
   "cell_type": "code",
   "execution_count": null,
   "metadata": {},
   "outputs": [],
   "source": [
    "#rmses, predictions = calculer_pred(OH_model_loc, OH_test_set_prepared_input_loc, OH_test_set_labels_loc)"
   ]
  },
  {
   "cell_type": "markdown",
   "metadata": {},
   "source": [
    "#### Récupération du vecteur cibles (distances)"
   ]
  },
  {
   "cell_type": "code",
   "execution_count": null,
   "metadata": {},
   "outputs": [],
   "source": [
    "#targets = extract_targets(OH_test_set_labels_loc)"
   ]
  },
  {
   "cell_type": "markdown",
   "metadata": {},
   "source": [
    "#### Affichage des statistiques sur les erreurs"
   ]
  },
  {
   "cell_type": "code",
   "execution_count": null,
   "metadata": {},
   "outputs": [],
   "source": [
    "#print_stats_rmse(rmses)"
   ]
  },
  {
   "cell_type": "markdown",
   "metadata": {},
   "source": [
    "##### Sortie\n",
    "\n",
    "```\n",
    "Plotting DIST_REL_OH_01\n",
    "Dataset size : 143588\n",
    "Mean error : 0.19465849\n",
    "Median error : 0.11533813\n",
    "Standard deviation : 0.251944\n",
    "Min error : 0.0\n",
    "Max error : 7.2529726\n",
    "Relative error : 0.19857097%\n",
    "```"
   ]
  },
  {
   "cell_type": "markdown",
   "metadata": {},
   "source": [
    "#### Distribution des erreurs"
   ]
  },
  {
   "cell_type": "code",
   "execution_count": null,
   "metadata": {},
   "outputs": [],
   "source": [
    "#plot_distrib_rmses_val(rmses, 1, \"DIST_REL_OH_01\", \"../figures/12.2-\")"
   ]
  },
  {
   "cell_type": "markdown",
   "metadata": {},
   "source": [
    "![title](../figures/12.2-DIST_REL_OH_01_distrib_rmse_val.png)\n",
    "\n",
    "#### Distribution des erreurs selon les cibles"
   ]
  },
  {
   "cell_type": "code",
   "execution_count": null,
   "metadata": {},
   "outputs": [],
   "source": [
    "#plot_rmse_distrib_dist(rmses, targets, O_ANUM, H_ANUM, \"DIST_REL_OH_01\", \"../figures/12.2-\")"
   ]
  },
  {
   "cell_type": "markdown",
   "metadata": {},
   "source": [
    "![title](../figures/12.2-DIST_REL_OH_01_distrib_rmse_dist.png)\n",
    "\n",
    "#### Prédictions selon les distances cibles"
   ]
  },
  {
   "cell_type": "code",
   "execution_count": null,
   "metadata": {},
   "outputs": [],
   "source": [
    "#plot_targets_pred(targets, predictions, O_ANUM, H_ANUM, \"DIST_REL_OH_01\", \"../figures/12.2-\")"
   ]
  },
  {
   "cell_type": "markdown",
   "metadata": {},
   "source": [
    "![title](../figures/12.2-DIST_REL_OH_01_preds_fonction_cibles.png)"
   ]
  },
  {
   "cell_type": "markdown",
   "metadata": {},
   "source": [
    "## Modèle DIST_REL_CH_01\n",
    "\n",
    "#### Calcul des prédictions"
   ]
  },
  {
   "cell_type": "code",
   "execution_count": null,
   "metadata": {},
   "outputs": [],
   "source": [
    "#rmses, predictions = calculer_pred(CH_model_loc, CH_test_set_prepared_input_loc, CH_test_set_labels_loc)"
   ]
  },
  {
   "cell_type": "markdown",
   "metadata": {},
   "source": [
    "#### Récupération du vecteur cibles (distances)"
   ]
  },
  {
   "cell_type": "code",
   "execution_count": null,
   "metadata": {},
   "outputs": [],
   "source": [
    "#targets = extract_targets(CH_test_set_labels_loc)"
   ]
  },
  {
   "cell_type": "markdown",
   "metadata": {},
   "source": [
    "#### Affichage des statistiques sur les erreurs"
   ]
  },
  {
   "cell_type": "code",
   "execution_count": null,
   "metadata": {},
   "outputs": [],
   "source": [
    "#print_stats_rmse(rmses)"
   ]
  },
  {
   "cell_type": "markdown",
   "metadata": {},
   "source": [
    "##### Sortie\n",
    "```\n",
    "Plotting DIST_REL_CH_01\n",
    "Dataset size : 1158251\n",
    "Mean error : 0.17527544\n",
    "Median error : 0.11315918\n",
    "    Standard deviation : 0.19614318\n",
    "Min error : 0.0\n",
    "Max error : 22.14729\n",
    "Relative error : 0.15991603%\n",
    "```"
   ]
  },
  {
   "cell_type": "markdown",
   "metadata": {},
   "source": [
    "#### Distribution des erreurs"
   ]
  },
  {
   "cell_type": "code",
   "execution_count": null,
   "metadata": {},
   "outputs": [],
   "source": [
    "#plot_distrib_rmses_val(rmses, 1, \"DIST_REL_CH_01\", \"../figures/12.2-\")"
   ]
  },
  {
   "cell_type": "markdown",
   "metadata": {},
   "source": [
    "![title](../figures/12.2-DIST_REL_CH_01_distrib_rmse_val.png)\n",
    "\n",
    "#### Distribution des erreurs selon les cibles"
   ]
  },
  {
   "cell_type": "code",
   "execution_count": null,
   "metadata": {},
   "outputs": [],
   "source": [
    "#plot_rmse_distrib_dist(rmses, targets, C_ANUM, H_ANUM, \"DIST_REL_CH_01\", \"../figures/12.2-\")"
   ]
  },
  {
   "cell_type": "markdown",
   "metadata": {},
   "source": [
    "![title](../figures/12.2-DIST_REL_CH_01_distrib_rmse_dist.png)\n",
    "\n",
    "#### Prédictions selon les distances cibles"
   ]
  },
  {
   "cell_type": "code",
   "execution_count": null,
   "metadata": {},
   "outputs": [],
   "source": [
    "\"\"\"plot_targets_pred(targets, predictions, C_ANUM, H_ANUM, \"DIST_REL_CH_01\", \"../figures/12.2-\")\"\"\""
   ]
  },
  {
   "cell_type": "markdown",
   "metadata": {},
   "source": [
    "![title](../figures/12.2-DIST_REL_CH_01_preds_fonction_cibles.png)"
   ]
  },
  {
   "cell_type": "markdown",
   "metadata": {},
   "source": [
    "## Recherche des molécules donnant les moins bons résultats\n",
    "\n",
    "Afin d'essayer de comprendre pourquoi les prédictions des modèles sont moins bonnes sur certaines molécules, nous allons rechercher les identifiants pubchem des exemples des jeux de test menant aux moins bons résultats pour chaque modèle."
   ]
  },
  {
   "cell_type": "code",
   "execution_count": 6,
   "metadata": {},
   "outputs": [],
   "source": [
    "import h5py\n",
    "import numpy as np\n",
    "\n",
    "def affichage_mol_mauvais_results(model_loc, prepared_input_loc, labels_loc, X_anum, Y_anum, X_name, Y_name):\n",
    "    \n",
    "    \n",
    "    # Calcul des prédictions\n",
    "    rmses, predictions = calculer_pred(model_loc, prepared_input_loc, labels_loc)\n",
    "\n",
    "    # Chargement des données concernant les identifiants des molécules\n",
    "    labels_h5 = h5py.File(labels_loc, 'r')\n",
    "    prepared_input_h5 = h5py.File(prepared_input_loc, 'r')\n",
    "    \n",
    "    targets_np = np.array(labels_h5[\"targets\"])\n",
    "    ids_np = np.array(prepared_input_h5[\"pubchem_ids\"])\n",
    "    prepared_input_np = np.array(prepared_input_h5[\"inputs\"])\n",
    "    \n",
    "    \n",
    "    if X_anum==C_ANUM and Y_anum==C_ANUM:\n",
    "        seuil = 250\n",
    "    elif X_anum==O_ANUM and Y_anum==H_ANUM:\n",
    "        seuil = 55\n",
    "    elif X_anum==C_ANUM and Y_anum==H_ANUM:\n",
    "        seuil = 75\n",
    "        \n",
    "    print(\"Affichage des ID pubchem associés aux moins bons résultats pour les liaisons \"+X_name+Y_name+\n",
    "          \"err>\"+str(seuil))\n",
    "    \n",
    "    for i, err in enumerate(rmses):\n",
    "        \n",
    "        if err>seuil:\n",
    "            print(\"Erreur : \"+str(err)+\" mÅ\")\n",
    "            print(\"ID pubchem :\"+str(ids_np[i]))\n",
    "            print(\"Distance cible : \"+str(targets_np[i])+\" mÅ\")\n",
    "            print()\n",
    "    "
   ]
  },
  {
   "cell_type": "markdown",
   "metadata": {},
   "source": [
    "### Recherche sur le modèle DIST_REL_CC_01"
   ]
  },
  {
   "cell_type": "code",
   "execution_count": null,
   "metadata": {},
   "outputs": [],
   "source": [
    "affichage_mol_mauvais_results(CC_model_loc, CC_test_set_prepared_input_loc, CC_test_set_labels_loc, C_ANUM, \n",
    "                             C_ANUM, \"C\", \"C\")"
   ]
  },
  {
   "cell_type": "markdown",
   "metadata": {},
   "source": [
    "### Recherche sur le modèle DIST_REL_OH_01"
   ]
  },
  {
   "cell_type": "code",
   "execution_count": null,
   "metadata": {},
   "outputs": [],
   "source": [
    "affichage_mol_mauvais_results(OH_model_loc, OH_test_set_prepared_input_loc, OH_test_set_labels_loc, O_ANUM, \n",
    "                             H_ANUM, \"O\", \"H\")"
   ]
  },
  {
   "cell_type": "markdown",
   "metadata": {},
   "source": [
    "### Recherche sur le modèle DIST_REL_CH_01"
   ]
  },
  {
   "cell_type": "code",
   "execution_count": null,
   "metadata": {},
   "outputs": [],
   "source": [
    "affichage_mol_mauvais_results(CH_model_loc, CH_test_set_prepared_input_loc, CH_test_set_labels_loc, C_ANUM, \n",
    "                             H_ANUM, \"C\", \"H\")"
   ]
  },
  {
   "cell_type": "code",
   "execution_count": null,
   "metadata": {},
   "outputs": [],
   "source": []
  },
  {
   "cell_type": "code",
   "execution_count": null,
   "metadata": {},
   "outputs": [],
   "source": []
  }
 ],
 "metadata": {
  "kernelspec": {
   "display_name": "Python 3",
   "language": "python",
   "name": "python3"
  },
  "language_info": {
   "codemirror_mode": {
    "name": "ipython",
    "version": 3
   },
   "file_extension": ".py",
   "mimetype": "text/x-python",
   "name": "python",
   "nbconvert_exporter": "python",
   "pygments_lexer": "ipython3",
   "version": "3.6.4"
  }
 },
 "nbformat": 4,
 "nbformat_minor": 2
}
