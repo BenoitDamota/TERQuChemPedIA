{
 "cells": [
  {
   "cell_type": "markdown",
   "metadata": {},
   "source": [
    "# Préparation du jeu de données PubChem - Ajout du bruit++ (Tesla)\n",
    "\n",
    "À ce stade, les réseaux que l'on entraîne sont capables de prédire le bruit ajouté de manière relativement efficace. En effet, lorsqu'on ajoute un bruit de RMSE 28, les réseaux actuels sont capables de le prédire avec un RMSE de 18. Cela revient à se tromper en moyenne à 18 mÅ soit 0.018 Å sur les distances de chaque atome aux atomes fictifs placés dans le repère. Il s'agit donc d'une prédicition qui n'est pas idéale, mais qui semble tout de même raisonnable pour obtenir une molécule \"plus optimisée\".\n",
    "\n",
    "Pour mieux évaluer les modèles que l'on produit dans des cas plus extrêmes, nous allons introduire un bruit plus élevé dans les coordonnées. L'idée est que si le modèle produit de bonnes prédictions avec plus de bruit, il sera également efficace sur des données possédant moins de bruit. Le bruit que nous allons introduire va déplacer les atomes de l'ordre de 0.3 Å.\n",
    "\n",
    "Nous allons de plus calculer de façon automatique le RMSE du bruit introduit lors de la génération des données bruitées, afin d'avoir une mesure comparative pour évaluer la performance des modèles.\n",
    "\n",
    "Enfin, nous allons procéder à une augmentation des données d'entraînement, en passant trois fois sur les molécules du jeu de données original et en ajoutant un bruit différent à chaque fois. Nous allons donc passer de 3,7 millions de molécules à 11,1 millions. Cela permettra de limiter le nombre d'époques d'entraînement (apprentissage sur toutes les données) nécessaires et donc de limiter le risque de sur-apprentissage."
   ]
  },
  {
   "cell_type": "markdown",
   "metadata": {},
   "source": [
    "#### Définition des chemins de fichiers"
   ]
  },
  {
   "cell_type": "code",
   "execution_count": 1,
   "metadata": {},
   "outputs": [],
   "source": [
    "test_set_location = \"../data/test_set_riken_v2.h5\"\n",
    "test_set_prepared_input_location = \"../data/test_set_riken_v2_prepared_input_bruit+.h2\"\n",
    "test_set_labels_location = \"../data/test_set_riken_v2_labels_bruit+.h2\"\n",
    "\n",
    "train_set_location = \"../data/train_set_riken_v2.h5\"\n",
    "train_set_prepared_input_location = \"../data/train_set_riken_v2_prepared_input_bruit+.h5\"\n",
    "train_set_labels_location = \"../data/train_set_riken_v2_labels_bruit+.h5\"\n",
    "\n",
    "minimal_set_riken_location = \"../data/minimal_set_riken_v2.h5\"\n",
    "minimal_set_prepared_input_location = \"../data/minimal_set_riken_v2_prepared_input_bruit+.h5\"\n",
    "minimal_set_labels_location = \"../data/minimal_set_riken_v2_labels_bruit+.h5\"\n",
    "\n",
    "mini_set_riken_location = \"../data/mini_set.h5\"\n",
    "mini_set_prepared_input_location = \"../data/mini_set_prepared_input_bruit+.h5\"\n",
    "mini_set_labels_location = \"../data/mini_set_labels_bruit+.h5\"\n",
    "\n"
   ]
  },
  {
   "cell_type": "markdown",
   "metadata": {},
   "source": [
    "#### Définition de la fonction d'ajout de bruit"
   ]
  },
  {
   "cell_type": "code",
   "execution_count": 2,
   "metadata": {},
   "outputs": [],
   "source": [
    "import numpy as np\n",
    "\n",
    "def positions_bruitees(positions):    \n",
    "    bruit = np.random.normal(loc=0.0, scale=0.1732, size=positions.shape)\n",
    "    return ((positions + bruit), bruit)\n",
    "\n"
   ]
  },
  {
   "cell_type": "markdown",
   "metadata": {},
   "source": [
    "#### Définition de la fonction de calcul de la matrice de distances compressée à partir de la matrice des coordonnées des atomes"
   ]
  },
  {
   "cell_type": "code",
   "execution_count": 3,
   "metadata": {},
   "outputs": [],
   "source": [
    "def matrice_distances_compr(positions):\n",
    "    \"\"\" Renvoie la matrice de distances compressée des positions des atomes passées en paramètres\n",
    "    La matrice de distances compressée est définie de la façon suivante : pour chaque atome, on calcule\n",
    "    la distance avec chaque point du repère. Une ligne i de la matrice (n,4) correspond aux distances\n",
    "    de l'atome i avec chacun des quatre points du repère\"\"\"\n",
    "    \n",
    "    nb_at = len(positions)\n",
    "    \n",
    "    # On renvoie un tableau vide si la molécule est vide\n",
    "    if nb_at == 0:\n",
    "        return []\n",
    "    \n",
    "    repere = np.array([[0, 0, 0], [1, 0, 0], [0, 1, 0], [0, 0, 1]])\n",
    "    repere = np.vstack([repere]*nb_at)\n",
    "\n",
    "    positions = np.tile(positions, 4).reshape(4*nb_at, 3)\n",
    "    \n",
    "    return np.sqrt(np.sum(np.power(positions-repere, 2), 1)).reshape(nb_at, 4)\n"
   ]
  },
  {
   "cell_type": "markdown",
   "metadata": {},
   "source": [
    "#### Fonction de création des entrées et des labels des RN"
   ]
  },
  {
   "cell_type": "code",
   "execution_count": 4,
   "metadata": {},
   "outputs": [
    {
     "name": "stderr",
     "output_type": "stream",
     "text": [
      "/home/etudiant/anaconda3/lib/python3.6/site-packages/h5py/__init__.py:36: FutureWarning: Conversion of the second argument of issubdtype from `float` to `np.floating` is deprecated. In future, it will be treated as `np.float64 == np.dtype(float).type`.\n",
      "  from ._conv import register_converters as _register_converters\n"
     ]
    }
   ],
   "source": [
    "import h5py\n",
    "import time\n",
    "import numpy as np\n",
    "\n",
    "def creation_input_RN(set_location, input_rn_location, labels_location, epochs):\n",
    "    \n",
    "    start_time = time.time()    \n",
    "    mol_vides = 0\n",
    "    \n",
    "    rmse_epochs = []\n",
    "    \n",
    "    print(\"Creating input and label sets for \"+set_location+\" : \")\n",
    "\n",
    "    # On charge le jeu de données original (en lecture seule)\n",
    "    original_dataset_h5 = h5py.File(set_location, 'r')\n",
    "    \n",
    "    # On enregistre la taille du jeu de données\n",
    "    taille = len(original_dataset_h5[\"anums\"])\n",
    "    \n",
    "    # On créé les jeux de données d'entrée du RN et de labels\n",
    "    input_rn_dataset_h5 = h5py.File(input_rn_location, 'w')\n",
    "    labels_dataset_h5 = h5py.File(labels_location, 'w')\n",
    "    \n",
    "    \n",
    "    # On créé les datasets inputs et targets \n",
    "    input_dataset = input_rn_dataset_h5.create_dataset(\"inputs\", shape=(epochs*taille, 1000),\n",
    "                                       dtype=np.float32, compression=\"gzip\", \n",
    "                                       chunks=True)\n",
    "\n",
    "    targets_dataset = labels_dataset_h5.create_dataset(\"targets\", shape=(epochs*taille, 800),\n",
    "                                       dtype=np.float32, compression=\"gzip\", \n",
    "                                       chunks=True)\n",
    "\n",
    "    \n",
    "    try:\n",
    "        \n",
    "        for k in range(epochs):\n",
    "\n",
    "            # Contient les rmse de tous les bruits ajoutés à chaque molécule durant toute l'époque de génération\n",
    "            # de l'entrée du RN. À la fin de l'époque, on en fait la moyenne et on l'ajoute à rmse_epochs\n",
    "            bruits_epoch_rmse = np.empty(shape=(taille,), dtype=np.float32)\n",
    "            \n",
    "            np_input_dataset = np.empty(shape=(taille, 1000))\n",
    "            np_targets_dataset = np.empty(shape=(taille, 800))\n",
    "            \n",
    "            input_coords = np.array(original_dataset_h5[\"riken_coords\"])\n",
    "            input_masses = np.array(original_dataset_h5[\"amasses\"])\n",
    "            print(\"loaded input\")\n",
    "\n",
    "            # On parcourt toutes les molécules de l'exemple\n",
    "            for i in range(taille):\n",
    "\n",
    "                if i%100 == 0:\n",
    "                    print(\"Computing input and label sets for epoch \"+str(k)+\" and molecule \"+str(i)+\" (\"+str(i/taille*100)+\"%)\")\n",
    "\n",
    "                \n",
    "                # On récupère les coordonnées de la molécule courante et on y ajoute du bruit\n",
    "                coords = np.array(input_coords[i]).reshape(-1,3)\n",
    "                dist_init = matrice_distances_compr(coords)\n",
    "                coords_bruit, bruit = positions_bruitees(coords)\n",
    "                coords_bruit = coords_bruit.reshape(-1, 3)\n",
    "\n",
    "\n",
    "                bruit = bruit.reshape(-1, 3)\n",
    "\n",
    "                if len(coords) == 0:\n",
    "                    mol_vides += 1\n",
    "                else:\n",
    "                    # On calcule les différence de distances cibles (en mÅ) et les distances bruitées (en Å)\n",
    "                    dist_bruit = matrice_distances_compr(coords_bruit)\n",
    "                    delta_dist_targets = (dist_init - dist_bruit)*1000\n",
    "\n",
    "                # On récupère les masses atomiques de la molécule courante\n",
    "                masses = input_masses[i]\n",
    "\n",
    "                # On initialise l'entrée du RN et le vecteur cible pour la molécule courante\n",
    "                entree_courante = np.zeros(shape=(1000, 1))\n",
    "                cible_courante = np.zeros(shape=(200, 4))\n",
    "\n",
    "                # On ajoute les coordonnées bruitées et les masses à l'entrée avec padding, et les coordonnées\n",
    "                # cibles au dataset targets\n",
    "                j=0\n",
    "                for masse in masses:\n",
    "\n",
    "                    # Ajout des données au vecteur entrée\n",
    "                    index_input_courant = j*5\n",
    "                    entree_courante[index_input_courant] = dist_bruit[j][0]\n",
    "                    entree_courante[index_input_courant+1] = dist_bruit[j][1]\n",
    "                    entree_courante[index_input_courant+2] = dist_bruit[j][2]\n",
    "                    entree_courante[index_input_courant+3] = dist_bruit[j][3]\n",
    "                    entree_courante[index_input_courant+4] = masse\n",
    "\n",
    "                    # Ajout des données à la matrice cibles\n",
    "                    cible_courante[j] = delta_dist_targets[j]\n",
    "\n",
    "                    j+=1\n",
    "\n",
    "                # On aplatit le vecteur cibles\n",
    "                cible_courante = cible_courante.reshape(1, 800)\n",
    "\n",
    "                # On insère les données dans le tableau np en mémoire\n",
    "                np_input_dataset[i] = entree_courante.reshape(-1, 1000)\n",
    "                np_targets_dataset[i] = cible_courante\n",
    "\n",
    "                # On ajoute le rmse ajouté à la molécule au tableau des rmse de l'époque\n",
    "                np_delta_dist_targets = np.array(delta_dist_targets)\n",
    "                bruits_epoch_rmse[i] = np.sqrt(np.mean(np.square(np_delta_dist_targets)))\n",
    "                \n",
    "            # On ajoute le rmse moyen de l'époque au tableau des rmse de toutes les époques\n",
    "            rmse_epochs.append(np.mean(bruits_epoch_rmse))\n",
    "            \n",
    "            # On écrit toutes les données de l'époque dans le fichier h5 en mémoire\n",
    "            print(\"Writing data to h5 for epoch \"+str(k))\n",
    "            input_dataset[k*taille: k*taille+taille] = np_input_dataset\n",
    "            targets_dataset[k*taille: k*taille+taille ] = np_targets_dataset\n",
    "          \n",
    "\n",
    "        print(\"Writing datasets to disk\")\n",
    "        input_rn_dataset_h5.flush()\n",
    "        labels_dataset_h5.flush()\n",
    "        \n",
    "        print(\"--- %s seconds ---\" % (time.time() - start_time))\n",
    "        \n",
    "        # On calcule le rmse moyen de toutes les époques\n",
    "        np_rmse_epochs = np.array(rmse_epochs)\n",
    "        print(\"RMSE bruit moyen : \"+str(np.mean(np_rmse_epochs)))\n",
    "        \n",
    "    finally:\n",
    "        original_dataset_h5.close()\n",
    "        input_rn_dataset_h5.close()\n",
    "        labels_dataset_h5.close()\n",
    "    \n",
    "\n"
   ]
  },
  {
   "cell_type": "code",
   "execution_count": 5,
   "metadata": {},
   "outputs": [
    {
     "name": "stdout",
     "output_type": "stream",
     "text": [
      "Creating input and label sets for ../data/mini_set.h5 : \n",
      "loaded input\n",
      "Computing input and label sets for epoch 0 and molecule 0 (0.0%)\n",
      "Writing data to h5 for epoch 0\n",
      "loaded input\n",
      "Computing input and label sets for epoch 1 and molecule 0 (0.0%)\n",
      "Writing data to h5 for epoch 1\n",
      "loaded input\n",
      "Computing input and label sets for epoch 2 and molecule 0 (0.0%)\n",
      "Writing data to h5 for epoch 2\n",
      "Writing datasets to disk\n",
      "--- 0.035329341888427734 seconds ---\n",
      "RMSE bruit moyen : 182.75244\n"
     ]
    }
   ],
   "source": [
    "creation_input_RN(mini_set_riken_location, mini_set_prepared_input_location,\n",
    "                  mini_set_labels_location, 3)"
   ]
  },
  {
   "cell_type": "code",
   "execution_count": 75,
   "metadata": {},
   "outputs": [],
   "source": [
    "total_start_time = time.time()"
   ]
  },
  {
   "cell_type": "markdown",
   "metadata": {},
   "source": [
    "#### Préparation des données d'entrée du RN et des labels pour le jeu minimal"
   ]
  },
  {
   "cell_type": "code",
   "execution_count": 76,
   "metadata": {
    "collapsed": true
   },
   "outputs": [
    {
     "name": "stdout",
     "output_type": "stream",
     "text": [
      "\n",
      "Préparation données jeu minimal :\n",
      "Creating input and label sets for ../data/minimal_set_riken_v2.h5 : \n"
     ]
    },
    {
     "ename": "MemoryError",
     "evalue": "",
     "output_type": "error",
     "traceback": [
      "\u001b[0;31m---------------------------------------------------------------------------\u001b[0m",
      "\u001b[0;31mMemoryError\u001b[0m                               Traceback (most recent call last)",
      "\u001b[0;32m<ipython-input-76-7433aec3b286>\u001b[0m in \u001b[0;36m<module>\u001b[0;34m()\u001b[0m\n\u001b[1;32m      2\u001b[0m \u001b[0mprint\u001b[0m\u001b[0;34m(\u001b[0m\u001b[0;34m\"Préparation données jeu minimal :\"\u001b[0m\u001b[0;34m)\u001b[0m\u001b[0;34m\u001b[0m\u001b[0m\n\u001b[1;32m      3\u001b[0m creation_input_RN(minimal_set_riken_location, minimal_set_prepared_input_location,\n\u001b[0;32m----> 4\u001b[0;31m                   minimal_set_labels_location, 3)\n\u001b[0m",
      "\u001b[0;32m<ipython-input-72-823a0cdc9844>\u001b[0m in \u001b[0;36mcreation_input_RN\u001b[0;34m(set_location, input_rn_location, labels_location, epochs)\u001b[0m\n\u001b[1;32m     41\u001b[0m             \u001b[0mbruits_epoch_rmse\u001b[0m \u001b[0;34m=\u001b[0m \u001b[0mnp\u001b[0m\u001b[0;34m.\u001b[0m\u001b[0mempty\u001b[0m\u001b[0;34m(\u001b[0m\u001b[0mshape\u001b[0m\u001b[0;34m=\u001b[0m\u001b[0;34m(\u001b[0m\u001b[0mtaille\u001b[0m\u001b[0;34m,\u001b[0m\u001b[0;34m)\u001b[0m\u001b[0;34m,\u001b[0m \u001b[0mdtype\u001b[0m\u001b[0;34m=\u001b[0m\u001b[0mnp\u001b[0m\u001b[0;34m.\u001b[0m\u001b[0mfloat32\u001b[0m\u001b[0;34m)\u001b[0m\u001b[0;34m\u001b[0m\u001b[0m\n\u001b[1;32m     42\u001b[0m \u001b[0;34m\u001b[0m\u001b[0m\n\u001b[0;32m---> 43\u001b[0;31m             \u001b[0mnp_input_dataset\u001b[0m \u001b[0;34m=\u001b[0m \u001b[0mnp\u001b[0m\u001b[0;34m.\u001b[0m\u001b[0mempty\u001b[0m\u001b[0;34m(\u001b[0m\u001b[0mshape\u001b[0m\u001b[0;34m=\u001b[0m\u001b[0;34m(\u001b[0m\u001b[0mtaille\u001b[0m\u001b[0;34m,\u001b[0m \u001b[0;36m1000\u001b[0m\u001b[0;34m)\u001b[0m\u001b[0;34m)\u001b[0m\u001b[0;34m\u001b[0m\u001b[0m\n\u001b[0m\u001b[1;32m     44\u001b[0m             \u001b[0mnp_targets_dataset\u001b[0m \u001b[0;34m=\u001b[0m \u001b[0mnp\u001b[0m\u001b[0;34m.\u001b[0m\u001b[0mempty\u001b[0m\u001b[0;34m(\u001b[0m\u001b[0mshape\u001b[0m\u001b[0;34m=\u001b[0m\u001b[0;34m(\u001b[0m\u001b[0mtaille\u001b[0m\u001b[0;34m,\u001b[0m \u001b[0;36m800\u001b[0m\u001b[0;34m)\u001b[0m\u001b[0;34m)\u001b[0m\u001b[0;34m\u001b[0m\u001b[0m\n\u001b[1;32m     45\u001b[0m \u001b[0;34m\u001b[0m\u001b[0m\n",
      "\u001b[0;31mMemoryError\u001b[0m: "
     ]
    }
   ],
   "source": [
    "print()\n",
    "print(\"Préparation données jeu minimal :\")\n",
    "creation_input_RN(minimal_set_riken_location, minimal_set_prepared_input_location,\n",
    "                  minimal_set_labels_location, 3)"
   ]
  },
  {
   "cell_type": "markdown",
   "metadata": {},
   "source": [
    "##### Sortie : \n",
    "```\n",
    "RMSE bruit moyen : 171.73126\n",
    "```"
   ]
  },
  {
   "cell_type": "markdown",
   "metadata": {},
   "source": [
    "#### Préparation des données d'entrée du RN et des labels pour le jeu d'entraînement"
   ]
  },
  {
   "cell_type": "code",
   "execution_count": null,
   "metadata": {},
   "outputs": [],
   "source": [
    "print()\n",
    "print(\"Préparation données jeu d'entraînement :\")\n",
    "creation_input_RN(train_set_location, train_set_prepared_input_location, train_set_labels_location, 3)"
   ]
  },
  {
   "cell_type": "markdown",
   "metadata": {},
   "source": [
    "##### Sortie :\n",
    "```\n",
    "RMSE bruit moyen : 171.7593\n",
    "```"
   ]
  },
  {
   "cell_type": "markdown",
   "metadata": {},
   "source": [
    "#### Préparation des données d'entrée du RN et des labels pour le jeu de validation"
   ]
  },
  {
   "cell_type": "code",
   "execution_count": null,
   "metadata": {},
   "outputs": [],
   "source": [
    "print()\n",
    "print(\"Préparation données jeu de validation :\")\n",
    "creation_input_RN(test_set_location, test_set_prepared_input_location, test_set_labels_location, 3)"
   ]
  },
  {
   "cell_type": "code",
   "execution_count": 13,
   "metadata": {},
   "outputs": [
    {
     "name": "stdout",
     "output_type": "stream",
     "text": [
      "Total time : \n",
      "--- 138.90174651145935 seconds ---\n"
     ]
    }
   ],
   "source": [
    "print(\"Total time : \")\n",
    "print(\"--- %s seconds ---\" % (time.time() - total_start_time))"
   ]
  },
  {
   "cell_type": "code",
   "execution_count": null,
   "metadata": {},
   "outputs": [],
   "source": []
  },
  {
   "cell_type": "code",
   "execution_count": null,
   "metadata": {},
   "outputs": [],
   "source": []
  },
  {
   "cell_type": "code",
   "execution_count": null,
   "metadata": {},
   "outputs": [],
   "source": []
  }
 ],
 "metadata": {
  "kernelspec": {
   "display_name": "Python 3",
   "language": "python",
   "name": "python3"
  },
  "language_info": {
   "codemirror_mode": {
    "name": "ipython",
    "version": 3
   },
   "file_extension": ".py",
   "mimetype": "text/x-python",
   "name": "python",
   "nbconvert_exporter": "python",
   "pygments_lexer": "ipython3",
   "version": "3.6.4"
  }
 },
 "nbformat": 4,
 "nbformat_minor": 2
}
