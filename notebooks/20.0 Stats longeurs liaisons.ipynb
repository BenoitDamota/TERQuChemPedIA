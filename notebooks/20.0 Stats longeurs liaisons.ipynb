{
 "cells": [
  {
   "cell_type": "code",
   "execution_count": 3,
   "metadata": {},
   "outputs": [
    {
     "name": "stderr",
     "output_type": "stream",
     "text": [
      "/home/etudiant/anaconda3/lib/python3.6/site-packages/h5py/__init__.py:36: FutureWarning: Conversion of the second argument of issubdtype from `float` to `np.floating` is deprecated. In future, it will be treated as `np.float64 == np.dtype(float).type`.\n",
      "  from ._conv import register_converters as _register_converters\n"
     ]
    }
   ],
   "source": [
    "import matplotlib.pyplot as plt\n",
    "import matplotlib as mpl\n",
    "import h5py\n",
    "import numpy as np\n",
    "from math import floor\n",
    "\n",
    "def plot_bonds_lengths_hist(bonds_lengths_loc, output_name_file, asymb_1, asymb_2, x_min, x_max):\n",
    "    bonds_lengths_h5 = h5py.File(bonds_lengths_loc, \"r\")\n",
    "    bonds_lengths = np.array(bonds_lengths_h5[\"distances\"])*100\n",
    "    \n",
    "   # Extracting values in the current range\n",
    "    bonds_lengths = np.extract(bonds_lengths >= x_min, bonds_lengths)\n",
    "\n",
    "    bonds_lengths = np.extract(bonds_lengths <= x_max, bonds_lengths)\n",
    "\n",
    "\n",
    "    fig = plt.figure()\n",
    "    ax = fig.add_subplot(111)\n",
    "    ax.hist(bonds_lengths, floor(x_max-x_min)*10)\n",
    "    ax.set_xlim(xmax=x_max, xmin=x_min)\n",
    "    ax.set_title(\"Distribution des longueurs de liaisons \"+asymb_1+asymb_2)\n",
    "    ax.set_xlabel(\"Longueur de liaison (pm)\")\n",
    "    ax.set_ylabel(\"Représentation\")\n",
    "    \n",
    "    plt.savefig(output_name_file, dpi=250)\n",
    "    "
   ]
  },
  {
   "cell_type": "code",
   "execution_count": null,
   "metadata": {},
   "outputs": [],
   "source": [
    "plot_bonds_lengths_hist(\"/home/jleguy/data/stats/CC/CC_bonds_lengths_total_set.h5\", \"../figures/distribCC.png\", \"C\", \"C\", 120, 165)\n",
    "plot_bonds_lengths_hist(\"/home/jleguy/data/stats/OH/OH_bonds_lengths_total_set.h5\", \"../figures/distribOH.png\", \"O\", \"H\", 90, 125)\n",
    "plot_bonds_lengths_hist(\"/home/jleguy/data/stats/CH/CH_bonds_lengths_total_set.h5\", \"../figures/distribCH.png\", \"C\", \"H\", 80, 135)"
   ]
  }
 ],
 "metadata": {
  "kernelspec": {
   "display_name": "Python 3",
   "language": "python",
   "name": "python3"
  },
  "language_info": {
   "codemirror_mode": {
    "name": "ipython",
    "version": 3
   },
   "file_extension": ".py",
   "mimetype": "text/x-python",
   "name": "python",
   "nbconvert_exporter": "python",
   "pygments_lexer": "ipython3",
   "version": "3.6.4"
  }
 },
 "nbformat": 4,
 "nbformat_minor": 2
}
