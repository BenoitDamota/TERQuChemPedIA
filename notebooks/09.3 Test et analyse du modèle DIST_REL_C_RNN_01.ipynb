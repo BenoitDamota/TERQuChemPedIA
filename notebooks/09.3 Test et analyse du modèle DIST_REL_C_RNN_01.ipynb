{
 "cells": [
  {
   "cell_type": "markdown",
   "metadata": {},
   "source": [
    "## Test et analyse du modèle DIST_REL_C_RNN_01\n",
    "\n",
    "Le modèle DIST_REL_C_RNN_01 affiche des résultats prometteurs durant l'entraînement, mais nous devons nous assurer qu'il est capable de se généraliser à des données qu'il n'a jamais vues. En effet, le risque de sur-ajustement des données d'entraînement est assez grand, sachant que le modèle a appris cent fois sur le jeu d'entraînement, même si nous avons tenté de limiter ce risque en utilisant un dropout (désactivation de certains neurones), et que nous avons limité le nombre de neurones de la couche centrale (58 neurones soit le nombre maximal d'atomes par exemple)\n",
    "\n",
    "Nous allons donc évaluer le modèle sur le jeu de test, et calculer le RMSE des prédidictions pour en étudier la moyenne et la distribution."
   ]
  },
  {
   "cell_type": "markdown",
   "metadata": {},
   "source": [
    "#### Chemin des fichiers"
   ]
  },
  {
   "cell_type": "code",
   "execution_count": 228,
   "metadata": {},
   "outputs": [
    {
     "data": {
      "text/plain": [
       "'\\ntrain_riken_reduced_loc = \"../data/minimal_set_riken_v2_reduced.h5\"\\ntest_riken_reduced_loc = \"../data/minimal_set_riken_v2_reduced.h5\"\\n\\ntest_set_prepared_input_loc = \"../data/DIST_REL_C_RNN/minimal_prepared_input.h5\"\\ntest_set_labels_loc = \"../data/DIST_REL_C_RNN/minimal_labels.h5\"\\n'"
      ]
     },
     "execution_count": 228,
     "metadata": {},
     "output_type": "execute_result"
    }
   ],
   "source": [
    "\n",
    "model_loc = \"../models/DIST_REL_C_RNN_01/9.2/DIST_REL_C_RNN_01_basic.tfl\"\n",
    "\n",
    "test_set_prepared_input_loc = \"../data/DIST_REL_C_RNN/test_set_prepared_input.h5\"\n",
    "test_set_labels_loc = \"../data/DIST_REL_C_RNN/test_set_labels.h5\"\n",
    "\n",
    "train_riken_reduced_loc = \"../data/train_set_riken_v2_reduced.h5\"\n",
    "test_riken_reduced_loc = \"../data/test_set_riken_v2_reduced.h5\"\n",
    "\n",
    "\"\"\"\n",
    "train_riken_reduced_loc = \"../data/minimal_set_riken_v2_reduced.h5\"\n",
    "test_riken_reduced_loc = \"../data/minimal_set_riken_v2_reduced.h5\"\n",
    "\n",
    "test_set_prepared_input_loc = \"../data/DIST_REL_C_RNN/minimal_prepared_input.h5\"\n",
    "test_set_labels_loc = \"../data/DIST_REL_C_RNN/minimal_labels.h5\"\n",
    "\"\"\""
   ]
  },
  {
   "cell_type": "markdown",
   "metadata": {},
   "source": [
    "## Création du modèle\n",
    "\n",
    "#### Fonctions de coût et d'évaluation\n"
   ]
  },
  {
   "cell_type": "code",
   "execution_count": 176,
   "metadata": {},
   "outputs": [],
   "source": [
    "import tensorflow as tf\n",
    "\n",
    "def rmse(pred, targets):\n",
    "    with tf.name_scope(\"rmse_loss\"):\n",
    "        return tf.sqrt(tf.reduce_mean(tf.squared_difference(pred, targets)), name=\"rmse\")\n",
    "    \n",
    "def rmse_valid(pred, targets, inputs):\n",
    "    with tf.name_scope(\"rmse_validation\"):\n",
    "        return -rmse(pred, targets)"
   ]
  },
  {
   "cell_type": "markdown",
   "metadata": {},
   "source": [
    "#### Création du réseau"
   ]
  },
  {
   "cell_type": "code",
   "execution_count": 177,
   "metadata": {},
   "outputs": [],
   "source": [
    "import tflearn as tfl\n",
    "\n",
    "\n",
    "def creer_RNN(batch_size, activation=\"tanh\", inner_activation=\"sigmoid\", outlayer_activation=\"linear\",\n",
    "              depth=2, width=58, dropout_val=0.98, learning_rate=0.001):\n",
    "    \n",
    "    # Nombre d'atomes par exemple indéfini [1, 58] -> None\n",
    "    # 15 valeurs par atome\n",
    "    network = tfl.input_data(shape=[None, 58, 15], name=\"input\")\n",
    "    \n",
    "    for i in range(depth):\n",
    "        network = tfl.lstm(network, width, return_seq=(i != depth-1), name=\"hl\"+str(i))\n",
    "        network = tfl.dropout(network, dropout_val)\n",
    "        \n",
    "    network = tfl.fully_connected(network, 1, activation='linear')\n",
    "    \n",
    "    network = tfl.regression(network, optimizer='adam', loss=rmse, metric=rmse_valid, name=\"outlayer\", \n",
    "                             learning_rate=learning_rate)\n",
    "    \n",
    "    return network"
   ]
  },
  {
   "cell_type": "markdown",
   "metadata": {},
   "source": [
    "## Calcul des prédictions\n",
    "\n",
    "#### Calcul du RMSE sur des vecteurs"
   ]
  },
  {
   "cell_type": "code",
   "execution_count": 178,
   "metadata": {},
   "outputs": [],
   "source": [
    "import numpy as np\n",
    "\n",
    "def rmse_test(targets, predictions):\n",
    "    return np.sqrt(np.square(np.diff([targets, predictions], axis=0)))[0]"
   ]
  },
  {
   "cell_type": "markdown",
   "metadata": {},
   "source": [
    "#### Calcul de l'erreur sur chaque exemple du jeu de test"
   ]
  },
  {
   "cell_type": "code",
   "execution_count": 179,
   "metadata": {},
   "outputs": [],
   "source": [
    "import h5py\n",
    "from tflearn.data_utils import pad_sequences\n",
    "\n",
    "def calculer_pred(model_loc, test_set_prepared_input_loc, test_set_labels_loc):\n",
    "    \"\"\" Renvoie l'erreur et la prédiction pour chaque exemple du jeu de test \"\"\"\n",
    "    \n",
    "    tf.reset_default_graph()\n",
    "\n",
    "    \n",
    "    # Importation du modèle\n",
    "    network = creer_RNN(5000, learning_rate=0.001, dropout_val=0.98, depth=1, width=58)\n",
    "    model = tfl.DNN(network)\n",
    "    model.load(model_loc, weights_only=True)\n",
    "    \n",
    "    # Chargement des données\n",
    "    inputs_h5 = h5py.File(test_set_prepared_input_loc, 'r')\n",
    "    targets_h5 = h5py.File(test_set_labels_loc, 'r')\n",
    "    \n",
    "    inputs = np.array(inputs_h5[\"inputs\"])\n",
    "    inputs = pad_sequences(inputs, dtype=\"float32\", maxlen=870)\n",
    "    inputs = inputs.reshape(-1, 58, 15)\n",
    "    \n",
    "    targets = np.array(targets_h5[\"targets\"])\n",
    "    targets = targets.reshape(-1, 1)\n",
    "    \n",
    "    predictions = model.predict(inputs)\n",
    "    \n",
    "    return rmse_test(targets, predictions).reshape(1, -1)[0], predictions\n",
    "    \n",
    "    "
   ]
  },
  {
   "cell_type": "code",
   "execution_count": 180,
   "metadata": {},
   "outputs": [
    {
     "name": "stdout",
     "output_type": "stream",
     "text": [
      "INFO:tensorflow:Restoring parameters from /home/etudiant/Documents/Cours/TER/Notebooks/models/DIST_REL_C_RNN_01/9.2/DIST_REL_C_RNN_01_basic.tfl\n"
     ]
    }
   ],
   "source": [
    "rmses, predictions = calculer_pred(model_loc, test_set_prepared_input_loc, test_set_labels_loc)\n"
   ]
  },
  {
   "cell_type": "markdown",
   "metadata": {},
   "source": [
    "#### Récupération du vecteur cibles (distances)"
   ]
  },
  {
   "cell_type": "code",
   "execution_count": 181,
   "metadata": {},
   "outputs": [],
   "source": [
    "def extract_targets(test_set_labels_loc):\n",
    "    targets_h5 = h5py.File(test_set_labels_loc, 'r')\n",
    "    targets = np.array(targets_h5[\"targets\"])\n",
    "    targets = targets.reshape(-1, 1)\n",
    "    return targets\n"
   ]
  },
  {
   "cell_type": "code",
   "execution_count": 182,
   "metadata": {},
   "outputs": [],
   "source": [
    "targets = extract_targets(test_set_labels_loc)"
   ]
  },
  {
   "cell_type": "markdown",
   "metadata": {},
   "source": [
    "## Analyse des résultats\n",
    "\n",
    "#### Affichage des statistiques sur les erreurs"
   ]
  },
  {
   "cell_type": "code",
   "execution_count": 183,
   "metadata": {},
   "outputs": [],
   "source": [
    "def print_stats_rmse(rmses):\n",
    "    print(\"Erreur moyenne : \"+str(np.mean(rmses)))\n",
    "    print(\"Erreur médiane : \"+str(np.median(rmses)))\n",
    "    print(\"Écart-type : \"+str(np.std(rmses)))\n",
    "    print(\"Erreur min : \"+str(min(rmses)))\n",
    "    print(\"Erreur max : \"+str(max(rmses)))\n",
    "    "
   ]
  },
  {
   "cell_type": "code",
   "execution_count": 184,
   "metadata": {},
   "outputs": [
    {
     "name": "stdout",
     "output_type": "stream",
     "text": [
      "Erreur moyenne : 62.63466\n",
      "Erreur médiane : 63.708374\n",
      "Écart-type : 21.311611\n",
      "Erreur min : 0.1862793\n",
      "Erreur max : 252.01001\n"
     ]
    }
   ],
   "source": [
    "print_stats_rmse(rmses)"
   ]
  },
  {
   "cell_type": "markdown",
   "metadata": {},
   "source": [
    "#### Représentation graphique de la distribution des rmses selon leur valeur et un pas donné\n"
   ]
  },
  {
   "cell_type": "code",
   "execution_count": 185,
   "metadata": {},
   "outputs": [],
   "source": [
    "\n",
    "import matplotlib.pyplot as plt\n",
    "import matplotlib as mpl\n",
    "\n",
    "mpl.rcParams['agg.path.chunksize'] = 10000\n",
    "\n",
    "\n",
    "def plot_distrib_rmses_val(rmses, padding):\n",
    "    \"\"\" Affiche la distribution des rmses selon un pas donné \"\"\"\n",
    "    \n",
    "    # On calcule les bornes de notre index\n",
    "    debut_index = np.floor(min(rmses))\n",
    "    fin_index = max(rmses)+padding\n",
    "    \n",
    "    # On créé l'index des rmses\n",
    "    index = np.arange(debut_index, fin_index, padding)\n",
    "    \n",
    "    # On créé le compteur de rmses\n",
    "    rmse_occ = np.zeros_like(index)\n",
    "        \n",
    "    # Calcul des rmse\n",
    "    for rmse in rmses:\n",
    "        rmse_occ[int((rmse-debut_index)/padding)] += 1\n",
    "    \n",
    "    plt.xlabel(\"Erreur absolue (par tranches de \"+str(padding)+\" mÅ)\")\n",
    "    plt.ylabel(\"Occurences sur le jeu de test\")\n",
    "    plt.title(\"Modèle DIST_REL_C_RNN_01\\nDistribution des erreurs selon leur valeur\")\n",
    "    plt.plot(index, rmse_occ)\n",
    "    plt.savefig(\"../figures/DIST_REL_C_RNN_01_distrib_rmse_val.png\", dpi=800)\n",
    "\n",
    "\n",
    "    \n",
    "    "
   ]
  },
  {
   "cell_type": "code",
   "execution_count": 186,
   "metadata": {
    "collapsed": true
   },
   "outputs": [
    {
     "data": {
      "image/png": "[encoded data removed]",
      "text/plain": [
       "<matplotlib.figure.Figure at 0x7f68c79b9cf8>"
      ]
     },
     "metadata": {},
     "output_type": "display_data"
    }
   ],
   "source": [
    "plot_distrib_rmses_val(rmses, 0.5)"
   ]
  },
  {
   "cell_type": "markdown",
   "metadata": {},
   "source": [
    "![title](../figures/DIST_REL_C_RNN_01_distrib_rmse_val.png)\n",
    "\n",
    "\n",
    "### Analyse\n",
    "\n",
    "La distribution des erreurs selon leur valeur montre que le modèle produit des erreurs relativement constantes , la vaste majorité des erreurs étant comprise entre 40 mÅ et 80 mÅ. Il s'agit donc d'un résultat plutôt correct, nous obtenons en effet une précision de l'ordre de $10^{-2}$ Å, même si elle n'est encore à la hauteur de la précision requise en chimie quantique (de l'ordre de $10^{-3}$ Å ou $10^{-4}$ Å).\n",
    "\n",
    "Les légers pics d'erreurs de 100 mÅ et 250 mÅ pourraient être causés par la difficulté du modèle à prédire les distances entre les doubles et triples liaisons covalentes, qui sont probablement moins représentées dans les données."
   ]
  },
  {
   "cell_type": "markdown",
   "metadata": {},
   "source": [
    "#### Distribution des erreurs selon la distance à prédire"
   ]
  },
  {
   "cell_type": "code",
   "execution_count": 187,
   "metadata": {},
   "outputs": [],
   "source": [
    "def plot_rmse_distrib_dist(rmses, targets):\n",
    "    \n",
    "    plt.title(\"Modèle DIST_REL_C_RNN_01\\nDistribution des erreurs selon les distances cibles\")\n",
    "    plt.xlabel(\"Distance cible (mÅ)\")\n",
    "    plt.ylabel(\"Erreur absolue (mÅ)\")\n",
    "    plot = plt.plot(targets, rmses, \".\")\n",
    "    \n",
    "    plt.annotate('', xy=(1380, 240), xytext=(1430, 240),\n",
    "            arrowprops=dict(facecolor='red', shrink=0.05)\n",
    "            )\n",
    "    \n",
    "    plt.text(1440, 228, \"Longueur de liaison\\ntypique\")\n",
    "    \n",
    "    \n",
    "\n",
    "    plt.annotate('triple', xy=(1200, 0), xytext=(1200, 30),\n",
    "            arrowprops=dict(facecolor='red', shrink=0.05)\n",
    "            )\n",
    "    \n",
    "    plt.annotate('double', xy=(1340, 0), xytext=(1280, 30),\n",
    "            arrowprops=dict(facecolor='red', shrink=0.05),\n",
    "            )\n",
    "    \n",
    "    plt.annotate('simple', xy=(1540, 0), xytext=(1522, 30),\n",
    "            arrowprops=dict(facecolor='red', shrink=0.05),\n",
    "            )\n",
    "    \n",
    "    plt.annotate('aromatique', xy=(1400, 0), xytext=(1337, 30),\n",
    "            arrowprops=dict(facecolor='red', shrink=0.05),\n",
    "            )\n",
    "        \n",
    "    plt.savefig(\"../figures/DIST_REL_C_RNN_01_distrib_rmse_dist.png\", dpi=200)\n",
    "    \n"
   ]
  },
  {
   "cell_type": "code",
   "execution_count": 188,
   "metadata": {
    "collapsed": true
   },
   "outputs": [
    {
     "data": {
      "image/png": "[encoded data removed]",
      "text/plain": [
       "<matplotlib.figure.Figure at 0x7f69252d0be0>"
      ]
     },
     "metadata": {},
     "output_type": "display_data"
    }
   ],
   "source": [
    "plot_rmse_distrib_dist(rmses, targets)"
   ]
  },
  {
   "cell_type": "markdown",
   "metadata": {},
   "source": [
    "![title](../figures/DIST_REL_C_RNN_01_distrib_rmse_dist.png)\n",
    "\n",
    "### Analyse\n",
    "\n",
    "L'étude de la distribution des erreurs selon les distances attendues montre qu'elle est très linéaire. C'est inquiétant car cela peut indiquer que le modèle ne prédit que les distances moyennes des données qu'il a observé. De plus, il ne semble pas prédire les distances moyennes par classes de liaisons mais uniquement la distance moyenne de l'ensemble des classes pondérées par leur représentation.\n",
    "\n",
    "Pour vérifier cela, nous allons afficher les prédictions en fonction des distances attendues.\n",
    "\n",
    "\n"
   ]
  },
  {
   "cell_type": "markdown",
   "metadata": {},
   "source": [
    "#### Visualisation des prédictions selon les distances attendues"
   ]
  },
  {
   "cell_type": "code",
   "execution_count": 189,
   "metadata": {},
   "outputs": [],
   "source": [
    "def plot_sorted_targets_pred(targets, preds):\n",
    "        \n",
    "    plt.title(\"Modèle DIST_REL_C_RNN_01\\n Prédictions en fonction des distances cibles\")\n",
    "    plt.xlabel(\"Distance cible (mÅ)\")\n",
    "    plt.ylabel(\"Distance prédite (mÅ)\")\n",
    "    \n",
    "    plt.plot(targets, preds, \".\")\n",
    "    \n",
    "    plt.savefig(\"../figures/DIST_REL_C_RNN_01_preds_fonction_cibles.png\", dpi=200)\n",
    "\n"
   ]
  },
  {
   "cell_type": "code",
   "execution_count": 190,
   "metadata": {
    "collapsed": true
   },
   "outputs": [
    {
     "data": {
      "image/png": "[encoded data removed]",
      "text/plain": [
       "<matplotlib.figure.Figure at 0x7f68ccea69b0>"
      ]
     },
     "metadata": {},
     "output_type": "display_data"
    }
   ],
   "source": [
    "plot_sorted_targets_pred(targets, predictions)"
   ]
  },
  {
   "cell_type": "markdown",
   "metadata": {},
   "source": [
    "![title](../figures/DIST_REL_C_RNN_01_preds_fonction_cibles.png)\n",
    "\n",
    "### Analyse\n",
    "\n",
    "On voit ici très nettement que le modèle a appris à ne prédire qu'une unique valeur, peu importe les données d'entrée. Cette valeur est très probablement la moyenne des distances inter-carbone qu'il a observé dans le jeu d'entraînement.\n",
    "\n",
    "Il s'agit donc d'un modèle qui effectue de la mécanique moléculaire (travail sur les distances moyennes), mais qui est moins efficace que les outils comme open-babel car il ne prend pas en compte les types de liaisons pour effectuer ses prédictions.\n",
    "\n",
    "Nous allons donc devoir élaborer un modèle possédant une topologie plus complexe, ou des entrées lui apportant plus d'informations, mais nous allons dans un premier temps étudier la distribution des distances inter-carbones dans le jeu de données pour mieux comprendre les données sur lequel le modèle a appris.\n",
    "\n",
    "\n",
    "\n",
    "## Étude du jeu de données d'apprentissage\n",
    "\n",
    "Nous allons étudier la distribution des distances inter-carbone dans le jeu de données d'apprentissage. Nous n'allons pas nous limiter à l'étude des liaisons covalentes qui sont les seules que nous avons introduites dans les jeux d'entraînement et de test, mais nous allons étudier toutes les distances inter-carbone.\n",
    "\n",
    "#### Calcul des distances"
   ]
  },
  {
   "cell_type": "code",
   "execution_count": 220,
   "metadata": {},
   "outputs": [],
   "source": [
    "import numpy as np\n",
    "\n",
    "def calcul_distance(pt1, pt2):\n",
    "    \"\"\" Renvoie la distance entre deux points représentés par leurs coordonnées (x, y, z) dans deux tableaux\n",
    "    de forme (1, 3)\"\"\"\n",
    "    return np.sqrt(np.sum(np.square(np.diff(np.array([pt1, pt2]), axis=0))))"
   ]
  },
  {
   "cell_type": "markdown",
   "metadata": {},
   "source": [
    "#### Calcul du vecteur de distances inter-carbones pour une molécule"
   ]
  },
  {
   "cell_type": "code",
   "execution_count": 221,
   "metadata": {},
   "outputs": [],
   "source": [
    "def vect_dist_mol(coords_mol, anums_mol, ):\n",
    "    \n",
    "    coords_mol = coords_mol.reshape(-1, 3)\n",
    "    taille_mol = len(coords_mol)\n",
    "    dists = []\n",
    "    \n",
    "    # On itère sur tous les atomes de la molécule\n",
    "    for i in range(taille_mol):\n",
    "        \n",
    "        # On ne s'intéresse qu'aux atomes de carbone\n",
    "        if anums_mol[i] == 6.:\n",
    "            \n",
    "            # On parcourt tous les atomes suivants\n",
    "            for j in range(i+1, taille_mol):\n",
    "                                \n",
    "                # On ne s'intéresse qu'aux couples d'atomes de carbone\n",
    "                if anums_mol[j] == 6:\n",
    "                    \n",
    "                    dists.append(calcul_distance(coords_mol[i], coords_mol[j]))\n",
    "                    \n",
    "        else:\n",
    "            # Les carbones étant les premiers atomes de la molécule dans les données, on arrête la boucle\n",
    "            # pour gagner du temps d'exécution\n",
    "            break\n",
    "                \n",
    "    return dists\n",
    "            "
   ]
  },
  {
   "cell_type": "markdown",
   "metadata": {},
   "source": [
    "#### Calcul du vecteur de distances inter-carbones pour toutes les molécules du jeu"
   ]
  },
  {
   "cell_type": "code",
   "execution_count": 222,
   "metadata": {},
   "outputs": [],
   "source": [
    "import h5py\n",
    "import time\n",
    "\n",
    "def vect_dist(original_dataset_loc, nb_mol):\n",
    "        \n",
    "    # On charge les données du jeu original en mémoire\n",
    "    original_dataset_h5 = h5py.File(original_dataset_loc, \"r\")\n",
    "    input_coords = np.array(original_dataset_h5[\"riken_coords\"][:nb_mol])\n",
    "    input_nums = np.array(original_dataset_h5[\"anums\"][:nb_mol])\n",
    "    \n",
    "    dists = []\n",
    "        \n",
    "    try:\n",
    "        \n",
    "        # On parcourt toutes les molécules du jeu original\n",
    "        for ori_idx in range(len(input_coords)):\n",
    "                \n",
    "            # On ne s'intéresse pas aux molécules contenenant des atomes plus lourds que le fluor (comme\n",
    "            # lors de la génération des entrées du RN)\n",
    "            \n",
    "            if max(input_nums[ori_idx])<10:\n",
    "                \n",
    "                # On enregistre les distances de la molécule courante\n",
    "                dists.extend(vect_dist_mol(input_coords[ori_idx], input_nums[ori_idx]))\n",
    "            \n",
    "        return np.array(dists)\n",
    "                \n",
    "    finally:\n",
    "\n",
    "        original_dataset_h5.close()\n"
   ]
  },
  {
   "cell_type": "markdown",
   "metadata": {},
   "source": [
    "### Analyse de la distribution des distances carbone-carbone sur le jeu d'entraînement\n",
    "\n",
    "On ne s'intéresse qu'aux distances carbone-carbone des 400000 premières molécules du jeu d'entraînement réduit (il s'agit du même sous-ensemble du jeu réduit que celui utilisé pour créer le jeu d'entraînement pour le modèle DIST_REL_C_RNN_01)"
   ]
  },
  {
   "cell_type": "code",
   "execution_count": 223,
   "metadata": {},
   "outputs": [],
   "source": [
    "dists_c_c_train = vect_dist(train_riken_reduced_loc, 400000)"
   ]
  },
  {
   "cell_type": "code",
   "execution_count": 224,
   "metadata": {},
   "outputs": [
    {
     "name": "stdout",
     "output_type": "stream",
     "text": [
      "(4169764,)\n"
     ]
    }
   ],
   "source": [
    "print(dists_c_c_train.shape)"
   ]
  },
  {
   "cell_type": "markdown",
   "metadata": {},
   "source": [
    "#### Statistiques générales"
   ]
  },
  {
   "cell_type": "code",
   "execution_count": 225,
   "metadata": {
    "collapsed": true
   },
   "outputs": [
    {
     "name": "stdout",
     "output_type": "stream",
     "text": [
      "Moyenne : 3.9581926\n",
      "Médiane : 3.6845646\n",
      "Écart-type : 2.008079\n",
      "Valeur min : 1.1985348\n",
      "Valeur max : 19.119377\n"
     ]
    }
   ],
   "source": [
    "def print_stats(arr):\n",
    "    print(\"Moyenne : \"+str(np.mean(arr)))\n",
    "    print(\"Médiane : \"+str(np.median(arr)))\n",
    "    print(\"Écart-type : \"+str(np.std(arr)))\n",
    "    print(\"Valeur min : \"+str(min(arr)))\n",
    "    print(\"Valeur max : \"+str(max(arr)))\n",
    "    \n",
    "print_stats(dists_c_c_train)"
   ]
  },
  {
   "cell_type": "markdown",
   "metadata": {},
   "source": [
    "#### Sortie\n",
    "\n",
    "```\n",
    "Erreur moyenne : 62.555367\n",
    "Erreur médiane : 63.821777\n",
    "Écart-type : 21.361195\n",
    "Erreur min : 0.0\n",
    "Erreur max : 287.61035\n",
    "```"
   ]
  },
  {
   "cell_type": "markdown",
   "metadata": {},
   "source": [
    "#### Distribution des différentes distances inter-carbones"
   ]
  },
  {
   "cell_type": "code",
   "execution_count": 226,
   "metadata": {},
   "outputs": [],
   "source": [
    "import matplotlib.pyplot as plt\n",
    "import matplotlib as mpl\n",
    "\n",
    "mpl.rcParams['agg.path.chunksize'] = 10000\n",
    "\n",
    "def plot_distrib_dist_c(dists, padding, output_file):\n",
    "    \"\"\" Affiche la distribution des rmses selon un pas donné \"\"\"\n",
    "    \n",
    "    # On calcule les bornes de notre index\n",
    "    debut_index = np.floor(min(dists))\n",
    "    fin_index = max(dists)+padding\n",
    "    \n",
    "    # On créé l'index\n",
    "    index = np.arange(debut_index, fin_index, padding)\n",
    "    \n",
    "    # On créé le compteur d'occurences\n",
    "    dists_occ = np.zeros_like(index)\n",
    "        \n",
    "    # Calcul des occurences\n",
    "    for dist in dists:\n",
    "        dists_occ[int((dist-debut_index)/padding)] += 1\n",
    "        \n",
    "    axes = plt.gca()\n",
    "    axes.set_xlim([1, 2.77])\n",
    "    \n",
    "    plt.xlabel(\"Distance inter-carbone (par tranches de \"+str(padding)+\" Å)\")\n",
    "    plt.ylabel(\"Nombre d'occurences dans les données\")\n",
    "    plt.title(\"Modèle DIST_REL_C_RNN_01\\nDistribution des distances inter-carbones\\ndans les données d'entraînement\")\n",
    "    plt.plot(index, dists_occ)\n",
    "    \n",
    "    plt.annotate('', xy=(1.17, 250000), xytext=(1.58, 250000),\n",
    "            arrowprops={'arrowstyle': '|-|'})\n",
    "    \n",
    "    plt.text(1.6, 255000,'Liaisons covalentes')\n",
    "    \n",
    "    \n",
    "    plt.annotate('', xy=(2.3, 150000), xytext=(2.7, 150000),\n",
    "            arrowprops={'arrowstyle': '|-|'})\n",
    "    \n",
    "    plt.text(1.9, 140000,'Interactions de \\nVan Der Waals')\n",
    "    \n",
    "    plt.annotate('simples', xy=(1.58, 400000), xytext=(1.75, 405000),\n",
    "            arrowprops=dict(facecolor='red', shrink=0.05),\n",
    "            )\n",
    "    \n",
    "    plt.annotate('doubles', xy=(1.38, 350000), xytext=(1.02, 355000),\n",
    "            arrowprops=dict(facecolor='red', shrink=0.05),\n",
    "            )\n",
    "    \n",
    "    plt.annotate('triples', xy=(1.2, 15000), xytext=(1.02, 95000),\n",
    "            arrowprops=dict(facecolor='red', shrink=0.05),\n",
    "            )\n",
    "    \n",
    "    \n",
    "    plt.savefig(output_file, dpi=200)\n"
   ]
  },
  {
   "cell_type": "code",
   "execution_count": 227,
   "metadata": {
    "collapsed": true
   },
   "outputs": [
    {
     "data": {
      "image/png": "[encoded data removed]",
      "text/plain": [
       "<matplotlib.figure.Figure at 0x7f6920131a58>"
      ]
     },
     "metadata": {},
     "output_type": "display_data"
    }
   ],
   "source": [
    "plot_distrib_dist_c(dists_c_c_train, 0.01, \"../figures/DIST_REL_C_RNN_01_distrib_dists_train_C.png\")"
   ]
  },
  {
   "cell_type": "markdown",
   "metadata": {},
   "source": [
    "![title](../figures/DIST_REL_C_RNN_01_distrib_dists_train_C.png)\n"
   ]
  },
  {
   "cell_type": "markdown",
   "metadata": {},
   "source": [
    "### Analyse de la distribution des distances carbone-carbone sur le jeu de test\n",
    "\n",
    "On effectue les mêmes affichages sur le jeu de test, pour tester l'homogénéité du jeu de données\n",
    "\n"
   ]
  },
  {
   "cell_type": "code",
   "execution_count": null,
   "metadata": {},
   "outputs": [],
   "source": [
    "dists_c_c_test = vect_dist(test_riken_reduced_loc, 80000)"
   ]
  },
  {
   "cell_type": "code",
   "execution_count": null,
   "metadata": {},
   "outputs": [],
   "source": [
    "print_stats(dists_c_c_test)"
   ]
  },
  {
   "cell_type": "code",
   "execution_count": null,
   "metadata": {},
   "outputs": [],
   "source": [
    "plot_distrib_dist_c(dists_c_c_test, 0.01, \"../figures/DIST_REL_C_RNN_01_distrib_dists_test_C.png\")"
   ]
  },
  {
   "cell_type": "markdown",
   "metadata": {},
   "source": [
    "![title](../figures/DIST_REL_C_RNN_01_distrib_dists_test_C.png)\n"
   ]
  },
  {
   "cell_type": "code",
   "execution_count": null,
   "metadata": {},
   "outputs": [],
   "source": []
  }
 ],
 "metadata": {
  "kernelspec": {
   "display_name": "Python 3",
   "language": "python",
   "name": "python3"
  },
  "language_info": {
   "codemirror_mode": {
    "name": "ipython",
    "version": 3
   },
   "file_extension": ".py",
   "mimetype": "text/x-python",
   "name": "python",
   "nbconvert_exporter": "python",
   "pygments_lexer": "ipython3",
   "version": "3.6.4"
  }
 },
 "nbformat": 4,
 "nbformat_minor": 2
}
