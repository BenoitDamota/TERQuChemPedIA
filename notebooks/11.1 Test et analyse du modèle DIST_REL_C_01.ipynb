{
 "cells": [
  {
   "cell_type": "markdown",
   "metadata": {},
   "source": [
    "## Test et anlyse du modèle DIST_REL_C_01\n",
    "\n",
    "De la même façon que nous avons procédé pour le modèle DIST_REL_C_RNN_01, nous allons créer des représentations graphiques des performances, puis nous allons comparer les deux modèles."
   ]
  },
  {
   "cell_type": "markdown",
   "metadata": {},
   "source": [
    "#### Chemins des fichiers et constantes"
   ]
  },
  {
   "cell_type": "code",
   "execution_count": 1,
   "metadata": {},
   "outputs": [
    {
     "data": {
      "text/plain": [
       "'\\ntrain_riken_reduced_loc = \"../data/minimal_set_riken_v2_reduced.h5\"\\ntest_riken_reduced_loc = \"../data/minimal_set_riken_v2_reduced.h5\"\\n\\ntest_set_prepared_input_loc = \"../data/DIST_REL_C_RNN/minimal_prepared_input.h5\"\\ntest_set_labels_loc = \"../data/DIST_REL_C_RNN/minimal_labels.h5\"\\n'"
      ]
     },
     "execution_count": 1,
     "metadata": {},
     "output_type": "execute_result"
    }
   ],
   "source": [
    "\n",
    "model_loc = \"../models/DIST_REL_C_01/11.0/DIST_REL_C_01_basic.tflearn\"\n",
    "\n",
    "figures_loc = \"../figures/11.1-\"\n",
    "model_name = \"DIST_REL_C_01\"\n",
    "\n",
    "test_set_prepared_input_loc = \"../data/DIST_REL_C_RNN/test_set_prepared_input.h5\"\n",
    "test_set_labels_loc = \"../data/DIST_REL_C_RNN/test_set_labels.h5\"\n",
    "\n",
    "train_riken_reduced_loc = \"../data/train_set_riken_v2_reduced.h5\"\n",
    "test_riken_reduced_loc = \"../data/test_set_riken_v2_reduced.h5\"\n",
    "\n",
    "test_tailles_CC_loc = \"../data/stats/CC/CC_bonds_lengths_minimal.h5\"\n",
    "\n",
    "\"\"\"\n",
    "train_riken_reduced_loc = \"../data/minimal_set_riken_v2_reduced.h5\"\n",
    "test_riken_reduced_loc = \"../data/minimal_set_riken_v2_reduced.h5\"\n",
    "\n",
    "test_set_prepared_input_loc = \"../data/DIST_REL_C_RNN/minimal_prepared_input.h5\"\n",
    "test_set_labels_loc = \"../data/DIST_REL_C_RNN/minimal_labels.h5\"\n",
    "\"\"\""
   ]
  },
  {
   "cell_type": "markdown",
   "metadata": {},
   "source": [
    "#### Constantes"
   ]
  },
  {
   "cell_type": "code",
   "execution_count": 2,
   "metadata": {},
   "outputs": [],
   "source": [
    "C_ANUM = 6.\n",
    "O_ANUM = 8.\n",
    "H_ANUM = 1."
   ]
  },
  {
   "cell_type": "markdown",
   "metadata": {},
   "source": [
    "### Création du RN\n",
    "\n",
    "#### Fonction de coût (RMSE)"
   ]
  },
  {
   "cell_type": "code",
   "execution_count": 2,
   "metadata": {},
   "outputs": [],
   "source": [
    "def rmse(pred, targets):\n",
    "    with tf.name_scope(\"rmse_loss\"):\n",
    "        return tf.sqrt(tf.reduce_mean(tf.squared_difference(pred, targets)), name=\"rmse\")"
   ]
  },
  {
   "cell_type": "markdown",
   "metadata": {},
   "source": [
    "#### Fonction d'évaluation des performances (opposé du RMSE)"
   ]
  },
  {
   "cell_type": "code",
   "execution_count": 3,
   "metadata": {},
   "outputs": [],
   "source": [
    "def rmse_valid(pred, targets, inputs):\n",
    "    with tf.name_scope(\"rmse_validation\"):\n",
    "        return -rmse(pred, targets)"
   ]
  },
  {
   "cell_type": "markdown",
   "metadata": {},
   "source": [
    "#### Fonction de création du RN\n"
   ]
  },
  {
   "cell_type": "code",
   "execution_count": 4,
   "metadata": {},
   "outputs": [
    {
     "name": "stderr",
     "output_type": "stream",
     "text": [
      "/home/etudiant/anaconda3/lib/python3.6/site-packages/h5py/__init__.py:36: FutureWarning: Conversion of the second argument of issubdtype from `float` to `np.floating` is deprecated. In future, it will be treated as `np.float64 == np.dtype(float).type`.\n",
      "  from ._conv import register_converters as _register_converters\n"
     ]
    },
    {
     "name": "stdout",
     "output_type": "stream",
     "text": [
      "WARNING:tensorflow:From /home/etudiant/anaconda3/lib/python3.6/site-packages/tensorflow/contrib/learn/python/learn/datasets/base.py:198: retry (from tensorflow.contrib.learn.python.learn.datasets.base) is deprecated and will be removed in a future version.\n",
      "Instructions for updating:\n",
      "Use the retry module or similar alternatives.\n"
     ]
    }
   ],
   "source": [
    "from tflearn.layers.core import input_data, dropout, fully_connected\n",
    "from tflearn.layers.estimator import regression\n",
    "from tflearn.optimizers import Adam\n",
    "from tflearn.data_preprocessing import DataPreprocessing\n",
    "import math\n",
    "\n",
    "\n",
    "def creer_RN(epsilon=1e-8, learning_rate=0.001, dropout_val=0.99, stddev_init=0.001,\n",
    "             hidden_act='relu', outlayer_act='prelu', weight_decay=0.001, width=870, depth=3,\n",
    "             validation_fun=rmse_valid, cost_fun=rmse):\n",
    "\n",
    "    # On créé l'initialisateur de tenseur avec une loi normale tronquée. sigma = stddev_init, et les \n",
    "    # valeurs à plus de 2sigma sont re-tirées\n",
    "    winit = tfl.initializations.truncated_normal(stddev=stddev_init, dtype=tf.float32, seed=None)\n",
    "    \n",
    "    # On créé l'input du RN\n",
    "    network = input_data(shape=[None, 870], name='input')\n",
    "    \n",
    "    # On créé les couches cachées\n",
    "    for i in range(depth):\n",
    "        network = fully_connected(network, width, activation=hidden_act, name='fc'+str(i), weights_init=winit,\n",
    "                                  weight_decay=weight_decay)\n",
    "        # On détruit des neurones aléatoirement avec une la probabilité donnée en entrée\n",
    "        network = dropout(network, dropout_val)\n",
    "    \n",
    "    # On ajoute la couche de sortie du réseau\n",
    "    # Fonction d'activation prelu\n",
    "    # Initilisée avec la loi normale tronquée\n",
    "    network = fully_connected(network, 1, activation=outlayer_act, name='outlayer', weights_init=winit)\n",
    "    \n",
    "    adam = Adam(learning_rate=learning_rate, epsilon=epsilon)\n",
    "    \n",
    "    # Couche d'évaluation du modèle. Utilisation d'une descente stochastique Adam\n",
    "    # Learning rate = 0.05\n",
    "    # Loss = fonction définie rmse\n",
    "    network = regression(network, optimizer=adam,\n",
    "    loss=cost_fun, metric=validation_fun, name='target')\n",
    "            \n",
    "    return network"
   ]
  },
  {
   "cell_type": "markdown",
   "metadata": {},
   "source": [
    "## Calcul des prédictions\n",
    "\n",
    "#### Calcul du RMSE sur des vecteurs"
   ]
  },
  {
   "cell_type": "code",
   "execution_count": 5,
   "metadata": {},
   "outputs": [],
   "source": [
    "import numpy as np\n",
    "\n",
    "def rmse_test(targets, predictions):\n",
    "    return np.sqrt(np.square(np.diff([targets, predictions], axis=0)))[0]"
   ]
  },
  {
   "cell_type": "markdown",
   "metadata": {},
   "source": [
    "#### Calcul de l'erreur sur chaque exemple du jeu de test"
   ]
  },
  {
   "cell_type": "code",
   "execution_count": 6,
   "metadata": {},
   "outputs": [],
   "source": [
    "import h5py\n",
    "from tflearn.data_utils import pad_sequences\n",
    "import tensorflow as tf\n",
    "import tflearn as tfl\n",
    "\n",
    "def calculer_pred(model_loc, test_set_prepared_input_loc, test_set_labels_loc):\n",
    "    \"\"\" Renvoie l'erreur et la prédiction pour chaque exemple du jeu de test \"\"\"\n",
    "    \n",
    "    tf.reset_default_graph()\n",
    "    \n",
    "    # Importation du modèle\n",
    "    network = creer_RN(learning_rate=0.01, dropout_val=0.98, epsilon=0.001, hidden_act=\"elu\", outlayer_act=\"linear\", width=870, depth=3)\n",
    "    model = tfl.DNN(network)\n",
    "    model.load(model_loc, weights_only=True)\n",
    "    \n",
    "    # Chargement des données\n",
    "    inputs_h5 = h5py.File(test_set_prepared_input_loc, 'r')\n",
    "    targets_h5 = h5py.File(test_set_labels_loc, 'r')\n",
    "    \n",
    "    inputs = np.array(inputs_h5[\"inputs\"])\n",
    "    inputs = pad_sequences(inputs, dtype=\"float32\", maxlen=870)\n",
    "    inputs = inputs.reshape(-1, 870)\n",
    "    \n",
    "    targets = np.array(targets_h5[\"targets\"])\n",
    "    targets = targets.reshape(-1, 1)\n",
    "    \n",
    "    predictions = model.predict(inputs)\n",
    "    \n",
    "    return rmse_test(targets, predictions).reshape(1, -1)[0], predictions\n",
    "    \n",
    "    "
   ]
  },
  {
   "cell_type": "code",
   "execution_count": 7,
   "metadata": {
    "collapsed": true
   },
   "outputs": [
    {
     "name": "stdout",
     "output_type": "stream",
     "text": [
      "INFO:tensorflow:Restoring parameters from /home/etudiant/Documents/Cours/TER/Notebooks/TERQuChemPedIA/models/DIST_REL_C_01/11.0/DIST_REL_C_01_basic.tflearn\n"
     ]
    },
    {
     "ename": "InternalError",
     "evalue": "Blas GEMM launch failed : a.shape=(5635, 870), b.shape=(870, 870), m=5635, n=870, k=870\n\t [[Node: fc0/MatMul = MatMul[T=DT_FLOAT, transpose_a=false, transpose_b=false, _device=\"/job:localhost/replica:0/task:0/device:GPU:0\"](_arg_input/X_0_0/_27, fc0/W/read)]]\n\t [[Node: outlayer/BiasAdd/_29 = _Recv[client_terminated=false, recv_device=\"/job:localhost/replica:0/task:0/device:CPU:0\", send_device=\"/job:localhost/replica:0/task:0/device:GPU:0\", send_device_incarnation=1, tensor_name=\"edge_95_outlayer/BiasAdd\", tensor_type=DT_FLOAT, _device=\"/job:localhost/replica:0/task:0/device:CPU:0\"]()]]\n\nCaused by op 'fc0/MatMul', defined at:\n  File \"/home/etudiant/anaconda3/lib/python3.6/runpy.py\", line 193, in _run_module_as_main\n    \"__main__\", mod_spec)\n  File \"/home/etudiant/anaconda3/lib/python3.6/runpy.py\", line 85, in _run_code\n    exec(code, run_globals)\n  File \"/home/etudiant/anaconda3/lib/python3.6/site-packages/ipykernel_launcher.py\", line 16, in <module>\n    app.launch_new_instance()\n  File \"/home/etudiant/anaconda3/lib/python3.6/site-packages/traitlets/config/application.py\", line 658, in launch_instance\n    app.start()\n  File \"/home/etudiant/anaconda3/lib/python3.6/site-packages/ipykernel/kernelapp.py\", line 478, in start\n    self.io_loop.start()\n  File \"/home/etudiant/anaconda3/lib/python3.6/site-packages/zmq/eventloop/ioloop.py\", line 177, in start\n    super(ZMQIOLoop, self).start()\n  File \"/home/etudiant/anaconda3/lib/python3.6/site-packages/tornado/ioloop.py\", line 888, in start\n    handler_func(fd_obj, events)\n  File \"/home/etudiant/anaconda3/lib/python3.6/site-packages/tornado/stack_context.py\", line 277, in null_wrapper\n    return fn(*args, **kwargs)\n  File \"/home/etudiant/anaconda3/lib/python3.6/site-packages/zmq/eventloop/zmqstream.py\", line 440, in _handle_events\n    self._handle_recv()\n  File \"/home/etudiant/anaconda3/lib/python3.6/site-packages/zmq/eventloop/zmqstream.py\", line 472, in _handle_recv\n    self._run_callback(callback, msg)\n  File \"/home/etudiant/anaconda3/lib/python3.6/site-packages/zmq/eventloop/zmqstream.py\", line 414, in _run_callback\n    callback(*args, **kwargs)\n  File \"/home/etudiant/anaconda3/lib/python3.6/site-packages/tornado/stack_context.py\", line 277, in null_wrapper\n    return fn(*args, **kwargs)\n  File \"/home/etudiant/anaconda3/lib/python3.6/site-packages/ipykernel/kernelbase.py\", line 283, in dispatcher\n    return self.dispatch_shell(stream, msg)\n  File \"/home/etudiant/anaconda3/lib/python3.6/site-packages/ipykernel/kernelbase.py\", line 233, in dispatch_shell\n    handler(stream, idents, msg)\n  File \"/home/etudiant/anaconda3/lib/python3.6/site-packages/ipykernel/kernelbase.py\", line 399, in execute_request\n    user_expressions, allow_stdin)\n  File \"/home/etudiant/anaconda3/lib/python3.6/site-packages/ipykernel/ipkernel.py\", line 208, in do_execute\n    res = shell.run_cell(code, store_history=store_history, silent=silent)\n  File \"/home/etudiant/anaconda3/lib/python3.6/site-packages/ipykernel/zmqshell.py\", line 537, in run_cell\n    return super(ZMQInteractiveShell, self).run_cell(*args, **kwargs)\n  File \"/home/etudiant/anaconda3/lib/python3.6/site-packages/IPython/core/interactiveshell.py\", line 2728, in run_cell\n    interactivity=interactivity, compiler=compiler, result=result)\n  File \"/home/etudiant/anaconda3/lib/python3.6/site-packages/IPython/core/interactiveshell.py\", line 2850, in run_ast_nodes\n    if self.run_code(code, result):\n  File \"/home/etudiant/anaconda3/lib/python3.6/site-packages/IPython/core/interactiveshell.py\", line 2910, in run_code\n    exec(code_obj, self.user_global_ns, self.user_ns)\n  File \"<ipython-input-7-3cc2320a2610>\", line 1, in <module>\n    rmses, predictions = calculer_pred(model_loc, test_set_prepared_input_loc, test_set_labels_loc)\n  File \"<ipython-input-6-ee07c779964a>\", line 12, in calculer_pred\n    network = creer_RN(learning_rate=0.01, dropout_val=0.98, epsilon=0.001, hidden_act=\"elu\", outlayer_act=\"linear\", width=870, depth=3)\n  File \"<ipython-input-4-5278e6da0b04>\", line 22, in creer_RN\n    weight_decay=weight_decay)\n  File \"/home/etudiant/anaconda3/lib/python3.6/site-packages/tflearn/layers/core.py\", line 181, in fully_connected\n    inference = tf.matmul(inference, W)\n  File \"/home/etudiant/anaconda3/lib/python3.6/site-packages/tensorflow/python/ops/math_ops.py\", line 2108, in matmul\n    a, b, transpose_a=transpose_a, transpose_b=transpose_b, name=name)\n  File \"/home/etudiant/anaconda3/lib/python3.6/site-packages/tensorflow/python/ops/gen_math_ops.py\", line 4209, in mat_mul\n    name=name)\n  File \"/home/etudiant/anaconda3/lib/python3.6/site-packages/tensorflow/python/framework/op_def_library.py\", line 787, in _apply_op_helper\n    op_def=op_def)\n  File \"/home/etudiant/anaconda3/lib/python3.6/site-packages/tensorflow/python/framework/ops.py\", line 3290, in create_op\n    op_def=op_def)\n  File \"/home/etudiant/anaconda3/lib/python3.6/site-packages/tensorflow/python/framework/ops.py\", line 1654, in __init__\n    self._traceback = self._graph._extract_stack()  # pylint: disable=protected-access\n\nInternalError (see above for traceback): Blas GEMM launch failed : a.shape=(5635, 870), b.shape=(870, 870), m=5635, n=870, k=870\n\t [[Node: fc0/MatMul = MatMul[T=DT_FLOAT, transpose_a=false, transpose_b=false, _device=\"/job:localhost/replica:0/task:0/device:GPU:0\"](_arg_input/X_0_0/_27, fc0/W/read)]]\n\t [[Node: outlayer/BiasAdd/_29 = _Recv[client_terminated=false, recv_device=\"/job:localhost/replica:0/task:0/device:CPU:0\", send_device=\"/job:localhost/replica:0/task:0/device:GPU:0\", send_device_incarnation=1, tensor_name=\"edge_95_outlayer/BiasAdd\", tensor_type=DT_FLOAT, _device=\"/job:localhost/replica:0/task:0/device:CPU:0\"]()]]\n",
     "output_type": "error",
     "traceback": [
      "\u001b[0;31m---------------------------------------------------------------------------\u001b[0m",
      "\u001b[0;31mInternalError\u001b[0m                             Traceback (most recent call last)",
      "\u001b[0;32m~/anaconda3/lib/python3.6/site-packages/tensorflow/python/client/session.py\u001b[0m in \u001b[0;36m_do_call\u001b[0;34m(self, fn, *args)\u001b[0m\n\u001b[1;32m   1326\u001b[0m     \u001b[0;32mtry\u001b[0m\u001b[0;34m:\u001b[0m\u001b[0;34m\u001b[0m\u001b[0m\n\u001b[0;32m-> 1327\u001b[0;31m       \u001b[0;32mreturn\u001b[0m \u001b[0mfn\u001b[0m\u001b[0;34m(\u001b[0m\u001b[0;34m*\u001b[0m\u001b[0margs\u001b[0m\u001b[0;34m)\u001b[0m\u001b[0;34m\u001b[0m\u001b[0m\n\u001b[0m\u001b[1;32m   1328\u001b[0m     \u001b[0;32mexcept\u001b[0m \u001b[0merrors\u001b[0m\u001b[0;34m.\u001b[0m\u001b[0mOpError\u001b[0m \u001b[0;32mas\u001b[0m \u001b[0me\u001b[0m\u001b[0;34m:\u001b[0m\u001b[0;34m\u001b[0m\u001b[0m\n",
      "\u001b[0;32m~/anaconda3/lib/python3.6/site-packages/tensorflow/python/client/session.py\u001b[0m in \u001b[0;36m_run_fn\u001b[0;34m(feed_dict, fetch_list, target_list, options, run_metadata)\u001b[0m\n\u001b[1;32m   1311\u001b[0m       return self._call_tf_sessionrun(\n\u001b[0;32m-> 1312\u001b[0;31m           options, feed_dict, fetch_list, target_list, run_metadata)\n\u001b[0m\u001b[1;32m   1313\u001b[0m \u001b[0;34m\u001b[0m\u001b[0m\n",
      "\u001b[0;32m~/anaconda3/lib/python3.6/site-packages/tensorflow/python/client/session.py\u001b[0m in \u001b[0;36m_call_tf_sessionrun\u001b[0;34m(self, options, feed_dict, fetch_list, target_list, run_metadata)\u001b[0m\n\u001b[1;32m   1419\u001b[0m             \u001b[0mself\u001b[0m\u001b[0;34m.\u001b[0m\u001b[0m_session\u001b[0m\u001b[0;34m,\u001b[0m \u001b[0moptions\u001b[0m\u001b[0;34m,\u001b[0m \u001b[0mfeed_dict\u001b[0m\u001b[0;34m,\u001b[0m \u001b[0mfetch_list\u001b[0m\u001b[0;34m,\u001b[0m \u001b[0mtarget_list\u001b[0m\u001b[0;34m,\u001b[0m\u001b[0;34m\u001b[0m\u001b[0m\n\u001b[0;32m-> 1420\u001b[0;31m             status, run_metadata)\n\u001b[0m\u001b[1;32m   1421\u001b[0m \u001b[0;34m\u001b[0m\u001b[0m\n",
      "\u001b[0;32m~/anaconda3/lib/python3.6/site-packages/tensorflow/python/framework/errors_impl.py\u001b[0m in \u001b[0;36m__exit__\u001b[0;34m(self, type_arg, value_arg, traceback_arg)\u001b[0m\n\u001b[1;32m    515\u001b[0m             \u001b[0mcompat\u001b[0m\u001b[0;34m.\u001b[0m\u001b[0mas_text\u001b[0m\u001b[0;34m(\u001b[0m\u001b[0mc_api\u001b[0m\u001b[0;34m.\u001b[0m\u001b[0mTF_Message\u001b[0m\u001b[0;34m(\u001b[0m\u001b[0mself\u001b[0m\u001b[0;34m.\u001b[0m\u001b[0mstatus\u001b[0m\u001b[0;34m.\u001b[0m\u001b[0mstatus\u001b[0m\u001b[0;34m)\u001b[0m\u001b[0;34m)\u001b[0m\u001b[0;34m,\u001b[0m\u001b[0;34m\u001b[0m\u001b[0m\n\u001b[0;32m--> 516\u001b[0;31m             c_api.TF_GetCode(self.status.status))\n\u001b[0m\u001b[1;32m    517\u001b[0m     \u001b[0;31m# Delete the underlying status object from memory otherwise it stays alive\u001b[0m\u001b[0;34m\u001b[0m\u001b[0;34m\u001b[0m\u001b[0m\n",
      "\u001b[0;31mInternalError\u001b[0m: Blas GEMM launch failed : a.shape=(5635, 870), b.shape=(870, 870), m=5635, n=870, k=870\n\t [[Node: fc0/MatMul = MatMul[T=DT_FLOAT, transpose_a=false, transpose_b=false, _device=\"/job:localhost/replica:0/task:0/device:GPU:0\"](_arg_input/X_0_0/_27, fc0/W/read)]]\n\t [[Node: outlayer/BiasAdd/_29 = _Recv[client_terminated=false, recv_device=\"/job:localhost/replica:0/task:0/device:CPU:0\", send_device=\"/job:localhost/replica:0/task:0/device:GPU:0\", send_device_incarnation=1, tensor_name=\"edge_95_outlayer/BiasAdd\", tensor_type=DT_FLOAT, _device=\"/job:localhost/replica:0/task:0/device:CPU:0\"]()]]",
      "\nDuring handling of the above exception, another exception occurred:\n",
      "\u001b[0;31mInternalError\u001b[0m                             Traceback (most recent call last)",
      "\u001b[0;32m<ipython-input-7-3cc2320a2610>\u001b[0m in \u001b[0;36m<module>\u001b[0;34m()\u001b[0m\n\u001b[0;32m----> 1\u001b[0;31m \u001b[0mrmses\u001b[0m\u001b[0;34m,\u001b[0m \u001b[0mpredictions\u001b[0m \u001b[0;34m=\u001b[0m \u001b[0mcalculer_pred\u001b[0m\u001b[0;34m(\u001b[0m\u001b[0mmodel_loc\u001b[0m\u001b[0;34m,\u001b[0m \u001b[0mtest_set_prepared_input_loc\u001b[0m\u001b[0;34m,\u001b[0m \u001b[0mtest_set_labels_loc\u001b[0m\u001b[0;34m)\u001b[0m\u001b[0;34m\u001b[0m\u001b[0m\n\u001b[0m",
      "\u001b[0;32m<ipython-input-6-ee07c779964a>\u001b[0m in \u001b[0;36mcalculer_pred\u001b[0;34m(model_loc, test_set_prepared_input_loc, test_set_labels_loc)\u001b[0m\n\u001b[1;32m     25\u001b[0m     \u001b[0mtargets\u001b[0m \u001b[0;34m=\u001b[0m \u001b[0mtargets\u001b[0m\u001b[0;34m.\u001b[0m\u001b[0mreshape\u001b[0m\u001b[0;34m(\u001b[0m\u001b[0;34m-\u001b[0m\u001b[0;36m1\u001b[0m\u001b[0;34m,\u001b[0m \u001b[0;36m1\u001b[0m\u001b[0;34m)\u001b[0m\u001b[0;34m\u001b[0m\u001b[0m\n\u001b[1;32m     26\u001b[0m \u001b[0;34m\u001b[0m\u001b[0m\n\u001b[0;32m---> 27\u001b[0;31m     \u001b[0mpredictions\u001b[0m \u001b[0;34m=\u001b[0m \u001b[0mmodel\u001b[0m\u001b[0;34m.\u001b[0m\u001b[0mpredict\u001b[0m\u001b[0;34m(\u001b[0m\u001b[0minputs\u001b[0m\u001b[0;34m)\u001b[0m\u001b[0;34m\u001b[0m\u001b[0m\n\u001b[0m\u001b[1;32m     28\u001b[0m \u001b[0;34m\u001b[0m\u001b[0m\n\u001b[1;32m     29\u001b[0m     \u001b[0;32mreturn\u001b[0m \u001b[0mrmse_test\u001b[0m\u001b[0;34m(\u001b[0m\u001b[0mtargets\u001b[0m\u001b[0;34m,\u001b[0m \u001b[0mpredictions\u001b[0m\u001b[0;34m)\u001b[0m\u001b[0;34m.\u001b[0m\u001b[0mreshape\u001b[0m\u001b[0;34m(\u001b[0m\u001b[0;36m1\u001b[0m\u001b[0;34m,\u001b[0m \u001b[0;34m-\u001b[0m\u001b[0;36m1\u001b[0m\u001b[0;34m)\u001b[0m\u001b[0;34m[\u001b[0m\u001b[0;36m0\u001b[0m\u001b[0;34m]\u001b[0m\u001b[0;34m,\u001b[0m \u001b[0mpredictions\u001b[0m\u001b[0;34m\u001b[0m\u001b[0m\n",
      "\u001b[0;32m~/anaconda3/lib/python3.6/site-packages/tflearn/models/dnn.py\u001b[0m in \u001b[0;36mpredict\u001b[0;34m(self, X)\u001b[0m\n\u001b[1;32m    249\u001b[0m         \"\"\"\n\u001b[1;32m    250\u001b[0m         \u001b[0mfeed_dict\u001b[0m \u001b[0;34m=\u001b[0m \u001b[0mfeed_dict_builder\u001b[0m\u001b[0;34m(\u001b[0m\u001b[0mX\u001b[0m\u001b[0;34m,\u001b[0m \u001b[0;32mNone\u001b[0m\u001b[0;34m,\u001b[0m \u001b[0mself\u001b[0m\u001b[0;34m.\u001b[0m\u001b[0minputs\u001b[0m\u001b[0;34m,\u001b[0m \u001b[0;32mNone\u001b[0m\u001b[0;34m)\u001b[0m\u001b[0;34m\u001b[0m\u001b[0m\n\u001b[0;32m--> 251\u001b[0;31m         \u001b[0;32mreturn\u001b[0m \u001b[0mself\u001b[0m\u001b[0;34m.\u001b[0m\u001b[0mpredictor\u001b[0m\u001b[0;34m.\u001b[0m\u001b[0mpredict\u001b[0m\u001b[0;34m(\u001b[0m\u001b[0mfeed_dict\u001b[0m\u001b[0;34m)\u001b[0m\u001b[0;34m\u001b[0m\u001b[0m\n\u001b[0m\u001b[1;32m    252\u001b[0m \u001b[0;34m\u001b[0m\u001b[0m\n\u001b[1;32m    253\u001b[0m     \u001b[0;32mdef\u001b[0m \u001b[0mpredict_label\u001b[0m\u001b[0;34m(\u001b[0m\u001b[0mself\u001b[0m\u001b[0;34m,\u001b[0m \u001b[0mX\u001b[0m\u001b[0;34m)\u001b[0m\u001b[0;34m:\u001b[0m\u001b[0;34m\u001b[0m\u001b[0m\n",
      "\u001b[0;32m~/anaconda3/lib/python3.6/site-packages/tflearn/helpers/evaluator.py\u001b[0m in \u001b[0;36mpredict\u001b[0;34m(self, feed_dict)\u001b[0m\n\u001b[1;32m     67\u001b[0m             \u001b[0mprediction\u001b[0m \u001b[0;34m=\u001b[0m \u001b[0;34m[\u001b[0m\u001b[0;34m]\u001b[0m\u001b[0;34m\u001b[0m\u001b[0m\n\u001b[1;32m     68\u001b[0m             \u001b[0;32mif\u001b[0m \u001b[0mlen\u001b[0m\u001b[0;34m(\u001b[0m\u001b[0mself\u001b[0m\u001b[0;34m.\u001b[0m\u001b[0mtensors\u001b[0m\u001b[0;34m)\u001b[0m \u001b[0;34m==\u001b[0m \u001b[0;36m1\u001b[0m\u001b[0;34m:\u001b[0m\u001b[0;34m\u001b[0m\u001b[0m\n\u001b[0;32m---> 69\u001b[0;31m                 \u001b[0;32mreturn\u001b[0m \u001b[0mself\u001b[0m\u001b[0;34m.\u001b[0m\u001b[0msession\u001b[0m\u001b[0;34m.\u001b[0m\u001b[0mrun\u001b[0m\u001b[0;34m(\u001b[0m\u001b[0mself\u001b[0m\u001b[0;34m.\u001b[0m\u001b[0mtensors\u001b[0m\u001b[0;34m[\u001b[0m\u001b[0;36m0\u001b[0m\u001b[0;34m]\u001b[0m\u001b[0;34m,\u001b[0m \u001b[0mfeed_dict\u001b[0m\u001b[0;34m=\u001b[0m\u001b[0mfeed_dict\u001b[0m\u001b[0;34m)\u001b[0m\u001b[0;34m\u001b[0m\u001b[0m\n\u001b[0m\u001b[1;32m     70\u001b[0m             \u001b[0;32melse\u001b[0m\u001b[0;34m:\u001b[0m\u001b[0;34m\u001b[0m\u001b[0m\n\u001b[1;32m     71\u001b[0m                 \u001b[0;32mfor\u001b[0m \u001b[0moutput\u001b[0m \u001b[0;32min\u001b[0m \u001b[0mself\u001b[0m\u001b[0;34m.\u001b[0m\u001b[0mtensors\u001b[0m\u001b[0;34m:\u001b[0m\u001b[0;34m\u001b[0m\u001b[0m\n",
      "\u001b[0;32m~/anaconda3/lib/python3.6/site-packages/tensorflow/python/client/session.py\u001b[0m in \u001b[0;36mrun\u001b[0;34m(self, fetches, feed_dict, options, run_metadata)\u001b[0m\n\u001b[1;32m    903\u001b[0m     \u001b[0;32mtry\u001b[0m\u001b[0;34m:\u001b[0m\u001b[0;34m\u001b[0m\u001b[0m\n\u001b[1;32m    904\u001b[0m       result = self._run(None, fetches, feed_dict, options_ptr,\n\u001b[0;32m--> 905\u001b[0;31m                          run_metadata_ptr)\n\u001b[0m\u001b[1;32m    906\u001b[0m       \u001b[0;32mif\u001b[0m \u001b[0mrun_metadata\u001b[0m\u001b[0;34m:\u001b[0m\u001b[0;34m\u001b[0m\u001b[0m\n\u001b[1;32m    907\u001b[0m         \u001b[0mproto_data\u001b[0m \u001b[0;34m=\u001b[0m \u001b[0mtf_session\u001b[0m\u001b[0;34m.\u001b[0m\u001b[0mTF_GetBuffer\u001b[0m\u001b[0;34m(\u001b[0m\u001b[0mrun_metadata_ptr\u001b[0m\u001b[0;34m)\u001b[0m\u001b[0;34m\u001b[0m\u001b[0m\n",
      "\u001b[0;32m~/anaconda3/lib/python3.6/site-packages/tensorflow/python/client/session.py\u001b[0m in \u001b[0;36m_run\u001b[0;34m(self, handle, fetches, feed_dict, options, run_metadata)\u001b[0m\n\u001b[1;32m   1138\u001b[0m     \u001b[0;32mif\u001b[0m \u001b[0mfinal_fetches\u001b[0m \u001b[0;32mor\u001b[0m \u001b[0mfinal_targets\u001b[0m \u001b[0;32mor\u001b[0m \u001b[0;34m(\u001b[0m\u001b[0mhandle\u001b[0m \u001b[0;32mand\u001b[0m \u001b[0mfeed_dict_tensor\u001b[0m\u001b[0;34m)\u001b[0m\u001b[0;34m:\u001b[0m\u001b[0;34m\u001b[0m\u001b[0m\n\u001b[1;32m   1139\u001b[0m       results = self._do_run(handle, final_targets, final_fetches,\n\u001b[0;32m-> 1140\u001b[0;31m                              feed_dict_tensor, options, run_metadata)\n\u001b[0m\u001b[1;32m   1141\u001b[0m     \u001b[0;32melse\u001b[0m\u001b[0;34m:\u001b[0m\u001b[0;34m\u001b[0m\u001b[0m\n\u001b[1;32m   1142\u001b[0m       \u001b[0mresults\u001b[0m \u001b[0;34m=\u001b[0m \u001b[0;34m[\u001b[0m\u001b[0;34m]\u001b[0m\u001b[0;34m\u001b[0m\u001b[0m\n",
      "\u001b[0;32m~/anaconda3/lib/python3.6/site-packages/tensorflow/python/client/session.py\u001b[0m in \u001b[0;36m_do_run\u001b[0;34m(self, handle, target_list, fetch_list, feed_dict, options, run_metadata)\u001b[0m\n\u001b[1;32m   1319\u001b[0m     \u001b[0;32mif\u001b[0m \u001b[0mhandle\u001b[0m \u001b[0;32mis\u001b[0m \u001b[0;32mNone\u001b[0m\u001b[0;34m:\u001b[0m\u001b[0;34m\u001b[0m\u001b[0m\n\u001b[1;32m   1320\u001b[0m       return self._do_call(_run_fn, feeds, fetches, targets, options,\n\u001b[0;32m-> 1321\u001b[0;31m                            run_metadata)\n\u001b[0m\u001b[1;32m   1322\u001b[0m     \u001b[0;32melse\u001b[0m\u001b[0;34m:\u001b[0m\u001b[0;34m\u001b[0m\u001b[0m\n\u001b[1;32m   1323\u001b[0m       \u001b[0;32mreturn\u001b[0m \u001b[0mself\u001b[0m\u001b[0;34m.\u001b[0m\u001b[0m_do_call\u001b[0m\u001b[0;34m(\u001b[0m\u001b[0m_prun_fn\u001b[0m\u001b[0;34m,\u001b[0m \u001b[0mhandle\u001b[0m\u001b[0;34m,\u001b[0m \u001b[0mfeeds\u001b[0m\u001b[0;34m,\u001b[0m \u001b[0mfetches\u001b[0m\u001b[0;34m)\u001b[0m\u001b[0;34m\u001b[0m\u001b[0m\n",
      "\u001b[0;32m~/anaconda3/lib/python3.6/site-packages/tensorflow/python/client/session.py\u001b[0m in \u001b[0;36m_do_call\u001b[0;34m(self, fn, *args)\u001b[0m\n\u001b[1;32m   1338\u001b[0m         \u001b[0;32mexcept\u001b[0m \u001b[0mKeyError\u001b[0m\u001b[0;34m:\u001b[0m\u001b[0;34m\u001b[0m\u001b[0m\n\u001b[1;32m   1339\u001b[0m           \u001b[0;32mpass\u001b[0m\u001b[0;34m\u001b[0m\u001b[0m\n\u001b[0;32m-> 1340\u001b[0;31m       \u001b[0;32mraise\u001b[0m \u001b[0mtype\u001b[0m\u001b[0;34m(\u001b[0m\u001b[0me\u001b[0m\u001b[0;34m)\u001b[0m\u001b[0;34m(\u001b[0m\u001b[0mnode_def\u001b[0m\u001b[0;34m,\u001b[0m \u001b[0mop\u001b[0m\u001b[0;34m,\u001b[0m \u001b[0mmessage\u001b[0m\u001b[0;34m)\u001b[0m\u001b[0;34m\u001b[0m\u001b[0m\n\u001b[0m\u001b[1;32m   1341\u001b[0m \u001b[0;34m\u001b[0m\u001b[0m\n\u001b[1;32m   1342\u001b[0m   \u001b[0;32mdef\u001b[0m \u001b[0m_extend_graph\u001b[0m\u001b[0;34m(\u001b[0m\u001b[0mself\u001b[0m\u001b[0;34m)\u001b[0m\u001b[0;34m:\u001b[0m\u001b[0;34m\u001b[0m\u001b[0m\n",
      "\u001b[0;31mInternalError\u001b[0m: Blas GEMM launch failed : a.shape=(5635, 870), b.shape=(870, 870), m=5635, n=870, k=870\n\t [[Node: fc0/MatMul = MatMul[T=DT_FLOAT, transpose_a=false, transpose_b=false, _device=\"/job:localhost/replica:0/task:0/device:GPU:0\"](_arg_input/X_0_0/_27, fc0/W/read)]]\n\t [[Node: outlayer/BiasAdd/_29 = _Recv[client_terminated=false, recv_device=\"/job:localhost/replica:0/task:0/device:CPU:0\", send_device=\"/job:localhost/replica:0/task:0/device:GPU:0\", send_device_incarnation=1, tensor_name=\"edge_95_outlayer/BiasAdd\", tensor_type=DT_FLOAT, _device=\"/job:localhost/replica:0/task:0/device:CPU:0\"]()]]\n\nCaused by op 'fc0/MatMul', defined at:\n  File \"/home/etudiant/anaconda3/lib/python3.6/runpy.py\", line 193, in _run_module_as_main\n    \"__main__\", mod_spec)\n  File \"/home/etudiant/anaconda3/lib/python3.6/runpy.py\", line 85, in _run_code\n    exec(code, run_globals)\n  File \"/home/etudiant/anaconda3/lib/python3.6/site-packages/ipykernel_launcher.py\", line 16, in <module>\n    app.launch_new_instance()\n  File \"/home/etudiant/anaconda3/lib/python3.6/site-packages/traitlets/config/application.py\", line 658, in launch_instance\n    app.start()\n  File \"/home/etudiant/anaconda3/lib/python3.6/site-packages/ipykernel/kernelapp.py\", line 478, in start\n    self.io_loop.start()\n  File \"/home/etudiant/anaconda3/lib/python3.6/site-packages/zmq/eventloop/ioloop.py\", line 177, in start\n    super(ZMQIOLoop, self).start()\n  File \"/home/etudiant/anaconda3/lib/python3.6/site-packages/tornado/ioloop.py\", line 888, in start\n    handler_func(fd_obj, events)\n  File \"/home/etudiant/anaconda3/lib/python3.6/site-packages/tornado/stack_context.py\", line 277, in null_wrapper\n    return fn(*args, **kwargs)\n  File \"/home/etudiant/anaconda3/lib/python3.6/site-packages/zmq/eventloop/zmqstream.py\", line 440, in _handle_events\n    self._handle_recv()\n  File \"/home/etudiant/anaconda3/lib/python3.6/site-packages/zmq/eventloop/zmqstream.py\", line 472, in _handle_recv\n    self._run_callback(callback, msg)\n  File \"/home/etudiant/anaconda3/lib/python3.6/site-packages/zmq/eventloop/zmqstream.py\", line 414, in _run_callback\n    callback(*args, **kwargs)\n  File \"/home/etudiant/anaconda3/lib/python3.6/site-packages/tornado/stack_context.py\", line 277, in null_wrapper\n    return fn(*args, **kwargs)\n  File \"/home/etudiant/anaconda3/lib/python3.6/site-packages/ipykernel/kernelbase.py\", line 283, in dispatcher\n    return self.dispatch_shell(stream, msg)\n  File \"/home/etudiant/anaconda3/lib/python3.6/site-packages/ipykernel/kernelbase.py\", line 233, in dispatch_shell\n    handler(stream, idents, msg)\n  File \"/home/etudiant/anaconda3/lib/python3.6/site-packages/ipykernel/kernelbase.py\", line 399, in execute_request\n    user_expressions, allow_stdin)\n  File \"/home/etudiant/anaconda3/lib/python3.6/site-packages/ipykernel/ipkernel.py\", line 208, in do_execute\n    res = shell.run_cell(code, store_history=store_history, silent=silent)\n  File \"/home/etudiant/anaconda3/lib/python3.6/site-packages/ipykernel/zmqshell.py\", line 537, in run_cell\n    return super(ZMQInteractiveShell, self).run_cell(*args, **kwargs)\n  File \"/home/etudiant/anaconda3/lib/python3.6/site-packages/IPython/core/interactiveshell.py\", line 2728, in run_cell\n    interactivity=interactivity, compiler=compiler, result=result)\n  File \"/home/etudiant/anaconda3/lib/python3.6/site-packages/IPython/core/interactiveshell.py\", line 2850, in run_ast_nodes\n    if self.run_code(code, result):\n  File \"/home/etudiant/anaconda3/lib/python3.6/site-packages/IPython/core/interactiveshell.py\", line 2910, in run_code\n    exec(code_obj, self.user_global_ns, self.user_ns)\n  File \"<ipython-input-7-3cc2320a2610>\", line 1, in <module>\n    rmses, predictions = calculer_pred(model_loc, test_set_prepared_input_loc, test_set_labels_loc)\n  File \"<ipython-input-6-ee07c779964a>\", line 12, in calculer_pred\n    network = creer_RN(learning_rate=0.01, dropout_val=0.98, epsilon=0.001, hidden_act=\"elu\", outlayer_act=\"linear\", width=870, depth=3)\n  File \"<ipython-input-4-5278e6da0b04>\", line 22, in creer_RN\n    weight_decay=weight_decay)\n  File \"/home/etudiant/anaconda3/lib/python3.6/site-packages/tflearn/layers/core.py\", line 181, in fully_connected\n    inference = tf.matmul(inference, W)\n  File \"/home/etudiant/anaconda3/lib/python3.6/site-packages/tensorflow/python/ops/math_ops.py\", line 2108, in matmul\n    a, b, transpose_a=transpose_a, transpose_b=transpose_b, name=name)\n  File \"/home/etudiant/anaconda3/lib/python3.6/site-packages/tensorflow/python/ops/gen_math_ops.py\", line 4209, in mat_mul\n    name=name)\n  File \"/home/etudiant/anaconda3/lib/python3.6/site-packages/tensorflow/python/framework/op_def_library.py\", line 787, in _apply_op_helper\n    op_def=op_def)\n  File \"/home/etudiant/anaconda3/lib/python3.6/site-packages/tensorflow/python/framework/ops.py\", line 3290, in create_op\n    op_def=op_def)\n  File \"/home/etudiant/anaconda3/lib/python3.6/site-packages/tensorflow/python/framework/ops.py\", line 1654, in __init__\n    self._traceback = self._graph._extract_stack()  # pylint: disable=protected-access\n\nInternalError (see above for traceback): Blas GEMM launch failed : a.shape=(5635, 870), b.shape=(870, 870), m=5635, n=870, k=870\n\t [[Node: fc0/MatMul = MatMul[T=DT_FLOAT, transpose_a=false, transpose_b=false, _device=\"/job:localhost/replica:0/task:0/device:GPU:0\"](_arg_input/X_0_0/_27, fc0/W/read)]]\n\t [[Node: outlayer/BiasAdd/_29 = _Recv[client_terminated=false, recv_device=\"/job:localhost/replica:0/task:0/device:CPU:0\", send_device=\"/job:localhost/replica:0/task:0/device:GPU:0\", send_device_incarnation=1, tensor_name=\"edge_95_outlayer/BiasAdd\", tensor_type=DT_FLOAT, _device=\"/job:localhost/replica:0/task:0/device:CPU:0\"]()]]\n"
     ]
    }
   ],
   "source": [
    "rmses, predictions = calculer_pred(model_loc, test_set_prepared_input_loc, test_set_labels_loc)\n"
   ]
  },
  {
   "cell_type": "markdown",
   "metadata": {},
   "source": [
    "#### Affichage des statistiques sur les erreurs"
   ]
  },
  {
   "cell_type": "code",
   "execution_count": null,
   "metadata": {},
   "outputs": [],
   "source": [
    "def print_stats_rmse(rmses):\n",
    "    print(\"Erreur moyenne : \"+str(np.mean(rmses)))\n",
    "    print(\"Erreur médiane : \"+str(np.median(rmses)))\n",
    "    print(\"Écart-type : \"+str(np.std(rmses)))\n",
    "    print(\"Erreur min : \"+str(min(rmses)))\n",
    "    print(\"Erreur max : \"+str(max(rmses)))\n",
    "    \n",
    "print_stats_rmse(rmses)"
   ]
  },
  {
   "cell_type": "markdown",
   "metadata": {},
   "source": [
    "##### Sortie\n",
    "\n",
    "```\n",
    "Erreur moyenne : 12.826389\n",
    "Erreur médiane : 6.0214844\n",
    "Écart-type : 20.240458\n",
    "Erreur min : 0.0\n",
    "Erreur max : 285.42126\n",
    "```\n",
    "\n",
    "### Analyse\n",
    "\n",
    "On voit ici que le modèle produit en général de bons résultats. La moitié des erreurs est en dessous de 6 mÅ ce qui correspond à une grande précision des estimations.\n",
    "\n",
    "Toutefois, on remarque que le modèle produit également de grandes erreurs sur certaines liaisons et que l'écart-type est élevé par rapport à l'ordre de grandeur de la médiane.\n",
    "\n",
    "On a donc un modèle qui prédit très bien la moitié des données, et qui prédit mal l'autre moitié. Nous allons tenter de comprendre quelles sont les valeurs typiques qui sont bien ou mal prédites."
   ]
  },
  {
   "cell_type": "markdown",
   "metadata": {},
   "source": [
    "#### Récupération du vecteur cibles (distances)"
   ]
  },
  {
   "cell_type": "code",
   "execution_count": null,
   "metadata": {},
   "outputs": [],
   "source": [
    "def extract_targets(test_set_labels_loc):\n",
    "    targets_h5 = h5py.File(test_set_labels_loc, 'r')\n",
    "    targets = np.array(targets_h5[\"targets\"])\n",
    "    targets = targets.reshape(-1, 1)\n",
    "    return targets\n",
    "\n",
    "targets = extract_targets(test_set_labels_loc)\n"
   ]
  },
  {
   "cell_type": "markdown",
   "metadata": {},
   "source": [
    "### Représentation graphique de la distribution des erreurs selon leur valeur"
   ]
  },
  {
   "cell_type": "code",
   "execution_count": null,
   "metadata": {},
   "outputs": [],
   "source": [
    "import matplotlib.pyplot as plt\n",
    "import matplotlib as mpl\n",
    "\n",
    "mpl.rcParams['agg.path.chunksize'] = 10000\n",
    "\n",
    "\n",
    "def plot_distrib_rmses_val(rmses, padding, model_name, figures_loc):\n",
    "    \"\"\" Affiche la distribution des rmses selon un pas donné \"\"\"\n",
    "    \n",
    "    # On calcule les bornes de notre index\n",
    "    debut_index = np.floor(min(rmses))\n",
    "    fin_index = max(rmses)+padding\n",
    "    \n",
    "    # On créé l'index des rmses\n",
    "    index = np.arange(debut_index, fin_index, padding)\n",
    "    \n",
    "    # On créé le compteur de rmses\n",
    "    rmse_occ = np.zeros_like(index)\n",
    "        \n",
    "    # Calcul des rmse\n",
    "    for rmse in rmses:\n",
    "        rmse_occ[int((rmse-debut_index)/padding)] += 1\n",
    "    \n",
    "    fig = plt.figure()\n",
    "    \n",
    "    \n",
    "    ## Échelle linéaire ##\n",
    "    ax1 = fig.add_subplot(121)\n",
    "    ax1.set_title(\"Modèle \"+model_name+\"\\n Distribution des erreurs\")\n",
    "    ax1.set_xlabel(\"Erreur absolue (mÅ)\")\n",
    "    ax1.set_ylabel(\"Occurrences sur le jeu de test\")\n",
    "    ax1.bar(index, rmse_occ)\n",
    "   \n",
    "\n",
    "    ## Échelle logarithmique\n",
    "    ax2 = fig.add_subplot(122)\n",
    "    ax2.set_title(\"Modèle \"+model_name+\"\\n Distribution des erreurs\")\n",
    "    ax2.set_xlabel(\"Erreur absolue (mÅ)\")\n",
    "    ax2.set_ylabel(\"Occurrences sur le jeu de test (échelle logarithmique)\")\n",
    "    ax2.set_yscale(\"log\")\n",
    "    ax2.bar(index, rmse_occ)\n",
    "    \n",
    "    plt.gcf().subplots_adjust(wspace=0.3)\n",
    "\n",
    "    \n",
    "    plt.savefig(figures_loc+model_name+\"_distrib_rmse_val.png\", dpi=200)\n",
    "    plt.show()\n",
    "\n"
   ]
  },
  {
   "cell_type": "code",
   "execution_count": null,
   "metadata": {},
   "outputs": [],
   "source": [
    "#plot_distrib_rmses_val(rmses, 1, model_name, figures_loc)"
   ]
  },
  {
   "cell_type": "markdown",
   "metadata": {},
   "source": [
    "![title](../figures/11.1-DIST_REL_C_01_distrib_rmse_val.png)\n",
    "\n",
    "\n",
    "### Analyse\n",
    "\n",
    "Ce graphe confirme d'une part que la plupart des prédictions du modèle sont en général très proches des valeurs attendues, et d'autre part que le modèle fait de très grosses erreurs sur certaines prédictions."
   ]
  },
  {
   "cell_type": "markdown",
   "metadata": {},
   "source": [
    "#### Récupération des distances CC dans le jeu de test"
   ]
  },
  {
   "cell_type": "code",
   "execution_count": null,
   "metadata": {},
   "outputs": [],
   "source": [
    "import h5py\n",
    "import numpy as np\n",
    "\n",
    "dist_CC_test_h5 = h5py.File(test_tailles_CC_loc, 'r')\n",
    "dists = np.array(dist_CC_test_h5[\"distances\"])"
   ]
  },
  {
   "cell_type": "markdown",
   "metadata": {},
   "source": [
    "#### Distribution des erreurs selon la distance à prédire"
   ]
  },
  {
   "cell_type": "code",
   "execution_count": 136,
   "metadata": {},
   "outputs": [],
   "source": [
    "import numpy as np\n",
    "from matplotlib import gridspec\n",
    "\n",
    "def plot_rmse_distrib_dist(rmses, targets, anum_1, anum_2, model_name, figures_loc, dists, padding):\n",
    "    \n",
    "    fig = plt.figure()\n",
    "    \n",
    "    gs = gridspec.GridSpec(2, 1, height_ratios=[5, 1]) \n",
    "        \n",
    "    ax = plt.subplot(gs[0])\n",
    "\n",
    "    \n",
    "    ax.set_title(\"Modèle \"+model_name+\"\\nDistribution des erreurs selon les distances cibles\")\n",
    "    ax.set_xlabel(\"Distance cible (mÅ)\")\n",
    "    ax.set_ylabel(\"Erreur absolue (mÅ)\")\n",
    "    ax.plot(targets, rmses, \",\", label=\"Erreur absolue (mÅ)\")\n",
    "    \n",
    "    ax.set_xlim(xmin=min(targets), xmax=max(targets))\n",
    "\n",
    "    \n",
    "    ax2 = plt.subplot(gs[1])\n",
    "    \n",
    "    #ax2.set_xlim(xmin=min(targets), xmax=max(targets))\n",
    "            \n",
    "    # Passage des distances en mÅ\n",
    "    dists = dists*1000\n",
    "    \n",
    "    # On calcule les bornes de notre index\n",
    "    debut_index = np.floor(min(targets))\n",
    "    fin_index = max(targets)+padding\n",
    "    \n",
    "    # On créé l'index\n",
    "    index = np.arange(debut_index, fin_index, padding)\n",
    "    \n",
    "    # On créé le compteur d'occurences\n",
    "    dists_occ = np.zeros_like(index)\n",
    "    \n",
    "    max_targets = max(targets)\n",
    "    \n",
    "    # Calcul des occurences\n",
    "    for dist in dists:\n",
    "        if dist < max_targets :\n",
    "            dists_occ[int((dist-debut_index)/padding)] += 1\n",
    "                                    \n",
    "    # Set the colormap and norm to correspond to the data for which\n",
    "    # the colorbar will be used.\n",
    "    cmap = mpl.cm.binary\n",
    "    norm = mpl.colors.Normalize()\n",
    "\n",
    "    cb1 = mpl.colorbar.ColorbarBase(ax2, cmap=cmap, values=dists_occ,\n",
    "                                    norm=norm,\n",
    "                                    orientation='horizontal')\n",
    "    \n",
    "    cb1.set_label('Représentation des longueurs de liaisons')\n",
    "\n",
    "    plt.tight_layout()\n",
    "\n",
    "        \n",
    "    plt.savefig(figures_loc+model_name+\"_distrib_rmse_dist.png\", dpi=250)\n",
    "    \n",
    "    plt.show()\n",
    "    \n"
   ]
  },
  {
   "cell_type": "code",
   "execution_count": 137,
   "metadata": {
    "collapsed": true
   },
   "outputs": [
    {
     "data": {
      "image/png": "[encoded data removed]",
      "text/plain": [
       "<matplotlib.figure.Figure at 0x7f36def07128>"
      ]
     },
     "metadata": {},
     "output_type": "display_data"
    }
   ],
   "source": [
    "plot_rmse_distrib_dist(rmses, targets, C_ANUM, C_ANUM, model_name, figures_loc, dists, 1)"
   ]
  },
  {
   "cell_type": "markdown",
   "metadata": {},
   "source": [
    "![title](../figures/11.1-DIST_REL_C_01_distrib_rmse_dist.png)\n"
   ]
  },
  {
   "cell_type": "markdown",
   "metadata": {},
   "source": [
    "### Analyse\n",
    "\n",
    "On visualise ici l'erreur absolue en fonction de la distance cible. Cela permet de visualiser quelles sont les classes de liaisons covalentes (simple, aromatique, double et triple) qui sont le mieux prédites par le modèle.\n",
    "\n",
    "On remarque premièrement que pour toutes les classes, la densité est très forte sur les erreurs faibles (50% des valeurs sont en dessous de la droite x=6, cf. médiane).\n",
    "\n",
    "On remarque que les liaisons aromatiques sont les mieux prédites, ce qui est cohérent avec le fait que ce sont les plus représentées dans les données. Les liaisons simples sont légèrement moins bien prédites et les liaisons doubles et triples sont les plus mal prédites.\n",
    "\n",
    "Contrairement au modèle DIST_REL_C_RNN_01 (voir notebook 9.3), ce modèle semble généralement capable de *comprendre* l'existence des différentes classes de liaisons, et de produire des prédictions fonctions de la classe de la liaison. On remarque toutefois que le modèle prédit par défaut une liaison aromatique lorsqu'il n'arrive pas à *déduire* la classe de la liaison."
   ]
  },
  {
   "cell_type": "markdown",
   "metadata": {},
   "source": [
    "#### Visualisation des prédictions selon les distances attendues"
   ]
  },
  {
   "cell_type": "code",
   "execution_count": 1,
   "metadata": {},
   "outputs": [],
   "source": [
    "def fun_id(x):\n",
    "    return x\n",
    "\n",
    "def plot_targets_pred(targets, preds, anum_1, anum_2, model_name, figures_loc):\n",
    "        \n",
    "    fig = plt.figure()\n",
    "    ax = fig.add_subplot(111)\n",
    "        \n",
    "    ax.set_title(\"Modèle \"+model_name+\"\\n Prédictions en fonction des distances cibles\")\n",
    "    ax.set_xlabel(\"Distance cible (mÅ)\")\n",
    "    ax.set_ylabel(\"Distance prédite (mÅ)\")\n",
    "    \n",
    "    ax.plot(targets, preds, \",\")\n",
    "    \n",
    "    \"\"\"\n",
    "    ax.annotate('', xy=(0.07, 0.89), xytext=(0.17, 0.89), xycoords=ax.transAxes,\n",
    "            arrowprops=dict(facecolor='red', shrink=0.05)\n",
    "            )\n",
    "    \n",
    "    ax.text(0.19, 0.85, \"Longueur de liaison\\ntypique\", transform=ax.transAxes)\n",
    "    \"\"\"\n",
    "    if anum_1==C_ANUM and anum_2==C_ANUM:\n",
    "        \n",
    "        x_axe_coord = ax.transAxes.inverted().transform(ax.transData.transform((1200,0)))[0]\n",
    "        ax.annotate('triple', xy=(x_axe_coord, 0), xytext=(x_axe_coord+0.06, 0.1), xycoords=ax.transAxes,\n",
    "                arrowprops=dict(facecolor='red', shrink=0.05), label=\"Longeur de liaison typique\"\n",
    "                )\n",
    "\n",
    "        x_axe_coord = ax.transAxes.inverted().transform(ax.transData.transform((1340,0)))[0]\n",
    "        ax.annotate('double', xy=(x_axe_coord, 0), xytext=(x_axe_coord, 0.1), xycoords=ax.transAxes,\n",
    "                arrowprops=dict(facecolor='red', shrink=0.05),\n",
    "                )\n",
    "\n",
    "        x_axe_coord = ax.transAxes.inverted().transform(ax.transData.transform((1540,0)))[0]\n",
    "        ax.annotate('simple', xy=(x_axe_coord, 0), xytext=(x_axe_coord, 0.1), xycoords=ax.transAxes,\n",
    "                arrowprops=dict(facecolor='red', shrink=0.05),\n",
    "                )\n",
    "\n",
    "        x_axe_coord = ax.transAxes.inverted().transform(ax.transData.transform((1400,0)))[0]\n",
    "        ax.annotate('aromatique', xy=(x_axe_coord, 0), xytext=(x_axe_coord, 0.1), xycoords=ax.transAxes,\n",
    "                arrowprops=dict(facecolor='red', shrink=0.05),\n",
    "                )\n",
    "\n",
    "    elif anum_1==C_ANUM and anum_2==H_ANUM:\n",
    "        \n",
    "        x_axe_coord = ax.transAxes.inverted().transform(ax.transData.transform((1090,0)))[0]\n",
    "        ax.annotate('simple', xy=(x_axe_coord, 0), xytext=(x_axe_coord, 0.1), xycoords=ax.transAxes,\n",
    "                arrowprops=dict(facecolor='red', shrink=0.05), label=\"Longueur de liaison typique\"\n",
    "                )\n",
    "        \n",
    "    elif anum_1==O_ANUM and anum_2==H_ANUM:\n",
    "        \n",
    "        x_axe_coord = ax.transAxes.inverted().transform(ax.transData.transform((980,0)))[0]\n",
    "        ax.annotate('simple', xy=(x_axe_coord, 0), xytext=(x_axe_coord, 0.1), xycoords=ax.transAxes,\n",
    "                arrowprops=dict(facecolor='red', shrink=0.05), label=\"Longueur de liaison typique\"\n",
    "                )\n",
    "        \n",
    "        \n",
    "    # On trace la droite y=x\n",
    "    x=np.linspace(min(targets), max(targets))\n",
    "    ax.plot(x, fun_id(x), color='darkgreen', label=\"Modèle théorique parfait\")\n",
    "    \n",
    "    ax.text(0.65, 0.85, 'Modèle théorique\\nparfait',\n",
    "        transform=ax.transAxes,\n",
    "        color='darkgreen')\n",
    "    \n",
    "    ax.legend(loc='upper center', shadow=True)\n",
    "    \n",
    "    plt.savefig(figures_loc+model_name+\"_preds_fonction_cibles.png\", dpi=250)\n",
    "    \n",
    "    plt.show()\n",
    "\n"
   ]
  },
  {
   "cell_type": "code",
   "execution_count": 139,
   "metadata": {
    "collapsed": true
   },
   "outputs": [
    {
     "data": {
      "image/png": "[encoded data removed]",
      "text/plain": [
       "<matplotlib.figure.Figure at 0x7f36def2afd0>"
      ]
     },
     "metadata": {},
     "output_type": "display_data"
    }
   ],
   "source": [
    "plot_targets_pred(targets, predictions, C_ANUM, C_ANUM, model_name, figures_loc)"
   ]
  },
  {
   "cell_type": "markdown",
   "metadata": {},
   "source": [
    "![title](../figures/11.1-DIST_REL_C_01_preds_fonction_cibles.png)\n"
   ]
  },
  {
   "cell_type": "markdown",
   "metadata": {},
   "source": [
    "### Analyse\n",
    "\n",
    "On visualise ici les distances prédites par le modèle en fonction des distances qu'il devait prédire. Un modèle parfait ne produirait donc que des prédictions sur la droite y=x. Ici, on remarque que les densités de prédictions les plus importantes se trouvent sur cette droite, mais que beaucoup de prédictions sont toutefois en dehors.\n",
    "\n",
    "On remarque également que le modèle a tendance à *confondre* les liaisons aromatiques et les liaisons simples, ce qui est intéressant car on pourrait peut-être obtenir de meilleurs résultats en l'aidant à trouver les classes de liaisons."
   ]
  },
  {
   "cell_type": "code",
   "execution_count": null,
   "metadata": {},
   "outputs": [],
   "source": []
  },
  {
   "cell_type": "code",
   "execution_count": null,
   "metadata": {},
   "outputs": [],
   "source": []
  },
  {
   "cell_type": "code",
   "execution_count": 13,
   "metadata": {},
   "outputs": [
    {
     "data": {
      "image/png": "[encoded data removed]",
      "text/plain": [
       "<matplotlib.figure.Figure at 0x7f5a194829b0>"
      ]
     },
     "metadata": {},
     "output_type": "display_data"
    }
   ],
   "source": [
    "\n",
    "import matplotlib.pyplot as plt\n",
    "import matplotlib as mpl\n",
    "\n",
    "\n",
    "\n",
    "plt.show()"
   ]
  },
  {
   "cell_type": "code",
   "execution_count": null,
   "metadata": {},
   "outputs": [],
   "source": []
  }
 ],
 "metadata": {
  "kernelspec": {
   "display_name": "Python 3",
   "language": "python",
   "name": "python3"
  },
  "language_info": {
   "codemirror_mode": {
    "name": "ipython",
    "version": 3
   },
   "file_extension": ".py",
   "mimetype": "text/x-python",
   "name": "python",
   "nbconvert_exporter": "python",
   "pygments_lexer": "ipython3",
   "version": "3.6.4"
  }
 },
 "nbformat": 4,
 "nbformat_minor": 2
}
