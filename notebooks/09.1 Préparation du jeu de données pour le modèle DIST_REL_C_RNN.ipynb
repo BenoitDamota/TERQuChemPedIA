{
 "cells": [
  {
   "cell_type": "markdown",
   "metadata": {},
   "source": [
    "## Préparation du jeu de données pour le modèle DIST_REL_C_RNN\n",
    "\n",
    "Nous allons dans ce notebook préparer un nouveau jeu de données pour le nouveau modèle DIST_REL_C_RNN.\n",
    "Nous n'allons pas le créer à partir de toutes les données que nous avons car le traitement risque d'être trop long, sachant que l'algorithme de création est constitué de boucles imbriquées.\n",
    "\n",
    "Pour chaque couple d'atomes de carbone (c1, c2) partageant une liaison, notre jeu de données sera constitué de la façon suivante :\n",
    "\n",
    "* Entrée RN : pour chaque atome de la molécule (hors c1, c2):\n",
    "    * Numéro atomique (one-hot encoding)\n",
    "    * Masse atomique\n",
    "    * Distances avec c1 et c2\n",
    "    * Classe positionnelle de l'atome (one-hot encoding). Pour la déterminer, on compare la  position de l'atome par rapport aux deux plans P1 (resp. P2) de vecteur normal C1C2 et passant par point C1 (resp. C2). Si l'atome est entre les deux plans il aura pour classe 'C', et s'il est derrière le plan P1 (resp. P2) il aura pour classe 'G' (resp 'D').\n",
    "    \n",
    "\n",
    "* Cible RN : Distance entre c1 et c2\n",
    "\n",
    "Note : Pour limiter la taille de l'entrée du RN (one-hot encoding du numéro atomique), on s'intéresse seulement au molécules ne contenant pas d'atomes plus lourds que le fluor.\n",
    "\n",
    "#### Chemin des fichiers"
   ]
  },
  {
   "cell_type": "code",
   "execution_count": 3,
   "metadata": {},
   "outputs": [],
   "source": [
    "train_riken_reduced_loc = \"../data/train_set_riken_v2_reduced.h5\"\n",
    "test_riken_reduced_loc = \"../data/test_set_riken_v2_reduced.h5\"\n",
    "\n",
    "train_prepared_input_loc = \"../data/DIST_REL_C_RNN/train_set_prepared_input(+ids).h5\"\n",
    "train_labels_loc = \"../data/DIST_REL_C_RNN/train_set_labels(+ids).h5\"\n",
    "\n",
    "test_prepared_input_loc = \"../data/DIST_REL_C_RNN/test_set_prepared_input(+ids).h5\"\n",
    "test_labels_loc = \"../data/DIST_REL_C_RNN/test_set_labels(+ids).h5\"\n",
    "\n",
    "minimal_reduced_loc = \"../data/minimal_set_riken_v2_reduced.h5\"\n",
    "minimal_prepared_input_loc = \"../data/DIST_REL_C_RNN/minimal_prepared_input(+ids).h5\"\n",
    "minimal_labels_loc = \"../data/DIST_REL_C_RNN/minimal_labels.h5(+ids)\""
   ]
  },
  {
   "cell_type": "markdown",
   "metadata": {},
   "source": [
    "#### Calcul de la distance entre deux atomes"
   ]
  },
  {
   "cell_type": "code",
   "execution_count": 1,
   "metadata": {},
   "outputs": [],
   "source": [
    "import numpy as np\n",
    "\n",
    "def calcul_distance(pt1, pt2):\n",
    "    \"\"\" Renvoie la distance entre deux points représentés par leurs coordonnées (x, y, z) dans deux tableaux\n",
    "    de forme (1, 3)\"\"\"\n",
    "    return np.sqrt(np.sum(np.square(np.diff(np.array([pt1, pt2]), axis=0))))"
   ]
  },
  {
   "cell_type": "markdown",
   "metadata": {},
   "source": [
    "#### Fonction de test si les deux atomes de carbone partagent une liaison\n",
    "\n",
    "Selon les mesures moyennes des distances carbone-carbone (http://hydra.vcp.monash.edu.au/modules/mod2/bondlen.html), on considère ici que deux atomes de carbone partagent une liaison si leur distance est comprise entre 1.15 Å et 1.60 Å."
   ]
  },
  {
   "cell_type": "code",
   "execution_count": 241,
   "metadata": {},
   "outputs": [],
   "source": [
    "def existe_liaison_C(coords_c1, coords_c2):\n",
    "    dist = calcul_distance(coords_c1, coords_c2)\n",
    "    return dist >= 1.15 and dist <= 1.6"
   ]
  },
  {
   "cell_type": "markdown",
   "metadata": {},
   "source": [
    "#### Fonction renvoyant les distances d'un atome à deux autres atomes"
   ]
  },
  {
   "cell_type": "code",
   "execution_count": 2,
   "metadata": {},
   "outputs": [],
   "source": [
    "def calcul_distances(pt1, pt_ref1, pt_ref2):\n",
    "    return np.array([calcul_distance(pt1, pt_ref1), calcul_distance(pt1, pt_ref2)])"
   ]
  },
  {
   "cell_type": "markdown",
   "metadata": {},
   "source": [
    "#### Fonction renvoyant la classe positionnelle d'un atome en fonction de sa position et des positions des deux atomes de référence. Renvoie le résultat sous forme de one-hot-encoding"
   ]
  },
  {
   "cell_type": "code",
   "execution_count": 3,
   "metadata": {},
   "outputs": [],
   "source": [
    "def get_classe_pos(pt, c1, c2):\n",
    "    \n",
    "    # Initialisation du tableau de sortie\n",
    "    classes_pos = np.zeros(shape=(3,))\n",
    "    \n",
    "    # Calcul du vecteur C1_C2\n",
    "    vect = np.diff([c1, c2], axis=0)\n",
    "    \n",
    "    # Déclaration de la matrice contenant les coordonnées des trois points g, c et d\n",
    "    gcd_pos = np.empty(shape=(3, 3))\n",
    "    \n",
    "    # Calcul du point c\n",
    "    gcd_pos[1] = np.divide([np.sum([c1, c2], axis=0)], 2)\n",
    "\n",
    "    # Calcul des points g et d\n",
    "    gcd_pos[0] = gcd_pos[1] - vect\n",
    "    gcd_pos[2] = gcd_pos[1] + vect\n",
    "        \n",
    "    # Calcul de la matrice des positions répétées du point\n",
    "    pos = np.tile(pt, 3).reshape(3, 3)\n",
    "    \n",
    "    # Calcul des distances du point avec les points g, c et d\n",
    "    dists = np.sqrt(np.sum(np.square(np.diff([gcd_pos, pos], axis=0)[0]), axis=1))\n",
    "    \n",
    "    # On renvoie le résultat encodé avec la méthode du one hot encoding\n",
    "    classes_pos[np.argmin(dists)] = 1\n",
    "    return classes_pos\n",
    "    "
   ]
  },
  {
   "cell_type": "markdown",
   "metadata": {},
   "source": [
    "#### Fonction renvoyant le numéro de l'atome encodé en one-hot encoding (pour les atomes des deux premières lignes du tableau périodique)"
   ]
  },
  {
   "cell_type": "code",
   "execution_count": 4,
   "metadata": {},
   "outputs": [],
   "source": [
    "def get_anum_one_hot(z):\n",
    "    \n",
    "    if not 0 < z < 10:\n",
    "        raise RuntimeError(\"Atomic number must be between 1 and 9\")\n",
    "    \n",
    "    one_hot = np.zeros(shape=(9,))\n",
    "    one_hot[int(z)-1] = 1\n",
    "    return one_hot\n"
   ]
  },
  {
   "cell_type": "markdown",
   "metadata": {},
   "source": [
    "#### Fonction renvoyant les données préparées pour le RN pour une molécule"
   ]
  },
  {
   "cell_type": "code",
   "execution_count": 5,
   "metadata": {},
   "outputs": [],
   "source": [
    "def donnees_prep_RN_mol(coords_mol, anums_mol, amasses_mol):\n",
    "    \n",
    "    taille_mol = len(coords_mol)\n",
    "    \n",
    "    inputs_RN = []\n",
    "    targets_RN = []\n",
    "    \n",
    "    # On itère sur tous les atomes de la molécule\n",
    "    for i in range(taille_mol):\n",
    "        \n",
    "        # On ne s'intéresse qu'aux atomes de carbone\n",
    "        if anums_mol[i] == 6.:\n",
    "            \n",
    "            # On parcourt tous les atomes suivants\n",
    "            for j in range(i+1, taille_mol):\n",
    "                \n",
    "                # On ne s'intéresse qu'aux couples d'atomes de carbone partageant une liaison\n",
    "                if anums_mol[j] == 6 and existe_liaison_C(coords_mol[i], coords_mol[j]):\n",
    "                    \n",
    "                    # On calcule la distance entre les deux atomes du couple\n",
    "                    dist_c_c = calcul_distance(coords_mol[i], coords_mol[j])\n",
    "                    \n",
    "                    # On initialise l'entrée du RN pour le couple courant\n",
    "                    input_rn = np.empty(shape=(taille_mol-2, 15))\n",
    "                    \n",
    "                    input_rn_idx = 0\n",
    "                    \n",
    "                    # On itère sur tous les atomes de la molécule (en dehors des deux atomes de carbone)\n",
    "                    for k in range(taille_mol):\n",
    "                        if k != i and k != j:\n",
    "                            \n",
    "                            # On enregistre le numéro et la masse atomique de la molécule\n",
    "                            input_rn[input_rn_idx][:9] = get_anum_one_hot(anums_mol[k])\n",
    "                            input_rn[input_rn_idx][9] = amasses_mol[k]\n",
    "                            \n",
    "                            # On enregistre les distances de l'atome aux deux atomes de carbone\n",
    "                            input_rn[input_rn_idx][10:12] = calcul_distances(coords_mol[k], coords_mol[i],\n",
    "                                                                         coords_mol[j])\n",
    "                            \n",
    "                            # On enregistre la classe positionnelle de l'atome par rapport aux deux atomes\n",
    "                            # de carbone\n",
    "                            input_rn[input_rn_idx][12:15] = get_classe_pos(coords_mol[k], coords_mol[i], \n",
    "                                                                        coords_mol[j])    \n",
    "\n",
    "                            input_rn_idx += 1\n",
    "                            \n",
    "                    # On aplatit l'entrée du RN\n",
    "                    input_rn = np.array(input_rn)\n",
    "                    input_rn = input_rn.reshape(-1,)\n",
    "                            \n",
    "                    # On enregistre l'entrée et la cible du RN pour l'atome courant\n",
    "                    inputs_RN.append(input_rn)\n",
    "                    \n",
    "                    # On enregistre la distance cible pour le couple d'atomes courant (en mÅ)\n",
    "                    targets_RN.append(dist_c_c*1000)   \n",
    "                    \n",
    "        else:\n",
    "            # Les carbones étant les premiers atomes de la molécule dans les données, on arrête la boucle\n",
    "            # pour gagner du temps d'exécution\n",
    "            break\n",
    "                \n",
    "    return np.array(inputs_RN), np.array(targets_RN)\n",
    "            \n",
    "        \n"
   ]
  },
  {
   "cell_type": "markdown",
   "metadata": {},
   "source": [
    "#### Définition de la fonction de création du jeu de données"
   ]
  },
  {
   "cell_type": "code",
   "execution_count": 1,
   "metadata": {},
   "outputs": [],
   "source": [
    "import h5py\n",
    "import time\n",
    "\n",
    "def generer_donnees(original_dataset_loc, prepared_input_loc, labels_loc, nb_mol, batch_size):\n",
    "    \"\"\" Génère les entrées préparées et les labels pour le jeu courant, à partir des nb\\_mol\n",
    "    premières molécules du jeu \"\"\"\n",
    "    \n",
    "    start_time = time.time()    \n",
    "    \n",
    "    # On charge les données du jeu original en mémoire\n",
    "    original_dataset_h5 = h5py.File(original_dataset_loc, \"r\")\n",
    "    input_coords = np.array(original_dataset_h5[\"riken_coords\"][:nb_mol])\n",
    "    input_masses = np.array(original_dataset_h5[\"amasses\"][:nb_mol])\n",
    "    input_nums = np.array(original_dataset_h5[\"anums\"][:nb_mol])\n",
    "    input_pubchem_ids = np.array(original_dataset_h5[\"pubchem_id\"][:nb_mol])\n",
    "    \n",
    "    # On créé les jeux de données d'entrée du RN et de labels\n",
    "    input_rn_dataset_h5 = h5py.File(prepared_input_loc, 'w')\n",
    "    labels_dataset_h5 = h5py.File(labels_loc, 'w')    \n",
    "    \n",
    "    try:\n",
    "        varlen_floatarray = h5py.special_dtype(vlen=np.dtype(\"float32\"))\n",
    "        \n",
    "        input_dataset = input_rn_dataset_h5.create_dataset(\"inputs\", maxshape=(None,), shape=(0,),\n",
    "                                           dtype=varlen_floatarray, compression=\"gzip\", \n",
    "                                           chunks=True)\n",
    "        \n",
    "        ids_dataset = input_rn_dataset_h5.create_dataset(\"pubchem_ids\", maxshape=(None,), shape=(0,),\n",
    "                                          dtype=np.float32, compression=\"gzip\",\n",
    "                                          chunks=True)\n",
    "                                            \n",
    "\n",
    "        target_dataset = labels_dataset_h5.create_dataset(\"targets\", maxshape=(None,), shape=(0,),\n",
    "                                           dtype=np.float32, compression=\"gzip\", \n",
    "                                           chunks=True)\n",
    "\n",
    "\n",
    "        datasets_curr_idx = 0\n",
    "        \n",
    "        # On créé les tableaux pour le premier batch de traitement\n",
    "        inputs_batch = []\n",
    "        outputs_batch = []\n",
    "        ids_batch = []\n",
    "\n",
    "        # On parcourt toutes les molécules du jeu original\n",
    "        for ori_idx in range(nb_mol):\n",
    "            \n",
    "            \n",
    "            # On ne s'intéresse pas aux molécules contenenant des atomes plus lourds que le fluor (contrainte\n",
    "            # imposée par l'utilisation d'un one-hot encoding pour les numéros atomiques)\n",
    "            if max(input_nums[ori_idx])<10:\n",
    "                \n",
    "                # On calcule les entrées et sortie du RN pour la molécule courante (il peut y avoir plusieurs\n",
    "                # entrées et plusieurs sorties s'il existe plusieurs liaisons C-C dans la molécule)\n",
    "                curr_inputs_np, curr_outputs_np, curr_ids_np = donnees_prep_RN_mol(input_coords[ori_idx].reshape(-1, 3), \n",
    "                                                                    input_nums[ori_idx],\n",
    "                                                                    input_masses[ori_idx],\n",
    "                                                                    input_pubchem_ids[ori_idx])\n",
    "                \n",
    "                # On ajoute les entrées et sorties aux tableaux du batch courant\n",
    "                inputs_batch.extend(curr_inputs_np)\n",
    "                outputs_batch.extend(curr_outputs_np)\n",
    "                ids_batch.extend(curr_ids_np)\n",
    "                   \n",
    "            # On écrit les tableaux h5 du batch courant\n",
    "            if ori_idx % batch_size == 0 or ori_idx == len(input_nums)-1:\n",
    "                \n",
    "                print(\"Molécule courante : \"+str(ori_idx))\n",
    "    \n",
    "                # On redimensionne les datasets\n",
    "                input_dataset.resize((input_dataset.shape[0]+len(inputs_batch),))\n",
    "                target_dataset.resize((target_dataset.shape[0]+len(inputs_batch),))\n",
    "                ids_dataset.resize((ids_dataset.shape[0]+len(inputs_batch),))\n",
    "                \n",
    "                # On écrit les données dans les datasets\n",
    "                input_dataset[datasets_curr_idx:datasets_curr_idx+len(inputs_batch)] = np.array(inputs_batch)\n",
    "                target_dataset[datasets_curr_idx:datasets_curr_idx+len(inputs_batch)] = np.array(outputs_batch)\n",
    "                ids_dataset[datasets_curr_idx:datasets_curr_idx+len(inputs_batch)] = np.array(ids_batch)\n",
    "                \n",
    "                datasets_curr_idx += len(inputs_batch)\n",
    "                \n",
    "                # On réinitialise les tableaux\n",
    "                inputs_batch = []\n",
    "                outputs_batch = []\n",
    "                ids_batch = []\n",
    "                \n",
    "        input_rn_dataset_h5.flush()\n",
    "        labels_dataset_h5.flush()\n",
    "        \n",
    "        print(str(len(input_dataset))+\" exemples créés\")\n",
    "        print(\"--- %s seconds ---\" % (time.time() - start_time))\n",
    "                \n",
    "    \n",
    "    finally:\n",
    "        input_rn_dataset_h5.close()\n",
    "        labels_dataset_h5.close()\n",
    "        original_dataset_h5.close()\n",
    "\n",
    "    \n",
    "    "
   ]
  },
  {
   "cell_type": "markdown",
   "metadata": {},
   "source": [
    "#### Génération des exemples pour le jeu minimal"
   ]
  },
  {
   "cell_type": "code",
   "execution_count": 247,
   "metadata": {},
   "outputs": [
    {
     "name": "stdout",
     "output_type": "stream",
     "text": [
      "Minimal set\n",
      "Molécule courante : 0\n",
      "Molécule courante : 999\n",
      "5635 exemples créés\n",
      "--- 14.161330223083496 seconds ---\n"
     ]
    }
   ],
   "source": [
    "print(\"Minimal set\")\n",
    "generer_donnees(minimal_reduced_loc, minimal_prepared_input_loc, minimal_labels_loc, 1000, 1000)"
   ]
  },
  {
   "cell_type": "markdown",
   "metadata": {},
   "source": [
    "#### Génération des exemples pour le jeu d'entraînement"
   ]
  },
  {
   "cell_type": "code",
   "execution_count": 248,
   "metadata": {
    "collapsed": true
   },
   "outputs": [
    {
     "name": "stdout",
     "output_type": "stream",
     "text": [
      "Train set\n"
     ]
    },
    {
     "ename": "ValueError",
     "evalue": "max() arg is an empty sequence",
     "output_type": "error",
     "traceback": [
      "\u001b[0;31m---------------------------------------------------------------------------\u001b[0m",
      "\u001b[0;31mValueError\u001b[0m                                Traceback (most recent call last)",
      "\u001b[0;32m<ipython-input-248-0c3453c92bc2>\u001b[0m in \u001b[0;36m<module>\u001b[0;34m()\u001b[0m\n\u001b[1;32m      1\u001b[0m \u001b[0mprint\u001b[0m\u001b[0;34m(\u001b[0m\u001b[0;34m\"Train set\"\u001b[0m\u001b[0;34m)\u001b[0m\u001b[0;34m\u001b[0m\u001b[0m\n\u001b[0;32m----> 2\u001b[0;31m \u001b[0mgenerer_donnees\u001b[0m\u001b[0;34m(\u001b[0m\u001b[0mtrain_riken_reduced_loc\u001b[0m\u001b[0;34m,\u001b[0m \u001b[0mtrain_prepared_input_loc\u001b[0m\u001b[0;34m,\u001b[0m \u001b[0mtrain_labels_loc\u001b[0m\u001b[0;34m,\u001b[0m \u001b[0;36m400000\u001b[0m\u001b[0;34m,\u001b[0m \u001b[0;36m10000\u001b[0m\u001b[0;34m)\u001b[0m\u001b[0;34m\u001b[0m\u001b[0m\n\u001b[0m",
      "\u001b[0;32m<ipython-input-246-254a2e55b541>\u001b[0m in \u001b[0;36mgenerer_donnees\u001b[0;34m(original_dataset_loc, prepared_input_loc, labels_loc, nb_mol, batch_size)\u001b[0m\n\u001b[1;32m     42\u001b[0m             \u001b[0;31m# On ne s'intéresse pas aux molécules contenenant des atomes plus lourds que le fluor (contrainte\u001b[0m\u001b[0;34m\u001b[0m\u001b[0;34m\u001b[0m\u001b[0m\n\u001b[1;32m     43\u001b[0m             \u001b[0;31m# imposée par l'utilisation d'un one-hot encoding pour les numéros atomiques)\u001b[0m\u001b[0;34m\u001b[0m\u001b[0;34m\u001b[0m\u001b[0m\n\u001b[0;32m---> 44\u001b[0;31m             \u001b[0;32mif\u001b[0m \u001b[0mmax\u001b[0m\u001b[0;34m(\u001b[0m\u001b[0minput_nums\u001b[0m\u001b[0;34m[\u001b[0m\u001b[0mori_idx\u001b[0m\u001b[0;34m]\u001b[0m\u001b[0;34m)\u001b[0m\u001b[0;34m<\u001b[0m\u001b[0;36m10\u001b[0m\u001b[0;34m:\u001b[0m\u001b[0;34m\u001b[0m\u001b[0m\n\u001b[0m\u001b[1;32m     45\u001b[0m \u001b[0;34m\u001b[0m\u001b[0m\n\u001b[1;32m     46\u001b[0m                 \u001b[0;31m# On calcule les entrées et sortie du RN pour la molécule courante (il peut y avoir plusieurs\u001b[0m\u001b[0;34m\u001b[0m\u001b[0;34m\u001b[0m\u001b[0m\n",
      "\u001b[0;31mValueError\u001b[0m: max() arg is an empty sequence"
     ]
    }
   ],
   "source": [
    "print(\"Train set\")\n",
    "generer_donnees(train_riken_reduced_loc, train_prepared_input_loc, train_labels_loc, 400000, 10000)"
   ]
  },
  {
   "cell_type": "markdown",
   "metadata": {},
   "source": [
    "##### Sortie\n",
    "\n",
    "```\n",
    "2214225 exemples créés\n",
    "--- 11557.782796144485 seconds ---\n",
    "```"
   ]
  },
  {
   "cell_type": "markdown",
   "metadata": {},
   "source": [
    "#### Génération des exemples pour le jeu de test"
   ]
  },
  {
   "cell_type": "code",
   "execution_count": null,
   "metadata": {},
   "outputs": [],
   "source": [
    "print(\"Test set\")\n",
    "generer_donnees(test_riken_reduced_loc, test_prepared_input_loc, test_labels_loc, 80000, 5000)"
   ]
  },
  {
   "cell_type": "markdown",
   "metadata": {},
   "source": [
    "##### Sortie\n",
    "```\n",
    "442853 exemples créés\n",
    "--- 2428.7579131126404 seconds ---\n",
    "```"
   ]
  },
  {
   "cell_type": "code",
   "execution_count": null,
   "metadata": {},
   "outputs": [],
   "source": []
  }
 ],
 "metadata": {
  "kernelspec": {
   "display_name": "Python 3",
   "language": "python",
   "name": "python3"
  },
  "language_info": {
   "codemirror_mode": {
    "name": "ipython",
    "version": 3
   },
   "file_extension": ".py",
   "mimetype": "text/x-python",
   "name": "python",
   "nbconvert_exporter": "python",
   "pygments_lexer": "ipython3",
   "version": "3.6.4"
  }
 },
 "nbformat": 4,
 "nbformat_minor": 2
}
