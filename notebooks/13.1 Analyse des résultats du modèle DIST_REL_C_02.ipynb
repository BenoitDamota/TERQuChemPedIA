{
 "cells": [
  {
   "cell_type": "markdown",
   "metadata": {},
   "source": [
    "## Analyse des résultats du modèle DIST_REL_C_01\n",
    "\n",
    "\n",
    "### JSON"
   ]
  },
  {
   "cell_type": "code",
   "execution_count": null,
   "metadata": {},
   "outputs": [],
   "source": [
    "{\n",
    "  \"paths\":{\n",
    "        \"train_prepared_input_loc\":\"../../data/DIST_REL_C_02/train_set_prepared_input.h5\",\n",
    "        \"test_prepared_input_loc\":\"../../data/DIST_REL_C_02/test_set_prepared_input.h5\",\n",
    "        \"train_labels_loc\":\"../../data/DIST_REL_C_02/train_set_labels.h5\",\n",
    "        \"test_labels_loc\":\"../../data/DIST_REL_C_02/test_set_labels.h5\",\n",
    "        \"model_loc\":\"../../models/DIST_REL_C_02/DIST_REL_C_02.tflearn\",\n",
    "        \"logs_dir\":\"../../models/DIST_REL_C_02/logs/\",\n",
    "        \"bonds_lengths_loc\":\"/home/jleguy/data/stats/CC/CC_bonds_lengths_total_set.h5\",\n",
    "        \"plots_dir\":\"../../figures/DIST_REL_C_02/\"\n",
    "  },\n",
    "  \"tasks\":[\n",
    "    {\n",
    "      \"plot_predictions\": {\n",
    "        \"params\": {\n",
    "          \"model_name\": \"DIST_REL_C_02\",\n",
    "          \"model_type\": \"NN\",\n",
    "          \"anum_1\": \"6\",\n",
    "          \"anum_2\": \"6\",\n",
    "          \"plot_error_distrib\": \"True\",\n",
    "          \"plot_targets_error_distrib\": \"True\",\n",
    "          \"plot_targets_predictions\": \"True\",\n",
    "          \"asymb_1\": \"C\",\n",
    "          \"asymb_2\": \"C\",\n",
    "          \"batch_size\": \"10000\",\n",
    "          \"last_layer_width\": \"870\",\n",
    "          \"depth\": \"3\",\n",
    "          \"hidden_act\": \"elu\",\n",
    "          \"outlayer_act\": \"linear\"\n",
    "        }\n",
    "      }\n",
    "    }\n",
    "  ]\n",
    "}"
   ]
  },
  {
   "cell_type": "code",
   "execution_count": null,
   "metadata": {},
   "outputs": [],
   "source": []
  }
 ],
 "metadata": {
  "kernelspec": {
   "display_name": "Python 3",
   "language": "python",
   "name": "python3"
  },
  "language_info": {
   "codemirror_mode": {
    "name": "ipython",
    "version": 3
   },
   "file_extension": ".py",
   "mimetype": "text/x-python",
   "name": "python",
   "nbconvert_exporter": "python",
   "pygments_lexer": "ipython3",
   "version": "3.6.4"
  }
 },
 "nbformat": 4,
 "nbformat_minor": 2
}
