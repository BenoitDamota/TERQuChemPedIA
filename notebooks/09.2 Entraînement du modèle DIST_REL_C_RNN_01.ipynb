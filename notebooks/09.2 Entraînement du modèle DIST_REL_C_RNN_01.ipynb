{
 "cells": [
  {
   "cell_type": "markdown",
   "metadata": {},
   "source": [
    "## Entraînement du modèle DIST_REL_C_RNN_01\n",
    "\n",
    "Les modèles DELTA_DIST+H tentant de prédire les distances convergées de tous les atomes d'une molécule à partir des distances bruitées des atomes à des points du repère donnant de mauvais résultats, nous tentons une nouvelle approche avec un problème plus simple, pour essayer de valider la capacité des modèles à prédire des distances entre des atomes. Ce modèle ne sera toutefois pas utilisable en situations réelles (nous ne pourrons pas reconstruire les positions des atomes à partir des prédictions).\n",
    "\n",
    "Le modèle DIST_REL_C_RNN a pour objectif de prédire la distance entre deux atomes deux carbones partageant une liaison à partir des informations suivantes pour chaque autre atome de la molécule : \n",
    "\n",
    "* La distance avec les deux atomes de carbone\n",
    "* La classe positionnelle de l'atome par rapport aux deux atomes de carbones. Pour la déterminer, on compare la  position de l'atome par rapport aux deux plans P1 (resp. P2) de vecteur normal C1C2 et passant par point C1 (resp. C2). Si l'atome est entre les deux plans il aura pour classe 'C', et s'il est derrière le plan P1 (resp. P2) il aura pour classe 'G' (resp 'D').\n",
    "* Le numéro atomique de l'atome (encodé en one hot encoding)\n",
    "* La masse atomique de l'atome.\n",
    "\n",
    "Contrairement aux modèles précédents qui étaient des réseaux profonds entièrement connectés, nous allons ici créer un réseau récurrent, prenant tour à tour les informations de chaque atome de la molécule (hors les deux atomes de carbones) et devant prédire à la fin du cycle la distance entre les deux atomes de carbones.\n",
    "\n",
    "Nous allons dans ce notebook entraîner une première version de ce modèle, avec des paramètres choisis naïvement, puis nous tenterons par la suite d'optimiser le modèle."
   ]
  },
  {
   "cell_type": "markdown",
   "metadata": {},
   "source": [
    "#### Chemin des fichiers"
   ]
  },
  {
   "cell_type": "code",
   "execution_count": 16,
   "metadata": {},
   "outputs": [],
   "source": [
    "minimal_prepared_input_loc = \"../data/DIST_REL_C_RNN/minimal_prepared_input.h5\"\n",
    "minimal_labels_loc = \"../data/DIST_REL_C_RNN/minimal_labels.h5\"\n",
    "\n",
    "train_prepared_input_loc = \"../data/DIST_REL_C_RNN/train_set_prepared_input.h5\"\n",
    "train_labels_loc = \"../data/DIST_REL_C_RNN/train_set_labels.h5\"\n",
    "\n",
    "models_loc = \"../models/DIST_REL_C_RNN_01/9.2/\"\n",
    "logs_loc = \"../models/DIST_REL_C_RNN_01/9.2/\""
   ]
  },
  {
   "cell_type": "markdown",
   "metadata": {},
   "source": [
    "### Création du RN\n",
    "\n",
    "#### Fonction de coût (RMSE)"
   ]
  },
  {
   "cell_type": "code",
   "execution_count": 23,
   "metadata": {},
   "outputs": [],
   "source": [
    "def rmse(pred, targets):\n",
    "    with tf.name_scope(\"rmse_loss\"):\n",
    "        return tf.sqrt(tf.reduce_mean(tf.squared_difference(pred, targets)), name=\"rmse\")"
   ]
  },
  {
   "cell_type": "markdown",
   "metadata": {},
   "source": [
    "#### Fonction d'évaluation des performances (opposé du RMSE)"
   ]
  },
  {
   "cell_type": "code",
   "execution_count": 1,
   "metadata": {},
   "outputs": [],
   "source": [
    "def rmse_valid(pred, targets, inputs):\n",
    "    with tf.name_scope(\"rmse_validation\"):\n",
    "        return -rmse(pred, targets)"
   ]
  },
  {
   "cell_type": "markdown",
   "metadata": {},
   "source": [
    "#### Fonction de création du RN\n",
    "\n",
    "Cette fonction est largement inspirée de l'exemple suivant : https://github.com/tflearn/tflearn/blob/master/examples/images/rnn_pixels.py"
   ]
  },
  {
   "cell_type": "code",
   "execution_count": 25,
   "metadata": {},
   "outputs": [],
   "source": [
    "import tflearn as tfl\n",
    "\n",
    "\n",
    "def creer_RNN(batch_size, activation=\"tanh\", inner_activation=\"sigmoid\", outlayer_activation=\"linear\",\n",
    "              depth=2, width=58, dropout_val=0.98, learning_rate=0.001):\n",
    "    \n",
    "    # Nombre d'atomes par exemple indéfini [1, 58] -> None\n",
    "    # 15 valeurs par atome\n",
    "    network = tfl.input_data(shape=[None, 58, 15], name=\"input\")\n",
    "    \n",
    "    for i in range(depth):\n",
    "        network = tfl.lstm(network, width, return_seq=(i != depth-1), name=\"hl\"+str(i))\n",
    "        network = tfl.dropout(network, dropout_val)\n",
    "        \n",
    "    network = tfl.fully_connected(network, 1, activation='linear')\n",
    "    \n",
    "    network = tfl.regression(network, optimizer='adam', loss=rmse, metric=rmse_valid, name=\"outlayer\", \n",
    "                             learning_rate=learning_rate)\n",
    "    \n",
    "    return network\n",
    "    "
   ]
  },
  {
   "cell_type": "markdown",
   "metadata": {},
   "source": [
    "## Entraînement du modèle"
   ]
  },
  {
   "cell_type": "code",
   "execution_count": 26,
   "metadata": {},
   "outputs": [],
   "source": [
    "import tensorflow as tf\n",
    "\n",
    "def train_DIST_REL_C_RNN(X, y, model_name, model_path, logs_path, batch_size=1000, epochs=2, \n",
    "                         learning_rate=0.001, dropout_val=0.98, act=\"tanh\", inner_act=\"sigmoid\",\n",
    "                         outlayer_act=\"linear\", depth=2, width=58):\n",
    "    \n",
    "    tf.reset_default_graph()\n",
    "        \n",
    "    # Création du réseau\n",
    "    network = creer_RNN(batch_size, activation=act, inner_activation=inner_act, outlayer_activation=outlayer_act,\n",
    "                        depth=depth, width=width, dropout_val=dropout_val, learning_rate=learning_rate)\n",
    "    \n",
    "    # Création du modèle\n",
    "    model = tfl.DNN(network, tensorboard_verbose=3, tensorboard_dir=logs_path)\n",
    "    \n",
    "    # Entraînement\n",
    "    model.fit(X_inputs=X,Y_targets=y, batch_size=batch_size,\n",
    "              shuffle = True, snapshot_step=100, validation_set=0.1,\n",
    "              show_metric=True, run_id=model_name, n_epoch=epochs)\n",
    "    \n",
    "    \n",
    "    # Sauvegarde du modèle\n",
    "    model.save(model_path+model_name+\".tfl\")\n",
    "\n",
    "    \n"
   ]
  },
  {
   "cell_type": "code",
   "execution_count": 29,
   "metadata": {
    "scrolled": true
   },
   "outputs": [
    {
     "name": "stdout",
     "output_type": "stream",
     "text": [
      "---------------------------------\n",
      "Run id: DIST_REL_C_RNN_01_basic\n",
      "Log directory: ../models/DIST_REL_C_RNN_01/9.2/\n",
      "INFO:tensorflow:Summary name rmse_validation/ (raw) is illegal; using rmse_validation/__raw_ instead.\n",
      "---------------------------------\n",
      "Training samples: 0\n",
      "Validation samples: 0\n",
      "--\n"
     ]
    },
    {
     "name": "stderr",
     "output_type": "stream",
     "text": [
      "Exception in thread Thread-20:\n",
      "Traceback (most recent call last):\n",
      "  File \"/home/etudiant/anaconda3/lib/python3.6/threading.py\", line 916, in _bootstrap_inner\n",
      "    self.run()\n",
      "  File \"/home/etudiant/anaconda3/lib/python3.6/threading.py\", line 864, in run\n",
      "    self._target(*self._args, **self._kwargs)\n",
      "  File \"/home/etudiant/anaconda3/lib/python3.6/site-packages/tflearn/data_flow.py\", line 201, in fill_batch_ids_queue\n",
      "    ids = self.next_batch_ids()\n",
      "  File \"/home/etudiant/anaconda3/lib/python3.6/site-packages/tflearn/data_flow.py\", line 215, in next_batch_ids\n",
      "    batch_start, batch_end = self.batches[self.batch_index]\n",
      "IndexError: list index out of range\n",
      "\n"
     ]
    }
   ],
   "source": [
    "import h5py\n",
    "import numpy as np\n",
    "import tensorflow as tf\n",
    "from tflearn.data_utils import pad_sequences\n",
    "\n",
    "\n",
    "input_X_h5 = h5py.File(train_prepared_input_loc, 'r')\n",
    "labels_y_h5 = h5py.File(train_labels_loc, 'r')\n",
    "\"\"\"\n",
    "input_X_h5 = h5py.File(minimal_prepared_input_loc, 'r')\n",
    "labels_y_h5 = h5py.File(minimal_labels_loc, 'r')\n",
    "\"\"\"\n",
    "\n",
    "input_X = np.array(input_X_h5[\"inputs\"])\n",
    "\n",
    "input_X = pad_sequences(input_X, dtype=\"float32\", maxlen=870)\n",
    "\n",
    "input_X = input_X.reshape(-1, 58, 15)\n",
    "\n",
    "labels_y = np.array(labels_y_h5[\"targets\"])\n",
    "labels_y = labels_y.reshape(-1, 1)\n",
    "\n",
    "\n",
    "model_name = \"DIST_REL_C_RNN_01_basic\"\n",
    "\n",
    "model_path = models_loc\n",
    "logs_path = logs_loc\n",
    "\n",
    "train_DIST_REL_C_RNN(input_X, labels_y, model_name, model_path, logs_path, batch_size=5000, \n",
    "                     epochs=100, learning_rate=0.001, dropout_val=0.98, depth=1, width=58)\n"
   ]
  },
  {
   "cell_type": "code",
   "execution_count": null,
   "metadata": {},
   "outputs": [],
   "source": []
  },
  {
   "cell_type": "code",
   "execution_count": null,
   "metadata": {},
   "outputs": [],
   "source": []
  }
 ],
 "metadata": {
  "kernelspec": {
   "display_name": "Python 3",
   "language": "python",
   "name": "python3"
  },
  "language_info": {
   "codemirror_mode": {
    "name": "ipython",
    "version": 3
   },
   "file_extension": ".py",
   "mimetype": "text/x-python",
   "name": "python",
   "nbconvert_exporter": "python",
   "pygments_lexer": "ipython3",
   "version": "3.6.4"
  }
 },
 "nbformat": 4,
 "nbformat_minor": 2
}
