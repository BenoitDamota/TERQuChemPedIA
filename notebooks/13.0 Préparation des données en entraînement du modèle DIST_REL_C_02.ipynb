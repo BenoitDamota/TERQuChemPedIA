{
 "cells": [
  {
   "cell_type": "markdown",
   "metadata": {},
   "source": [
    "## Préparation des données et entraînement du modèle DIST_REL_C_02\n",
    "\n",
    "Nous allons ici entraîner un nouveau modèle dont l'objectif est de prédire des distances entre des atomes de carbone à partir des mêmes données que le modèle DIST_REL_C_01, à la différence que l'on va réduire la visibilité des atomes de la liaison. Précisément, pour chaque liaison carbone-carbone dont on souhaite prédire la distance, nous n'allons pas donner au modèle les informations sur l'ensemble des autres atomes de la molécule, mais seulement sur les atomes à moins de 2Å d'au moins un des atomes de la liaison. Cela devrait normalement aider le modèle à ne tenir compte que des informations ayant le plus d'influence sur la longueur de la liaison, et devrait particulièrement l'aider dans les cas de géométries singulières dans lesquelles la molécule est repliée sur elle même.\n",
    "\n",
    "Nous allons pour cela utiliser l'outil quchem_ia, qui permet d'automatiser tous les traitements que nous effectuons, et qui ne prend en entrée que des fichiers json de configuration.\n",
    "\n",
    "### JSON"
   ]
  },
  {
   "cell_type": "code",
   "execution_count": null,
   "metadata": {},
   "outputs": [],
   "source": [
    "{\n",
    "  \"paths\":{\n",
    "        \"train_set_loc\":\"../../data/train_set_riken_v2_reduced.h5\",\n",
    "        \"test_set_loc\":\"../../data/test_set_riken_v2_reduced.h5\",\n",
    "        \"train_prepared_input_loc\":\"../../data/DIST_REL_C_02/train_set_prepared_input.h5\",\n",
    "        \"test_prepared_input_loc\":\"../../data/DIST_REL_C_02/test_set_prepared_input.h5\",\n",
    "        \"train_labels_loc\":\"../../data/DIST_REL_C_02/train_set_labels.h5\",\n",
    "        \"test_labels_loc\":\"../../data/DIST_REL_C_02/train_set_labels.h5\",\n",
    "        \"model_loc\":\"../../models/DIST_REL_C_02/\",\n",
    "        \"logs_loc\":\"../../models_DIST_REL_C_02/\"\n",
    "  },\n",
    "  \"tasks\":[\n",
    "    {\n",
    "      \"prepare_model_data\": {\n",
    "        \"selected_mols\": {\n",
    "          \"mol_min_size\": \"2\",\n",
    "          \"mol_max_size\": \"60\",\n",
    "          \"max_anum\": \"9\",\n",
    "          \"anum_1\": \"6\",\n",
    "          \"anum_2\": \"6\",\n",
    "          \"min_bond_size\": \"0\",\n",
    "          \"max_bond_size\": \"1.6\"\n",
    "        },\n",
    "        \"params\": {\n",
    "          \"nb_mol_from_train\": \"400000\",\n",
    "          \"nb_mol_from_test\": \"80000\",\n",
    "          \"pos_class\": \"True\",\n",
    "          \"one_hot_anums\": \"True\",\n",
    "          \"amasses\": \"True\",\n",
    "          \"distances\": \"True\",\n",
    "          \"distances_cut_off\": \"2\",\n",
    "          \"batch_size\": \"10000\"\n",
    "        }\n",
    "      }\n",
    "    },\n",
    "    {\n",
    "      \"model_train\":{\n",
    "        \"model_name\":\"DIST_REL_C_02_basic\",\n",
    "        \"model_type\":\"NN\",\n",
    "        \"params\":{\n",
    "          \"epochs\":\"150\",\n",
    "          \"last_layer_width\":\"870\",\n",
    "          \"batch_size\":\"5000\",\n",
    "          \"learning_rate\":\"0.01\",\n",
    "          \"epsilon\":\"0.001\",\n",
    "          \"stddev_init\":\"0.001\",\n",
    "          \"hidden_act\":\"elu\",\n",
    "          \"outlayer_act\":\"linear\",\n",
    "          \"depth\":\"3\",\n",
    "          \"weight_decay\":\"0.001\",\n",
    "          \"gpu_mem_prop\":\"1\",\n",
    "          \"save_model\":\"True\",\n",
    "          \"dropout\":\"0.98\"\n",
    "        }\n",
    "      }\n",
    "    }\n",
    "  ]\n",
    "}"
   ]
  }
 ],
 "metadata": {
  "kernelspec": {
   "display_name": "Python 3",
   "language": "python",
   "name": "python3"
  },
  "language_info": {
   "codemirror_mode": {
    "name": "ipython",
    "version": 3
   },
   "file_extension": ".py",
   "mimetype": "text/x-python",
   "name": "python",
   "nbconvert_exporter": "python",
   "pygments_lexer": "ipython3",
   "version": "3.6.4"
  }
 },
 "nbformat": 4,
 "nbformat_minor": 2
}
