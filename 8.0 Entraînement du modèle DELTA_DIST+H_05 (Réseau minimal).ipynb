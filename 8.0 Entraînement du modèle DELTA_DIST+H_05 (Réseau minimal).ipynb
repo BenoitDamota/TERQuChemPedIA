{
 "cells": [
  {
   "cell_type": "markdown",
   "metadata": {},
   "source": [
    "## Entraînement du modèle DELTA_DIST+H_05 (Réseau minimal)\n",
    "\n",
    "L'entraînement des modèles précédents montre que la topologie des réseaux ne semble pas avoir une influence déterminante dans les performances. On a fait varier le nombre de couches cachées de 1 à 4, et la largueur des couches cachées de 1000 à 12000, et les performances ont toujours été sen "
   ]
  }
 ],
 "metadata": {
  "kernelspec": {
   "display_name": "Python 3",
   "language": "python",
   "name": "python3"
  },
  "language_info": {
   "codemirror_mode": {
    "name": "ipython",
    "version": 3
   },
   "file_extension": ".py",
   "mimetype": "text/x-python",
   "name": "python",
   "nbconvert_exporter": "python",
   "pygments_lexer": "ipython3",
   "version": "3.6.4"
  }
 },
 "nbformat": 4,
 "nbformat_minor": 2
}
