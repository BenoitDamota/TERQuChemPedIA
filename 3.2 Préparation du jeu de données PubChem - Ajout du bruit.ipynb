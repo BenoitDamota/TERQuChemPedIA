{
 "cells": [
  {
   "cell_type": "markdown",
   "metadata": {},
   "source": [
    "# Préparation du jeu de données PubChem - Ajout du bruit\n",
    "\n",
    "Dans ce notebook, on va définir les fonctions créant les fichiers de données qui seront utilisées pour l'entraînement et la validation du modèle (coordonnées bruitées et labels de différences de distances attendues)"
   ]
  },
  {
   "cell_type": "markdown",
   "metadata": {},
   "source": [
    "#### Définition des chemins de fichiers"
   ]
  },
  {
   "cell_type": "code",
   "execution_count": null,
   "metadata": {},
   "outputs": [],
   "source": [
    "test_set_location = \"../data/test_set_riken_v2.h5\"\n",
    "train_set_location = \"../data/train_set_riken_v2.h5\"\n",
    "minimal_set_riken = \"../data/minimal_set_riken_v2.h5\""
   ]
  }
 ],
 "metadata": {
  "kernelspec": {
   "display_name": "Python 3",
   "language": "python",
   "name": "python3"
  },
  "language_info": {
   "codemirror_mode": {
    "name": "ipython",
    "version": 3
   },
   "file_extension": ".py",
   "mimetype": "text/x-python",
   "name": "python",
   "nbconvert_exporter": "python",
   "pygments_lexer": "ipython3",
   "version": "3.6.4"
  }
 },
 "nbformat": 4,
 "nbformat_minor": 2
}
