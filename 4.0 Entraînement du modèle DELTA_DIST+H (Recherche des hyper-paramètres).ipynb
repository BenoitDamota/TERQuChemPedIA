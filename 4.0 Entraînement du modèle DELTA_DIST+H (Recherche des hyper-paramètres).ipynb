{
 "cells": [
  {
   "cell_type": "code",
   "execution_count": 1,
   "metadata": {},
   "outputs": [
    {
     "name": "stderr",
     "output_type": "stream",
     "text": [
      "/home/etudiant/anaconda3/lib/python3.6/site-packages/h5py/__init__.py:36: FutureWarning: Conversion of the second argument of issubdtype from `float` to `np.floating` is deprecated. In future, it will be treated as `np.float64 == np.dtype(float).type`.\n",
      "  from ._conv import register_converters as _register_converters\n"
     ]
    }
   ],
   "source": [
    "import tensorflow as tf"
   ]
  },
  {
   "cell_type": "markdown",
   "metadata": {},
   "source": [
    "# DELTA_DIST+H - Recherche des hyperparamètres"
   ]
  },
  {
   "cell_type": "markdown",
   "metadata": {},
   "source": [
    "Le modèle DELTA_DIST+H est le premier que l'on va entraîner. L'objectif est d'obtenir un modèle capable d'optimiser des molécules à partir des coordonnées non optimisées des atomes. La méthode d'entraînement est la suivante : on part des coordonnées optimisées des atomes de la molécule, on leur ajoute un bruit gaussien, on calcule les distances des atomes bruités par rapport aux atomes fictifs du repère, puis on tente d'apprendre au modèle à prédire la différence entre les distances des atomes bruités et les distances des atomes optimisés.\n",
    "\n",
    "Dans ce notebook on propose une solution pour faire varier les hyperparamètres du modèle et chercher leurs meilleures valeurs pour entraîner ensuite un modèle possédant les hyperparamètres produisant les meilleurs résultats. "
   ]
  },
  {
   "cell_type": "markdown",
   "metadata": {},
   "source": [
    "## Création du RN\n",
    "\n",
    "### Fonctions de coût et d'évaluation du modèle"
   ]
  },
  {
   "cell_type": "markdown",
   "metadata": {},
   "source": [
    "#### Fonction renvoyant le masque des atomes à prendre en compte pour les calculs\n",
    "\n",
    "L'entrée et la sortie du RN étant définies par une méthode de padding, seul un certain nombre d'entrées et de sortie est utilisé pour chaque exemple d'entraînement en fonction du nombre d'atomes de la molécule. On définit ici une fonction qui renvoie le masque des différences de distances à prendre en compte sur les données en entrée et les étiquettes."
   ]
  },
  {
   "cell_type": "code",
   "execution_count": 4,
   "metadata": {},
   "outputs": [],
   "source": [
    "import tensorflow as tf\n",
    "\n",
    "def calcul_masque_atomes_definis(targets):\n",
    "    \"\"\" On calcule le masque booléen des atomes donnés en entrée du RN en fonction du vecteur targets\"\"\"\n",
    "    \n",
    "    # On cherche à obtenir un masque booléen des atomes définis en entrée. Pour cela, on prend en entrée\n",
    "    # les étiquettes sous la forme d'une matrice (200, 4) dont chaque ligne i est la distance de l'atome i avec\n",
    "    # les atomes fictifs du repère. L'atome est indéfini ssi. la somme de la ligne est nulle. En effet,\n",
    "    # un atome défini ne peut pas avoir une distance nulle avec les quatre atomes fictifs, et on veille\n",
    "    # à ce que le vecteurs targets ne contienne que des valeurs nulles pour les atomes non définis.\n",
    "    # On obtient donc un masque booléen de tous les atomes définis en entrée\n",
    "    \n",
    "    ## On somme les distances de chaque atome ##\n",
    "    targets_dists_sums = tf.reduce_sum(targets, 1)\n",
    "    \n",
    "    ## On créé le masque des sommes différentes de zéro ##\n",
    "    \n",
    "    # Création des matrice de True et de False de la dimension de la matrice des sommes (nécessaires\n",
    "    # pour tf.where)\n",
    "    zeros = tf.cast(tf.zeros_like(targets_dists_sums),dtype=tf.bool)\n",
    "    ones = tf.cast(tf.ones_like(targets_dists_sums),dtype=tf.bool)\n",
    "    \n",
    "    return tf.where(targets_dists_sums>0, ones, zeros)\n"
   ]
  },
  {
   "cell_type": "markdown",
   "metadata": {},
   "source": [
    "#### Fonction de coût"
   ]
  },
  {
   "cell_type": "code",
   "execution_count": 5,
   "metadata": {},
   "outputs": [],
   "source": [
    "def partial_rmse(predictions, targets):\n",
    "    \"\"\" Calcule le RMSE partiel des prédictions par rapport aux valeurs attendues. Le RMSE est partiel car\n",
    "    on ne le calcule que pour les sorties correspondant aux atomes donnés en entrée. En d'autres\n",
    "    termes, on ne pousse pas le modèle à donner des distances nulles pour les atomes indéfinis\n",
    "    en entrée\"\"\"\n",
    "    \n",
    "\n",
    "    # On met les prédictions et les cibles sous la forme d'une matrice (200, 4)\n",
    "    predictions = tf.reshape(predictions, [-1, 4])\n",
    "    targets = tf.reshape(targets, [-1, 4])\n",
    "    \n",
    "    # On calcule le masque des atomes définis selon les cibles\n",
    "    defined_atoms_mask = calcul_masque_atomes_definis(targets)\n",
    "    \n",
    "    \n",
    "    # On masque les prédictions et les étiquettes selon le masque des atomes définis\n",
    "    targets_masked = tf.boolean_mask(targets, defined_mask)\n",
    "    predictions_masked = tf.boolean_mask(predictions, defined_mask)\n",
    "    \n",
    "    \n",
    "    return tf.sqrt(tf.reduce_mean(tf.squared_difference(predictions_masked, targets_masked)), name=\"rmse\")\n",
    "    "
   ]
  },
  {
   "cell_type": "markdown",
   "metadata": {},
   "source": [
    "#### Fonction d'évaluation des performances (score R2)"
   ]
  },
  {
   "cell_type": "code",
   "execution_count": 6,
   "metadata": {},
   "outputs": [],
   "source": [
    "def partial_r2_score(predictions, targets, inputs):\n",
    "    \"\"\" Renvoie le score R2 de la prédiction (le calcul est effectué uniquement sur les résultats\n",
    "    des atomes donnés en entrée) \"\"\"\n",
    "    \n",
    "    # On met les prédictions et les cibles sous la forme d'une matrice (200, 4)\n",
    "    predictions = tf.reshape(predictions, [-1, 4])\n",
    "    targets = tf.reshape(targets, [-1, 4])\n",
    "    \n",
    "    # On calcule le masque des atomes définis selon les cibles\n",
    "    defined_atoms_mask = calcul_masque_atomes_definis(targets)\n",
    "    \n",
    "    # Calcul de l'erreur totale\n",
    "    total_error = tf.reduce_sum(tf.square(tf.subtract(targets, tf.reduce_mean(targets))))\n",
    "                \n",
    "    # Calcul de l'erreur inexpliquée\n",
    "    unexplained_error = tf.reduce_sum(tf.square(tf.subtract(targets, predictions)))\n",
    "\n",
    "    init_op = tf.initialize_all_variables()\n",
    "    \n",
    "    r2 = tf.subtract(1.0, tf.divide(unexplained_error, total_error), \"r2_score\")"
   ]
  },
  {
   "cell_type": "markdown",
   "metadata": {},
   "source": [
    "#### Définition d'une fonction créant le RN"
   ]
  },
  {
   "cell_type": "code",
   "execution_count": 7,
   "metadata": {},
   "outputs": [],
   "source": [
    "def creer_fc3_1k_15k_800(dropout=0.95, stddev_init=0.001, learning_rate=0.05):\n",
    "    \"\"\" Fonction créant un réseau de neurones de type fully connected, ayant une couche d'entrée de 1000\n",
    "    neurones, une couche cachée de 15000 neurones une sortie de 800 neurones (en plus d'une couche \n",
    "    d'un neurone de coût)\n",
    "    Inputs \n",
    "    dropout : proba que chaque neurone ne soit pas désactivé\n",
    "    stddev_init : sigma de l'initialisation des poids\n",
    "    learning_rate : taux d'apprentissage\n",
    "    \"\"\"\n",
    "\n",
    "    # On créé l'initialisateur de tenseur avec une loi normale tronquée. sigma = stddev_init, et les \n",
    "    # valeurs à plus de 2sigma sont re-tirées\n",
    "    winit = tfl.initializations.truncated_normal(stddev=stddev_init, dtype=tf.float32, seed=None)\n",
    "\n",
    "    # On créé l'input du RN\n",
    "    network = input_data(shape=[None, 1000], name='input')\n",
    "\n",
    "    # On créé un tenseur (network) à partir des inputs (var network) et de taille de sortie 15000 -> couche \n",
    "    # centrale\n",
    "    # On utilise une fonction d'activation relu : max(features, 0)\n",
    "    # On utilise l'initialisateur avec la loi normale tronquée\n",
    "    network = fully_connected(network, 15000, activation='relu', name='fc0', weights_init=winit)\n",
    "    \n",
    "    # On détruit des neurones aléatoirement avec une probabilité donnée en entrée\n",
    "    network = dropout(network, dropout)\n",
    "\n",
    "    # On ajoute la couche de sortie du réseau\n",
    "    # Fonction d'activation prelu\n",
    "    # Initilisée avec la loi normale tronquée\n",
    "    network = fully_connected(network, 800, activation='prelu', name='outlayer', weights_init=winit)\n",
    "\n",
    "    # Couche d'évaluation du modèle. Utilisation d'une descente stochastique Adam\n",
    "    # Learning rate = 0.05\n",
    "    # Loss = fonction définie rmse\n",
    "    network = regression(network, optimizer='adam', learning_rate=0.05,\n",
    "        loss=partial_rmse, metric=partial_r2_score, name='target')\n",
    "    \n",
    "    return network"
   ]
  },
  {
   "cell_type": "markdown",
   "metadata": {},
   "source": [
    "## Préparation des données\n",
    "\n",
    "#### Fonction renvoyant deux sous-ensembles du jeu d'entrainement : un jeu d'entraînement et un jeu de validation"
   ]
  },
  {
   "cell_type": "code",
   "execution_count": null,
   "metadata": {},
   "outputs": [],
   "source": [
    "def get_fold(train_set, targets, reduce_train_fold_proportion):\n",
    "    \"\"\" Permet d'obtenir deux sous-ensembles du jeu d'entraînement afin de ne pas travailler sur le jeu\n",
    "    d'entraînement total pour la recherche par quadrillage et donc de gagner du temps d'exécution\"\"\"\n",
    "    \n",
    "    \n",
    "    \n",
    "    "
   ]
  }
 ],
 "metadata": {
  "kernelspec": {
   "display_name": "Python 3",
   "language": "python",
   "name": "python3"
  },
  "language_info": {
   "codemirror_mode": {
    "name": "ipython",
    "version": 3
   },
   "file_extension": ".py",
   "mimetype": "text/x-python",
   "name": "python",
   "nbconvert_exporter": "python",
   "pygments_lexer": "ipython3",
   "version": "3.6.4"
  }
 },
 "nbformat": 4,
 "nbformat_minor": 2
}
