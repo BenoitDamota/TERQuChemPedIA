{
 "cells": [
  {
   "cell_type": "markdown",
   "metadata": {},
   "source": [
    "### Génération d'un tableau de coordonnées fictives dans l'attente de vraies données\n"
   ]
  },
  {
   "cell_type": "code",
   "execution_count": 14,
   "metadata": {},
   "outputs": [
    {
     "data": {
      "text/plain": [
       "array([-0.54160352, -0.39901984,  0.08772178, -0.44709833,  0.73373848,\n",
       "        0.67177955,  0.54482004,  0.27201387, -0.48761669,  0.99920236,\n",
       "       -0.43867843, -0.56472728,  0.8286265 , -0.91978798,  0.32063854,\n",
       "       -0.6842396 , -0.91226324,  0.47758616, -0.82044854, -0.04096083,\n",
       "        0.76354988, -0.01464192, -0.00572377,  0.13096125,  0.38678974,\n",
       "        0.87696817, -0.84781277, -0.90261056,  0.4908653 ,  0.80496882])"
      ]
     },
     "execution_count": 14,
     "metadata": {},
     "output_type": "execute_result"
    }
   ],
   "source": [
    "import numpy as np\n",
    "\n",
    "molecules_nb = 10\n",
    "\n",
    "# Génération d'un vecteur de positions. Pour chaque molécule, le vecteur contient 3 coordonnées x, y, z,\n",
    "# chacune dans l'intervalle [-1,1[\n",
    "positions = np.random.random_sample(molecules_nb*3) * 2 - 1\n",
    "positions"
   ]
  },
  {
   "cell_type": "markdown",
   "metadata": {},
   "source": [
    "### Génération de bruit suivant une loi normale sur le tableau de coordonnées"
   ]
  },
  {
   "cell_type": "code",
   "execution_count": 25,
   "metadata": {},
   "outputs": [
    {
     "data": {
      "text/plain": [
       "array([ 0.76277324,  1.04380314,  1.16829254,  0.40391199,  0.61583541,\n",
       "        0.9577566 ,  0.38040451,  0.08941694, -0.27231043,  0.85532755,\n",
       "        0.84810673, -0.27752027,  1.17210846, -0.16659665,  1.47976816,\n",
       "       -0.40749625, -0.11690155, -0.08060797, -0.14649729,  0.51938873,\n",
       "       -0.25622362,  0.53982904, -0.40128851,  0.73892777,  0.24672635,\n",
       "        0.04534827, -0.29806181,  0.96184031,  1.08353121,  1.19783559])"
      ]
     },
     "execution_count": 25,
     "metadata": {},
     "output_type": "execute_result"
    }
   ],
   "source": [
    "sigma_norm = 0.5\n",
    "\n",
    "# Définition d'une fonction ajoutant un bruit gaussien à un tableau de données\n",
    "def noise_gen(positions, sigma):\n",
    "    return positions + np.random.normal(0, sigma)\n",
    "\n",
    "positions_bruit = noise_gen(positions, sigma_norm)\n",
    "positions_bruit"
   ]
  },
  {
   "cell_type": "code",
   "execution_count": null,
   "metadata": {},
   "outputs": [],
   "source": []
  },
  {
   "cell_type": "markdown",
   "metadata": {},
   "source": [
    "### Calcul du RMSE des données initiales"
   ]
  },
  {
   "cell_type": "code",
   "execution_count": 29,
   "metadata": {},
   "outputs": [
    {
     "data": {
      "text/plain": [
       "0.23746480124601782"
      ]
     },
     "execution_count": 29,
     "metadata": {},
     "output_type": "execute_result"
    }
   ],
   "source": [
    "from sklearn.metrics import mean_squared_error\n",
    "\n",
    "mean_squared_error(positions, positions_bruit)"
   ]
  },
  {
   "cell_type": "code",
   "execution_count": null,
   "metadata": {},
   "outputs": [],
   "source": []
  },
  {
   "cell_type": "markdown",
   "metadata": {},
   "source": [
    "### Simulation des prédictions"
   ]
  },
  {
   "cell_type": "code",
   "execution_count": 27,
   "metadata": {},
   "outputs": [],
   "source": [
    "# On définit une fonction simulant les prédictions d'un modèle entraîné. Précisément, on prend le jeu\n",
    "# d'étiquettes et on rajoute un bruit de largeur n fois inférieure à la largeur appliquée au jeu d'entraînement\n",
    "def simul_appr(true, sigma_init, facteur):\n",
    "    return noise_gen(true, sigma_init/facteur)\n",
    "\n",
    "pred = simul_appr(positions, sigma_norm, 5)"
   ]
  },
  {
   "cell_type": "markdown",
   "metadata": {},
   "source": [
    "### Calcul du RMSE des prédictions"
   ]
  },
  {
   "cell_type": "code",
   "execution_count": 28,
   "metadata": {},
   "outputs": [
    {
     "data": {
      "text/plain": [
       "0.020770151776989744"
      ]
     },
     "execution_count": 28,
     "metadata": {},
     "output_type": "execute_result"
    }
   ],
   "source": [
    "mean_squared_error(positions, pred)"
   ]
  },
  {
   "cell_type": "markdown",
   "metadata": {},
   "source": [
    "## Mise en situation dans le cas de l'entraînement du RN\n",
    "\n",
    "On va définir ici des fonctions permettant de calculer le RMSE qui servira de fonction de coût et du score R2 qui servira de métrique d'évaluation du modèle, qui seront utilisées par l'algorithme d'apprentissage du RN.\n",
    "\n",
    "Les couches d'entrée et de sortie du RN étant fixes, on doit passer par ces fonctions pour évaluer le coût et la performance du modèle sur les données représentant la sortie attendue pour le nombre d'atomes en entrée. En d'autres termes, on ne va pas forcer le modèle à prédire des distances de 0 entre des atomes non existants pour la molécule courante et les atomes fictifs du repère. De même, on ne va pas évaluer les prédictions du RN sur les distances concernant des atomes inexistants."
   ]
  },
  {
   "cell_type": "markdown",
   "metadata": {},
   "source": [
    "#### Affichage Tensor"
   ]
  },
  {
   "cell_type": "code",
   "execution_count": null,
   "metadata": {},
   "outputs": [],
   "source": [
    "init_op = tf.initialize_all_variables()\n",
    "    \n",
    "    \n",
    "    with tf.Session() as sess:\n",
    "        sess.run(init_op) #execute init_op\n",
    "        print (sess.run(targets))\n",
    "        print (sess.run(predictions))\n",
    "        print (sess.run(targets_masked))\n",
    "        print (sess.run(predictions_masked))\n",
    "        print (sess.run(RMSE))\n",
    "        print(sess.run(sq_diff))"
   ]
  },
  {
   "cell_type": "markdown",
   "metadata": {},
   "source": [
    "#### Calcul du masque des atomes définis en fonction du vecteur targets"
   ]
  },
  {
   "cell_type": "code",
   "execution_count": 121,
   "metadata": {},
   "outputs": [],
   "source": [
    "import tensorflow as tf\n",
    "\n",
    "def calcul_masque_atomes_definis(targets):\n",
    "    \"\"\" On calcule le masque booléen des atomes donnés en entrée du RN en fonction du vecteur targets\"\"\"\n",
    "    \n",
    "    # On cherche à obtenir un masque booléen des atomes définis en entrée. Pour cela, on prend en entrée\n",
    "    # les étiquettes sous la forme d'une matrice (200, 4) dont chaque ligne i est la distance de l'atome i avec\n",
    "    # les atomes fictifs du repère. L'atome est indéfini ssi. la somme de la ligne est nulle. En effet,\n",
    "    # un atome défini ne peut pas avoir une distance nulle avec les quatre atomes fictifs, et on veille\n",
    "    # à ce que le vecteurs targets ne contienne que des valeurs nulles pour les atomes non définis.\n",
    "    # On obtient donc un masque booléen de tous les atomes définis en entrée\n",
    "    \n",
    "    ## On somme les distances de chaque atome ##\n",
    "    targets_dists_sums = tf.reduce_sum(targets, 1)\n",
    "    \n",
    "    ## On créé le masque des sommes différentes de zéro ##\n",
    "    \n",
    "    # Création des matrice de True et de False de la dimension de la matrice des sommes (nécessaires\n",
    "    # pour tf.where)\n",
    "    zeros = tf.cast(tf.zeros_like(targets_dists_sums),dtype=tf.bool)\n",
    "    ones = tf.cast(tf.ones_like(targets_dists_sums),dtype=tf.bool)\n",
    "    \n",
    "    return tf.where(targets_dists_sums>0, ones, zeros)\n"
   ]
  },
  {
   "cell_type": "markdown",
   "metadata": {},
   "source": [
    "#### Calcul du rmse"
   ]
  },
  {
   "cell_type": "code",
   "execution_count": 119,
   "metadata": {},
   "outputs": [],
   "source": [
    "def partial_rmse(predictions, targets):\n",
    "    \"\"\" Calcule le RMSE partiel des prédictions par rapport aux valeurs attendues. Le RMSE est partiel car\n",
    "    on ne le calcule que pour les sorties correspondant aux atomes donnés en entrée. En d'autres\n",
    "    termes, on ne pousse pas le modèle à donner des distances nulles pour les atomes indéfinis\n",
    "    en entrée\"\"\"\n",
    "    \n",
    "\n",
    "    # On met les prédictions et les cibles sous la forme d'une matrice (200, 4)\n",
    "    predictions = tf.reshape(predictions, [-1, 4])\n",
    "    targets = tf.reshape(targets, [-1, 4])\n",
    "    \n",
    "    # On calcule le masque des atomes définis selon les cibles\n",
    "    defined_atoms_mask = calcul_masque_atomes_definis(targets)\n",
    "    \n",
    "    \n",
    "    # On masque les prédictions et les étiquettes selon le masque des atomes définis\n",
    "    targets_masked = tf.boolean_mask(targets, defined_mask)\n",
    "    predictions_masked = tf.boolean_mask(predictions, defined_mask)\n",
    "    \n",
    "    \n",
    "    return tf.sqrt(tf.reduce_mean(tf.squared_difference(predictions_masked, targets_masked)), name=\"rmse\")\n",
    "    "
   ]
  },
  {
   "cell_type": "markdown",
   "metadata": {},
   "source": [
    "#### Calcul du score R2 (score d'évaluation du modèle)"
   ]
  },
  {
   "cell_type": "code",
   "execution_count": 129,
   "metadata": {},
   "outputs": [],
   "source": [
    "def partial_r2_score(predictions, targets, inputs):\n",
    "    \"\"\" Renvoie le score R2 de la prédiction (le calcul est effectué uniquement sur les résultats\n",
    "    des atomes donnés en entrée) \"\"\"\n",
    "    \n",
    "    # On met les prédictions et les cibles sous la forme d'une matrice (200, 4)\n",
    "    predictions = tf.reshape(predictions, [-1, 4])\n",
    "    targets = tf.reshape(targets, [-1, 4])\n",
    "    \n",
    "    # On calcule le masque des atomes définis selon les cibles\n",
    "    defined_atoms_mask = calcul_masque_atomes_definis(targets)\n",
    "    \n",
    "    # Calcul de l'erreur totale\n",
    "    total_error = tf.reduce_sum(tf.square(tf.subtract(targets, tf.reduce_mean(targets))))\n",
    "                \n",
    "    # Calcul de l'erreur inexpliquée\n",
    "    unexplained_error = tf.reduce_sum(tf.square(tf.subtract(targets, predictions)))\n",
    "\n",
    "    init_op = tf.initialize_all_variables()\n",
    "    \n",
    "    r2 = tf.subtract(1.0, tf.divide(unexplained_error, total_error), \"r2_score\")\n",
    " \n",
    "    "
   ]
  },
  {
   "cell_type": "code",
   "execution_count": null,
   "metadata": {},
   "outputs": [],
   "source": []
  },
  {
   "cell_type": "code",
   "execution_count": null,
   "metadata": {},
   "outputs": [],
   "source": []
  },
  {
   "cell_type": "code",
   "execution_count": null,
   "metadata": {},
   "outputs": [],
   "source": []
  }
 ],
 "metadata": {
  "kernelspec": {
   "display_name": "Python 3",
   "language": "python",
   "name": "python3"
  },
  "language_info": {
   "codemirror_mode": {
    "name": "ipython",
    "version": 3
   },
   "file_extension": ".py",
   "mimetype": "text/x-python",
   "name": "python",
   "nbconvert_exporter": "python",
   "pygments_lexer": "ipython3",
   "version": "3.6.4"
  }
 },
 "nbformat": 4,
 "nbformat_minor": 2
}
