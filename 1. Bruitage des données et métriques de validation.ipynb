{
 "cells": [
  {
   "cell_type": "markdown",
   "metadata": {},
   "source": [
    "### Génération d'un tableau de coordonnées fictives dans l'attente de vraies données\n"
   ]
  },
  {
   "cell_type": "code",
   "execution_count": 14,
   "metadata": {},
   "outputs": [
    {
     "data": {
      "text/plain": [
       "array([-0.54160352, -0.39901984,  0.08772178, -0.44709833,  0.73373848,\n",
       "        0.67177955,  0.54482004,  0.27201387, -0.48761669,  0.99920236,\n",
       "       -0.43867843, -0.56472728,  0.8286265 , -0.91978798,  0.32063854,\n",
       "       -0.6842396 , -0.91226324,  0.47758616, -0.82044854, -0.04096083,\n",
       "        0.76354988, -0.01464192, -0.00572377,  0.13096125,  0.38678974,\n",
       "        0.87696817, -0.84781277, -0.90261056,  0.4908653 ,  0.80496882])"
      ]
     },
     "execution_count": 14,
     "metadata": {},
     "output_type": "execute_result"
    }
   ],
   "source": [
    "import numpy as np\n",
    "\n",
    "molecules_nb = 10\n",
    "\n",
    "# Génération d'un vecteur de positions. Pour chaque molécule, le vecteur contient 3 coordonnées x, y, z,\n",
    "# chacune dans l'intervalle [-1,1[\n",
    "positions = np.random.random_sample(molecules_nb*3) * 2 - 1\n",
    "positions"
   ]
  },
  {
   "cell_type": "markdown",
   "metadata": {},
   "source": [
    "### Génération de bruit suivant une loi normale sur le tableau de coordonnées"
   ]
  },
  {
   "cell_type": "code",
   "execution_count": 25,
   "metadata": {},
   "outputs": [
    {
     "data": {
      "text/plain": [
       "array([ 0.76277324,  1.04380314,  1.16829254,  0.40391199,  0.61583541,\n",
       "        0.9577566 ,  0.38040451,  0.08941694, -0.27231043,  0.85532755,\n",
       "        0.84810673, -0.27752027,  1.17210846, -0.16659665,  1.47976816,\n",
       "       -0.40749625, -0.11690155, -0.08060797, -0.14649729,  0.51938873,\n",
       "       -0.25622362,  0.53982904, -0.40128851,  0.73892777,  0.24672635,\n",
       "        0.04534827, -0.29806181,  0.96184031,  1.08353121,  1.19783559])"
      ]
     },
     "execution_count": 25,
     "metadata": {},
     "output_type": "execute_result"
    }
   ],
   "source": [
    "sigma_norm = 0.5\n",
    "\n",
    "# Définition d'une fonction ajoutant un bruit gaussien à un tableau de données\n",
    "def noise_gen(positions, sigma):\n",
    "    return positions + np.random.normal(0, sigma)\n",
    "\n",
    "positions_bruit = noise_gen(positions, sigma_norm)\n",
    "positions_bruit"
   ]
  },
  {
   "cell_type": "code",
   "execution_count": null,
   "metadata": {},
   "outputs": [],
   "source": []
  },
  {
   "cell_type": "markdown",
   "metadata": {},
   "source": [
    "### Calcul du RMSE des données initiales"
   ]
  },
  {
   "cell_type": "code",
   "execution_count": 29,
   "metadata": {},
   "outputs": [
    {
     "data": {
      "text/plain": [
       "0.23746480124601782"
      ]
     },
     "execution_count": 29,
     "metadata": {},
     "output_type": "execute_result"
    }
   ],
   "source": [
    "from sklearn.metrics import mean_squared_error\n",
    "\n",
    "mean_squared_error(positions, positions_bruit)"
   ]
  },
  {
   "cell_type": "code",
   "execution_count": null,
   "metadata": {},
   "outputs": [],
   "source": []
  },
  {
   "cell_type": "markdown",
   "metadata": {},
   "source": [
    "### Simulation des prédictions"
   ]
  },
  {
   "cell_type": "code",
   "execution_count": 27,
   "metadata": {},
   "outputs": [],
   "source": [
    "# On définit une fonction simulant les prédictions d'un modèle entraîné. Précisément, on prend le jeu\n",
    "# d'étiquettes et on rajoute un bruit de largeur n fois inférieure à la largeur appliquée au jeu d'entraînement\n",
    "def simul_appr(true, sigma_init, facteur):\n",
    "    return noise_gen(true, sigma_init/facteur)\n",
    "\n",
    "pred = simul_appr(positions, sigma_norm, 5)"
   ]
  },
  {
   "cell_type": "markdown",
   "metadata": {},
   "source": [
    "### Calcul du RMSE des prédictions"
   ]
  },
  {
   "cell_type": "code",
   "execution_count": 28,
   "metadata": {},
   "outputs": [
    {
     "data": {
      "text/plain": [
       "0.020770151776989744"
      ]
     },
     "execution_count": 28,
     "metadata": {},
     "output_type": "execute_result"
    }
   ],
   "source": [
    "mean_squared_error(positions, pred)"
   ]
  },
  {
   "cell_type": "code",
   "execution_count": null,
   "metadata": {},
   "outputs": [],
   "source": []
  }
 ],
 "metadata": {
  "kernelspec": {
   "display_name": "Python 3",
   "language": "python",
   "name": "python3"
  },
  "language_info": {
   "codemirror_mode": {
    "name": "ipython",
    "version": 3
   },
   "file_extension": ".py",
   "mimetype": "text/x-python",
   "name": "python",
   "nbconvert_exporter": "python",
   "pygments_lexer": "ipython3",
   "version": "3.5.2"
  }
 },
 "nbformat": 4,
 "nbformat_minor": 2
}
