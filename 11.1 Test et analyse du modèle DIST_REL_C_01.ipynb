{
 "cells": [
  {
   "cell_type": "markdown",
   "metadata": {},
   "source": [
    "## Test et anlyse du modèle DIST_REL_C_01\n",
    "\n",
    "De la même façon que nous avons procédé pour le modèle DIST_REL_C_RNN_01, nous allons créer des représentations graphiques des performances, puis nous allons comparer les deux modèles."
   ]
  },
  {
   "cell_type": "markdown",
   "metadata": {},
   "source": [
    "#### Chemins des fichiers"
   ]
  },
  {
   "cell_type": "code",
   "execution_count": 126,
   "metadata": {},
   "outputs": [],
   "source": [
    "\n",
    "model_loc = \"../models/DIST_REL_C_01/11.0/DIST_REL_C_01_basic.tflearn\"\n",
    "\n",
    "figures_loc = \"../figures/11.1-\"\n",
    "\n",
    "test_set_prepared_input_loc = \"../data/DIST_REL_C_RNN/test_set_prepared_input.h5\"\n",
    "test_set_labels_loc = \"../data/DIST_REL_C_RNN/test_set_labels.h5\"\n",
    "\n",
    "train_riken_reduced_loc = \"../data/train_set_riken_v2_reduced.h5\"\n",
    "test_riken_reduced_loc = \"../data/test_set_riken_v2_reduced.h5\"\n",
    "\n",
    "\"\"\"\n",
    "train_riken_reduced_loc = \"../data/minimal_set_riken_v2_reduced.h5\"\n",
    "test_riken_reduced_loc = \"../data/minimal_set_riken_v2_reduced.h5\"\n",
    "\n",
    "test_set_prepared_input_loc = \"../data/DIST_REL_C_RNN/minimal_prepared_input.h5\"\n",
    "test_set_labels_loc = \"../data/DIST_REL_C_RNN/minimal_labels.h5\"\n",
    "\"\"\""
   ]
  },
  {
   "cell_type": "markdown",
   "metadata": {},
   "source": [
    "### Création du RN\n",
    "\n",
    "#### Fonction de coût (RMSE)"
   ]
  },
  {
   "cell_type": "code",
   "execution_count": 127,
   "metadata": {},
   "outputs": [],
   "source": [
    "def rmse(pred, targets):\n",
    "    with tf.name_scope(\"rmse_loss\"):\n",
    "        return tf.sqrt(tf.reduce_mean(tf.squared_difference(pred, targets)), name=\"rmse\")"
   ]
  },
  {
   "cell_type": "markdown",
   "metadata": {},
   "source": [
    "#### Fonction d'évaluation des performances (opposé du RMSE)"
   ]
  },
  {
   "cell_type": "code",
   "execution_count": 128,
   "metadata": {},
   "outputs": [],
   "source": [
    "def rmse_valid(pred, targets, inputs):\n",
    "    with tf.name_scope(\"rmse_validation\"):\n",
    "        return -rmse(pred, targets)"
   ]
  },
  {
   "cell_type": "markdown",
   "metadata": {},
   "source": [
    "#### Fonction de création du RN\n"
   ]
  },
  {
   "cell_type": "code",
   "execution_count": 129,
   "metadata": {},
   "outputs": [],
   "source": [
    "from tflearn.layers.core import input_data, dropout, fully_connected\n",
    "from tflearn.layers.estimator import regression\n",
    "from tflearn.optimizers import Adam\n",
    "from tflearn.data_preprocessing import DataPreprocessing\n",
    "import math\n",
    "\n",
    "\n",
    "def creer_RN(epsilon=1e-8, learning_rate=0.001, dropout_val=0.99, stddev_init=0.001,\n",
    "             hidden_act='relu', outlayer_act='prelu', weight_decay=0.001, width=870, depth=3,\n",
    "             validation_fun=rmse_valid, cost_fun=rmse):\n",
    "\n",
    "    # On créé l'initialisateur de tenseur avec une loi normale tronquée. sigma = stddev_init, et les \n",
    "    # valeurs à plus de 2sigma sont re-tirées\n",
    "    winit = tfl.initializations.truncated_normal(stddev=stddev_init, dtype=tf.float32, seed=None)\n",
    "    \n",
    "    # On créé l'input du RN\n",
    "    network = input_data(shape=[None, 870], name='input')\n",
    "    \n",
    "    # On créé les couches cachées\n",
    "    for i in range(depth):\n",
    "        network = fully_connected(network, width, activation=hidden_act, name='fc'+str(i), weights_init=winit,\n",
    "                                  weight_decay=weight_decay)\n",
    "        # On détruit des neurones aléatoirement avec une la probabilité donnée en entrée\n",
    "        network = dropout(network, dropout_val)\n",
    "    \n",
    "    # On ajoute la couche de sortie du réseau\n",
    "    # Fonction d'activation prelu\n",
    "    # Initilisée avec la loi normale tronquée\n",
    "    network = fully_connected(network, 1, activation=outlayer_act, name='outlayer', weights_init=winit)\n",
    "    \n",
    "    adam = Adam(learning_rate=learning_rate, epsilon=epsilon)\n",
    "    \n",
    "    # Couche d'évaluation du modèle. Utilisation d'une descente stochastique Adam\n",
    "    # Learning rate = 0.05\n",
    "    # Loss = fonction définie rmse\n",
    "    network = regression(network, optimizer=adam,\n",
    "    loss=cost_fun, metric=validation_fun, name='target')\n",
    "            \n",
    "    return network"
   ]
  },
  {
   "cell_type": "markdown",
   "metadata": {},
   "source": [
    "## Calcul des prédictions\n",
    "\n",
    "#### Calcul du RMSE sur des vecteurs"
   ]
  },
  {
   "cell_type": "code",
   "execution_count": 130,
   "metadata": {},
   "outputs": [],
   "source": [
    "import numpy as np\n",
    "\n",
    "def rmse_test(targets, predictions):\n",
    "    return np.sqrt(np.square(np.diff([targets, predictions], axis=0)))[0]"
   ]
  },
  {
   "cell_type": "markdown",
   "metadata": {},
   "source": [
    "#### Calcul de l'erreur sur chaque exemple du jeu de test"
   ]
  },
  {
   "cell_type": "code",
   "execution_count": 131,
   "metadata": {},
   "outputs": [],
   "source": [
    "import h5py\n",
    "from tflearn.data_utils import pad_sequences\n",
    "import tensorflow as tf\n",
    "import tflearn as tfl\n",
    "\n",
    "def calculer_pred(model_loc, test_set_prepared_input_loc, test_set_labels_loc):\n",
    "    \"\"\" Renvoie l'erreur et la prédiction pour chaque exemple du jeu de test \"\"\"\n",
    "    \n",
    "    tf.reset_default_graph()\n",
    "    \n",
    "    # Importation du modèle\n",
    "    network = creer_RN(learning_rate=0.01, dropout_val=0.98, epsilon=0.001, hidden_act=\"elu\", outlayer_act=\"linear\", width=870, depth=3)\n",
    "    model = tfl.DNN(network)\n",
    "    model.load(model_loc, weights_only=True)\n",
    "    \n",
    "    # Chargement des données\n",
    "    inputs_h5 = h5py.File(test_set_prepared_input_loc, 'r')\n",
    "    targets_h5 = h5py.File(test_set_labels_loc, 'r')\n",
    "    \n",
    "    inputs = np.array(inputs_h5[\"inputs\"])\n",
    "    inputs = pad_sequences(inputs, dtype=\"float32\", maxlen=870)\n",
    "    inputs = inputs.reshape(-1, 870)\n",
    "    \n",
    "    targets = np.array(targets_h5[\"targets\"])\n",
    "    targets = targets.reshape(-1, 1)\n",
    "    \n",
    "    predictions = model.predict(inputs)\n",
    "    \n",
    "    return rmse_test(targets, predictions).reshape(1, -1)[0], predictions\n",
    "    \n",
    "    "
   ]
  },
  {
   "cell_type": "code",
   "execution_count": 132,
   "metadata": {},
   "outputs": [
    {
     "name": "stdout",
     "output_type": "stream",
     "text": [
      "INFO:tensorflow:Restoring parameters from /home/etudiant/Documents/Cours/TER/Notebooks/models/DIST_REL_C_01/11.0/DIST_REL_C_01_basic.tflearn\n"
     ]
    }
   ],
   "source": [
    "rmses, predictions = calculer_pred(model_loc, test_set_prepared_input_loc, test_set_labels_loc)\n"
   ]
  },
  {
   "cell_type": "markdown",
   "metadata": {},
   "source": [
    "#### Affichage des statistiques sur les erreurs"
   ]
  },
  {
   "cell_type": "code",
   "execution_count": 141,
   "metadata": {
    "collapsed": true
   },
   "outputs": [
    {
     "name": "stdout",
     "output_type": "stream",
     "text": [
      "Erreur moyenne : 86.3501\n",
      "Erreur médiane : 83.52832\n",
      "Écart-type : 57.627506\n",
      "Erreur min : 0.030273438\n",
      "Erreur max : 1031.1377\n"
     ]
    }
   ],
   "source": [
    "def print_stats_rmse(rmses):\n",
    "    print(\"Erreur moyenne : \"+str(np.mean(rmses)))\n",
    "    print(\"Erreur médiane : \"+str(np.median(rmses)))\n",
    "    print(\"Écart-type : \"+str(np.std(rmses)))\n",
    "    print(\"Erreur min : \"+str(min(rmses)))\n",
    "    print(\"Erreur max : \"+str(max(rmses)))\n",
    "    \n",
    "print_stats_rmse(rmses)"
   ]
  },
  {
   "cell_type": "markdown",
   "metadata": {},
   "source": [
    "##### Sortie\n",
    "\n",
    "```\n",
    "Erreur moyenne : 12.826389\n",
    "Erreur médiane : 6.0214844\n",
    "Écart-type : 20.240458\n",
    "Erreur min : 0.0\n",
    "Erreur max : 285.42126\n",
    "```\n",
    "\n",
    "### Analyse\n",
    "\n",
    "On voit ici que le modèle produit en général de bons résultats. La moitié des erreurs est en dessous de 6 mÅ ce qui correspond à une grande précision des estimations.\n",
    "\n",
    "Toutefois, on remarque que le modèle produit également de grandes erreurs sur certaines liaisons et que l'écart-type est élevé par rapport à l'ordre de grandeur de la médiane.\n",
    "\n",
    "On a donc un modèle qui prédit très bien la moitié des données, et qui prédit mal l'autre moitié. Nous allons tenter de comprendre quelles sont les valeurs typiques qui sont bien ou mal prédites."
   ]
  },
  {
   "cell_type": "markdown",
   "metadata": {},
   "source": [
    "#### Récupération du vecteur cibles (distances)"
   ]
  },
  {
   "cell_type": "code",
   "execution_count": 133,
   "metadata": {},
   "outputs": [],
   "source": [
    "def extract_targets(test_set_labels_loc):\n",
    "    targets_h5 = h5py.File(test_set_labels_loc, 'r')\n",
    "    targets = np.array(targets_h5[\"targets\"])\n",
    "    targets = targets.reshape(-1, 1)\n",
    "    return targets\n",
    "\n",
    "targets = extract_targets(test_set_labels_loc)\n"
   ]
  },
  {
   "cell_type": "markdown",
   "metadata": {},
   "source": [
    "### Représentation graphique de la distribution des erreurs selon leur valeur"
   ]
  },
  {
   "cell_type": "code",
   "execution_count": 134,
   "metadata": {},
   "outputs": [],
   "source": [
    "import matplotlib.pyplot as plt\n",
    "import matplotlib as mpl\n",
    "\n",
    "mpl.rcParams['agg.path.chunksize'] = 10000\n",
    "\n",
    "\n",
    "def plot_distrib_rmses_val(rmses, padding):\n",
    "    \"\"\" Affiche la distribution des rmses selon un pas donné \"\"\"\n",
    "    \n",
    "    # On calcule les bornes de notre index\n",
    "    debut_index = np.floor(min(rmses))\n",
    "    fin_index = max(rmses)+padding\n",
    "    \n",
    "    # On créé l'index des rmses\n",
    "    index = np.arange(debut_index, fin_index, padding)\n",
    "    \n",
    "    # On créé le compteur de rmses\n",
    "    rmse_occ = np.zeros_like(index)\n",
    "        \n",
    "    # Calcul des rmse\n",
    "    for rmse in rmses:\n",
    "        rmse_occ[int((rmse-debut_index)/padding)] += 1\n",
    "                    \n",
    "    plt.xlabel(\"Erreur absolue (par tranches de \"+str(padding)+\" mÅ)\")\n",
    "    plt.ylabel(\"Occurences sur le jeu de test\")\n",
    "    plt.title(\"Modèle DIST_REL_C_01\\nDistribution des erreurs selon leur valeur\")\n",
    "    plt.plot(index, rmse_occ)\n",
    "    plt.savefig(figures_loc+\"DIST_REL_C_01_distrib_rmse_val.png\", dpi=200)\n",
    "    \n",
    "    plt.show()\n",
    "\n"
   ]
  },
  {
   "cell_type": "code",
   "execution_count": 135,
   "metadata": {
    "collapsed": true
   },
   "outputs": [
    {
     "data": {
      "image/png": "[encoded data removed]",
      "text/plain": [
       "<matplotlib.figure.Figure at 0x7f36d5460f60>"
      ]
     },
     "metadata": {},
     "output_type": "display_data"
    }
   ],
   "source": [
    "plot_distrib_rmses_val(rmses, 0.01)"
   ]
  },
  {
   "cell_type": "markdown",
   "metadata": {},
   "source": [
    "![title](../figures/11.1-DIST_REL_C_01_distrib_rmse_val.png)\n",
    "\n",
    "\n",
    "### Analyse\n",
    "\n",
    "Ce graphe confirme "
   ]
  },
  {
   "cell_type": "markdown",
   "metadata": {},
   "source": [
    "#### Distribution des erreurs selon la distance à prédire"
   ]
  },
  {
   "cell_type": "code",
   "execution_count": 136,
   "metadata": {},
   "outputs": [],
   "source": [
    "def plot_rmse_distrib_dist(rmses, targets):\n",
    "    \n",
    "    plt.title(\"Modèle DIST_REL_C_01\\nDistribution des erreurs selon les distances cibles\")\n",
    "    plt.xlabel(\"Distance cible (mÅ)\")\n",
    "    plt.ylabel(\"Erreur absolue (mÅ)\")\n",
    "    plot = plt.plot(targets, rmses, \",\")\n",
    "    \n",
    "    plt.annotate('', xy=(1380, 240), xytext=(1430, 240),\n",
    "            arrowprops=dict(facecolor='red', shrink=0.05)\n",
    "            )\n",
    "    \n",
    "    plt.text(1440, 228, \"Longueur de liaison\\ntypique\")\n",
    "    \n",
    "    \n",
    "\n",
    "    plt.annotate('triple', xy=(1200, 0), xytext=(1200, 30),\n",
    "            arrowprops=dict(facecolor='red', shrink=0.05)\n",
    "            )\n",
    "    \n",
    "    plt.annotate('double', xy=(1340, 0), xytext=(1280, 30),\n",
    "            arrowprops=dict(facecolor='red', shrink=0.05),\n",
    "            )\n",
    "    \n",
    "    plt.annotate('simple', xy=(1540, 0), xytext=(1522, 30),\n",
    "            arrowprops=dict(facecolor='red', shrink=0.05),\n",
    "            )\n",
    "    \n",
    "    plt.annotate('aromatique', xy=(1400, 0), xytext=(1337, 30),\n",
    "            arrowprops=dict(facecolor='red', shrink=0.05),\n",
    "            )\n",
    "        \n",
    "    plt.savefig(figures_loc+\"DIST_REL_C_01_distrib_rmse_dist.png\", dpi=200)\n",
    "    \n",
    "    plt.show()\n",
    "    \n"
   ]
  },
  {
   "cell_type": "code",
   "execution_count": 137,
   "metadata": {
    "collapsed": true
   },
   "outputs": [
    {
     "data": {
      "image/png": "[encoded data removed]",
      "text/plain": [
       "<matplotlib.figure.Figure at 0x7f36def07128>"
      ]
     },
     "metadata": {},
     "output_type": "display_data"
    }
   ],
   "source": [
    "plot_rmse_distrib_dist(rmses, targets)"
   ]
  },
  {
   "cell_type": "markdown",
   "metadata": {},
   "source": [
    "![title](../figures/11.1-DIST_REL_C_01_distrib_rmse_dist.png)\n"
   ]
  },
  {
   "cell_type": "markdown",
   "metadata": {},
   "source": [
    "#### Visualisation des prédictions selon les distances attendues"
   ]
  },
  {
   "cell_type": "code",
   "execution_count": 142,
   "metadata": {},
   "outputs": [],
   "source": [
    "def plot_sorted_targets_pred(targets, preds):\n",
    "        \n",
    "    plt.title(\"Modèle DIST_REL_C_01\\n Prédictions en fonction des distances cibles\")\n",
    "    plt.xlabel(\"Distance cible (mÅ)\")\n",
    "    plt.ylabel(\"Distance prédite (mÅ)\")\n",
    "    \n",
    "    plt.plot(targets, preds, \",\")\n",
    "    \n",
    "    plt.annotate('', xy=(1380, 240), xytext=(1430, 240),\n",
    "            arrowprops=dict(facecolor='red', shrink=0.05)\n",
    "            )\n",
    "    \n",
    "    plt.text(1440, 228, \"Longueur de liaison\\ntypique\")\n",
    "    \n",
    "    \n",
    "\n",
    "    plt.annotate('triple', xy=(1200, 0), xytext=(1200, 300),\n",
    "            arrowprops=dict(facecolor='red', shrink=0.05)\n",
    "            )\n",
    "    \n",
    "    plt.annotate('double', xy=(1340, 0), xytext=(1280, 300),\n",
    "            arrowprops=dict(facecolor='red', shrink=0.05),\n",
    "            )\n",
    "    \n",
    "    plt.annotate('simple', xy=(1540, 0), xytext=(1522, 300),\n",
    "            arrowprops=dict(facecolor='red', shrink=0.05),\n",
    "            )\n",
    "    \n",
    "    plt.annotate('aromatique', xy=(1400, 0), xytext=(1337, 300),\n",
    "            arrowprops=dict(facecolor='red', shrink=0.05),\n",
    "            )\n",
    "    \n",
    "    axes = plt.gca()\n",
    "    plt.savefig(\"../figures/DIST_REL_C_01_preds_fonction_cibles.png\", dpi=200)\n",
    "    \n",
    "    plt.show()\n",
    "\n"
   ]
  },
  {
   "cell_type": "code",
   "execution_count": 139,
   "metadata": {
    "collapsed": true
   },
   "outputs": [
    {
     "data": {
      "image/png": "[encoded data removed]",
      "text/plain": [
       "<matplotlib.figure.Figure at 0x7f36def2afd0>"
      ]
     },
     "metadata": {},
     "output_type": "display_data"
    }
   ],
   "source": [
    "plot_sorted_targets_pred(targets, predictions)"
   ]
  },
  {
   "cell_type": "markdown",
   "metadata": {},
   "source": [
    "![title](../figures/11.1-DIST_REL_C_01_preds_fonction_cibles.png)\n"
   ]
  },
  {
   "cell_type": "code",
   "execution_count": null,
   "metadata": {},
   "outputs": [],
   "source": []
  },
  {
   "cell_type": "code",
   "execution_count": null,
   "metadata": {},
   "outputs": [],
   "source": []
  },
  {
   "cell_type": "code",
   "execution_count": null,
   "metadata": {},
   "outputs": [],
   "source": []
  },
  {
   "cell_type": "code",
   "execution_count": null,
   "metadata": {},
   "outputs": [],
   "source": []
  }
 ],
 "metadata": {
  "kernelspec": {
   "display_name": "Python 3",
   "language": "python",
   "name": "python3"
  },
  "language_info": {
   "codemirror_mode": {
    "name": "ipython",
    "version": 3
   },
   "file_extension": ".py",
   "mimetype": "text/x-python",
   "name": "python",
   "nbconvert_exporter": "python",
   "pygments_lexer": "ipython3",
   "version": "3.6.4"
  }
 },
 "nbformat": 4,
 "nbformat_minor": 2
}
