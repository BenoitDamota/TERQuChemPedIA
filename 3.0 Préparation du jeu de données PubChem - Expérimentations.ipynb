{
 "cells": [
  {
   "cell_type": "markdown",
   "metadata": {},
   "source": [
    "# Préparation du jeu de données PubChem\n",
    "\n",
    "## Ouverture et analyse des données"
   ]
  },
  {
   "cell_type": "markdown",
   "metadata": {},
   "source": [
    "### Ouverture du jeu "
   ]
  },
  {
   "cell_type": "code",
   "execution_count": 1,
   "metadata": {
    "scrolled": true
   },
   "outputs": [
    {
     "name": "stderr",
     "output_type": "stream",
     "text": [
      "/home/etudiant/anaconda3/lib/python3.6/site-packages/h5py/__init__.py:36: FutureWarning: Conversion of the second argument of issubdtype from `float` to `np.floating` is deprecated. In future, it will be treated as `np.float64 == np.dtype(float).type`.\n",
      "  from ._conv import register_converters as _register_converters\n"
     ]
    }
   ],
   "source": [
    "import h5py\n",
    "\n",
    "dataset_location = \"../data/riken_v2.h5\"\n",
    "minimal_dataset_location = \"../data/minimal_dataset.h5\"\n",
    "train_dataset_location = \"../data/train_set.h5\"\n",
    "test_dataset_location = \"../data/test_set.h5\"\n",
    "\n",
    "# On charge le jeu de données original (en lecture seule)\n",
    "original_dataset = h5py.File(dataset_location, 'r')"
   ]
  },
  {
   "cell_type": "markdown",
   "metadata": {},
   "source": [
    "### Analyse des données\n",
    "\n",
    "#### Affichage des clés (colonnes)"
   ]
  },
  {
   "cell_type": "code",
   "execution_count": 2,
   "metadata": {
    "scrolled": true
   },
   "outputs": [
    {
     "name": "stdout",
     "output_type": "stream",
     "text": [
      "Keys : \n",
      "pubchem_id\n",
      "riken_coords\n",
      "amasses\n",
      "anums\n"
     ]
    }
   ],
   "source": [
    "import pandas as pd\n",
    "from IPython.display import display\n",
    "import numpy as np\n",
    "\n",
    "\n",
    "# Affichage des clés du fichier\n",
    "print(\"Keys : \")\n",
    "for key in original_dataset.keys():\n",
    "    print(key)"
   ]
  },
  {
   "cell_type": "markdown",
   "metadata": {},
   "source": [
    "#### Définition d'une fonction pour afficher les données d'une molécule à partir de son indice"
   ]
  },
  {
   "cell_type": "code",
   "execution_count": 3,
   "metadata": {},
   "outputs": [
    {
     "name": "stdout",
     "output_type": "stream",
     "text": [
      "\n",
      "\n",
      "index molécule 15000\n",
      "\n",
      "id pubchem : 60146483\n",
      "\n"
     ]
    },
    {
     "data": {
      "text/html": [
       "<div>\n",
       "<style scoped>\n",
       "    .dataframe tbody tr th:only-of-type {\n",
       "        vertical-align: middle;\n",
       "    }\n",
       "\n",
       "    .dataframe tbody tr th {\n",
       "        vertical-align: top;\n",
       "    }\n",
       "\n",
       "    .dataframe thead th {\n",
       "        text-align: right;\n",
       "    }\n",
       "</style>\n",
       "<table border=\"1\" class=\"dataframe\">\n",
       "  <thead>\n",
       "    <tr style=\"text-align: right;\">\n",
       "      <th></th>\n",
       "      <th>numéro atomique</th>\n",
       "      <th>masse atomique</th>\n",
       "      <th>x</th>\n",
       "      <th>y</th>\n",
       "      <th>z</th>\n",
       "    </tr>\n",
       "  </thead>\n",
       "  <tbody>\n",
       "    <tr>\n",
       "      <th>0</th>\n",
       "      <td>6.0</td>\n",
       "      <td>12.010700</td>\n",
       "      <td>1.4203</td>\n",
       "      <td>-1.0174</td>\n",
       "      <td>-0.4915</td>\n",
       "    </tr>\n",
       "    <tr>\n",
       "      <th>1</th>\n",
       "      <td>6.0</td>\n",
       "      <td>12.010700</td>\n",
       "      <td>10.2933</td>\n",
       "      <td>0.2510</td>\n",
       "      <td>-0.6398</td>\n",
       "    </tr>\n",
       "    <tr>\n",
       "      <th>2</th>\n",
       "      <td>6.0</td>\n",
       "      <td>12.010700</td>\n",
       "      <td>2.3897</td>\n",
       "      <td>-0.1447</td>\n",
       "      <td>-0.2215</td>\n",
       "    </tr>\n",
       "    <tr>\n",
       "      <th>3</th>\n",
       "      <td>6.0</td>\n",
       "      <td>12.010700</td>\n",
       "      <td>3.2027</td>\n",
       "      <td>0.5911</td>\n",
       "      <td>-1.2537</td>\n",
       "    </tr>\n",
       "    <tr>\n",
       "      <th>4</th>\n",
       "      <td>6.0</td>\n",
       "      <td>12.010700</td>\n",
       "      <td>7.7292</td>\n",
       "      <td>0.4491</td>\n",
       "      <td>-0.7290</td>\n",
       "    </tr>\n",
       "    <tr>\n",
       "      <th>5</th>\n",
       "      <td>6.0</td>\n",
       "      <td>12.010700</td>\n",
       "      <td>9.0948</td>\n",
       "      <td>1.1248</td>\n",
       "      <td>-0.9869</td>\n",
       "    </tr>\n",
       "    <tr>\n",
       "      <th>6</th>\n",
       "      <td>6.0</td>\n",
       "      <td>12.010700</td>\n",
       "      <td>5.4259</td>\n",
       "      <td>1.0577</td>\n",
       "      <td>-1.7704</td>\n",
       "    </tr>\n",
       "    <tr>\n",
       "      <th>7</th>\n",
       "      <td>6.0</td>\n",
       "      <td>12.010700</td>\n",
       "      <td>7.3375</td>\n",
       "      <td>1.6467</td>\n",
       "      <td>-2.7848</td>\n",
       "    </tr>\n",
       "    <tr>\n",
       "      <th>8</th>\n",
       "      <td>7.0</td>\n",
       "      <td>14.006700</td>\n",
       "      <td>4.6246</td>\n",
       "      <td>0.5095</td>\n",
       "      <td>-0.9391</td>\n",
       "    </tr>\n",
       "    <tr>\n",
       "      <th>9</th>\n",
       "      <td>7.0</td>\n",
       "      <td>14.006700</td>\n",
       "      <td>5.2373</td>\n",
       "      <td>1.7674</td>\n",
       "      <td>-2.9609</td>\n",
       "    </tr>\n",
       "    <tr>\n",
       "      <th>10</th>\n",
       "      <td>7.0</td>\n",
       "      <td>14.006700</td>\n",
       "      <td>6.4464</td>\n",
       "      <td>2.0466</td>\n",
       "      <td>-3.6315</td>\n",
       "    </tr>\n",
       "    <tr>\n",
       "      <th>11</th>\n",
       "      <td>7.0</td>\n",
       "      <td>14.006700</td>\n",
       "      <td>6.8139</td>\n",
       "      <td>1.1089</td>\n",
       "      <td>-1.6319</td>\n",
       "    </tr>\n",
       "    <tr>\n",
       "      <th>12</th>\n",
       "      <td>16.0</td>\n",
       "      <td>32.064999</td>\n",
       "      <td>9.0976</td>\n",
       "      <td>1.6068</td>\n",
       "      <td>-2.8053</td>\n",
       "    </tr>\n",
       "    <tr>\n",
       "      <th>13</th>\n",
       "      <td>1.0</td>\n",
       "      <td>1.007940</td>\n",
       "      <td>0.8490</td>\n",
       "      <td>-1.5015</td>\n",
       "      <td>0.2960</td>\n",
       "    </tr>\n",
       "    <tr>\n",
       "      <th>14</th>\n",
       "      <td>1.0</td>\n",
       "      <td>1.007940</td>\n",
       "      <td>1.1580</td>\n",
       "      <td>-1.2836</td>\n",
       "      <td>-1.5140</td>\n",
       "    </tr>\n",
       "    <tr>\n",
       "      <th>15</th>\n",
       "      <td>1.0</td>\n",
       "      <td>1.007940</td>\n",
       "      <td>10.2712</td>\n",
       "      <td>-0.0019</td>\n",
       "      <td>0.4270</td>\n",
       "    </tr>\n",
       "    <tr>\n",
       "      <th>16</th>\n",
       "      <td>1.0</td>\n",
       "      <td>1.007940</td>\n",
       "      <td>11.2360</td>\n",
       "      <td>0.7708</td>\n",
       "      <td>-0.8377</td>\n",
       "    </tr>\n",
       "    <tr>\n",
       "      <th>17</th>\n",
       "      <td>1.0</td>\n",
       "      <td>1.007940</td>\n",
       "      <td>10.2847</td>\n",
       "      <td>-0.6795</td>\n",
       "      <td>-1.2164</td>\n",
       "    </tr>\n",
       "    <tr>\n",
       "      <th>18</th>\n",
       "      <td>1.0</td>\n",
       "      <td>1.007940</td>\n",
       "      <td>2.6424</td>\n",
       "      <td>0.0920</td>\n",
       "      <td>0.8119</td>\n",
       "    </tr>\n",
       "    <tr>\n",
       "      <th>19</th>\n",
       "      <td>1.0</td>\n",
       "      <td>1.007940</td>\n",
       "      <td>2.8755</td>\n",
       "      <td>1.6483</td>\n",
       "      <td>-1.2756</td>\n",
       "    </tr>\n",
       "    <tr>\n",
       "      <th>20</th>\n",
       "      <td>1.0</td>\n",
       "      <td>1.007940</td>\n",
       "      <td>2.9683</td>\n",
       "      <td>0.1791</td>\n",
       "      <td>-2.2531</td>\n",
       "    </tr>\n",
       "    <tr>\n",
       "      <th>21</th>\n",
       "      <td>1.0</td>\n",
       "      <td>1.007940</td>\n",
       "      <td>7.4075</td>\n",
       "      <td>0.5854</td>\n",
       "      <td>0.3075</td>\n",
       "    </tr>\n",
       "    <tr>\n",
       "      <th>22</th>\n",
       "      <td>1.0</td>\n",
       "      <td>1.007940</td>\n",
       "      <td>7.7735</td>\n",
       "      <td>-0.6288</td>\n",
       "      <td>-0.9393</td>\n",
       "    </tr>\n",
       "    <tr>\n",
       "      <th>23</th>\n",
       "      <td>1.0</td>\n",
       "      <td>1.007940</td>\n",
       "      <td>9.1379</td>\n",
       "      <td>2.0649</td>\n",
       "      <td>-0.4280</td>\n",
       "    </tr>\n",
       "    <tr>\n",
       "      <th>24</th>\n",
       "      <td>1.0</td>\n",
       "      <td>1.007940</td>\n",
       "      <td>4.4234</td>\n",
       "      <td>1.6499</td>\n",
       "      <td>-3.5459</td>\n",
       "    </tr>\n",
       "  </tbody>\n",
       "</table>\n",
       "</div>"
      ],
      "text/plain": [
       "    numéro atomique  masse atomique        x       y       z\n",
       "0               6.0       12.010700   1.4203 -1.0174 -0.4915\n",
       "1               6.0       12.010700  10.2933  0.2510 -0.6398\n",
       "2               6.0       12.010700   2.3897 -0.1447 -0.2215\n",
       "3               6.0       12.010700   3.2027  0.5911 -1.2537\n",
       "4               6.0       12.010700   7.7292  0.4491 -0.7290\n",
       "5               6.0       12.010700   9.0948  1.1248 -0.9869\n",
       "6               6.0       12.010700   5.4259  1.0577 -1.7704\n",
       "7               6.0       12.010700   7.3375  1.6467 -2.7848\n",
       "8               7.0       14.006700   4.6246  0.5095 -0.9391\n",
       "9               7.0       14.006700   5.2373  1.7674 -2.9609\n",
       "10              7.0       14.006700   6.4464  2.0466 -3.6315\n",
       "11              7.0       14.006700   6.8139  1.1089 -1.6319\n",
       "12             16.0       32.064999   9.0976  1.6068 -2.8053\n",
       "13              1.0        1.007940   0.8490 -1.5015  0.2960\n",
       "14              1.0        1.007940   1.1580 -1.2836 -1.5140\n",
       "15              1.0        1.007940  10.2712 -0.0019  0.4270\n",
       "16              1.0        1.007940  11.2360  0.7708 -0.8377\n",
       "17              1.0        1.007940  10.2847 -0.6795 -1.2164\n",
       "18              1.0        1.007940   2.6424  0.0920  0.8119\n",
       "19              1.0        1.007940   2.8755  1.6483 -1.2756\n",
       "20              1.0        1.007940   2.9683  0.1791 -2.2531\n",
       "21              1.0        1.007940   7.4075  0.5854  0.3075\n",
       "22              1.0        1.007940   7.7735 -0.6288 -0.9393\n",
       "23              1.0        1.007940   9.1379  2.0649 -0.4280\n",
       "24              1.0        1.007940   4.4234  1.6499 -3.5459"
      ]
     },
     "metadata": {},
     "output_type": "display_data"
    }
   ],
   "source": [
    "def affichage_donnees_molecule(dataset, index):\n",
    "    \n",
    "    print()\n",
    "    print()\n",
    "    print(\"index molécule \"+str(index))\n",
    "    \n",
    "    print()\n",
    "    print(\"id pubchem : \"+str(dataset[\"pubchem_id\"][index]))\n",
    "    \n",
    "    print()\n",
    "    coords = dataset[\"riken_coords\"][index].reshape(-1,3)    \n",
    "    df = pd.DataFrame(columns = ['numéro atomique', 'masse atomique', 'x', 'y', 'z'],\n",
    "                      data = np.array([dataset[\"anums\"][index], \n",
    "                              dataset[\"amasses\"][index], \n",
    "                              coords[:, 0],\n",
    "                              coords[:, 1],\n",
    "                              coords[:, 2]]).T)\n",
    "    \n",
    "    display(df)\n",
    "\n",
    "affichage_donnees_molecule(original_dataset, 15000)\n",
    "\n"
   ]
  },
  {
   "cell_type": "markdown",
   "metadata": {},
   "source": [
    "#### Définition d'une fonction pour charger le jeu de données complet comme DataFrame Pandas"
   ]
  },
  {
   "cell_type": "code",
   "execution_count": null,
   "metadata": {},
   "outputs": [],
   "source": [
    "def chargement_database_df(dataset):\n",
    "    \n",
    "    df = pd.DataFrame(columns = [\"pubchem id\", \"numéros atomiques\", \"masses atomiques\", \"coordonnées\"],\n",
    "                      data = np.array([dataset[\"pubchem_id\"], \n",
    "                              dataset[\"anums\"],\n",
    "                              dataset[\"amasses\"],\n",
    "                              dataset[\"riken_coords\"]]).T)\n",
    "\n",
    "    return df\n",
    "\n",
    "database_df = chargement_database_df(original_dataset)"
   ]
  },
  {
   "cell_type": "markdown",
   "metadata": {},
   "source": [
    "#### Affichage des premières valeurs du jeu de données complet"
   ]
  },
  {
   "cell_type": "code",
   "execution_count": null,
   "metadata": {},
   "outputs": [],
   "source": [
    "database_df.head()"
   ]
  },
  {
   "cell_type": "markdown",
   "metadata": {},
   "source": [
    "#### Description des données"
   ]
  },
  {
   "cell_type": "code",
   "execution_count": null,
   "metadata": {},
   "outputs": [],
   "source": [
    "database_df.describe()"
   ]
  },
  {
   "cell_type": "markdown",
   "metadata": {},
   "source": [
    "### Travail sur un jeu de données fictif de même structure mais de petite taille pour expérimentation\n",
    "\n",
    "#### Génération du jeu de données fictives"
   ]
  },
  {
   "cell_type": "code",
   "execution_count": 5,
   "metadata": {},
   "outputs": [
    {
     "name": "stdout",
     "output_type": "stream",
     "text": [
      "\n",
      "\n",
      "index molécule 1\n",
      "\n",
      "id pubchem : 1\n",
      "\n"
     ]
    },
    {
     "data": {
      "text/html": [
       "<div>\n",
       "<style scoped>\n",
       "    .dataframe tbody tr th:only-of-type {\n",
       "        vertical-align: middle;\n",
       "    }\n",
       "\n",
       "    .dataframe tbody tr th {\n",
       "        vertical-align: top;\n",
       "    }\n",
       "\n",
       "    .dataframe thead th {\n",
       "        text-align: right;\n",
       "    }\n",
       "</style>\n",
       "<table border=\"1\" class=\"dataframe\">\n",
       "  <thead>\n",
       "    <tr style=\"text-align: right;\">\n",
       "      <th></th>\n",
       "      <th>numéro atomique</th>\n",
       "      <th>masse atomique</th>\n",
       "      <th>x</th>\n",
       "      <th>y</th>\n",
       "      <th>z</th>\n",
       "    </tr>\n",
       "  </thead>\n",
       "  <tbody>\n",
       "    <tr>\n",
       "      <th>0</th>\n",
       "      <td>99</td>\n",
       "      <td>283</td>\n",
       "      <td>10</td>\n",
       "      <td>-43</td>\n",
       "      <td>57</td>\n",
       "    </tr>\n",
       "    <tr>\n",
       "      <th>1</th>\n",
       "      <td>99</td>\n",
       "      <td>76</td>\n",
       "      <td>-21</td>\n",
       "      <td>28</td>\n",
       "      <td>79</td>\n",
       "    </tr>\n",
       "  </tbody>\n",
       "</table>\n",
       "</div>"
      ],
      "text/plain": [
       "   numéro atomique  masse atomique   x   y   z\n",
       "0               99             283  10 -43  57\n",
       "1               99              76 -21  28  79"
      ]
     },
     "metadata": {},
     "output_type": "display_data"
    }
   ],
   "source": [
    "import numpy as np\n",
    "from random import randint\n",
    "\n",
    "\n",
    "def generer_seq(taille, a, b):\n",
    "    return np.random.randint(a, b, taille)\n",
    "    \n",
    "def generer_dataset_fictif(taille, nb_atomes_max_mol):\n",
    "    dataset = {}\n",
    "    \n",
    "    pubchem_id = []\n",
    "    anums = []\n",
    "    amasses = []\n",
    "    riken_coords = []\n",
    "\n",
    "    for i in range(taille):\n",
    "        pubchem_id.append(i)\n",
    "\n",
    "        nb_atomes = randint(1, nb_atomes_max_mol)\n",
    "        anums.append(generer_seq(nb_atomes, 1, 100))\n",
    "        amasses.append(generer_seq(nb_atomes, 1, 300))\n",
    "        riken_coords.append(generer_seq(nb_atomes*3, -100, 100))\n",
    "    \n",
    "    dataset[\"pubchem_id\"] = pubchem_id\n",
    "    dataset[\"anums\"] = anums\n",
    "    dataset[\"amasses\"] = amasses\n",
    "    dataset[\"riken_coords\"] = riken_coords\n",
    "        \n",
    "    return dataset\n",
    "\n",
    "dataset_fictif = generer_dataset_fictif(2 , 3)\n",
    "        \n",
    "    \n",
    "affichage_donnees_molecule(dataset_fictif, 1)\n",
    "    "
   ]
  },
  {
   "cell_type": "markdown",
   "metadata": {},
   "source": [
    "### Travail sur un sous-ensemble du jeu de données pour expérimentation\n",
    "\n",
    "#### Création d'un fichier h5 contenant les n premiers exemples du jeu original"
   ]
  },
  {
   "cell_type": "code",
   "execution_count": 7,
   "metadata": {},
   "outputs": [
    {
     "name": "stdout",
     "output_type": "stream",
     "text": [
      "Copie des données...\n",
      "Jeu minimal enregistré avec succès\n",
      "--- 0.007838726043701172 seconds ---\n"
     ]
    }
   ],
   "source": [
    "import time\n",
    "\n",
    "def creer_h5_ss_ensemble(original_dataset_filename, dataset_dest_filename, taille):\n",
    "    \n",
    "    start_time = time.time()\n",
    "\n",
    "    # Ouverture du dataset d'entrée en lecture seule\n",
    "    original_dataset =  h5py.File(original_dataset_filename, 'r')\n",
    "    \n",
    "    # Création du dataset minimal de sortie\n",
    "    dataset_reduit_h5 = h5py.File(dataset_dest_filename, 'w')\n",
    "    \n",
    "    try:\n",
    "        # Définition du type spécial\n",
    "        varlen_floatarray = h5py.special_dtype(vlen=np.dtype(\"float32\"))\n",
    "\n",
    "        print(\"Copie des données...\")\n",
    "        \n",
    "        # Copie des premières valeurs de la colonne pubchem_id\n",
    "        dataset_reduit_h5.create_dataset(\"pubchem_id\", shape=(taille,),\n",
    "                                       dtype=np.int32, compression=\"gzip\", \n",
    "                                       chunks=True, maxshape=(None,), \n",
    "                                       data=original_dataset[\"pubchem_id\"][:taille])\n",
    "\n",
    "        # Copie des premières valeurs des autres colonnes\n",
    "        cols = [\"anums\", \"amasses\", \"riken_coords\"]  \n",
    "        for col_name in cols:\n",
    "            dataset_reduit_h5.create_dataset(col_name, shape=(taille,),\n",
    "                                           dtype=varlen_floatarray, compression=\"gzip\", \n",
    "                                           chunks=True, maxshape=(None,), \n",
    "                                           data=original_dataset[col_name][:taille])\n",
    "\n",
    "        dataset_reduit_h5.flush()\n",
    "        print(\"Jeu minimal enregistré avec succès\")\n",
    "        print(\"--- %s seconds ---\" % (time.time() - start_time))\n",
    "        \n",
    "    finally:\n",
    "        dataset_reduit_h5.close()\n",
    "\n",
    "\n",
    "        \n",
    "\n",
    "        \n",
    "creer_h5_ss_ensemble(dataset_location, minimal_dataset_location, 2)\n",
    "\n",
    "\n"
   ]
  },
  {
   "cell_type": "code",
   "execution_count": null,
   "metadata": {},
   "outputs": [],
   "source": []
  },
  {
   "cell_type": "code",
   "execution_count": null,
   "metadata": {},
   "outputs": [],
   "source": []
  },
  {
   "cell_type": "code",
   "execution_count": null,
   "metadata": {},
   "outputs": [],
   "source": []
  },
  {
   "cell_type": "code",
   "execution_count": null,
   "metadata": {},
   "outputs": [],
   "source": []
  },
  {
   "cell_type": "code",
   "execution_count": null,
   "metadata": {},
   "outputs": [],
   "source": []
  },
  {
   "cell_type": "markdown",
   "metadata": {},
   "source": [
    "#### Définition d'une fonction pour séparer les données en un jeu de test et un jeu d'entraînement"
   ]
  },
  {
   "cell_type": "code",
   "execution_count": 5,
   "metadata": {},
   "outputs": [],
   "source": [
    "from sklearn.model_selection import train_test_split\n",
    "import time\n",
    "\n",
    "def split_jeux(original_dataset_filename, train_dataset_filename, test_dataset_filename, test_size=0.1):\n",
    "    \"\"\" Fonction prenant un dataset h5 en entrée et le séparant en un jeu d'entraînement et un jeu de test,\n",
    "    qu'elle enregistre\"\"\"\n",
    "    \n",
    "\n",
    "    # On charge le jeu de données original (en lecture seule)\n",
    "    original_dataset = h5py.File(original_dataset_filename, 'r')  \n",
    "\n",
    "    # On créé un tableau numpy contenant toutes les données\n",
    "    print(\"Loading the data...\")\n",
    "    data = np.array([np.int32(original_dataset[\"pubchem_id\"]), \n",
    "              np.asarray(original_dataset[\"anums\"]),\n",
    "              np.asarray(original_dataset[\"amasses\"]),\n",
    "              np.asarray(original_dataset[\"riken_coords\"])]).T\n",
    "    \n",
    "    # On fait appel à scikit learn pour séparer les données de façon aléatoire\n",
    "    print(\"Separation of the data...\")\n",
    "    train_set, test_set = train_test_split(data, test_size=test_size, random_state = 12)\n",
    "    \n",
    "    \n",
    "    # On créé deux fichiers h5\n",
    "    print(\"Creating h5 files...\")\n",
    "    train_set_h5 = h5py.File(train_dataset_filename, 'w')\n",
    "    test_set_h5 = h5py.File(test_dataset_filename, 'w')\n",
    "\n",
    "    try:\n",
    "        # Définition du type pour les tableaux de floats\n",
    "        varlen_floatarray = h5py.special_dtype(vlen=np.dtype(\"float32\"))\n",
    "\n",
    "        # Calcul de la taille des deux datasets de sortie\n",
    "        train_size = len(train_set)\n",
    "        test_size = len(test_set)\n",
    "        \n",
    "        col_names = [\"pubchem_id\", \"anums\", \"amasses\", \"riken_coords\"]\n",
    "        datatypes = [np.int32, varlen_floatarray, varlen_floatarray, varlen_floatarray]\n",
    "\n",
    "        train_datasets = []\n",
    "        test_datasets = []\n",
    "        \n",
    "        # On créé les quatre datasets (un par colonne) par fichier de sortie\n",
    "        print(\"Creating datasets...\")\n",
    "        for i in range(4):\n",
    "            \n",
    "            train_datasets.append(train_set_h5.create_dataset(col_names[i], shape=(train_size,),\n",
    "                                       dtype=datatypes[i], compression=\"gzip\", \n",
    "                                       chunks=True, maxshape=(None,)))\n",
    "\n",
    "            test_datasets.append(test_set_h5.create_dataset(col_names[i], shape=(test_size,),\n",
    "                                       dtype=datatypes[i], compression=\"gzip\", \n",
    "                                       chunks=True, maxshape=(None,)))\n",
    "\n",
    "            \n",
    "            \n",
    "        # On écrit le dataset d'entraînement en mémoire\n",
    "        print(\"Writing train set in memory\")\n",
    "        for i in range(train_size):\n",
    "            j=0\n",
    "            for col_name in col_names:\n",
    "                train_datasets[j][i] = train_set[i][j]\n",
    "                j += 1\n",
    "        \n",
    "        # On écrit le dataset de test en mémoire\n",
    "        print(\"Writing test set in memory\")\n",
    "        for i in range(test_size):\n",
    "            j=0\n",
    "            for col_name in col_names:\n",
    "                test_datasets[j][i] = test_set[i][j]\n",
    "                j += 1\n",
    "\n",
    "\n",
    "        \n",
    "        # On écrit les datasets sur le disque\n",
    "        print(\"Writing train set to disk...\")\n",
    "        train_set_h5.flush()\n",
    "\n",
    "        print(\"Writing test set to disk...\")\n",
    "        test_set_h5.flush()\n",
    "        \n",
    "        print(\"Succesful creation of a train set and a test set\")\n",
    "\n",
    "        \n",
    "    finally:\n",
    "        # Closing the files\n",
    "        original_dataset.close()\n",
    "        train_set_h5.close()\n",
    "        test_set_h5.close()\n"
   ]
  },
  {
   "cell_type": "code",
   "execution_count": 6,
   "metadata": {},
   "outputs": [
    {
     "name": "stdout",
     "output_type": "stream",
     "text": [
      "Loading the data...\n",
      "Separation of the data...\n",
      "Creating h5 files...\n",
      "Creating datasets...\n",
      "Writing train set in memory\n",
      "Writing test set in memory\n",
      "Writing train set to disk...\n",
      "Writing test set to disk...\n",
      "Succesful creation of a train set and a test set\n"
     ]
    }
   ],
   "source": [
    "\n",
    "split_jeux(minimal_dataset_location, train_dataset_location, test_dataset_location)\n"
   ]
  },
  {
   "cell_type": "code",
   "execution_count": null,
   "metadata": {},
   "outputs": [],
   "source": []
  },
  {
   "cell_type": "code",
   "execution_count": null,
   "metadata": {},
   "outputs": [],
   "source": []
  },
  {
   "cell_type": "code",
   "execution_count": null,
   "metadata": {},
   "outputs": [],
   "source": []
  },
  {
   "cell_type": "code",
   "execution_count": null,
   "metadata": {},
   "outputs": [],
   "source": []
  },
  {
   "cell_type": "code",
   "execution_count": 30,
   "metadata": {},
   "outputs": [
    {
     "ename": "NameError",
     "evalue": "name 'original_dataset_file' is not defined",
     "output_type": "error",
     "traceback": [
      "\u001b[0;31m---------------------------------------------------------------------------\u001b[0m",
      "\u001b[0;31mNameError\u001b[0m                                 Traceback (most recent call last)",
      "\u001b[0;32m<ipython-input-30-9b4168085efe>\u001b[0m in \u001b[0;36m<module>\u001b[0;34m()\u001b[0m\n\u001b[1;32m      2\u001b[0m \u001b[0;34m\u001b[0m\u001b[0m\n\u001b[1;32m      3\u001b[0m \u001b[0;31m# Fermeture du jeu de données original\u001b[0m\u001b[0;34m\u001b[0m\u001b[0;34m\u001b[0m\u001b[0m\n\u001b[0;32m----> 4\u001b[0;31m \u001b[0moriginal_dataset_file\u001b[0m\u001b[0;34m.\u001b[0m\u001b[0mclose\u001b[0m\u001b[0;34m(\u001b[0m\u001b[0;34m)\u001b[0m\u001b[0;34m\u001b[0m\u001b[0m\n\u001b[0m",
      "\u001b[0;31mNameError\u001b[0m: name 'original_dataset_file' is not defined"
     ]
    }
   ],
   "source": [
    "\n",
    "\n",
    "# Fermeture du jeu de données original\n",
    "original_dataset_file.close()"
   ]
  },
  {
   "cell_type": "code",
   "execution_count": null,
   "metadata": {},
   "outputs": [],
   "source": []
  },
  {
   "cell_type": "code",
   "execution_count": null,
   "metadata": {},
   "outputs": [],
   "source": []
  },
  {
   "cell_type": "code",
   "execution_count": null,
   "metadata": {},
   "outputs": [],
   "source": []
  }
 ],
 "metadata": {
  "kernelspec": {
   "display_name": "Python 3",
   "language": "python",
   "name": "python3"
  },
  "language_info": {
   "codemirror_mode": {
    "name": "ipython",
    "version": 3
   },
   "file_extension": ".py",
   "mimetype": "text/x-python",
   "name": "python",
   "nbconvert_exporter": "python",
   "pygments_lexer": "ipython3",
   "version": "3.6.4"
  }
 },
 "nbformat": 4,
 "nbformat_minor": 2
}
