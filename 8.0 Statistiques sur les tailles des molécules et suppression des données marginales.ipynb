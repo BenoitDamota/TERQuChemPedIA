{
 "cells": [
  {
   "cell_type": "markdown",
   "metadata": {
    "collapsed": true
   },
   "source": [
    "## Statistiques sur les tailles des molécules et suppression des données marginales\n",
    "\n",
    "Nous avons remarqué lors de la création des jeux de données qu'il existe des molécules vides dans les données, et nous nous doutons que la représentation des molécules de différentes tailles n'est pas uniforme et que le jeu de données contient moins d'exemples de molécules de grande taille.\n",
    "\n",
    "Dans l'idée de travailler sur un jeu plus propre (contenant moins de données aberrantes) et de travailler sur des molécules plus petites afin de gagner de la mémoire et du temps d'exécution, nous allons créer un nouveau jeu de données contenant les molécules de tailles supérieures ou égales à 2, et inférieures à un certain seuil que nous allons déterminer en analysant la distribution des tailles de molécules dans le jeu.\n",
    "\n",
    "La taille maximale des molécules que nous retenons est 60. En effet, aucune taille n'est représentée plus de 162 fois au dela de ce seuil, alors que la taille la plus représentée (30) est présente plus de 200000 fois.\n",
    "\n"
   ]
  },
  {
   "cell_type": "markdown",
   "metadata": {},
   "source": [
    "#### Recherche de la molécule de plus grande taille"
   ]
  },
  {
   "cell_type": "code",
   "execution_count": 9,
   "metadata": {},
   "outputs": [
    {
     "ename": "KeyboardInterrupt",
     "evalue": "",
     "output_type": "error",
     "traceback": [
      "\u001b[0;31m---------------------------------------------------------------------------\u001b[0m",
      "\u001b[0;31mKeyboardInterrupt\u001b[0m                         Traceback (most recent call last)",
      "\u001b[0;32m<ipython-input-9-329f1ab93b25>\u001b[0m in \u001b[0;36m<module>\u001b[0;34m()\u001b[0m\n\u001b[1;32m      7\u001b[0m \u001b[0mmax_len\u001b[0m \u001b[0;34m=\u001b[0m \u001b[0;36m0\u001b[0m\u001b[0;34m\u001b[0m\u001b[0m\n\u001b[1;32m      8\u001b[0m \u001b[0;34m\u001b[0m\u001b[0m\n\u001b[0;32m----> 9\u001b[0;31m \u001b[0;32mfor\u001b[0m \u001b[0manums_mol\u001b[0m \u001b[0;32min\u001b[0m \u001b[0manums\u001b[0m\u001b[0;34m:\u001b[0m\u001b[0;34m\u001b[0m\u001b[0m\n\u001b[0m\u001b[1;32m     10\u001b[0m \u001b[0;34m\u001b[0m\u001b[0m\n\u001b[1;32m     11\u001b[0m     \u001b[0;32mif\u001b[0m \u001b[0mlen\u001b[0m\u001b[0;34m(\u001b[0m\u001b[0manums_mol\u001b[0m\u001b[0;34m)\u001b[0m \u001b[0;34m>\u001b[0m \u001b[0mmax_len\u001b[0m\u001b[0;34m:\u001b[0m\u001b[0;34m\u001b[0m\u001b[0m\n",
      "\u001b[0;32m~/anaconda3/lib/python3.6/site-packages/h5py/_hl/dataset.py\u001b[0m in \u001b[0;36m__iter__\u001b[0;34m(self)\u001b[0m\n\u001b[1;32m    394\u001b[0m             \u001b[0;32mraise\u001b[0m \u001b[0mTypeError\u001b[0m\u001b[0;34m(\u001b[0m\u001b[0;34m\"Can't iterate over a scalar dataset\"\u001b[0m\u001b[0;34m)\u001b[0m\u001b[0;34m\u001b[0m\u001b[0m\n\u001b[1;32m    395\u001b[0m         \u001b[0;32mfor\u001b[0m \u001b[0mi\u001b[0m \u001b[0;32min\u001b[0m \u001b[0mxrange\u001b[0m\u001b[0;34m(\u001b[0m\u001b[0mshape\u001b[0m\u001b[0;34m[\u001b[0m\u001b[0;36m0\u001b[0m\u001b[0;34m]\u001b[0m\u001b[0;34m)\u001b[0m\u001b[0;34m:\u001b[0m\u001b[0;34m\u001b[0m\u001b[0m\n\u001b[0;32m--> 396\u001b[0;31m             \u001b[0;32myield\u001b[0m \u001b[0mself\u001b[0m\u001b[0;34m[\u001b[0m\u001b[0mi\u001b[0m\u001b[0;34m]\u001b[0m\u001b[0;34m\u001b[0m\u001b[0m\n\u001b[0m\u001b[1;32m    397\u001b[0m \u001b[0;34m\u001b[0m\u001b[0m\n\u001b[1;32m    398\u001b[0m \u001b[0;34m\u001b[0m\u001b[0m\n",
      "\u001b[0;32mh5py/_objects.pyx\u001b[0m in \u001b[0;36mh5py._objects.with_phil.wrapper\u001b[0;34m()\u001b[0m\n",
      "\u001b[0;32mh5py/_objects.pyx\u001b[0m in \u001b[0;36mh5py._objects.with_phil.wrapper\u001b[0;34m()\u001b[0m\n",
      "\u001b[0;32m~/anaconda3/lib/python3.6/site-packages/h5py/_hl/dataset.py\u001b[0m in \u001b[0;36m__getitem__\u001b[0;34m(self, args)\u001b[0m\n\u001b[1;32m    452\u001b[0m         \u001b[0;31m# === Check for zero-sized datasets =====\u001b[0m\u001b[0;34m\u001b[0m\u001b[0;34m\u001b[0m\u001b[0m\n\u001b[1;32m    453\u001b[0m \u001b[0;34m\u001b[0m\u001b[0m\n\u001b[0;32m--> 454\u001b[0;31m         \u001b[0;32mif\u001b[0m \u001b[0mnumpy\u001b[0m\u001b[0;34m.\u001b[0m\u001b[0mproduct\u001b[0m\u001b[0;34m(\u001b[0m\u001b[0mself\u001b[0m\u001b[0;34m.\u001b[0m\u001b[0mshape\u001b[0m\u001b[0;34m)\u001b[0m \u001b[0;34m==\u001b[0m \u001b[0;36m0\u001b[0m\u001b[0;34m:\u001b[0m\u001b[0;34m\u001b[0m\u001b[0m\n\u001b[0m\u001b[1;32m    455\u001b[0m             \u001b[0;31m# These are the only access methods NumPy allows for such objects\u001b[0m\u001b[0;34m\u001b[0m\u001b[0;34m\u001b[0m\u001b[0m\n\u001b[1;32m    456\u001b[0m             \u001b[0;32mif\u001b[0m \u001b[0margs\u001b[0m \u001b[0;34m==\u001b[0m \u001b[0;34m(\u001b[0m\u001b[0mEllipsis\u001b[0m\u001b[0;34m,\u001b[0m\u001b[0;34m)\u001b[0m \u001b[0;32mor\u001b[0m \u001b[0margs\u001b[0m \u001b[0;34m==\u001b[0m \u001b[0mtuple\u001b[0m\u001b[0;34m(\u001b[0m\u001b[0;34m)\u001b[0m\u001b[0;34m:\u001b[0m\u001b[0;34m\u001b[0m\u001b[0m\n",
      "\u001b[0;32mh5py/_objects.pyx\u001b[0m in \u001b[0;36mh5py._objects.with_phil.wrapper\u001b[0;34m()\u001b[0m\n",
      "\u001b[0;32mh5py/_objects.pyx\u001b[0m in \u001b[0;36mh5py._objects.with_phil.wrapper\u001b[0;34m()\u001b[0m\n",
      "\u001b[0;32m~/anaconda3/lib/python3.6/site-packages/h5py/_hl/dataset.py\u001b[0m in \u001b[0;36mshape\u001b[0;34m(self)\u001b[0m\n\u001b[1;32m    223\u001b[0m     \u001b[0;32mdef\u001b[0m \u001b[0mshape\u001b[0m\u001b[0;34m(\u001b[0m\u001b[0mself\u001b[0m\u001b[0;34m)\u001b[0m\u001b[0;34m:\u001b[0m\u001b[0;34m\u001b[0m\u001b[0m\n\u001b[1;32m    224\u001b[0m         \u001b[0;34m\"\"\"Numpy-style shape tuple giving dataset dimensions\"\"\"\u001b[0m\u001b[0;34m\u001b[0m\u001b[0m\n\u001b[0;32m--> 225\u001b[0;31m         \u001b[0;32mreturn\u001b[0m \u001b[0mself\u001b[0m\u001b[0;34m.\u001b[0m\u001b[0mid\u001b[0m\u001b[0;34m.\u001b[0m\u001b[0mshape\u001b[0m\u001b[0;34m\u001b[0m\u001b[0m\n\u001b[0m\u001b[1;32m    226\u001b[0m     \u001b[0;34m@\u001b[0m\u001b[0mshape\u001b[0m\u001b[0;34m.\u001b[0m\u001b[0msetter\u001b[0m\u001b[0;34m\u001b[0m\u001b[0m\n\u001b[1;32m    227\u001b[0m     \u001b[0;34m@\u001b[0m\u001b[0mwith_phil\u001b[0m\u001b[0;34m\u001b[0m\u001b[0m\n",
      "\u001b[0;31mKeyboardInterrupt\u001b[0m: "
     ]
    }
   ],
   "source": [
    "import h5py\n",
    "\n",
    "riken_data = h5py.File(\"../data/riken_v2.h5\")\n",
    "\n",
    "anums = riken_data[\"anums\"]\n",
    "\n",
    "max_len = 0\n",
    "\n",
    "for anums_mol in anums:\n",
    "    \n",
    "    if len(anums_mol) > max_len:\n",
    "        max_len = len(anums_mol)\n",
    "\n",
    "print(\"La taille de la molécule de plus grande taille est : \"+str(max_len))\n",
    "\n"
   ]
  },
  {
   "cell_type": "markdown",
   "metadata": {},
   "source": [
    "##### Sortie \n",
    "\n",
    "La taille de la molécule de plus grande taille est : 137\n"
   ]
  },
  {
   "cell_type": "markdown",
   "metadata": {},
   "source": [
    "#### Distribution des tailles"
   ]
  },
  {
   "cell_type": "code",
   "execution_count": 11,
   "metadata": {},
   "outputs": [],
   "source": [
    "import h5py\n",
    "import numpy as np\n",
    "\n",
    "riken_data = h5py.File(\"../data/riken_v2.h5\")\n",
    "\n",
    "anums = riken_data[\"anums\"]\n",
    "\n",
    "np_tailles = np.zeros(shape=(150,))\n",
    "\n",
    "for anums_mol in anums:\n",
    "    \n",
    "    taille = len(anums_mol)\n",
    "    np_tailles[taille] += 1\n",
    "    \n",
    "    \n"
   ]
  },
  {
   "cell_type": "markdown",
   "metadata": {},
   "source": [
    "#### Représentation graphique des tailles"
   ]
  },
  {
   "cell_type": "code",
   "execution_count": 12,
   "metadata": {},
   "outputs": [
    {
     "data": {
      "image/png": "[encoded data removed]",
      "text/plain": [
       "<matplotlib.figure.Figure at 0x7f1508e7bda0>"
      ]
     },
     "metadata": {},
     "output_type": "display_data"
    }
   ],
   "source": [
    "%matplotlib inline  \n",
    "import matplotlib.pyplot as plt\n",
    "\n",
    "\n",
    "plt.plot(np_tailles)\n",
    "plt.ylabel(\"Nombre de molécules\")\n",
    "plt.xlabel(\"Nombre d'atomes\")\n",
    "plt.savefig(\"../figures/8.0_distribution_molécules.png\")\n",
    "plt.show()"
   ]
  },
  {
   "cell_type": "markdown",
   "metadata": {},
   "source": [
    "#### Tableau des tailles"
   ]
  },
  {
   "cell_type": "code",
   "execution_count": 13,
   "metadata": {
    "scrolled": false
   },
   "outputs": [
    {
     "name": "stdout",
     "output_type": "stream",
     "text": [
      "            0\n",
      "0        26.0\n",
      "1        37.0\n",
      "2       231.0\n",
      "3       242.0\n",
      "4       426.0\n",
      "5       947.0\n",
      "6      1317.0\n",
      "7      1997.0\n",
      "8      3055.0\n",
      "9      4363.0\n",
      "10     6743.0\n",
      "11     9310.0\n",
      "12    13581.0\n",
      "13    18102.0\n",
      "14    25974.0\n",
      "15    33444.0\n",
      "16    43319.0\n",
      "17    53984.0\n",
      "18    67005.0\n",
      "19    79186.0\n",
      "20    94375.0\n",
      "21   108665.0\n",
      "22   126069.0\n",
      "23   143721.0\n",
      "24   160675.0\n",
      "25   171388.0\n",
      "26   188952.0\n",
      "27   195435.0\n",
      "28   203662.0\n",
      "29   201038.0\n",
      "30   213096.0\n",
      "31   186110.0\n",
      "32   187751.0\n",
      "33   177544.0\n",
      "34   161574.0\n",
      "35   148329.0\n",
      "36   128365.0\n",
      "37   111839.0\n",
      "38    96358.0\n",
      "39    74291.0\n",
      "40    57552.0\n",
      "41    47343.0\n",
      "42    36655.0\n",
      "43    24208.0\n",
      "44    13807.0\n",
      "45    16335.0\n",
      "46    15086.0\n",
      "47     7778.0\n",
      "48     2134.0\n",
      "49     6320.0\n",
      "50     1754.0\n",
      "51      819.0\n",
      "52      645.0\n",
      "53      695.0\n",
      "54      555.0\n",
      "55      407.0\n",
      "56      443.0\n",
      "57      338.0\n",
      "58      280.0\n",
      "59      256.0\n",
      "60      213.0\n",
      "61      162.0\n",
      "62      140.0\n",
      "63      127.0\n",
      "64      103.0\n",
      "65       65.0\n",
      "66       78.0\n",
      "67       44.0\n",
      "68       47.0\n",
      "69       39.0\n",
      "70       35.0\n",
      "71       33.0\n",
      "72       51.0\n",
      "73       28.0\n",
      "74       34.0\n",
      "75       21.0\n",
      "76       22.0\n",
      "77        9.0\n",
      "78       21.0\n",
      "79        9.0\n",
      "80       19.0\n",
      "81       12.0\n",
      "82       15.0\n",
      "83        9.0\n",
      "84        8.0\n",
      "85        7.0\n",
      "86        4.0\n",
      "87        6.0\n",
      "88        4.0\n",
      "89        4.0\n",
      "90        7.0\n",
      "91        6.0\n",
      "92        2.0\n",
      "93        4.0\n",
      "94        4.0\n",
      "95        3.0\n",
      "96        9.0\n",
      "97        0.0\n",
      "98        4.0\n",
      "99        1.0\n",
      "100       1.0\n",
      "101       0.0\n",
      "102       0.0\n",
      "103       0.0\n",
      "104       2.0\n",
      "105       0.0\n",
      "106       1.0\n",
      "107       0.0\n",
      "108       1.0\n",
      "109       0.0\n",
      "110       1.0\n",
      "111       0.0\n",
      "112       2.0\n",
      "113       0.0\n",
      "114       0.0\n",
      "115       1.0\n",
      "116       0.0\n",
      "117       0.0\n",
      "118       0.0\n",
      "119       0.0\n",
      "120       0.0\n",
      "121       0.0\n",
      "122       1.0\n",
      "123       0.0\n",
      "124       0.0\n",
      "125       0.0\n",
      "126       0.0\n",
      "127       0.0\n",
      "128       0.0\n",
      "129       0.0\n",
      "130       0.0\n",
      "131       0.0\n",
      "132       0.0\n",
      "133       0.0\n",
      "134       0.0\n",
      "135       0.0\n",
      "136       0.0\n",
      "137       1.0\n",
      "138       0.0\n",
      "139       0.0\n",
      "140       0.0\n",
      "141       0.0\n",
      "142       0.0\n",
      "143       0.0\n",
      "144       0.0\n",
      "145       0.0\n",
      "146       0.0\n",
      "147       0.0\n",
      "148       0.0\n",
      "149       0.0\n"
     ]
    }
   ],
   "source": [
    "import pandas as pd\n",
    "\n",
    "df = pd.DataFrame(np_tailles)\n",
    "\n",
    "def print_full(x):\n",
    "    \"\"\" Permet d'afficher le tableau entier, solution prise sur \n",
    "    https://stackoverflow.com/questions/19124601/is-there-a-way-to-pretty-print-the-entire-pandas-series-dataframe\"\"\"\n",
    "    \n",
    "    pd.set_option('display.max_rows', len(x))\n",
    "    print(x)\n",
    "    pd.reset_option('display.max_rows')\n",
    "    \n",
    "print_full(df)\n"
   ]
  },
  {
   "cell_type": "markdown",
   "metadata": {},
   "source": [
    "##### Suppression des données marginales\n",
    "\n",
    "On va ici chercher à réduire le jeu de données aux molécules ayant les tailles les plus représentées, et les tailles les plus utiles pour l'apprentissage des modèles. En effet, les molécules de tailles 0 ou 1 n'ont pas d'intérêt pour nous, et les molécules de tailles trop importantes (supérieure à 60) sont peu représentées et ne constituent donc pas suffisamment d'exemples pour entraîner un RN efficace pour ces tailles."
   ]
  },
  {
   "cell_type": "code",
   "execution_count": 14,
   "metadata": {},
   "outputs": [],
   "source": [
    "import h5py\n",
    "import time\n",
    "import numpy as np\n",
    "\n",
    "def creation_jeu_reduit(original_dataset_location, reduced_dataset_location):\n",
    "    \n",
    "    start_time = time.time()    \n",
    "\n",
    "    \n",
    "    # On créé les jeux de données\n",
    "    riken_original = h5py.File(original_dataset_location, 'r')\n",
    "    riken_reduced = h5py.File(reduced_dataset_location, 'w')\n",
    "\n",
    "    # On calcule le nombre d'exemples à garder du jeu initial\n",
    "    taille_reduced = np.sum(np_tailles[2:60])\n",
    "\n",
    "    try:\n",
    "        # On créé les nouveaux datasets\n",
    "        varlen_floatarray = h5py.special_dtype(vlen=np.dtype(\"float32\"))\n",
    "        \n",
    "        pubchem_id = riken_reduced.create_dataset(\"pubchem_id\", shape=(taille_reduced,), dtype=np.int32,\n",
    "                                                  compression='gzip', chunks=True)\n",
    "\n",
    "        anums = riken_reduced.create_dataset(\"anums\", shape=(taille_reduced,), dtype=varlen_floatarray,\n",
    "                                            compression='gzip', chunks=True)\n",
    "\n",
    "        amasses = riken_reduced.create_dataset(\"amasses\", shape=(taille_reduced,), dtype=varlen_floatarray,\n",
    "                                            compression='gzip', chunks=True)\n",
    "\n",
    "        riken_coords = riken_reduced.create_dataset(\"riken_coords\", shape=(taille_reduced,), \n",
    "                                                    dtype=varlen_floatarray, compression='gzip', chunks=True)\n",
    "\n",
    "\n",
    "        # On créé les nouveaux datasets en itérant sur les datasets existants\n",
    "        original_size = len(riken_original[\"pubchem_id\"])\n",
    "        reduced_idx = 0\n",
    "        for original_idx in range(original_size):\n",
    "            \n",
    "            if (original_idx%100000 == 0):\n",
    "                print(\"Traitement molécule \"+str(original_idx))\n",
    "            \n",
    "            # On ne traite que les molécules de taille acceptable\n",
    "            curr_len = len(riken_original[\"anums\"][original_idx])\n",
    "            if curr_len >= 2 and curr_len <=60:\n",
    "                \n",
    "                # On enregistre les informations de la molécule\n",
    "                pubchem_id[reduced_idx] = riken_original[\"pubchem_id\"][original_idx]\n",
    "                anums[reduced_idx] = riken_original[\"anums\"][original_idx]\n",
    "                amasses[reduced_idx] = riken_original[\"amasses\"][original_idx]\n",
    "                riken_coords[reduced_idx] = riken_original[\"riken_coords\"][original_idx]\n",
    "                reduced_idx += 1\n",
    "                \n",
    "        riken_reduced.flush()\n",
    "        \n",
    "        print(\"--- %s seconds ---\" % (time.time() - start_time))\n",
    "\n",
    "\n",
    "    finally:\n",
    "        riken_original.close()\n",
    "        riken_reduced.close()\n"
   ]
  },
  {
   "cell_type": "code",
   "execution_count": 16,
   "metadata": {
    "scrolled": true
   },
   "outputs": [
    {
     "name": "stdout",
     "output_type": "stream",
     "text": [
      "Création jeu réduit\n",
      "Traitement molécule 0\n",
      "--- 0.013207197189331055 seconds ---\n"
     ]
    }
   ],
   "source": [
    "print(\"Création jeu réduit\")\n",
    "#creation_jeu_reduit(\"../data/riken_v2.h5\", \"../data/riken_v2_reduced.h5\")\n",
    "creation_jeu_reduit(\"../data/mini_set.h5\", \"../data/mini_set_reduced.h5\")"
   ]
  },
  {
   "cell_type": "markdown",
   "metadata": {},
   "source": [
    "#### Représentation graphique du nouveau jeu de données"
   ]
  },
  {
   "cell_type": "code",
   "execution_count": null,
   "metadata": {},
   "outputs": [],
   "source": [
    "%matplotlib inline  \n",
    "import matplotlib.pyplot as plt\n",
    "import h5py\n",
    "import numpy as np\n",
    "\n",
    "riken_data = h5py.File(\"../data/riken_v2_reduced.h5\")\n",
    "\n",
    "anums = riken_data[\"anums\"]\n",
    "\n",
    "np_tailles = np.zeros(shape=(150,))\n",
    "\n",
    "for anums_mol in anums:\n",
    "    \n",
    "    taille = len(anums_mol)\n",
    "    np_tailles[taille] += 1\n",
    "    \n",
    "    \n",
    "plt.plot(np_tailles)\n",
    "plt.ylabel(\"Nombre de molécules\")\n",
    "plt.xlabel(\"Nombre d'atomes\")\n",
    "plt.savefig(\"../figures/8.0_distribution_molécules_post_reduction.png\")\n",
    "plt.show()"
   ]
  },
  {
   "cell_type": "markdown",
   "metadata": {},
   "source": [
    "#### Tableau des tailles des nouvelles données"
   ]
  },
  {
   "cell_type": "code",
   "execution_count": 1,
   "metadata": {},
   "outputs": [
    {
     "ename": "NameError",
     "evalue": "name 'np_tailles' is not defined",
     "output_type": "error",
     "traceback": [
      "\u001b[0;31m---------------------------------------------------------------------------\u001b[0m",
      "\u001b[0;31mNameError\u001b[0m                                 Traceback (most recent call last)",
      "\u001b[0;32m<ipython-input-1-441c90d1d0d6>\u001b[0m in \u001b[0;36m<module>\u001b[0;34m()\u001b[0m\n\u001b[1;32m      1\u001b[0m \u001b[0;32mimport\u001b[0m \u001b[0mpandas\u001b[0m \u001b[0;32mas\u001b[0m \u001b[0mpd\u001b[0m\u001b[0;34m\u001b[0m\u001b[0m\n\u001b[1;32m      2\u001b[0m \u001b[0;34m\u001b[0m\u001b[0m\n\u001b[0;32m----> 3\u001b[0;31m \u001b[0mdf\u001b[0m \u001b[0;34m=\u001b[0m \u001b[0mpd\u001b[0m\u001b[0;34m.\u001b[0m\u001b[0mDataFrame\u001b[0m\u001b[0;34m(\u001b[0m\u001b[0mnp_tailles\u001b[0m\u001b[0;34m)\u001b[0m\u001b[0;34m\u001b[0m\u001b[0m\n\u001b[0m\u001b[1;32m      4\u001b[0m \u001b[0;34m\u001b[0m\u001b[0m\n\u001b[1;32m      5\u001b[0m \u001b[0;32mdef\u001b[0m \u001b[0mprint_full\u001b[0m\u001b[0;34m(\u001b[0m\u001b[0mx\u001b[0m\u001b[0;34m)\u001b[0m\u001b[0;34m:\u001b[0m\u001b[0;34m\u001b[0m\u001b[0m\n",
      "\u001b[0;31mNameError\u001b[0m: name 'np_tailles' is not defined"
     ]
    }
   ],
   "source": [
    "import pandas as pd\n",
    "\n",
    "df = pd.DataFrame(np_tailles)\n",
    "\n",
    "def print_full(x):\n",
    "    \"\"\" Permet d'afficher le tableau entier, solution prise sur \n",
    "    https://stackoverflow.com/questions/19124601/is-there-a-way-to-pretty-print-the-entire-pandas-series-dataframe\"\"\"\n",
    "    \n",
    "    pd.set_option('display.max_rows', len(x))\n",
    "    print(x)\n",
    "    pd.reset_option('display.max_rows')\n",
    "    \n",
    "print_full(df)\n"
   ]
  },
  {
   "cell_type": "code",
   "execution_count": null,
   "metadata": {},
   "outputs": [],
   "source": []
  }
 ],
 "metadata": {
  "kernelspec": {
   "display_name": "Python 3",
   "language": "python",
   "name": "python3"
  },
  "language_info": {
   "codemirror_mode": {
    "name": "ipython",
    "version": 3
   },
   "file_extension": ".py",
   "mimetype": "text/x-python",
   "name": "python",
   "nbconvert_exporter": "python",
   "pygments_lexer": "ipython3",
   "version": "3.6.4"
  }
 },
 "nbformat": 4,
 "nbformat_minor": 2
}
