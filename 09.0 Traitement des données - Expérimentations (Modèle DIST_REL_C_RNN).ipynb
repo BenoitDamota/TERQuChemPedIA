{
 "cells": [
  {
   "cell_type": "markdown",
   "metadata": {},
   "source": [
    "## Traitement des données - Expérimentations (Modèle DIST_REL_C_RNN)\n",
    "\n",
    "Après le constat que nous avons fait dans les notebooks 8.3, 8.3bis et 8.4 que les modèles DELTA_DIST+H, qui tentent de prédire les positions convergées des atomes produisent des résultats décevants à cause de la complexité de la tâche, nous allons construire un tout nouveau modèle (DIST_REL_C_RNN) qui devra prédire la distance entre deux atomes de carbones C1 et C2 partageant une liaison à partir des informations suivantes. Pour chaque atome en dehors des deux atomes de carbone :\n",
    "\n",
    "* La distance avec les deux atomes de carbone\n",
    "* La classe positionnelle de l'atome par rapport aux deux atomes de carbones. Pour la déterminer, on compare la  position de l'atome par rapport aux deux plans P1 (resp. P2) de vecteur normal C1C2 et passant par point C1 (resp. C2). Si l'atome est entre les deux plans il aura pour classe 'C', et s'il est derrière le plan P1 (resp. P2) il aura pour classe 'G' (resp 'D').\n",
    "* Le numéro atomique de l'atome (encodé en one hot encoding)\n",
    "* La masse atomique de l'atome.\n",
    "\n",
    "Dans ce notebook, on va définir une méthode pour créer le jeu de données d'entrée du modèle à partir des données sur les coordonnées des atomes dans les molécules et leurs numéros et masses atomiques.\n",
    "\n"
   ]
  },
  {
   "cell_type": "markdown",
   "metadata": {},
   "source": [
    "#### Chemins des fichiers"
   ]
  },
  {
   "cell_type": "code",
   "execution_count": 1,
   "metadata": {},
   "outputs": [],
   "source": [
    "minimal_set_reduced = \"../data/minimal_set_reduced.h5\""
   ]
  },
  {
   "cell_type": "code",
   "execution_count": null,
   "metadata": {},
   "outputs": [],
   "source": []
  },
  {
   "cell_type": "markdown",
   "metadata": {},
   "source": [
    "#### Calcul de la distance entre deux atomes"
   ]
  },
  {
   "cell_type": "code",
   "execution_count": 2,
   "metadata": {},
   "outputs": [],
   "source": [
    "import numpy as np\n",
    "\n",
    "def calcul_distance(pt1, pt2):\n",
    "    \"\"\" Renvoie la distance entre deux points représentés par leurs coordonnées (x, y, z) dans deux tableaux\n",
    "    de forme (1, 3)\"\"\"\n",
    "    return np.sqrt(np.sum(np.square(np.diff(np.array([pt1, pt2]), axis=0))))"
   ]
  },
  {
   "cell_type": "markdown",
   "metadata": {},
   "source": [
    "#### Fonction de test si les deux atomes de carbone partagent une liaison\n",
    "\n",
    "Selon les mesures moyennes des distances carbone-carbone (http://hydra.vcp.monash.edu.au/modules/mod2/bondlen.html), on considère ici que deux atomes de carbone partagent une liaison si leur distance est comprise entre 1.15 Å et 1.60 Å."
   ]
  },
  {
   "cell_type": "code",
   "execution_count": 3,
   "metadata": {},
   "outputs": [],
   "source": [
    "def existe_liaison_C(coords_c1, coords_c2):\n",
    "    dist = calcul_distance(coords_c1, coords_c2)\n",
    "    return True\n",
    "    return dist >= 1.15 and dist <= 1.54"
   ]
  },
  {
   "cell_type": "markdown",
   "metadata": {},
   "source": [
    "#### Fonction renvoyant les distances d'un atome à deux autres atomes"
   ]
  },
  {
   "cell_type": "code",
   "execution_count": 4,
   "metadata": {},
   "outputs": [],
   "source": [
    "def calcul_distances(pt1, pt_ref1, pt_ref2):\n",
    "    return np.array([calcul_distance(pt1, pt_ref1), calcul_distance(pt1, pt_ref2)])"
   ]
  },
  {
   "cell_type": "markdown",
   "metadata": {},
   "source": [
    "#### Fonction renvoyant la classe positionnelle d'un atome en fonction de sa position et des positions des deux atomes de référence. Renvoie le résultat sous forme de one-hot-encoding"
   ]
  },
  {
   "cell_type": "code",
   "execution_count": 30,
   "metadata": {},
   "outputs": [],
   "source": [
    "def get_classe_pos(pt, c1, c2):\n",
    "    \n",
    "    # Initialisation du tableau de sortie\n",
    "    classes_pos = np.zeros(shape=(3,))\n",
    "    \n",
    "    # Calcul du vecteur C1_C2\n",
    "    vect = np.diff([c1, c2], axis=0)\n",
    "    \n",
    "    # Déclaration de la matrice contenant les coordonnées des trois points g, c et d\n",
    "    gcd_pos = np.empty(shape=(3, 3))\n",
    "    \n",
    "    # Calcul du point c\n",
    "    gcd_pos[1] = np.divide([np.sum([c1, c2], axis=0)], 2)\n",
    "\n",
    "    # Calcul des points g et d\n",
    "    gcd_pos[0] = gcd_pos[1] - vect\n",
    "    gcd_pos[2] = gcd_pos[1] + vect\n",
    "        \n",
    "    # Calcul de la matrice des positions répétées du point\n",
    "    pos = np.tile(pt, 3).reshape(3, 3)\n",
    "    \n",
    "    # Calcul des distances du point avec les points g, c et d\n",
    "    dists = np.sqrt(np.sum(np.square(np.diff([gcd_pos, pos], axis=0)[0]), axis=1))\n",
    "    \n",
    "    # On renvoie le résultat encodé avec la méthode du one hot encoding\n",
    "    classes_pos[np.argmin(dists)] = 1\n",
    "    return classes_pos\n",
    "    "
   ]
  },
  {
   "cell_type": "markdown",
   "metadata": {},
   "source": [
    "#### Fonction renvoyant le numéro de l'atome encodé en one-hot encoding (pour les atomes des deux premières lignes du tableau périodique)"
   ]
  },
  {
   "cell_type": "code",
   "execution_count": 31,
   "metadata": {},
   "outputs": [],
   "source": [
    "def get_anum_one_hot(z):\n",
    "    \n",
    "    if not 0 < z < 10:\n",
    "        raise RuntimeError(\"Atomic number must be between 1 and 9\")\n",
    "    \n",
    "    one_hot = np.zeros(shape=(9,))\n",
    "    one_hot[int(z)-1] = 1\n",
    "    return one_hot\n"
   ]
  },
  {
   "cell_type": "markdown",
   "metadata": {},
   "source": [
    "#### Fonction renvoyant les données préparées pour le RN pour une molécule"
   ]
  },
  {
   "cell_type": "code",
   "execution_count": 61,
   "metadata": {},
   "outputs": [],
   "source": [
    "def donnees_prep_RN_mol(coords_mol, anums_mol, amasses_mol):\n",
    "    \n",
    "    taille_mol = len(coords_mol)\n",
    "    \n",
    "    inputs_RN = []\n",
    "    targets_RN = []\n",
    "    \n",
    "    # On itère sur tous les atomes de la molécule\n",
    "    for i in range(taille_mol):\n",
    "        \n",
    "        # On ne s'intéresse qu'aux atomes de carbone\n",
    "        if anums_mol[i] == 6.:\n",
    "            \n",
    "            # On parcourt tous les atomes suivants\n",
    "            for j in range(i+1, taille_mol):\n",
    "                \n",
    "                # On ne s'intéresse qu'aux couples d'atomes de carbone partageant une liaison\n",
    "                if anums_mol[j] == 6 and existe_liaison_C(coords_mol[i], coords_mol[j]):\n",
    "                    \n",
    "                    # On calcule la distance entre les deux atomes du couple\n",
    "                    dist_c_c = calcul_distance(coords_mol[i], coords_mol[j])\n",
    "                    \n",
    "                    # On initialise l'entrée du RN pour le couple courant\n",
    "                    input_rn = np.empty(shape=(taille_mol-2, 15))\n",
    "                    \n",
    "                    input_rn_idx = 0\n",
    "                    \n",
    "                    # On itère sur tous les atomes de la molécule (en dehors des deux atomes de carbone)\n",
    "                    for k in range(taille_mol):\n",
    "                        if k != i and k != j:\n",
    "                            \n",
    "                            # On enregistre le numéro et la masse atomique de la molécule\n",
    "                            input_rn[input_rn_idx][:9] = get_anum_one_hot(anums_mol[k])\n",
    "                            input_rn[input_rn_idx][9] = amasses_mol[k]\n",
    "                            \n",
    "                            # On enregistre les distances de l'atome aux deux atomes de carbone\n",
    "                            input_rn[input_rn_idx][10:12] = calcul_distances(coords_mol[k], coords_mol[i],\n",
    "                                                                         coords_mol[j])\n",
    "                            \n",
    "                            # On enregistre la classe positionnelle de l'atome par rapport aux deux atomes\n",
    "                            # de carbone\n",
    "                            input_rn[input_rn_idx][12:15] = get_classe_pos(coords_mol[k], coords_mol[i], \n",
    "                                                                        coords_mol[j])    \n",
    "\n",
    "                            input_rn_idx += 1\n",
    "                            \n",
    "                    # On aplatit l'entrée du RN\n",
    "                    input_rn = np.array(input_rn)\n",
    "                    input_rn = input_rn.reshape(-1,)\n",
    "                            \n",
    "                    # On enregistre l'entrée et la cible du RN pour l'atome courant\n",
    "                    inputs_RN.append(input_rn)\n",
    "                    \n",
    "                    # On enregistre la distance cible pour le couple d'atomes courant\n",
    "                    targets_RN.append(dist_c_c)   \n",
    "                    \n",
    "        else:\n",
    "            # Les carbones étant les premiers atomes de la molécule dans les données, on arrête la boucle\n",
    "            # pour gagner du temps d'exécution\n",
    "            break\n",
    "            \n",
    "    print(inputs_RN)\n",
    "    \n",
    "    return np.array(inputs_RN), np.array(targets_RN)\n",
    "            \n",
    "        \n"
   ]
  },
  {
   "cell_type": "markdown",
   "metadata": {},
   "source": [
    "#### Test de la fonction de préparation des données sur une molécule fictive (on modifie temporairement la fonction qui détecte les liaisons par une fonction qui renvoie toujours True)"
   ]
  },
  {
   "cell_type": "code",
   "execution_count": 62,
   "metadata": {},
   "outputs": [
    {
     "name": "stdout",
     "output_type": "stream",
     "text": [
      "[array([ 0.        ,  0.        ,  0.        ,  0.        ,  0.        ,\n",
      "        1.        ,  0.        ,  0.        ,  0.        , 12.        ,\n",
      "        1.        ,  2.23606798,  1.        ,  0.        ,  0.        ,\n",
      "        1.        ,  0.        ,  0.        ,  0.        ,  0.        ,\n",
      "        0.        ,  0.        ,  0.        ,  0.        ,  1.        ,\n",
      "        3.16227766,  1.41421356,  0.        ,  0.        ,  1.        ,\n",
      "        1.        ,  0.        ,  0.        ,  0.        ,  0.        ,\n",
      "        0.        ,  0.        ,  0.        ,  0.        ,  1.        ,\n",
      "        3.16227766,  4.24264069,  1.        ,  0.        ,  0.        ,\n",
      "        1.        ,  0.        ,  0.        ,  0.        ,  0.        ,\n",
      "        0.        ,  0.        ,  0.        ,  0.        ,  1.        ,\n",
      "        2.82842712,  2.        ,  0.        ,  1.        ,  0.        ,\n",
      "        1.        ,  0.        ,  0.        ,  0.        ,  0.        ,\n",
      "        0.        ,  0.        ,  0.        ,  0.        ,  1.        ,\n",
      "        2.23606798,  2.23606798,  0.        ,  1.        ,  0.        ]), array([ 0.        ,  0.        ,  0.        ,  0.        ,  0.        ,\n",
      "        1.        ,  0.        ,  0.        ,  0.        , 12.        ,\n",
      "        2.        ,  2.23606798,  1.        ,  0.        ,  0.        ,\n",
      "        1.        ,  0.        ,  0.        ,  0.        ,  0.        ,\n",
      "        0.        ,  0.        ,  0.        ,  0.        ,  1.        ,\n",
      "        3.16227766,  3.        ,  0.        ,  1.        ,  0.        ,\n",
      "        1.        ,  0.        ,  0.        ,  0.        ,  0.        ,\n",
      "        0.        ,  0.        ,  0.        ,  0.        ,  1.        ,\n",
      "        3.16227766,  2.23606798,  0.        ,  0.        ,  1.        ,\n",
      "        1.        ,  0.        ,  0.        ,  0.        ,  0.        ,\n",
      "        0.        ,  0.        ,  0.        ,  0.        ,  1.        ,\n",
      "        2.82842712,  2.23606798,  0.        ,  0.        ,  1.        ,\n",
      "        1.        ,  0.        ,  0.        ,  0.        ,  0.        ,\n",
      "        0.        ,  0.        ,  0.        ,  0.        ,  1.        ,\n",
      "        2.23606798,  3.16227766,  1.        ,  0.        ,  0.        ]), array([ 0.        ,  0.        ,  0.        ,  0.        ,  0.        ,\n",
      "        1.        ,  0.        ,  0.        ,  0.        , 12.        ,\n",
      "        2.        ,  1.        ,  0.        ,  1.        ,  0.        ,\n",
      "        1.        ,  0.        ,  0.        ,  0.        ,  0.        ,\n",
      "        0.        ,  0.        ,  0.        ,  0.        ,  1.        ,\n",
      "        1.41421356,  3.        ,  1.        ,  0.        ,  0.        ,\n",
      "        1.        ,  0.        ,  0.        ,  0.        ,  0.        ,\n",
      "        0.        ,  0.        ,  0.        ,  0.        ,  1.        ,\n",
      "        4.24264069,  2.23606798,  0.        ,  0.        ,  1.        ,\n",
      "        1.        ,  0.        ,  0.        ,  0.        ,  0.        ,\n",
      "        0.        ,  0.        ,  0.        ,  0.        ,  1.        ,\n",
      "        2.        ,  2.23606798,  0.        ,  1.        ,  0.        ,\n",
      "        1.        ,  0.        ,  0.        ,  0.        ,  0.        ,\n",
      "        0.        ,  0.        ,  0.        ,  0.        ,  1.        ,\n",
      "        2.23606798,  3.16227766,  1.        ,  0.        ,  0.        ])]\n",
      "[[ 0.          0.          0.          0.          0.          1.\n",
      "   0.          0.          0.         12.          1.          2.23606798\n",
      "   1.          0.          0.          1.          0.          0.\n",
      "   0.          0.          0.          0.          0.          0.\n",
      "   1.          3.16227766  1.41421356  0.          0.          1.\n",
      "   1.          0.          0.          0.          0.          0.\n",
      "   0.          0.          0.          1.          3.16227766  4.24264069\n",
      "   1.          0.          0.          1.          0.          0.\n",
      "   0.          0.          0.          0.          0.          0.\n",
      "   1.          2.82842712  2.          0.          1.          0.\n",
      "   1.          0.          0.          0.          0.          0.\n",
      "   0.          0.          0.          1.          2.23606798  2.23606798\n",
      "   0.          1.          0.        ]\n",
      " [ 0.          0.          0.          0.          0.          1.\n",
      "   0.          0.          0.         12.          2.          2.23606798\n",
      "   1.          0.          0.          1.          0.          0.\n",
      "   0.          0.          0.          0.          0.          0.\n",
      "   1.          3.16227766  3.          0.          1.          0.\n",
      "   1.          0.          0.          0.          0.          0.\n",
      "   0.          0.          0.          1.          3.16227766  2.23606798\n",
      "   0.          0.          1.          1.          0.          0.\n",
      "   0.          0.          0.          0.          0.          0.\n",
      "   1.          2.82842712  2.23606798  0.          0.          1.\n",
      "   1.          0.          0.          0.          0.          0.\n",
      "   0.          0.          0.          1.          2.23606798  3.16227766\n",
      "   1.          0.          0.        ]\n",
      " [ 0.          0.          0.          0.          0.          1.\n",
      "   0.          0.          0.         12.          2.          1.\n",
      "   0.          1.          0.          1.          0.          0.\n",
      "   0.          0.          0.          0.          0.          0.\n",
      "   1.          1.41421356  3.          1.          0.          0.\n",
      "   1.          0.          0.          0.          0.          0.\n",
      "   0.          0.          0.          1.          4.24264069  2.23606798\n",
      "   0.          0.          1.          1.          0.          0.\n",
      "   0.          0.          0.          0.          0.          0.\n",
      "   1.          2.          2.23606798  0.          1.          0.\n",
      "   1.          0.          0.          0.          0.          0.\n",
      "   0.          0.          0.          1.          2.23606798  3.16227766\n",
      "   1.          0.          0.        ]]\n",
      "[2.         1.         2.23606798]\n"
     ]
    }
   ],
   "source": [
    "coords = np.array([[1., 1, 0],\n",
    "                  [3., 1, 0],\n",
    "                  [1., 2, 0],\n",
    "                  [4., 2, 0],\n",
    "                  [0., 4, 0],\n",
    "                  [3., 3, 0],\n",
    "                  [2., -1, 0]])\n",
    "\n",
    "anums = np.array([6., 6, 6, 1, 1, 1, 1])\n",
    "amasses = np.array([12., 12, 12, 1, 1, 1, 1])\n",
    "\n",
    "inputs_rn, targets_rn = donnees_prep_RN_mol(coords, anums, amasses)\n",
    "print(inputs_rn)\n",
    "print(targets_rn)"
   ]
  },
  {
   "cell_type": "code",
   "execution_count": null,
   "metadata": {},
   "outputs": [],
   "source": []
  },
  {
   "cell_type": "code",
   "execution_count": null,
   "metadata": {},
   "outputs": [],
   "source": []
  }
 ],
 "metadata": {
  "kernelspec": {
   "display_name": "Python 3",
   "language": "python",
   "name": "python3"
  },
  "language_info": {
   "codemirror_mode": {
    "name": "ipython",
    "version": 3
   },
   "file_extension": ".py",
   "mimetype": "text/x-python",
   "name": "python",
   "nbconvert_exporter": "python",
   "pygments_lexer": "ipython3",
   "version": "3.6.4"
  }
 },
 "nbformat": 4,
 "nbformat_minor": 2
}
