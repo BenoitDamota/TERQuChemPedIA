{
 "cells": [
  {
   "cell_type": "markdown",
   "metadata": {},
   "source": [
    "# Traitement des distances - repère absolu\n",
    "\n",
    "Dans ce notebook, on définit des fonctions permettant de faire différents traitements sur les distances des atomes des molécules par rapport à quatre points fictifs (atomes fictifs) formant un repère orthonormé. Ces points sont placés en (0, 0, 0), (1, 0, 0), (0, 1, 0) et (0, 0, 1)\n",
    "\n",
    "\n",
    "### Génération d'un tableau de coordonnées fictives"
   ]
  },
  {
   "cell_type": "code",
   "execution_count": 2,
   "metadata": {},
   "outputs": [
    {
     "data": {
      "text/plain": [
       "array([[-0.05252438,  0.87234023,  0.46768813],\n",
       "       [-0.32343911,  0.74620304,  0.95493684],\n",
       "       [-0.10498419, -0.50055918,  0.47864919],\n",
       "       [-0.08132486,  0.57630778,  0.61401783],\n",
       "       [ 0.07518618,  0.87898277, -0.61667485],\n",
       "       [-0.96647567,  0.16370443,  0.96868209]])"
      ]
     },
     "execution_count": 2,
     "metadata": {},
     "output_type": "execute_result"
    }
   ],
   "source": [
    "import numpy as np\n",
    "\n",
    "atomes_nb = 6\n",
    "atomes_nb_incl_fictif = atomes_nb + 1\n",
    "\n",
    "\n",
    "# Génération d'une matrice de positions des atomes d'une molécule. Pour chaque atome, \n",
    "# une ligne contient 3 coordonnées x, y, z, chacune dans l'intervalle [-1,1[. \n",
    "def gen_pos(nb_atomes):\n",
    "    return (np.random.random_sample(atomes_nb*3) * 2 - 1).reshape(-1,3)\n",
    "\n",
    "\n",
    "positions = gen_pos(atomes_nb)\n",
    "positions"
   ]
  },
  {
   "cell_type": "markdown",
   "metadata": {},
   "source": [
    "### Calcul de la matrice compressée de distances\n",
    "\n",
    "Pour chaque atome de la molécule, la matrice compressée de distances contient la distance de l'atome avec les quatre points du repère absolu."
   ]
  },
  {
   "cell_type": "markdown",
   "metadata": {},
   "source": [
    "#### Calcul de la matrice de distances compressée"
   ]
  },
  {
   "cell_type": "code",
   "execution_count": 3,
   "metadata": {},
   "outputs": [],
   "source": [
    "def matrice_distances_compr(positions):\n",
    "    \"\"\" Renvoie la matrice de distances compressée des positions des atomes passées en paramètres\n",
    "    La matrice de distances compressée est définie de la façon suivante : pour chaque atome, on calcule\n",
    "    la distance avec chaque point du repère. Une ligne i de la matrice (n,4) correspond aux distances\n",
    "    de l'atome i avec chacun des quatre points du repère\"\"\"\n",
    "    \n",
    "    nb_at = len(positions)\n",
    "    \n",
    "    # On renvoie un tableau vide si la molécule est vide (car sinon vstack lève une exception)\n",
    "    if nb_at == 0:\n",
    "        return []\n",
    "    \n",
    "    repere = np.array([[0, 0, 0], [1, 0, 0], [0, 1, 0], [0, 0, 1]])\n",
    "    repere = np.vstack([repere]*nb_at)\n",
    "\n",
    "    positions = np.tile(positions, 4).reshape(4*nb_at, 3)\n",
    "    \n",
    "    return np.sqrt(np.sum(np.power(positions-repere, 2), 1)).reshape(nb_at, 4)\n"
   ]
  },
  {
   "cell_type": "markdown",
   "metadata": {},
   "source": [
    "### Ajout du bruit\n",
    "\n",
    "On définit ici une fonction prenant une matrice de coordonnées en entrée et renvoyant une matrice des coordonnées bruitées selon une loi normale de centre 0 et de variance 0,000833. Il s'agit d'une variance qui semble raisonnable par rapport aux déplacement que l'on applique aux atomes lorsqu'on optimise une molécule. En effet, cela revient à déplacer l'atome à une distance de moins de 0.05 angströms dans environ 68% des cas, et à une distance de moins de 0.1 angströms dans 95% des cas."
   ]
  },
  {
   "cell_type": "code",
   "execution_count": 5,
   "metadata": {},
   "outputs": [
    {
     "data": {
      "text/plain": [
       "(array([], dtype=float64), array([], dtype=float64))"
      ]
     },
     "execution_count": 5,
     "metadata": {},
     "output_type": "execute_result"
    }
   ],
   "source": [
    "def positions_bruitees(positions):\n",
    "    \"\"\" Ajoute du bruit à un tableau de positions et renvoie un tuple (positions bruitées, bruit)\"\"\"\n",
    "    bruit = np.random.normal(loc=0.0, scale=0.028867, size=positions.shape)\n",
    "    return ((positions + bruit), bruit)\n"
   ]
  },
  {
   "cell_type": "markdown",
   "metadata": {},
   "source": [
    "#### Analyse statistique des différences de distances introduites par le bruitage pour tester sa conformité\n",
    "\n",
    "On ajoute du bruit sur chaque coordonnée à l'origine du repère sur dix millions d'exemples et on analyse la distributions de distances obtenue. On constate que l'on obtient bien des résultats conformes à nos attentes."
   ]
  },
  {
   "cell_type": "code",
   "execution_count": 85,
   "metadata": {},
   "outputs": [
    {
     "data": {
      "text/plain": [
       "count    1.000000e+07\n",
       "mean     4.607169e-02\n",
       "std      1.943799e-02\n",
       "min      1.683100e-04\n",
       "50%      4.440512e-02\n",
       "68%      5.405057e-02\n",
       "95%      8.071034e-02\n",
       "max      1.771635e-01\n",
       "dtype: float64"
      ]
     },
     "execution_count": 85,
     "metadata": {},
     "output_type": "execute_result"
    }
   ],
   "source": [
    "import pandas as pd\n",
    "\n",
    "origine = np.array([0, 0, 0])\n",
    "origine = np.repeat(origine, 10000000).reshape(-1, 3)\n",
    "pos_bruit = positions_bruitees(origine)\n",
    "\n",
    "def calc_dist_origine(point):\n",
    "    return math.sqrt(pow(point[0], 2) + pow(point[1], 2) + pow(point[2], 2))\n",
    "\n",
    "distances = []\n",
    "\n",
    "for pos in pos_bruit:\n",
    "    distances.append(calc_dist_origine(pos))\n",
    "    \n",
    "distances = pd.Series(distances)\n",
    "distances.describe(percentiles=[0.68, 0.95])"
   ]
  },
  {
   "cell_type": "code",
   "execution_count": null,
   "metadata": {},
   "outputs": [],
   "source": []
  },
  {
   "cell_type": "code",
   "execution_count": null,
   "metadata": {},
   "outputs": [],
   "source": []
  }
 ],
 "metadata": {
  "kernelspec": {
   "display_name": "Python 3",
   "language": "python",
   "name": "python3"
  },
  "language_info": {
   "codemirror_mode": {
    "name": "ipython",
    "version": 3
   },
   "file_extension": ".py",
   "mimetype": "text/x-python",
   "name": "python",
   "nbconvert_exporter": "python",
   "pygments_lexer": "ipython3",
   "version": "3.6.4"
  }
 },
 "nbformat": 4,
 "nbformat_minor": 2
}
