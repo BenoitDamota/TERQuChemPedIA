{
 "cells": [
  {
   "cell_type": "markdown",
   "metadata": {},
   "source": [
    "## Génération d'un tableau de coordonnées fictives dans l'attente de vraies données\n"
   ]
  },
  {
   "cell_type": "code",
   "execution_count": 1,
   "metadata": {},
   "outputs": [
    {
     "data": {
      "text/plain": [
       "array([ 0.05445614,  0.49435046,  0.77433725,  0.44159085, -0.80576742,\n        0.39512583, -0.66101533,  0.50837327, -0.72476178, -0.04698629,\n       -0.7568398 ,  0.99866088, -0.0634297 ,  0.23608436,  0.59241717,\n        0.81515714, -0.32701194,  0.36286252, -0.28357218, -0.40263527,\n        0.38873207,  0.14024046,  0.79903489,  0.02833555,  0.70173184,\n        0.63412141,  0.52883206,  0.11726562, -0.44651917,  0.92847729])"
      ]
     },
     "execution_count": 1,
     "metadata": {},
     "output_type": "execute_result"
    }
   ],
   "source": [
    "import numpy as np\n",
    "\n",
    "molecules_nb = 10\n",
    "\n",
    "# Génération d'un vecteur de positions. Pour chaque molécule, le vecteur contient 3 coordonnées x, y, z,\n",
    "# chacune dans l'intervalle [-1,1[\n",
    "positions = np.random.random_sample(molecules_nb*3) * 2 - 1\n",
    "positions"
   ]
  },
  {
   "cell_type": "code",
   "execution_count": null,
   "metadata": {},
   "outputs": [],
   "source": []
  },
  {
   "cell_type": "code",
   "execution_count": null,
   "metadata": {},
   "outputs": [],
   "source": []
  }
 ],
 "metadata": {
  "kernelspec": {
   "display_name": "Python 3",
   "language": "python",
   "name": "python3"
  },
  "language_info": {
   "codemirror_mode": {
    "name": "ipython",
    "version": 3
   },
   "file_extension": ".py",
   "mimetype": "text/x-python",
   "name": "python",
   "nbconvert_exporter": "python",
   "pygments_lexer": "ipython3",
   "version": "3.5.2"
  }
 },
 "nbformat": 4,
 "nbformat_minor": 2
}
