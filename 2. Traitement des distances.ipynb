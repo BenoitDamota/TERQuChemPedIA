{
 "cells": [
  {
   "cell_type": "markdown",
   "metadata": {},
   "source": [
    "### Génération d'un tableau de coordonnées fictives"
   ]
  },
  {
   "cell_type": "code",
   "execution_count": 12,
   "metadata": {},
   "outputs": [
    {
     "data": {
      "text/plain": [
       "array([ 0.05630524, -0.22366857, -0.60286125, -0.99615371, -0.52112679,\n",
       "       -0.29220214, -0.27122452, -0.14906277,  0.6915369 , -0.51938744,\n",
       "       -0.835469  , -0.05590557, -0.42933313, -0.52677007, -0.90592153,\n",
       "        0.85469826,  0.63221378,  0.46476837, -0.67978513,  0.21617408,\n",
       "       -0.51060904,  0.17133427,  0.07713589, -0.88660206,  0.0831478 ,\n",
       "       -0.18664951,  0.38568355, -0.06703106, -0.37996184,  0.46636157])"
      ]
     },
     "execution_count": 12,
     "metadata": {},
     "output_type": "execute_result"
    }
   ],
   "source": [
    "import numpy as np\n",
    "\n",
    "molecules_nb = 10\n",
    "\n",
    "# Génération d'un vecteur de positions. Pour chaque molécule, le vecteur contient 3 coordonnées x, y, z,\n",
    "# chacune dans l'intervalle [-1,1[\n",
    "positions = np.random.random_sample(molecules_nb*3) * 2 - 1\n",
    "positions"
   ]
  },
  {
   "cell_type": "markdown",
   "metadata": {},
   "source": [
    "### Conversion des coordonnées en distances"
   ]
  },
  {
   "cell_type": "markdown",
   "metadata": {},
   "source": [
    "#### Ajout d'une molécule fictive"
   ]
  },
  {
   "cell_type": "code",
   "execution_count": 13,
   "metadata": {},
   "outputs": [
    {
     "data": {
      "text/plain": [
       "array([ 0.05630524, -0.22366857, -0.60286125, -0.99615371, -0.52112679,\n",
       "       -0.29220214, -0.27122452, -0.14906277,  0.6915369 , -0.51938744,\n",
       "       -0.835469  , -0.05590557, -0.42933313, -0.52677007, -0.90592153,\n",
       "        0.85469826,  0.63221378,  0.46476837, -0.67978513,  0.21617408,\n",
       "       -0.51060904,  0.17133427,  0.07713589, -0.88660206,  0.0831478 ,\n",
       "       -0.18664951,  0.38568355, -0.06703106, -0.37996184,  0.46636157,\n",
       "        0.        ,  0.        ,  0.        ])"
      ]
     },
     "execution_count": 13,
     "metadata": {},
     "output_type": "execute_result"
    }
   ],
   "source": [
    "def ajout_mol_fictive(positions):\n",
    "    \"\"\" Ajoute une molécule fictive aux positions initiales. Pour le moment, la place simplement\n",
    "    aux coordonnées (0,0,0). Dans le futur, elle la placera à une position n'appartenant pas avec\n",
    "    certitude au plan formé par les trois premières molécules\"\"\"\n",
    "    return np.append(positions, [0,0,0])\n",
    "    \n",
    "positions = ajout_mol_fictive(positions)\n",
    "positions"
   ]
  },
  {
   "cell_type": "markdown",
   "metadata": {},
   "source": [
    "#### "
   ]
  }
 ],
 "metadata": {
  "kernelspec": {
   "display_name": "Python 3",
   "language": "python",
   "name": "python3"
  },
  "language_info": {
   "codemirror_mode": {
    "name": "ipython",
    "version": 3
   },
   "file_extension": ".py",
   "mimetype": "text/x-python",
   "name": "python",
   "nbconvert_exporter": "python",
   "pygments_lexer": "ipython3",
   "version": "3.5.2"
  }
 },
 "nbformat": 4,
 "nbformat_minor": 2
}
