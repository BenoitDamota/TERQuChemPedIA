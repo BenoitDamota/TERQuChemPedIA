{
 "cells": [
  {
   "cell_type": "markdown",
   "metadata": {},
   "source": [
    "## Génération d'un tableau de coordonnées fictives"
   ]
  },
  {
   "cell_type": "code",
   "execution_count": 1,
   "metadata": {},
   "outputs": [
    {
     "data": {
      "text/plain": [
       "array([ 0.51066302,  0.57901401,  0.66236687, -0.65381622,  0.05543079,\n",
       "        0.02551141,  0.00260623,  0.76495211, -0.25755188,  0.50067112,\n",
       "        0.05163194, -0.90063594])"
      ]
     },
     "execution_count": 1,
     "metadata": {},
     "output_type": "execute_result"
    }
   ],
   "source": [
    "import numpy as np\n",
    "\n",
    "atomes_nb = 4\n",
    "atomes_nb_incl_fictif = atomes_nb + 1\n",
    "\n",
    "# Génération d'un vecteur de position des atomes d'une molécule. Pour atome, \n",
    "# le vecteur contient 3 coordonnées x, y, z, chacune dans l'intervalle [-1,1[. \n",
    "\n",
    "positions = np.random.random_sample(atomes_nb*3) * 2 - 1\n",
    "\n",
    "positions"
   ]
  },
  {
   "cell_type": "code",
   "execution_count": null,
   "metadata": {},
   "outputs": [],
   "source": []
  },
  {
   "cell_type": "markdown",
   "metadata": {},
   "source": [
    "## Conversion des coordonnées en distances\n",
    "\n",
    "L'objectif est de fournir au réseau de neurones un vecteur contenant chaque coordonnée x, y, z et masse m des atomes contenant la molécule, afin d'obtenir en sortie le déplacement nécessaire des atomes et d'en déduire les nouvelles positions. On ne s'intéresse ici qu'aux positions, afin d'obtenir le vecteur distances de la molécule.\n",
    "\n",
    "Le vecteur distance contient pour chaque atome sa distance aux 4 atomes suivants (dans l'ordre donné au vecteur positions initial). Si l'atome suivant n'existe pas (on arrive à la fin de la liste), alors on impute une valeur 0.\n",
    "\n",
    "Afin de s'assurer que l'on pourra reconstruire la molécule avec la différence de distances fournie en sortie du RN, on ajoute un atome fictif prenant comme indice 0 et qui possédera une masse nulle. Cet atome peut être placé librement, à condition qu'il n'appartienne pas au plan formé par les trois premiers atomes."
   ]
  },
  {
   "cell_type": "markdown",
   "metadata": {},
   "source": [
    "### Ajout d'un atome fictif"
   ]
  },
  {
   "cell_type": "code",
   "execution_count": 2,
   "metadata": {},
   "outputs": [
    {
     "data": {
      "text/plain": [
       "array([ 0.        ,  0.        ,  0.        ,  0.51066302,  0.57901401,\n",
       "        0.66236687, -0.65381622,  0.05543079,  0.02551141,  0.00260623,\n",
       "        0.76495211, -0.25755188,  0.50067112,  0.05163194, -0.90063594])"
      ]
     },
     "execution_count": 2,
     "metadata": {},
     "output_type": "execute_result"
    }
   ],
   "source": [
    "def ajout_atome_fictif(positions):\n",
    "    \"\"\" Ajoute un atome fictif aux positions initiales. Pour le moment, le place simplement\n",
    "    aux coordonnées (0,0,0). Dans le futur, elle le placera à une position n'appartenant pas avec\n",
    "    certitude au plan formé par les trois premiers atomes. \"\"\"\n",
    "    return np.insert(positions, 0, [0,0,0])\n",
    "    \n",
    "positions = ajout_atome_fictif(positions)\n",
    "positions"
   ]
  },
  {
   "cell_type": "code",
   "execution_count": null,
   "metadata": {},
   "outputs": [],
   "source": []
  },
  {
   "cell_type": "code",
   "execution_count": null,
   "metadata": {},
   "outputs": [],
   "source": []
  },
  {
   "cell_type": "markdown",
   "metadata": {},
   "source": [
    "### Génération du vecteur distances"
   ]
  },
  {
   "cell_type": "code",
   "execution_count": 3,
   "metadata": {},
   "outputs": [
    {
     "data": {
      "text/plain": [
       "array([1.01723341, 0.65665749, 0.80715023, 1.03173762, 1.42679226,\n",
       "       1.06721375, 1.64960889, 0.        , 1.00719202, 1.48006904,\n",
       "       0.        , 0.        , 1.08187403, 0.        , 0.        ,\n",
       "       0.        ])"
      ]
     },
     "execution_count": 3,
     "metadata": {},
     "output_type": "execute_result"
    }
   ],
   "source": [
    "import math\n",
    "\n",
    "def pos_to_index(i, j):\n",
    "    \"\"\" Prend les coordonnées d'une entrée dans la matrice de distances et renvoie l'index de la distance\n",
    "    correspondante dans le vecteur de distances. \"\"\"\n",
    "    return i*4+j-1\n",
    "\n",
    "def get_atome_coord(positions, index):\n",
    "    \"\"\" Renvoie les coordonnées de l'atome ayant l'index donné \"\"\"\n",
    "    return ((positions[3*index], positions[3*index+1], positions[3*index+2]))\n",
    "    \n",
    "def calcul_dist(x1, y1, z1, x2, y2, z2):\n",
    "    \"\"\" Calcule et retourne la distance entre deux points selon leurs coordonnées en 3 dimensions\"\"\"\n",
    "\n",
    "    return math.sqrt(pow(x1 - x2, 2) + pow(y1 - y2, 2) + pow(z1 - z2, 2))\n",
    "    \n",
    "def get_val_dist_matrice(i, j, positions):\n",
    "    \"\"\" Renvoie la valeur de la matrice de distances aux coordonnées (i, j). La matrice complète n'est\n",
    "    jamais calculée. \"\"\"\n",
    "    coord_i = get_atome_coord(positions, i)  # Coordonnées de l'atome i\n",
    "    coord_j = get_atome_coord(positions, j)  # Coordonnées de l'atome j\n",
    "\n",
    "    return calcul_dist(coord_i[0], coord_i[1], coord_i[2], coord_j[0], coord_j[1], coord_j[2])\n",
    "    \n",
    "def vect_distances(positions, nb_atomes):\n",
    "    \"\"\" Renvoie le vecteur de distances à partir des coordonnées des atomes et du nombre d'atomes dans\n",
    "    la molécule. La matrice de distances complète n'est pas générée, seules les valeurs nécessaires\n",
    "    sont calculées à la demande \"\"\"\n",
    "    vect_distances = np.zeros(shape=((nb_atomes-1)*4))\n",
    "    for j in range(nb_atomes - 1):\n",
    "        k=0  # Permet d'accéder simplement à l'indice dans le tableau de sortie\n",
    "        for i in range(j+1, j+5):\n",
    "            if i < nb_atomes:\n",
    "                vect_distances[j*4+k] = get_val_dist_matrice(i, j, positions)\n",
    "            k += 1\n",
    "            \n",
    "    return vect_distances\n",
    "            \n",
    "\n",
    "vect_distances(positions, atomes_nb_incl_fictif)"
   ]
  },
  {
   "cell_type": "markdown",
   "metadata": {},
   "source": [
    "### Test de la génération du vecteur distances"
   ]
  },
  {
   "cell_type": "code",
   "execution_count": 4,
   "metadata": {},
   "outputs": [],
   "source": [
    "# On génère un tableau de positions d'atomes\n",
    "pos_test = [1, 2, 3, 4, 5, 6, 7, 8, 9, 10, 11, 12, 13, 14, 15]\n",
    "nb_atomes_test = int(len(pos_test)/3)\n",
    "\n",
    "# On ajoute l'atome fictif\n",
    "pos_test = ajout_atome_fictif(pos_test)\n",
    "\n",
    "# Valeurs attendues du vecteur distances\n",
    "# [d10, d20, d30, d40,\n",
    "#  d21, d31, d41, d51,\n",
    "#  d32, d42, d52, 0,\n",
    "#  d43, d53, 0,   0,\n",
    "#  d54, 0,   0,   0]\n",
    "#\n",
    "# d10 = 3,74...\n",
    "# d20 = 8,77...\n",
    "# d30 = 13,92...\n",
    "# d40 = 19,10...\n",
    "# d21 = 5,19...\n",
    "# d31 = 10,39...\n",
    "# d41 = 15,58...\n",
    "# d51 = 20,78...\n",
    "# d32 = 5,19...\n",
    "# d42 = 10,39...\n",
    "# d52 = 15,58...\n",
    "# d43 = 5,19...\n",
    "# d53 = 10,39...\n",
    "# d54 = 5,19...\n",
    "\n",
    "distances_test = vect_distances(pos_test, nb_atomes_test+1)\n",
    "\n",
    "# Les valeurs de retour sont bien celles attendues"
   ]
  },
  {
   "cell_type": "code",
   "execution_count": null,
   "metadata": {},
   "outputs": [],
   "source": []
  },
  {
   "cell_type": "markdown",
   "metadata": {},
   "source": [
    "## Déduction des positions en fonction des distances\n",
    "\n",
    "La sortie du RN nous fournit un vecteur différence de distance (que l'on note delta_distances) qui correspond aux variations des distances inter-atomiques de la molécule induites par l'optimisation. La connaissance du vecteur distances fourni en entrée du RN permet de déduire le nouveau vecteur distance, et la connaissance des coordonnées de l'atome fictif permet de déduire les nouvelles positions des atomes de la molécule."
   ]
  },
  {
   "cell_type": "markdown",
   "metadata": {},
   "source": [
    "### Calcul des nouvelles distances inter-atomiques\n",
    "\n",
    "#### Simulation de la sortie du RN\n",
    "L'objectif ici est de reconstruire la molécule initiale, on suppose donc que le RN renvoie un vecteur variations de distances nul"
   ]
  },
  {
   "cell_type": "code",
   "execution_count": 5,
   "metadata": {},
   "outputs": [],
   "source": [
    "def simulation_rn(distances_init, atomes_nb):\n",
    "    return np.zeros(shape=(atomes_nb*4,))\n",
    "\n",
    "# On simule l'appel au RN pour obtenir le vecteur variations de distances\n",
    "delta_distances = simulation_rn(distances_test, nb_atomes_test)"
   ]
  },
  {
   "cell_type": "markdown",
   "metadata": {},
   "source": [
    "#### Construction du nouveau vecteur positions"
   ]
  },
  {
   "cell_type": "code",
   "execution_count": 7,
   "metadata": {},
   "outputs": [],
   "source": [
    "def reconstruction_positions(distances_init, delta_distances, pos_at_fictif):\n",
    "    \"\"\" Fonction calculant les nouvelles positions des atomes de la molécule à partir des distances initiales,\n",
    "    des variations de distances fournies par le RN et de la position initiale de l'atome fictif\"\"\"\n",
    "    pass\n",
    "    \n"
   ]
  },
  {
   "cell_type": "code",
   "execution_count": 8,
   "metadata": {},
   "outputs": [
    {
     "data": {
      "text/plain": [
       "[-0.02*sqrt(-2500.0*z2**2 - 2499878931.0) + 1.87,\n",
       " 0.02*sqrt(-2500.0*z2**2 - 2499878931.0) + 1.87]"
      ]
     },
     "execution_count": 8,
     "metadata": {},
     "output_type": "execute_result"
    }
   ],
   "source": [
    "from sympy import *\n",
    "from sympy.solvers import nsolve\n",
    "from sympy import N\n",
    "from sympy import Symbol\n",
    "from sympy import sqrt\n",
    "from sympy import Eq\n",
    "import mpmath\n",
    "\n",
    "mpmath.mp.dps = 15\n",
    "\n",
    "x2 = Symbol('x2')\n",
    "y2 = Symbol('y2')\n",
    "z2 = Symbol('z2')\n",
    "\n",
    "x0 = 0\n",
    "y0 = 0\n",
    "z0 = 0\n",
    "\n",
    "x1 = 3.74\n",
    "y1 = 0\n",
    "z1 = 0\n",
    "\n",
    "d20 = 8.77\n",
    "d21 = 5.19\n",
    "\n",
    "y2=1000\n",
    "\n",
    "\n",
    "sol = solve((x2-x0)**2 + (y2-y0)**2 + (z2-z0)**2 + (x2-x1)**2 + (y2-y1)**2 + (z2-z1)**2 - d20**2 -d21**2, x2)\n",
    "sol"
   ]
  },
  {
   "cell_type": "markdown",
   "metadata": {},
   "source": [
    "#### Tests des formules de calcul des points sur plusieurs exemples"
   ]
  },
  {
   "cell_type": "code",
   "execution_count": 16,
   "metadata": {},
   "outputs": [
    {
     "name": "stdout",
     "output_type": "stream",
     "text": [
      "\n",
      "Affichage des distances pré-traitement : \n",
      "d10 = 6.708203932499369\n",
      "d20 = 10.04987562112089\n",
      "d21 = 10.392304845413264\n",
      "d30 = 1.4142135623730951\n",
      "d31 = 5.916079783099616\n",
      "d32 = 10.344080432788601\n",
      "\n",
      "Affichage des distances post-traitement : \n",
      "d10 = 6.708203932499369\n",
      "d20 = 10.049875621120892\n",
      "d21 = 10.392304845413264\n",
      "d30 = 1.4142135623730951\n",
      "d31 = 5.916079783099616\n",
      "d32 = 10.344080432788603\n",
      "\n",
      "Affichage des points : \n",
      "a0 : (0, 0, 1)\n",
      "a1 : (6.708203932499369, 0, 1)\n",
      "a2 : (2.832352771499734, 9.642498523607758, 1)\n",
      "a3 : (0.8944271909999164, -0.47014094139961465, 1.9894278625649693)\n"
     ]
    }
   ],
   "source": [
    "\n",
    "def aff_point(idPoint, x, y, z):\n",
    "    print(\"a\"+str(idPoint)+\" : (\"+str(x)+\", \"+str(y)+\", \"+str(z)+\")\")\n",
    "    \n",
    "def aff_distance(id_pt1, id_pt2, x1, y1, z1, x2, y2, z2):\n",
    "    print(\"d\"+str(id_pt1)+str(id_pt2)+\" = \"+str(calcul_dist(x1, y1, z1, x2, y2, z2)))\n",
    "\n",
    "def translation(x_ori, y_ori, z_ori, x_vect, y_vect, z_vect):\n",
    "    return (x_ori+x_vect, y_ori+y_vect, z_ori+z_vect)\n",
    "  \n",
    "\n",
    "# Coordonnées d'origine\n",
    "x_init0 = 0\n",
    "y_init0 = 0\n",
    "z_init0 = 1\n",
    "\n",
    "x_init1 = 2\n",
    "y_init1 = 4\n",
    "z_init1 = 6\n",
    "\n",
    "x_init2 = 4\n",
    "y_init2 = -6\n",
    "z_init2 = 8\n",
    "\n",
    "x_init3 = 1\n",
    "y_init3 = 1\n",
    "z_init3 = 1\n",
    "\n",
    "# Calcul des distances entre les coordonnées d'origine\n",
    "d10 = calcul_dist(x_init0, y_init0, z_init0, x_init1, y_init1, z_init1)\n",
    "d20 = calcul_dist(x_init0, y_init0, z_init0, x_init2, y_init2, z_init2)\n",
    "d21 = calcul_dist(x_init1, y_init1, z_init1, x_init2, y_init2, z_init2)\n",
    "d30 = calcul_dist(x_init0, y_init0, z_init0, x_init3, y_init3, z_init3)\n",
    "d31 = calcul_dist(x_init1, y_init1, z_init1, x_init3, y_init3, z_init3)\n",
    "d32 = calcul_dist(x_init2, y_init2, z_init2, x_init3, y_init3, z_init3)\n",
    " \n",
    "\n",
    "\n",
    "\n",
    "# Calcul du nouveau a0 en le considérant à l'origine\n",
    "x0 = 0\n",
    "y0 = 0\n",
    "z0 = 0\n",
    "\n",
    "# Calcul du nouveau a1 sachant que a0 est à l'origine\n",
    "x1 = d10\n",
    "y1 = 0\n",
    "z1 = 0\n",
    "\n",
    "\n",
    "# Calcul du nouveau a2 sachant que a0 est à l'origine\n",
    "x2 = (d20**2-d21**2+d10**2)/(2*d10)\n",
    "y2 = math.sqrt(d20**2-((d20**2-d21**2+d10**2)/(2*d10))**2)\n",
    "z2 = 0\n",
    "\n",
    "\n",
    "# Calcul du nouveau a3 sachant que a0 est à l'origine\n",
    "x3 = (d30**2+d10**2-d31**2)/(2*d10)\n",
    "y3 = (-2*x3*x2+d20**2-d32**2+d30**2)/(2*y2)\n",
    "z3 = math.sqrt( -x3**2 - y3**2 + d30**2)\n",
    "\n",
    "\n",
    "# Translation de tous les points calculés selon le vrai a0\n",
    "pos_0 = translation(x0, y0, z0, x_init0, y_init0, z_init0)\n",
    "x0 = pos_0[0]\n",
    "y0 = pos_0[1]\n",
    "z0 = pos_0[2]\n",
    "\n",
    "pos_1 = translation(x1, y1, z1, x_init0, y_init0, z_init0)\n",
    "x1 = pos_1[0]\n",
    "y1 = pos_1[1]\n",
    "z1 = pos_1[2]\n",
    "\n",
    "pos_2 = translation(x2, y2, z2, x_init0, y_init0, z_init0)\n",
    "x2 = pos_2[0]\n",
    "y2 = pos_2[1]\n",
    "z2 = pos_2[2]\n",
    "\n",
    "pos_3 = translation(x3, y3, z3, x_init0, y_init0, z_init0)\n",
    "x3 = pos_3[0]\n",
    "y3 = pos_3[1]\n",
    "z3 = pos_3[2]\n",
    "\n",
    "\n",
    "print()\n",
    "print(\"Affichage des distances pré-traitement : \")\n",
    "aff_distance(1, 0, x_init0, y_init0, z_init0, x_init1, y_init1, z_init1)\n",
    "aff_distance(2, 0, x_init0, y_init0, z_init0, x_init2, y_init2, z_init2)\n",
    "aff_distance(2, 1, x_init1, y_init1, z_init1, x_init2, y_init2, z_init2)\n",
    "aff_distance(3, 0, x_init0, y_init0, z_init0, x_init3, y_init3, z_init3)\n",
    "aff_distance(3, 1, x_init1, y_init1, z_init1, x_init3, y_init3, z_init3)\n",
    "aff_distance(3, 2, x_init2, y_init2, z_init2, x_init3, y_init3, z_init3)\n",
    "\n",
    "\n",
    "print()\n",
    "print(\"Affichage des distances post-traitement : \")\n",
    "\n",
    "aff_distance(1,0, x0, y0, z0, x1, y1, z1)\n",
    "aff_distance(2,0, x0, y0, z0, x2, y2, z2)\n",
    "aff_distance(2,1, x1, y1, z1, x2, y2, z2)\n",
    "aff_distance(3, 0, x0, y0, z0, x3, y3, z3)\n",
    "aff_distance(3, 1, x1, y1, z1, x3, y3, z3)\n",
    "aff_distance(3, 2, x2, y2, z2, x3, y3, z3)\n",
    "\n",
    "\n",
    "print()\n",
    "print(\"Affichage des points : \")\n",
    "\n",
    "aff_point(0, x0, y0, z0)\n",
    "aff_point(1, x1, y1, z1)\n",
    "aff_point(2, x2, y2, z2)\n",
    "aff_point(3, x3, y3, z3)\n",
    "\n",
    "\n",
    "\n",
    "\n"
   ]
  },
  {
   "cell_type": "code",
   "execution_count": 12,
   "metadata": {},
   "outputs": [
    {
     "name": "stdout",
     "output_type": "stream",
     "text": [
      "\n",
      "Affichage des distances pré-traitement : \n",
      "d10 = 1.0671457642813158\n",
      "d20 = 2.1057982275077034\n",
      "d21 = 1.1806850991962181\n",
      "d30 = 1.1332613428932918\n",
      "d31 = 1.4312039234780614\n",
      "d32 = 1.8190210467647723\n",
      "\n",
      "Affichage des distances post-traitement : \n",
      "d10 = 1.0671457642813158\n",
      "d20 = 2.1057982275077034\n",
      "d21 = 1.180685099196218\n",
      "d30 = 1.1332613428932918\n",
      "d31 = 1.4312039234780614\n",
      "d32 = 1.8190210467647723\n",
      "\n",
      "Affichage des points : \n",
      "a0 : (0, 0, 1)\n",
      "a1 : (1.0671457642813158, 0, 1)\n",
      "a2 : (1.9581059559134713, 0.7747304307891719, 1)\n",
      "a3 : (0.17557895813475674, 1.1114998210602476, 1.1342439888399407)\n"
     ]
    }
   ],
   "source": [
    "# Coordonnées d'origine\n",
    "x_init0 = 0\n",
    "y_init0 = 0\n",
    "z_init0 = 1\n",
    "\n",
    "x_init2 = 0.74905055\n",
    "y_init2 = 0.08824051\n",
    "z_init2 = -0.96609335\n",
    "\n",
    "x_init1 = 0.32891684\n",
    "y_init1 = -0.34937679\n",
    "z_init1 = 0.04682129\n",
    "\n",
    "x_init3 = 0.38808914\n",
    "y_init3 = 0.97792745\n",
    "z_init3 = 0.57889907\n",
    "\n",
    "\n",
    "# Calcul des distances entre les coordonnées d'origine\n",
    "d10 = calcul_dist(x_init0, y_init0, z_init0, x_init1, y_init1, z_init1)\n",
    "d20 = calcul_dist(x_init0, y_init0, z_init0, x_init2, y_init2, z_init2)\n",
    "d21 = calcul_dist(x_init1, y_init1, z_init1, x_init2, y_init2, z_init2)\n",
    "d30 = calcul_dist(x_init0, y_init0, z_init0, x_init3, y_init3, z_init3)\n",
    "d31 = calcul_dist(x_init1, y_init1, z_init1, x_init3, y_init3, z_init3)\n",
    "d32 = calcul_dist(x_init2, y_init2, z_init2, x_init3, y_init3, z_init3)\n",
    " \n",
    "\n",
    "\n",
    "\n",
    "# Calcul du nouveau a0 en le considérant à l'origine\n",
    "x0 = 0\n",
    "y0 = 0\n",
    "z0 = 0\n",
    "\n",
    "# Calcul du nouveau a1 sachant que a0 est à l'origine\n",
    "x1 = d10\n",
    "y1 = 0\n",
    "z1 = 0\n",
    "\n",
    "\n",
    "# Calcul du nouveau a2 sachant que a0 est à l'origine\n",
    "x2 = (d20**2-d21**2+d10**2)/(2*d10)\n",
    "y2 = math.sqrt(d20**2-((d20**2-d21**2+d10**2)/(2*d10))**2)\n",
    "z2 = 0\n",
    "\n",
    "\n",
    "# Calcul du nouveau a3 sachant que a0 est à l'origine\n",
    "x3 = (d30**2+d10**2-d31**2)/(2*d10)\n",
    "y3 = (-2*x3*x2+d20**2-d32**2+d30**2)/(2*y2)\n",
    "z3 = math.sqrt( -x3**2 - y3**2 + d30**2)\n",
    "\n",
    "\n",
    "# Translation de tous les points calculés selon le vrai a0\n",
    "pos_0 = translation(x0, y0, z0, x_init0, y_init0, z_init0)\n",
    "x0 = pos_0[0]\n",
    "y0 = pos_0[1]\n",
    "z0 = pos_0[2]\n",
    "\n",
    "pos_1 = translation(x1, y1, z1, x_init0, y_init0, z_init0)\n",
    "x1 = pos_1[0]\n",
    "y1 = pos_1[1]\n",
    "z1 = pos_1[2]\n",
    "\n",
    "pos_2 = translation(x2, y2, z2, x_init0, y_init0, z_init0)\n",
    "x2 = pos_2[0]\n",
    "y2 = pos_2[1]\n",
    "z2 = pos_2[2]\n",
    "\n",
    "pos_3 = translation(x3, y3, z3, x_init0, y_init0, z_init0)\n",
    "x3 = pos_3[0]\n",
    "y3 = pos_3[1]\n",
    "z3 = pos_3[2]\n",
    "\n",
    "\n",
    "print()\n",
    "print(\"Affichage des distances pré-traitement : \")\n",
    "aff_distance(1, 0, x_init0, y_init0, z_init0, x_init1, y_init1, z_init1)\n",
    "aff_distance(2, 0, x_init0, y_init0, z_init0, x_init2, y_init2, z_init2)\n",
    "aff_distance(2, 1, x_init1, y_init1, z_init1, x_init2, y_init2, z_init2)\n",
    "aff_distance(3, 0, x_init0, y_init0, z_init0, x_init3, y_init3, z_init3)\n",
    "aff_distance(3, 1, x_init1, y_init1, z_init1, x_init3, y_init3, z_init3)\n",
    "aff_distance(3, 2, x_init2, y_init2, z_init2, x_init3, y_init3, z_init3)\n",
    "\n",
    "\n",
    "print()\n",
    "print(\"Affichage des distances post-traitement : \")\n",
    "\n",
    "aff_distance(1,0, x0, y0, z0, x1, y1, z1)\n",
    "aff_distance(2,0, x0, y0, z0, x2, y2, z2)\n",
    "aff_distance(2,1, x1, y1, z1, x2, y2, z2)\n",
    "aff_distance(3, 0, x0, y0, z0, x3, y3, z3)\n",
    "aff_distance(3, 1, x1, y1, z1, x3, y3, z3)\n",
    "aff_distance(3, 2, x2, y2, z2, x3, y3, z3)\n",
    "\n",
    "\n",
    "print()\n",
    "print(\"Affichage des points : \")\n",
    "\n",
    "aff_point(0, x0, y0, z0)\n",
    "aff_point(1, x1, y1, z1)\n",
    "aff_point(2, x2, y2, z2)\n",
    "aff_point(3, x3, y3, z3)\n",
    "\n"
   ]
  },
  {
   "cell_type": "code",
   "execution_count": 64,
   "metadata": {},
   "outputs": [
    {
     "data": {
      "text/plain": [
       "sympy.core.add.Add"
      ]
     },
     "execution_count": 64,
     "metadata": {},
     "output_type": "execute_result"
    }
   ],
   "source": [
    "type(1 + 8.42936970217881e-8*I)"
   ]
  },
  {
   "cell_type": "code",
   "execution_count": null,
   "metadata": {},
   "outputs": [],
   "source": []
  }
 ],
 "metadata": {
  "kernelspec": {
   "display_name": "Python 3",
   "language": "python",
   "name": "python3"
  },
  "language_info": {
   "codemirror_mode": {
    "name": "ipython",
    "version": 3
   },
   "file_extension": ".py",
   "mimetype": "text/x-python",
   "name": "python",
   "nbconvert_exporter": "python",
   "pygments_lexer": "ipython3",
   "version": "3.5.2"
  }
 },
 "nbformat": 4,
 "nbformat_minor": 2
}
