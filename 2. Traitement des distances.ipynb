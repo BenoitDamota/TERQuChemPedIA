{
 "cells": [
  {
   "cell_type": "markdown",
   "metadata": {},
   "source": [
    "## Génération d'un tableau de coordonnées fictives"
   ]
  },
  {
   "cell_type": "code",
   "execution_count": 174,
   "metadata": {},
   "outputs": [
    {
     "data": {
      "text/plain": [
       "array([[-0.69480683, -0.84177536, -0.31762868],\n",
       "       [-0.92869548, -0.41930929,  0.3041302 ],\n",
       "       [ 0.10040843,  0.29487746,  0.55873156],\n",
       "       [ 0.95450867, -0.73002037, -0.50307956],\n",
       "       [-0.84553479, -0.08623503, -0.42392261],\n",
       "       [ 0.2623922 , -0.84789397, -0.32574388]])"
      ]
     },
     "execution_count": 174,
     "metadata": {},
     "output_type": "execute_result"
    }
   ],
   "source": [
    "import numpy as np\n",
    "\n",
    "atomes_nb = 6\n",
    "atomes_nb_incl_fictif = atomes_nb + 1\n",
    "\n",
    "\n",
    "# Génération d'une matrice de positions des atomes d'une molécule. Pour chaque atome, \n",
    "# une ligne contient 3 coordonnées x, y, z, chacune dans l'intervalle [-1,1[. \n",
    "def gen_pos(nb_atomes):\n",
    "    return (np.random.random_sample(atomes_nb*3) * 2 - 1).reshape(-1,3)\n",
    "\n",
    "\n",
    "positions = gen_pos(atomes_nb)\n",
    "positions"
   ]
  },
  {
   "cell_type": "code",
   "execution_count": null,
   "metadata": {},
   "outputs": [],
   "source": []
  },
  {
   "cell_type": "markdown",
   "metadata": {},
   "source": [
    "## Conversion des coordonnées en distances\n",
    "\n",
    "L'objectif est de fournir au réseau de neurones un vecteur contenant chaque coordonnée x, y, z et masse m des atomes contenant la molécule, afin d'obtenir en sortie le déplacement nécessaire des atomes et d'en déduire les nouvelles positions. On ne s'intéresse ici qu'aux positions, afin d'obtenir la matrice distances de la molécule.\n",
    "\n",
    "La matrice distances contient pour chaque atome la distance aux 4 atomes suivants (dans l'ordre donné au vecteur positions initial). Si l'atome suivant n'existe pas (on arrive à la fin de la liste), alors on impute une valeur 0.\n",
    "\n",
    "Afin de s'assurer que l'on pourra reconstruire la molécule avec la différence de distances fournie en sortie du RN, on ajoute un atome fictif prenant comme indice 0 et qui possédera une masse nulle. Cet atome peut être placé librement, à condition qu'il n'appartienne pas au plan formé par les trois premiers atomes."
   ]
  },
  {
   "cell_type": "markdown",
   "metadata": {},
   "source": [
    "### Ajout d'un atome fictif"
   ]
  },
  {
   "cell_type": "code",
   "execution_count": 175,
   "metadata": {},
   "outputs": [
    {
     "data": {
      "text/plain": [
       "array([[ 0.        ,  0.        ,  0.5       ],\n",
       "       [-0.69480683, -0.84177536, -0.31762868],\n",
       "       [-0.92869548, -0.41930929,  0.3041302 ],\n",
       "       [ 0.10040843,  0.29487746,  0.55873156],\n",
       "       [ 0.95450867, -0.73002037, -0.50307956],\n",
       "       [-0.84553479, -0.08623503, -0.42392261],\n",
       "       [ 0.2623922 , -0.84789397, -0.32574388]])"
      ]
     },
     "execution_count": 175,
     "metadata": {},
     "output_type": "execute_result"
    }
   ],
   "source": [
    "def ajout_atome_fictif(positions):\n",
    "    \"\"\" Ajoute un atome fictif aux positions initiales. Pour le moment, le place simplement\n",
    "    aux coordonnées (0,0,0.5). Dans le futur, elle le placera à une position n'appartenant pas avec\n",
    "    certitude au plan formé par les trois premiers atomes. \"\"\"\n",
    "    return np.insert(positions, 0, [0,0,.5], axis=0).reshape(-1,3)\n",
    "    \n",
    "positions = ajout_atome_fictif(positions)\n",
    "positions"
   ]
  },
  {
   "cell_type": "code",
   "execution_count": null,
   "metadata": {},
   "outputs": [],
   "source": []
  },
  {
   "cell_type": "code",
   "execution_count": null,
   "metadata": {},
   "outputs": [],
   "source": []
  },
  {
   "cell_type": "markdown",
   "metadata": {},
   "source": [
    "### Génération du vecteur distances"
   ]
  },
  {
   "cell_type": "code",
   "execution_count": 176,
   "metadata": {},
   "outputs": [
    {
     "data": {
      "text/plain": [
       "array([[1.36376645, 1.03762255, 0.31699206, 1.56530673],\n",
       "       [0.78725192, 1.64083949, 1.66346711, 0.77772649],\n",
       "       [1.2782564 , 2.0723385 , 0.80493171, 1.413901  ],\n",
       "       [1.70509403, 1.41621486, 1.45411901, 0.        ],\n",
       "       [1.9133431 , 0.72413213, 0.        , 0.        ],\n",
       "       [1.34805994, 0.        , 0.        , 0.        ]])"
      ]
     },
     "execution_count": 176,
     "metadata": {},
     "output_type": "execute_result"
    }
   ],
   "source": [
    "import math\n",
    "\n",
    "\n",
    "def get_atome_coord(positions, index):\n",
    "    \"\"\" Renvoie les coordonnées de l'atome ayant l'index donné \"\"\"\n",
    "    return (positions[index])\n",
    "    \n",
    "def calcul_dist(x1, y1, z1, x2, y2, z2):\n",
    "    \"\"\" Calcule et retourne la distance entre deux points selon leurs coordonnées en 3 dimensions\"\"\"\n",
    "\n",
    "    return math.sqrt(pow(x1 - x2, 2) + pow(y1 - y2, 2) + pow(z1 - z2, 2))\n",
    "    \n",
    "def get_val_dist_matrice(i, j, positions):\n",
    "    \"\"\" Renvoie la valeur de la matrice de distances aux coordonnées (i, j). La matrice complète n'est\n",
    "    jamais calculée. \"\"\"\n",
    "    coord_i = get_atome_coord(positions, i)  # Coordonnées de l'atome i\n",
    "    coord_j = get_atome_coord(positions, j)  # Coordonnées de l'atome j\n",
    "\n",
    "    return calcul_dist(coord_i[0], coord_i[1], coord_i[2], coord_j[0], coord_j[1], coord_j[2])\n",
    "    \n",
    "def matrice_distances_compr(positions, nb_atomes):\n",
    "    \"\"\" Renvoie le vecteur de distances à partir des coordonnées des atomes et du nombre d'atomes dans\n",
    "    la molécule. La matrice de distances complète n'est pas générée, seules les valeurs nécessaires\n",
    "    sont calculées à la demande \"\"\"\n",
    "    mat_distances = np.zeros(shape=(nb_atomes-1,4))\n",
    "    \n",
    "    for j in range(nb_atomes - 1):\n",
    "        k=0  # Permet d'accéder simplement à l'indice dans le tableau de sortie\n",
    "        for i in range(j+1, j+5):\n",
    "            if i < nb_atomes:\n",
    "                mat_distances[j][k] = get_val_dist_matrice(i, j, positions)\n",
    "            k += 1\n",
    "            \n",
    "    return mat_distances\n",
    "\n",
    "distances = matrice_distances_compr(positions, atomes_nb_incl_fictif)\n",
    "distances"
   ]
  },
  {
   "cell_type": "markdown",
   "metadata": {},
   "source": [
    "### Test de la génération du vecteur distances"
   ]
  },
  {
   "cell_type": "code",
   "execution_count": 177,
   "metadata": {},
   "outputs": [
    {
     "name": "stdout",
     "output_type": "stream",
     "text": [
      "[[ 0.   0.   0.5]\n",
      " [ 1.   2.   3. ]\n",
      " [ 4.   5.   6. ]\n",
      " [ 7.   8.   9. ]\n",
      " [10.  11.  12. ]\n",
      " [13.  14.  15. ]]\n"
     ]
    },
    {
     "data": {
      "text/plain": [
       "array([[ 3.35410197,  8.44097151, 13.61065759, 18.79494613],\n",
       "       [ 5.19615242, 10.39230485, 15.58845727,  0.        ],\n",
       "       [ 5.19615242, 10.39230485,  0.        ,  0.        ],\n",
       "       [ 5.19615242,  0.        ,  0.        ,  0.        ]])"
      ]
     },
     "execution_count": 177,
     "metadata": {},
     "output_type": "execute_result"
    }
   ],
   "source": [
    "# On génère un tableau de positions d'atomes\n",
    "pos_test = np.array([1., 2, 3, 4, 5, 6, 7, 8, 9, 10, 11, 12, 13, 14, 15]).reshape(-1,3)\n",
    "nb_atomes_test = int(len(pos_test))\n",
    "\n",
    "# On ajoute l'atome fictif\n",
    "pos_test = ajout_atome_fictif(pos_test)\n",
    "\n",
    "print(pos_test)\n",
    "\n",
    "# Valeurs attendues du vecteur distances\n",
    "# [d10, d20, d30, d40,\n",
    "#  d21, d31, d41, d51,\n",
    "#  d32, d42, d52, 0,\n",
    "#  d43, d53, 0,   0,\n",
    "#  d54, 0,   0,   0]\n",
    "#\n",
    "# d10 = 3,74...\n",
    "# d20 = 8,77...\n",
    "# d30 = 13,92...\n",
    "# d40 = 19,10...\n",
    "# d21 = 5,19...\n",
    "# d31 = 10,39...\n",
    "# d41 = 15,58...\n",
    "# d51 = 20,78...\n",
    "# d32 = 5,19...\n",
    "# d42 = 10,39...\n",
    "# d52 = 15,58...\n",
    "# d43 = 5,19...\n",
    "# d53 = 10,39...\n",
    "# d54 = 5,19...\n",
    "\n",
    "distances_test = matrice_distances_compr(pos_test, nb_atomes_test)\n",
    "\n",
    "# Les valeurs de retour sont bien celles attendues\n",
    "\n",
    "distances_test"
   ]
  },
  {
   "cell_type": "code",
   "execution_count": null,
   "metadata": {},
   "outputs": [],
   "source": []
  },
  {
   "cell_type": "markdown",
   "metadata": {},
   "source": [
    "## Déduction des positions en fonction des distances\n",
    "\n",
    "La sortie du RN nous fournit un vecteur différence de distance (que l'on note delta_distances) qui correspond aux variations des distances inter-atomiques de la molécule induites par l'optimisation. La connaissance du vecteur distances fourni en entrée du RN permet de déduire le nouveau vecteur distance, et la connaissance des coordonnées de l'atome fictif permet de déduire les nouvelles positions des atomes de la molécule."
   ]
  },
  {
   "cell_type": "markdown",
   "metadata": {},
   "source": [
    "### Calcul des nouvelles distances inter-atomiques\n",
    "\n",
    "#### Simulation de la sortie du RN"
   ]
  },
  {
   "cell_type": "code",
   "execution_count": 178,
   "metadata": {},
   "outputs": [
    {
     "data": {
      "text/plain": [
       "array([[ 0.00064551,  0.00029365,  0.00516858, -0.0047026 ],\n",
       "       [ 0.01658422, -0.01745507,  0.00201911,  0.01252526],\n",
       "       [ 0.01298427,  0.01827974,  0.0075766 , -0.00266409],\n",
       "       [-0.00044308,  0.00084627,  0.00622437,  0.00290113],\n",
       "       [ 0.02194293, -0.00924379, -0.00417725,  0.00694444],\n",
       "       [-0.00247787,  0.00345287,  0.00424148, -0.00699673]])"
      ]
     },
     "execution_count": 178,
     "metadata": {},
     "output_type": "execute_result"
    }
   ],
   "source": [
    "def simulation_rn_nul(distances_init, atomes_nb):\n",
    "    \"\"\" On simule la sortie d'un RN n'ayant aucune incidence sur les données initiales\n",
    "    (matrice variation de distances nulle)\"\"\"\n",
    "    return np.zeros(shape=(atomes_nb-1,4))\n",
    "\n",
    "# On simule l'appel au RN pour obtenir le vecteur variations de distances\n",
    "delta_distances = simulation_rn_nul(distances_test, atomes_nb_incl_fictif)\n",
    "\n",
    "def simulation_rn_bruit(distances_init, atomes_nb, sigma):\n",
    "    \"\"\" On simule la sortie d'un RN ajoutant une légère variation de distances\"\"\"\n",
    "    return np.random.normal(0, sigma, 4*(atomes_nb-1)).reshape(atomes_nb-1, 4)\n",
    "\n",
    "delta_distances_bruit = simulation_rn_bruit(distances, atomes_nb_incl_fictif, 0.01)\n",
    "\n",
    "delta_distances_bruit"
   ]
  },
  {
   "cell_type": "code",
   "execution_count": null,
   "metadata": {},
   "outputs": [],
   "source": []
  },
  {
   "cell_type": "markdown",
   "metadata": {},
   "source": [
    "## Tentatives de résolution du problème de la localisation d'un point\n",
    "\n",
    "Afin de déterminer les coordonnées d'un point de l'espace en fonction de sa distance relative avec quatre autres points dont les positions sont connues, on tente ici d'appliquer plusieurs méthodes différentes.\n",
    "\n",
    "### Résolution générale du système général (décrivant les quatre sphères)\n",
    "\n",
    "On peut dans un premier temps tenter de résoudre le système d'équation exprimant les coordonnées du point recherché en fonction de sa distance avec les autres points de manière générale. Si cette méthode fonctionne, alors on pourra calculer directement les coordonnées xn, yn et zn (n>=4) de chaque point, sans faire appel à un solveur à chaque résolution, et donc en évitant la nécessité de résoudre une instance du système à chaque placement de point.\n",
    "\n",
    "Le problème de cette méthode (voir plus bas) est qu'elle nécessite le calcul d'équation très complexes, et que le solveur utilisé (sympy) n'arrive pas à trouver de solution.\n",
    "\n",
    "#### Expression de xn en fonction de yn, zn et des autres paramètres"
   ]
  },
  {
   "cell_type": "code",
   "execution_count": 28,
   "metadata": {},
   "outputs": [
    {
     "data": {
      "text/plain": [
       "{(xnm1 - sqrt(dn_nm1**2 - yn**2 + 2*yn*ynm1 - ynm1**2 - zn**2 + 2*zn*znm1 - znm1**2),), (xnm1 + sqrt(dn_nm1**2 - yn**2 + 2*yn*ynm1 - ynm1**2 - zn**2 + 2*zn*znm1 - znm1**2),)}"
      ]
     },
     "execution_count": 28,
     "metadata": {},
     "output_type": "execute_result"
    }
   ],
   "source": [
    "from sympy import Symbol\n",
    "from sympy.solvers.solveset import *\n",
    "\n",
    "# Tentative résolution système général\n",
    "\n",
    "# Variables recherchées\n",
    "xn = Symbol('xn')\n",
    "yn = Symbol('yn')\n",
    "zn = Symbol('zn')\n",
    "\n",
    "# Position du point (n-4)\n",
    "xnm4 = Symbol('xnm4')\n",
    "ynm4 = Symbol('ynm4')\n",
    "znm4 = Symbol('znm4')\n",
    "\n",
    "# Position du point (n-3)\n",
    "xnm3 = Symbol('xnm3')\n",
    "ynm3 = Symbol('ynm3')\n",
    "znm3 = Symbol('znm3')\n",
    "\n",
    "# Position du point (n-2)\n",
    "xnm2 = Symbol('xnm2')\n",
    "ynm2 = Symbol('ynm2')\n",
    "znm2 = Symbol('znm2')\n",
    "\n",
    "# Position du point (n-1)\n",
    "xnm1 = Symbol('xnm1')\n",
    "ynm1 = Symbol('ynm1')\n",
    "znm1= Symbol('znm1')\n",
    "\n",
    "# Distances entre le point n recherché et les points (n-4), (n-3), (n-2) et (n-1)\n",
    "dn_nm4 = Symbol('dn_nm4')\n",
    "dn_nm3 = Symbol('dn_nm3')\n",
    "dn_nm2 = Symbol('dn_nm2')\n",
    "dn_nm1 = Symbol('dn_nm1')\n",
    "\n",
    "# Formalisation du système\n",
    "eqs = []\n",
    "eqs.append((xn - xnm4)**2 + (yn - ynm4)**2\n",
    "           + (zn - znm4)**2 - dn_nm4**2)\n",
    "\n",
    "eqs.append((xn - xnm3)**2 + (yn - ynm3)**2\n",
    "           + (zn - znm3)**2 - dn_nm3**2)\n",
    "\n",
    "eqs.append((xn - xnm2)**2 + (yn - ynm2)**2\n",
    "           + (zn - znm2)**2 - dn_nm2**2)\n",
    "\n",
    "eqs.append((xn - xnm1)**2 + (yn - ynm1)**2\n",
    "           + (zn - znm1)**2 - dn_nm1**2)\n",
    "\n",
    "# Expression de xn en fonction des autres variables et paramètres\n",
    "nonlinsolve(eqs, [xn])"
   ]
  },
  {
   "cell_type": "markdown",
   "metadata": {},
   "source": [
    "#### Expression de yn en fonction de zn et des autres paramètres\n",
    "\n",
    "On remplace ici les xn par la solution trouvée plus haut et on recherche yn exprimé en fonction de zn et des paramètres de position des autres points et de distance.\n",
    "\n",
    "On remarque que l'on obtient deux solutions très complexes"
   ]
  },
  {
   "cell_type": "code",
   "execution_count": 7,
   "metadata": {},
   "outputs": [
    {
     "ename": "NameError",
     "evalue": "name 'sqrt' is not defined",
     "output_type": "error",
     "traceback": [
      "\u001b[0;31m---------------------------------------------------------------------------\u001b[0m",
      "\u001b[0;31mNameError\u001b[0m                                 Traceback (most recent call last)",
      "\u001b[0;32m<ipython-input-7-bd363768eca0>\u001b[0m in \u001b[0;36m<module>\u001b[0;34m()\u001b[0m\n\u001b[1;32m      2\u001b[0m \u001b[0meqs\u001b[0m \u001b[0;34m=\u001b[0m \u001b[0;34m[\u001b[0m\u001b[0;34m]\u001b[0m\u001b[0;34m\u001b[0m\u001b[0m\n\u001b[1;32m      3\u001b[0m eqs.append((xnm1 + sqrt(dn_nm1**2 - yn**2 + 2*yn*ynm1 - ynm1**2 - zn**2 + 2*zn*znm1 - znm1**2) - xnm4)**2 + (yn - ynm4)**2\n\u001b[0;32m----> 4\u001b[0;31m            + (zn - znm4)**2 - dn_nm4**2)\n\u001b[0m\u001b[1;32m      5\u001b[0m \u001b[0;34m\u001b[0m\u001b[0m\n\u001b[1;32m      6\u001b[0m eqs.append((xnm1 + sqrt(dn_nm1**2 - yn**2 + 2*yn*ynm1 - ynm1**2 - zn**2 + 2*zn*znm1 - znm1**2) - xnm3)**2 + (yn - ynm3)**2\n",
      "\u001b[0;31mNameError\u001b[0m: name 'sqrt' is not defined"
     ]
    }
   ],
   "source": [
    "\n",
    "eqs = []\n",
    "eqs.append((xnm1 + sqrt(dn_nm1**2 - yn**2 + 2*yn*ynm1 - ynm1**2 - zn**2 + 2*zn*znm1 - znm1**2) - xnm4)**2 + (yn - ynm4)**2\n",
    "           + (zn - znm4)**2 - dn_nm4**2)\n",
    "\n",
    "eqs.append((xnm1 + sqrt(dn_nm1**2 - yn**2 + 2*yn*ynm1 - ynm1**2 - zn**2 + 2*zn*znm1 - znm1**2) - xnm3)**2 + (yn - ynm3)**2\n",
    "           + (zn - znm3)**2 - dn_nm3**2)\n",
    "\n",
    "eqs.append((xnm1 + sqrt(dn_nm1**2 - yn**2 + 2*yn*ynm1 - ynm1**2 - zn**2 + 2*zn*znm1 - znm1**2) - xnm2)**2 + (yn - ynm2)**2\n",
    "           + (zn - znm2)**2 - dn_nm2**2)\n",
    "\n",
    "eqs.append((xnm1 + sqrt(dn_nm1**2 - yn**2 + 2*yn*ynm1 - ynm1**2 - zn**2 + 2*zn*znm1 - znm1**2) - xnm1)**2 + (yn - ynm1)**2\n",
    "           + (zn - znm1)**2 - dn_nm1**2)\n",
    "nonlinsolve(eqs, [yn])"
   ]
  },
  {
   "cell_type": "markdown",
   "metadata": {},
   "source": [
    "#### Expression de zn en fonction des paramètres\n",
    "\n",
    "On cherche ici à exprimer zn en fonction des positions des autres points et des distances relatives entre le point n et les autres points, dans le but de remplacer zn par cette expression dans les équations précédentes, afin d'exprimer finalement xn, yn en fonction de ces paramètres.\n",
    "\n",
    "Malheureusement, le solveur ne trouve pas de solution. On abandonne donc la solution de vouloir exprimer chaque variable du système à 4 équations en fonction des paramètres."
   ]
  },
  {
   "cell_type": "code",
   "execution_count": 28,
   "metadata": {},
   "outputs": [
    {
     "ename": "TypeError",
     "evalue": "cannot create mpf from -dn_nm1**4 + 2*dn_nm1**2*dn_nm2**2 + 2*dn_nm1**2*xnm1**2 - 4*dn_nm1**2*xnm1*xnm2 + 2*dn_nm1**2*xnm2**2 + 2*dn_nm1**2*ynm1**2 - 4*dn_nm1**2*ynm1*ynm2 + 2*dn_nm1**2*ynm2**2 - 4*dn_nm1**2*zn*znm1 + 4*dn_nm1**2*zn*znm2 + 2*dn_nm1**2*znm1**2 - 2*dn_nm1**2*znm2**2 - dn_nm2**4 + 2*dn_nm2**2*xnm1**2 - 4*dn_nm2**2*xnm1*xnm2 + 2*dn_nm2**2*xnm2**2 + 2*dn_nm2**2*ynm1**2 - 4*dn_nm2**2*ynm1*ynm2 + 2*dn_nm2**2*ynm2**2 + 4*dn_nm2**2*zn*znm1 - 4*dn_nm2**2*zn*znm2 - 2*dn_nm2**2*znm1**2 + 2*dn_nm2**2*znm2**2 - xnm1**4 + 4*xnm1**3*xnm2 - 6*xnm1**2*xnm2**2 - 2*xnm1**2*ynm1**2 + 4*xnm1**2*ynm1*ynm2 - 2*xnm1**2*ynm2**2 - 4*xnm1**2*zn**2 + 4*xnm1**2*zn*znm1 + 4*xnm1**2*zn*znm2 - 2*xnm1**2*znm1**2 - 2*xnm1**2*znm2**2 + 4*xnm1*xnm2**3 + 4*xnm1*xnm2*ynm1**2 - 8*xnm1*xnm2*ynm1*ynm2 + 4*xnm1*xnm2*ynm2**2 + 8*xnm1*xnm2*zn**2 - 8*xnm1*xnm2*zn*znm1 - 8*xnm1*xnm2*zn*znm2 + 4*xnm1*xnm2*znm1**2 + 4*xnm1*xnm2*znm2**2 - xnm2**4 - 2*xnm2**2*ynm1**2 + 4*xnm2**2*ynm1*ynm2 - 2*xnm2**2*ynm2**2 - 4*xnm2**2*zn**2 + 4*xnm2**2*zn*znm1 + 4*xnm2**2*zn*znm2 - 2*xnm2**2*znm1**2 - 2*xnm2**2*znm2**2 - ynm1**4 + 4*ynm1**3*ynm2 - 6*ynm1**2*ynm2**2 - 4*ynm1**2*zn**2 + 4*ynm1**2*zn*znm1 + 4*ynm1**2*zn*znm2 - 2*ynm1**2*znm1**2 - 2*ynm1**2*znm2**2 + 4*ynm1*ynm2**3 + 8*ynm1*ynm2*zn**2 - 8*ynm1*ynm2*zn*znm1 - 8*ynm1*ynm2*zn*znm2 + 4*ynm1*ynm2*znm1**2 + 4*ynm1*ynm2*znm2**2 - ynm2**4 - 4*ynm2**2*zn**2 + 4*ynm2**2*zn*znm1 + 4*ynm2**2*zn*znm2 - 2*ynm2**2*znm1**2 - 2*ynm2**2*znm2**2 - 4*zn**2*znm1**2 + 8*zn**2*znm1*znm2 - 4*zn**2*znm2**2 + 4*zn*znm1**3 - 4*zn*znm1**2*znm2 - 4*zn*znm1*znm2**2 + 4*zn*znm2**3 - znm1**4 + 2*znm1**2*znm2**2 - znm2**4",
     "output_type": "error",
     "traceback": [
      "\u001b[0;31m---------------------------------------------------------------------------\u001b[0m",
      "\u001b[0;31mTypeError\u001b[0m                                 Traceback (most recent call last)",
      "\u001b[0;32m<ipython-input-28-2879e0fdc0aa>\u001b[0m in \u001b[0;36m<module>\u001b[0;34m()\u001b[0m\n\u001b[1;32m     26\u001b[0m                                \u001b[0;34m-\u001b[0m \u001b[0;36m4\u001b[0m\u001b[0;34m*\u001b[0m\u001b[0mzn\u001b[0m\u001b[0;34m**\u001b[0m\u001b[0;36m2\u001b[0m\u001b[0;34m*\u001b[0m\u001b[0mznm1\u001b[0m\u001b[0;34m**\u001b[0m\u001b[0;36m2\u001b[0m \u001b[0;34m+\u001b[0m \u001b[0;36m8\u001b[0m\u001b[0;34m*\u001b[0m\u001b[0mzn\u001b[0m\u001b[0;34m**\u001b[0m\u001b[0;36m2\u001b[0m\u001b[0;34m*\u001b[0m\u001b[0mznm1\u001b[0m\u001b[0;34m*\u001b[0m\u001b[0mznm2\u001b[0m \u001b[0;34m-\u001b[0m \u001b[0;36m4\u001b[0m\u001b[0;34m*\u001b[0m\u001b[0mzn\u001b[0m\u001b[0;34m**\u001b[0m\u001b[0;36m2\u001b[0m\u001b[0;34m*\u001b[0m\u001b[0mznm2\u001b[0m\u001b[0;34m**\u001b[0m\u001b[0;36m2\u001b[0m \u001b[0;34m+\u001b[0m \u001b[0;36m4\u001b[0m\u001b[0;34m*\u001b[0m\u001b[0mzn\u001b[0m\u001b[0;34m*\u001b[0m\u001b[0mznm1\u001b[0m\u001b[0;34m**\u001b[0m\u001b[0;36m3\u001b[0m\u001b[0;34m\u001b[0m\u001b[0m\n\u001b[1;32m     27\u001b[0m                                \u001b[0;34m-\u001b[0m \u001b[0;36m4\u001b[0m\u001b[0;34m*\u001b[0m\u001b[0mzn\u001b[0m\u001b[0;34m*\u001b[0m\u001b[0mznm1\u001b[0m\u001b[0;34m**\u001b[0m\u001b[0;36m2\u001b[0m\u001b[0;34m*\u001b[0m\u001b[0mznm2\u001b[0m \u001b[0;34m-\u001b[0m \u001b[0;36m4\u001b[0m\u001b[0;34m*\u001b[0m\u001b[0mzn\u001b[0m\u001b[0;34m*\u001b[0m\u001b[0mznm1\u001b[0m\u001b[0;34m*\u001b[0m\u001b[0mznm2\u001b[0m\u001b[0;34m**\u001b[0m\u001b[0;36m2\u001b[0m \u001b[0;34m+\u001b[0m \u001b[0;36m4\u001b[0m\u001b[0;34m*\u001b[0m\u001b[0mzn\u001b[0m\u001b[0;34m*\u001b[0m\u001b[0mznm2\u001b[0m\u001b[0;34m**\u001b[0m\u001b[0;36m3\u001b[0m \u001b[0;34m-\u001b[0m \u001b[0mznm1\u001b[0m\u001b[0;34m**\u001b[0m\u001b[0;36m4\u001b[0m\u001b[0;34m\u001b[0m\u001b[0m\n\u001b[0;32m---> 28\u001b[0;31m                                + 2*znm1**2*znm2**2 - znm2**4)/(2*(xnm1**2 - 2*xnm1*xnm2 + xnm2**2 + ynm1**2 \n\u001b[0m\u001b[1;32m     29\u001b[0m                                - 2*ynm1*ynm2 + ynm2**2)) - (dn_nm1**2*ynm1 - dn_nm1**2*ynm2 - dn_nm2**2*ynm1 \n\u001b[1;32m     30\u001b[0m                                \u001b[0;34m+\u001b[0m \u001b[0mdn_nm2\u001b[0m\u001b[0;34m**\u001b[0m\u001b[0;36m2\u001b[0m\u001b[0;34m*\u001b[0m\u001b[0mynm2\u001b[0m \u001b[0;34m-\u001b[0m \u001b[0mxnm1\u001b[0m\u001b[0;34m**\u001b[0m\u001b[0;36m2\u001b[0m\u001b[0;34m*\u001b[0m\u001b[0mynm1\u001b[0m \u001b[0;34m-\u001b[0m \u001b[0mxnm1\u001b[0m\u001b[0;34m**\u001b[0m\u001b[0;36m2\u001b[0m\u001b[0;34m*\u001b[0m\u001b[0mynm2\u001b[0m \u001b[0;34m+\u001b[0m \u001b[0;36m2\u001b[0m\u001b[0;34m*\u001b[0m\u001b[0mxnm1\u001b[0m\u001b[0;34m*\u001b[0m\u001b[0mxnm2\u001b[0m\u001b[0;34m*\u001b[0m\u001b[0mynm1\u001b[0m \u001b[0;34m+\u001b[0m \u001b[0;36m2\u001b[0m\u001b[0;34m*\u001b[0m\u001b[0mxnm1\u001b[0m\u001b[0;34m*\u001b[0m\u001b[0mxnm2\u001b[0m\u001b[0;34m*\u001b[0m\u001b[0mynm2\u001b[0m\u001b[0;34m\u001b[0m\u001b[0m\n",
      "\u001b[0;32m~/.local/lib/python3.5/site-packages/mpmath/ctx_mp_python.py\u001b[0m in \u001b[0;36mf\u001b[0;34m(x, **kwargs)\u001b[0m\n\u001b[1;32m    982\u001b[0m         \u001b[0;32mdef\u001b[0m \u001b[0mf\u001b[0m\u001b[0;34m(\u001b[0m\u001b[0mx\u001b[0m\u001b[0;34m,\u001b[0m \u001b[0;34m**\u001b[0m\u001b[0mkwargs\u001b[0m\u001b[0;34m)\u001b[0m\u001b[0;34m:\u001b[0m\u001b[0;34m\u001b[0m\u001b[0m\n\u001b[1;32m    983\u001b[0m             \u001b[0;32mif\u001b[0m \u001b[0mtype\u001b[0m\u001b[0;34m(\u001b[0m\u001b[0mx\u001b[0m\u001b[0;34m)\u001b[0m \u001b[0;32mnot\u001b[0m \u001b[0;32min\u001b[0m \u001b[0mctx\u001b[0m\u001b[0;34m.\u001b[0m\u001b[0mtypes\u001b[0m\u001b[0;34m:\u001b[0m\u001b[0;34m\u001b[0m\u001b[0m\n\u001b[0;32m--> 984\u001b[0;31m                 \u001b[0mx\u001b[0m \u001b[0;34m=\u001b[0m \u001b[0mctx\u001b[0m\u001b[0;34m.\u001b[0m\u001b[0mconvert\u001b[0m\u001b[0;34m(\u001b[0m\u001b[0mx\u001b[0m\u001b[0;34m)\u001b[0m\u001b[0;34m\u001b[0m\u001b[0m\n\u001b[0m\u001b[1;32m    985\u001b[0m             \u001b[0mprec\u001b[0m\u001b[0;34m,\u001b[0m \u001b[0mrounding\u001b[0m \u001b[0;34m=\u001b[0m \u001b[0mctx\u001b[0m\u001b[0;34m.\u001b[0m\u001b[0m_prec_rounding\u001b[0m\u001b[0;34m\u001b[0m\u001b[0m\n\u001b[1;32m    986\u001b[0m             \u001b[0;32mif\u001b[0m \u001b[0mkwargs\u001b[0m\u001b[0;34m:\u001b[0m\u001b[0;34m\u001b[0m\u001b[0m\n",
      "\u001b[0;32m~/.local/lib/python3.5/site-packages/mpmath/ctx_mp_python.py\u001b[0m in \u001b[0;36mconvert\u001b[0;34m(ctx, x, strings)\u001b[0m\n\u001b[1;32m    660\u001b[0m         \u001b[0;32mif\u001b[0m \u001b[0mhasattr\u001b[0m\u001b[0;34m(\u001b[0m\u001b[0mx\u001b[0m\u001b[0;34m,\u001b[0m \u001b[0;34m'_mpmath_'\u001b[0m\u001b[0;34m)\u001b[0m\u001b[0;34m:\u001b[0m\u001b[0;34m\u001b[0m\u001b[0m\n\u001b[1;32m    661\u001b[0m             \u001b[0;32mreturn\u001b[0m \u001b[0mctx\u001b[0m\u001b[0;34m.\u001b[0m\u001b[0mconvert\u001b[0m\u001b[0;34m(\u001b[0m\u001b[0mx\u001b[0m\u001b[0;34m.\u001b[0m\u001b[0m_mpmath_\u001b[0m\u001b[0;34m(\u001b[0m\u001b[0mprec\u001b[0m\u001b[0;34m,\u001b[0m \u001b[0mrounding\u001b[0m\u001b[0;34m)\u001b[0m\u001b[0;34m)\u001b[0m\u001b[0;34m\u001b[0m\u001b[0m\n\u001b[0;32m--> 662\u001b[0;31m         \u001b[0;32mreturn\u001b[0m \u001b[0mctx\u001b[0m\u001b[0;34m.\u001b[0m\u001b[0m_convert_fallback\u001b[0m\u001b[0;34m(\u001b[0m\u001b[0mx\u001b[0m\u001b[0;34m,\u001b[0m \u001b[0mstrings\u001b[0m\u001b[0;34m)\u001b[0m\u001b[0;34m\u001b[0m\u001b[0m\n\u001b[0m\u001b[1;32m    663\u001b[0m \u001b[0;34m\u001b[0m\u001b[0m\n\u001b[1;32m    664\u001b[0m     \u001b[0;32mdef\u001b[0m \u001b[0misnan\u001b[0m\u001b[0;34m(\u001b[0m\u001b[0mctx\u001b[0m\u001b[0;34m,\u001b[0m \u001b[0mx\u001b[0m\u001b[0;34m)\u001b[0m\u001b[0;34m:\u001b[0m\u001b[0;34m\u001b[0m\u001b[0m\n",
      "\u001b[0;32m~/.local/lib/python3.5/site-packages/mpmath/ctx_mp.py\u001b[0m in \u001b[0;36m_convert_fallback\u001b[0;34m(ctx, x, strings)\u001b[0m\n\u001b[1;32m    632\u001b[0m             \u001b[0;32melse\u001b[0m\u001b[0;34m:\u001b[0m\u001b[0;34m\u001b[0m\u001b[0m\n\u001b[1;32m    633\u001b[0m                 \u001b[0;32mraise\u001b[0m \u001b[0mValueError\u001b[0m\u001b[0;34m(\u001b[0m\u001b[0;34m\"can only create mpf from zero-width interval\"\u001b[0m\u001b[0;34m)\u001b[0m\u001b[0;34m\u001b[0m\u001b[0m\n\u001b[0;32m--> 634\u001b[0;31m         \u001b[0;32mraise\u001b[0m \u001b[0mTypeError\u001b[0m\u001b[0;34m(\u001b[0m\u001b[0;34m\"cannot create mpf from \"\u001b[0m \u001b[0;34m+\u001b[0m \u001b[0mrepr\u001b[0m\u001b[0;34m(\u001b[0m\u001b[0mx\u001b[0m\u001b[0;34m)\u001b[0m\u001b[0;34m)\u001b[0m\u001b[0;34m\u001b[0m\u001b[0m\n\u001b[0m\u001b[1;32m    635\u001b[0m \u001b[0;34m\u001b[0m\u001b[0m\n\u001b[1;32m    636\u001b[0m     \u001b[0;32mdef\u001b[0m \u001b[0mmpmathify\u001b[0m\u001b[0;34m(\u001b[0m\u001b[0mctx\u001b[0m\u001b[0;34m,\u001b[0m \u001b[0;34m*\u001b[0m\u001b[0margs\u001b[0m\u001b[0;34m,\u001b[0m \u001b[0;34m**\u001b[0m\u001b[0mkwargs\u001b[0m\u001b[0;34m)\u001b[0m\u001b[0;34m:\u001b[0m\u001b[0;34m\u001b[0m\u001b[0m\n",
      "\u001b[0;31mTypeError\u001b[0m: cannot create mpf from -dn_nm1**4 + 2*dn_nm1**2*dn_nm2**2 + 2*dn_nm1**2*xnm1**2 - 4*dn_nm1**2*xnm1*xnm2 + 2*dn_nm1**2*xnm2**2 + 2*dn_nm1**2*ynm1**2 - 4*dn_nm1**2*ynm1*ynm2 + 2*dn_nm1**2*ynm2**2 - 4*dn_nm1**2*zn*znm1 + 4*dn_nm1**2*zn*znm2 + 2*dn_nm1**2*znm1**2 - 2*dn_nm1**2*znm2**2 - dn_nm2**4 + 2*dn_nm2**2*xnm1**2 - 4*dn_nm2**2*xnm1*xnm2 + 2*dn_nm2**2*xnm2**2 + 2*dn_nm2**2*ynm1**2 - 4*dn_nm2**2*ynm1*ynm2 + 2*dn_nm2**2*ynm2**2 + 4*dn_nm2**2*zn*znm1 - 4*dn_nm2**2*zn*znm2 - 2*dn_nm2**2*znm1**2 + 2*dn_nm2**2*znm2**2 - xnm1**4 + 4*xnm1**3*xnm2 - 6*xnm1**2*xnm2**2 - 2*xnm1**2*ynm1**2 + 4*xnm1**2*ynm1*ynm2 - 2*xnm1**2*ynm2**2 - 4*xnm1**2*zn**2 + 4*xnm1**2*zn*znm1 + 4*xnm1**2*zn*znm2 - 2*xnm1**2*znm1**2 - 2*xnm1**2*znm2**2 + 4*xnm1*xnm2**3 + 4*xnm1*xnm2*ynm1**2 - 8*xnm1*xnm2*ynm1*ynm2 + 4*xnm1*xnm2*ynm2**2 + 8*xnm1*xnm2*zn**2 - 8*xnm1*xnm2*zn*znm1 - 8*xnm1*xnm2*zn*znm2 + 4*xnm1*xnm2*znm1**2 + 4*xnm1*xnm2*znm2**2 - xnm2**4 - 2*xnm2**2*ynm1**2 + 4*xnm2**2*ynm1*ynm2 - 2*xnm2**2*ynm2**2 - 4*xnm2**2*zn**2 + 4*xnm2**2*zn*znm1 + 4*xnm2**2*zn*znm2 - 2*xnm2**2*znm1**2 - 2*xnm2**2*znm2**2 - ynm1**4 + 4*ynm1**3*ynm2 - 6*ynm1**2*ynm2**2 - 4*ynm1**2*zn**2 + 4*ynm1**2*zn*znm1 + 4*ynm1**2*zn*znm2 - 2*ynm1**2*znm1**2 - 2*ynm1**2*znm2**2 + 4*ynm1*ynm2**3 + 8*ynm1*ynm2*zn**2 - 8*ynm1*ynm2*zn*znm1 - 8*ynm1*ynm2*zn*znm2 + 4*ynm1*ynm2*znm1**2 + 4*ynm1*ynm2*znm2**2 - ynm2**4 - 4*ynm2**2*zn**2 + 4*ynm2**2*zn*znm1 + 4*ynm2**2*zn*znm2 - 2*ynm2**2*znm1**2 - 2*ynm2**2*znm2**2 - 4*zn**2*znm1**2 + 8*zn**2*znm1*znm2 - 4*zn**2*znm2**2 + 4*zn*znm1**3 - 4*zn*znm1**2*znm2 - 4*zn*znm1*znm2**2 + 4*zn*znm2**3 - znm1**4 + 2*znm1**2*znm2**2 - znm2**4"
     ]
    }
   ],
   "source": [
    "eqs = []\n",
    "\n",
    "eqs.append(-(xnm1 - xnm2)*sqrt(-dn_nm1**4 + 2*dn_nm1**2*dn_nm2**2 \n",
    "                               + 2*dn_nm1**2*xnm1**2 - 4*dn_nm1**2*xnm1*xnm2 + 2*dn_nm1**2*xnm2**2 \n",
    "                               + 2*dn_nm1**2*ynm1**2 - 4*dn_nm1**2*ynm1*ynm2 + 2*dn_nm1**2*ynm2**2 \n",
    "                               - 4*dn_nm1**2*zn*znm1 + 4*dn_nm1**2*zn*znm2 + 2*dn_nm1**2*znm1**2 \n",
    "                               - 2*dn_nm1**2*znm2**2 - dn_nm2**4 + 2*dn_nm2**2*xnm1**2 \n",
    "                               - 4*dn_nm2**2*xnm1*xnm2 + 2*dn_nm2**2*xnm2**2 + 2*dn_nm2**2*ynm1**2 \n",
    "                               - 4*dn_nm2**2*ynm1*ynm2 + 2*dn_nm2**2*ynm2**2 + 4*dn_nm2**2*zn*znm1 \n",
    "                               - 4*dn_nm2**2*zn*znm2 - 2*dn_nm2**2*znm1**2 + 2*dn_nm2**2*znm2**2 \n",
    "                               - xnm1**4 + 4*xnm1**3*xnm2 - 6*xnm1**2*xnm2**2 - 2*xnm1**2*ynm1**2 \n",
    "                               + 4*xnm1**2*ynm1*ynm2 - 2*xnm1**2*ynm2**2 - 4*xnm1**2*zn**2 \n",
    "                               + 4*xnm1**2*zn*znm1 + 4*xnm1**2*zn*znm2 - 2*xnm1**2*znm1**2 \n",
    "                               - 2*xnm1**2*znm2**2 + 4*xnm1*xnm2**3 + 4*xnm1*xnm2*ynm1**2 \n",
    "                               - 8*xnm1*xnm2*ynm1*ynm2 + 4*xnm1*xnm2*ynm2**2 + 8*xnm1*xnm2*zn**2 \n",
    "                               - 8*xnm1*xnm2*zn*znm1 - 8*xnm1*xnm2*zn*znm2 + 4*xnm1*xnm2*znm1**2 \n",
    "                               + 4*xnm1*xnm2*znm2**2 - xnm2**4 - 2*xnm2**2*ynm1**2 + 4*xnm2**2*ynm1*ynm2 \n",
    "                               - 2*xnm2**2*ynm2**2 - 4*xnm2**2*zn**2 + 4*xnm2**2*zn*znm1 \n",
    "                               + 4*xnm2**2*zn*znm2 - 2*xnm2**2*znm1**2 - 2*xnm2**2*znm2**2 \n",
    "                               - ynm1**4 + 4*ynm1**3*ynm2 - 6*ynm1**2*ynm2**2 - 4*ynm1**2*zn**2 \n",
    "                               + 4*ynm1**2*zn*znm1 + 4*ynm1**2*zn*znm2 - 2*ynm1**2*znm1**2 \n",
    "                               - 2*ynm1**2*znm2**2 + 4*ynm1*ynm2**3 + 8*ynm1*ynm2*zn**2 \n",
    "                               - 8*ynm1*ynm2*zn*znm1 - 8*ynm1*ynm2*zn*znm2 + 4*ynm1*ynm2*znm1**2 \n",
    "                               + 4*ynm1*ynm2*znm2**2 - ynm2**4 - 4*ynm2**2*zn**2 + 4*ynm2**2*zn*znm1 \n",
    "                               + 4*ynm2**2*zn*znm2 - 2*ynm2**2*znm1**2 - 2*ynm2**2*znm2**2 \n",
    "                               - 4*zn**2*znm1**2 + 8*zn**2*znm1*znm2 - 4*zn**2*znm2**2 + 4*zn*znm1**3 \n",
    "                               - 4*zn*znm1**2*znm2 - 4*zn*znm1*znm2**2 + 4*zn*znm2**3 - znm1**4 \n",
    "                               + 2*znm1**2*znm2**2 - znm2**4)/(2*(xnm1**2 - 2*xnm1*xnm2 + xnm2**2 + ynm1**2 \n",
    "                               - 2*ynm1*ynm2 + ynm2**2)) - (dn_nm1**2*ynm1 - dn_nm1**2*ynm2 - dn_nm2**2*ynm1 \n",
    "                               + dn_nm2**2*ynm2 - xnm1**2*ynm1 - xnm1**2*ynm2 + 2*xnm1*xnm2*ynm1 + 2*xnm1*xnm2*ynm2 \n",
    "                               - xnm2**2*ynm1 - xnm2**2*ynm2 - ynm1**3 + ynm1**2*ynm2 + ynm1*ynm2**2 \n",
    "                               + 2*ynm1*zn*znm1 - 2*ynm1*zn*znm2 - ynm1*znm1**2 + ynm1*znm2**2 - ynm2**3 \n",
    "                               - 2*ynm2*zn*znm1 + 2*ynm2*zn*znm2 + ynm2*znm1**2 - ynm2*znm2**2)/(2*(xnm1**2 \n",
    "                               - 2*xnm1*xnm2 + xnm2**2 + ynm1**2 - 2*ynm1*ynm2 + ynm2**2)))\n",
    "\n",
    "nonlinsolve(eqs, [zn])\n",
    "\n"
   ]
  },
  {
   "cell_type": "markdown",
   "metadata": {},
   "source": [
    "### Résolution générale du système partiel (contenant la description de trois sphères)\n",
    "\n",
    "On cherche toujours ici à résoudre le système d'équations de façon générale, afin d'éviter d'utiliser un solveur à chaque recherche des coordonnées d'un point. La différence avec la méthode développée ci-dessus est qu'on ne va pas chercher à trouver l'intersection de quatre sphères mais de seulement trois. L'idée est que dans le cas où les quatre premiers points ne sont pas alignés, l'intersection de trois sphères ayant pour centres trois des points et pour rayon la distance entre ces points et le point recherché possèdera deux solutions. Une seule de ces solutions correspond au point recherché, mais nous pourrons déterminer ce point en fonction de la distance avec le point que l'on aura ignoré jusque là.\n",
    "\n",
    "Formellement, nous allons tenter de trouver la solution générale de l'intersection entre les sphères de centres respectifs a(n-4), a(n-3) et a(n-2) et de rayons respectifs dn_nm4, dn_nm3, dn_nm2. L'ensemble de solution devrait contenir deux valeurs, parmi lesquelles on sélectionnera au cas par cas (à chaque recherche) celle dont la distance avec le point a(n-1) sera la plus proche de la valeur de dn_nm1.\n",
    "\n",
    "On réalise que les équations sont encore trop complexes, on va donc tenter une nouvelle approche\n",
    "\n",
    "#### Expression de xn en fonction de yn, zn et des paramètres\n"
   ]
  },
  {
   "cell_type": "code",
   "execution_count": null,
   "metadata": {},
   "outputs": [],
   "source": [
    "# Formalisation du système\n",
    "eqs = []\n",
    "\n",
    "xn = Symbol(\"xn\")\n",
    "\n",
    "eqs.append((xn - xnm4)**2 + (yn - ynm4)**2\n",
    "           + (zn - znm4)**2 - dn_nm4**2)\n",
    "\n",
    "eqs.append((xn - xnm3)**2 + (yn - ynm3)**2\n",
    "           + (zn - znm3)**2 - dn_nm3**2)\n",
    "\n",
    "eqs.append((xn - xnm2)**2 + (yn - ynm2)**2\n",
    "           + (zn - znm2)**2 - dn_nm2**2)\n",
    "\n",
    "nonlinsolve(eqs, [xn, yn, zn])\n"
   ]
  },
  {
   "cell_type": "code",
   "execution_count": 7,
   "metadata": {},
   "outputs": [
    {
     "data": {
      "text/plain": [
       "{(xnm4 - sqrt(dn_nm4**2 - yn**2 + 2*yn*ynm4 - ynm4**2 - zn**2 + 2*zn*znm4 - znm4**2),), (xnm4 + sqrt(dn_nm4**2 - yn**2 + 2*yn*ynm4 - ynm4**2 - zn**2 + 2*zn*znm4 - znm4**2),)}"
      ]
     },
     "execution_count": 7,
     "metadata": {},
     "output_type": "execute_result"
    }
   ],
   "source": [
    "# Formalisation du système\n",
    "eqs = []\n",
    "\n",
    "xn = Symbol(\"xn\")\n",
    "\n",
    "eqs.append((xn - xnm4)**2 + (yn - ynm4)**2\n",
    "           + (zn - znm4)**2 - dn_nm4**2)\n",
    "\n",
    "# Expression de xn en fonction des autres variables et paramètres\n",
    "nonlinsolve(eqs, [xn])"
   ]
  },
  {
   "cell_type": "markdown",
   "metadata": {},
   "source": [
    "#### Expression de yn en fonction de zn et des paramètres pour chaque solution de xn\n",
    "\n",
    "On remplace xn par l'expression calculée au dessus et on en déduit l'expression de yn en fonction de zn et des paramètres."
   ]
  },
  {
   "cell_type": "code",
   "execution_count": 36,
   "metadata": {},
   "outputs": [
    {
     "data": {
      "text/plain": [
       "{(-(xnm2 - xnm4)*sqrt(-dn_nm2**4 + 2*dn_nm2**2*dn_nm4**2 + 2*dn_nm2**2*xnm2**2 - 4*dn_nm2**2*xnm2*xnm4 + 2*dn_nm2**2*xnm4**2 + 2*dn_nm2**2*ynm2**2 - 4*dn_nm2**2*ynm2*ynm4 + 2*dn_nm2**2*ynm4**2 - 4*dn_nm2**2*zn*znm2 + 4*dn_nm2**2*zn*znm4 + 2*dn_nm2**2*znm2**2 - 2*dn_nm2**2*znm4**2 - dn_nm4**4 + 2*dn_nm4**2*xnm2**2 - 4*dn_nm4**2*xnm2*xnm4 + 2*dn_nm4**2*xnm4**2 + 2*dn_nm4**2*ynm2**2 - 4*dn_nm4**2*ynm2*ynm4 + 2*dn_nm4**2*ynm4**2 + 4*dn_nm4**2*zn*znm2 - 4*dn_nm4**2*zn*znm4 - 2*dn_nm4**2*znm2**2 + 2*dn_nm4**2*znm4**2 - xnm2**4 + 4*xnm2**3*xnm4 - 6*xnm2**2*xnm4**2 - 2*xnm2**2*ynm2**2 + 4*xnm2**2*ynm2*ynm4 - 2*xnm2**2*ynm4**2 - 4*xnm2**2*zn**2 + 4*xnm2**2*zn*znm2 + 4*xnm2**2*zn*znm4 - 2*xnm2**2*znm2**2 - 2*xnm2**2*znm4**2 + 4*xnm2*xnm4**3 + 4*xnm2*xnm4*ynm2**2 - 8*xnm2*xnm4*ynm2*ynm4 + 4*xnm2*xnm4*ynm4**2 + 8*xnm2*xnm4*zn**2 - 8*xnm2*xnm4*zn*znm2 - 8*xnm2*xnm4*zn*znm4 + 4*xnm2*xnm4*znm2**2 + 4*xnm2*xnm4*znm4**2 - xnm4**4 - 2*xnm4**2*ynm2**2 + 4*xnm4**2*ynm2*ynm4 - 2*xnm4**2*ynm4**2 - 4*xnm4**2*zn**2 + 4*xnm4**2*zn*znm2 + 4*xnm4**2*zn*znm4 - 2*xnm4**2*znm2**2 - 2*xnm4**2*znm4**2 - ynm2**4 + 4*ynm2**3*ynm4 - 6*ynm2**2*ynm4**2 - 4*ynm2**2*zn**2 + 4*ynm2**2*zn*znm2 + 4*ynm2**2*zn*znm4 - 2*ynm2**2*znm2**2 - 2*ynm2**2*znm4**2 + 4*ynm2*ynm4**3 + 8*ynm2*ynm4*zn**2 - 8*ynm2*ynm4*zn*znm2 - 8*ynm2*ynm4*zn*znm4 + 4*ynm2*ynm4*znm2**2 + 4*ynm2*ynm4*znm4**2 - ynm4**4 - 4*ynm4**2*zn**2 + 4*ynm4**2*zn*znm2 + 4*ynm4**2*zn*znm4 - 2*ynm4**2*znm2**2 - 2*ynm4**2*znm4**2 - 4*zn**2*znm2**2 + 8*zn**2*znm2*znm4 - 4*zn**2*znm4**2 + 4*zn*znm2**3 - 4*zn*znm2**2*znm4 - 4*zn*znm2*znm4**2 + 4*zn*znm4**3 - znm2**4 + 2*znm2**2*znm4**2 - znm4**4)/(2*(xnm2**2 - 2*xnm2*xnm4 + xnm4**2 + ynm2**2 - 2*ynm2*ynm4 + ynm4**2)) - (dn_nm2**2*ynm2 - dn_nm2**2*ynm4 - dn_nm4**2*ynm2 + dn_nm4**2*ynm4 - xnm2**2*ynm2 - xnm2**2*ynm4 + 2*xnm2*xnm4*ynm2 + 2*xnm2*xnm4*ynm4 - xnm4**2*ynm2 - xnm4**2*ynm4 - ynm2**3 + ynm2**2*ynm4 + ynm2*ynm4**2 + 2*ynm2*zn*znm2 - 2*ynm2*zn*znm4 - ynm2*znm2**2 + ynm2*znm4**2 - ynm4**3 - 2*ynm4*zn*znm2 + 2*ynm4*zn*znm4 + ynm4*znm2**2 - ynm4*znm4**2)/(2*(xnm2**2 - 2*xnm2*xnm4 + xnm4**2 + ynm2**2 - 2*ynm2*ynm4 + ynm4**2)),), ((xnm2 - xnm4)*sqrt(-dn_nm2**4 + 2*dn_nm2**2*dn_nm4**2 + 2*dn_nm2**2*xnm2**2 - 4*dn_nm2**2*xnm2*xnm4 + 2*dn_nm2**2*xnm4**2 + 2*dn_nm2**2*ynm2**2 - 4*dn_nm2**2*ynm2*ynm4 + 2*dn_nm2**2*ynm4**2 - 4*dn_nm2**2*zn*znm2 + 4*dn_nm2**2*zn*znm4 + 2*dn_nm2**2*znm2**2 - 2*dn_nm2**2*znm4**2 - dn_nm4**4 + 2*dn_nm4**2*xnm2**2 - 4*dn_nm4**2*xnm2*xnm4 + 2*dn_nm4**2*xnm4**2 + 2*dn_nm4**2*ynm2**2 - 4*dn_nm4**2*ynm2*ynm4 + 2*dn_nm4**2*ynm4**2 + 4*dn_nm4**2*zn*znm2 - 4*dn_nm4**2*zn*znm4 - 2*dn_nm4**2*znm2**2 + 2*dn_nm4**2*znm4**2 - xnm2**4 + 4*xnm2**3*xnm4 - 6*xnm2**2*xnm4**2 - 2*xnm2**2*ynm2**2 + 4*xnm2**2*ynm2*ynm4 - 2*xnm2**2*ynm4**2 - 4*xnm2**2*zn**2 + 4*xnm2**2*zn*znm2 + 4*xnm2**2*zn*znm4 - 2*xnm2**2*znm2**2 - 2*xnm2**2*znm4**2 + 4*xnm2*xnm4**3 + 4*xnm2*xnm4*ynm2**2 - 8*xnm2*xnm4*ynm2*ynm4 + 4*xnm2*xnm4*ynm4**2 + 8*xnm2*xnm4*zn**2 - 8*xnm2*xnm4*zn*znm2 - 8*xnm2*xnm4*zn*znm4 + 4*xnm2*xnm4*znm2**2 + 4*xnm2*xnm4*znm4**2 - xnm4**4 - 2*xnm4**2*ynm2**2 + 4*xnm4**2*ynm2*ynm4 - 2*xnm4**2*ynm4**2 - 4*xnm4**2*zn**2 + 4*xnm4**2*zn*znm2 + 4*xnm4**2*zn*znm4 - 2*xnm4**2*znm2**2 - 2*xnm4**2*znm4**2 - ynm2**4 + 4*ynm2**3*ynm4 - 6*ynm2**2*ynm4**2 - 4*ynm2**2*zn**2 + 4*ynm2**2*zn*znm2 + 4*ynm2**2*zn*znm4 - 2*ynm2**2*znm2**2 - 2*ynm2**2*znm4**2 + 4*ynm2*ynm4**3 + 8*ynm2*ynm4*zn**2 - 8*ynm2*ynm4*zn*znm2 - 8*ynm2*ynm4*zn*znm4 + 4*ynm2*ynm4*znm2**2 + 4*ynm2*ynm4*znm4**2 - ynm4**4 - 4*ynm4**2*zn**2 + 4*ynm4**2*zn*znm2 + 4*ynm4**2*zn*znm4 - 2*ynm4**2*znm2**2 - 2*ynm4**2*znm4**2 - 4*zn**2*znm2**2 + 8*zn**2*znm2*znm4 - 4*zn**2*znm4**2 + 4*zn*znm2**3 - 4*zn*znm2**2*znm4 - 4*zn*znm2*znm4**2 + 4*zn*znm4**3 - znm2**4 + 2*znm2**2*znm4**2 - znm4**4)/(2*(xnm2**2 - 2*xnm2*xnm4 + xnm4**2 + ynm2**2 - 2*ynm2*ynm4 + ynm4**2)) - (dn_nm2**2*ynm2 - dn_nm2**2*ynm4 - dn_nm4**2*ynm2 + dn_nm4**2*ynm4 - xnm2**2*ynm2 - xnm2**2*ynm4 + 2*xnm2*xnm4*ynm2 + 2*xnm2*xnm4*ynm4 - xnm4**2*ynm2 - xnm4**2*ynm4 - ynm2**3 + ynm2**2*ynm4 + ynm2*ynm4**2 + 2*ynm2*zn*znm2 - 2*ynm2*zn*znm4 - ynm2*znm2**2 + ynm2*znm4**2 - ynm4**3 - 2*ynm4*zn*znm2 + 2*ynm4*zn*znm4 + ynm4*znm2**2 - ynm4*znm4**2)/(2*(xnm2**2 - 2*xnm2*xnm4 + xnm4**2 + ynm2**2 - 2*ynm2*ynm4 + ynm4**2)),)}"
      ]
     },
     "execution_count": 36,
     "metadata": {},
     "output_type": "execute_result"
    }
   ],
   "source": [
    "from sympy import sqrt\n",
    "from sympy import solve\n",
    "# Formalisation du système\n",
    "eqs = []\n",
    "\n",
    "\n",
    "eqs.append(((xnm4 + sqrt(dn_nm4**2 - yn**2 + 2*yn*ynm4 - ynm4**2 - zn**2 + 2*zn*znm4 - znm4**2))\n",
    " - xnm3)**2 + (yn - ynm3)**2\n",
    "           + (zn - znm3)**2 - dn_nm3**2)\n",
    "\n",
    "eqs.append(((xnm4 + sqrt(dn_nm4**2 - yn**2 + 2*yn*ynm4 - ynm4**2 - zn**2 + 2*zn*znm4 - znm4**2))\n",
    " - xnm2)**2 + (yn - ynm2)**2\n",
    "           + (zn - znm2)**2 - dn_nm2**2)\n",
    "# Expression de yn en fonction de zn et des paramètres\n",
    "\n",
    "nonlinsolve(eqs, [yn])"
   ]
  },
  {
   "cell_type": "code",
   "execution_count": null,
   "metadata": {},
   "outputs": [],
   "source": []
  },
  {
   "cell_type": "markdown",
   "metadata": {},
   "source": [
    "#### Expression de zn en fonction des paramètres "
   ]
  },
  {
   "cell_type": "code",
   "execution_count": 30,
   "metadata": {},
   "outputs": [
    {
     "ename": "KeyboardInterrupt",
     "evalue": "",
     "output_type": "error",
     "traceback": [
      "\u001b[0;31m---------------------------------------------------------------------------\u001b[0m",
      "\u001b[0;31mKeyboardInterrupt\u001b[0m                         Traceback (most recent call last)",
      "\u001b[0;32m<ipython-input-30-28d8e620f17c>\u001b[0m in \u001b[0;36m<module>\u001b[0;34m()\u001b[0m\n\u001b[1;32m     43\u001b[0m \u001b[0;34m\u001b[0m\u001b[0m\n\u001b[1;32m     44\u001b[0m \u001b[0;34m\u001b[0m\u001b[0m\n\u001b[0;32m---> 45\u001b[0;31m \u001b[0mnonlinsolve\u001b[0m\u001b[0;34m(\u001b[0m\u001b[0meqs\u001b[0m\u001b[0;34m,\u001b[0m \u001b[0;34m[\u001b[0m\u001b[0mzn\u001b[0m\u001b[0;34m]\u001b[0m\u001b[0;34m)\u001b[0m\u001b[0;34m\u001b[0m\u001b[0m\n\u001b[0m\u001b[1;32m     46\u001b[0m \u001b[0;34m\u001b[0m\u001b[0m\n",
      "\u001b[0;32m~/.local/lib/python3.5/site-packages/sympy/solvers/solveset.py\u001b[0m in \u001b[0;36mnonlinsolve\u001b[0;34m(system, *symbols)\u001b[0m\n\u001b[1;32m   2135\u001b[0m     \u001b[0;31m# main code of def nonlinsolve() starts from here\u001b[0m\u001b[0;34m\u001b[0m\u001b[0;34m\u001b[0m\u001b[0m\n\u001b[1;32m   2136\u001b[0m     polys, polys_expr, nonpolys, denominators = _separate_poly_nonpoly(\n\u001b[0;32m-> 2137\u001b[0;31m         system, symbols)\n\u001b[0m\u001b[1;32m   2138\u001b[0m \u001b[0;34m\u001b[0m\u001b[0m\n\u001b[1;32m   2139\u001b[0m     \u001b[0;32mif\u001b[0m \u001b[0mlen\u001b[0m\u001b[0;34m(\u001b[0m\u001b[0msymbols\u001b[0m\u001b[0;34m)\u001b[0m \u001b[0;34m==\u001b[0m \u001b[0mlen\u001b[0m\u001b[0;34m(\u001b[0m\u001b[0mpolys\u001b[0m\u001b[0;34m)\u001b[0m\u001b[0;34m:\u001b[0m\u001b[0;34m\u001b[0m\u001b[0m\n",
      "\u001b[0;32m~/.local/lib/python3.5/site-packages/sympy/solvers/solveset.py\u001b[0m in \u001b[0;36m_separate_poly_nonpoly\u001b[0;34m(system, symbols)\u001b[0m\n\u001b[1;32m   1928\u001b[0m         \u001b[0mdenominators\u001b[0m\u001b[0;34m.\u001b[0m\u001b[0mupdate\u001b[0m\u001b[0;34m(\u001b[0m\u001b[0m_simple_dens\u001b[0m\u001b[0;34m(\u001b[0m\u001b[0meq\u001b[0m\u001b[0;34m,\u001b[0m \u001b[0msymbols\u001b[0m\u001b[0;34m)\u001b[0m\u001b[0;34m)\u001b[0m\u001b[0;34m\u001b[0m\u001b[0m\n\u001b[1;32m   1929\u001b[0m         \u001b[0;31m# try to remove sqrt and rational power\u001b[0m\u001b[0;34m\u001b[0m\u001b[0;34m\u001b[0m\u001b[0m\n\u001b[0;32m-> 1930\u001b[0;31m         \u001b[0mwithout_radicals\u001b[0m \u001b[0;34m=\u001b[0m \u001b[0munrad\u001b[0m\u001b[0;34m(\u001b[0m\u001b[0msimplify\u001b[0m\u001b[0;34m(\u001b[0m\u001b[0meq\u001b[0m\u001b[0;34m)\u001b[0m\u001b[0;34m)\u001b[0m\u001b[0;34m\u001b[0m\u001b[0m\n\u001b[0m\u001b[1;32m   1931\u001b[0m         \u001b[0;32mif\u001b[0m \u001b[0mwithout_radicals\u001b[0m\u001b[0;34m:\u001b[0m\u001b[0;34m\u001b[0m\u001b[0m\n\u001b[1;32m   1932\u001b[0m             \u001b[0meq_unrad\u001b[0m\u001b[0;34m,\u001b[0m \u001b[0mcov\u001b[0m \u001b[0;34m=\u001b[0m \u001b[0mwithout_radicals\u001b[0m\u001b[0;34m\u001b[0m\u001b[0m\n",
      "\u001b[0;32m~/.local/lib/python3.5/site-packages/sympy/simplify/simplify.py\u001b[0m in \u001b[0;36msimplify\u001b[0;34m(expr, ratio, measure, fu)\u001b[0m\n\u001b[1;32m    545\u001b[0m     \u001b[0mexpr\u001b[0m \u001b[0;34m=\u001b[0m \u001b[0mMul\u001b[0m\u001b[0;34m(\u001b[0m\u001b[0;34m*\u001b[0m\u001b[0mpowsimp\u001b[0m\u001b[0;34m(\u001b[0m\u001b[0mexpr\u001b[0m\u001b[0;34m)\u001b[0m\u001b[0;34m.\u001b[0m\u001b[0mas_content_primitive\u001b[0m\u001b[0;34m(\u001b[0m\u001b[0;34m)\u001b[0m\u001b[0;34m)\u001b[0m\u001b[0;34m\u001b[0m\u001b[0m\n\u001b[1;32m    546\u001b[0m     \u001b[0m_e\u001b[0m \u001b[0;34m=\u001b[0m \u001b[0mcancel\u001b[0m\u001b[0;34m(\u001b[0m\u001b[0mexpr\u001b[0m\u001b[0;34m)\u001b[0m\u001b[0;34m\u001b[0m\u001b[0m\n\u001b[0;32m--> 547\u001b[0;31m     \u001b[0mexpr1\u001b[0m \u001b[0;34m=\u001b[0m \u001b[0mshorter\u001b[0m\u001b[0;34m(\u001b[0m\u001b[0m_e\u001b[0m\u001b[0;34m,\u001b[0m \u001b[0m_mexpand\u001b[0m\u001b[0;34m(\u001b[0m\u001b[0m_e\u001b[0m\u001b[0;34m)\u001b[0m\u001b[0;34m.\u001b[0m\u001b[0mcancel\u001b[0m\u001b[0;34m(\u001b[0m\u001b[0;34m)\u001b[0m\u001b[0;34m)\u001b[0m  \u001b[0;31m# issue 6829\u001b[0m\u001b[0;34m\u001b[0m\u001b[0m\n\u001b[0m\u001b[1;32m    548\u001b[0m     \u001b[0mexpr2\u001b[0m \u001b[0;34m=\u001b[0m \u001b[0mshorter\u001b[0m\u001b[0;34m(\u001b[0m\u001b[0mtogether\u001b[0m\u001b[0;34m(\u001b[0m\u001b[0mexpr\u001b[0m\u001b[0;34m,\u001b[0m \u001b[0mdeep\u001b[0m\u001b[0;34m=\u001b[0m\u001b[0;32mTrue\u001b[0m\u001b[0;34m)\u001b[0m\u001b[0;34m,\u001b[0m \u001b[0mtogether\u001b[0m\u001b[0;34m(\u001b[0m\u001b[0mexpr1\u001b[0m\u001b[0;34m,\u001b[0m \u001b[0mdeep\u001b[0m\u001b[0;34m=\u001b[0m\u001b[0;32mTrue\u001b[0m\u001b[0;34m)\u001b[0m\u001b[0;34m)\u001b[0m\u001b[0;34m\u001b[0m\u001b[0m\n\u001b[1;32m    549\u001b[0m \u001b[0;34m\u001b[0m\u001b[0m\n",
      "\u001b[0;32m~/.local/lib/python3.5/site-packages/sympy/core/expr.py\u001b[0m in \u001b[0;36mcancel\u001b[0;34m(self, *gens, **args)\u001b[0m\n\u001b[1;32m   3159\u001b[0m         \u001b[0;34m\"\"\"See the cancel function in sympy.polys\"\"\"\u001b[0m\u001b[0;34m\u001b[0m\u001b[0m\n\u001b[1;32m   3160\u001b[0m         \u001b[0;32mfrom\u001b[0m \u001b[0msympy\u001b[0m\u001b[0;34m.\u001b[0m\u001b[0mpolys\u001b[0m \u001b[0;32mimport\u001b[0m \u001b[0mcancel\u001b[0m\u001b[0;34m\u001b[0m\u001b[0m\n\u001b[0;32m-> 3161\u001b[0;31m         \u001b[0;32mreturn\u001b[0m \u001b[0mcancel\u001b[0m\u001b[0;34m(\u001b[0m\u001b[0mself\u001b[0m\u001b[0;34m,\u001b[0m \u001b[0;34m*\u001b[0m\u001b[0mgens\u001b[0m\u001b[0;34m,\u001b[0m \u001b[0;34m**\u001b[0m\u001b[0margs\u001b[0m\u001b[0;34m)\u001b[0m\u001b[0;34m\u001b[0m\u001b[0m\n\u001b[0m\u001b[1;32m   3162\u001b[0m \u001b[0;34m\u001b[0m\u001b[0m\n\u001b[1;32m   3163\u001b[0m     \u001b[0;32mdef\u001b[0m \u001b[0minvert\u001b[0m\u001b[0;34m(\u001b[0m\u001b[0mself\u001b[0m\u001b[0;34m,\u001b[0m \u001b[0mg\u001b[0m\u001b[0;34m,\u001b[0m \u001b[0;34m*\u001b[0m\u001b[0mgens\u001b[0m\u001b[0;34m,\u001b[0m \u001b[0;34m**\u001b[0m\u001b[0margs\u001b[0m\u001b[0;34m)\u001b[0m\u001b[0;34m:\u001b[0m\u001b[0;34m\u001b[0m\u001b[0m\n",
      "\u001b[0;32m~/.local/lib/python3.5/site-packages/sympy/polys/polytools.py\u001b[0m in \u001b[0;36mcancel\u001b[0;34m(f, *gens, **args)\u001b[0m\n\u001b[1;32m   6432\u001b[0m \u001b[0;34m\u001b[0m\u001b[0m\n\u001b[1;32m   6433\u001b[0m     \u001b[0;32mtry\u001b[0m\u001b[0;34m:\u001b[0m\u001b[0;34m\u001b[0m\u001b[0m\n\u001b[0;32m-> 6434\u001b[0;31m         \u001b[0;34m(\u001b[0m\u001b[0mF\u001b[0m\u001b[0;34m,\u001b[0m \u001b[0mG\u001b[0m\u001b[0;34m)\u001b[0m\u001b[0;34m,\u001b[0m \u001b[0mopt\u001b[0m \u001b[0;34m=\u001b[0m \u001b[0mparallel_poly_from_expr\u001b[0m\u001b[0;34m(\u001b[0m\u001b[0;34m(\u001b[0m\u001b[0mp\u001b[0m\u001b[0;34m,\u001b[0m \u001b[0mq\u001b[0m\u001b[0;34m)\u001b[0m\u001b[0;34m,\u001b[0m \u001b[0;34m*\u001b[0m\u001b[0mgens\u001b[0m\u001b[0;34m,\u001b[0m \u001b[0;34m**\u001b[0m\u001b[0margs\u001b[0m\u001b[0;34m)\u001b[0m\u001b[0;34m\u001b[0m\u001b[0m\n\u001b[0m\u001b[1;32m   6435\u001b[0m     \u001b[0;32mexcept\u001b[0m \u001b[0mPolificationFailed\u001b[0m\u001b[0;34m:\u001b[0m\u001b[0;34m\u001b[0m\u001b[0m\n\u001b[1;32m   6436\u001b[0m         \u001b[0;32mif\u001b[0m \u001b[0;32mnot\u001b[0m \u001b[0misinstance\u001b[0m\u001b[0;34m(\u001b[0m\u001b[0mf\u001b[0m\u001b[0;34m,\u001b[0m \u001b[0;34m(\u001b[0m\u001b[0mtuple\u001b[0m\u001b[0;34m,\u001b[0m \u001b[0mTuple\u001b[0m\u001b[0;34m)\u001b[0m\u001b[0;34m)\u001b[0m\u001b[0;34m:\u001b[0m\u001b[0;34m\u001b[0m\u001b[0m\n",
      "\u001b[0;32m~/.local/lib/python3.5/site-packages/sympy/polys/polytools.py\u001b[0m in \u001b[0;36mparallel_poly_from_expr\u001b[0;34m(exprs, *gens, **args)\u001b[0m\n\u001b[1;32m   4264\u001b[0m     \u001b[0;34m\"\"\"Construct polynomials from expressions. \"\"\"\u001b[0m\u001b[0;34m\u001b[0m\u001b[0m\n\u001b[1;32m   4265\u001b[0m     \u001b[0mopt\u001b[0m \u001b[0;34m=\u001b[0m \u001b[0moptions\u001b[0m\u001b[0;34m.\u001b[0m\u001b[0mbuild_options\u001b[0m\u001b[0;34m(\u001b[0m\u001b[0mgens\u001b[0m\u001b[0;34m,\u001b[0m \u001b[0margs\u001b[0m\u001b[0;34m)\u001b[0m\u001b[0;34m\u001b[0m\u001b[0m\n\u001b[0;32m-> 4266\u001b[0;31m     \u001b[0;32mreturn\u001b[0m \u001b[0m_parallel_poly_from_expr\u001b[0m\u001b[0;34m(\u001b[0m\u001b[0mexprs\u001b[0m\u001b[0;34m,\u001b[0m \u001b[0mopt\u001b[0m\u001b[0;34m)\u001b[0m\u001b[0;34m\u001b[0m\u001b[0m\n\u001b[0m\u001b[1;32m   4267\u001b[0m \u001b[0;34m\u001b[0m\u001b[0m\n\u001b[1;32m   4268\u001b[0m \u001b[0;34m\u001b[0m\u001b[0m\n",
      "\u001b[0;32m~/.local/lib/python3.5/site-packages/sympy/polys/polytools.py\u001b[0m in \u001b[0;36m_parallel_poly_from_expr\u001b[0;34m(exprs, opt)\u001b[0m\n\u001b[1;32m   4317\u001b[0m             \u001b[0mexprs\u001b[0m\u001b[0;34m[\u001b[0m\u001b[0mi\u001b[0m\u001b[0;34m]\u001b[0m \u001b[0;34m=\u001b[0m \u001b[0mexprs\u001b[0m\u001b[0;34m[\u001b[0m\u001b[0mi\u001b[0m\u001b[0;34m]\u001b[0m\u001b[0;34m.\u001b[0m\u001b[0mas_expr\u001b[0m\u001b[0;34m(\u001b[0m\u001b[0;34m)\u001b[0m\u001b[0;34m\u001b[0m\u001b[0m\n\u001b[1;32m   4318\u001b[0m \u001b[0;34m\u001b[0m\u001b[0m\n\u001b[0;32m-> 4319\u001b[0;31m     \u001b[0mreps\u001b[0m\u001b[0;34m,\u001b[0m \u001b[0mopt\u001b[0m \u001b[0;34m=\u001b[0m \u001b[0m_parallel_dict_from_expr\u001b[0m\u001b[0;34m(\u001b[0m\u001b[0mexprs\u001b[0m\u001b[0;34m,\u001b[0m \u001b[0mopt\u001b[0m\u001b[0;34m)\u001b[0m\u001b[0;34m\u001b[0m\u001b[0m\n\u001b[0m\u001b[1;32m   4320\u001b[0m     \u001b[0;32mif\u001b[0m \u001b[0;32mnot\u001b[0m \u001b[0mopt\u001b[0m\u001b[0;34m.\u001b[0m\u001b[0mgens\u001b[0m\u001b[0;34m:\u001b[0m\u001b[0;34m\u001b[0m\u001b[0m\n\u001b[1;32m   4321\u001b[0m         \u001b[0;32mraise\u001b[0m \u001b[0mPolificationFailed\u001b[0m\u001b[0;34m(\u001b[0m\u001b[0mopt\u001b[0m\u001b[0;34m,\u001b[0m \u001b[0morigs\u001b[0m\u001b[0;34m,\u001b[0m \u001b[0mexprs\u001b[0m\u001b[0;34m,\u001b[0m \u001b[0;32mTrue\u001b[0m\u001b[0;34m)\u001b[0m\u001b[0;34m\u001b[0m\u001b[0m\n",
      "\u001b[0;32m~/.local/lib/python3.5/site-packages/sympy/polys/polyutils.py\u001b[0m in \u001b[0;36m_parallel_dict_from_expr\u001b[0;34m(exprs, opt)\u001b[0m\n\u001b[1;32m    321\u001b[0m     \u001b[0;34m\"\"\"Transform expressions into a multinomial form. \"\"\"\u001b[0m\u001b[0;34m\u001b[0m\u001b[0m\n\u001b[1;32m    322\u001b[0m     \u001b[0;32mif\u001b[0m \u001b[0mopt\u001b[0m\u001b[0;34m.\u001b[0m\u001b[0mexpand\u001b[0m \u001b[0;32mis\u001b[0m \u001b[0;32mnot\u001b[0m \u001b[0;32mFalse\u001b[0m\u001b[0;34m:\u001b[0m\u001b[0;34m\u001b[0m\u001b[0m\n\u001b[0;32m--> 323\u001b[0;31m         \u001b[0mexprs\u001b[0m \u001b[0;34m=\u001b[0m \u001b[0;34m[\u001b[0m \u001b[0mexpr\u001b[0m\u001b[0;34m.\u001b[0m\u001b[0mexpand\u001b[0m\u001b[0;34m(\u001b[0m\u001b[0;34m)\u001b[0m \u001b[0;32mfor\u001b[0m \u001b[0mexpr\u001b[0m \u001b[0;32min\u001b[0m \u001b[0mexprs\u001b[0m \u001b[0;34m]\u001b[0m\u001b[0;34m\u001b[0m\u001b[0m\n\u001b[0m\u001b[1;32m    324\u001b[0m \u001b[0;34m\u001b[0m\u001b[0m\n\u001b[1;32m    325\u001b[0m     \u001b[0;32mif\u001b[0m \u001b[0many\u001b[0m\u001b[0;34m(\u001b[0m\u001b[0mexpr\u001b[0m\u001b[0;34m.\u001b[0m\u001b[0mis_commutative\u001b[0m \u001b[0;32mis\u001b[0m \u001b[0;32mFalse\u001b[0m \u001b[0;32mfor\u001b[0m \u001b[0mexpr\u001b[0m \u001b[0;32min\u001b[0m \u001b[0mexprs\u001b[0m\u001b[0;34m)\u001b[0m\u001b[0;34m:\u001b[0m\u001b[0;34m\u001b[0m\u001b[0m\n",
      "\u001b[0;32m~/.local/lib/python3.5/site-packages/sympy/polys/polyutils.py\u001b[0m in \u001b[0;36m<listcomp>\u001b[0;34m(.0)\u001b[0m\n\u001b[1;32m    321\u001b[0m     \u001b[0;34m\"\"\"Transform expressions into a multinomial form. \"\"\"\u001b[0m\u001b[0;34m\u001b[0m\u001b[0m\n\u001b[1;32m    322\u001b[0m     \u001b[0;32mif\u001b[0m \u001b[0mopt\u001b[0m\u001b[0;34m.\u001b[0m\u001b[0mexpand\u001b[0m \u001b[0;32mis\u001b[0m \u001b[0;32mnot\u001b[0m \u001b[0;32mFalse\u001b[0m\u001b[0;34m:\u001b[0m\u001b[0;34m\u001b[0m\u001b[0m\n\u001b[0;32m--> 323\u001b[0;31m         \u001b[0mexprs\u001b[0m \u001b[0;34m=\u001b[0m \u001b[0;34m[\u001b[0m \u001b[0mexpr\u001b[0m\u001b[0;34m.\u001b[0m\u001b[0mexpand\u001b[0m\u001b[0;34m(\u001b[0m\u001b[0;34m)\u001b[0m \u001b[0;32mfor\u001b[0m \u001b[0mexpr\u001b[0m \u001b[0;32min\u001b[0m \u001b[0mexprs\u001b[0m \u001b[0;34m]\u001b[0m\u001b[0;34m\u001b[0m\u001b[0m\n\u001b[0m\u001b[1;32m    324\u001b[0m \u001b[0;34m\u001b[0m\u001b[0m\n\u001b[1;32m    325\u001b[0m     \u001b[0;32mif\u001b[0m \u001b[0many\u001b[0m\u001b[0;34m(\u001b[0m\u001b[0mexpr\u001b[0m\u001b[0;34m.\u001b[0m\u001b[0mis_commutative\u001b[0m \u001b[0;32mis\u001b[0m \u001b[0;32mFalse\u001b[0m \u001b[0;32mfor\u001b[0m \u001b[0mexpr\u001b[0m \u001b[0;32min\u001b[0m \u001b[0mexprs\u001b[0m\u001b[0;34m)\u001b[0m\u001b[0;34m:\u001b[0m\u001b[0;34m\u001b[0m\u001b[0m\n",
      "\u001b[0;32m~/.local/lib/python3.5/site-packages/sympy/core/cache.py\u001b[0m in \u001b[0;36mwrapper\u001b[0;34m(*args, **kwargs)\u001b[0m\n\u001b[1;32m     91\u001b[0m             \u001b[0;32mdef\u001b[0m \u001b[0mwrapper\u001b[0m\u001b[0;34m(\u001b[0m\u001b[0;34m*\u001b[0m\u001b[0margs\u001b[0m\u001b[0;34m,\u001b[0m \u001b[0;34m**\u001b[0m\u001b[0mkwargs\u001b[0m\u001b[0;34m)\u001b[0m\u001b[0;34m:\u001b[0m\u001b[0;34m\u001b[0m\u001b[0m\n\u001b[1;32m     92\u001b[0m                 \u001b[0;32mtry\u001b[0m\u001b[0;34m:\u001b[0m\u001b[0;34m\u001b[0m\u001b[0m\n\u001b[0;32m---> 93\u001b[0;31m                     \u001b[0mretval\u001b[0m \u001b[0;34m=\u001b[0m \u001b[0mcfunc\u001b[0m\u001b[0;34m(\u001b[0m\u001b[0;34m*\u001b[0m\u001b[0margs\u001b[0m\u001b[0;34m,\u001b[0m \u001b[0;34m**\u001b[0m\u001b[0mkwargs\u001b[0m\u001b[0;34m)\u001b[0m\u001b[0;34m\u001b[0m\u001b[0m\n\u001b[0m\u001b[1;32m     94\u001b[0m                 \u001b[0;32mexcept\u001b[0m \u001b[0mTypeError\u001b[0m\u001b[0;34m:\u001b[0m\u001b[0;34m\u001b[0m\u001b[0m\n\u001b[1;32m     95\u001b[0m                     \u001b[0mretval\u001b[0m \u001b[0;34m=\u001b[0m \u001b[0mfunc\u001b[0m\u001b[0;34m(\u001b[0m\u001b[0;34m*\u001b[0m\u001b[0margs\u001b[0m\u001b[0;34m,\u001b[0m \u001b[0;34m**\u001b[0m\u001b[0mkwargs\u001b[0m\u001b[0;34m)\u001b[0m\u001b[0;34m\u001b[0m\u001b[0m\n",
      "\u001b[0;32m~/.local/lib/python3.5/site-packages/sympy/core/expr.py\u001b[0m in \u001b[0;36mexpand\u001b[0;34m(self, deep, modulus, power_base, power_exp, mul, log, multinomial, basic, **hints)\u001b[0m\n\u001b[1;32m   3043\u001b[0m             \u001b[0;32mif\u001b[0m \u001b[0muse_hint\u001b[0m\u001b[0;34m:\u001b[0m\u001b[0;34m\u001b[0m\u001b[0m\n\u001b[1;32m   3044\u001b[0m                 \u001b[0mhint\u001b[0m \u001b[0;34m=\u001b[0m \u001b[0;34m'_eval_expand_'\u001b[0m \u001b[0;34m+\u001b[0m \u001b[0mhint\u001b[0m\u001b[0;34m\u001b[0m\u001b[0m\n\u001b[0;32m-> 3045\u001b[0;31m                 \u001b[0mexpr\u001b[0m\u001b[0;34m,\u001b[0m \u001b[0mhit\u001b[0m \u001b[0;34m=\u001b[0m \u001b[0mExpr\u001b[0m\u001b[0;34m.\u001b[0m\u001b[0m_expand_hint\u001b[0m\u001b[0;34m(\u001b[0m\u001b[0mexpr\u001b[0m\u001b[0;34m,\u001b[0m \u001b[0mhint\u001b[0m\u001b[0;34m,\u001b[0m \u001b[0mdeep\u001b[0m\u001b[0;34m=\u001b[0m\u001b[0mdeep\u001b[0m\u001b[0;34m,\u001b[0m \u001b[0;34m**\u001b[0m\u001b[0mhints\u001b[0m\u001b[0;34m)\u001b[0m\u001b[0;34m\u001b[0m\u001b[0m\n\u001b[0m\u001b[1;32m   3046\u001b[0m \u001b[0;34m\u001b[0m\u001b[0m\n\u001b[1;32m   3047\u001b[0m         \u001b[0;32mwhile\u001b[0m \u001b[0;32mTrue\u001b[0m\u001b[0;34m:\u001b[0m\u001b[0;34m\u001b[0m\u001b[0m\n",
      "\u001b[0;32m~/.local/lib/python3.5/site-packages/sympy/core/expr.py\u001b[0m in \u001b[0;36m_expand_hint\u001b[0;34m(expr, hint, deep, **hints)\u001b[0m\n\u001b[1;32m   2976\u001b[0m             \u001b[0msargs\u001b[0m \u001b[0;34m=\u001b[0m \u001b[0;34m[\u001b[0m\u001b[0;34m]\u001b[0m\u001b[0;34m\u001b[0m\u001b[0m\n\u001b[1;32m   2977\u001b[0m             \u001b[0;32mfor\u001b[0m \u001b[0marg\u001b[0m \u001b[0;32min\u001b[0m \u001b[0mexpr\u001b[0m\u001b[0;34m.\u001b[0m\u001b[0margs\u001b[0m\u001b[0;34m:\u001b[0m\u001b[0;34m\u001b[0m\u001b[0m\n\u001b[0;32m-> 2978\u001b[0;31m                 \u001b[0marg\u001b[0m\u001b[0;34m,\u001b[0m \u001b[0marghit\u001b[0m \u001b[0;34m=\u001b[0m \u001b[0mExpr\u001b[0m\u001b[0;34m.\u001b[0m\u001b[0m_expand_hint\u001b[0m\u001b[0;34m(\u001b[0m\u001b[0marg\u001b[0m\u001b[0;34m,\u001b[0m \u001b[0mhint\u001b[0m\u001b[0;34m,\u001b[0m \u001b[0;34m**\u001b[0m\u001b[0mhints\u001b[0m\u001b[0;34m)\u001b[0m\u001b[0;34m\u001b[0m\u001b[0m\n\u001b[0m\u001b[1;32m   2979\u001b[0m                 \u001b[0mhit\u001b[0m \u001b[0;34m|=\u001b[0m \u001b[0marghit\u001b[0m\u001b[0;34m\u001b[0m\u001b[0m\n\u001b[1;32m   2980\u001b[0m                 \u001b[0msargs\u001b[0m\u001b[0;34m.\u001b[0m\u001b[0mappend\u001b[0m\u001b[0;34m(\u001b[0m\u001b[0marg\u001b[0m\u001b[0;34m)\u001b[0m\u001b[0;34m\u001b[0m\u001b[0m\n",
      "\u001b[0;32m~/.local/lib/python3.5/site-packages/sympy/core/expr.py\u001b[0m in \u001b[0;36m_expand_hint\u001b[0;34m(expr, hint, deep, **hints)\u001b[0m\n\u001b[1;32m   2976\u001b[0m             \u001b[0msargs\u001b[0m \u001b[0;34m=\u001b[0m \u001b[0;34m[\u001b[0m\u001b[0;34m]\u001b[0m\u001b[0;34m\u001b[0m\u001b[0m\n\u001b[1;32m   2977\u001b[0m             \u001b[0;32mfor\u001b[0m \u001b[0marg\u001b[0m \u001b[0;32min\u001b[0m \u001b[0mexpr\u001b[0m\u001b[0;34m.\u001b[0m\u001b[0margs\u001b[0m\u001b[0;34m:\u001b[0m\u001b[0;34m\u001b[0m\u001b[0m\n\u001b[0;32m-> 2978\u001b[0;31m                 \u001b[0marg\u001b[0m\u001b[0;34m,\u001b[0m \u001b[0marghit\u001b[0m \u001b[0;34m=\u001b[0m \u001b[0mExpr\u001b[0m\u001b[0;34m.\u001b[0m\u001b[0m_expand_hint\u001b[0m\u001b[0;34m(\u001b[0m\u001b[0marg\u001b[0m\u001b[0;34m,\u001b[0m \u001b[0mhint\u001b[0m\u001b[0;34m,\u001b[0m \u001b[0;34m**\u001b[0m\u001b[0mhints\u001b[0m\u001b[0;34m)\u001b[0m\u001b[0;34m\u001b[0m\u001b[0m\n\u001b[0m\u001b[1;32m   2979\u001b[0m                 \u001b[0mhit\u001b[0m \u001b[0;34m|=\u001b[0m \u001b[0marghit\u001b[0m\u001b[0;34m\u001b[0m\u001b[0m\n\u001b[1;32m   2980\u001b[0m                 \u001b[0msargs\u001b[0m\u001b[0;34m.\u001b[0m\u001b[0mappend\u001b[0m\u001b[0;34m(\u001b[0m\u001b[0marg\u001b[0m\u001b[0;34m)\u001b[0m\u001b[0;34m\u001b[0m\u001b[0m\n",
      "\u001b[0;32m~/.local/lib/python3.5/site-packages/sympy/core/expr.py\u001b[0m in \u001b[0;36m_expand_hint\u001b[0;34m(expr, hint, deep, **hints)\u001b[0m\n\u001b[1;32m   2976\u001b[0m             \u001b[0msargs\u001b[0m \u001b[0;34m=\u001b[0m \u001b[0;34m[\u001b[0m\u001b[0;34m]\u001b[0m\u001b[0;34m\u001b[0m\u001b[0m\n\u001b[1;32m   2977\u001b[0m             \u001b[0;32mfor\u001b[0m \u001b[0marg\u001b[0m \u001b[0;32min\u001b[0m \u001b[0mexpr\u001b[0m\u001b[0;34m.\u001b[0m\u001b[0margs\u001b[0m\u001b[0;34m:\u001b[0m\u001b[0;34m\u001b[0m\u001b[0m\n\u001b[0;32m-> 2978\u001b[0;31m                 \u001b[0marg\u001b[0m\u001b[0;34m,\u001b[0m \u001b[0marghit\u001b[0m \u001b[0;34m=\u001b[0m \u001b[0mExpr\u001b[0m\u001b[0;34m.\u001b[0m\u001b[0m_expand_hint\u001b[0m\u001b[0;34m(\u001b[0m\u001b[0marg\u001b[0m\u001b[0;34m,\u001b[0m \u001b[0mhint\u001b[0m\u001b[0;34m,\u001b[0m \u001b[0;34m**\u001b[0m\u001b[0mhints\u001b[0m\u001b[0;34m)\u001b[0m\u001b[0;34m\u001b[0m\u001b[0m\n\u001b[0m\u001b[1;32m   2979\u001b[0m                 \u001b[0mhit\u001b[0m \u001b[0;34m|=\u001b[0m \u001b[0marghit\u001b[0m\u001b[0;34m\u001b[0m\u001b[0m\n\u001b[1;32m   2980\u001b[0m                 \u001b[0msargs\u001b[0m\u001b[0;34m.\u001b[0m\u001b[0mappend\u001b[0m\u001b[0;34m(\u001b[0m\u001b[0marg\u001b[0m\u001b[0;34m)\u001b[0m\u001b[0;34m\u001b[0m\u001b[0m\n",
      "\u001b[0;32m~/.local/lib/python3.5/site-packages/sympy/core/expr.py\u001b[0m in \u001b[0;36m_expand_hint\u001b[0;34m(expr, hint, deep, **hints)\u001b[0m\n\u001b[1;32m   2976\u001b[0m             \u001b[0msargs\u001b[0m \u001b[0;34m=\u001b[0m \u001b[0;34m[\u001b[0m\u001b[0;34m]\u001b[0m\u001b[0;34m\u001b[0m\u001b[0m\n\u001b[1;32m   2977\u001b[0m             \u001b[0;32mfor\u001b[0m \u001b[0marg\u001b[0m \u001b[0;32min\u001b[0m \u001b[0mexpr\u001b[0m\u001b[0;34m.\u001b[0m\u001b[0margs\u001b[0m\u001b[0;34m:\u001b[0m\u001b[0;34m\u001b[0m\u001b[0m\n\u001b[0;32m-> 2978\u001b[0;31m                 \u001b[0marg\u001b[0m\u001b[0;34m,\u001b[0m \u001b[0marghit\u001b[0m \u001b[0;34m=\u001b[0m \u001b[0mExpr\u001b[0m\u001b[0;34m.\u001b[0m\u001b[0m_expand_hint\u001b[0m\u001b[0;34m(\u001b[0m\u001b[0marg\u001b[0m\u001b[0;34m,\u001b[0m \u001b[0mhint\u001b[0m\u001b[0;34m,\u001b[0m \u001b[0;34m**\u001b[0m\u001b[0mhints\u001b[0m\u001b[0;34m)\u001b[0m\u001b[0;34m\u001b[0m\u001b[0m\n\u001b[0m\u001b[1;32m   2979\u001b[0m                 \u001b[0mhit\u001b[0m \u001b[0;34m|=\u001b[0m \u001b[0marghit\u001b[0m\u001b[0;34m\u001b[0m\u001b[0m\n\u001b[1;32m   2980\u001b[0m                 \u001b[0msargs\u001b[0m\u001b[0;34m.\u001b[0m\u001b[0mappend\u001b[0m\u001b[0;34m(\u001b[0m\u001b[0marg\u001b[0m\u001b[0;34m)\u001b[0m\u001b[0;34m\u001b[0m\u001b[0m\n",
      "\u001b[0;32m~/.local/lib/python3.5/site-packages/sympy/core/expr.py\u001b[0m in \u001b[0;36m_expand_hint\u001b[0;34m(expr, hint, deep, **hints)\u001b[0m\n\u001b[1;32m   2976\u001b[0m             \u001b[0msargs\u001b[0m \u001b[0;34m=\u001b[0m \u001b[0;34m[\u001b[0m\u001b[0;34m]\u001b[0m\u001b[0;34m\u001b[0m\u001b[0m\n\u001b[1;32m   2977\u001b[0m             \u001b[0;32mfor\u001b[0m \u001b[0marg\u001b[0m \u001b[0;32min\u001b[0m \u001b[0mexpr\u001b[0m\u001b[0;34m.\u001b[0m\u001b[0margs\u001b[0m\u001b[0;34m:\u001b[0m\u001b[0;34m\u001b[0m\u001b[0m\n\u001b[0;32m-> 2978\u001b[0;31m                 \u001b[0marg\u001b[0m\u001b[0;34m,\u001b[0m \u001b[0marghit\u001b[0m \u001b[0;34m=\u001b[0m \u001b[0mExpr\u001b[0m\u001b[0;34m.\u001b[0m\u001b[0m_expand_hint\u001b[0m\u001b[0;34m(\u001b[0m\u001b[0marg\u001b[0m\u001b[0;34m,\u001b[0m \u001b[0mhint\u001b[0m\u001b[0;34m,\u001b[0m \u001b[0;34m**\u001b[0m\u001b[0mhints\u001b[0m\u001b[0;34m)\u001b[0m\u001b[0;34m\u001b[0m\u001b[0m\n\u001b[0m\u001b[1;32m   2979\u001b[0m                 \u001b[0mhit\u001b[0m \u001b[0;34m|=\u001b[0m \u001b[0marghit\u001b[0m\u001b[0;34m\u001b[0m\u001b[0m\n\u001b[1;32m   2980\u001b[0m                 \u001b[0msargs\u001b[0m\u001b[0;34m.\u001b[0m\u001b[0mappend\u001b[0m\u001b[0;34m(\u001b[0m\u001b[0marg\u001b[0m\u001b[0;34m)\u001b[0m\u001b[0;34m\u001b[0m\u001b[0m\n",
      "\u001b[0;32m~/.local/lib/python3.5/site-packages/sympy/core/expr.py\u001b[0m in \u001b[0;36m_expand_hint\u001b[0;34m(expr, hint, deep, **hints)\u001b[0m\n\u001b[1;32m   2976\u001b[0m             \u001b[0msargs\u001b[0m \u001b[0;34m=\u001b[0m \u001b[0;34m[\u001b[0m\u001b[0;34m]\u001b[0m\u001b[0;34m\u001b[0m\u001b[0m\n\u001b[1;32m   2977\u001b[0m             \u001b[0;32mfor\u001b[0m \u001b[0marg\u001b[0m \u001b[0;32min\u001b[0m \u001b[0mexpr\u001b[0m\u001b[0;34m.\u001b[0m\u001b[0margs\u001b[0m\u001b[0;34m:\u001b[0m\u001b[0;34m\u001b[0m\u001b[0m\n\u001b[0;32m-> 2978\u001b[0;31m                 \u001b[0marg\u001b[0m\u001b[0;34m,\u001b[0m \u001b[0marghit\u001b[0m \u001b[0;34m=\u001b[0m \u001b[0mExpr\u001b[0m\u001b[0;34m.\u001b[0m\u001b[0m_expand_hint\u001b[0m\u001b[0;34m(\u001b[0m\u001b[0marg\u001b[0m\u001b[0;34m,\u001b[0m \u001b[0mhint\u001b[0m\u001b[0;34m,\u001b[0m \u001b[0;34m**\u001b[0m\u001b[0mhints\u001b[0m\u001b[0;34m)\u001b[0m\u001b[0;34m\u001b[0m\u001b[0m\n\u001b[0m\u001b[1;32m   2979\u001b[0m                 \u001b[0mhit\u001b[0m \u001b[0;34m|=\u001b[0m \u001b[0marghit\u001b[0m\u001b[0;34m\u001b[0m\u001b[0m\n\u001b[1;32m   2980\u001b[0m                 \u001b[0msargs\u001b[0m\u001b[0;34m.\u001b[0m\u001b[0mappend\u001b[0m\u001b[0;34m(\u001b[0m\u001b[0marg\u001b[0m\u001b[0;34m)\u001b[0m\u001b[0;34m\u001b[0m\u001b[0m\n",
      "\u001b[0;32m~/.local/lib/python3.5/site-packages/sympy/core/expr.py\u001b[0m in \u001b[0;36m_expand_hint\u001b[0;34m(expr, hint, deep, **hints)\u001b[0m\n\u001b[1;32m   2976\u001b[0m             \u001b[0msargs\u001b[0m \u001b[0;34m=\u001b[0m \u001b[0;34m[\u001b[0m\u001b[0;34m]\u001b[0m\u001b[0;34m\u001b[0m\u001b[0m\n\u001b[1;32m   2977\u001b[0m             \u001b[0;32mfor\u001b[0m \u001b[0marg\u001b[0m \u001b[0;32min\u001b[0m \u001b[0mexpr\u001b[0m\u001b[0;34m.\u001b[0m\u001b[0margs\u001b[0m\u001b[0;34m:\u001b[0m\u001b[0;34m\u001b[0m\u001b[0m\n\u001b[0;32m-> 2978\u001b[0;31m                 \u001b[0marg\u001b[0m\u001b[0;34m,\u001b[0m \u001b[0marghit\u001b[0m \u001b[0;34m=\u001b[0m \u001b[0mExpr\u001b[0m\u001b[0;34m.\u001b[0m\u001b[0m_expand_hint\u001b[0m\u001b[0;34m(\u001b[0m\u001b[0marg\u001b[0m\u001b[0;34m,\u001b[0m \u001b[0mhint\u001b[0m\u001b[0;34m,\u001b[0m \u001b[0;34m**\u001b[0m\u001b[0mhints\u001b[0m\u001b[0;34m)\u001b[0m\u001b[0;34m\u001b[0m\u001b[0m\n\u001b[0m\u001b[1;32m   2979\u001b[0m                 \u001b[0mhit\u001b[0m \u001b[0;34m|=\u001b[0m \u001b[0marghit\u001b[0m\u001b[0;34m\u001b[0m\u001b[0m\n\u001b[1;32m   2980\u001b[0m                 \u001b[0msargs\u001b[0m\u001b[0;34m.\u001b[0m\u001b[0mappend\u001b[0m\u001b[0;34m(\u001b[0m\u001b[0marg\u001b[0m\u001b[0;34m)\u001b[0m\u001b[0;34m\u001b[0m\u001b[0m\n",
      "\u001b[0;32m~/.local/lib/python3.5/site-packages/sympy/core/expr.py\u001b[0m in \u001b[0;36m_expand_hint\u001b[0;34m(expr, hint, deep, **hints)\u001b[0m\n\u001b[1;32m   2976\u001b[0m             \u001b[0msargs\u001b[0m \u001b[0;34m=\u001b[0m \u001b[0;34m[\u001b[0m\u001b[0;34m]\u001b[0m\u001b[0;34m\u001b[0m\u001b[0m\n\u001b[1;32m   2977\u001b[0m             \u001b[0;32mfor\u001b[0m \u001b[0marg\u001b[0m \u001b[0;32min\u001b[0m \u001b[0mexpr\u001b[0m\u001b[0;34m.\u001b[0m\u001b[0margs\u001b[0m\u001b[0;34m:\u001b[0m\u001b[0;34m\u001b[0m\u001b[0m\n\u001b[0;32m-> 2978\u001b[0;31m                 \u001b[0marg\u001b[0m\u001b[0;34m,\u001b[0m \u001b[0marghit\u001b[0m \u001b[0;34m=\u001b[0m \u001b[0mExpr\u001b[0m\u001b[0;34m.\u001b[0m\u001b[0m_expand_hint\u001b[0m\u001b[0;34m(\u001b[0m\u001b[0marg\u001b[0m\u001b[0;34m,\u001b[0m \u001b[0mhint\u001b[0m\u001b[0;34m,\u001b[0m \u001b[0;34m**\u001b[0m\u001b[0mhints\u001b[0m\u001b[0;34m)\u001b[0m\u001b[0;34m\u001b[0m\u001b[0m\n\u001b[0m\u001b[1;32m   2979\u001b[0m                 \u001b[0mhit\u001b[0m \u001b[0;34m|=\u001b[0m \u001b[0marghit\u001b[0m\u001b[0;34m\u001b[0m\u001b[0m\n\u001b[1;32m   2980\u001b[0m                 \u001b[0msargs\u001b[0m\u001b[0;34m.\u001b[0m\u001b[0mappend\u001b[0m\u001b[0;34m(\u001b[0m\u001b[0marg\u001b[0m\u001b[0;34m)\u001b[0m\u001b[0;34m\u001b[0m\u001b[0m\n",
      "\u001b[0;32m~/.local/lib/python3.5/site-packages/sympy/core/expr.py\u001b[0m in \u001b[0;36m_expand_hint\u001b[0;34m(expr, hint, deep, **hints)\u001b[0m\n\u001b[1;32m   2976\u001b[0m             \u001b[0msargs\u001b[0m \u001b[0;34m=\u001b[0m \u001b[0;34m[\u001b[0m\u001b[0;34m]\u001b[0m\u001b[0;34m\u001b[0m\u001b[0m\n\u001b[1;32m   2977\u001b[0m             \u001b[0;32mfor\u001b[0m \u001b[0marg\u001b[0m \u001b[0;32min\u001b[0m \u001b[0mexpr\u001b[0m\u001b[0;34m.\u001b[0m\u001b[0margs\u001b[0m\u001b[0;34m:\u001b[0m\u001b[0;34m\u001b[0m\u001b[0m\n\u001b[0;32m-> 2978\u001b[0;31m                 \u001b[0marg\u001b[0m\u001b[0;34m,\u001b[0m \u001b[0marghit\u001b[0m \u001b[0;34m=\u001b[0m \u001b[0mExpr\u001b[0m\u001b[0;34m.\u001b[0m\u001b[0m_expand_hint\u001b[0m\u001b[0;34m(\u001b[0m\u001b[0marg\u001b[0m\u001b[0;34m,\u001b[0m \u001b[0mhint\u001b[0m\u001b[0;34m,\u001b[0m \u001b[0;34m**\u001b[0m\u001b[0mhints\u001b[0m\u001b[0;34m)\u001b[0m\u001b[0;34m\u001b[0m\u001b[0m\n\u001b[0m\u001b[1;32m   2979\u001b[0m                 \u001b[0mhit\u001b[0m \u001b[0;34m|=\u001b[0m \u001b[0marghit\u001b[0m\u001b[0;34m\u001b[0m\u001b[0m\n\u001b[1;32m   2980\u001b[0m                 \u001b[0msargs\u001b[0m\u001b[0;34m.\u001b[0m\u001b[0mappend\u001b[0m\u001b[0;34m(\u001b[0m\u001b[0marg\u001b[0m\u001b[0;34m)\u001b[0m\u001b[0;34m\u001b[0m\u001b[0m\n",
      "\u001b[0;32m~/.local/lib/python3.5/site-packages/sympy/core/expr.py\u001b[0m in \u001b[0;36m_expand_hint\u001b[0;34m(expr, hint, deep, **hints)\u001b[0m\n\u001b[1;32m   2983\u001b[0m                 \u001b[0mexpr\u001b[0m \u001b[0;34m=\u001b[0m \u001b[0mexpr\u001b[0m\u001b[0;34m.\u001b[0m\u001b[0mfunc\u001b[0m\u001b[0;34m(\u001b[0m\u001b[0;34m*\u001b[0m\u001b[0msargs\u001b[0m\u001b[0;34m)\u001b[0m\u001b[0;34m\u001b[0m\u001b[0m\n\u001b[1;32m   2984\u001b[0m \u001b[0;34m\u001b[0m\u001b[0m\n\u001b[0;32m-> 2985\u001b[0;31m         \u001b[0;32mif\u001b[0m \u001b[0mhasattr\u001b[0m\u001b[0;34m(\u001b[0m\u001b[0mexpr\u001b[0m\u001b[0;34m,\u001b[0m \u001b[0mhint\u001b[0m\u001b[0;34m)\u001b[0m\u001b[0;34m:\u001b[0m\u001b[0;34m\u001b[0m\u001b[0m\n\u001b[0m\u001b[1;32m   2986\u001b[0m             \u001b[0mnewexpr\u001b[0m \u001b[0;34m=\u001b[0m \u001b[0mgetattr\u001b[0m\u001b[0;34m(\u001b[0m\u001b[0mexpr\u001b[0m\u001b[0;34m,\u001b[0m \u001b[0mhint\u001b[0m\u001b[0;34m)\u001b[0m\u001b[0;34m(\u001b[0m\u001b[0;34m**\u001b[0m\u001b[0mhints\u001b[0m\u001b[0;34m)\u001b[0m\u001b[0;34m\u001b[0m\u001b[0m\n\u001b[1;32m   2987\u001b[0m             \u001b[0;32mif\u001b[0m \u001b[0mnewexpr\u001b[0m \u001b[0;34m!=\u001b[0m \u001b[0mexpr\u001b[0m\u001b[0;34m:\u001b[0m\u001b[0;34m\u001b[0m\u001b[0m\n",
      "\u001b[0;31mKeyboardInterrupt\u001b[0m: "
     ]
    }
   ],
   "source": [
    "eqs = []\n",
    "\n",
    "\n",
    "yn = ((xnm2 - xnm4)*sqrt(-dn_nm2**4 + 2*dn_nm2**2*dn_nm4**2 + 2*dn_nm2**2*xnm2**2 - 4*dn_nm2**2*xnm2*xnm4 \n",
    "                    + 2*dn_nm2**2*xnm4**2 + 2*dn_nm2**2*ynm2**2 - 4*dn_nm2**2*ynm2*ynm4 + 2*dn_nm2**2*ynm4**2 \n",
    "                    - 4*dn_nm2**2*zn*znm2 + 4*dn_nm2**2*zn*znm4 + 2*dn_nm2**2*znm2**2 - 2*dn_nm2**2*znm4**2 \n",
    "                    - dn_nm4**4 + 2*dn_nm4**2*xnm2**2 - 4*dn_nm4**2*xnm2*xnm4 + 2*dn_nm4**2*xnm4**2 \n",
    "                    + 2*dn_nm4**2*ynm2**2 - 4*dn_nm4**2*ynm2*ynm4 + 2*dn_nm4**2*ynm4**2 + 4*dn_nm4**2*zn*znm2 \n",
    "                    - 4*dn_nm4**2*zn*znm4 - 2*dn_nm4**2*znm2**2 + 2*dn_nm4**2*znm4**2 - xnm2**4 \n",
    "                    + 4*xnm2**3*xnm4 - 6*xnm2**2*xnm4**2 - 2*xnm2**2*ynm2**2 + 4*xnm2**2*ynm2*ynm4 \n",
    "                    - 2*xnm2**2*ynm4**2 - 4*xnm2**2*zn**2 + 4*xnm2**2*zn*znm2 + 4*xnm2**2*zn*znm4 \n",
    "                    - 2*xnm2**2*znm2**2 - 2*xnm2**2*znm4**2 + 4*xnm2*xnm4**3 + 4*xnm2*xnm4*ynm2**2 \n",
    "                    - 8*xnm2*xnm4*ynm2*ynm4 + 4*xnm2*xnm4*ynm4**2 + 8*xnm2*xnm4*zn**2 - 8*xnm2*xnm4*zn*znm2 \n",
    "                    - 8*xnm2*xnm4*zn*znm4 + 4*xnm2*xnm4*znm2**2 + 4*xnm2*xnm4*znm4**2 - xnm4**4 \n",
    "                    - 2*xnm4**2*ynm2**2 + 4*xnm4**2*ynm2*ynm4 - 2*xnm4**2*ynm4**2 - 4*xnm4**2*zn**2 \n",
    "                    + 4*xnm4**2*zn*znm2 + 4*xnm4**2*zn*znm4 - 2*xnm4**2*znm2**2 - 2*xnm4**2*znm4**2 \n",
    "                    - ynm2**4 + 4*ynm2**3*ynm4 - 6*ynm2**2*ynm4**2 - 4*ynm2**2*zn**2 + 4*ynm2**2*zn*znm2 \n",
    "                    + 4*ynm2**2*zn*znm4 - 2*ynm2**2*znm2**2 - 2*ynm2**2*znm4**2 + 4*ynm2*ynm4**3 \n",
    "                    + 8*ynm2*ynm4*zn**2 - 8*ynm2*ynm4*zn*znm2 - 8*ynm2*ynm4*zn*znm4 + 4*ynm2*ynm4*znm2**2 \n",
    "                    + 4*ynm2*ynm4*znm4**2 - ynm4**4 - 4*ynm4**2*zn**2 + 4*ynm4**2*zn*znm2 \n",
    "                    + 4*ynm4**2*zn*znm4 - 2*ynm4**2*znm2**2 - 2*ynm4**2*znm4**2 - 4*zn**2*znm2**2 \n",
    "                    + 8*zn**2*znm2*znm4 - 4*zn**2*znm4**2 + 4*zn*znm2**3 - 4*zn*znm2**2*znm4 \n",
    "                    - 4*zn*znm2*znm4**2 + 4*zn*znm4**3 - znm2**4 + 2*znm2**2*znm4**2 - znm4**4)\n",
    "                    /(2*(xnm2**2 - 2*xnm2*xnm4 + xnm4**2 + ynm2**2 - 2*ynm2*ynm4 + ynm4**2)) \n",
    "                    - (dn_nm2**2*ynm2 - dn_nm2**2*ynm4 - dn_nm4**2*ynm2 + dn_nm4**2*ynm4 - xnm2**2*ynm2 \n",
    "                    - xnm2**2*ynm4 + 2*xnm2*xnm4*ynm2 + 2*xnm2*xnm4*ynm4 - xnm4**2*ynm2 - xnm4**2*ynm4 \n",
    "                    - ynm2**3 + ynm2**2*ynm4 + ynm2*ynm4**2 + 2*ynm2*zn*znm2 - 2*ynm2*zn*znm4 \n",
    "                    - ynm2*znm2**2 + ynm2*znm4**2 - ynm4**3 - 2*ynm4*zn*znm2 + 2*ynm4*zn*znm4 \n",
    "                    + ynm4*znm2**2 - ynm4*znm4**2)/(2*(xnm2**2 - 2*xnm2*xnm4 + xnm4**2 + ynm2**2 \n",
    "                    - 2*ynm2*ynm4 + ynm4**2)))\n",
    "\n",
    "xn = (xnm4 + sqrt(dn_nm4**2 - yn**2 + 2*yn*ynm4 - ynm4**2 - zn**2 + 2*zn*znm4 - znm4**2))\n",
    "\n",
    "\n",
    "eqs.append((xn - xnm4)**2 + (yn - ynm4)**2\n",
    "           + (zn - znm4)**2 - dn_nm4**2)\n",
    "\n",
    "eqs.append((xn - xnm3)**2 + (yn - ynm3)**2\n",
    "           + (zn - znm3)**2 - dn_nm3**2)\n",
    "\n",
    "eqs.append((xn - xnm2)**2 + (yn - ynm2)**2\n",
    "           + (zn - znm2)**2 - dn_nm2**2)\n",
    "\n",
    "\n",
    "nonlinsolve(eqs, [zn])\n",
    "\n"
   ]
  },
  {
   "cell_type": "markdown",
   "metadata": {},
   "source": [
    "### Translation d'un point en (0,0,0) et intersection de trois sphères\n",
    "\n",
    "#### On exprime zn en fonction de xn, yn et des paramètres de l'instance"
   ]
  },
  {
   "cell_type": "code",
   "execution_count": 50,
   "metadata": {},
   "outputs": [
    {
     "data": {
      "text/plain": [
       "{(-sqrt(dn_nm4**2 - xn**2 - yn**2),), (sqrt(dn_nm4**2 - xn**2 - yn**2),)}"
      ]
     },
     "execution_count": 50,
     "metadata": {},
     "output_type": "execute_result"
    }
   ],
   "source": [
    "# Formalisation du système\n",
    "eqs = []\n",
    "\n",
    "xn = Symbol(\"xn\")\n",
    "yn = Symbol(\"yn\")\n",
    "zn = Symbol(\"zn\")\n",
    "\n",
    "# Position du point (n-4), fixé à (0, 0, 0)\n",
    "xnm4 = 0\n",
    "ynm4 = 0\n",
    "znm4 = 0\n",
    "\n",
    "# Position du point (n-3)\n",
    "xnm3 = Symbol('xnm3')\n",
    "ynm3 = Symbol('ynm3')\n",
    "znm3 = Symbol('znm3')\n",
    "\n",
    "# Position du point (n-2)\n",
    "xnm2 = Symbol('xnm2')\n",
    "ynm2 = Symbol('ynm2')\n",
    "znm2 = Symbol('znm2')\n",
    "\n",
    "# Position du point (n-1)\n",
    "xnm1 = Symbol('xnm1')\n",
    "ynm1 = Symbol('ynm1')\n",
    "znm1= Symbol('znm1')\n",
    "\n",
    "# Distances entre le point n recherché et les points (n-4), (n-3), (n-2) et (n-1)\n",
    "dn_nm4 = Symbol('dn_nm4')\n",
    "dn_nm3 = Symbol('dn_nm3')\n",
    "dn_nm2 = Symbol('dn_nm2')\n",
    "dn_nm1 = Symbol('dn_nm1')\n",
    "\n",
    "\n",
    "eqs.append((xn - xnm4)**2 + (yn - ynm4)**2\n",
    "           + (zn - znm4)**2 - dn_nm4**2)\n",
    "\n",
    "eqs.append((xn - xnm3)**2 + (yn - ynm3)**2\n",
    "           + (zn - znm3)**2 - dn_nm3**2)\n",
    "\n",
    "eqs.append((xn - xnm2)**2 + (yn - ynm2)**2\n",
    "           + (zn - znm2)**2 - dn_nm2**2)\n",
    "\n",
    "nonlinsolve(eqs, [zn])\n"
   ]
  },
  {
   "cell_type": "markdown",
   "metadata": {},
   "source": [
    "#### Expression de yn en fonction de zn si zn est positif"
   ]
  },
  {
   "cell_type": "code",
   "execution_count": 51,
   "metadata": {},
   "outputs": [
    {
     "data": {
      "text/plain": [
       "{(-ynm2*(dn_nm2**2 - dn_nm4**2 + 2*xn*xnm2 - xnm2**2 - ynm2**2 - znm2**2)/(2*(ynm2**2 + znm2**2)) - znm2*sqrt(-dn_nm2**4 + 2*dn_nm2**2*dn_nm4**2 - 4*dn_nm2**2*xn*xnm2 + 2*dn_nm2**2*xnm2**2 + 2*dn_nm2**2*ynm2**2 + 2*dn_nm2**2*znm2**2 - dn_nm4**4 + 4*dn_nm4**2*xn*xnm2 - 2*dn_nm4**2*xnm2**2 + 2*dn_nm4**2*ynm2**2 + 2*dn_nm4**2*znm2**2 - 4*xn**2*xnm2**2 - 4*xn**2*ynm2**2 - 4*xn**2*znm2**2 + 4*xn*xnm2**3 + 4*xn*xnm2*ynm2**2 + 4*xn*xnm2*znm2**2 - xnm2**4 - 2*xnm2**2*ynm2**2 - 2*xnm2**2*znm2**2 - ynm2**4 - 2*ynm2**2*znm2**2 - znm2**4)/(2*(ynm2**2 + znm2**2)),), (-ynm2*(dn_nm2**2 - dn_nm4**2 + 2*xn*xnm2 - xnm2**2 - ynm2**2 - znm2**2)/(2*(ynm2**2 + znm2**2)) + znm2*sqrt(-dn_nm2**4 + 2*dn_nm2**2*dn_nm4**2 - 4*dn_nm2**2*xn*xnm2 + 2*dn_nm2**2*xnm2**2 + 2*dn_nm2**2*ynm2**2 + 2*dn_nm2**2*znm2**2 - dn_nm4**4 + 4*dn_nm4**2*xn*xnm2 - 2*dn_nm4**2*xnm2**2 + 2*dn_nm4**2*ynm2**2 + 2*dn_nm4**2*znm2**2 - 4*xn**2*xnm2**2 - 4*xn**2*ynm2**2 - 4*xn**2*znm2**2 + 4*xn*xnm2**3 + 4*xn*xnm2*ynm2**2 + 4*xn*xnm2*znm2**2 - xnm2**4 - 2*xnm2**2*ynm2**2 - 2*xnm2**2*znm2**2 - ynm2**4 - 2*ynm2**2*znm2**2 - znm2**4)/(2*(ynm2**2 + znm2**2)),)}"
      ]
     },
     "execution_count": 51,
     "metadata": {},
     "output_type": "execute_result"
    }
   ],
   "source": [
    "eqs = []\n",
    "\n",
    "zn = (sqrt(dn_nm4**2 - xn**2 - yn**2))\n",
    "\n",
    "eqs.append((xn - xnm4)**2 + (yn - ynm4)**2\n",
    "           + (zn - znm4)**2 - dn_nm4**2)\n",
    "\n",
    "eqs.append((xn - xnm3)**2 + (yn - ynm3)**2\n",
    "           + (zn - znm3)**2 - dn_nm3**2)\n",
    "\n",
    "eqs.append((xn - xnm2)**2 + (yn - ynm2)**2\n",
    "           + (zn - znm2)**2 - dn_nm2**2)\n",
    "\n",
    "nonlinsolve(eqs, [yn])\n"
   ]
  },
  {
   "cell_type": "markdown",
   "metadata": {},
   "source": [
    "#### Expression de yn en fonction de zn si zn est négatif"
   ]
  },
  {
   "cell_type": "code",
   "execution_count": 53,
   "metadata": {},
   "outputs": [
    {
     "data": {
      "text/plain": [
       "{(-ynm2*(dn_nm2**2 - dn_nm4**2 + 2*xn*xnm2 - xnm2**2 - ynm2**2 - znm2**2)/(2*(ynm2**2 + znm2**2)) - znm2*sqrt(-dn_nm2**4 + 2*dn_nm2**2*dn_nm4**2 - 4*dn_nm2**2*xn*xnm2 + 2*dn_nm2**2*xnm2**2 + 2*dn_nm2**2*ynm2**2 + 2*dn_nm2**2*znm2**2 - dn_nm4**4 + 4*dn_nm4**2*xn*xnm2 - 2*dn_nm4**2*xnm2**2 + 2*dn_nm4**2*ynm2**2 + 2*dn_nm4**2*znm2**2 - 4*xn**2*xnm2**2 - 4*xn**2*ynm2**2 - 4*xn**2*znm2**2 + 4*xn*xnm2**3 + 4*xn*xnm2*ynm2**2 + 4*xn*xnm2*znm2**2 - xnm2**4 - 2*xnm2**2*ynm2**2 - 2*xnm2**2*znm2**2 - ynm2**4 - 2*ynm2**2*znm2**2 - znm2**4)/(2*(ynm2**2 + znm2**2)),), (-ynm2*(dn_nm2**2 - dn_nm4**2 + 2*xn*xnm2 - xnm2**2 - ynm2**2 - znm2**2)/(2*(ynm2**2 + znm2**2)) + znm2*sqrt(-dn_nm2**4 + 2*dn_nm2**2*dn_nm4**2 - 4*dn_nm2**2*xn*xnm2 + 2*dn_nm2**2*xnm2**2 + 2*dn_nm2**2*ynm2**2 + 2*dn_nm2**2*znm2**2 - dn_nm4**4 + 4*dn_nm4**2*xn*xnm2 - 2*dn_nm4**2*xnm2**2 + 2*dn_nm4**2*ynm2**2 + 2*dn_nm4**2*znm2**2 - 4*xn**2*xnm2**2 - 4*xn**2*ynm2**2 - 4*xn**2*znm2**2 + 4*xn*xnm2**3 + 4*xn*xnm2*ynm2**2 + 4*xn*xnm2*znm2**2 - xnm2**4 - 2*xnm2**2*ynm2**2 - 2*xnm2**2*znm2**2 - ynm2**4 - 2*ynm2**2*znm2**2 - znm2**4)/(2*(ynm2**2 + znm2**2)),)}"
      ]
     },
     "execution_count": 53,
     "metadata": {},
     "output_type": "execute_result"
    }
   ],
   "source": [
    "eqs = []\n",
    "\n",
    "zn = (-sqrt(dn_nm4**2 - xn**2 - yn**2))\n",
    "\n",
    "eqs.append((xn - xnm4)**2 + (yn - ynm4)**2\n",
    "           + (zn - znm4)**2 - dn_nm4**2)\n",
    "\n",
    "eqs.append((xn - xnm3)**2 + (yn - ynm3)**2\n",
    "           + (zn - znm3)**2 - dn_nm3**2)\n",
    "\n",
    "eqs.append((xn - xnm2)**2 + (yn - ynm2)**2\n",
    "           + (zn - znm2)**2 - dn_nm2**2)\n",
    "\n",
    "nonlinsolve(eqs, [yn])"
   ]
  },
  {
   "cell_type": "markdown",
   "metadata": {},
   "source": [
    "On remarque que la solution est identique, quel que soit le signe de zn\n",
    "\n",
    "#### Expression de xn en fonction des paramètres, pour la première solution yn"
   ]
  },
  {
   "cell_type": "code",
   "execution_count": 54,
   "metadata": {},
   "outputs": [
    {
     "ename": "KeyboardInterrupt",
     "evalue": "",
     "output_type": "error",
     "traceback": [
      "\u001b[0;31m---------------------------------------------------------------------------\u001b[0m",
      "\u001b[0;31mKeyboardInterrupt\u001b[0m                         Traceback (most recent call last)",
      "\u001b[0;32m<ipython-input-54-b49ee5cef100>\u001b[0m in \u001b[0;36m<module>\u001b[0;34m()\u001b[0m\n\u001b[1;32m     19\u001b[0m            + (zn - znm2)**2 - dn_nm2**2)\n\u001b[1;32m     20\u001b[0m \u001b[0;34m\u001b[0m\u001b[0m\n\u001b[0;32m---> 21\u001b[0;31m \u001b[0mnonlinsolve\u001b[0m\u001b[0;34m(\u001b[0m\u001b[0meqs\u001b[0m\u001b[0;34m,\u001b[0m \u001b[0;34m[\u001b[0m\u001b[0mxn\u001b[0m\u001b[0;34m]\u001b[0m\u001b[0;34m)\u001b[0m\u001b[0;34m\u001b[0m\u001b[0m\n\u001b[0m\u001b[1;32m     22\u001b[0m \u001b[0;34m\u001b[0m\u001b[0m\n",
      "\u001b[0;32m~/.local/lib/python3.5/site-packages/sympy/solvers/solveset.py\u001b[0m in \u001b[0;36mnonlinsolve\u001b[0;34m(system, *symbols)\u001b[0m\n\u001b[1;32m   2135\u001b[0m     \u001b[0;31m# main code of def nonlinsolve() starts from here\u001b[0m\u001b[0;34m\u001b[0m\u001b[0;34m\u001b[0m\u001b[0m\n\u001b[1;32m   2136\u001b[0m     polys, polys_expr, nonpolys, denominators = _separate_poly_nonpoly(\n\u001b[0;32m-> 2137\u001b[0;31m         system, symbols)\n\u001b[0m\u001b[1;32m   2138\u001b[0m \u001b[0;34m\u001b[0m\u001b[0m\n\u001b[1;32m   2139\u001b[0m     \u001b[0;32mif\u001b[0m \u001b[0mlen\u001b[0m\u001b[0;34m(\u001b[0m\u001b[0msymbols\u001b[0m\u001b[0;34m)\u001b[0m \u001b[0;34m==\u001b[0m \u001b[0mlen\u001b[0m\u001b[0;34m(\u001b[0m\u001b[0mpolys\u001b[0m\u001b[0;34m)\u001b[0m\u001b[0;34m:\u001b[0m\u001b[0;34m\u001b[0m\u001b[0m\n",
      "\u001b[0;32m~/.local/lib/python3.5/site-packages/sympy/solvers/solveset.py\u001b[0m in \u001b[0;36m_separate_poly_nonpoly\u001b[0;34m(system, symbols)\u001b[0m\n\u001b[1;32m   1935\u001b[0m         \u001b[0;32mif\u001b[0m \u001b[0misinstance\u001b[0m\u001b[0;34m(\u001b[0m\u001b[0meq\u001b[0m\u001b[0;34m,\u001b[0m \u001b[0mExpr\u001b[0m\u001b[0;34m)\u001b[0m\u001b[0;34m:\u001b[0m\u001b[0;34m\u001b[0m\u001b[0m\n\u001b[1;32m   1936\u001b[0m             \u001b[0meq\u001b[0m \u001b[0;34m=\u001b[0m \u001b[0meq\u001b[0m\u001b[0;34m.\u001b[0m\u001b[0mas_numer_denom\u001b[0m\u001b[0;34m(\u001b[0m\u001b[0;34m)\u001b[0m\u001b[0;34m[\u001b[0m\u001b[0;36m0\u001b[0m\u001b[0;34m]\u001b[0m\u001b[0;34m\u001b[0m\u001b[0m\n\u001b[0;32m-> 1937\u001b[0;31m             \u001b[0mpoly\u001b[0m \u001b[0;34m=\u001b[0m \u001b[0meq\u001b[0m\u001b[0;34m.\u001b[0m\u001b[0mas_poly\u001b[0m\u001b[0;34m(\u001b[0m\u001b[0;34m*\u001b[0m\u001b[0msymbols\u001b[0m\u001b[0;34m,\u001b[0m \u001b[0mextension\u001b[0m\u001b[0;34m=\u001b[0m\u001b[0;32mTrue\u001b[0m\u001b[0;34m)\u001b[0m\u001b[0;34m\u001b[0m\u001b[0m\n\u001b[0m\u001b[1;32m   1938\u001b[0m         \u001b[0;32melif\u001b[0m \u001b[0msimplify\u001b[0m\u001b[0;34m(\u001b[0m\u001b[0meq\u001b[0m\u001b[0;34m)\u001b[0m\u001b[0;34m.\u001b[0m\u001b[0mis_number\u001b[0m\u001b[0;34m:\u001b[0m\u001b[0;34m\u001b[0m\u001b[0m\n\u001b[1;32m   1939\u001b[0m             \u001b[0;32mcontinue\u001b[0m\u001b[0;34m\u001b[0m\u001b[0m\n",
      "\u001b[0;32m~/.local/lib/python3.5/site-packages/sympy/core/basic.py\u001b[0m in \u001b[0;36mas_poly\u001b[0;34m(self, *gens, **args)\u001b[0m\n\u001b[1;32m    704\u001b[0m \u001b[0;34m\u001b[0m\u001b[0m\n\u001b[1;32m    705\u001b[0m         \u001b[0;32mtry\u001b[0m\u001b[0;34m:\u001b[0m\u001b[0;34m\u001b[0m\u001b[0m\n\u001b[0;32m--> 706\u001b[0;31m             \u001b[0mpoly\u001b[0m \u001b[0;34m=\u001b[0m \u001b[0mPoly\u001b[0m\u001b[0;34m(\u001b[0m\u001b[0mself\u001b[0m\u001b[0;34m,\u001b[0m \u001b[0;34m*\u001b[0m\u001b[0mgens\u001b[0m\u001b[0;34m,\u001b[0m \u001b[0;34m**\u001b[0m\u001b[0margs\u001b[0m\u001b[0;34m)\u001b[0m\u001b[0;34m\u001b[0m\u001b[0m\n\u001b[0m\u001b[1;32m    707\u001b[0m \u001b[0;34m\u001b[0m\u001b[0m\n\u001b[1;32m    708\u001b[0m             \u001b[0;32mif\u001b[0m \u001b[0;32mnot\u001b[0m \u001b[0mpoly\u001b[0m\u001b[0;34m.\u001b[0m\u001b[0mis_Poly\u001b[0m\u001b[0;34m:\u001b[0m\u001b[0;34m\u001b[0m\u001b[0m\n",
      "\u001b[0;32m~/.local/lib/python3.5/site-packages/sympy/polys/polytools.py\u001b[0m in \u001b[0;36m__new__\u001b[0;34m(cls, rep, *gens, **args)\u001b[0m\n\u001b[1;32m    127\u001b[0m                 \u001b[0;32mreturn\u001b[0m \u001b[0mcls\u001b[0m\u001b[0;34m.\u001b[0m\u001b[0m_from_poly\u001b[0m\u001b[0;34m(\u001b[0m\u001b[0mrep\u001b[0m\u001b[0;34m,\u001b[0m \u001b[0mopt\u001b[0m\u001b[0;34m)\u001b[0m\u001b[0;34m\u001b[0m\u001b[0m\n\u001b[1;32m    128\u001b[0m             \u001b[0;32melse\u001b[0m\u001b[0;34m:\u001b[0m\u001b[0;34m\u001b[0m\u001b[0m\n\u001b[0;32m--> 129\u001b[0;31m                 \u001b[0;32mreturn\u001b[0m \u001b[0mcls\u001b[0m\u001b[0;34m.\u001b[0m\u001b[0m_from_expr\u001b[0m\u001b[0;34m(\u001b[0m\u001b[0mrep\u001b[0m\u001b[0;34m,\u001b[0m \u001b[0mopt\u001b[0m\u001b[0;34m)\u001b[0m\u001b[0;34m\u001b[0m\u001b[0m\n\u001b[0m\u001b[1;32m    130\u001b[0m \u001b[0;34m\u001b[0m\u001b[0m\n\u001b[1;32m    131\u001b[0m     \u001b[0;34m@\u001b[0m\u001b[0mclassmethod\u001b[0m\u001b[0;34m\u001b[0m\u001b[0m\n",
      "\u001b[0;32m~/.local/lib/python3.5/site-packages/sympy/polys/polytools.py\u001b[0m in \u001b[0;36m_from_expr\u001b[0;34m(cls, rep, opt)\u001b[0m\n\u001b[1;32m    237\u001b[0m     \u001b[0;32mdef\u001b[0m \u001b[0m_from_expr\u001b[0m\u001b[0;34m(\u001b[0m\u001b[0mcls\u001b[0m\u001b[0;34m,\u001b[0m \u001b[0mrep\u001b[0m\u001b[0;34m,\u001b[0m \u001b[0mopt\u001b[0m\u001b[0;34m)\u001b[0m\u001b[0;34m:\u001b[0m\u001b[0;34m\u001b[0m\u001b[0m\n\u001b[1;32m    238\u001b[0m         \u001b[0;34m\"\"\"Construct a polynomial from an expression. \"\"\"\u001b[0m\u001b[0;34m\u001b[0m\u001b[0m\n\u001b[0;32m--> 239\u001b[0;31m         \u001b[0mrep\u001b[0m\u001b[0;34m,\u001b[0m \u001b[0mopt\u001b[0m \u001b[0;34m=\u001b[0m \u001b[0m_dict_from_expr\u001b[0m\u001b[0;34m(\u001b[0m\u001b[0mrep\u001b[0m\u001b[0;34m,\u001b[0m \u001b[0mopt\u001b[0m\u001b[0;34m)\u001b[0m\u001b[0;34m\u001b[0m\u001b[0m\n\u001b[0m\u001b[1;32m    240\u001b[0m         \u001b[0;32mreturn\u001b[0m \u001b[0mcls\u001b[0m\u001b[0;34m.\u001b[0m\u001b[0m_from_dict\u001b[0m\u001b[0;34m(\u001b[0m\u001b[0mrep\u001b[0m\u001b[0;34m,\u001b[0m \u001b[0mopt\u001b[0m\u001b[0;34m)\u001b[0m\u001b[0;34m\u001b[0m\u001b[0m\n\u001b[1;32m    241\u001b[0m \u001b[0;34m\u001b[0m\u001b[0m\n",
      "\u001b[0;32m~/.local/lib/python3.5/site-packages/sympy/polys/polyutils.py\u001b[0m in \u001b[0;36m_dict_from_expr\u001b[0;34m(expr, opt)\u001b[0m\n\u001b[1;32m    363\u001b[0m \u001b[0;34m\u001b[0m\u001b[0m\n\u001b[1;32m    364\u001b[0m     \u001b[0;32mif\u001b[0m \u001b[0mopt\u001b[0m\u001b[0;34m.\u001b[0m\u001b[0mgens\u001b[0m\u001b[0;34m:\u001b[0m\u001b[0;34m\u001b[0m\u001b[0m\n\u001b[0;32m--> 365\u001b[0;31m         \u001b[0mrep\u001b[0m\u001b[0;34m,\u001b[0m \u001b[0mgens\u001b[0m \u001b[0;34m=\u001b[0m \u001b[0m_dict_from_expr_if_gens\u001b[0m\u001b[0;34m(\u001b[0m\u001b[0mexpr\u001b[0m\u001b[0;34m,\u001b[0m \u001b[0mopt\u001b[0m\u001b[0;34m)\u001b[0m\u001b[0;34m\u001b[0m\u001b[0m\n\u001b[0m\u001b[1;32m    366\u001b[0m     \u001b[0;32melse\u001b[0m\u001b[0;34m:\u001b[0m\u001b[0;34m\u001b[0m\u001b[0m\n\u001b[1;32m    367\u001b[0m         \u001b[0mrep\u001b[0m\u001b[0;34m,\u001b[0m \u001b[0mgens\u001b[0m \u001b[0;34m=\u001b[0m \u001b[0m_dict_from_expr_no_gens\u001b[0m\u001b[0;34m(\u001b[0m\u001b[0mexpr\u001b[0m\u001b[0;34m,\u001b[0m \u001b[0mopt\u001b[0m\u001b[0;34m)\u001b[0m\u001b[0;34m\u001b[0m\u001b[0m\n",
      "\u001b[0;32m~/.local/lib/python3.5/site-packages/sympy/polys/polyutils.py\u001b[0m in \u001b[0;36m_dict_from_expr_if_gens\u001b[0;34m(expr, opt)\u001b[0m\n\u001b[1;32m    302\u001b[0m \u001b[0;32mdef\u001b[0m \u001b[0m_dict_from_expr_if_gens\u001b[0m\u001b[0;34m(\u001b[0m\u001b[0mexpr\u001b[0m\u001b[0;34m,\u001b[0m \u001b[0mopt\u001b[0m\u001b[0;34m)\u001b[0m\u001b[0;34m:\u001b[0m\u001b[0;34m\u001b[0m\u001b[0m\n\u001b[1;32m    303\u001b[0m     \u001b[0;34m\"\"\"Transform an expression into a multinomial form given generators. \"\"\"\u001b[0m\u001b[0;34m\u001b[0m\u001b[0m\n\u001b[0;32m--> 304\u001b[0;31m     \u001b[0;34m(\u001b[0m\u001b[0mpoly\u001b[0m\u001b[0;34m,\u001b[0m\u001b[0;34m)\u001b[0m\u001b[0;34m,\u001b[0m \u001b[0mgens\u001b[0m \u001b[0;34m=\u001b[0m \u001b[0m_parallel_dict_from_expr_if_gens\u001b[0m\u001b[0;34m(\u001b[0m\u001b[0;34m(\u001b[0m\u001b[0mexpr\u001b[0m\u001b[0;34m,\u001b[0m\u001b[0;34m)\u001b[0m\u001b[0;34m,\u001b[0m \u001b[0mopt\u001b[0m\u001b[0;34m)\u001b[0m\u001b[0;34m\u001b[0m\u001b[0m\n\u001b[0m\u001b[1;32m    305\u001b[0m     \u001b[0;32mreturn\u001b[0m \u001b[0mpoly\u001b[0m\u001b[0;34m,\u001b[0m \u001b[0mgens\u001b[0m\u001b[0;34m\u001b[0m\u001b[0m\n\u001b[1;32m    306\u001b[0m \u001b[0;34m\u001b[0m\u001b[0m\n",
      "\u001b[0;32m~/.local/lib/python3.5/site-packages/sympy/polys/polyutils.py\u001b[0m in \u001b[0;36m_parallel_dict_from_expr_if_gens\u001b[0;34m(exprs, opt)\u001b[0m\n\u001b[1;32m    217\u001b[0m \u001b[0;34m\u001b[0m\u001b[0m\n\u001b[1;32m    218\u001b[0m             \u001b[0;32mif\u001b[0m \u001b[0mmonom\u001b[0m \u001b[0;32min\u001b[0m \u001b[0mpoly\u001b[0m\u001b[0;34m:\u001b[0m\u001b[0;34m\u001b[0m\u001b[0m\n\u001b[0;32m--> 219\u001b[0;31m                 \u001b[0mpoly\u001b[0m\u001b[0;34m[\u001b[0m\u001b[0mmonom\u001b[0m\u001b[0;34m]\u001b[0m \u001b[0;34m+=\u001b[0m \u001b[0mMul\u001b[0m\u001b[0;34m(\u001b[0m\u001b[0;34m*\u001b[0m\u001b[0mcoeff\u001b[0m\u001b[0;34m)\u001b[0m\u001b[0;34m\u001b[0m\u001b[0m\n\u001b[0m\u001b[1;32m    220\u001b[0m             \u001b[0;32melse\u001b[0m\u001b[0;34m:\u001b[0m\u001b[0;34m\u001b[0m\u001b[0m\n\u001b[1;32m    221\u001b[0m                 \u001b[0mpoly\u001b[0m\u001b[0;34m[\u001b[0m\u001b[0mmonom\u001b[0m\u001b[0;34m]\u001b[0m \u001b[0;34m=\u001b[0m \u001b[0mMul\u001b[0m\u001b[0;34m(\u001b[0m\u001b[0;34m*\u001b[0m\u001b[0mcoeff\u001b[0m\u001b[0;34m)\u001b[0m\u001b[0;34m\u001b[0m\u001b[0m\n",
      "\u001b[0;32m~/.local/lib/python3.5/site-packages/sympy/core/decorators.py\u001b[0m in \u001b[0;36m__sympifyit_wrapper\u001b[0;34m(a, b)\u001b[0m\n\u001b[1;32m     89\u001b[0m                 \u001b[0;32mif\u001b[0m \u001b[0;32mnot\u001b[0m \u001b[0mhasattr\u001b[0m\u001b[0;34m(\u001b[0m\u001b[0mb\u001b[0m\u001b[0;34m,\u001b[0m \u001b[0;34m'_op_priority'\u001b[0m\u001b[0;34m)\u001b[0m\u001b[0;34m:\u001b[0m\u001b[0;34m\u001b[0m\u001b[0m\n\u001b[1;32m     90\u001b[0m                     \u001b[0mb\u001b[0m \u001b[0;34m=\u001b[0m \u001b[0msympify\u001b[0m\u001b[0;34m(\u001b[0m\u001b[0mb\u001b[0m\u001b[0;34m,\u001b[0m \u001b[0mstrict\u001b[0m\u001b[0;34m=\u001b[0m\u001b[0;32mTrue\u001b[0m\u001b[0;34m)\u001b[0m\u001b[0;34m\u001b[0m\u001b[0m\n\u001b[0;32m---> 91\u001b[0;31m                 \u001b[0;32mreturn\u001b[0m \u001b[0mfunc\u001b[0m\u001b[0;34m(\u001b[0m\u001b[0ma\u001b[0m\u001b[0;34m,\u001b[0m \u001b[0mb\u001b[0m\u001b[0;34m)\u001b[0m\u001b[0;34m\u001b[0m\u001b[0m\n\u001b[0m\u001b[1;32m     92\u001b[0m             \u001b[0;32mexcept\u001b[0m \u001b[0mSympifyError\u001b[0m\u001b[0;34m:\u001b[0m\u001b[0;34m\u001b[0m\u001b[0m\n\u001b[1;32m     93\u001b[0m                 \u001b[0;32mreturn\u001b[0m \u001b[0mretval\u001b[0m\u001b[0;34m\u001b[0m\u001b[0m\n",
      "\u001b[0;32m~/.local/lib/python3.5/site-packages/sympy/core/decorators.py\u001b[0m in \u001b[0;36mbinary_op_wrapper\u001b[0;34m(self, other)\u001b[0m\n\u001b[1;32m    130\u001b[0m                     \u001b[0;32melse\u001b[0m\u001b[0;34m:\u001b[0m\u001b[0;34m\u001b[0m\u001b[0m\n\u001b[1;32m    131\u001b[0m                         \u001b[0;32mreturn\u001b[0m \u001b[0mf\u001b[0m\u001b[0;34m(\u001b[0m\u001b[0mself\u001b[0m\u001b[0;34m)\u001b[0m\u001b[0;34m\u001b[0m\u001b[0m\n\u001b[0;32m--> 132\u001b[0;31m             \u001b[0;32mreturn\u001b[0m \u001b[0mfunc\u001b[0m\u001b[0;34m(\u001b[0m\u001b[0mself\u001b[0m\u001b[0;34m,\u001b[0m \u001b[0mother\u001b[0m\u001b[0;34m)\u001b[0m\u001b[0;34m\u001b[0m\u001b[0m\n\u001b[0m\u001b[1;32m    133\u001b[0m         \u001b[0;32mreturn\u001b[0m \u001b[0mbinary_op_wrapper\u001b[0m\u001b[0;34m\u001b[0m\u001b[0m\n\u001b[1;32m    134\u001b[0m     \u001b[0;32mreturn\u001b[0m \u001b[0mpriority_decorator\u001b[0m\u001b[0;34m\u001b[0m\u001b[0m\n",
      "\u001b[0;32m~/.local/lib/python3.5/site-packages/sympy/core/expr.py\u001b[0m in \u001b[0;36m__add__\u001b[0;34m(self, other)\u001b[0m\n\u001b[1;32m    118\u001b[0m     \u001b[0;34m@\u001b[0m\u001b[0mcall_highest_priority\u001b[0m\u001b[0;34m(\u001b[0m\u001b[0;34m'__radd__'\u001b[0m\u001b[0;34m)\u001b[0m\u001b[0;34m\u001b[0m\u001b[0m\n\u001b[1;32m    119\u001b[0m     \u001b[0;32mdef\u001b[0m \u001b[0m__add__\u001b[0m\u001b[0;34m(\u001b[0m\u001b[0mself\u001b[0m\u001b[0;34m,\u001b[0m \u001b[0mother\u001b[0m\u001b[0;34m)\u001b[0m\u001b[0;34m:\u001b[0m\u001b[0;34m\u001b[0m\u001b[0m\n\u001b[0;32m--> 120\u001b[0;31m         \u001b[0;32mreturn\u001b[0m \u001b[0mAdd\u001b[0m\u001b[0;34m(\u001b[0m\u001b[0mself\u001b[0m\u001b[0;34m,\u001b[0m \u001b[0mother\u001b[0m\u001b[0;34m)\u001b[0m\u001b[0;34m\u001b[0m\u001b[0m\n\u001b[0m\u001b[1;32m    121\u001b[0m \u001b[0;34m\u001b[0m\u001b[0m\n\u001b[1;32m    122\u001b[0m     \u001b[0;34m@\u001b[0m\u001b[0m_sympifyit\u001b[0m\u001b[0;34m(\u001b[0m\u001b[0;34m'other'\u001b[0m\u001b[0;34m,\u001b[0m \u001b[0mNotImplemented\u001b[0m\u001b[0;34m)\u001b[0m\u001b[0;34m\u001b[0m\u001b[0m\n",
      "\u001b[0;32m~/.local/lib/python3.5/site-packages/sympy/core/cache.py\u001b[0m in \u001b[0;36mwrapper\u001b[0;34m(*args, **kwargs)\u001b[0m\n\u001b[1;32m     91\u001b[0m             \u001b[0;32mdef\u001b[0m \u001b[0mwrapper\u001b[0m\u001b[0;34m(\u001b[0m\u001b[0;34m*\u001b[0m\u001b[0margs\u001b[0m\u001b[0;34m,\u001b[0m \u001b[0;34m**\u001b[0m\u001b[0mkwargs\u001b[0m\u001b[0;34m)\u001b[0m\u001b[0;34m:\u001b[0m\u001b[0;34m\u001b[0m\u001b[0m\n\u001b[1;32m     92\u001b[0m                 \u001b[0;32mtry\u001b[0m\u001b[0;34m:\u001b[0m\u001b[0;34m\u001b[0m\u001b[0m\n\u001b[0;32m---> 93\u001b[0;31m                     \u001b[0mretval\u001b[0m \u001b[0;34m=\u001b[0m \u001b[0mcfunc\u001b[0m\u001b[0;34m(\u001b[0m\u001b[0;34m*\u001b[0m\u001b[0margs\u001b[0m\u001b[0;34m,\u001b[0m \u001b[0;34m**\u001b[0m\u001b[0mkwargs\u001b[0m\u001b[0;34m)\u001b[0m\u001b[0;34m\u001b[0m\u001b[0m\n\u001b[0m\u001b[1;32m     94\u001b[0m                 \u001b[0;32mexcept\u001b[0m \u001b[0mTypeError\u001b[0m\u001b[0;34m:\u001b[0m\u001b[0;34m\u001b[0m\u001b[0m\n\u001b[1;32m     95\u001b[0m                     \u001b[0mretval\u001b[0m \u001b[0;34m=\u001b[0m \u001b[0mfunc\u001b[0m\u001b[0;34m(\u001b[0m\u001b[0;34m*\u001b[0m\u001b[0margs\u001b[0m\u001b[0;34m,\u001b[0m \u001b[0;34m**\u001b[0m\u001b[0mkwargs\u001b[0m\u001b[0;34m)\u001b[0m\u001b[0;34m\u001b[0m\u001b[0m\n",
      "\u001b[0;32m~/.local/lib/python3.5/site-packages/sympy/core/operations.py\u001b[0m in \u001b[0;36m__new__\u001b[0;34m(cls, *args, **options)\u001b[0m\n\u001b[1;32m     39\u001b[0m             \u001b[0;32mreturn\u001b[0m \u001b[0margs\u001b[0m\u001b[0;34m[\u001b[0m\u001b[0;36m0\u001b[0m\u001b[0;34m]\u001b[0m\u001b[0;34m\u001b[0m\u001b[0m\n\u001b[1;32m     40\u001b[0m \u001b[0;34m\u001b[0m\u001b[0m\n\u001b[0;32m---> 41\u001b[0;31m         \u001b[0mc_part\u001b[0m\u001b[0;34m,\u001b[0m \u001b[0mnc_part\u001b[0m\u001b[0;34m,\u001b[0m \u001b[0morder_symbols\u001b[0m \u001b[0;34m=\u001b[0m \u001b[0mcls\u001b[0m\u001b[0;34m.\u001b[0m\u001b[0mflatten\u001b[0m\u001b[0;34m(\u001b[0m\u001b[0margs\u001b[0m\u001b[0;34m)\u001b[0m\u001b[0;34m\u001b[0m\u001b[0m\n\u001b[0m\u001b[1;32m     42\u001b[0m         \u001b[0mis_commutative\u001b[0m \u001b[0;34m=\u001b[0m \u001b[0;32mnot\u001b[0m \u001b[0mnc_part\u001b[0m\u001b[0;34m\u001b[0m\u001b[0m\n\u001b[1;32m     43\u001b[0m         \u001b[0mobj\u001b[0m \u001b[0;34m=\u001b[0m \u001b[0mcls\u001b[0m\u001b[0;34m.\u001b[0m\u001b[0m_from_args\u001b[0m\u001b[0;34m(\u001b[0m\u001b[0mc_part\u001b[0m \u001b[0;34m+\u001b[0m \u001b[0mnc_part\u001b[0m\u001b[0;34m,\u001b[0m \u001b[0mis_commutative\u001b[0m\u001b[0;34m)\u001b[0m\u001b[0;34m\u001b[0m\u001b[0m\n",
      "\u001b[0;32m~/.local/lib/python3.5/site-packages/sympy/core/add.py\u001b[0m in \u001b[0;36mflatten\u001b[0;34m(cls, seq)\u001b[0m\n\u001b[1;32m    262\u001b[0m \u001b[0;34m\u001b[0m\u001b[0m\n\u001b[1;32m    263\u001b[0m         \u001b[0;31m# order args canonically\u001b[0m\u001b[0;34m\u001b[0m\u001b[0;34m\u001b[0m\u001b[0m\n\u001b[0;32m--> 264\u001b[0;31m         \u001b[0m_addsort\u001b[0m\u001b[0;34m(\u001b[0m\u001b[0mnewseq\u001b[0m\u001b[0;34m)\u001b[0m\u001b[0;34m\u001b[0m\u001b[0m\n\u001b[0m\u001b[1;32m    265\u001b[0m \u001b[0;34m\u001b[0m\u001b[0m\n\u001b[1;32m    266\u001b[0m         \u001b[0;31m# current code expects coeff to be first\u001b[0m\u001b[0;34m\u001b[0m\u001b[0;34m\u001b[0m\u001b[0m\n",
      "\u001b[0;32m~/.local/lib/python3.5/site-packages/sympy/core/add.py\u001b[0m in \u001b[0;36m_addsort\u001b[0;34m(args)\u001b[0m\n\u001b[1;32m     17\u001b[0m \u001b[0;32mdef\u001b[0m \u001b[0m_addsort\u001b[0m\u001b[0;34m(\u001b[0m\u001b[0margs\u001b[0m\u001b[0;34m)\u001b[0m\u001b[0;34m:\u001b[0m\u001b[0;34m\u001b[0m\u001b[0m\n\u001b[1;32m     18\u001b[0m     \u001b[0;31m# in-place sorting of args\u001b[0m\u001b[0;34m\u001b[0m\u001b[0;34m\u001b[0m\u001b[0m\n\u001b[0;32m---> 19\u001b[0;31m     \u001b[0margs\u001b[0m\u001b[0;34m.\u001b[0m\u001b[0msort\u001b[0m\u001b[0;34m(\u001b[0m\u001b[0mkey\u001b[0m\u001b[0;34m=\u001b[0m\u001b[0m_args_sortkey\u001b[0m\u001b[0;34m)\u001b[0m\u001b[0;34m\u001b[0m\u001b[0m\n\u001b[0m\u001b[1;32m     20\u001b[0m \u001b[0;34m\u001b[0m\u001b[0m\n\u001b[1;32m     21\u001b[0m \u001b[0;34m\u001b[0m\u001b[0m\n",
      "\u001b[0;32m~/.local/lib/python3.5/site-packages/sympy/core/basic.py\u001b[0m in \u001b[0;36mcompare\u001b[0;34m(self, other)\u001b[0m\n\u001b[1;32m    192\u001b[0m             \u001b[0mr\u001b[0m \u001b[0;34m=\u001b[0m \u001b[0mBasic\u001b[0m\u001b[0;34m(\u001b[0m\u001b[0;34m*\u001b[0m\u001b[0mr\u001b[0m\u001b[0;34m)\u001b[0m \u001b[0;32mif\u001b[0m \u001b[0misinstance\u001b[0m\u001b[0;34m(\u001b[0m\u001b[0mr\u001b[0m\u001b[0;34m,\u001b[0m \u001b[0mfrozenset\u001b[0m\u001b[0;34m)\u001b[0m \u001b[0;32melse\u001b[0m \u001b[0mr\u001b[0m\u001b[0;34m\u001b[0m\u001b[0m\n\u001b[1;32m    193\u001b[0m             \u001b[0;32mif\u001b[0m \u001b[0misinstance\u001b[0m\u001b[0;34m(\u001b[0m\u001b[0ml\u001b[0m\u001b[0;34m,\u001b[0m \u001b[0mBasic\u001b[0m\u001b[0;34m)\u001b[0m\u001b[0;34m:\u001b[0m\u001b[0;34m\u001b[0m\u001b[0m\n\u001b[0;32m--> 194\u001b[0;31m                 \u001b[0mc\u001b[0m \u001b[0;34m=\u001b[0m \u001b[0ml\u001b[0m\u001b[0;34m.\u001b[0m\u001b[0mcompare\u001b[0m\u001b[0;34m(\u001b[0m\u001b[0mr\u001b[0m\u001b[0;34m)\u001b[0m\u001b[0;34m\u001b[0m\u001b[0m\n\u001b[0m\u001b[1;32m    195\u001b[0m             \u001b[0;32melse\u001b[0m\u001b[0;34m:\u001b[0m\u001b[0;34m\u001b[0m\u001b[0m\n\u001b[1;32m    196\u001b[0m                 \u001b[0mc\u001b[0m \u001b[0;34m=\u001b[0m \u001b[0;34m(\u001b[0m\u001b[0ml\u001b[0m \u001b[0;34m>\u001b[0m \u001b[0mr\u001b[0m\u001b[0;34m)\u001b[0m \u001b[0;34m-\u001b[0m \u001b[0;34m(\u001b[0m\u001b[0ml\u001b[0m \u001b[0;34m<\u001b[0m \u001b[0mr\u001b[0m\u001b[0;34m)\u001b[0m\u001b[0;34m\u001b[0m\u001b[0m\n",
      "\u001b[0;32m~/.local/lib/python3.5/site-packages/sympy/core/basic.py\u001b[0m in \u001b[0;36mcompare\u001b[0;34m(self, other)\u001b[0m\n\u001b[1;32m    153\u001b[0m         \u001b[0;32mreturn\u001b[0m \u001b[0;34m{\u001b[0m\u001b[0;34m}\u001b[0m\u001b[0;34m\u001b[0m\u001b[0m\n\u001b[1;32m    154\u001b[0m \u001b[0;34m\u001b[0m\u001b[0m\n\u001b[0;32m--> 155\u001b[0;31m     \u001b[0;32mdef\u001b[0m \u001b[0mcompare\u001b[0m\u001b[0;34m(\u001b[0m\u001b[0mself\u001b[0m\u001b[0;34m,\u001b[0m \u001b[0mother\u001b[0m\u001b[0;34m)\u001b[0m\u001b[0;34m:\u001b[0m\u001b[0;34m\u001b[0m\u001b[0m\n\u001b[0m\u001b[1;32m    156\u001b[0m         \"\"\"\n\u001b[1;32m    157\u001b[0m         \u001b[0mReturn\u001b[0m \u001b[0;34m-\u001b[0m\u001b[0;36m1\u001b[0m\u001b[0;34m,\u001b[0m \u001b[0;36m0\u001b[0m\u001b[0;34m,\u001b[0m \u001b[0;36m1\u001b[0m \u001b[0;32mif\u001b[0m \u001b[0mthe\u001b[0m \u001b[0mobject\u001b[0m \u001b[0;32mis\u001b[0m \u001b[0msmaller\u001b[0m\u001b[0;34m,\u001b[0m \u001b[0mequal\u001b[0m\u001b[0;34m,\u001b[0m \u001b[0;32mor\u001b[0m \u001b[0mgreater\u001b[0m \u001b[0mthan\u001b[0m \u001b[0mother\u001b[0m\u001b[0;34m.\u001b[0m\u001b[0;34m\u001b[0m\u001b[0m\n",
      "\u001b[0;31mKeyboardInterrupt\u001b[0m: "
     ]
    }
   ],
   "source": [
    "eqs = []\n",
    "\n",
    "yn = (-ynm2*(dn_nm2**2 - dn_nm4**2 + 2*xn*xnm2 - xnm2**2 - ynm2**2 - znm2**2)/(2*(ynm2**2 + znm2**2)) \n",
    "      - znm2*sqrt(-dn_nm2**4 + 2*dn_nm2**2*dn_nm4**2 - 4*dn_nm2**2*xn*xnm2 + 2*dn_nm2**2*xnm2**2 \n",
    "      + 2*dn_nm2**2*ynm2**2 + 2*dn_nm2**2*znm2**2 - dn_nm4**4 + 4*dn_nm4**2*xn*xnm2 \n",
    "      - 2*dn_nm4**2*xnm2**2 + 2*dn_nm4**2*ynm2**2 + 2*dn_nm4**2*znm2**2 - 4*xn**2*xnm2**2 - 4*xn**2*ynm2**2 \n",
    "      - 4*xn**2*znm2**2 + 4*xn*xnm2**3 + 4*xn*xnm2*ynm2**2 + 4*xn*xnm2*znm2**2 - xnm2**4 - 2*xnm2**2*ynm2**2 \n",
    "      - 2*xnm2**2*znm2**2 - ynm2**4 - 2*ynm2**2*znm2**2 - znm2**4)/(2*(ynm2**2 + znm2**2)))\n",
    "\n",
    "zn = (-sqrt(dn_nm4**2 - xn**2 - yn**2))\n",
    "\n",
    "eqs.append((xn - xnm4)**2 + (yn - ynm4)**2\n",
    "           + (zn - znm4)**2 - dn_nm4**2)\n",
    "\n",
    "eqs.append((xn - xnm3)**2 + (yn - ynm3)**2\n",
    "           + (zn - znm3)**2 - dn_nm3**2)\n",
    "\n",
    "eqs.append((xn - xnm2)**2 + (yn - ynm2)**2\n",
    "           + (zn - znm2)**2 - dn_nm2**2)\n",
    "\n",
    "nonlinsolve(eqs, [xn])\n",
    "\n"
   ]
  },
  {
   "cell_type": "code",
   "execution_count": null,
   "metadata": {},
   "outputs": [],
   "source": []
  },
  {
   "cell_type": "code",
   "execution_count": null,
   "metadata": {},
   "outputs": [],
   "source": []
  },
  {
   "cell_type": "code",
   "execution_count": null,
   "metadata": {},
   "outputs": [],
   "source": []
  },
  {
   "cell_type": "code",
   "execution_count": null,
   "metadata": {},
   "outputs": [],
   "source": []
  },
  {
   "cell_type": "markdown",
   "metadata": {},
   "source": [
    "### Utilisation d'un solveur pour résoudre le système composé de trois équations\n",
    "\n",
    "Cette méthode offre de bons résultats sur la plupart des molécules mais est parfois imprévisible (renvoie des solutions complexes ou sature la mémoire)"
   ]
  },
  {
   "cell_type": "code",
   "execution_count": null,
   "metadata": {},
   "outputs": [],
   "source": []
  },
  {
   "cell_type": "code",
   "execution_count": 8,
   "metadata": {
    "scrolled": true
   },
   "outputs": [
    {
     "name": "stdout",
     "output_type": "stream",
     "text": [
      "sqrt : returning real value\n",
      "sqrt : returning real value\n",
      "sqrt : returning real value\n"
     ]
    },
    {
     "data": {
      "text/plain": [
       "array([[ 0.        ,  0.        ,  0.        ],\n",
       "       [ 1.51285771,  0.        ,  0.        ],\n",
       "       [-0.06674966,  0.33757352,  0.        ],\n",
       "       [ 0.28845128, -0.51079445,  0.37146762],\n",
       "       [-0.11366333,  0.77544425,  0.59960278],\n",
       "       [ 0.19854887, -0.37028683, -0.85842478],\n",
       "       [ 0.01078438, -1.0951471 ,  0.22132768]])"
      ]
     },
     "execution_count": 8,
     "metadata": {},
     "output_type": "execute_result"
    }
   ],
   "source": [
    "\n",
    "from sympy import Symbol\n",
    "from sympy.solvers import solve\n",
    "from sympy import Add\n",
    "from sympy import erf\n",
    "from sympy.solvers.solveset import nonlinsolve\n",
    "from sympy import Float\n",
    "import sympy as sp\n",
    "import mpmath as mp\n",
    "\n",
    "\n",
    "def calcul_distance(at1, at2):\n",
    "    \n",
    "    return math.sqrt(pow(at1[0] - at2[0], 2) + pow(at1[1] - at2[1], 2) + pow(at1[2] - at2[2], 2))\n",
    "\n",
    "def get_distance(distances, at1, at2):\n",
    "    \"\"\" Renvoie la distance entre deux atomes selon la matrice de distances compressée \"\"\"\n",
    "    \n",
    "    # On a besoin de l'atome de numéro le plus bas en première position\n",
    "    if (at1 > at2):\n",
    "        at1, at2 = at2, at1\n",
    "        \n",
    "    if at2 <= at1 or at2 > at1 + 4:\n",
    "        raise \"Cette distance n'est pas connue dans la matrice de distances compressée \"\n",
    "    \n",
    "    return distances[at1][at2-at1-1]\n",
    "    \n",
    "    \n",
    "def get_valeur_tolerance(seuil, epsilon, valeur):\n",
    "    \"\"\" Renvoie une valeur à laquelle on a ajouté une tolérance epsilon. Si la valeur est comprise entre\n",
    "    epsilon+seuil et seuil alors on renvoie seuil. Sinon on renvoie la valeur initiale \"\"\"\n",
    "    \n",
    "    if seuil <= valeur <= seuil+epsilon or seuil+epsilon <= valeur <= seuil:\n",
    "        return seuil\n",
    "    else:\n",
    "        return valeur\n",
    "    \n",
    "\n",
    "def calcul_positions_a1_a4(distances, pos_at_fictif):\n",
    "    \"\"\" Calcule les positions des atomes a0, a1, a2 et a3 et renvoie une nouvelle matrice de positions\n",
    "    initialisée à 0 et de taille (nb_atomes, 3) \"\"\"\n",
    "    \n",
    "    nb_atomes = len(distances) + 1\n",
    "    \n",
    "    epsilon = -1e-7\n",
    "    \n",
    "    positions = np.array(np.zeros(shape=(nb_atomes,3)))\n",
    "    \n",
    "    d10 = get_distance(distances, 0, 1)\n",
    "    d20 = get_distance(distances, 0, 2)\n",
    "    d21 = get_distance(distances, 1, 2)\n",
    "    d30 = get_distance(distances, 0, 3)\n",
    "    d31 = get_distance(distances, 1, 3)\n",
    "    d32 = get_distance(distances, 2, 3)\n",
    "        \n",
    "    # On considère pour le moment que a0 est en (0,0,0)\n",
    "    positions[0][0] = 0\n",
    "    positions[0][1] = 0\n",
    "    positions[0][2] = 0\n",
    "    \n",
    "    # Calcul de a1\n",
    "    positions[1][0] = d10\n",
    "    positions[1][1] = 0\n",
    "    positions[1][2] = 0\n",
    "\n",
    "    # Calcul de a2\n",
    "    positions[2][0] = (d20**2-d21**2+d10**2)/(2*d10)\n",
    "    positions[2][1] = math.sqrt(get_valeur_tolerance(0, epsilon, d20**2-((d20**2-d21**2+d10**2)/(2*d10))**2))\n",
    "    positions[2][2] = 0\n",
    "\n",
    "    # Calcul de a3\n",
    "    positions[3][0] = (d30**2+d10**2-d31**2)/(2*d10)\n",
    "    positions[3][1] = (-2*positions[3][0]*positions[2][0] +d20**2-d32**2+d30**2)/(2*positions[2][1])\n",
    "    positions[3][2] = math.sqrt(get_valeur_tolerance(0, epsilon,\n",
    "                                                     -positions[3][0]**2 - positions[3][1]**2 + d30**2))\n",
    "\n",
    "    # Translation des positions calculées selon le vecteur (Oa0)\n",
    "    positions[0:4] += pos_at_fictif\n",
    "    \n",
    "    return positions   \n",
    "\n",
    "def points_alignes(pt1, pt2, pt3, epsilon):\n",
    "    \"\"\" Renvoie vrai si les trois points sont alignés et faux sinon, avec une tolérance epsilon.\n",
    "    On calcule pour cela l'aire du triangle formé par les trois points et on vérifie si elle est inférieure\n",
    "    à la tolérance epsilon donnée.\"\"\"\n",
    "    \n",
    "    mat1 = np.array(np.zeros(shape=(3,3)))\n",
    "    mat2 = np.array(np.zeros(shape=(3,3)))\n",
    "    mat3 = np.array(np.zeros(shape=(3,3)))\n",
    "    \n",
    "    mat1[0] = (pt1[0], pt2[0], pt3[0])\n",
    "    mat1[1] = (pt1[1], pt2[1], pt3[1])\n",
    "    mat1[2] = (1, 1, 1)\n",
    "    \n",
    "    mat2[0] = (pt1[1], pt2[1], pt3[1])\n",
    "    mat2[1] = (pt1[2], pt2[2], pt3[2])\n",
    "    mat2[2] = (1, 1, 1)\n",
    "\n",
    "    mat2[0] = (pt1[2], pt2[2], pt3[2])\n",
    "    mat2[1] = (pt1[0], pt2[0], pt3[0])\n",
    "    mat2[2] = (1, 1, 1)\n",
    "    \n",
    "    return 0.5*(math.sqrt(np.linalg.det(mat1)**2 + np.linalg.det(mat2)**2 + np.linalg.det(mat3)**2)) < epsilon\n",
    "\n",
    "\n",
    "    \n",
    "\n",
    "def calcul_position(positions, distances, id_at): \n",
    "    \"\"\" Calcul des coordonnées (x, y, z) de l'atome dont l'identifiant est spécifié \"\"\"\n",
    "        \n",
    "    # On récupère les distances entre le point à placer et les quatre points précédents dans la matrice\n",
    "    # de distances compressée\n",
    "    dn_nmin4 = get_distance(distances, id_at, id_at-4)\n",
    "    dn_nmin3 = get_distance(distances, id_at, id_at-3)\n",
    "    dn_nmin2 = get_distance(distances, id_at, id_at-2)\n",
    "    dn_nmin1 = get_distance(distances, id_at, id_at-1)\n",
    "    \n",
    "    # On utilise un solveur sympy pour calculer les deux points intersection des trois premières sphères\n",
    "    xn = Symbol('xn')\n",
    "    yn = Symbol('yn')\n",
    "    zn = Symbol('zn')\n",
    "    \n",
    "    if points_alignes(positions[id_at-4], positions[id_at-3], positions[id_at-2], 0.001):\n",
    "        print(\"Les points n-4, n-3 et n-2 sont alignés\")\n",
    "        \n",
    "    if points_alignes(positions[id_at-3], positions[id_at-2], positions[id_at-1], 0.001):\n",
    "        print(\"Les points n-3, n-2 et n-1 sont alignés\")\n",
    "    \n",
    "    if points_alignes(positions[id_at-4], positions[id_at-2], positions[id_at-1], 0.001):\n",
    "        print(\"Les points n-4, n-2 et n-1 sont alignés\")\n",
    "        \n",
    "\n",
    "    eqs = []\n",
    "    eqs.append((xn - positions[id_at-4][0])**2 + (yn - positions[id_at-4][1])**2\n",
    "               + (zn - positions[id_at-4][2])**2 - dn_nmin4**2)\n",
    "    \n",
    "    eqs.append((xn - positions[id_at-3][0])**2 + (yn - positions[id_at-3][1])**2\n",
    "               + (zn - positions[id_at-3][2])**2 - dn_nmin3**2)\n",
    "    \n",
    "    eqs.append((xn - positions[id_at-2][0])**2 + (yn - positions[id_at-2][1])**2\n",
    "               + (zn - positions[id_at-2][2])**2 - dn_nmin2**2)\n",
    "\n",
    "    \n",
    "    # On obtient deux solutions, et on retient celle dont la distance avec l'atome (n-1) est la plus proche\n",
    "    # de la distance prévue dans la matrice de distances compressée\n",
    "    \n",
    "    ### TODO : Cas où les quatre premiers atomes sont alignés ### \n",
    "    \n",
    "    #sol = nonlinsolve(eqs, [xn, yn, zn])\n",
    "    sol = solve(eqs, [xn, yn, zn], check=False)\n",
    "    \n",
    "    best_delta_sol = float('inf')\n",
    "    best_sol = None\n",
    "    \n",
    "    for curr_sol in sol:\n",
    "        \n",
    "        curr_sol = list(curr_sol)\n",
    "        delta_sol = abs(calcul_distance(curr_sol, positions[id_at-1])\n",
    "                                        - get_distance(distances, id_at, id_at-1))\n",
    "        if (delta_sol<best_delta_sol):\n",
    "            best_delta_sol = delta_sol\n",
    "            best_sol = curr_sol\n",
    "    \n",
    "    positions[id_at] = best_sol\n",
    "    \n",
    "    return positions\n",
    "\n",
    "\n",
    "def calcul_xn_yn_zn(signe_x, signe_y, z_val, xnm4, ynm4, znm4\n",
    "                    , xnm3, ynm3, znm3, xnm2, ynm2, znm2, dn_nm4, dn_nm3, dn_nm2):\n",
    "    \n",
    "    \"\"\" Calcul des valeurs des coordonnées en fonction du signe de l'expression de xn et yn, et\n",
    "    des paramètres de l'instance du problème\"\"\"\n",
    "    \n",
    "    if signe_x != \"pos\" or signe_x != \"neg\" or signe_y !=\"pos\" or signe_y != \"neg\":\n",
    "        return None\n",
    "    \n",
    "    yn = ((xnm2 - xnm4)*sqrt(-dn_nm2**4 + 2*dn_nm2**2*dn_nm4**2 + 2*dn_nm2**2*xnm2**2 - 4*dn_nm2**2*xnm2*xnm4 \n",
    "            + 2*dn_nm2**2*xnm4**2 + 2*dn_nm2**2*ynm2**2 - 4*dn_nm2**2*ynm2*ynm4 + 2*dn_nm2**2*ynm4**2 \n",
    "            - 4*dn_nm2**2*zn*znm2 + 4*dn_nm2**2*zn*znm4 + 2*dn_nm2**2*znm2**2 - 2*dn_nm2**2*znm4**2 \n",
    "            - dn_nm4**4 + 2*dn_nm4**2*xnm2**2 - 4*dn_nm4**2*xnm2*xnm4 + 2*dn_nm4**2*xnm4**2 \n",
    "            + 2*dn_nm4**2*ynm2**2 - 4*dn_nm4**2*ynm2*ynm4 + 2*dn_nm4**2*ynm4**2 + 4*dn_nm4**2*zn*znm2 \n",
    "            - 4*dn_nm4**2*zn*znm4 - 2*dn_nm4**2*znm2**2 + 2*dn_nm4**2*znm4**2 - xnm2**4 + 4*xnm2**3*xnm4 \n",
    "            - 6*xnm2**2*xnm4**2 - 2*xnm2**2*ynm2**2 + 4*xnm2**2*ynm2*ynm4 - 2*xnm2**2*ynm4**2 \n",
    "            - 4*xnm2**2*zn**2 + 4*xnm2**2*zn*znm2 + 4*xnm2**2*zn*znm4 - 2*xnm2**2*znm2**2 - 2*xnm2**2*znm4**2 \n",
    "            + 4*xnm2*xnm4**3 + 4*xnm2*xnm4*ynm2**2 - 8*xnm2*xnm4*ynm2*ynm4 + 4*xnm2*xnm4*ynm4**2 \n",
    "            + 8*xnm2*xnm4*zn**2 - 8*xnm2*xnm4*zn*znm2 - 8*xnm2*xnm4*zn*znm4 + 4*xnm2*xnm4*znm2**2 \n",
    "            + 4*xnm2*xnm4*znm4**2 - xnm4**4 - 2*xnm4**2*ynm2**2 + 4*xnm4**2*ynm2*ynm4 - 2*xnm4**2*ynm4**2 \n",
    "            - 4*xnm4**2*zn**2 + 4*xnm4**2*zn*znm2 + 4*xnm4**2*zn*znm4 - 2*xnm4**2*znm2**2 - 2*xnm4**2*znm4**2 \n",
    "            - ynm2**4 + 4*ynm2**3*ynm4 - 6*ynm2**2*ynm4**2 - 4*ynm2**2*zn**2 + 4*ynm2**2*zn*znm2 \n",
    "            + 4*ynm2**2*zn*znm4 - 2*ynm2**2*znm2**2 - 2*ynm2**2*znm4**2 + 4*ynm2*ynm4**3 + 8*ynm2*ynm4*zn**2 \n",
    "            - 8*ynm2*ynm4*zn*znm2 - 8*ynm2*ynm4*zn*znm4 + 4*ynm2*ynm4*znm2**2 + 4*ynm2*ynm4*znm4**2 - ynm4**4 \n",
    "            - 4*ynm4**2*zn**2 + 4*ynm4**2*zn*znm2 + 4*ynm4**2*zn*znm4 - 2*ynm4**2*znm2**2 - 2*ynm4**2*znm4**2 \n",
    "            - 4*zn**2*znm2**2 + 8*zn**2*znm2*znm4 - 4*zn**2*znm4**2 + 4*zn*znm2**3 - 4*zn*znm2**2*znm4 \n",
    "            - 4*zn*znm2*znm4**2 + 4*zn*znm4**3 - znm2**4 + 2*znm2**2*znm4**2 - znm4**4)\n",
    "            /(2*(xnm2**2 - 2*xnm2*xnm4 + xnm4**2 + ynm2**2 - 2*ynm2*ynm4 + ynm4**2)) \n",
    "            - (dn_nm2**2*ynm2 - dn_nm2**2*ynm4 - dn_nm4**2*ynm2 + dn_nm4**2*ynm4 - xnm2**2*ynm2 - xnm2**2*ynm4 \n",
    "            + 2*xnm2*xnm4*ynm2 + 2*xnm2*xnm4*ynm4 - xnm4**2*ynm2 - xnm4**2*ynm4 - ynm2**3 + ynm2**2*ynm4 \n",
    "            + ynm2*ynm4**2 + 2*ynm2*zn*znm2 - 2*ynm2*zn*znm4 - ynm2*znm2**2 + ynm2*znm4**2 - ynm4**3 \n",
    "            - 2*ynm4*zn*znm2 + 2*ynm4*zn*znm4 + ynm4*znm2**2 - ynm4*znm4**2)/(2*(xnm2**2 - 2*xnm2*xnm4 \n",
    "            + xnm4**2 + ynm2**2 - 2*ynm2*ynm4 + ynm4**2)))\n",
    "    \n",
    "    if signe_y == \"neg\":\n",
    "        yn = -yn\n",
    "        \n",
    "    if signe_x == \"pos\":\n",
    "        xn = (xnm4 + sqrt(dn_nm4**2 - yn**2 + 2*yn*ynm4 - ynm4**2 - zn**2 + 2*zn*znm4 - znm4**2))\n",
    "    else:\n",
    "        xn = (xnm4 - sqrt(dn_nm4**2 - yn**2 + 2*yn*ynm4 - ynm4**2 - zn**2 + 2*zn*znm4 - znm4**2))\n",
    "    \n",
    "    return (xn, yn, zn)\n",
    "    \n",
    "    \n",
    "\n",
    "def get_xn_yn_expr(signe_x, signe_y, xnm4, ynm4, znm4\n",
    "                    , xnm3, ynm3, znm3, xnm2, ynm2, znm2, dn_nm4, dn_nm3, dn_nm2):\n",
    "    \"\"\" Renvoie le couple d'expressions (xn, yn) en fonction du signe de chaque expression et des\n",
    "    paramètres de l'instance. Les signes peuvent prendre les valeurs {\"pos\", \"neg\"} \"\"\"\n",
    "    \n",
    "    if (signe_x != \"pos\" and signe_x != \"neg\") or (signe_y != \"pos\" and signe_y != \"neg\"):\n",
    "        print(\"erreur\")\n",
    "        return None\n",
    "    \n",
    "    xn = Symbol(\"xn\")\n",
    "    yn = Symbol(\"yn\")\n",
    "    \n",
    "    \n",
    "    print()\n",
    "    print(signe_x, signe_y)\n",
    "    \n",
    "  \n",
    "    \n",
    "    yn = ((xnm2 - xnm4)*sqrt(-dn_nm2**4 + 2*dn_nm2**2*dn_nm4**2 + 2*dn_nm2**2*xnm2**2 - 4*dn_nm2**2*xnm2*xnm4 \n",
    "            + 2*dn_nm2**2*xnm4**2 + 2*dn_nm2**2*ynm2**2 - 4*dn_nm2**2*ynm2*ynm4 + 2*dn_nm2**2*ynm4**2 \n",
    "            - 4*dn_nm2**2*zn*znm2 + 4*dn_nm2**2*zn*znm4 + 2*dn_nm2**2*znm2**2 - 2*dn_nm2**2*znm4**2 \n",
    "            - dn_nm4**4 + 2*dn_nm4**2*xnm2**2 - 4*dn_nm4**2*xnm2*xnm4 + 2*dn_nm4**2*xnm4**2 \n",
    "            + 2*dn_nm4**2*ynm2**2 - 4*dn_nm4**2*ynm2*ynm4 + 2*dn_nm4**2*ynm4**2 + 4*dn_nm4**2*zn*znm2 \n",
    "            - 4*dn_nm4**2*zn*znm4 - 2*dn_nm4**2*znm2**2 + 2*dn_nm4**2*znm4**2 - xnm2**4 + 4*xnm2**3*xnm4 \n",
    "            - 6*xnm2**2*xnm4**2 - 2*xnm2**2*ynm2**2 + 4*xnm2**2*ynm2*ynm4 - 2*xnm2**2*ynm4**2 \n",
    "            - 4*xnm2**2*zn**2 + 4*xnm2**2*zn*znm2 + 4*xnm2**2*zn*znm4 - 2*xnm2**2*znm2**2 - 2*xnm2**2*znm4**2 \n",
    "            + 4*xnm2*xnm4**3 + 4*xnm2*xnm4*ynm2**2 - 8*xnm2*xnm4*ynm2*ynm4 + 4*xnm2*xnm4*ynm4**2 \n",
    "            + 8*xnm2*xnm4*zn**2 - 8*xnm2*xnm4*zn*znm2 - 8*xnm2*xnm4*zn*znm4 + 4*xnm2*xnm4*znm2**2 \n",
    "            + 4*xnm2*xnm4*znm4**2 - xnm4**4 - 2*xnm4**2*ynm2**2 + 4*xnm4**2*ynm2*ynm4 - 2*xnm4**2*ynm4**2 \n",
    "            - 4*xnm4**2*zn**2 + 4*xnm4**2*zn*znm2 + 4*xnm4**2*zn*znm4 - 2*xnm4**2*znm2**2 - 2*xnm4**2*znm4**2 \n",
    "            - ynm2**4 + 4*ynm2**3*ynm4 - 6*ynm2**2*ynm4**2 - 4*ynm2**2*zn**2 + 4*ynm2**2*zn*znm2 \n",
    "            + 4*ynm2**2*zn*znm4 - 2*ynm2**2*znm2**2 - 2*ynm2**2*znm4**2 + 4*ynm2*ynm4**3 + 8*ynm2*ynm4*zn**2 \n",
    "            - 8*ynm2*ynm4*zn*znm2 - 8*ynm2*ynm4*zn*znm4 + 4*ynm2*ynm4*znm2**2 + 4*ynm2*ynm4*znm4**2 - ynm4**4 \n",
    "            - 4*ynm4**2*zn**2 + 4*ynm4**2*zn*znm2 + 4*ynm4**2*zn*znm4 - 2*ynm4**2*znm2**2 - 2*ynm4**2*znm4**2 \n",
    "            - 4*zn**2*znm2**2 + 8*zn**2*znm2*znm4 - 4*zn**2*znm4**2 + 4*zn*znm2**3 - 4*zn*znm2**2*znm4 \n",
    "            - 4*zn*znm2*znm4**2 + 4*zn*znm4**3 - znm2**4 + 2*znm2**2*znm4**2 - znm4**4)\n",
    "            /(2*(xnm2**2 - 2*xnm2*xnm4 + xnm4**2 + ynm2**2 - 2*ynm2*ynm4 + ynm4**2)) \n",
    "            - (dn_nm2**2*ynm2 - dn_nm2**2*ynm4 - dn_nm4**2*ynm2 + dn_nm4**2*ynm4 - xnm2**2*ynm2 - xnm2**2*ynm4 \n",
    "            + 2*xnm2*xnm4*ynm2 + 2*xnm2*xnm4*ynm4 - xnm4**2*ynm2 - xnm4**2*ynm4 - ynm2**3 + ynm2**2*ynm4 \n",
    "            + ynm2*ynm4**2 + 2*ynm2*zn*znm2 - 2*ynm2*zn*znm4 - ynm2*znm2**2 + ynm2*znm4**2 - ynm4**3 \n",
    "            - 2*ynm4*zn*znm2 + 2*ynm4*zn*znm4 + ynm4*znm2**2 - ynm4*znm4**2)/(2*(xnm2**2 - 2*xnm2*xnm4 \n",
    "            + xnm4**2 + ynm2**2 - 2*ynm2*ynm4 + ynm4**2)))\n",
    "\n",
    "    if signe_y == \"neg\":\n",
    "        yn = -yn\n",
    "        \n",
    "    if signe_x == \"pos\":\n",
    "        xn = (xnm4 + sqrt(dn_nm4**2 - yn**2 + 2*yn*ynm4 - ynm4**2 - zn**2 + 2*zn*znm4 - znm4**2))\n",
    "    else:\n",
    "        xn = (xnm4 - sqrt(dn_nm4**2 - yn**2 + 2*yn*ynm4 - ynm4**2 - zn**2 + 2*zn*znm4 - znm4**2))\n",
    "        \n",
    "    return (xn, yn)\n",
    "    \n",
    "\n",
    "def calcul_position2(positions, distances, id_at):\n",
    "    \"\"\" Calcul des coordonnées (x, y, z) de l'atome dont l'identifiant est spécifié. Fonctionne\n",
    "    sur le même principe que calcul_position() mais n'utilise le solveur que pour trouver la valeur\n",
    "    numérique de zn. xn et yn en sont déduites\"\"\"\n",
    "    \n",
    "    # On récupère les distances entre le point à placer et les quatre points précédents dans la matrice\n",
    "    # de distances compressée\n",
    "    dn_nm4 = get_distance(distances, id_at, id_at-4)\n",
    "    dn_nm3 = get_distance(distances, id_at, id_at-3)\n",
    "    dn_nm2 = get_distance(distances, id_at, id_at-2)\n",
    "    dn_nm1 = get_distance(distances, id_at, id_at-1)\n",
    "    \n",
    "    xnm2 = positions[id_at-2][0]\n",
    "    ynm2 = positions[id_at-2][1]\n",
    "    znm2 = positions[id_at-2][2]\n",
    "    \n",
    "    xnm3 = positions[id_at-3][0]\n",
    "    ynm3 = positions[id_at-3][1]\n",
    "    znm3 = positions[id_at-3][2]\n",
    "    \n",
    "    xnm4 = positions[id_at-4][0]\n",
    "    ynm4 = positions[id_at-4][1]\n",
    "    znm4 = positions[id_at-4][2]\n",
    "    \n",
    "            \n",
    "    \n",
    "    \n",
    "    for signe_xn in {\"pos\", \"neg\"}:\n",
    "        for signe_yn in {\"pos\", \"neg\"}:\n",
    "            \n",
    "            # On utilise un solveur sympy pour calculer les deux points intersection des trois premières sphères\n",
    "            zn = Symbol('zn')\n",
    "    \n",
    "            \n",
    "            xn, yn = get_xn_yn_expr(signe_xn, signe_yn, xnm4, ynm4, znm4\n",
    "                    , xnm3, ynm3, znm3, xnm2, ynm2, znm2, dn_nm4, dn_nm3, dn_nm2)\n",
    "            \n",
    "    \n",
    "            print(\"xn : \"+str(xn))\n",
    "            print(\"yn : \"+str(yn))\n",
    "        \n",
    "            eqs = []\n",
    "            eqs.append((xn - positions[id_at-4][0])**2 + (yn - positions[id_at-4][1])**2\n",
    "                       + (zn - positions[id_at-4][2])**2 - dn_nm4**2)\n",
    "\n",
    "            eqs.append((xn - positions[id_at-3][0])**2 + (yn - positions[id_at-3][1])**2\n",
    "                       + (zn - positions[id_at-3][2])**2 - dn_nm3**2)\n",
    "\n",
    "            eqs.append((xn - positions[id_at-2][0])**2 + (yn - positions[id_at-2][1])**2\n",
    "                       + (zn - positions[id_at-2][2])**2 - dn_nm2**2)\n",
    "    \n",
    "    \n",
    "\n",
    "    \n",
    "            # On obtient deux solutions, et on retient celle dont la distance avec l'atome (n-1) est la plus proche\n",
    "            # de la distance prévue dans la matrice de distances compressée\n",
    "\n",
    "            ### TODO : Cas où les quatre premiers atomes sont alignés ### \n",
    "\n",
    "            # sol = nonlinsolve(eqs, [zn])\n",
    "            sol = solve(eqs, [zn], check=False)\n",
    "\n",
    "            best_delta_sol = float('inf')\n",
    "            best_sol = None\n",
    "\n",
    "            print(sol)\n",
    "\n",
    "            for curr_sol in sol:\n",
    "\n",
    "                zn = curr_sol[0]\n",
    "\n",
    "        \"\"\"# On ne s'intéresse qu'aux solution réelles\n",
    "        if isinstance(zn, Float):\n",
    "        \n",
    "            yn = ((xnm2 - xnm4)*sqrt(-dn_nm2**4 + 2*dn_nm2**2*dn_nm4**2 + 2*dn_nm2**2*xnm2**2 - 4*dn_nm2**2*xnm2*xnm4 \n",
    "                + 2*dn_nm2**2*xnm4**2 + 2*dn_nm2**2*ynm2**2 - 4*dn_nm2**2*ynm2*ynm4 + 2*dn_nm2**2*ynm4**2 \n",
    "                - 4*dn_nm2**2*zn*znm2 + 4*dn_nm2**2*zn*znm4 + 2*dn_nm2**2*znm2**2 - 2*dn_nm2**2*znm4**2 \n",
    "                - dn_nm4**4 + 2*dn_nm4**2*xnm2**2 - 4*dn_nm4**2*xnm2*xnm4 + 2*dn_nm4**2*xnm4**2 \n",
    "                + 2*dn_nm4**2*ynm2**2 - 4*dn_nm4**2*ynm2*ynm4 + 2*dn_nm4**2*ynm4**2 + 4*dn_nm4**2*zn*znm2 \n",
    "                - 4*dn_nm4**2*zn*znm4 - 2*dn_nm4**2*znm2**2 + 2*dn_nm4**2*znm4**2 - xnm2**4 + 4*xnm2**3*xnm4 \n",
    "                - 6*xnm2**2*xnm4**2 - 2*xnm2**2*ynm2**2 + 4*xnm2**2*ynm2*ynm4 - 2*xnm2**2*ynm4**2 \n",
    "                - 4*xnm2**2*zn**2 + 4*xnm2**2*zn*znm2 + 4*xnm2**2*zn*znm4 - 2*xnm2**2*znm2**2 - 2*xnm2**2*znm4**2 \n",
    "                + 4*xnm2*xnm4**3 + 4*xnm2*xnm4*ynm2**2 - 8*xnm2*xnm4*ynm2*ynm4 + 4*xnm2*xnm4*ynm4**2 \n",
    "                + 8*xnm2*xnm4*zn**2 - 8*xnm2*xnm4*zn*znm2 - 8*xnm2*xnm4*zn*znm4 + 4*xnm2*xnm4*znm2**2 \n",
    "                + 4*xnm2*xnm4*znm4**2 - xnm4**4 - 2*xnm4**2*ynm2**2 + 4*xnm4**2*ynm2*ynm4 - 2*xnm4**2*ynm4**2 \n",
    "                - 4*xnm4**2*zn**2 + 4*xnm4**2*zn*znm2 + 4*xnm4**2*zn*znm4 - 2*xnm4**2*znm2**2 - 2*xnm4**2*znm4**2 \n",
    "                - ynm2**4 + 4*ynm2**3*ynm4 - 6*ynm2**2*ynm4**2 - 4*ynm2**2*zn**2 + 4*ynm2**2*zn*znm2 \n",
    "                + 4*ynm2**2*zn*znm4 - 2*ynm2**2*znm2**2 - 2*ynm2**2*znm4**2 + 4*ynm2*ynm4**3 + 8*ynm2*ynm4*zn**2 \n",
    "                - 8*ynm2*ynm4*zn*znm2 - 8*ynm2*ynm4*zn*znm4 + 4*ynm2*ynm4*znm2**2 + 4*ynm2*ynm4*znm4**2 - ynm4**4 \n",
    "                - 4*ynm4**2*zn**2 + 4*ynm4**2*zn*znm2 + 4*ynm4**2*zn*znm4 - 2*ynm4**2*znm2**2 - 2*ynm4**2*znm4**2 \n",
    "                - 4*zn**2*znm2**2 + 8*zn**2*znm2*znm4 - 4*zn**2*znm4**2 + 4*zn*znm2**3 - 4*zn*znm2**2*znm4 \n",
    "                - 4*zn*znm2*znm4**2 + 4*zn*znm4**3 - znm2**4 + 2*znm2**2*znm4**2 - znm4**4)\n",
    "                /(2*(xnm2**2 - 2*xnm2*xnm4 + xnm4**2 + ynm2**2 - 2*ynm2*ynm4 + ynm4**2)) \n",
    "                - (dn_nm2**2*ynm2 - dn_nm2**2*ynm4 - dn_nm4**2*ynm2 + dn_nm4**2*ynm4 - xnm2**2*ynm2 - xnm2**2*ynm4 \n",
    "                + 2*xnm2*xnm4*ynm2 + 2*xnm2*xnm4*ynm4 - xnm4**2*ynm2 - xnm4**2*ynm4 - ynm2**3 + ynm2**2*ynm4 \n",
    "                + ynm2*ynm4**2 + 2*ynm2*zn*znm2 - 2*ynm2*zn*znm4 - ynm2*znm2**2 + ynm2*znm4**2 - ynm4**3 \n",
    "                - 2*ynm4*zn*znm2 + 2*ynm4*zn*znm4 + ynm4*znm2**2 - ynm4*znm4**2)/(2*(xnm2**2 - 2*xnm2*xnm4 \n",
    "                + xnm4**2 + ynm2**2 - 2*ynm2*ynm4 + ynm4**2)))\n",
    "\n",
    "            xn = (xnm4 + sqrt(dn_nm4**2 - yn**2 + 2*yn*ynm4 - ynm4**2 - zn**2 + 2*zn*znm4 - znm4**2)) \n",
    "\n",
    "            curr_sol = (xn, yn, zn)\n",
    "\n",
    "            print(curr_sol)\n",
    "\n",
    "            curr_sol = list(curr_sol)\n",
    "            delta_sol = abs(calcul_distance(curr_sol[0], curr_sol[1], curr_sol[2],\n",
    "                                            positions[id_at-1][0], positions[id_at-1][1], positions[id_at-1][2])\n",
    "                                            - get_distance(distances, id_at, id_at-1))\n",
    "            if (delta_sol<best_delta_sol):\n",
    "                best_delta_sol = delta_sol\n",
    "                best_sol = curr_sol\"\"\"\n",
    "    \n",
    "   # positions[id_at] = best_sol\n",
    "    \n",
    "    return positions\n",
    "\n",
    "\n",
    "    \n",
    "def reconstruction_positions(distances_init, delta_distances, pos_at_fictif):\n",
    "    \"\"\" Fonction calculant les nouvelles positions des atomes de la molécule à partir des distances initiales,\n",
    "    des variations de distances fournies par le RN et de la position initiale de l'atome fictif\"\"\"\n",
    "    \n",
    "    mp.dps = 40\n",
    "    \n",
    "    nb_atomes = len(distances_init)+1\n",
    "    \n",
    "    # On commence par calculer la nouvelle matrice compressée de distances\n",
    "    distances = distances_init + delta_distances\n",
    "    \n",
    "    # On calcule les positions des quatre premiers atomes de la molécule (dont l'atome fictif)\n",
    "    positions = calcul_positions_a1_a4(distances, pos_at_fictif)\n",
    "    \n",
    "    # On calcule les positions des atomes restants\n",
    "    for i in range(4, nb_atomes):\n",
    "        positions = calcul_position(positions, distances, i)\n",
    "    \n",
    "    return positions\n",
    "\n",
    "#positions_post_traitement = reconstruction_positions(distances_test, delta_distances, pos_test[0])\n",
    "\n",
    "positions_post_traitement = reconstruction_positions(distances, delta_distances, pos_test[0])\n",
    "\n",
    "positions_post_traitement\n",
    "\n",
    "\n"
   ]
  },
  {
   "cell_type": "markdown",
   "metadata": {},
   "source": [
    "### Implémentation de la méthode de trilatération par translation de repère (solution retenue)\n",
    "\n",
    "La description de la méthode est trouvable ici : https://en.wikipedia.org/wiki/Trilateration\n",
    "\n",
    "Pour trouver les coordonnées du point a_n, la méthode est de translater les atomes tel que a_n-4 est à la position (0, 0, 0), a_n-3 est sur l'axe x et a_n-2 est sur le plan défini par z = 0\n",
    "\n",
    "On trouve alors deux solutions, que l'on translate dans le repère d'origine, puis on sélectionne la position retenue en fonction de la distance de la solution a_n à a_n-1"
   ]
  },
  {
   "cell_type": "markdown",
   "metadata": {},
   "source": [
    "#### Définition de méthodes utilitaires"
   ]
  },
  {
   "cell_type": "code",
   "execution_count": 179,
   "metadata": {},
   "outputs": [],
   "source": [
    "def calcul_distance(at1, at2):\n",
    "    return math.sqrt(pow(at1[0] - at2[0], 2) + pow(at1[1] - at2[1], 2) + pow(at1[2] - at2[2], 2))\n",
    "\n",
    "def get_distance(distances, at1, at2):\n",
    "    \"\"\" Renvoie la distance entre deux atomes selon la matrice de distances compressée \"\"\"\n",
    "    \n",
    "    # On a besoin de l'atome de numéro le plus bas en première position\n",
    "    if (at1 > at2):\n",
    "        at1, at2 = at2, at1\n",
    "        \n",
    "    if at2 <= at1 or at2 > at1 + 4:\n",
    "        raise \"Cette distance n'est pas connue dans la matrice de distances compressée \"\n",
    "    \n",
    "    return distances[at1][at2-at1-1]\n",
    "    \n",
    "    \n",
    "def get_valeur_tolerance(seuil, epsilon, valeur):\n",
    "    \"\"\" Renvoie une valeur à laquelle on a ajouté une tolérance epsilon. Si la valeur est comprise entre\n",
    "    epsilon+seuil et seuil alors on renvoie seuil. Sinon on renvoie la valeur initiale \"\"\"\n",
    "    \n",
    "    if seuil+epsilon <= valeur <= seuil:\n",
    "        print(\"Tolérance : on renvoie \"+str(seuil)+\" plutôt que \"+str(valeur))\n",
    "        return seuil\n",
    "    else:\n",
    "        if valeur<0 : \n",
    "            print(\"Tolérance : on renvoie la valeur négative \" + str(valeur))\n",
    "            print(\"epsilon = \"+str(epsilon))\n",
    "            print(\"epsilon_sqrt = \"+str(epsilon_sqrt))\n",
    "\n",
    "        return valeur\n",
    "    \n",
    "\n",
    "def points_alignes(pt1, pt2, pt3, epsilon):\n",
    "    \"\"\" Renvoie vrai si les trois points sont alignés et faux sinon, avec une tolérance epsilon.\n",
    "    On calcule pour cela l'aire du triangle formé par les trois points et on vérifie si elle est inférieure\n",
    "    à la tolérance epsilon donnée.\"\"\"\n",
    "    \n",
    "    mat1 = np.array(np.zeros(shape=(3,3)))\n",
    "    mat2 = np.array(np.zeros(shape=(3,3)))\n",
    "    mat3 = np.array(np.zeros(shape=(3,3)))\n",
    "    \n",
    "    mat1[0] = (pt1[0], pt2[0], pt3[0])\n",
    "    mat1[1] = (pt1[1], pt2[1], pt3[1])\n",
    "    mat1[2] = (1, 1, 1)\n",
    "    \n",
    "    mat2[0] = (pt1[1], pt2[1], pt3[1])\n",
    "    mat2[1] = (pt1[2], pt2[2], pt3[2])\n",
    "    mat2[2] = (1, 1, 1)\n",
    "\n",
    "    mat2[0] = (pt1[2], pt2[2], pt3[2])\n",
    "    mat2[1] = (pt1[0], pt2[0], pt3[0])\n",
    "    mat2[2] = (1, 1, 1)\n",
    "    \n",
    "    return 0.5*(math.sqrt(np.linalg.det(mat1)**2 + np.linalg.det(mat2)**2 + np.linalg.det(mat3)**2)) < epsilon\n",
    "    "
   ]
  },
  {
   "cell_type": "markdown",
   "metadata": {},
   "source": [
    "#### Calcul de la position des quatre premiers atomes"
   ]
  },
  {
   "cell_type": "code",
   "execution_count": 180,
   "metadata": {},
   "outputs": [],
   "source": [
    "def calcul_positions_a1_a4(distances, pos_at_fictif):\n",
    "    \"\"\" Calcule les positions des atomes a0, a1, a2 et a3 et renvoie une nouvelle matrice de positions\n",
    "    initialisée à 0 et de taille (nb_atomes, 3) \"\"\"\n",
    "    \n",
    "    nb_atomes = len(distances) + 1\n",
    "    \n",
    "    epsilon = -1e-2\n",
    "    \n",
    "    positions = np.array(np.zeros(shape=(nb_atomes,3)))\n",
    "    \n",
    "    d10 = get_distance(distances, 0, 1)\n",
    "    d20 = get_distance(distances, 0, 2)\n",
    "    d21 = get_distance(distances, 1, 2)\n",
    "    d30 = get_distance(distances, 0, 3)\n",
    "    d31 = get_distance(distances, 1, 3)\n",
    "    d32 = get_distance(distances, 2, 3)\n",
    "        \n",
    "    # On considère pour le moment que a0 est en (0,0,0)\n",
    "    positions[0] = (0, 0, 0)\n",
    "    \n",
    "    # Calcul de a1\n",
    "    positions[1] = (d10, 0, 0)\n",
    "    \n",
    "    # Calcul de a2\n",
    "    positions[2] = ((d20**2-d21**2+d10**2)/(2*d10),\n",
    "                    math.sqrt(get_valeur_tolerance(0, epsilon, d20**2-((d20**2-d21**2+d10**2)/(2*d10))**2)),\n",
    "                    0)\n",
    "   \n",
    "    # Calcul de a3\n",
    "    positions[3][0] = (d30**2+d10**2-d31**2)/(2*d10)\n",
    "    positions[3][1] = (-2*positions[3][0]*positions[2][0] +d20**2-d32**2+d30**2)/(2*positions[2][1])\n",
    "    positions[3][2] = math.sqrt(get_valeur_tolerance(0, epsilon,\n",
    "                                                     -positions[3][0]**2 - positions[3][1]**2 + d30**2))\n",
    "    \n",
    "\n",
    "    # Translation des positions calculées selon le vecteur (Oa0)\n",
    "    positions[0:4] += pos_at_fictif\n",
    "    \n",
    "    return positions   "
   ]
  },
  {
   "cell_type": "markdown",
   "metadata": {},
   "source": []
  },
  {
   "cell_type": "code",
   "execution_count": null,
   "metadata": {},
   "outputs": [],
   "source": [
    "\n"
   ]
  },
  {
   "cell_type": "code",
   "execution_count": 183,
   "metadata": {},
   "outputs": [],
   "source": [
    "\n",
    "def _choix_spheres_naif(positions, id_at):\n",
    "    \"\"\" Choix naïf : on choisit an-4, an-3 et an-2 comme centre des sphères et an-1 comme point de contrôle \"\"\"\n",
    "    return positions[id_at-4:id_at]\n",
    "\n",
    "def _choix_spheres_pp_dist(positions, distances, id_at):\n",
    "    \"\"\" Les centres des trois sphères sont les points ayant la plus petite distance avec le point\n",
    "    à placer. \"\"\"\n",
    "    \n",
    "    dist = []\n",
    "    \n",
    "    for i in (4):\n",
    "        pass\n",
    "        \n",
    "        \n",
    "    \n",
    "\n",
    "def choix_spheres(positions, distances, id_at, heuristique):\n",
    "    \"\"\" Choisit les trois sphères dont on fera l'intersection et le point de contrôle parmi les quatre\n",
    "    points donnés en entrée. La sortie est une liste de positions (x, y, z), parmi lesquelles les\n",
    "    trois premières sont les centres des trois sphères et la dernière est le point de contrôle\"\"\"\n",
    "    pass\n"
   ]
  },
  {
   "cell_type": "markdown",
   "metadata": {},
   "source": [
    "#### Calcul de la position d'un atome quelconque"
   ]
  },
  {
   "cell_type": "code",
   "execution_count": 184,
   "metadata": {},
   "outputs": [
    {
     "name": "stdout",
     "output_type": "stream",
     "text": [
      "distances attendues\n",
      "[[1.36376645 1.03762255 0.31699206 1.56530673]\n",
      " [0.78725192 1.64083949 1.66346711 0.77772649]\n",
      " [1.2782564  2.0723385  0.80493171 1.413901  ]\n",
      " [1.70509403 1.41621486 1.45411901 0.        ]\n",
      " [1.9133431  0.72413213 0.         0.        ]\n",
      " [1.34805994 0.         0.         0.        ]]\n",
      "nouvelles distances calculées\n",
      "[[1.36376645 1.03762255 0.31699206 1.56530673]\n",
      " [0.78725192 1.64083949 1.66346711 0.77772649]\n",
      " [1.2782564  2.0723385  0.80493171 1.413901  ]\n",
      " [1.70509403 1.41621486 1.45411901 0.        ]\n",
      " [1.9133431  0.72413213 0.         0.        ]\n",
      " [1.34805994 0.         0.         0.        ]]\n",
      "diff\n",
      "[[0.00000000e+00 0.00000000e+00 0.00000000e+00 0.00000000e+00]\n",
      " [1.11022302e-16 0.00000000e+00 0.00000000e+00 0.00000000e+00]\n",
      " [0.00000000e+00 0.00000000e+00 0.00000000e+00 0.00000000e+00]\n",
      " [0.00000000e+00 0.00000000e+00 2.22044605e-16 0.00000000e+00]\n",
      " [1.55431223e-15 3.33066907e-16 0.00000000e+00 0.00000000e+00]\n",
      " [5.10702591e-15 0.00000000e+00 0.00000000e+00 0.00000000e+00]]\n"
     ]
    }
   ],
   "source": [
    "from math import sqrt\n",
    "\n",
    "# Seuil au delà duquel on considère qu'une valeur négative est nulle. Permet d'éviter de calculer des racines\n",
    "# carrées d'un nombre négatif lorsque celui-ci est très proche de 0\n",
    "epsilon_sqrt = -1e-1\n",
    "\n",
    "\n",
    "\n",
    "def calcul_position(positions, distances, id_at, heuristique_choix_sphere=\"\"):\n",
    "    \"\"\" Calcul la position de l'atome id_atome en fonction de la position des quatre atomes précédents.\n",
    "    Utilisation de la méthode décrite sur https://en.wikipedia.org/wiki/Trilateration \"\"\"\n",
    "        \n",
    "    # On récupère les distances entre le point à placer et les quatre points précédents dans la matrice\n",
    "    # de distances compressée\n",
    "    dn_nm4 = get_distance(distances, id_at, id_at-4)\n",
    "    dn_nm3 = get_distance(distances, id_at, id_at-3)\n",
    "    dn_nm2 = get_distance(distances, id_at, id_at-2)\n",
    "    dn_nm1 = get_distance(distances, id_at, id_at-1)\n",
    "    \n",
    "    ## Changement de système de coordonnées ##\n",
    "    \n",
    "    # Vecteur unitaire de direction a_n-4->a_n-3\n",
    "    e_x = (positions[id_at-3] - positions[id_at-4])/np.linalg.norm(positions[id_at-3] - positions[id_at-4])\n",
    "    \n",
    "    # Ordre de grandeur signé de la composante x dans le nouveau système de coordonnées du vecteur\n",
    "    # de a_n-4 à a_n-2\n",
    "    i = np.dot(e_x, (positions[id_at-2] - positions[id_at-4]))    \n",
    "    \n",
    "    # Vecteur unitaire de direction y\n",
    "    e_y = (positions[id_at-2] - positions[id_at-4] - i*e_x)/np.linalg.norm(positions[id_at-2] - positions[id_at-4] - i*e_x)\n",
    "\n",
    "    # Vecteur unitaire dans la direction z\n",
    "    e_z = np.cross(e_x, e_y)\n",
    "  \n",
    "    # Distance entre a_n-4 et a_n-3\n",
    "    d = np.linalg.norm(positions[id_at-3] - positions[id_at-4])\n",
    "    \n",
    "    # Ordre de grandeur signé de la composante y dans le nouveau système de coordonnées, de a_n-4 à a_n-2\n",
    "    j = np.dot(e_y, (positions[id_at-2]- positions[id_at-4]))\n",
    "    \n",
    "    \n",
    "    ## Calcul des solutions dans le nouveau système de coordonnées  ##\n",
    "    sol_nouv_syst = []\n",
    "    \n",
    "    xn = (dn_nm4**2 - dn_nm3**2 + d**2)/(2*d)\n",
    "    yn = (dn_nm4**2 - dn_nm2**2 + i**2 + j**2)/(2*j) - (i/j)*xn\n",
    "    \n",
    "    zn_pos_carre = dn_nm4**2 - xn**2 - yn**2\n",
    "    \n",
    "    \"\"\" Note importante : si l'intersection des trois sphères est nulle alors zn_pos_carre est négatif\n",
    "    et on ne peut pas donc calculer de racine réelle. Dans ce cas, on choisit de lui attribuer\n",
    "    la valeur zéro. On perd des informations importantes et donc de la précision\"\"\"\n",
    "    if zn_pos_carre > 0:\n",
    "        zn_pos = math.sqrt(zn_pos_carre)\n",
    "    else:\n",
    "        print(\"Intersection nulle\")\n",
    "        zn_pos = 0\n",
    "            \n",
    "    sol_nouv_syst.append((xn, yn, zn_pos))\n",
    "    sol_nouv_syst.append((xn, yn, -zn_pos))\n",
    "\n",
    "    ## Translation des solutions dans le système de coordonnées original ##\n",
    "    sol_syst_original = []\n",
    "    for sol in sol_nouv_syst :\n",
    "        sol_syst_original.append(positions[id_at-4] + np.dot(sol, np.array([e_x, e_y, e_z])))\n",
    "    \n",
    "    ## Sélection de la meilleure solution selon la distance avec le dernier point ##\n",
    "    diff_dist_min = float(\"inf\")\n",
    "    for sol in sol_syst_original:\n",
    "        curr_diff = abs(calcul_distance(sol, positions[id_at-1])-dn_nm1)\n",
    "        if curr_diff < diff_dist_min:\n",
    "            best_sol = sol\n",
    "            diff_dist_min = curr_diff\n",
    "                \n",
    "    \n",
    "    return best_sol\n",
    "               \n",
    "               \n",
    "    \n",
    "    \n",
    "def reconstruction_positions(distances_init, delta_distances, pos_at_fictif):\n",
    "    \"\"\" Fonction calculant les nouvelles positions des atomes de la molécule à partir des distances initiales,\n",
    "    des variations de distances fournies par le RN et de la position initiale de l'atome fictif\"\"\"\n",
    "        \n",
    "    nb_atomes = len(distances_init)+1\n",
    "    \n",
    "    # On commence par calculer la nouvelle matrice compressée de distances\n",
    "    distances = distances_init + delta_distances\n",
    "    \n",
    "    # On calcule les positions des quatre premiers atomes de la molécule (dont l'atome fictif)\n",
    "    positions = calcul_positions_a1_a4(distances, pos_at_fictif)\n",
    "    \n",
    "    # On calcule les positions des atomes restants\n",
    "    for i in range(4, nb_atomes):\n",
    "        positions[i] = calcul_position(positions, distances, i)\n",
    "\n",
    "    return positions\n",
    "\n",
    "#positions_post_traitement = reconstruction_positions(distances_test, delta_distances, pos_test[0])\n",
    "\n",
    "\n",
    "print(\"distances attendues\")\n",
    "print(distances)\n",
    "positions_post_traitement = reconstruction_positions(distances, delta_distances, pos_test[0])\n",
    "\n",
    "print(\"nouvelles distances calculées\")\n",
    "nouvelles_distances = matrice_distances_compr(positions_post_traitement, atomes_nb_incl_fictif)\n",
    "print(nouvelles_distances)\n",
    "\n",
    "print(\"diff\")\n",
    "print(str(abs(distances-nouvelles_distances)))"
   ]
  },
  {
   "cell_type": "code",
   "execution_count": null,
   "metadata": {},
   "outputs": [],
   "source": []
  },
  {
   "cell_type": "code",
   "execution_count": null,
   "metadata": {},
   "outputs": [],
   "source": []
  },
  {
   "cell_type": "code",
   "execution_count": null,
   "metadata": {},
   "outputs": [],
   "source": []
  },
  {
   "cell_type": "code",
   "execution_count": null,
   "metadata": {},
   "outputs": [],
   "source": []
  },
  {
   "cell_type": "markdown",
   "metadata": {},
   "source": [
    "### Vérification de la reconstruction de molécule\n",
    "\n",
    "#### Vérification sur une molécule\n",
    "\n",
    "Pour vérifier que la reconstruction fonctionne, on prend la molécule en sortie de la reconstruction, on calcule ses nouvelles distances internes et on tente de la reconstruire pour vérifier que l'on obtient bien la même molécule"
   ]
  },
  {
   "cell_type": "code",
   "execution_count": 185,
   "metadata": {},
   "outputs": [
    {
     "data": {
      "text/plain": [
       "array([[ 0.00000000e+00,  0.00000000e+00,  5.00000000e-01],\n",
       "       [ 1.36376645e+00,  0.00000000e+00,  5.00000000e-01],\n",
       "       [ 8.49395403e-01,  5.95976515e-01,  5.00000000e-01],\n",
       "       [-2.68378544e-01, -7.34845710e-04,  6.68690205e-01],\n",
       "       [ 5.65683831e-01, -1.45032530e+00,  3.36465681e-01],\n",
       "       [ 1.03793394e+00,  2.02618218e-01,  1.17648912e+00],\n",
       "       [ 8.84738168e-01, -8.01888770e-01,  2.90620979e-01]])"
      ]
     },
     "execution_count": 185,
     "metadata": {},
     "output_type": "execute_result"
    }
   ],
   "source": [
    "\n",
    "nouvelles_distances = matrice_distances_compr(positions_post_traitement, atomes_nb_incl_fictif)\n",
    "\n",
    "positions_post_traitement_verif = reconstruction_positions(nouvelles_distances, delta_distances, pos_test[0])\n",
    "positions_post_traitement_verif\n"
   ]
  },
  {
   "cell_type": "markdown",
   "metadata": {},
   "source": [
    "La molécule a bien été reconstruite à l'identique, on vérifie maintenant que les distances internes sont les mêmes (à 10^-8 près)."
   ]
  },
  {
   "cell_type": "code",
   "execution_count": 186,
   "metadata": {},
   "outputs": [
    {
     "name": "stdout",
     "output_type": "stream",
     "text": [
      "True\n"
     ]
    }
   ],
   "source": [
    "epsilon_diff = 1e-8\n",
    "print((abs(distances - nouvelles_distances) < epsilon_diff).all())"
   ]
  },
  {
   "cell_type": "markdown",
   "metadata": {},
   "source": [
    "#### Reconstruction d'une molécule dans le cas où tous les atomes sont alignés"
   ]
  },
  {
   "cell_type": "code",
   "execution_count": 187,
   "metadata": {},
   "outputs": [
    {
     "name": "stdout",
     "output_type": "stream",
     "text": [
      "[[2. 0. 0.]\n",
      " [4. 0. 0.]\n",
      " [6. 0. 0.]\n",
      " [8. 0. 0.]]\n",
      "[[0.  0.  0.5]\n",
      " [2.  0.  0. ]\n",
      " [4.  0.  0. ]\n",
      " [6.  0.  0. ]\n",
      " [8.  0.  0. ]]\n",
      "Tolérance : on renvoie 0 plutôt que 0.0\n",
      "Intersection nulle\n",
      "[[0.00000000e+00 0.00000000e+00 0.00000000e+00 1.77635684e-15]\n",
      " [6.66133815e-16 0.00000000e+00 8.88178420e-16 0.00000000e+00]\n",
      " [4.44089210e-16 1.77635684e-15 0.00000000e+00 0.00000000e+00]\n",
      " [1.77635684e-15 0.00000000e+00 0.00000000e+00 0.00000000e+00]]\n"
     ]
    }
   ],
   "source": [
    "positions = np.array([2.,0,0,4,0,0,6,0,0,8,0,0]).reshape(-1, 3)\n",
    "\n",
    "print(positions)\n",
    "positions = ajout_atome_fictif(positions)\n",
    "print(positions)\n",
    "\n",
    "distances = matrice_distances_compr(positions, 5)\n",
    "delta_distances = simulation_rn_nul(distances, 5)\n",
    "\n",
    "positions_post_traitement = reconstruction_positions(distances, delta_distances, positions[0])\n",
    "distances_post_traitement = matrice_distances_compr(positions_post_traitement, 5)\n",
    "\n",
    "print(abs(distances-distances_post_traitement))\n"
   ]
  },
  {
   "cell_type": "markdown",
   "metadata": {},
   "source": [
    "#### Reconstruction d'une molécule dans le cas où les trois premiers atomes sont alignés mais pas les autres"
   ]
  },
  {
   "cell_type": "code",
   "execution_count": 188,
   "metadata": {},
   "outputs": [
    {
     "name": "stdout",
     "output_type": "stream",
     "text": [
      "[[0.    0.    0.5  ]\n",
      " [2.    0.    0.   ]\n",
      " [4.    0.    0.   ]\n",
      " [6.    0.    0.   ]\n",
      " [1.    2.136 4.   ]]\n",
      "Tolérance : on renvoie 0 plutôt que 0.0\n",
      "[[0.         0.         0.5       ]\n",
      " [2.06155281 0.         0.5       ]\n",
      " [4.00183781 0.48507125 0.5       ]\n",
      " [5.94212281 0.9701425  0.5       ]\n",
      " [0.12126781 3.63803438 2.636     ]]\n",
      "[[0.00000000e+00 0.00000000e+00 0.00000000e+00 0.00000000e+00]\n",
      " [6.66133815e-16 0.00000000e+00 8.88178420e-16 0.00000000e+00]\n",
      " [4.44089210e-16 8.88178420e-16 0.00000000e+00 0.00000000e+00]\n",
      " [1.77635684e-15 0.00000000e+00 0.00000000e+00 0.00000000e+00]]\n"
     ]
    }
   ],
   "source": [
    "positions = np.array([2.,0,0,4,0,0,6,0,0,1,2.136,4]).reshape(-1, 3)\n",
    "positions = ajout_atome_fictif(positions)\n",
    "print(positions)\n",
    "\n",
    "\n",
    "distances = matrice_distances_compr(positions, 5)\n",
    "delta_distances = simulation_rn_nul(distances, 5)\n",
    "\n",
    "positions_post_traitement = reconstruction_positions(distances, delta_distances, positions[0])\n",
    "print(positions_post_traitement)\n",
    "distances_post_traitement = matrice_distances_compr(positions_post_traitement, 5)\n",
    "\n",
    "print(abs(distances-distances_post_traitement))\n"
   ]
  },
  {
   "cell_type": "markdown",
   "metadata": {},
   "source": [
    "#### Vérification sur n molécules\n",
    "\n",
    "On va maintenant appliquer la même méthode de vérification sur n molécules : on génère des positions aléatoirement, on simule un vecteur variation de distances nul et on reconstruit la molécule. On vérifie ensuite que les coordonnées des deux molécules sont identiques à 10-8 près "
   ]
  },
  {
   "cell_type": "code",
   "execution_count": 189,
   "metadata": {},
   "outputs": [],
   "source": [
    "\n",
    "def check_n_reconstructions(iterations, nb_atomes, epsilon, check_positions=True):\n",
    "    \"\"\" Teste la reconstruction de iterations molécules contenant chacune nb_atomes atomes. La reconstruction\n",
    "    de chaque molécule est validée si la différence entre les distances attendues et les distances calculées\n",
    "    après la reconstructions est inférieure à l'epsilon donné.\n",
    "    Si le paramètre check_positions est vrai, alors on reconstruit la molécule une fois de plus à chaque\n",
    "    itération et on vérifie que les deux reconstructions ont produit les mêmes positions à epsilon près\n",
    "    \"\"\"\n",
    "    \n",
    "    succes = True\n",
    "    \n",
    "    erreurs_pos = 0\n",
    "    erreurs_dist = 0\n",
    "    \n",
    "    imprecisions_glob_dist = []\n",
    "    imprecisions_glob_pos = []\n",
    "    \n",
    "    for i in range(n):\n",
    "\n",
    "        succes_courant = True\n",
    "        \n",
    "        positions = gen_pos(atomes_nb)  # On génère les positions\n",
    "        positions = ajout_atome_fictif(positions)  # On ajoute un atome fictif\n",
    "        distances = matrice_distances_compr(positions, atomes_nb+1)  # On calcule la matrice des distances\n",
    "        delta_distances = simulation_rn_nul(distances, atomes_nb+1)  # On génère un delta distance nul\n",
    "        \n",
    "        # On reconstruit les positions à partir des distances\n",
    "        positions_post_traitement = reconstruction_positions(distances, delta_distances, positions[0])\n",
    "\n",
    "        # On calcule les nouvelles distances\n",
    "        nouvelles_distances = matrice_distances_compr(positions_post_traitement, atomes_nb+1)\n",
    "\n",
    "        if check_positions:\n",
    "        \n",
    "            # On reconstruit les nouvelles positions afin de vérifier qu'on obtient les mêmes\n",
    "            positions_post_traitement2 = reconstruction_positions(nouvelles_distances, \n",
    "                                                                  delta_distances, positions[0])\n",
    "            \n",
    "            # On enregistre l'échec de la validation si les positions de la deuxième reconstruction sont\n",
    "            # différentes des positions de la première reconstruction\n",
    "        \n",
    "            diff_pos = abs(positions_post_traitement - positions_post_traitement2)\n",
    "            succes_courant = (diff_pos < epsilon).all()\n",
    "            imprecisions_glob_pos.append(diff_pos.flatten())\n",
    "\n",
    "            if not succes_courant:\n",
    "                erreurs_pos += 1\n",
    "            \n",
    "            succes = succes and succes_courant\n",
    "            \n",
    "            succes_courant = True\n",
    "\n",
    "        # On enregistre l'échec de la validation si les distances pré/post reconstruction diffèrent\n",
    "        diff_dist = abs(distances - nouvelles_distances)\n",
    "        succes_courant = (diff_dist < epsilon).all()\n",
    "        imprecisions_glob_dist.append(diff_dist.flatten())\n",
    "\n",
    "        if not succes_courant and check_positions:\n",
    "            erreurs_dist += 1\n",
    "            \n",
    "            \n",
    "        succes = succes and succes_courant            \n",
    "            \n",
    "    \n",
    "    print(\"Vérification des distances\")\n",
    "    print(\"Nombre de molécules ayant au moins une imprécision supérieure au seuil : \"+str(erreurs_dist))\n",
    "    print(\"Imprécision max : \"+str(np.amax(imprecisions_glob_dist)))\n",
    "    print(\"Imprécision moyenne \"+str(np.mean(imprecisions_glob_dist)))\n",
    "    print(\"Imprécision médiane : \"+str(np.median(imprecisions_glob_dist)))\n",
    "    \n",
    "    if check_positions:\n",
    "        print()\n",
    "        print(\"Vérification des positions\")\n",
    "        print(\"Nombre de molécules ayant au moins une imprécision supérieure au seuil : \"+str(erreurs_pos))\n",
    "        print(\"Imprécision max : \"+str(np.amax(imprecisions_glob_pos)))\n",
    "        print(\"Imprécision moyenne \"+str(np.mean(imprecisions_glob_pos)))\n",
    "        print(\"Imprécision médiane : \"+str(np.median(imprecisions_glob_pos)))\n",
    "    \n",
    "    return succes\n",
    "    \n"
   ]
  },
  {
   "cell_type": "code",
   "execution_count": 203,
   "metadata": {},
   "outputs": [
    {
     "name": "stdout",
     "output_type": "stream",
     "text": [
      "Vérification des distances\n",
      "Nombre de molécules ayant au moins une imprécision supérieure au seuil : 34\n",
      "Imprécision max : 0.0009937121509605573\n",
      "Imprécision moyenne 3.796155109886432e-07\n",
      "Imprécision médiane : 2.220446049250313e-16\n",
      "\n",
      "Vérification des positions\n",
      "Nombre de molécules ayant au moins une imprécision supérieure au seuil : 35\n",
      "Imprécision max : 0.01731471123144762\n",
      "Imprécision moyenne 4.545339453754806e-06\n",
      "Imprécision médiane : 2.161881784701336e-13\n",
      "False\n"
     ]
    }
   ],
   "source": [
    "n = 100  # molécules générées\n",
    "atomes_nb = 30  # nombre d'atomes par molécule\n",
    "\n",
    "epsilon_diff = 1e-7  # tolérance epsilon\n",
    "\n",
    "print(check_n_reconstructions(n, atomes_nb, epsilon_diff))"
   ]
  },
  {
   "cell_type": "markdown",
   "metadata": {},
   "source": [
    "#### Mise en évidence de la propagation des imprécisions de calcul\n",
    "\n",
    "La façon actuelle dont la matrice de distances compressée représente les distances relatives entre les atomes induit des imprécisions élevées sur les derniers atomes des grosses molécules. En effet, les coordonnées des atomes sont déterminées en fonction de la distance avec les quatre derniers points calculés. À chaque calcul d'une position, une légère imprécision apparaît, et ces imprécisions se propagent et s'amplifient jusqu'à devenir élevées sur les derniers atomes de la molécule.\n",
    "\n",
    "Une parade à ce problème serait de calculer la position de chaque atome en fonction de la distance avec les quatre premiers atomes (a0, a1, a2 et a3). Il existerait toujours des imprécisions de calcul à chaque position (de l'ordre de 10^-15), mais elles ne se propageraient pas à chaque calcul.\n",
    "\n",
    "On peut voir ci-dessous une matrice représentant la différence entre les distances inter-atomiques attendues et les distances calculées à l'issue d'une reconstruction d'une molécule de 100 atomes. On peut remarquer que la précision du placement des premiers atomes est très bonne, mais que la différence entre les distances attendues et les distances calculées à l'issue de la reconstruction va jusqu'à un ordre de 10^-1 pour les derniers atomes"
   ]
  },
  {
   "cell_type": "code",
   "execution_count": 199,
   "metadata": {},
   "outputs": [
    {
     "name": "stdout",
     "output_type": "stream",
     "text": [
      "Différence de distances : \n",
      "[[0.00000000e+00 0.00000000e+00 0.00000000e+00 0.00000000e+00]\n",
      " [0.00000000e+00 0.00000000e+00 0.00000000e+00 6.66133815e-16]\n",
      " [5.55111512e-17 0.00000000e+00 6.66133815e-16 2.22044605e-16]\n",
      " [0.00000000e+00 1.33226763e-15 0.00000000e+00 4.44089210e-16]\n",
      " [2.90878432e-14 2.22044605e-16 3.33066907e-16 0.00000000e+00]\n",
      " [1.90958360e-14 2.22044605e-16 2.22044605e-16 1.11022302e-16]\n",
      " [6.21724894e-15 2.22044605e-16 0.00000000e+00 0.00000000e+00]\n",
      " [3.66373598e-15 2.22044605e-16 0.00000000e+00 1.11022302e-16]\n",
      " [2.34257058e-14 2.22044605e-16 2.22044605e-16 2.22044605e-16]\n",
      " [1.66533454e-14 2.22044605e-16 2.22044605e-16 0.00000000e+00]\n",
      " [6.21724894e-15 4.44089210e-16 0.00000000e+00 0.00000000e+00]\n",
      " [1.79856130e-13 0.00000000e+00 1.11022302e-16 1.11022302e-16]\n",
      " [1.18793864e-13 2.22044605e-16 2.22044605e-16 0.00000000e+00]\n",
      " [1.99840144e-14 0.00000000e+00 0.00000000e+00 0.00000000e+00]\n",
      " [1.61648472e-13 3.33066907e-16 0.00000000e+00 0.00000000e+00]\n",
      " [1.55209179e-13 0.00000000e+00 2.22044605e-16 2.22044605e-16]\n",
      " [2.50910404e-14 0.00000000e+00 1.11022302e-16 0.00000000e+00]\n",
      " [3.46833673e-13 2.22044605e-16 2.22044605e-16 5.55111512e-17]\n",
      " [6.88338275e-15 0.00000000e+00 2.22044605e-16 4.44089210e-16]\n",
      " [2.67341704e-13 0.00000000e+00 1.11022302e-16 1.11022302e-16]\n",
      " [7.79154519e-13 4.44089210e-16 0.00000000e+00 0.00000000e+00]\n",
      " [3.04511971e-12 0.00000000e+00 2.22044605e-16 0.00000000e+00]\n",
      " [3.45723450e-13 0.00000000e+00 0.00000000e+00 0.00000000e+00]\n",
      " [2.29594121e-13 0.00000000e+00 0.00000000e+00 0.00000000e+00]\n",
      " [8.65751915e-13 0.00000000e+00 0.00000000e+00 0.00000000e+00]\n",
      " [3.42492701e-12 6.66133815e-16 2.22044605e-16 2.22044605e-16]\n",
      " [3.53828078e-12 0.00000000e+00 4.44089210e-16 0.00000000e+00]\n",
      " [1.66311409e-13 4.44089210e-16 0.00000000e+00 0.00000000e+00]\n",
      " [3.46700446e-12 4.44089210e-16 2.22044605e-16 0.00000000e+00]\n",
      " [1.18913768e-11 2.22044605e-16 2.22044605e-16 2.22044605e-16]\n",
      " [5.53201929e-12 2.22044605e-16 4.44089210e-16 2.22044605e-16]\n",
      " [3.71458420e-12 2.22044605e-16 0.00000000e+00 0.00000000e+00]\n",
      " [8.87045992e-12 4.44089210e-16 4.44089210e-16 0.00000000e+00]\n",
      " [1.22148958e-11 2.22044605e-16 0.00000000e+00 2.22044605e-16]\n",
      " [5.42521583e-12 1.11022302e-16 0.00000000e+00 5.55111512e-17]\n",
      " [1.02893249e-11 0.00000000e+00 2.22044605e-16 2.22044605e-16]\n",
      " [2.03215222e-11 0.00000000e+00 0.00000000e+00 0.00000000e+00]\n",
      " [1.11932685e-11 0.00000000e+00 2.22044605e-16 2.22044605e-16]\n",
      " [5.20117283e-12 2.22044605e-16 1.11022302e-16 1.11022302e-16]\n",
      " [2.55191424e-11 6.66133815e-16 2.22044605e-16 4.44089210e-16]\n",
      " [1.38007383e-11 0.00000000e+00 0.00000000e+00 2.22044605e-16]\n",
      " [3.81006338e-12 2.22044605e-16 2.22044605e-16 1.11022302e-16]\n",
      " [1.80084836e-11 2.22044605e-16 0.00000000e+00 1.11022302e-16]\n",
      " [1.78652648e-11 2.22044605e-16 0.00000000e+00 0.00000000e+00]\n",
      " [1.00444097e-11 2.22044605e-16 1.11022302e-16 0.00000000e+00]\n",
      " [1.98999706e-11 2.22044605e-16 2.22044605e-16 1.11022302e-16]\n",
      " [4.59587923e-12 2.22044605e-16 0.00000000e+00 0.00000000e+00]\n",
      " [5.15227860e-11 0.00000000e+00 0.00000000e+00 0.00000000e+00]\n",
      " [1.50924606e-10 3.33066907e-16 2.22044605e-16 0.00000000e+00]\n",
      " [2.24088081e-10 0.00000000e+00 0.00000000e+00 0.00000000e+00]\n",
      " [7.41282591e-11 0.00000000e+00 0.00000000e+00 0.00000000e+00]\n",
      " [5.59552404e-13 0.00000000e+00 2.22044605e-16 0.00000000e+00]\n",
      " [4.95146368e-10 3.88578059e-16 0.00000000e+00 0.00000000e+00]\n",
      " [1.10818021e-10 4.44089210e-16 6.66133815e-16 2.22044605e-16]\n",
      " [1.63961533e-09 4.44089210e-16 0.00000000e+00 0.00000000e+00]\n",
      " [2.65008460e-10 3.33066907e-16 1.11022302e-16 4.44089210e-16]\n",
      " [8.73700889e-10 0.00000000e+00 2.22044605e-16 2.22044605e-16]\n",
      " [1.96774841e-09 4.44089210e-16 3.33066907e-16 0.00000000e+00]\n",
      " [7.52426121e-10 4.44089210e-16 0.00000000e+00 0.00000000e+00]\n",
      " [1.46649858e-08 2.22044605e-16 2.22044605e-16 4.44089210e-16]\n",
      " [1.74278334e-08 2.22044605e-16 8.88178420e-16 2.22044605e-16]\n",
      " [1.99561101e-09 4.44089210e-16 0.00000000e+00 2.22044605e-16]\n",
      " [9.88080544e-07 2.22044605e-16 2.22044605e-16 2.22044605e-16]\n",
      " [7.69470798e-07 7.77156117e-16 8.88178420e-16 4.44089210e-16]\n",
      " [9.96183313e-07 0.00000000e+00 6.66133815e-16 1.11022302e-16]\n",
      " [9.80563252e-07 4.44089210e-16 1.11022302e-16 0.00000000e+00]\n",
      " [1.20041735e-04 0.00000000e+00 1.11022302e-16 0.00000000e+00]\n",
      " [1.91055915e-04 2.22044605e-16 0.00000000e+00 0.00000000e+00]\n",
      " [6.27181217e-05 2.22044605e-16 2.22044605e-16 4.44089210e-16]\n",
      " [2.02459452e-05 0.00000000e+00 0.00000000e+00 0.00000000e+00]\n",
      " [2.40573145e-05 4.44089210e-16 0.00000000e+00 2.22044605e-16]\n",
      " [7.25794685e-04 1.11022302e-16 0.00000000e+00 0.00000000e+00]\n",
      " [2.44286291e-04 3.88578059e-16 0.00000000e+00 0.00000000e+00]\n",
      " [5.80259419e-05 0.00000000e+00 2.22044605e-16 0.00000000e+00]\n",
      " [4.08124231e-04 2.22044605e-16 0.00000000e+00 4.44089210e-16]\n",
      " [8.32508990e-03 2.22044605e-16 2.22044605e-16 0.00000000e+00]\n",
      " [6.28631107e-03 6.66133815e-16 2.22044605e-16 2.22044605e-16]\n",
      " [4.46289585e-04 2.22044605e-16 0.00000000e+00 0.00000000e+00]\n",
      " [1.99178229e-03 1.11022302e-16 0.00000000e+00 0.00000000e+00]\n",
      " [6.81384185e-03 0.00000000e+00 0.00000000e+00 0.00000000e+00]\n",
      " [4.02971011e-03 0.00000000e+00 0.00000000e+00 4.44089210e-16]\n",
      " [1.66048200e-02 0.00000000e+00 2.22044605e-15 0.00000000e+00]\n",
      " [1.67709129e-02 2.22044605e-16 1.11022302e-16 0.00000000e+00]\n",
      " [1.30164642e-02 0.00000000e+00 2.22044605e-16 0.00000000e+00]\n",
      " [2.41386826e-02 0.00000000e+00 2.22044605e-16 0.00000000e+00]\n",
      " [2.77718192e-02 4.44089210e-16 4.44089210e-16 2.22044605e-16]\n",
      " [3.98797352e-02 4.44089210e-16 2.22044605e-16 0.00000000e+00]\n",
      " [1.55972685e-02 2.22044605e-16 2.22044605e-16 1.11022302e-16]\n",
      " [2.09237348e-03 0.00000000e+00 0.00000000e+00 2.22044605e-16]\n",
      " [2.26808413e-02 2.22044605e-16 0.00000000e+00 2.22044605e-16]\n",
      " [1.23077774e-01 0.00000000e+00 0.00000000e+00 0.00000000e+00]\n",
      " [7.65390757e-02 0.00000000e+00 2.22044605e-16 4.44089210e-16]\n",
      " [4.45335326e-02 0.00000000e+00 0.00000000e+00 0.00000000e+00]\n",
      " [4.56185494e-02 2.22044605e-16 0.00000000e+00 2.22044605e-16]\n",
      " [6.35580902e-02 0.00000000e+00 0.00000000e+00 0.00000000e+00]\n",
      " [7.17036195e-02 0.00000000e+00 1.11022302e-16 2.22044605e-16]\n",
      " [1.12870088e-01 2.22044605e-16 2.22044605e-16 0.00000000e+00]\n",
      " [1.86936760e-01 4.44089210e-16 0.00000000e+00 0.00000000e+00]\n",
      " [1.77674346e-02 0.00000000e+00 0.00000000e+00 0.00000000e+00]\n",
      " [2.59019087e-02 0.00000000e+00 0.00000000e+00 0.00000000e+00]]\n",
      "Différence max : 0.18693676041002893\n"
     ]
    }
   ],
   "source": [
    "atomes_nb = 100\n",
    "positions = gen_pos(atomes_nb)  # On génère les positions\n",
    "positions = ajout_atome_fictif(positions)  # On ajoute un atome fictif\n",
    "distances = matrice_distances_compr(positions, atomes_nb+1)  # On calcule la matrice des distances\n",
    "delta_distances = simulation_rn_nul(distances, atomes_nb+1)  # On génère un delta distance nul\n",
    "\n",
    "# On reconstruit les positions à partir des distances\n",
    "positions_post_traitement = reconstruction_positions(distances, delta_distances, positions[0])\n",
    "\n",
    "# On calcule les nouvelles distances\n",
    "nouvelles_distances = matrice_distances_compr(positions_post_traitement, atomes_nb+1)\n",
    "\n",
    "print(\"Différence de distances : \")\n",
    "diff = abs(distances - nouvelles_distances)\n",
    "print(diff)\n",
    "print(\"Différence max : \"+str(diff.max()))\n"
   ]
  },
  {
   "cell_type": "code",
   "execution_count": null,
   "metadata": {},
   "outputs": [],
   "source": []
  },
  {
   "cell_type": "code",
   "execution_count": 23,
   "metadata": {},
   "outputs": [
    {
     "data": {
      "text/plain": [
       "array([[-0.48894725, -0.51999076,  0.70038574],\n",
       "       [ 0.73439098, -0.67866937,  0.00881892],\n",
       "       [ 0.47074459,  0.51866896,  0.71371005]])"
      ]
     },
     "execution_count": 23,
     "metadata": {},
     "output_type": "execute_result"
    }
   ],
   "source": [
    "\n",
    "\n",
    "\n",
    "\n",
    "coo = [[ 0.,0.,0.5       ],\n",
    "[-0.35962838, -0.35000039,  0.0431356 ],\n",
    " [ 0.97096316,  0.84239024, -0.74790764],\n",
    " [ 0.64561646, -0.67389904, -0.53777269],\n",
    " [-0.12149585,  0.59403158, -0.86401877],\n",
    " [ 0.42537158, -0.27296327,  0.35594072]]\n",
    "\n",
    "U, S, V = np.linalg.svd(coo)\n",
    "V"
   ]
  },
  {
   "cell_type": "code",
   "execution_count": 94,
   "metadata": {},
   "outputs": [],
   "source": [
    "coo = np.array([0,0,0,1,2,3,4,5,6,7,8,9]).reshape((-1,3))"
   ]
  },
  {
   "cell_type": "code",
   "execution_count": 95,
   "metadata": {},
   "outputs": [
    {
     "data": {
      "text/plain": [
       "array([[0, 0, 0],\n",
       "       [1, 2, 3],\n",
       "       [4, 5, 6],\n",
       "       [7, 8, 9]])"
      ]
     },
     "execution_count": 95,
     "metadata": {},
     "output_type": "execute_result"
    }
   ],
   "source": [
    "coo"
   ]
  },
  {
   "cell_type": "code",
   "execution_count": 137,
   "metadata": {},
   "outputs": [
    {
     "data": {
      "text/plain": [
       "array([1, 2, 3])"
      ]
     },
     "execution_count": 137,
     "metadata": {},
     "output_type": "execute_result"
    }
   ],
   "source": [
    "U,S,V = np.linalg.svd(coo)\n"
   ]
  },
  {
   "cell_type": "code",
   "execution_count": 88,
   "metadata": {},
   "outputs": [
    {
     "data": {
      "text/plain": [
       "array([24.28563291, 16.41134389,  5.13213654,  2.74215248])"
      ]
     },
     "execution_count": 88,
     "metadata": {},
     "output_type": "execute_result"
    }
   ],
   "source": [
    "S"
   ]
  },
  {
   "cell_type": "code",
   "execution_count": 81,
   "metadata": {},
   "outputs": [],
   "source": [
    "coo = coo / np.linalg.norm(coo)"
   ]
  },
  {
   "cell_type": "code",
   "execution_count": 82,
   "metadata": {},
   "outputs": [
    {
     "data": {
      "text/plain": [
       "1.0"
      ]
     },
     "execution_count": 82,
     "metadata": {},
     "output_type": "execute_result"
    }
   ],
   "source": [
    "np.linalg.norm(coo)"
   ]
  },
  {
   "cell_type": "code",
   "execution_count": 98,
   "metadata": {},
   "outputs": [],
   "source": [
    "import matplotlib.pyplot as plt\n",
    "from mpl_toolkits.mplot3d import Axes3D"
   ]
  },
  {
   "cell_type": "code",
   "execution_count": 99,
   "metadata": {},
   "outputs": [],
   "source": [
    "%matplotlib inline"
   ]
  },
  {
   "cell_type": "code",
   "execution_count": 115,
   "metadata": {},
   "outputs": [
    {
     "data": {
      "text/plain": [
       "<matplotlib.figure.Figure at 0x7fadf18f35c0>"
      ]
     },
     "metadata": {},
     "output_type": "display_data"
    }
   ],
   "source": [
    "fig = plt.figure()"
   ]
  },
  {
   "cell_type": "code",
   "execution_count": 121,
   "metadata": {},
   "outputs": [
    {
     "data": {
      "image/png": "[encoded data removed]",
      "text/plain": [
       "<matplotlib.figure.Figure at 0x7fadf11f2da0>"
      ]
     },
     "metadata": {},
     "output_type": "display_data"
    }
   ],
   "source": [
    "plt.scatter(coo[:,0], coo[:,1], coo[:,2], c=\"R\")\n",
    "plt.show()"
   ]
  },
  {
   "cell_type": "code",
   "execution_count": 111,
   "metadata": {},
   "outputs": [
    {
     "data": {
      "text/plain": [
       "array([0, 3, 6, 9])"
      ]
     },
     "execution_count": 111,
     "metadata": {},
     "output_type": "execute_result"
    }
   ],
   "source": [
    "coo[:,2]"
   ]
  },
  {
   "cell_type": "code",
   "execution_count": 112,
   "metadata": {},
   "outputs": [],
   "source": [
    "plt.show()"
   ]
  },
  {
   "cell_type": "code",
   "execution_count": 123,
   "metadata": {},
   "outputs": [
    {
     "data": {
      "image/png": "[encoded data removed]",
      "text/plain": [
       "<matplotlib.figure.Figure at 0x7fadf11e4a20>"
      ]
     },
     "metadata": {},
     "output_type": "display_data"
    }
   ],
   "source": [
    "from mpl_toolkits.mplot3d import Axes3D\n",
    "import matplotlib.pyplot as plt\n",
    "import numpy as np\n",
    "\n",
    "# Fixing random state for reproducibility\n",
    "np.random.seed(19680801)\n",
    "\n",
    "\n",
    "def randrange(n, vmin, vmax):\n",
    "    '''\n",
    "    Helper function to make an array of random numbers having shape (n, )\n",
    "    with each number distributed Uniform(vmin, vmax).\n",
    "    '''\n",
    "    return (vmax - vmin)*np.random.rand(n) + vmin\n",
    "\n",
    "fig = plt.figure()\n",
    "ax = fig.add_subplot(111, projection='3d')\n",
    "\n",
    "n = 100\n",
    "\n",
    "# For each set of style and range settings, plot n random points in the box\n",
    "# defined by x in [23, 32], y in [0, 100], z in [zlow, zhigh].\n",
    "for c, m, zlow, zhigh in [('r', 'o', -50, -25), ('b', '^', -30, -5)]:\n",
    "    xs = coo[:,0]\n",
    "    ys = coo[:,1]\n",
    "    zs = coo[:,2]\n",
    "    ax.scatter(xs, ys, zs, c=c, marker=m)\n",
    "\n",
    "ax.set_xlabel('X Label')\n",
    "ax.set_ylabel('Y Label')\n",
    "ax.set_zlabel('Z Label')\n",
    "\n",
    "plt.show()"
   ]
  },
  {
   "cell_type": "code",
   "execution_count": null,
   "metadata": {},
   "outputs": [],
   "source": []
  }
 ],
 "metadata": {
  "kernelspec": {
   "display_name": "Python 3",
   "language": "python",
   "name": "python3"
  },
  "language_info": {
   "codemirror_mode": {
    "name": "ipython",
    "version": 3
   },
   "file_extension": ".py",
   "mimetype": "text/x-python",
   "name": "python",
   "nbconvert_exporter": "python",
   "pygments_lexer": "ipython3",
   "version": "3.6.4"
  }
 },
 "nbformat": 4,
 "nbformat_minor": 2
}
