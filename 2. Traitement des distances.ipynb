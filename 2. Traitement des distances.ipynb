{
 "cells": [
  {
   "cell_type": "markdown",
   "metadata": {},
   "source": [
    "## Génération d'un tableau de coordonnées fictives"
   ]
  },
  {
   "cell_type": "code",
   "execution_count": 2,
   "metadata": {},
   "outputs": [
    {
     "data": {
      "text/plain": [
       "array([[-0.01021869,  0.4321829 , -0.08206913],\n",
       "       [-0.18246734, -0.08164166,  0.77005448],\n",
       "       [-0.05753804,  0.48558706, -0.24695021],\n",
       "       [ 0.3687509 , -0.2593858 , -0.04567559],\n",
       "       [ 0.38624583, -0.23255142,  0.46361445],\n",
       "       [-0.04122078, -0.48911327, -0.14040329]])"
      ]
     },
     "execution_count": 2,
     "metadata": {},
     "output_type": "execute_result"
    }
   ],
   "source": [
    "import numpy as np\n",
    "\n",
    "atomes_nb = 6\n",
    "atomes_nb_incl_fictif = atomes_nb + 1\n",
    "\n",
    "\n",
    "# Génération d'une matrice de positions des atomes d'une molécule. Pour chaque atome, \n",
    "# une ligne contient 3 coordonnées x, y, z, chacune dans l'intervalle [-1,1[. \n",
    "def gen_pos(nb_atomes):\n",
    "    return (np.random.random_sample(atomes_nb*3) * 2 - 1).reshape(-1,3)\n",
    "\n",
    "positions = gen_pos(atomes_nb)\n",
    "positions"
   ]
  },
  {
   "cell_type": "code",
   "execution_count": null,
   "metadata": {},
   "outputs": [],
   "source": []
  },
  {
   "cell_type": "markdown",
   "metadata": {},
   "source": [
    "## Conversion des coordonnées en distances\n",
    "\n",
    "L'objectif est de fournir au réseau de neurones un vecteur contenant chaque coordonnée x, y, z et masse m des atomes contenant la molécule, afin d'obtenir en sortie le déplacement nécessaire des atomes et d'en déduire les nouvelles positions. On ne s'intéresse ici qu'aux positions, afin d'obtenir la matrice distances de la molécule.\n",
    "\n",
    "La matrice distances contient pour chaque atome la distance aux 4 atomes suivants (dans l'ordre donné au vecteur positions initial). Si l'atome suivant n'existe pas (on arrive à la fin de la liste), alors on impute une valeur 0.\n",
    "\n",
    "Afin de s'assurer que l'on pourra reconstruire la molécule avec la différence de distances fournie en sortie du RN, on ajoute un atome fictif prenant comme indice 0 et qui possédera une masse nulle. Cet atome peut être placé librement, à condition qu'il n'appartienne pas au plan formé par les trois premiers atomes."
   ]
  },
  {
   "cell_type": "markdown",
   "metadata": {},
   "source": [
    "### Ajout d'un atome fictif"
   ]
  },
  {
   "cell_type": "code",
   "execution_count": 3,
   "metadata": {},
   "outputs": [
    {
     "data": {
      "text/plain": [
       "array([[ 0.        ,  0.        ,  0.5       ],\n",
       "       [-0.01021869,  0.4321829 , -0.08206913],\n",
       "       [-0.18246734, -0.08164166,  0.77005448],\n",
       "       [-0.05753804,  0.48558706, -0.24695021],\n",
       "       [ 0.3687509 , -0.2593858 , -0.04567559],\n",
       "       [ 0.38624583, -0.23255142,  0.46361445],\n",
       "       [-0.04122078, -0.48911327, -0.14040329]])"
      ]
     },
     "execution_count": 3,
     "metadata": {},
     "output_type": "execute_result"
    }
   ],
   "source": [
    "def ajout_atome_fictif(positions):\n",
    "    \"\"\" Ajoute un atome fictif aux positions initiales. Pour le moment, le place simplement\n",
    "    aux coordonnées (0,0,0.5). Dans le futur, elle le placera à une position n'appartenant pas avec\n",
    "    certitude au plan formé par les trois premiers atomes. \"\"\"\n",
    "    return np.insert(positions, 0, [0,0,.5], axis=0).reshape(-1,3)\n",
    "    \n",
    "positions = ajout_atome_fictif(positions)\n",
    "positions"
   ]
  },
  {
   "cell_type": "code",
   "execution_count": null,
   "metadata": {},
   "outputs": [],
   "source": []
  },
  {
   "cell_type": "code",
   "execution_count": null,
   "metadata": {},
   "outputs": [],
   "source": []
  },
  {
   "cell_type": "markdown",
   "metadata": {},
   "source": [
    "### Génération du vecteur distances"
   ]
  },
  {
   "cell_type": "code",
   "execution_count": 4,
   "metadata": {},
   "outputs": [
    {
     "data": {
      "text/plain": [
       "array([[0.72504548, 0.33598975, 0.89277099, 0.70782771],\n",
       "       [1.00985144, 0.17965772, 0.78943632, 0.94700918],\n",
       "       [1.17117646, 1.00042495, 0.66341082, 1.00743092],\n",
       "       [0.88159985, 1.10343515, 0.98064225, 0.        ],\n",
       "       [0.51029648, 0.47940049, 0.        , 0.        ],\n",
       "       [0.78319161, 0.        , 0.        , 0.        ]])"
      ]
     },
     "execution_count": 4,
     "metadata": {},
     "output_type": "execute_result"
    }
   ],
   "source": [
    "import math\n",
    "\n",
    "\n",
    "def get_atome_coord(positions, index):\n",
    "    \"\"\" Renvoie les coordonnées de l'atome ayant l'index donné \"\"\"\n",
    "    return (positions[index])\n",
    "    \n",
    "def calcul_dist(x1, y1, z1, x2, y2, z2):\n",
    "    \"\"\" Calcule et retourne la distance entre deux points selon leurs coordonnées en 3 dimensions\"\"\"\n",
    "\n",
    "    return math.sqrt(pow(x1 - x2, 2) + pow(y1 - y2, 2) + pow(z1 - z2, 2))\n",
    "    \n",
    "def get_val_dist_matrice(i, j, positions):\n",
    "    \"\"\" Renvoie la valeur de la matrice de distances aux coordonnées (i, j). La matrice complète n'est\n",
    "    jamais calculée. \"\"\"\n",
    "    coord_i = get_atome_coord(positions, i)  # Coordonnées de l'atome i\n",
    "    coord_j = get_atome_coord(positions, j)  # Coordonnées de l'atome j\n",
    "\n",
    "    return calcul_dist(coord_i[0], coord_i[1], coord_i[2], coord_j[0], coord_j[1], coord_j[2])\n",
    "    \n",
    "def matrice_distances_compr(positions, nb_atomes):\n",
    "    \"\"\" Renvoie le vecteur de distances à partir des coordonnées des atomes et du nombre d'atomes dans\n",
    "    la molécule. La matrice de distances complète n'est pas générée, seules les valeurs nécessaires\n",
    "    sont calculées à la demande \"\"\"\n",
    "    mat_distances = np.zeros(shape=(nb_atomes-1,4))\n",
    "    \n",
    "    for j in range(nb_atomes - 1):\n",
    "        k=0  # Permet d'accéder simplement à l'indice dans le tableau de sortie\n",
    "        for i in range(j+1, j+5):\n",
    "            if i < nb_atomes:\n",
    "                mat_distances[j][k] = get_val_dist_matrice(i, j, positions)\n",
    "            k += 1\n",
    "            \n",
    "    return mat_distances\n",
    "\n",
    "distances = matrice_distances_compr(positions, atomes_nb_incl_fictif)\n",
    "distances"
   ]
  },
  {
   "cell_type": "markdown",
   "metadata": {},
   "source": [
    "### Test de la génération du vecteur distances"
   ]
  },
  {
   "cell_type": "code",
   "execution_count": 5,
   "metadata": {},
   "outputs": [
    {
     "data": {
      "text/plain": [
       "array([[ 3.74165739,  8.77496439, 13.92838828, 19.10497317],\n",
       "       [ 5.19615242, 10.39230485, 15.58845727,  0.        ],\n",
       "       [ 5.19615242, 10.39230485,  0.        ,  0.        ],\n",
       "       [ 5.19615242,  0.        ,  0.        ,  0.        ]])"
      ]
     },
     "execution_count": 5,
     "metadata": {},
     "output_type": "execute_result"
    }
   ],
   "source": [
    "# On génère un tableau de positions d'atomes\n",
    "pos_test = np.array([1, 2, 3, 4, 5, 6, 7, 8, 9, 10, 11, 12, 13, 14, 15]).reshape(-1,3)\n",
    "nb_atomes_test = int(len(pos_test))\n",
    "\n",
    "# On ajoute l'atome fictif\n",
    "pos_test = ajout_atome_fictif(pos_test)\n",
    "\n",
    "# Valeurs attendues du vecteur distances\n",
    "# [d10, d20, d30, d40,\n",
    "#  d21, d31, d41, d51,\n",
    "#  d32, d42, d52, 0,\n",
    "#  d43, d53, 0,   0,\n",
    "#  d54, 0,   0,   0]\n",
    "#\n",
    "# d10 = 3,74...\n",
    "# d20 = 8,77...\n",
    "# d30 = 13,92...\n",
    "# d40 = 19,10...\n",
    "# d21 = 5,19...\n",
    "# d31 = 10,39...\n",
    "# d41 = 15,58...\n",
    "# d51 = 20,78...\n",
    "# d32 = 5,19...\n",
    "# d42 = 10,39...\n",
    "# d52 = 15,58...\n",
    "# d43 = 5,19...\n",
    "# d53 = 10,39...\n",
    "# d54 = 5,19...\n",
    "\n",
    "distances_test = matrice_distances_compr(pos_test, nb_atomes_test)\n",
    "\n",
    "# Les valeurs de retour sont bien celles attendues\n",
    "\n",
    "distances_test"
   ]
  },
  {
   "cell_type": "code",
   "execution_count": null,
   "metadata": {},
   "outputs": [],
   "source": []
  },
  {
   "cell_type": "markdown",
   "metadata": {},
   "source": [
    "## Déduction des positions en fonction des distances\n",
    "\n",
    "La sortie du RN nous fournit un vecteur différence de distance (que l'on note delta_distances) qui correspond aux variations des distances inter-atomiques de la molécule induites par l'optimisation. La connaissance du vecteur distances fourni en entrée du RN permet de déduire le nouveau vecteur distance, et la connaissance des coordonnées de l'atome fictif permet de déduire les nouvelles positions des atomes de la molécule."
   ]
  },
  {
   "cell_type": "markdown",
   "metadata": {},
   "source": [
    "### Calcul des nouvelles distances inter-atomiques\n",
    "\n",
    "#### Simulation de la sortie du RN"
   ]
  },
  {
   "cell_type": "code",
   "execution_count": 6,
   "metadata": {},
   "outputs": [
    {
     "data": {
      "text/plain": [
       "array([[ 0.0165687 , -0.01587458, -0.00607199,  0.00561653],\n",
       "       [-0.01625693,  0.00690608, -0.00421905,  0.00523158],\n",
       "       [-0.01065689, -0.01408589, -0.0065528 , -0.01590901],\n",
       "       [ 0.00428703,  0.00372169, -0.01652154,  0.00717787],\n",
       "       [-0.00529164,  0.00257222,  0.00444491,  0.00582569],\n",
       "       [-0.00392897, -0.00115905,  0.00687482, -0.01513024]])"
      ]
     },
     "execution_count": 6,
     "metadata": {},
     "output_type": "execute_result"
    }
   ],
   "source": [
    "def simulation_rn_nul(distances_init, atomes_nb):\n",
    "    \"\"\" On simule la sortie d'un RN n'ayant aucune incidence sur les données initiales\n",
    "    (matrice variation de distances nulle)\"\"\"\n",
    "    return np.zeros(shape=(atomes_nb-1,4))\n",
    "\n",
    "# On simule l'appel au RN pour obtenir le vecteur variations de distances\n",
    "delta_distances = simulation_rn_nul(distances_test, atomes_nb_incl_fictif)\n",
    "\n",
    "def simulation_rn_bruit(distances_init, atomes_nb, sigma):\n",
    "    \"\"\" On simule la sortie d'un RN ajoutant une légère variation de distances\"\"\"\n",
    "    return np.random.normal(0, sigma, 4*(atomes_nb-1)).reshape(atomes_nb-1, 4)\n",
    "\n",
    "delta_distances_bruit = simulation_rn_bruit(distances, atomes_nb_incl_fictif, 0.01)\n",
    "\n",
    "delta_distances_bruit"
   ]
  },
  {
   "cell_type": "code",
   "execution_count": null,
   "metadata": {},
   "outputs": [],
   "source": []
  },
  {
   "cell_type": "markdown",
   "metadata": {},
   "source": [
    "## Tentatives de résolution du problème de la localisation d'un point\n",
    "\n",
    "Afin de déterminer les coordonnées d'un point de l'espace en fonction de sa distance relative avec quatre autres points dont les positions sont connues, on tente ici d'appliquer plusieurs méthodes différentes.\n",
    "\n",
    "### Résolution générale du système général (décrivant les quatre sphères)\n",
    "\n",
    "On peut dans un premier temps tenter de résoudre le système d'équation exprimant les coordonnées du point recherché en fonction de sa distance avec les autres points de manière générale. Si cette méthode fonctionne, alors on pourra calculer directement les coordonnées xn, yn et zn (n>=4) de chaque point, sans faire appel à un solveur à chaque résolution, et donc en évitant la nécessité de résoudre une instance du système à chaque placement de point.\n",
    "\n",
    "Le problème de cette méthode (voir plus bas) est qu'elle nécessite le calcul d'équation très complexes, et que le solveur utilisé (sympy) n'arrive pas à trouver de solution.\n",
    "\n",
    "#### Expression de xn en fonction de yn, zn et des autres paramètres"
   ]
  },
  {
   "cell_type": "code",
   "execution_count": 7,
   "metadata": {},
   "outputs": [
    {
     "data": {
      "text/plain": [
       "{(xnm1 - sqrt(dn_nm1**2 - yn**2 + 2*yn*ynm1 - ynm1**2 - zn**2 + 2*zn*znm1 - znm1**2),), (xnm1 + sqrt(dn_nm1**2 - yn**2 + 2*yn*ynm1 - ynm1**2 - zn**2 + 2*zn*znm1 - znm1**2),)}"
      ]
     },
     "execution_count": 7,
     "metadata": {},
     "output_type": "execute_result"
    }
   ],
   "source": [
    "from sympy import Symbol\n",
    "from sympy.solvers.solveset import *\n",
    "\n",
    "# Tentative résolution système général\n",
    "\n",
    "# Variables recherchées\n",
    "xn = Symbol('xn')\n",
    "yn = Symbol('yn')\n",
    "zn = Symbol('zn')\n",
    "\n",
    "# Position du point (n-4)\n",
    "xnm4 = Symbol('xnm4')\n",
    "ynm4 = Symbol('ynm4')\n",
    "znm4 = Symbol('znm4')\n",
    "\n",
    "# Position du point (n-3)\n",
    "xnm3 = Symbol('xnm3')\n",
    "ynm3 = Symbol('ynm3')\n",
    "znm3 = Symbol('znm3')\n",
    "\n",
    "# Position du point (n-2)\n",
    "xnm2 = Symbol('xnm2')\n",
    "ynm2 = Symbol('ynm2')\n",
    "znm2 = Symbol('znm2')\n",
    "\n",
    "# Position du point (n-1)\n",
    "xnm1 = Symbol('xnm1')\n",
    "ynm1 = Symbol('ynm1')\n",
    "znm1= Symbol('znm1')\n",
    "\n",
    "# Distances entre le point n recherché et les points (n-4), (n-3), (n-2) et (n-1)\n",
    "dn_nm4 = Symbol('dn_nm4')\n",
    "dn_nm3 = Symbol('dn_nm3')\n",
    "dn_nm2 = Symbol('dn_nm2')\n",
    "dn_nm1 = Symbol('dn_nm1')\n",
    "\n",
    "# Formalisation du système\n",
    "eqs = []\n",
    "eqs.append((xn - xnm4)**2 + (yn - ynm4)**2\n",
    "           + (zn - znm4)**2 - dn_nm4**2)\n",
    "\n",
    "eqs.append((xn - xnm3)**2 + (yn - ynm3)**2\n",
    "           + (zn - znm3)**2 - dn_nm3**2)\n",
    "\n",
    "eqs.append((xn - xnm2)**2 + (yn - ynm2)**2\n",
    "           + (zn - znm2)**2 - dn_nm2**2)\n",
    "\n",
    "eqs.append((xn - xnm1)**2 + (yn - ynm1)**2\n",
    "           + (zn - znm1)**2 - dn_nm1**2)\n",
    "\n",
    "# Expression de xn en fonction des autres variables et paramètres\n",
    "nonlinsolve(eqs, [xn])"
   ]
  },
  {
   "cell_type": "markdown",
   "metadata": {},
   "source": [
    "#### Expression de yn en fonction de zn et des autres paramètres\n",
    "\n",
    "On remplace ici les xn par la solution trouvée plus haut et on recherche yn exprimé en fonction de zn et des paramètres de position des autres points et de distance.\n",
    "\n",
    "On remarque que l'on obtient deux solutions très complexes"
   ]
  },
  {
   "cell_type": "code",
   "execution_count": 7,
   "metadata": {},
   "outputs": [
    {
     "ename": "NameError",
     "evalue": "name 'sqrt' is not defined",
     "output_type": "error",
     "traceback": [
      "\u001b[0;31m---------------------------------------------------------------------------\u001b[0m",
      "\u001b[0;31mNameError\u001b[0m                                 Traceback (most recent call last)",
      "\u001b[0;32m<ipython-input-7-bd363768eca0>\u001b[0m in \u001b[0;36m<module>\u001b[0;34m()\u001b[0m\n\u001b[1;32m      2\u001b[0m \u001b[0meqs\u001b[0m \u001b[0;34m=\u001b[0m \u001b[0;34m[\u001b[0m\u001b[0;34m]\u001b[0m\u001b[0;34m\u001b[0m\u001b[0m\n\u001b[1;32m      3\u001b[0m eqs.append((xnm1 + sqrt(dn_nm1**2 - yn**2 + 2*yn*ynm1 - ynm1**2 - zn**2 + 2*zn*znm1 - znm1**2) - xnm4)**2 + (yn - ynm4)**2\n\u001b[0;32m----> 4\u001b[0;31m            + (zn - znm4)**2 - dn_nm4**2)\n\u001b[0m\u001b[1;32m      5\u001b[0m \u001b[0;34m\u001b[0m\u001b[0m\n\u001b[1;32m      6\u001b[0m eqs.append((xnm1 + sqrt(dn_nm1**2 - yn**2 + 2*yn*ynm1 - ynm1**2 - zn**2 + 2*zn*znm1 - znm1**2) - xnm3)**2 + (yn - ynm3)**2\n",
      "\u001b[0;31mNameError\u001b[0m: name 'sqrt' is not defined"
     ]
    }
   ],
   "source": [
    "\n",
    "eqs = []\n",
    "eqs.append((xnm1 + sqrt(dn_nm1**2 - yn**2 + 2*yn*ynm1 - ynm1**2 - zn**2 + 2*zn*znm1 - znm1**2) - xnm4)**2 + (yn - ynm4)**2\n",
    "           + (zn - znm4)**2 - dn_nm4**2)\n",
    "\n",
    "eqs.append((xnm1 + sqrt(dn_nm1**2 - yn**2 + 2*yn*ynm1 - ynm1**2 - zn**2 + 2*zn*znm1 - znm1**2) - xnm3)**2 + (yn - ynm3)**2\n",
    "           + (zn - znm3)**2 - dn_nm3**2)\n",
    "\n",
    "eqs.append((xnm1 + sqrt(dn_nm1**2 - yn**2 + 2*yn*ynm1 - ynm1**2 - zn**2 + 2*zn*znm1 - znm1**2) - xnm2)**2 + (yn - ynm2)**2\n",
    "           + (zn - znm2)**2 - dn_nm2**2)\n",
    "\n",
    "eqs.append((xnm1 + sqrt(dn_nm1**2 - yn**2 + 2*yn*ynm1 - ynm1**2 - zn**2 + 2*zn*znm1 - znm1**2) - xnm1)**2 + (yn - ynm1)**2\n",
    "           + (zn - znm1)**2 - dn_nm1**2)\n",
    "nonlinsolve(eqs, [yn])"
   ]
  },
  {
   "cell_type": "markdown",
   "metadata": {},
   "source": [
    "#### Expression de zn en fonction des paramètres\n",
    "\n",
    "On cherche ici à exprimer zn en fonction des positions des autres points et des distances relatives entre le point n et les autres points, dans le but de remplacer zn par cette expression dans les équations précédentes, afin d'exprimer finalement xn, yn en fonction de ces paramètres.\n",
    "\n",
    "Malheureusement, le solveur ne trouve pas de solution. On abandonne donc la solution de vouloir exprimer chaque variable du système à 4 équations en fonction des paramètres."
   ]
  },
  {
   "cell_type": "code",
   "execution_count": 39,
   "metadata": {},
   "outputs": [
    {
     "data": {
      "text/plain": [
       "{(ConditionSet(zn, Eq(-dn_nm1**2*ynm1 + dn_nm1**2*ynm2 + dn_nm2**2*ynm1 - dn_nm2**2*ynm2 + xnm1**2*ynm1 + xnm1**2*ynm2 - 2*xnm1*xnm2*ynm1 - 2*xnm1*xnm2*ynm2 + xnm2**2*ynm1 + xnm2**2*ynm2 + ynm1**3 - ynm1**2*ynm2 - ynm1*ynm2**2 - 2*ynm1*zn*znm1 + 2*ynm1*zn*znm2 + ynm1*znm1**2 - ynm1*znm2**2 + ynm2**3 + 2*ynm2*zn*znm1 - 2*ynm2*zn*znm2 - ynm2*znm1**2 + ynm2*znm2**2 + (-xnm1 + xnm2)*sqrt(-dn_nm1**4 + 2*dn_nm1**2*dn_nm2**2 + 2*dn_nm1**2*xnm1**2 - 4*dn_nm1**2*xnm1*xnm2 + 2*dn_nm1**2*xnm2**2 + 2*dn_nm1**2*ynm1**2 - 4*dn_nm1**2*ynm1*ynm2 + 2*dn_nm1**2*ynm2**2 - 4*dn_nm1**2*zn*znm1 + 4*dn_nm1**2*zn*znm2 + 2*dn_nm1**2*znm1**2 - 2*dn_nm1**2*znm2**2 - dn_nm2**4 + 2*dn_nm2**2*xnm1**2 - 4*dn_nm2**2*xnm1*xnm2 + 2*dn_nm2**2*xnm2**2 + 2*dn_nm2**2*ynm1**2 - 4*dn_nm2**2*ynm1*ynm2 + 2*dn_nm2**2*ynm2**2 + 4*dn_nm2**2*zn*znm1 - 4*dn_nm2**2*zn*znm2 - 2*dn_nm2**2*znm1**2 + 2*dn_nm2**2*znm2**2 - xnm1**4 + 4*xnm1**3*xnm2 - 6*xnm1**2*xnm2**2 - 2*xnm1**2*ynm1**2 + 4*xnm1**2*ynm1*ynm2 - 2*xnm1**2*ynm2**2 - 4*xnm1**2*zn**2 + 4*xnm1**2*zn*znm1 + 4*xnm1**2*zn*znm2 - 2*xnm1**2*znm1**2 - 2*xnm1**2*znm2**2 + 4*xnm1*xnm2**3 + 4*xnm1*xnm2*ynm1**2 - 8*xnm1*xnm2*ynm1*ynm2 + 4*xnm1*xnm2*ynm2**2 + 8*xnm1*xnm2*zn**2 - 8*xnm1*xnm2*zn*znm1 - 8*xnm1*xnm2*zn*znm2 + 4*xnm1*xnm2*znm1**2 + 4*xnm1*xnm2*znm2**2 - xnm2**4 - 2*xnm2**2*ynm1**2 + 4*xnm2**2*ynm1*ynm2 - 2*xnm2**2*ynm2**2 - 4*xnm2**2*zn**2 + 4*xnm2**2*zn*znm1 + 4*xnm2**2*zn*znm2 - 2*xnm2**2*znm1**2 - 2*xnm2**2*znm2**2 - ynm1**4 + 4*ynm1**3*ynm2 - 6*ynm1**2*ynm2**2 - 4*ynm1**2*zn**2 + 4*ynm1**2*zn*znm1 + 4*ynm1**2*zn*znm2 - 2*ynm1**2*znm1**2 - 2*ynm1**2*znm2**2 + 4*ynm1*ynm2**3 + 8*ynm1*ynm2*zn**2 - 8*ynm1*ynm2*zn*znm1 - 8*ynm1*ynm2*zn*znm2 + 4*ynm1*ynm2*znm1**2 + 4*ynm1*ynm2*znm2**2 - ynm2**4 - 4*ynm2**2*zn**2 + 4*ynm2**2*zn*znm1 + 4*ynm2**2*zn*znm2 - 2*ynm2**2*znm1**2 - 2*ynm2**2*znm2**2 - 4*zn**2*znm1**2 + 8*zn**2*znm1*znm2 - 4*zn**2*znm2**2 + 4*zn*znm1**3 - 4*zn*znm1**2*znm2 - 4*zn*znm1*znm2**2 + 4*zn*znm2**3 - znm1**4 + 2*znm1**2*znm2**2 - znm2**4), 0), {-(xnm1 - xnm2)*sqrt(-dn_nm1**4 + 2*dn_nm1**2*dn_nm2**2 + 2*dn_nm1**2*xnm1**2 - 4*dn_nm1**2*xnm1*xnm2 + 2*dn_nm1**2*xnm2**2 + 2*dn_nm1**2*ynm1**2 - 2*dn_nm1**2*ynm2**2 + 2*dn_nm1**2*znm1**2 - 4*dn_nm1**2*znm1*znm2 + 2*dn_nm1**2*znm2**2 - dn_nm2**4 + 2*dn_nm2**2*xnm1**2 - 4*dn_nm2**2*xnm1*xnm2 + 2*dn_nm2**2*xnm2**2 - 2*dn_nm2**2*ynm1**2 + 2*dn_nm2**2*ynm2**2 + 2*dn_nm2**2*znm1**2 - 4*dn_nm2**2*znm1*znm2 + 2*dn_nm2**2*znm2**2 - xnm1**4 + 4*xnm1**3*xnm2 - 6*xnm1**2*xnm2**2 - 2*xnm1**2*ynm1**2 - 2*xnm1**2*ynm2**2 - 2*xnm1**2*znm1**2 + 4*xnm1**2*znm1*znm2 - 2*xnm1**2*znm2**2 + 4*xnm1*xnm2**3 + 4*xnm1*xnm2*ynm1**2 + 4*xnm1*xnm2*ynm2**2 + 4*xnm1*xnm2*znm1**2 - 8*xnm1*xnm2*znm1*znm2 + 4*xnm1*xnm2*znm2**2 - xnm2**4 - 2*xnm2**2*ynm1**2 - 2*xnm2**2*ynm2**2 - 2*xnm2**2*znm1**2 + 4*xnm2**2*znm1*znm2 - 2*xnm2**2*znm2**2 - ynm1**4 + 2*ynm1**2*ynm2**2 - 2*ynm1**2*znm1**2 + 4*ynm1**2*znm1*znm2 - 2*ynm1**2*znm2**2 - ynm2**4 - 2*ynm2**2*znm1**2 + 4*ynm2**2*znm1*znm2 - 2*ynm2**2*znm2**2 - znm1**4 + 4*znm1**3*znm2 - 6*znm1**2*znm2**2 + 4*znm1*znm2**3 - znm2**4)/(2*(xnm1**2 - 2*xnm1*xnm2 + xnm2**2 + znm1**2 - 2*znm1*znm2 + znm2**2)) - (dn_nm1**2*znm1 - dn_nm1**2*znm2 - dn_nm2**2*znm1 + dn_nm2**2*znm2 - xnm1**2*znm1 - xnm1**2*znm2 + 2*xnm1*xnm2*znm1 + 2*xnm1*xnm2*znm2 - xnm2**2*znm1 - xnm2**2*znm2 - ynm1**2*znm1 + ynm1**2*znm2 + ynm2**2*znm1 - ynm2**2*znm2 - znm1**3 + znm1**2*znm2 + znm1*znm2**2 - znm2**3)/(2*(xnm1**2 - 2*xnm1*xnm2 + xnm2**2 + znm1**2 - 2*znm1*znm2 + znm2**2)), (xnm1 - xnm2)*sqrt(-dn_nm1**4 + 2*dn_nm1**2*dn_nm2**2 + 2*dn_nm1**2*xnm1**2 - 4*dn_nm1**2*xnm1*xnm2 + 2*dn_nm1**2*xnm2**2 + 2*dn_nm1**2*ynm1**2 - 2*dn_nm1**2*ynm2**2 + 2*dn_nm1**2*znm1**2 - 4*dn_nm1**2*znm1*znm2 + 2*dn_nm1**2*znm2**2 - dn_nm2**4 + 2*dn_nm2**2*xnm1**2 - 4*dn_nm2**2*xnm1*xnm2 + 2*dn_nm2**2*xnm2**2 - 2*dn_nm2**2*ynm1**2 + 2*dn_nm2**2*ynm2**2 + 2*dn_nm2**2*znm1**2 - 4*dn_nm2**2*znm1*znm2 + 2*dn_nm2**2*znm2**2 - xnm1**4 + 4*xnm1**3*xnm2 - 6*xnm1**2*xnm2**2 - 2*xnm1**2*ynm1**2 - 2*xnm1**2*ynm2**2 - 2*xnm1**2*znm1**2 + 4*xnm1**2*znm1*znm2 - 2*xnm1**2*znm2**2 + 4*xnm1*xnm2**3 + 4*xnm1*xnm2*ynm1**2 + 4*xnm1*xnm2*ynm2**2 + 4*xnm1*xnm2*znm1**2 - 8*xnm1*xnm2*znm1*znm2 + 4*xnm1*xnm2*znm2**2 - xnm2**4 - 2*xnm2**2*ynm1**2 - 2*xnm2**2*ynm2**2 - 2*xnm2**2*znm1**2 + 4*xnm2**2*znm1*znm2 - 2*xnm2**2*znm2**2 - ynm1**4 + 2*ynm1**2*ynm2**2 - 2*ynm1**2*znm1**2 + 4*ynm1**2*znm1*znm2 - 2*ynm1**2*znm2**2 - ynm2**4 - 2*ynm2**2*znm1**2 + 4*ynm2**2*znm1*znm2 - 2*ynm2**2*znm2**2 - znm1**4 + 4*znm1**3*znm2 - 6*znm1**2*znm2**2 + 4*znm1*znm2**3 - znm2**4)/(2*(xnm1**2 - 2*xnm1*xnm2 + xnm2**2 + znm1**2 - 2*znm1*znm2 + znm2**2)) - (dn_nm1**2*znm1 - dn_nm1**2*znm2 - dn_nm2**2*znm1 + dn_nm2**2*znm2 - xnm1**2*znm1 - xnm1**2*znm2 + 2*xnm1*xnm2*znm1 + 2*xnm1*xnm2*znm2 - xnm2**2*znm1 - xnm2**2*znm2 - ynm1**2*znm1 + ynm1**2*znm2 + ynm2**2*znm1 - ynm2**2*znm2 - znm1**3 + znm1**2*znm2 + znm1*znm2**2 - znm2**3)/(2*(xnm1**2 - 2*xnm1*xnm2 + xnm2**2 + znm1**2 - 2*znm1*znm2 + znm2**2))}),)}"
      ]
     },
     "execution_count": 39,
     "metadata": {},
     "output_type": "execute_result"
    }
   ],
   "source": [
    "eqs = []\n",
    "\n",
    "eqs.append(-(xnm1 - xnm2)*sqrt(-dn_nm1**4 + 2*dn_nm1**2*dn_nm2**2 \n",
    "                               + 2*dn_nm1**2*xnm1**2 - 4*dn_nm1**2*xnm1*xnm2 + 2*dn_nm1**2*xnm2**2 \n",
    "                               + 2*dn_nm1**2*ynm1**2 - 4*dn_nm1**2*ynm1*ynm2 + 2*dn_nm1**2*ynm2**2 \n",
    "                               - 4*dn_nm1**2*zn*znm1 + 4*dn_nm1**2*zn*znm2 + 2*dn_nm1**2*znm1**2 \n",
    "                               - 2*dn_nm1**2*znm2**2 - dn_nm2**4 + 2*dn_nm2**2*xnm1**2 \n",
    "                               - 4*dn_nm2**2*xnm1*xnm2 + 2*dn_nm2**2*xnm2**2 + 2*dn_nm2**2*ynm1**2 \n",
    "                               - 4*dn_nm2**2*ynm1*ynm2 + 2*dn_nm2**2*ynm2**2 + 4*dn_nm2**2*zn*znm1 \n",
    "                               - 4*dn_nm2**2*zn*znm2 - 2*dn_nm2**2*znm1**2 + 2*dn_nm2**2*znm2**2 \n",
    "                               - xnm1**4 + 4*xnm1**3*xnm2 - 6*xnm1**2*xnm2**2 - 2*xnm1**2*ynm1**2 \n",
    "                               + 4*xnm1**2*ynm1*ynm2 - 2*xnm1**2*ynm2**2 - 4*xnm1**2*zn**2 \n",
    "                               + 4*xnm1**2*zn*znm1 + 4*xnm1**2*zn*znm2 - 2*xnm1**2*znm1**2 \n",
    "                               - 2*xnm1**2*znm2**2 + 4*xnm1*xnm2**3 + 4*xnm1*xnm2*ynm1**2 \n",
    "                               - 8*xnm1*xnm2*ynm1*ynm2 + 4*xnm1*xnm2*ynm2**2 + 8*xnm1*xnm2*zn**2 \n",
    "                               - 8*xnm1*xnm2*zn*znm1 - 8*xnm1*xnm2*zn*znm2 + 4*xnm1*xnm2*znm1**2 \n",
    "                               + 4*xnm1*xnm2*znm2**2 - xnm2**4 - 2*xnm2**2*ynm1**2 + 4*xnm2**2*ynm1*ynm2 \n",
    "                               - 2*xnm2**2*ynm2**2 - 4*xnm2**2*zn**2 + 4*xnm2**2*zn*znm1 \n",
    "                               + 4*xnm2**2*zn*znm2 - 2*xnm2**2*znm1**2 - 2*xnm2**2*znm2**2 \n",
    "                               - ynm1**4 + 4*ynm1**3*ynm2 - 6*ynm1**2*ynm2**2 - 4*ynm1**2*zn**2 \n",
    "                               + 4*ynm1**2*zn*znm1 + 4*ynm1**2*zn*znm2 - 2*ynm1**2*znm1**2 \n",
    "                               - 2*ynm1**2*znm2**2 + 4*ynm1*ynm2**3 + 8*ynm1*ynm2*zn**2 \n",
    "                               - 8*ynm1*ynm2*zn*znm1 - 8*ynm1*ynm2*zn*znm2 + 4*ynm1*ynm2*znm1**2 \n",
    "                               + 4*ynm1*ynm2*znm2**2 - ynm2**4 - 4*ynm2**2*zn**2 + 4*ynm2**2*zn*znm1 \n",
    "                               + 4*ynm2**2*zn*znm2 - 2*ynm2**2*znm1**2 - 2*ynm2**2*znm2**2 \n",
    "                               - 4*zn**2*znm1**2 + 8*zn**2*znm1*znm2 - 4*zn**2*znm2**2 + 4*zn*znm1**3 \n",
    "                               - 4*zn*znm1**2*znm2 - 4*zn*znm1*znm2**2 + 4*zn*znm2**3 - znm1**4 \n",
    "                               + 2*znm1**2*znm2**2 - znm2**4)/(2*(xnm1**2 - 2*xnm1*xnm2 + xnm2**2 + ynm1**2 \n",
    "                               - 2*ynm1*ynm2 + ynm2**2)) - (dn_nm1**2*ynm1 - dn_nm1**2*ynm2 - dn_nm2**2*ynm1 \n",
    "                               + dn_nm2**2*ynm2 - xnm1**2*ynm1 - xnm1**2*ynm2 + 2*xnm1*xnm2*ynm1 + 2*xnm1*xnm2*ynm2 \n",
    "                               - xnm2**2*ynm1 - xnm2**2*ynm2 - ynm1**3 + ynm1**2*ynm2 + ynm1*ynm2**2 \n",
    "                               + 2*ynm1*zn*znm1 - 2*ynm1*zn*znm2 - ynm1*znm1**2 + ynm1*znm2**2 - ynm2**3 \n",
    "                               - 2*ynm2*zn*znm1 + 2*ynm2*zn*znm2 + ynm2*znm1**2 - ynm2*znm2**2)/(2*(xnm1**2 \n",
    "                               - 2*xnm1*xnm2 + xnm2**2 + ynm1**2 - 2*ynm1*ynm2 + ynm2**2)))\n",
    "\n",
    "nonlinsolve(eqs, [zn])\n",
    "\n"
   ]
  },
  {
   "cell_type": "markdown",
   "metadata": {},
   "source": [
    "### Résolution générale du système partiel (contenant la description de trois sphères)\n",
    "\n",
    "On cherche toujours ici à résoudre le système d'équations de façon générale, afin d'éviter d'utiliser un solveur à chaque recherche des coordonnées d'un point. La différence avec la méthode développée ci-dessus est qu'on ne va pas chercher à trouver l'intersection de quatre sphères mais de seulement trois. L'idée est que dans le cas où les quatre premiers points ne sont pas alignés, l'intersection de trois sphères ayant pour centres trois des points et pour rayon la distance entre ces points et le point recherché possèdera deux solutions. Une seule de ces solutions correspond au point recherché, mais nous pourrons déterminer ce point en fonction de la distance avec le point que l'on aura ignoré jusque là.\n",
    "\n",
    "Formellement, nous allons tenter de trouver la solution générale de l'intersection entre les sphères de centres respectifs a(n-4), a(n-3) et a(n-2) et de rayons respectifs dn_nm4, dn_nm3, dn_nm2. L'ensemble de solution devrait contenir deux valeurs, parmi lesquelles on sélectionnera au cas par cas (à chaque recherche) celle dont la distance avec le point a(n-1) sera la plus proche de la valeur de dn_nm1.\n",
    "\n",
    "On réalise que les équations sont encore trop complexes, on va donc tenter une nouvelle approche\n",
    "\n",
    "#### Expression de xn en fonction de yn, zn et des paramètres\n"
   ]
  },
  {
   "cell_type": "code",
   "execution_count": null,
   "metadata": {},
   "outputs": [],
   "source": [
    "# Formalisation du système\n",
    "eqs = []\n",
    "\n",
    "xn = Symbol(\"xn\")\n",
    "\n",
    "eqs.append((xn - xnm4)**2 + (yn - ynm4)**2\n",
    "           + (zn - znm4)**2 - dn_nm4**2)\n",
    "\n",
    "eqs.append((xn - xnm3)**2 + (yn - ynm3)**2\n",
    "           + (zn - znm3)**2 - dn_nm3**2)\n",
    "\n",
    "eqs.append((xn - xnm2)**2 + (yn - ynm2)**2\n",
    "           + (zn - znm2)**2 - dn_nm2**2)\n",
    "\n",
    "nonlinsolve(eqs, [xn, yn, zn])\n"
   ]
  },
  {
   "cell_type": "code",
   "execution_count": 7,
   "metadata": {},
   "outputs": [
    {
     "data": {
      "text/plain": [
       "{(xnm4 - sqrt(dn_nm4**2 - yn**2 + 2*yn*ynm4 - ynm4**2 - zn**2 + 2*zn*znm4 - znm4**2),), (xnm4 + sqrt(dn_nm4**2 - yn**2 + 2*yn*ynm4 - ynm4**2 - zn**2 + 2*zn*znm4 - znm4**2),)}"
      ]
     },
     "execution_count": 7,
     "metadata": {},
     "output_type": "execute_result"
    }
   ],
   "source": [
    "# Formalisation du système\n",
    "eqs = []\n",
    "\n",
    "xn = Symbol(\"xn\")\n",
    "\n",
    "eqs.append((xn - xnm4)**2 + (yn - ynm4)**2\n",
    "           + (zn - znm4)**2 - dn_nm4**2)\n",
    "\n",
    "# Expression de xn en fonction des autres variables et paramètres\n",
    "nonlinsolve(eqs, [xn])"
   ]
  },
  {
   "cell_type": "markdown",
   "metadata": {},
   "source": [
    "#### Expression de yn en fonction de zn et des paramètres pour chaque solution de xn\n",
    "\n",
    "On remplace xn par l'expression calculée au dessus et on en déduit l'expression de yn en fonction de zn et des paramètres."
   ]
  },
  {
   "cell_type": "code",
   "execution_count": 36,
   "metadata": {},
   "outputs": [
    {
     "data": {
      "text/plain": [
       "{(-(xnm2 - xnm4)*sqrt(-dn_nm2**4 + 2*dn_nm2**2*dn_nm4**2 + 2*dn_nm2**2*xnm2**2 - 4*dn_nm2**2*xnm2*xnm4 + 2*dn_nm2**2*xnm4**2 + 2*dn_nm2**2*ynm2**2 - 4*dn_nm2**2*ynm2*ynm4 + 2*dn_nm2**2*ynm4**2 - 4*dn_nm2**2*zn*znm2 + 4*dn_nm2**2*zn*znm4 + 2*dn_nm2**2*znm2**2 - 2*dn_nm2**2*znm4**2 - dn_nm4**4 + 2*dn_nm4**2*xnm2**2 - 4*dn_nm4**2*xnm2*xnm4 + 2*dn_nm4**2*xnm4**2 + 2*dn_nm4**2*ynm2**2 - 4*dn_nm4**2*ynm2*ynm4 + 2*dn_nm4**2*ynm4**2 + 4*dn_nm4**2*zn*znm2 - 4*dn_nm4**2*zn*znm4 - 2*dn_nm4**2*znm2**2 + 2*dn_nm4**2*znm4**2 - xnm2**4 + 4*xnm2**3*xnm4 - 6*xnm2**2*xnm4**2 - 2*xnm2**2*ynm2**2 + 4*xnm2**2*ynm2*ynm4 - 2*xnm2**2*ynm4**2 - 4*xnm2**2*zn**2 + 4*xnm2**2*zn*znm2 + 4*xnm2**2*zn*znm4 - 2*xnm2**2*znm2**2 - 2*xnm2**2*znm4**2 + 4*xnm2*xnm4**3 + 4*xnm2*xnm4*ynm2**2 - 8*xnm2*xnm4*ynm2*ynm4 + 4*xnm2*xnm4*ynm4**2 + 8*xnm2*xnm4*zn**2 - 8*xnm2*xnm4*zn*znm2 - 8*xnm2*xnm4*zn*znm4 + 4*xnm2*xnm4*znm2**2 + 4*xnm2*xnm4*znm4**2 - xnm4**4 - 2*xnm4**2*ynm2**2 + 4*xnm4**2*ynm2*ynm4 - 2*xnm4**2*ynm4**2 - 4*xnm4**2*zn**2 + 4*xnm4**2*zn*znm2 + 4*xnm4**2*zn*znm4 - 2*xnm4**2*znm2**2 - 2*xnm4**2*znm4**2 - ynm2**4 + 4*ynm2**3*ynm4 - 6*ynm2**2*ynm4**2 - 4*ynm2**2*zn**2 + 4*ynm2**2*zn*znm2 + 4*ynm2**2*zn*znm4 - 2*ynm2**2*znm2**2 - 2*ynm2**2*znm4**2 + 4*ynm2*ynm4**3 + 8*ynm2*ynm4*zn**2 - 8*ynm2*ynm4*zn*znm2 - 8*ynm2*ynm4*zn*znm4 + 4*ynm2*ynm4*znm2**2 + 4*ynm2*ynm4*znm4**2 - ynm4**4 - 4*ynm4**2*zn**2 + 4*ynm4**2*zn*znm2 + 4*ynm4**2*zn*znm4 - 2*ynm4**2*znm2**2 - 2*ynm4**2*znm4**2 - 4*zn**2*znm2**2 + 8*zn**2*znm2*znm4 - 4*zn**2*znm4**2 + 4*zn*znm2**3 - 4*zn*znm2**2*znm4 - 4*zn*znm2*znm4**2 + 4*zn*znm4**3 - znm2**4 + 2*znm2**2*znm4**2 - znm4**4)/(2*(xnm2**2 - 2*xnm2*xnm4 + xnm4**2 + ynm2**2 - 2*ynm2*ynm4 + ynm4**2)) - (dn_nm2**2*ynm2 - dn_nm2**2*ynm4 - dn_nm4**2*ynm2 + dn_nm4**2*ynm4 - xnm2**2*ynm2 - xnm2**2*ynm4 + 2*xnm2*xnm4*ynm2 + 2*xnm2*xnm4*ynm4 - xnm4**2*ynm2 - xnm4**2*ynm4 - ynm2**3 + ynm2**2*ynm4 + ynm2*ynm4**2 + 2*ynm2*zn*znm2 - 2*ynm2*zn*znm4 - ynm2*znm2**2 + ynm2*znm4**2 - ynm4**3 - 2*ynm4*zn*znm2 + 2*ynm4*zn*znm4 + ynm4*znm2**2 - ynm4*znm4**2)/(2*(xnm2**2 - 2*xnm2*xnm4 + xnm4**2 + ynm2**2 - 2*ynm2*ynm4 + ynm4**2)),), ((xnm2 - xnm4)*sqrt(-dn_nm2**4 + 2*dn_nm2**2*dn_nm4**2 + 2*dn_nm2**2*xnm2**2 - 4*dn_nm2**2*xnm2*xnm4 + 2*dn_nm2**2*xnm4**2 + 2*dn_nm2**2*ynm2**2 - 4*dn_nm2**2*ynm2*ynm4 + 2*dn_nm2**2*ynm4**2 - 4*dn_nm2**2*zn*znm2 + 4*dn_nm2**2*zn*znm4 + 2*dn_nm2**2*znm2**2 - 2*dn_nm2**2*znm4**2 - dn_nm4**4 + 2*dn_nm4**2*xnm2**2 - 4*dn_nm4**2*xnm2*xnm4 + 2*dn_nm4**2*xnm4**2 + 2*dn_nm4**2*ynm2**2 - 4*dn_nm4**2*ynm2*ynm4 + 2*dn_nm4**2*ynm4**2 + 4*dn_nm4**2*zn*znm2 - 4*dn_nm4**2*zn*znm4 - 2*dn_nm4**2*znm2**2 + 2*dn_nm4**2*znm4**2 - xnm2**4 + 4*xnm2**3*xnm4 - 6*xnm2**2*xnm4**2 - 2*xnm2**2*ynm2**2 + 4*xnm2**2*ynm2*ynm4 - 2*xnm2**2*ynm4**2 - 4*xnm2**2*zn**2 + 4*xnm2**2*zn*znm2 + 4*xnm2**2*zn*znm4 - 2*xnm2**2*znm2**2 - 2*xnm2**2*znm4**2 + 4*xnm2*xnm4**3 + 4*xnm2*xnm4*ynm2**2 - 8*xnm2*xnm4*ynm2*ynm4 + 4*xnm2*xnm4*ynm4**2 + 8*xnm2*xnm4*zn**2 - 8*xnm2*xnm4*zn*znm2 - 8*xnm2*xnm4*zn*znm4 + 4*xnm2*xnm4*znm2**2 + 4*xnm2*xnm4*znm4**2 - xnm4**4 - 2*xnm4**2*ynm2**2 + 4*xnm4**2*ynm2*ynm4 - 2*xnm4**2*ynm4**2 - 4*xnm4**2*zn**2 + 4*xnm4**2*zn*znm2 + 4*xnm4**2*zn*znm4 - 2*xnm4**2*znm2**2 - 2*xnm4**2*znm4**2 - ynm2**4 + 4*ynm2**3*ynm4 - 6*ynm2**2*ynm4**2 - 4*ynm2**2*zn**2 + 4*ynm2**2*zn*znm2 + 4*ynm2**2*zn*znm4 - 2*ynm2**2*znm2**2 - 2*ynm2**2*znm4**2 + 4*ynm2*ynm4**3 + 8*ynm2*ynm4*zn**2 - 8*ynm2*ynm4*zn*znm2 - 8*ynm2*ynm4*zn*znm4 + 4*ynm2*ynm4*znm2**2 + 4*ynm2*ynm4*znm4**2 - ynm4**4 - 4*ynm4**2*zn**2 + 4*ynm4**2*zn*znm2 + 4*ynm4**2*zn*znm4 - 2*ynm4**2*znm2**2 - 2*ynm4**2*znm4**2 - 4*zn**2*znm2**2 + 8*zn**2*znm2*znm4 - 4*zn**2*znm4**2 + 4*zn*znm2**3 - 4*zn*znm2**2*znm4 - 4*zn*znm2*znm4**2 + 4*zn*znm4**3 - znm2**4 + 2*znm2**2*znm4**2 - znm4**4)/(2*(xnm2**2 - 2*xnm2*xnm4 + xnm4**2 + ynm2**2 - 2*ynm2*ynm4 + ynm4**2)) - (dn_nm2**2*ynm2 - dn_nm2**2*ynm4 - dn_nm4**2*ynm2 + dn_nm4**2*ynm4 - xnm2**2*ynm2 - xnm2**2*ynm4 + 2*xnm2*xnm4*ynm2 + 2*xnm2*xnm4*ynm4 - xnm4**2*ynm2 - xnm4**2*ynm4 - ynm2**3 + ynm2**2*ynm4 + ynm2*ynm4**2 + 2*ynm2*zn*znm2 - 2*ynm2*zn*znm4 - ynm2*znm2**2 + ynm2*znm4**2 - ynm4**3 - 2*ynm4*zn*znm2 + 2*ynm4*zn*znm4 + ynm4*znm2**2 - ynm4*znm4**2)/(2*(xnm2**2 - 2*xnm2*xnm4 + xnm4**2 + ynm2**2 - 2*ynm2*ynm4 + ynm4**2)),)}"
      ]
     },
     "execution_count": 36,
     "metadata": {},
     "output_type": "execute_result"
    }
   ],
   "source": [
    "from sympy import sqrt\n",
    "from sympy import solve\n",
    "# Formalisation du système\n",
    "eqs = []\n",
    "\n",
    "\n",
    "eqs.append(((xnm4 + sqrt(dn_nm4**2 - yn**2 + 2*yn*ynm4 - ynm4**2 - zn**2 + 2*zn*znm4 - znm4**2))\n",
    " - xnm3)**2 + (yn - ynm3)**2\n",
    "           + (zn - znm3)**2 - dn_nm3**2)\n",
    "\n",
    "eqs.append(((xnm4 + sqrt(dn_nm4**2 - yn**2 + 2*yn*ynm4 - ynm4**2 - zn**2 + 2*zn*znm4 - znm4**2))\n",
    " - xnm2)**2 + (yn - ynm2)**2\n",
    "           + (zn - znm2)**2 - dn_nm2**2)\n",
    "# Expression de yn en fonction de zn et des paramètres\n",
    "\n",
    "nonlinsolve(eqs, [yn])"
   ]
  },
  {
   "cell_type": "code",
   "execution_count": null,
   "metadata": {},
   "outputs": [],
   "source": []
  },
  {
   "cell_type": "markdown",
   "metadata": {},
   "source": [
    "#### Expression de zn en fonction des paramètres "
   ]
  },
  {
   "cell_type": "code",
   "execution_count": null,
   "metadata": {},
   "outputs": [],
   "source": [
    "eqs = []\n",
    "\n",
    "\n",
    "yn = ((xnm2 - xnm4)*sqrt(-dn_nm2**4 + 2*dn_nm2**2*dn_nm4**2 + 2*dn_nm2**2*xnm2**2 - 4*dn_nm2**2*xnm2*xnm4 \n",
    "                    + 2*dn_nm2**2*xnm4**2 + 2*dn_nm2**2*ynm2**2 - 4*dn_nm2**2*ynm2*ynm4 + 2*dn_nm2**2*ynm4**2 \n",
    "                    - 4*dn_nm2**2*zn*znm2 + 4*dn_nm2**2*zn*znm4 + 2*dn_nm2**2*znm2**2 - 2*dn_nm2**2*znm4**2 \n",
    "                    - dn_nm4**4 + 2*dn_nm4**2*xnm2**2 - 4*dn_nm4**2*xnm2*xnm4 + 2*dn_nm4**2*xnm4**2 \n",
    "                    + 2*dn_nm4**2*ynm2**2 - 4*dn_nm4**2*ynm2*ynm4 + 2*dn_nm4**2*ynm4**2 + 4*dn_nm4**2*zn*znm2 \n",
    "                    - 4*dn_nm4**2*zn*znm4 - 2*dn_nm4**2*znm2**2 + 2*dn_nm4**2*znm4**2 - xnm2**4 \n",
    "                    + 4*xnm2**3*xnm4 - 6*xnm2**2*xnm4**2 - 2*xnm2**2*ynm2**2 + 4*xnm2**2*ynm2*ynm4 \n",
    "                    - 2*xnm2**2*ynm4**2 - 4*xnm2**2*zn**2 + 4*xnm2**2*zn*znm2 + 4*xnm2**2*zn*znm4 \n",
    "                    - 2*xnm2**2*znm2**2 - 2*xnm2**2*znm4**2 + 4*xnm2*xnm4**3 + 4*xnm2*xnm4*ynm2**2 \n",
    "                    - 8*xnm2*xnm4*ynm2*ynm4 + 4*xnm2*xnm4*ynm4**2 + 8*xnm2*xnm4*zn**2 - 8*xnm2*xnm4*zn*znm2 \n",
    "                    - 8*xnm2*xnm4*zn*znm4 + 4*xnm2*xnm4*znm2**2 + 4*xnm2*xnm4*znm4**2 - xnm4**4 \n",
    "                    - 2*xnm4**2*ynm2**2 + 4*xnm4**2*ynm2*ynm4 - 2*xnm4**2*ynm4**2 - 4*xnm4**2*zn**2 \n",
    "                    + 4*xnm4**2*zn*znm2 + 4*xnm4**2*zn*znm4 - 2*xnm4**2*znm2**2 - 2*xnm4**2*znm4**2 \n",
    "                    - ynm2**4 + 4*ynm2**3*ynm4 - 6*ynm2**2*ynm4**2 - 4*ynm2**2*zn**2 + 4*ynm2**2*zn*znm2 \n",
    "                    + 4*ynm2**2*zn*znm4 - 2*ynm2**2*znm2**2 - 2*ynm2**2*znm4**2 + 4*ynm2*ynm4**3 \n",
    "                    + 8*ynm2*ynm4*zn**2 - 8*ynm2*ynm4*zn*znm2 - 8*ynm2*ynm4*zn*znm4 + 4*ynm2*ynm4*znm2**2 \n",
    "                    + 4*ynm2*ynm4*znm4**2 - ynm4**4 - 4*ynm4**2*zn**2 + 4*ynm4**2*zn*znm2 \n",
    "                    + 4*ynm4**2*zn*znm4 - 2*ynm4**2*znm2**2 - 2*ynm4**2*znm4**2 - 4*zn**2*znm2**2 \n",
    "                    + 8*zn**2*znm2*znm4 - 4*zn**2*znm4**2 + 4*zn*znm2**3 - 4*zn*znm2**2*znm4 \n",
    "                    - 4*zn*znm2*znm4**2 + 4*zn*znm4**3 - znm2**4 + 2*znm2**2*znm4**2 - znm4**4)\n",
    "                    /(2*(xnm2**2 - 2*xnm2*xnm4 + xnm4**2 + ynm2**2 - 2*ynm2*ynm4 + ynm4**2)) \n",
    "                    - (dn_nm2**2*ynm2 - dn_nm2**2*ynm4 - dn_nm4**2*ynm2 + dn_nm4**2*ynm4 - xnm2**2*ynm2 \n",
    "                    - xnm2**2*ynm4 + 2*xnm2*xnm4*ynm2 + 2*xnm2*xnm4*ynm4 - xnm4**2*ynm2 - xnm4**2*ynm4 \n",
    "                    - ynm2**3 + ynm2**2*ynm4 + ynm2*ynm4**2 + 2*ynm2*zn*znm2 - 2*ynm2*zn*znm4 \n",
    "                    - ynm2*znm2**2 + ynm2*znm4**2 - ynm4**3 - 2*ynm4*zn*znm2 + 2*ynm4*zn*znm4 \n",
    "                    + ynm4*znm2**2 - ynm4*znm4**2)/(2*(xnm2**2 - 2*xnm2*xnm4 + xnm4**2 + ynm2**2 \n",
    "                    - 2*ynm2*ynm4 + ynm4**2)))\n",
    "\n",
    "xn = (xnm4 + sqrt(dn_nm4**2 - yn**2 + 2*yn*ynm4 - ynm4**2 - zn**2 + 2*zn*znm4 - znm4**2))\n",
    "\n",
    "\n",
    "eqs.append((xn - xnm4)**2 + (yn - ynm4)**2\n",
    "           + (zn - znm4)**2 - dn_nm4**2)\n",
    "\n",
    "eqs.append((xn - xnm3)**2 + (yn - ynm3)**2\n",
    "           + (zn - znm3)**2 - dn_nm3**2)\n",
    "\n",
    "\n",
    "nonlinsolve(eqs, [zn])\n",
    "\n"
   ]
  },
  {
   "cell_type": "markdown",
   "metadata": {},
   "source": [
    "### Utilisation d'un solveur pour résoudre le système composé de trois équations (méthode retenue)"
   ]
  },
  {
   "cell_type": "code",
   "execution_count": 16,
   "metadata": {
    "scrolled": true
   },
   "outputs": [
    {
     "data": {
      "text/plain": [
       "array([[ 0.        ,  0.        ,  0.        ],\n",
       "       [ 0.45995447,  0.        ,  0.        ],\n",
       "       [-0.49786398,  0.53302706,  0.        ],\n",
       "       [ 0.11097179, -0.23299509,  0.66802705],\n",
       "       [ 1.20315166, -0.1046827 ,  0.43205657],\n",
       "       [ 0.78379506, -0.72714821, -0.33512688],\n",
       "       [-0.29341467, -0.38727374,  0.80367687],\n",
       "       [ 0.70848827,  0.84952443,  0.52373482],\n",
       "       [-0.62858154,  0.71667788, -0.04270484],\n",
       "       [-0.36345937,  0.0333165 ,  0.12876934],\n",
       "       [-0.72471476, -0.65700412,  0.85949838],\n",
       "       [-0.23914383,  0.71249835,  1.20837166],\n",
       "       [ 0.44846634,  0.57574884,  0.70040836],\n",
       "       [ 0.88607178,  1.05579671,  0.53251467],\n",
       "       [ 0.06420464,  0.89845532, -0.6167618 ],\n",
       "       [-0.63626063,  0.57846289, -0.1978583 ],\n",
       "       [ 1.62560498,  0.55873382,  0.74872009],\n",
       "       [-0.33485707,  0.84723606,  0.38038471],\n",
       "       [-0.23473507,  0.12196273, -0.95190318],\n",
       "       [ 0.30725775, -0.20964748,  0.14119615],\n",
       "       [-0.38971585,  0.79646047,  0.45503668],\n",
       "       [ 0.54582204,  0.53919794,  0.04301822],\n",
       "       [ 0.51609039,  0.71402244, -0.89097768],\n",
       "       [ 0.30857688,  0.59224034,  0.12675305],\n",
       "       [ 0.62794193,  0.4376156 , -0.75677014],\n",
       "       [-0.86419938,  0.72908648, -0.12987283],\n",
       "       [-0.34315602,  0.11550397,  0.20260246],\n",
       "       [ 0.7981618 , -0.02520496,  0.34876372],\n",
       "       [ 1.06058138,  0.14913695,  0.11739836],\n",
       "       [ 1.02110542,  0.59643504,  0.46297962],\n",
       "       [ 0.85732294,  1.47604215, -0.39039588],\n",
       "       [ 0.48292291, -0.05310681,  0.17633936],\n",
       "       [-0.25340489,  0.33091324,  0.44601487],\n",
       "       [ 0.18440303,  0.18024969,  0.58285371],\n",
       "       [-0.08068216,  0.66604344, -0.75927908],\n",
       "       [-0.55950763, -0.26921898,  0.40702825],\n",
       "       [-0.06994318,  1.01512081,  1.22261417],\n",
       "       [ 0.78825711,  0.55765799,  1.11851857],\n",
       "       [-0.13303046, -0.17476921,  0.06897746],\n",
       "       [-0.27478082,  0.81727281,  0.56809852],\n",
       "       [-0.62423901, -0.21205761,  1.00294788],\n",
       "       [-0.46717245,  0.1930135 ,  0.05615062],\n",
       "       [ 1.1859726 ,  0.10772009,  0.25427363],\n",
       "       [ 0.73711025,  0.31183916, -0.43170439],\n",
       "       [ 0.00782373,  0.41166422,  1.30545887],\n",
       "       [-0.39593044,  0.22977865, -0.04170879],\n",
       "       [ 0.7462953 , -0.16785687, -0.19938213],\n",
       "       [ 0.41268382,  0.2287215 , -0.35048293],\n",
       "       [ 0.5529894 , -0.31484095,  0.75879493],\n",
       "       [ 1.03076075,  0.17880951,  0.43940338],\n",
       "       [ 0.60018135, -0.6324069 ,  0.19648989],\n",
       "       [ 0.42748651, -0.31571396, -0.71877129],\n",
       "       [-0.28432937, -0.25890822,  0.12136167],\n",
       "       [ 0.59361299,  0.09967531, -0.0701309 ],\n",
       "       [-0.71067082,  0.25556251, -0.7431861 ],\n",
       "       [ 0.12411242, -0.54643334,  0.02083612],\n",
       "       [ 0.11377629, -0.47838768, -0.00541874],\n",
       "       [-0.15885965,  0.85228874,  1.19848691],\n",
       "       [ 1.0372313 , -0.32388144,  0.19560053],\n",
       "       [-0.0190475 , -0.6085793 ,  0.10719378],\n",
       "       [ 0.26015475,  0.27454907,  0.4473104 ],\n",
       "       [ 1.10812362, -0.34445961,  0.50170062],\n",
       "       [ 1.13198122,  1.61026792, -0.42581612],\n",
       "       [ 0.83418049,  1.0420403 , -0.48298562],\n",
       "       [ 1.32489995,  0.70514138,  0.34599388],\n",
       "       [ 0.47061462,  0.06500986, -0.66136878],\n",
       "       [ 1.12742998,  0.9759643 ,  0.51579246],\n",
       "       [ 0.13388765,  0.41841302,  0.78887936],\n",
       "       [ 0.46789167,  0.60010321, -0.20109479],\n",
       "       [ 0.41219887,  0.0506823 , -0.32073721],\n",
       "       [ 0.35456916,  0.0742189 ,  1.24627302],\n",
       "       [ 0.66029631,  1.15087845,  0.48571773],\n",
       "       [-0.59381205, -0.50118072,  0.48800534],\n",
       "       [-0.77877451,  0.81562701, -0.11616925],\n",
       "       [ 0.24463388, -0.13613928,  0.72672884],\n",
       "       [ 0.70350847, -0.22137264,  0.15145793],\n",
       "       [-0.90616527, -0.07427635, -0.00233206],\n",
       "       [ 0.88052383,  0.10256133,  1.01884915],\n",
       "       [ 0.66328794,  0.43455565, -0.1830619 ],\n",
       "       [ 0.05747269,  0.93840992, -0.2335468 ],\n",
       "       [ 0.49169195,  1.43941521, -0.07486093],\n",
       "       [ 0.01773164,  0.40038574, -0.27500851],\n",
       "       [ 1.04403384,  0.77343745,  0.03108923],\n",
       "       [-0.40062663,  0.86509236,  0.52319354],\n",
       "       [ 0.26514549,  0.96313158, -0.36346141],\n",
       "       [-0.27909394,  0.07321359,  0.54141519],\n",
       "       [-0.45231289,  1.29076295, -0.06594907],\n",
       "       [ 0.38808886,  0.53753582, -0.74489398],\n",
       "       [ 0.88854985,  1.06513552, -0.76336311],\n",
       "       [ 0.68609851,  0.28872013,  0.28607785],\n",
       "       [-0.62342207,  1.10220941,  0.29180066],\n",
       "       [-0.36651822,  1.38924843,  0.15489351],\n",
       "       [ 0.67074054,  0.07627529, -0.2599908 ],\n",
       "       [ 0.23324299,  0.34471163,  0.44649135],\n",
       "       [-0.50411562,  0.14388265,  0.70189864],\n",
       "       [ 0.62579813,  1.29153907,  0.03359236],\n",
       "       [ 1.00359062,  0.08868298,  0.77770586],\n",
       "       [ 0.78701055,  0.88498816, -0.18901295],\n",
       "       [ 0.07234078,  0.95548945,  0.27722943],\n",
       "       [ 0.63465003, -0.31347013, -0.29031239],\n",
       "       [ 1.11761614,  1.03867397,  0.05917087]])"
      ]
     },
     "execution_count": 16,
     "metadata": {},
     "output_type": "execute_result"
    }
   ],
   "source": [
    "\n",
    "from sympy import Symbol\n",
    "from sympy.solvers import solve\n",
    "from sympy import Add\n",
    "from sympy import sqrt\n",
    "from mpmath import *\n",
    "from sympy.solvers.solveset import nonlinsolve\n",
    "\n",
    "def calcul_distance(x1, y1, z1, x2, y2, z2):\n",
    "    \n",
    "    if isinstance(x1, complex):\n",
    "        print(\"x1 complexe\")\n",
    "    \n",
    "    if isinstance(x2, complex):\n",
    "        print(\"x2 complexe\")\n",
    "    \n",
    "    if isinstance(y1, complex):\n",
    "        print(\"y1 complexe\")\n",
    "    \n",
    "    if isinstance(y2, complex):\n",
    "        print(\"y2 complexe\")\n",
    "    \n",
    "    if isinstance(z1, complex):\n",
    "        print(\"z1 complexe\")\n",
    "    \n",
    "    if isinstance(z2, complex):\n",
    "        print(\"z2 complexe\")\n",
    "    \n",
    "    \n",
    "    return math.sqrt((x2-x1)**2 + (y2-y1)**2 + (z2-z1)**2)\n",
    "\n",
    "def get_distance(distances, at1, at2):\n",
    "    \"\"\" Renvoie la distance entre deux atomes selon la matrice de distances compressée \"\"\"\n",
    "    \n",
    "    # On a besoin de l'atome de numéro le plus bas en première position\n",
    "    if (at1 > at2):\n",
    "        at1, at2 = at2, at1\n",
    "        \n",
    "    if at2 <= at1 or at2 > at1 + 4:\n",
    "        raise \"Cette distance n'est pas connue dans la matrice de distances compressée \"\n",
    "    \n",
    "    return distances[at1][at2-at1-1]\n",
    "    \n",
    "    \n",
    "def get_valeur_tolerance(seuil, epsilon, valeur):\n",
    "    \"\"\" Renvoie une valeur à laquelle on a ajouté une tolérance epsilon. Si la valeur est comprise entre\n",
    "    epsilon+seuil et seuil alors on renvoie seuil. Sinon on renvoie la valeur initiale \"\"\"\n",
    "    \n",
    "    if seuil <= valeur <= seuil+epsilon or seuil+epsilon <= valeur <= seuil:\n",
    "        return seuil\n",
    "    else:\n",
    "        return valeur\n",
    "    \n",
    "\n",
    "def calcul_positions_a1_a4(distances, pos_at_fictif):\n",
    "    \"\"\" Calcule les positions des atomes a0, a1, a2 et a3 et renvoie une nouvelle matrice de positions\n",
    "    initialisée à 0 et de taille (nb_atomes, 3) \"\"\"\n",
    "    \n",
    "    nb_atomes = len(distances) + 1\n",
    "    \n",
    "    epsilon = -1e-7\n",
    "    \n",
    "    positions = np.array(np.zeros(shape=(nb_atomes,3)))\n",
    "    \n",
    "    d10 = get_distance(distances, 0, 1)\n",
    "    d20 = get_distance(distances, 0, 2)\n",
    "    d21 = get_distance(distances, 1, 2)\n",
    "    d30 = get_distance(distances, 0, 3)\n",
    "    d31 = get_distance(distances, 1, 3)\n",
    "    d32 = get_distance(distances, 2, 3)\n",
    "        \n",
    "    # On considère pour le moment que a0 est en (0,0,0)\n",
    "    positions[0][0] = 0\n",
    "    positions[0][1] = 0\n",
    "    positions[0][2] = 0\n",
    "    \n",
    "    # Calcul de a1\n",
    "    positions[1][0] = d10\n",
    "    positions[1][1] = 0\n",
    "    positions[1][2] = 0\n",
    "\n",
    "    # Calcul de a2\n",
    "    positions[2][0] = (d20**2-d21**2+d10**2)/(2*d10)\n",
    "    positions[2][1] = math.sqrt(get_valeur_tolerance(0, epsilon, d20**2-((d20**2-d21**2+d10**2)/(2*d10))**2))\n",
    "    positions[2][2] = 0\n",
    "\n",
    "    # Calcul de a3\n",
    "    positions[3][0] = (d30**2+d10**2-d31**2)/(2*d10)\n",
    "    positions[3][1] = (-2*positions[3][0]*positions[2][0] +d20**2-d32**2+d30**2)/(2*positions[2][1])\n",
    "    positions[3][2] = math.sqrt(get_valeur_tolerance(0, epsilon,\n",
    "                                                     -positions[3][0]**2 - positions[3][1]**2 + d30**2))\n",
    "\n",
    "    # Translation des positions calculées selon le vecteur (Oa0)\n",
    "    positions[0:4] += pos_at_fictif\n",
    "    \n",
    "    return positions   \n",
    "\n",
    "def points_alignes(pt1, pt2, pt3, epsilon):\n",
    "    \"\"\" Renvoie vrai si les trois points sont alignés et faux sinon, avec une tolérance epsilon.\n",
    "    On calcule pour cela l'aire du triangle formé par les trois points et on vérifie si elle est inférieure\n",
    "    à la tolérance epsilon donnée.\"\"\"\n",
    "    \n",
    "    mat1 = np.array(np.zeros(shape=(3,3)))\n",
    "    mat2 = np.array(np.zeros(shape=(3,3)))\n",
    "    mat3 = np.array(np.zeros(shape=(3,3)))\n",
    "    \n",
    "    mat1[0] = (pt1[0], pt2[0], pt3[0])\n",
    "    mat1[1] = (pt1[1], pt2[1], pt3[1])\n",
    "    mat1[2] = (1, 1, 1)\n",
    "    \n",
    "    mat2[0] = (pt1[1], pt2[1], pt3[1])\n",
    "    mat2[1] = (pt1[2], pt2[2], pt3[2])\n",
    "    mat2[2] = (1, 1, 1)\n",
    "\n",
    "    mat2[0] = (pt1[2], pt2[2], pt3[2])\n",
    "    mat2[1] = (pt1[0], pt2[0], pt3[0])\n",
    "    mat2[2] = (1, 1, 1)\n",
    "    \n",
    "    return 0.5*(math.sqrt(np.linalg.det(mat1)**2 + np.linalg.det(mat2)**2 + np.linalg.det(mat3)**2)) < epsilon\n",
    "\n",
    "\n",
    "    \n",
    "\n",
    "def calcul_position(positions, distances, id_at): \n",
    "    \"\"\" Calcul des coordonnées (x, y, z) de l'atome dont l'identifiant est spécifié \"\"\"\n",
    "        \n",
    "    # On récupère les distances entre le point à placer et les quatre points précédents dans la matrice\n",
    "    # de distances compressée\n",
    "    dn_nmin4 = get_distance(distances, id_at, id_at-4)\n",
    "    dn_nmin3 = get_distance(distances, id_at, id_at-3)\n",
    "    dn_nmin2 = get_distance(distances, id_at, id_at-2)\n",
    "    dn_nmin1 = get_distance(distances, id_at, id_at-1)\n",
    "    \n",
    "    # On utilise un solveur sympy pour calculer les deux points intersection des trois premières sphères\n",
    "    xn = Symbol('xn')\n",
    "    yn = Symbol('yn')\n",
    "    zn = Symbol('zn')\n",
    "    \n",
    "    if points_alignes(positions[id_at-4], positions[id_at-3], positions[id_at-2], 0.001):\n",
    "        print(\"Les points n-4, n-3 et n-2 sont alignés\")\n",
    "        \n",
    "    if points_alignes(positions[id_at-3], positions[id_at-2], positions[id_at-1], 0.001):\n",
    "        print(\"Les points n-3, n-2 et n-1 sont alignés\")\n",
    "    \n",
    "    if points_alignes(positions[id_at-4], positions[id_at-2], positions[id_at-1], 0.001):\n",
    "        print(\"Les points n-4, n-2 et n-1 sont alignés\")\n",
    "        \n",
    "\n",
    "    eqs = []\n",
    "    eqs.append((xn - positions[id_at-4][0])**2 + (yn - positions[id_at-4][1])**2\n",
    "               + (zn - positions[id_at-4][2])**2 - dn_nmin4**2)\n",
    "    \n",
    "    eqs.append((xn - positions[id_at-3][0])**2 + (yn - positions[id_at-3][1])**2\n",
    "               + (zn - positions[id_at-3][2])**2 - dn_nmin3**2)\n",
    "    \n",
    "    eqs.append((xn - positions[id_at-2][0])**2 + (yn - positions[id_at-2][1])**2\n",
    "               + (zn - positions[id_at-2][2])**2 - dn_nmin2**2)\n",
    "\n",
    "    \n",
    "    # On obtient deux solutions, et on retient celle dont la distance avec l'atome (n-1) est la plus proche\n",
    "    # de la distance prévue dans la matrice de distances compressée\n",
    "    \n",
    "    ### TODO : Cas où les quatre premiers atomes sont alignés ### \n",
    "    \n",
    "    #sol = nonlinsolve(eqs, [xn, yn, zn])\n",
    "    sol = solve(eqs, [xn, yn, zn], check=False)\n",
    "    \n",
    "    best_delta_sol = float('inf')\n",
    "    best_sol = None\n",
    "    \n",
    "    for curr_sol in sol:\n",
    "        \n",
    "        curr_sol = list(curr_sol)\n",
    "        delta_sol = abs(calcul_distance(curr_sol[0], curr_sol[1], curr_sol[2],\n",
    "                                        positions[id_at-1][0], positions[id_at-1][1], positions[id_at-1][2])\n",
    "                                        - get_distance(distances, id_at, id_at-1))\n",
    "        if (delta_sol<best_delta_sol):\n",
    "            best_delta_sol = delta_sol\n",
    "            best_sol = curr_sol\n",
    "    \n",
    "    positions[id_at] = best_sol\n",
    "    \n",
    "    return positions\n",
    "    \n",
    "def reconstruction_positions(distances_init, delta_distances, pos_at_fictif):\n",
    "    \"\"\" Fonction calculant les nouvelles positions des atomes de la molécule à partir des distances initiales,\n",
    "    des variations de distances fournies par le RN et de la position initiale de l'atome fictif\"\"\"\n",
    "    \n",
    "    mp.dps = 40\n",
    "    \n",
    "    nb_atomes = len(distances_init)+1\n",
    "    \n",
    "    # On commence par calculer la nouvelle matrice compressée de distances\n",
    "    distances = distances_init + delta_distances\n",
    "    \n",
    "    # On calcule les positions des quatre premiers atomes de la molécule (dont l'atome fictif)\n",
    "    positions = calcul_positions_a1_a4(distances, pos_at_fictif)\n",
    "    \n",
    "    # On calcule les positions des atomes restants\n",
    "    for i in range(4, nb_atomes):\n",
    "        positions = calcul_position(positions, distances, i)\n",
    "    \n",
    "    return positions\n",
    "\n",
    "#positions_post_traitement = reconstruction_positions(distances_test, delta_distances, pos_test[0])\n",
    "\n",
    "positions_post_traitement = reconstruction_positions(distances, delta_distances, pos_test[0])\n",
    "\n",
    "positions_post_traitement\n",
    "\n",
    "\n"
   ]
  },
  {
   "cell_type": "markdown",
   "metadata": {},
   "source": [
    "### Vérification de la reconstruction de molécule\n",
    "\n",
    "#### Vérification sur une molécule\n",
    "\n",
    "Pour vérifier que la reconstruction fonctionne, on prend la molécule en sortie de la reconstruction, on calcule ses nouvelles distances internes et on tente de la reconstruire pour vérifier que l'on obtient bien la même molécule"
   ]
  },
  {
   "cell_type": "code",
   "execution_count": 11,
   "metadata": {},
   "outputs": [
    {
     "name": "stdout",
     "output_type": "stream",
     "text": [
      "Les points n-4, n-3 et n-2 sont alignés\n",
      "Les points n-3, n-2 et n-1 sont alignés\n",
      "Les points n-4, n-2 et n-1 sont alignés\n",
      "Les points n-4, n-3 et n-2 sont alignés\n",
      "Les points n-4, n-2 et n-1 sont alignés\n"
     ]
    },
    {
     "data": {
      "text/plain": [
       "array([[ 0.        ,  0.        ,  0.        ],\n",
       "       [ 0.72504548,  0.        ,  0.        ],\n",
       "       [-0.26289376,  0.20922712,  0.        ],\n",
       "       [ 0.88991251,  0.01476801,  0.06984028],\n",
       "       [ 0.27825932, -0.5750584 ,  0.30479446],\n",
       "       [-0.11485179, -0.43737764,  0.00998916],\n",
       "       [ 0.22314989, -0.31939264,  0.70656902]])"
      ]
     },
     "execution_count": 11,
     "metadata": {},
     "output_type": "execute_result"
    }
   ],
   "source": [
    "\n",
    "nouvelles_distances = matrice_distances_compr(positions_post_traitement, atomes_nb_incl_fictif)\n",
    "\n",
    "positions_post_traitement_verif = reconstruction_positions(nouvelles_distances, delta_distances, pos_test[0])\n",
    "positions_post_traitement_verif\n"
   ]
  },
  {
   "cell_type": "markdown",
   "metadata": {},
   "source": [
    "La molécule a bien été reconstruite à l'identique, on vérifie maintenant que les distances internes sont les mêmes (à 10^-8 près)."
   ]
  },
  {
   "cell_type": "code",
   "execution_count": 12,
   "metadata": {},
   "outputs": [
    {
     "name": "stdout",
     "output_type": "stream",
     "text": [
      "True\n"
     ]
    }
   ],
   "source": [
    "epsilon = 1e-8\n",
    "print((abs(distances - nouvelles_distances) < epsilon).all())"
   ]
  },
  {
   "cell_type": "markdown",
   "metadata": {},
   "source": [
    "#### Vérification sur n molécules\n",
    "\n",
    "On va maintenant appliquer la même méthode de vérification sur n molécules : on génère des positions aléatoirement, on simule un vecteur variation de distances nul et on reconstruit la molécule. On vérifie ensuite que les coordonnées des deux molécules sont identiques à 10-8 près "
   ]
  },
  {
   "cell_type": "code",
   "execution_count": 19,
   "metadata": {},
   "outputs": [],
   "source": [
    "\n",
    "def check_n_reconstructions(iterations, nb_atomes, epsilon, check_positions=True):\n",
    "    \"\"\" Teste la reconstruction de iterations molécules contenant chacune nb_atomes atomes. La reconstruction\n",
    "    de chaque molécule est validée si la différence entre les distances attendues et les distances calculées\n",
    "    après la reconstructions est inférieure à l'epsilon donné.\n",
    "    Si le paramètre check_positions est vrai, alors on reconstruit la molécule une fois de plus à chaque\n",
    "    itération et on vérifie que les deux reconstructions ont produit les mêmes positions à epsilon près\n",
    "    \"\"\"\n",
    "    \n",
    "    succes = True\n",
    "    \n",
    "    erreurs_pos = 0\n",
    "    erreurs_dist = 0\n",
    "    \n",
    "    for i in range(n):\n",
    "\n",
    "        succes_courant = True\n",
    "        \n",
    "        print(\"Vérification molécule \"+str(i))\n",
    "        \n",
    "    \n",
    "\n",
    "        positions = gen_pos(atomes_nb)  # On génère les positions\n",
    "        positions = ajout_atome_fictif(positions)  # On ajoute un atome fictif\n",
    "        distances = matrice_distances_compr(positions, atomes_nb+1)  # On calcule la matrice des distances\n",
    "        delta_distances = simulation_rn_nul(distances, atomes_nb+1)  # On génère un delta distance nul\n",
    "        \n",
    "        # On reconstruit les positions à partir des distances\n",
    "        positions_post_traitement = reconstruction_positions(distances, delta_distances, positions[0])\n",
    "\n",
    "        # On calcule les nouvelles distances\n",
    "        nouvelles_distances = matrice_distances_compr(positions_post_traitement, atomes_nb+1)\n",
    "\n",
    "        if check_positions:\n",
    "        \n",
    "            # On reconstruit les nouvelles positions afin de vérifier qu'on obtient les mêmes\n",
    "            positions_post_traitement2 = reconstruction_positions(nouvelles_distances, \n",
    "                                                                  delta_distances, positions[0])\n",
    "            \n",
    "            # On enregistre l'échec de la validation si les positions de la deuxième reconstruction sont\n",
    "            # différentes des positions de la première reconstruction\n",
    "        \n",
    "            diff_pos = abs(positions_post_traitement - positions_post_traitement2)\n",
    "            succes_courant = (diff_pos < epsilon).all()\n",
    "            \n",
    "            if not succes_courant:\n",
    "                erreurs_pos += 1\n",
    "                print(\"Au moins une imprécision de différence de positions dépasse le seuil. \"+\n",
    "                      \"Imprécision max : \"+str(diff_pos.max()))\n",
    "            \n",
    "            succes = succes and succes_courant\n",
    "            \n",
    "            succes_courant = True\n",
    "\n",
    "        # On enregistre l'échec de la validation si les distances pré/post reconstruction diffèrent\n",
    "        diff_dist = abs(distances - nouvelles_distances)\n",
    "        succes_courant = (diff_dist < epsilon).all()\n",
    "        \n",
    "        if not succes_courant and check_positions:\n",
    "            erreurs_dist += 1\n",
    "            print(\"Au moins une imprécision de différence de distances dépasse le seuil. \"+\n",
    "                      \"Imprécision max : \"+str(diff_dist.max()))\n",
    "            \n",
    "        succes = succes and succes_courant            \n",
    "            \n",
    "        if succes_courant:\n",
    "            print(\"Reconstruction molécule \"+str(i)+\" vérifiée\")\n",
    "        else:\n",
    "            print(\"Erreur de la reconstruction de la molécule \"+str(i))\n",
    "            \n",
    "        print()\n",
    "    \n",
    "    print(\"Nombre d'erreurs de distances : \"+str(erreurs_dist))\n",
    "    \n",
    "    if check_positions:\n",
    "        print(\"Nombre d'erreurs de positions : \"+str(erreurs_pos))\n",
    "    \n",
    "    return succes\n",
    "    \n"
   ]
  },
  {
   "cell_type": "code",
   "execution_count": 20,
   "metadata": {},
   "outputs": [
    {
     "name": "stdout",
     "output_type": "stream",
     "text": [
      "Vérification molécule 0\n",
      "Reconstruction molécule 0 vérifiée\n",
      "\n",
      "Vérification molécule 1\n",
      "Reconstruction molécule 1 vérifiée\n",
      "\n",
      "Vérification molécule 2\n",
      "Reconstruction molécule 2 vérifiée\n",
      "\n",
      "Vérification molécule 3\n",
      "Reconstruction molécule 3 vérifiée\n",
      "\n",
      "Vérification molécule 4\n",
      "Reconstruction molécule 4 vérifiée\n",
      "\n",
      "Vérification molécule 5\n",
      "Au moins une imprécision de différence de positions dépasse le seuil. Imprécision max : 0.0012772886650310733\n",
      "Au moins une imprécision de différence de distances dépasse le seuil. Imprécision max : 0.002393576148537857\n",
      "Erreur de la reconstruction de la molécule 5\n",
      "\n",
      "Vérification molécule 6\n",
      "Au moins une imprécision de différence de positions dépasse le seuil. Imprécision max : 7.234177052339863e-06\n",
      "Au moins une imprécision de différence de distances dépasse le seuil. Imprécision max : 1.6814897960681918e-06\n",
      "Erreur de la reconstruction de la molécule 6\n",
      "\n",
      "Vérification molécule 7\n",
      "Reconstruction molécule 7 vérifiée\n",
      "\n",
      "Vérification molécule 8\n",
      "Reconstruction molécule 8 vérifiée\n",
      "\n",
      "Vérification molécule 9\n",
      "Reconstruction molécule 9 vérifiée\n",
      "\n",
      "Nombre d'erreurs de distances : 2\n",
      "Nombre d'erreurs de positions : 2\n",
      "False\n"
     ]
    }
   ],
   "source": [
    "n = 10  # molécules générées\n",
    "atomes_nb = 50  # nombre d'atomes par molécule\n",
    "epsilon = 1e-6  # tolérance epsilon\n",
    "\n",
    "print(check_n_reconstructions(n, atomes_nb, epsilon))"
   ]
  },
  {
   "cell_type": "markdown",
   "metadata": {},
   "source": [
    "#### Mise en évidence de la propagation des imprécisions de calcul\n",
    "\n",
    "La façon actuelle dont la matrice de distances compressée représente les distances relatives entre les atomes induit des imprécisions élevées sur les derniers atomes des grosses molécules. En effet, les coordonnées des atomes sont déterminées en fonction de la distance avec les quatre derniers points calculés. À chaque calcul d'une position, une légère imprécision apparaît, et ces imprécisions se propagent et s'amplifient jusqu'à devenir élevées sur les derniers atomes de la molécule.\n",
    "\n",
    "Une parade à ce problème serait de calculer la position de chaque atome en fonction de la distance avec les quatre premiers atomes (a0, a1, a2 et a3). Il existerait toujours des imprécisions de calcul à chaque position (de l'ordre de 10^-15), mais elles ne se propageraient pas à chaque calcul.\n",
    "\n",
    "On peut voir ci-dessous une matrice représentant la différence entre les distances inter-atomiques attendues et les distances calculées à l'issue d'une reconstruction d'une molécule de 100 atomes. On peut remarquer que la précision du placement des premiers atomes est très bonne, mais que la différence entre les distances attendues et les distances calculées à l'issue de la reconstruction va jusqu'à un ordre de 10^-1 pour les derniers atomes"
   ]
  },
  {
   "cell_type": "code",
   "execution_count": 17,
   "metadata": {},
   "outputs": [
    {
     "name": "stdout",
     "output_type": "stream",
     "text": [
      "Différence de distances : \n",
      "[[0.00000000e+00 0.00000000e+00 0.00000000e+00 8.88178420e-16]\n",
      " [2.22044605e-16 0.00000000e+00 1.77635684e-15 1.33226763e-15]\n",
      " [0.00000000e+00 3.55271368e-15 3.55271368e-15 4.21884749e-15]\n",
      " [1.33226763e-15 1.11022302e-15 3.55271368e-15 3.10862447e-15]\n",
      " [5.32907052e-15 1.11022302e-15 1.11022302e-15 8.88178420e-16]\n",
      " [3.99680289e-15 4.44089210e-16 1.55431223e-15 3.33066907e-15]\n",
      " [4.44089210e-16 2.22044605e-16 6.66133815e-16 0.00000000e+00]\n",
      " [1.33226763e-15 0.00000000e+00 4.44089210e-16 4.44089210e-16]\n",
      " [7.99360578e-15 6.66133815e-16 8.88178420e-16 1.11022302e-15]\n",
      " [5.10702591e-15 1.77635684e-15 6.66133815e-16 6.66133815e-16]\n",
      " [6.66133815e-15 2.88657986e-15 3.10862447e-15 4.21884749e-15]\n",
      " [6.66133815e-16 2.66453526e-15 4.44089210e-15 3.44169138e-15]\n",
      " [9.32587341e-14 1.11022302e-16 0.00000000e+00 1.11022302e-15]\n",
      " [3.59712260e-14 1.55431223e-15 8.88178420e-16 6.66133815e-16]\n",
      " [6.06847905e-13 4.44089210e-16 1.33226763e-15 6.66133815e-16]\n",
      " [7.38076267e-13 6.66133815e-16 2.22044605e-16 3.33066907e-16]\n",
      " [8.01581024e-14 1.33226763e-15 2.22044605e-16 2.22044605e-16]\n",
      " [3.83759691e-12 3.33066907e-15 2.66453526e-15 2.22044605e-16]\n",
      " [1.82542870e-12 8.88178420e-16 8.88178420e-16 8.88178420e-16]\n",
      " [9.67226299e-13 8.88178420e-16 1.33226763e-15 1.33226763e-15]\n",
      " [3.99635880e-12 8.32667268e-16 4.44089210e-16 4.44089210e-16]\n",
      " [2.09365858e-12 1.33226763e-15 1.33226763e-15 2.66453526e-15]\n",
      " [6.35047570e-13 2.22044605e-16 0.00000000e+00 1.33226763e-15]\n",
      " [5.48316947e-12 3.21964677e-15 2.44249065e-15 6.66133815e-16]\n",
      " [4.78150852e-12 2.22044605e-16 8.88178420e-16 8.88178420e-16]\n",
      " [3.86024546e-12 9.99200722e-16 1.77635684e-15 2.22044605e-16]\n",
      " [1.38948852e-11 1.77635684e-15 8.88178420e-16 6.66133815e-16]\n",
      " [8.45923331e-12 5.55111512e-16 1.33226763e-15 1.22124533e-15]\n",
      " [7.17603754e-12 6.66133815e-16 2.22044605e-16 5.55111512e-16]\n",
      " [1.41775480e-11 0.00000000e+00 2.22044605e-16 3.33066907e-16]\n",
      " [8.90487684e-12 2.22044605e-15 1.77635684e-15 2.66453526e-15]\n",
      " [1.06112896e-11 4.44089210e-16 4.21884749e-15 3.77475828e-15]\n",
      " [1.74575909e-11 1.11022302e-16 8.88178420e-16 8.88178420e-16]\n",
      " [1.49600332e-11 1.55431223e-15 6.66133815e-16 2.22044605e-16]\n",
      " [2.24111840e-11 4.44089210e-16 8.88178420e-16 2.44249065e-15]\n",
      " [2.36210385e-10 1.77635684e-15 1.11022302e-15 0.00000000e+00]\n",
      " [1.89528615e-10 5.55111512e-16 5.55111512e-16 1.55431223e-15]\n",
      " [4.50500970e-10 4.44089210e-16 1.99840144e-15 1.33226763e-15]\n",
      " [2.81969559e-10 1.77635684e-15 1.33226763e-15 1.55431223e-15]\n",
      " [2.16102247e-10 4.44089210e-16 4.44089210e-16 0.00000000e+00]\n",
      " [1.39543876e-10 4.44089210e-16 1.33226763e-15 2.44249065e-15]\n",
      " [1.79755988e-10 2.44249065e-15 2.10942375e-15 3.33066907e-15]\n",
      " [1.09606035e-09 0.00000000e+00 0.00000000e+00 4.44089210e-16]\n",
      " [4.67411221e-10 2.22044605e-16 1.11022302e-16 0.00000000e+00]\n",
      " [2.69144040e-10 1.99840144e-15 1.11022302e-15 0.00000000e+00]\n",
      " [1.32624489e-09 1.11022302e-16 2.22044605e-16 0.00000000e+00]\n",
      " [1.42938461e-09 6.66133815e-16 6.66133815e-16 1.77635684e-15]\n",
      " [5.01776620e-10 4.44089210e-15 2.99760217e-15 2.22044605e-16]\n",
      " [6.86176715e-09 2.22044605e-16 1.99840144e-15 8.88178420e-16]\n",
      " [1.44680963e-08 7.77156117e-16 1.11022302e-16 4.44089210e-16]\n",
      " [1.31826283e-08 5.55111512e-16 2.22044605e-16 1.77635684e-15]\n",
      " [3.80438125e-09 2.22044605e-15 3.55271368e-15 5.55111512e-15]\n",
      " [4.42237782e-08 6.66133815e-16 0.00000000e+00 2.22044605e-16]\n",
      " [2.78524026e-08 3.10862447e-15 2.88657986e-15 5.32907052e-15]\n",
      " [1.17808272e-08 2.66453526e-15 1.88737914e-15 4.44089210e-16]\n",
      " [1.10130691e-08 5.55111512e-16 3.33066907e-16 8.88178420e-16]\n",
      " [5.60171010e-08 5.10702591e-15 8.88178420e-16 4.44089210e-15]\n",
      " [9.03467643e-08 1.11022302e-15 3.33066907e-16 2.22044605e-16]\n",
      " [6.78218945e-08 1.16573418e-15 7.77156117e-16 2.66453526e-15]\n",
      " [1.71512097e-07 0.00000000e+00 0.00000000e+00 6.66133815e-16]\n",
      " [8.40499448e-08 0.00000000e+00 1.77635684e-15 8.88178420e-16]\n",
      " [4.13876636e-07 2.66453526e-15 5.32907052e-15 4.88498131e-15]\n",
      " [3.45834270e-07 4.21884749e-15 1.55431223e-15 1.11022302e-16]\n",
      " [1.92915765e-06 1.11022302e-15 6.66133815e-16 1.11022302e-15]\n",
      " [1.02494381e-06 2.22044605e-16 3.33066907e-16 1.77635684e-15]\n",
      " [1.10837597e-06 1.77635684e-15 4.44089210e-16 4.44089210e-16]\n",
      " [1.13720272e-06 4.44089210e-16 3.77475828e-15 0.00000000e+00]\n",
      " [8.80577016e-06 1.55431223e-15 2.22044605e-16 2.77555756e-15]\n",
      " [1.09287300e-05 4.21884749e-15 6.66133815e-16 3.99680289e-15]\n",
      " [3.38587053e-05 5.55111512e-16 2.22044605e-16 1.11022302e-15]\n",
      " [1.65724114e-05 1.77635684e-15 6.66133815e-16 2.94209102e-15]\n",
      " [2.79684954e-05 2.22044605e-16 1.55431223e-15 0.00000000e+00]\n",
      " [6.22044817e-05 0.00000000e+00 1.11022302e-16 8.88178420e-16]\n",
      " [6.50625441e-05 1.22124533e-15 8.88178420e-16 4.44089210e-16]\n",
      " [1.06644783e-04 1.77635684e-15 1.33226763e-15 2.22044605e-15]\n",
      " [5.38903410e-05 4.44089210e-16 0.00000000e+00 1.55431223e-15]\n",
      " [8.33313310e-05 2.44249065e-15 1.55431223e-15 1.99840144e-15]\n",
      " [5.01672904e-05 2.44249065e-15 8.88178420e-16 2.22044605e-16]\n",
      " [3.62177910e-06 1.11022302e-15 8.88178420e-16 4.44089210e-16]\n",
      " [4.08208257e-07 8.88178420e-16 6.66133815e-16 1.33226763e-15]\n",
      " [9.20023923e-06 4.21884749e-15 4.44089210e-16 2.44249065e-15]\n",
      " [2.99077180e-05 1.11022302e-16 1.99840144e-15 0.00000000e+00]\n",
      " [5.41933829e-06 0.00000000e+00 8.88178420e-16 1.77635684e-15]\n",
      " [9.72329903e-06 5.10702591e-15 3.99680289e-15 2.44249065e-15]\n",
      " [4.17403621e-06 1.11022302e-16 1.55431223e-15 1.11022302e-16]\n",
      " [4.59187144e-06 1.77635684e-15 5.55111512e-16 6.66133815e-16]\n",
      " [4.02939917e-06 1.11022302e-15 6.66133815e-16 4.44089210e-16]\n",
      " [9.04323740e-06 1.33226763e-15 1.77635684e-15 1.11022302e-15]\n",
      " [3.20340720e-04 4.44089210e-16 4.21884749e-15 3.77475828e-15]\n",
      " [5.98319567e-04 5.55111512e-16 3.33066907e-15 3.10862447e-15]\n",
      " [4.46895249e-04 2.66453526e-15 1.55431223e-15 1.99840144e-15]\n",
      " [5.39707000e-05 2.22044605e-16 1.27675648e-15 1.33226763e-15]\n",
      " [5.33982534e-05 6.66133815e-16 1.66533454e-16 1.11022302e-15]\n",
      " [2.13037148e-04 6.66133815e-16 2.22044605e-16 5.55111512e-16]\n",
      " [9.23957195e-05 1.11022302e-15 6.66133815e-16 1.11022302e-15]\n",
      " [2.36968478e-04 8.88178420e-16 4.44089210e-16 1.55431223e-15]\n",
      " [2.13768378e-04 1.55431223e-15 6.66133815e-16 4.44089210e-16]\n",
      " [1.25075057e-04 6.66133815e-16 1.11022302e-16 0.00000000e+00]\n",
      " [1.03819937e-03 1.55431223e-15 0.00000000e+00 0.00000000e+00]\n",
      " [5.10499974e-05 0.00000000e+00 0.00000000e+00 0.00000000e+00]]\n",
      "Différence max : 0.00103819937367855\n"
     ]
    }
   ],
   "source": [
    "atomes_nb = 100\n",
    "positions = gen_pos(atomes_nb)  # On génère les positions\n",
    "positions = ajout_atome_fictif(positions)  # On ajoute un atome fictif\n",
    "distances = matrice_distances_compr(positions, atomes_nb+1)  # On calcule la matrice des distances\n",
    "delta_distances = simulation_rn_nul(distances, atomes_nb+1)  # On génère un delta distance nul\n",
    "\n",
    "# On reconstruit les positions à partir des distances\n",
    "positions_post_traitement = reconstruction_positions(distances, delta_distances, positions[0])\n",
    "\n",
    "# On calcule les nouvelles distances\n",
    "nouvelles_distances = matrice_distances_compr(positions_post_traitement, atomes_nb+1)\n",
    "\n",
    "print(\"Différence de distances : \")\n",
    "diff = abs(distances - nouvelles_distances)\n",
    "print(diff)\n",
    "print(\"Différence max : \"+str(diff.max()))\n"
   ]
  },
  {
   "cell_type": "code",
   "execution_count": null,
   "metadata": {},
   "outputs": [],
   "source": []
  },
  {
   "cell_type": "code",
   "execution_count": 23,
   "metadata": {},
   "outputs": [
    {
     "data": {
      "text/plain": [
       "array([[-0.48894725, -0.51999076,  0.70038574],\n",
       "       [ 0.73439098, -0.67866937,  0.00881892],\n",
       "       [ 0.47074459,  0.51866896,  0.71371005]])"
      ]
     },
     "execution_count": 23,
     "metadata": {},
     "output_type": "execute_result"
    }
   ],
   "source": [
    "\n",
    "\n",
    "\n",
    "\n",
    "coo = [[ 0.,0.,0.5       ],\n",
    "[-0.35962838, -0.35000039,  0.0431356 ],\n",
    " [ 0.97096316,  0.84239024, -0.74790764],\n",
    " [ 0.64561646, -0.67389904, -0.53777269],\n",
    " [-0.12149585,  0.59403158, -0.86401877],\n",
    " [ 0.42537158, -0.27296327,  0.35594072]]\n",
    "\n",
    "U, S, V = np.linalg.svd(coo)\n",
    "V"
   ]
  },
  {
   "cell_type": "code",
   "execution_count": 94,
   "metadata": {},
   "outputs": [],
   "source": [
    "coo = np.array([0,0,0,1,2,3,4,5,6,7,8,9]).reshape((-1,3))"
   ]
  },
  {
   "cell_type": "code",
   "execution_count": 95,
   "metadata": {},
   "outputs": [
    {
     "data": {
      "text/plain": [
       "array([[0, 0, 0],\n",
       "       [1, 2, 3],\n",
       "       [4, 5, 6],\n",
       "       [7, 8, 9]])"
      ]
     },
     "execution_count": 95,
     "metadata": {},
     "output_type": "execute_result"
    }
   ],
   "source": [
    "coo"
   ]
  },
  {
   "cell_type": "code",
   "execution_count": 137,
   "metadata": {},
   "outputs": [
    {
     "data": {
      "text/plain": [
       "array([1, 2, 3])"
      ]
     },
     "execution_count": 137,
     "metadata": {},
     "output_type": "execute_result"
    }
   ],
   "source": [
    "U,S,V = np.linalg.svd(coo)\n"
   ]
  },
  {
   "cell_type": "code",
   "execution_count": 88,
   "metadata": {},
   "outputs": [
    {
     "data": {
      "text/plain": [
       "array([24.28563291, 16.41134389,  5.13213654,  2.74215248])"
      ]
     },
     "execution_count": 88,
     "metadata": {},
     "output_type": "execute_result"
    }
   ],
   "source": [
    "S"
   ]
  },
  {
   "cell_type": "code",
   "execution_count": 81,
   "metadata": {},
   "outputs": [],
   "source": [
    "coo = coo / np.linalg.norm(coo)"
   ]
  },
  {
   "cell_type": "code",
   "execution_count": 82,
   "metadata": {},
   "outputs": [
    {
     "data": {
      "text/plain": [
       "1.0"
      ]
     },
     "execution_count": 82,
     "metadata": {},
     "output_type": "execute_result"
    }
   ],
   "source": [
    "np.linalg.norm(coo)"
   ]
  },
  {
   "cell_type": "code",
   "execution_count": 98,
   "metadata": {},
   "outputs": [],
   "source": [
    "import matplotlib.pyplot as plt\n",
    "from mpl_toolkits.mplot3d import Axes3D"
   ]
  },
  {
   "cell_type": "code",
   "execution_count": 99,
   "metadata": {},
   "outputs": [],
   "source": [
    "%matplotlib inline"
   ]
  },
  {
   "cell_type": "code",
   "execution_count": 115,
   "metadata": {},
   "outputs": [
    {
     "data": {
      "text/plain": [
       "<matplotlib.figure.Figure at 0x7fadf18f35c0>"
      ]
     },
     "metadata": {},
     "output_type": "display_data"
    }
   ],
   "source": [
    "fig = plt.figure()"
   ]
  },
  {
   "cell_type": "code",
   "execution_count": 121,
   "metadata": {},
   "outputs": [
    {
     "data": {
      "image/png": "[encoded data removed]",
      "text/plain": [
       "<matplotlib.figure.Figure at 0x7fadf11f2da0>"
      ]
     },
     "metadata": {},
     "output_type": "display_data"
    }
   ],
   "source": [
    "plt.scatter(coo[:,0], coo[:,1], coo[:,2], c=\"R\")\n",
    "plt.show()"
   ]
  },
  {
   "cell_type": "code",
   "execution_count": 111,
   "metadata": {},
   "outputs": [
    {
     "data": {
      "text/plain": [
       "array([0, 3, 6, 9])"
      ]
     },
     "execution_count": 111,
     "metadata": {},
     "output_type": "execute_result"
    }
   ],
   "source": [
    "coo[:,2]"
   ]
  },
  {
   "cell_type": "code",
   "execution_count": 112,
   "metadata": {},
   "outputs": [],
   "source": [
    "plt.show()"
   ]
  },
  {
   "cell_type": "code",
   "execution_count": 123,
   "metadata": {},
   "outputs": [
    {
     "data": {
      "image/png": "[encoded data removed]",
      "text/plain": [
       "<matplotlib.figure.Figure at 0x7fadf11e4a20>"
      ]
     },
     "metadata": {},
     "output_type": "display_data"
    }
   ],
   "source": [
    "from mpl_toolkits.mplot3d import Axes3D\n",
    "import matplotlib.pyplot as plt\n",
    "import numpy as np\n",
    "\n",
    "# Fixing random state for reproducibility\n",
    "np.random.seed(19680801)\n",
    "\n",
    "\n",
    "def randrange(n, vmin, vmax):\n",
    "    '''\n",
    "    Helper function to make an array of random numbers having shape (n, )\n",
    "    with each number distributed Uniform(vmin, vmax).\n",
    "    '''\n",
    "    return (vmax - vmin)*np.random.rand(n) + vmin\n",
    "\n",
    "fig = plt.figure()\n",
    "ax = fig.add_subplot(111, projection='3d')\n",
    "\n",
    "n = 100\n",
    "\n",
    "# For each set of style and range settings, plot n random points in the box\n",
    "# defined by x in [23, 32], y in [0, 100], z in [zlow, zhigh].\n",
    "for c, m, zlow, zhigh in [('r', 'o', -50, -25), ('b', '^', -30, -5)]:\n",
    "    xs = coo[:,0]\n",
    "    ys = coo[:,1]\n",
    "    zs = coo[:,2]\n",
    "    ax.scatter(xs, ys, zs, c=c, marker=m)\n",
    "\n",
    "ax.set_xlabel('X Label')\n",
    "ax.set_ylabel('Y Label')\n",
    "ax.set_zlabel('Z Label')\n",
    "\n",
    "plt.show()"
   ]
  },
  {
   "cell_type": "code",
   "execution_count": null,
   "metadata": {},
   "outputs": [],
   "source": []
  }
 ],
 "metadata": {
  "kernelspec": {
   "display_name": "Python 3",
   "language": "python",
   "name": "python3"
  },
  "language_info": {
   "codemirror_mode": {
    "name": "ipython",
    "version": 3
   },
   "file_extension": ".py",
   "mimetype": "text/x-python",
   "name": "python",
   "nbconvert_exporter": "python",
   "pygments_lexer": "ipython3",
   "version": "3.5.2"
  }
 },
 "nbformat": 4,
 "nbformat_minor": 2
}
