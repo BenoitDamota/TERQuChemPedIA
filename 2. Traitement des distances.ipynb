{
 "cells": [
  {
   "cell_type": "markdown",
   "metadata": {},
   "source": [
    "## Génération d'un tableau de coordonnées fictives"
   ]
  },
  {
   "cell_type": "code",
   "execution_count": 2,
   "metadata": {},
   "outputs": [
    {
     "data": {
      "text/plain": [
       "array([-0.62100738, -0.80278759,  0.59135765,  0.43723662, -0.50545906,\n",
       "       -0.90807326, -0.16368264,  0.4612981 ,  0.66805421, -0.76304705,\n",
       "        0.75725923,  0.01481533])"
      ]
     },
     "execution_count": 2,
     "metadata": {},
     "output_type": "execute_result"
    }
   ],
   "source": [
    "import numpy as np\n",
    "\n",
    "atomes_nb = 4\n",
    "atomes_nb_incl_fictif = atomes_nb + 1\n",
    "\n",
    "# Génération d'un vecteur de position des atomes d'une molécule. Pour atome, \n",
    "# le vecteur contient 3 coordonnées x, y, z, chacune dans l'intervalle [-1,1[. \n",
    "\n",
    "positions = np.random.random_sample(atomes_nb*3) * 2 - 1\n",
    "\n",
    "positions"
   ]
  },
  {
   "cell_type": "code",
   "execution_count": null,
   "metadata": {},
   "outputs": [],
   "source": []
  },
  {
   "cell_type": "markdown",
   "metadata": {},
   "source": [
    "## Conversion des coordonnées en distances"
   ]
  },
  {
   "cell_type": "markdown",
   "metadata": {},
   "source": [
    "### Ajout d'un atome fictif"
   ]
  },
  {
   "cell_type": "code",
   "execution_count": 3,
   "metadata": {},
   "outputs": [
    {
     "data": {
      "text/plain": [
       "array([ 0.        ,  0.        ,  0.        , -0.62100738, -0.80278759,\n",
       "        0.59135765,  0.43723662, -0.50545906, -0.90807326, -0.16368264,\n",
       "        0.4612981 ,  0.66805421, -0.76304705,  0.75725923,  0.01481533])"
      ]
     },
     "execution_count": 3,
     "metadata": {},
     "output_type": "execute_result"
    }
   ],
   "source": [
    "def ajout_atome_fictif(positions):\n",
    "    \"\"\" Ajoute un atome fictif aux positions initiales. Pour le moment, le place simplement\n",
    "    aux coordonnées (0,0,0). Dans le futur, elle le placera à une position n'appartenant pas avec\n",
    "    certitude au plan formé par les trois premiers atomes. \"\"\"\n",
    "    return np.insert(positions, 0, [0,0,0])\n",
    "    \n",
    "positions = ajout_atome_fictif(positions)\n",
    "positions"
   ]
  },
  {
   "cell_type": "code",
   "execution_count": null,
   "metadata": {},
   "outputs": [],
   "source": []
  },
  {
   "cell_type": "code",
   "execution_count": null,
   "metadata": {},
   "outputs": [],
   "source": []
  },
  {
   "cell_type": "markdown",
   "metadata": {},
   "source": [
    "### Génération du vecteur distances"
   ]
  },
  {
   "cell_type": "code",
   "execution_count": 4,
   "metadata": {},
   "outputs": [
    {
     "data": {
      "text/plain": [
       "array([1.17465823, 1.12750245, 0.82818137, 1.07512875, 1.85918737,\n",
       "       1.34645495, 1.66922808, 0.        , 1.94419679, 1.97151254,\n",
       "       0.        , 0.        , 0.93463989, 0.        , 0.        ,\n",
       "       0.        ])"
      ]
     },
     "execution_count": 4,
     "metadata": {},
     "output_type": "execute_result"
    }
   ],
   "source": [
    "import math\n",
    "\n",
    "def pos_to_index(i, j):\n",
    "    \"\"\" Prend les coordonnées d'une entrée dans la matrice de distances et renvoie l'index de la distance\n",
    "    correspondante dans le vecteur de distances. \"\"\"\n",
    "    return i*4+j-1\n",
    "\n",
    "def get_atome_coord(positions, index):\n",
    "    \"\"\" Renvoie les coordonnées de l'atome ayant l'index donné \"\"\"\n",
    "    return ((positions[3*index], positions[3*index+1], positions[3*index+2]))\n",
    "    \n",
    "def calcul_dist(x1, y1, z1, x2, y2, z2):\n",
    "    \"\"\" Calcule et retourne la distance entre deux points selon leurs coordonnées en 3 dimensions\"\"\"\n",
    "\n",
    "    return math.sqrt(pow(x1 - x2, 2) + pow(y1 - y2, 2) + pow(z1 - z2, 2))\n",
    "    \n",
    "def get_val_dist_matrice(i, j, positions):\n",
    "    \"\"\" Renvoie la valeur de la matrice de distances aux coordonnées (i, j). La matrice complète n'est\n",
    "    jamais calculée. \"\"\"\n",
    "    coord_i = get_atome_coord(positions, i)  # Coordonnées de l'atome i\n",
    "    coord_j = get_atome_coord(positions, j)  # Coordonnées de l'atome j\n",
    "\n",
    "    return calcul_dist(coord_i[0], coord_i[1], coord_i[2], coord_j[0], coord_j[1], coord_j[2])\n",
    "    \n",
    "def vect_distances(positions, nb_atomes):\n",
    "    \"\"\" Renvoie le vecteur de distances à partir des coordonnées des atomes et du nombre d'atomes dans\n",
    "    la molécule. La matrice de distances complète n'est pas générée, seules les valeurs nécessaires\n",
    "    sont calculées à la demande \"\"\"\n",
    "    vect_distances = np.zeros(shape=((nb_atomes-1)*4))\n",
    "    for j in range(nb_atomes - 1):\n",
    "        k=0  # Permet d'accéder simplement à l'indice dans le tableau de sortie\n",
    "        for i in range(j+1, j+5):\n",
    "            if i < nb_atomes:\n",
    "                vect_distances[j*4+k] = get_val_dist_matrice(i, j, positions)\n",
    "            k += 1\n",
    "            \n",
    "    return vect_distances\n",
    "            \n",
    "\n",
    "vect_distances(positions, atomes_nb_incl_fictif)"
   ]
  },
  {
   "cell_type": "markdown",
   "metadata": {},
   "source": [
    "### Test de la génération du vecteur distances"
   ]
  },
  {
   "cell_type": "code",
   "execution_count": 5,
   "metadata": {},
   "outputs": [
    {
     "data": {
      "text/plain": [
       "array([1.73205081, 3.46410162, 5.19615242, 6.92820323, 1.73205081,\n",
       "       3.46410162, 5.19615242, 6.92820323, 1.73205081, 3.46410162,\n",
       "       5.19615242, 0.        , 1.73205081, 3.46410162, 0.        ,\n",
       "       0.        , 1.73205081, 0.        , 0.        , 0.        ])"
      ]
     },
     "execution_count": 5,
     "metadata": {},
     "output_type": "execute_result"
    }
   ],
   "source": [
    "# On génère un tableau de positions d'atomes\n",
    "pos = [1, 1, 1, 2, 2, 2, 3, 3, 3, 4, 4, 4, 5, 5, 5]\n",
    "\n",
    "# On ajoute l'atome fictif\n",
    "pos = ajout_atome_fictif(pos)\n",
    "\n",
    "# Valeurs attendues du vecteur distances\n",
    "# [d10, d20, d30, d40,\n",
    "#  d21, d31, d41, d51,\n",
    "#  d32, d42, d52, 0,\n",
    "#  d43, d53, 0,   0,\n",
    "#  d54, 0,   0,   0]\n",
    "#\n",
    "# d10 = 1.73...\n",
    "# d20 = 3,46...\n",
    "# d30 = 5,19...\n",
    "# d40 = 6,92...\n",
    "# d21 = 1,73...\n",
    "# d31 = 3,46...\n",
    "# d41 = 5,19...\n",
    "# d51 = 6,92...\n",
    "# d32 = 1,73...\n",
    "# d42 = 3,46...\n",
    "# d52 = 5,19...\n",
    "# d43 = 1.73...\n",
    "# d53 = 3,46...\n",
    "# d54 = 1,73...\n",
    "\n",
    "vect_distances(pos, 6)\n",
    "\n",
    "# Les valeurs de retour sont bien celles attendues"
   ]
  },
  {
   "cell_type": "code",
   "execution_count": null,
   "metadata": {},
   "outputs": [],
   "source": []
  },
  {
   "cell_type": "code",
   "execution_count": null,
   "metadata": {},
   "outputs": [],
   "source": []
  }
 ],
 "metadata": {
  "kernelspec": {
   "display_name": "Python 3",
   "language": "python",
   "name": "python3"
  },
  "language_info": {
   "codemirror_mode": {
    "name": "ipython",
    "version": 3
   },
   "file_extension": ".py",
   "mimetype": "text/x-python",
   "name": "python",
   "nbconvert_exporter": "python",
   "pygments_lexer": "ipython3",
   "version": "3.5.2"
  }
 },
 "nbformat": 4,
 "nbformat_minor": 2
}
